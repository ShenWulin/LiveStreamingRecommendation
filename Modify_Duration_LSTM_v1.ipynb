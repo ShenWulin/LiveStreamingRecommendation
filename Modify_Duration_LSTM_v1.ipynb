{
 "cells": [
  {
   "cell_type": "code",
   "execution_count": 1,
   "id": "e9528aa3",
   "metadata": {},
   "outputs": [],
   "source": [
    "import pandas as pd\n",
    "import numpy as np\n",
    "import matplotlib.pyplot as plt\n",
    "\n",
    "from sampling import *\n",
    "\n",
    "import torch.utils.data as data\n",
    "from torch.utils.data import DataLoader\n",
    "\n",
    "import torch\n",
    "import torch.optim as optim\n",
    "\n",
    "import os\n",
    "import torch\n",
    "import pickle\n",
    "from tqdm import tqdm"
   ]
  },
  {
   "cell_type": "code",
   "execution_count": 2,
   "id": "c5d07ad4",
   "metadata": {},
   "outputs": [],
   "source": [
    "import argparse\n",
    "from prettytable import PrettyTable"
   ]
  },
  {
   "cell_type": "code",
   "execution_count": 3,
   "id": "e4e0dc72",
   "metadata": {},
   "outputs": [],
   "source": [
    "def print_args(parse_args):\n",
    "    x = PrettyTable()\n",
    "    x.field_names = [\"Arg.\", \"Value\"]\n",
    "    for arg in vars(parse_args):\n",
    "        x.add_row([arg, getattr(parse_args, arg)])\n",
    "    print(x)"
   ]
  },
  {
   "cell_type": "code",
   "execution_count": 4,
   "id": "d87abbaf",
   "metadata": {},
   "outputs": [],
   "source": [
    "def arg_parse():\n",
    "        parser = argparse.ArgumentParser(description='LiveRec - Douyu')\n",
    "\n",
    "        parser.add_argument('--seed', dest='seed', type=int,\n",
    "            help='Random seed')\n",
    "\n",
    "        parser.add_argument('--batch_size', dest='batch_size', type=int,\n",
    "            help='Batch size - only active if torch is used')\n",
    "        parser.add_argument('--seq_len', dest='seq_len', type=int,\n",
    "            help='Max size of the sequence to consider')\n",
    "\n",
    "        parser.add_argument('--num_heads', dest='num_heads', type=int,\n",
    "            help='Numer of heads to use for multi-heads attention')\n",
    "        parser.add_argument('--num_heads_ctx', dest='num_heads_ctx', type=int,\n",
    "            help='Numer of heads to use for multi-heads attention CTX')\n",
    "\n",
    "\n",
    "        parser.add_argument('--dataset', dest='dataset', \n",
    "            help='Input dataset.')\n",
    " \n",
    "        parser.add_argument('--model', dest='model', type=str,\n",
    "            help='Type of the model')\n",
    "\n",
    "        parser.add_argument('--model_from', dest='mfrom', type=str,\n",
    "            help='Name of the model to load')\n",
    "        parser.add_argument('--model_to', dest='mto', type=str,\n",
    "            help='Name of the model to save')\n",
    "        parser.add_argument('--cache_dir', dest='cache_dir', type=str,\n",
    "            help='Path to save the cached preprocessd dataset')\n",
    " \n",
    "        parser.add_argument('--model_path', dest='model_path', type=str,\n",
    "            help='Path to save the model')\n",
    "        parser.add_argument('--early_stop', dest='early_stop', type=int,\n",
    "            help='Number of iteration without improvment before stop')\n",
    "        parser.add_argument('--ev_sample', dest='ev_sample', type=int,\n",
    "            help='Number of samples for the final evaluation')\n",
    "        parser.add_argument('--device', dest='device', type=str,\n",
    "            help='Pytorch device')\n",
    "\n",
    "        parser.add_argument('--lr', dest='lr', type=float,\n",
    "            help='Learning rate.')\n",
    "        parser.add_argument('--mask_prob', dest='mask_prob', type=float,\n",
    "            help='BERT mask prob.')\n",
    "        parser.add_argument('--l2', dest='l2', type=float,\n",
    "            help='Strength of L2 regularization')\n",
    "        parser.add_argument('--dim', dest='K', type=int,\n",
    "            help='Number of latent factors')\n",
    " \n",
    "        parser.add_argument('--num_iters', dest='num_iter', type=int,\n",
    "            help='Number of training iterations')\n",
    "        parser.add_argument('--num_epochs', dest='num_epochs', type=int,\n",
    "            help='Number of training epochs')\n",
    "        parser.add_argument('--num_att', dest='num_att', type=int,\n",
    "            help='Num attention module for seq encoding')\n",
    "        parser.add_argument('--num_att_ctx', dest='num_att_ctx', type=int,\n",
    "            help='Num attention for ctx module')\n",
    " \n",
    "        parser.add_argument('--topk_att', dest='topk_att', type=int,\n",
    "            help='Items to send to attentive output')\n",
    "\n",
    "        parser.add_argument('--fr_ctx', dest='fr_ctx', nargs='?',\n",
    "            const=True, default=True,\n",
    "            help='')\n",
    "        parser.add_argument('--r_rep', dest='fr_rep', nargs='?',\n",
    "            const=True, default=False,\n",
    "            help='')\n",
    "        parser.add_argument('--uniform', dest='uniform', nargs='?',\n",
    "            const=True, default=False,\n",
    "            help='')\n",
    "        parser.add_argument('--debug', dest='debug', nargs='?',\n",
    "            const=True, default=False,\n",
    "            help='')\n",
    "#         parser.add_argument('--caching', dest='caching', nargs='?',\n",
    "#             const=True, default=False,\n",
    "#             help='')\n",
    "        parser.add_argument('--caching', dest='caching', nargs='?',\n",
    "            const=True, default=True,\n",
    "            help='')\n",
    "\n",
    "        parser.set_defaults(\n",
    "                        seed=42,\n",
    "                        dataset=\"\",\n",
    "                        lr=0.0005,\n",
    "                        l2=0.1,  \n",
    "                        mask_prob=0.5,  \n",
    "                        batch_size=100, \n",
    "                        num_att=2,\n",
    "                        num_att_ctx=2,\n",
    "                        num_heads=4,\n",
    "                        num_heads_ctx=4,\n",
    "                        num_iter=200,\n",
    "                        seq_len=16,  \n",
    "                        topk_att=64,  \n",
    "                        early_stop=15,  \n",
    "                        K=64,  \n",
    "                        num_epochs=150,\n",
    "#                         model=\"LiveRec\",\n",
    "                        model=\"POP\",\n",
    "                        model_path=\"\",\n",
    "                        mto=\"liverec\",\n",
    "                        device=\"cuda\",\n",
    "                        cache_dir=\"\"\n",
    "                       )\n",
    "\n",
    "\n",
    "        args, unknown = parser.parse_known_args()\n",
    "        return args "
   ]
  },
  {
   "cell_type": "code",
   "execution_count": 5,
   "id": "3315d41f",
   "metadata": {
    "scrolled": true
   },
   "outputs": [
    {
     "name": "stdout",
     "output_type": "stream",
     "text": [
      "+---------------+---------+\n",
      "|      Arg.     |  Value  |\n",
      "+---------------+---------+\n",
      "|      seed     |    42   |\n",
      "|   batch_size  |   100   |\n",
      "|    seq_len    |    16   |\n",
      "|   num_heads   |    4    |\n",
      "| num_heads_ctx |    4    |\n",
      "|    dataset    |         |\n",
      "|     model     |   POP   |\n",
      "|     mfrom     |   None  |\n",
      "|      mto      | liverec |\n",
      "|   cache_dir   |         |\n",
      "|   model_path  |         |\n",
      "|   early_stop  |    15   |\n",
      "|   ev_sample   |   None  |\n",
      "|     device    |   cpu   |\n",
      "|       lr      |  0.0005 |\n",
      "|   mask_prob   |   0.5   |\n",
      "|       l2      |   0.1   |\n",
      "|       K       |    64   |\n",
      "|    num_iter   |   200   |\n",
      "|   num_epochs  |   150   |\n",
      "|    num_att    |    2    |\n",
      "|  num_att_ctx  |    2    |\n",
      "|    topk_att   |    64   |\n",
      "|     fr_ctx    |   True  |\n",
      "|     fr_rep    |  False  |\n",
      "|    uniform    |  False  |\n",
      "|     debug     |  False  |\n",
      "|    caching    |   True  |\n",
      "+---------------+---------+\n"
     ]
    }
   ],
   "source": [
    "args = arg_parse()\n",
    "args.device = torch.device(args.device)\n",
    "args.device = 'cpu'\n",
    "\n",
    "print_args(args)"
   ]
  },
  {
   "cell_type": "code",
   "execution_count": 6,
   "id": "63c6f849",
   "metadata": {},
   "outputs": [
    {
     "name": "stdout",
     "output_type": "stream",
     "text": [
      "Num users:  11610\n",
      "Num streamers:  47612\n",
      "Num interactions:  5378125\n"
     ]
    }
   ],
   "source": [
    "INFILE = os.path.join(args.dataset,'douyu_10k_min_duration.csv')\n",
    "#user,streamer_id,start,stop\n",
    "cols = [\"user\",\"streamer\",\"start\",\"stop\",\"duration\"]\n",
    "data_fu = pd.read_csv(INFILE, header=None, names=cols)\n",
    "# data_fu = data_fu.head(10000)\n",
    "\n",
    "\n",
    "# Add one for padding\n",
    "data_fu.user = pd.factorize(data_fu.user)[0]+1\n",
    "data_fu['streamer_raw'] = data_fu.streamer\n",
    "data_fu.streamer = pd.factorize(data_fu.streamer)[0]+1\n",
    "print(\"Num users: \", data_fu.user.nunique())\n",
    "print(\"Num streamers: \", data_fu.streamer.nunique())\n",
    "print(\"Num interactions: \", len(data_fu))"
   ]
  },
  {
   "cell_type": "code",
   "execution_count": 7,
   "id": "ba08e9b3",
   "metadata": {},
   "outputs": [
    {
     "data": {
      "text/plain": [
       "(0, 87839, 1, 87840)"
      ]
     },
     "execution_count": 7,
     "metadata": {},
     "output_type": "execute_result"
    }
   ],
   "source": [
    "data_fu.start.min(),data_fu.start.max(),data_fu.stop.min(),data_fu.stop.max()"
   ]
  },
  {
   "cell_type": "code",
   "execution_count": 8,
   "id": "523862d1",
   "metadata": {},
   "outputs": [
    {
     "data": {
      "text/plain": [
       "(11611, 47614, 2883, 87840)"
      ]
     },
     "execution_count": 8,
     "metadata": {},
     "output_type": "execute_result"
    }
   ],
   "source": [
    "args.M = data_fu.user.max()+1 # users\n",
    "args.N = data_fu.streamer.max()+2 # items\n",
    "args.D = data_fu.duration.max()+1 # duration\n",
    "args.T = data_fu.start.max()+1\n",
    "\n",
    "data_temp = data_fu.drop_duplicates(subset=['streamer','streamer_raw'])\n",
    "umap      = dict(zip(data_temp.streamer_raw.tolist(),data_temp.streamer.tolist()))\n",
    "\n",
    "args.M ,args.N ,args.D,args.T"
   ]
  },
  {
   "cell_type": "code",
   "execution_count": 9,
   "id": "5976772a",
   "metadata": {},
   "outputs": [
    {
     "name": "stdout",
     "output_type": "stream",
     "text": [
      "Num timesteps:  87840\n"
     ]
    }
   ],
   "source": [
    "# Splitting and caching\n",
    "max_step = max(data_fu.start.max(),data_fu.stop.max())\n",
    "print(\"Num timesteps: \", max_step)\n",
    "args.max_step = max_step\n",
    "args.pivot_1  = max_step-500\n",
    "args.pivot_2  = max_step-250"
   ]
  },
  {
   "cell_type": "code",
   "execution_count": 10,
   "id": "1e28e984",
   "metadata": {},
   "outputs": [
    {
     "name": "stdout",
     "output_type": "stream",
     "text": [
      "caching availability\n",
      "max_avail:  446\n"
     ]
    }
   ],
   "source": [
    "print(\"caching availability\")\n",
    "ts = {}\n",
    "max_avail = 0\n",
    "for s in range(max_step):\n",
    "    all_av = data_fu[(data_fu.start<=s) & (data_fu.stop>s)].streamer.unique().tolist()\n",
    "    ts[s] = all_av\n",
    "    max_avail = max(max_avail,len(ts[s]))\n",
    "args.max_avail = max_avail\n",
    "args.ts = ts\n",
    "print(\"max_avail: \", max_avail)\n",
    "\n",
    "# ts.items()"
   ]
  },
  {
   "cell_type": "code",
   "execution_count": 11,
   "id": "cfda2456",
   "metadata": {},
   "outputs": [
    {
     "data": {
      "text/plain": [
       "torch.Size([87840, 446])"
      ]
     },
     "execution_count": 11,
     "metadata": {},
     "output_type": "execute_result"
    }
   ],
   "source": [
    "# Compute availability matrix of size (num_timesteps x max_available)\n",
    "max_av   = max([len(v) for k,v in args.ts.items()])\n",
    "max_step = max([k for k,v in args.ts.items()])+1\n",
    "av_tens = torch.zeros(max_step,max_av).type(torch.long)\n",
    "for k,v in args.ts.items():\n",
    "    av_tens[k,:len(v)] = torch.LongTensor(v)\n",
    "args.av_tens = av_tens.to(args.device)\n",
    "\n",
    "args.av_tens.size()"
   ]
  },
  {
   "cell_type": "code",
   "execution_count": 12,
   "id": "65f74c45",
   "metadata": {
    "scrolled": true
   },
   "outputs": [
    {
     "data": {
      "text/html": [
       "<div>\n",
       "<style scoped>\n",
       "    .dataframe tbody tr th:only-of-type {\n",
       "        vertical-align: middle;\n",
       "    }\n",
       "\n",
       "    .dataframe tbody tr th {\n",
       "        vertical-align: top;\n",
       "    }\n",
       "\n",
       "    .dataframe thead th {\n",
       "        text-align: right;\n",
       "    }\n",
       "</style>\n",
       "<table border=\"1\" class=\"dataframe\">\n",
       "  <thead>\n",
       "    <tr style=\"text-align: right;\">\n",
       "      <th></th>\n",
       "      <th>user</th>\n",
       "      <th>streamer</th>\n",
       "      <th>start</th>\n",
       "      <th>stop</th>\n",
       "      <th>duration</th>\n",
       "      <th>streamer_raw</th>\n",
       "    </tr>\n",
       "  </thead>\n",
       "  <tbody>\n",
       "    <tr>\n",
       "      <th>0</th>\n",
       "      <td>1</td>\n",
       "      <td>1</td>\n",
       "      <td>81824</td>\n",
       "      <td>81825</td>\n",
       "      <td>2</td>\n",
       "      <td>1211089da67</td>\n",
       "    </tr>\n",
       "    <tr>\n",
       "      <th>1</th>\n",
       "      <td>1</td>\n",
       "      <td>2</td>\n",
       "      <td>73720</td>\n",
       "      <td>73721</td>\n",
       "      <td>1</td>\n",
       "      <td>eb5bf69ab60</td>\n",
       "    </tr>\n",
       "    <tr>\n",
       "      <th>2</th>\n",
       "      <td>1</td>\n",
       "      <td>1</td>\n",
       "      <td>81825</td>\n",
       "      <td>81834</td>\n",
       "      <td>18</td>\n",
       "      <td>1211089da67</td>\n",
       "    </tr>\n",
       "    <tr>\n",
       "      <th>3</th>\n",
       "      <td>1</td>\n",
       "      <td>2</td>\n",
       "      <td>73673</td>\n",
       "      <td>73676</td>\n",
       "      <td>4</td>\n",
       "      <td>eb5bf69ab60</td>\n",
       "    </tr>\n",
       "    <tr>\n",
       "      <th>4</th>\n",
       "      <td>1</td>\n",
       "      <td>1</td>\n",
       "      <td>81745</td>\n",
       "      <td>81750</td>\n",
       "      <td>9</td>\n",
       "      <td>1211089da67</td>\n",
       "    </tr>\n",
       "    <tr>\n",
       "      <th>...</th>\n",
       "      <td>...</td>\n",
       "      <td>...</td>\n",
       "      <td>...</td>\n",
       "      <td>...</td>\n",
       "      <td>...</td>\n",
       "      <td>...</td>\n",
       "    </tr>\n",
       "    <tr>\n",
       "      <th>5378120</th>\n",
       "      <td>11610</td>\n",
       "      <td>8849</td>\n",
       "      <td>21366</td>\n",
       "      <td>21368</td>\n",
       "      <td>2</td>\n",
       "      <td>80ec36cddc2</td>\n",
       "    </tr>\n",
       "    <tr>\n",
       "      <th>5378121</th>\n",
       "      <td>11610</td>\n",
       "      <td>8849</td>\n",
       "      <td>21364</td>\n",
       "      <td>21367</td>\n",
       "      <td>4</td>\n",
       "      <td>80ec36cddc2</td>\n",
       "    </tr>\n",
       "    <tr>\n",
       "      <th>5378122</th>\n",
       "      <td>11610</td>\n",
       "      <td>8849</td>\n",
       "      <td>21319</td>\n",
       "      <td>21332</td>\n",
       "      <td>24</td>\n",
       "      <td>80ec36cddc2</td>\n",
       "    </tr>\n",
       "    <tr>\n",
       "      <th>5378123</th>\n",
       "      <td>11610</td>\n",
       "      <td>8849</td>\n",
       "      <td>21362</td>\n",
       "      <td>21365</td>\n",
       "      <td>4</td>\n",
       "      <td>80ec36cddc2</td>\n",
       "    </tr>\n",
       "    <tr>\n",
       "      <th>5378124</th>\n",
       "      <td>11610</td>\n",
       "      <td>8849</td>\n",
       "      <td>21303</td>\n",
       "      <td>21312</td>\n",
       "      <td>16</td>\n",
       "      <td>80ec36cddc2</td>\n",
       "    </tr>\n",
       "  </tbody>\n",
       "</table>\n",
       "<p>5378125 rows × 6 columns</p>\n",
       "</div>"
      ],
      "text/plain": [
       "          user  streamer  start   stop  duration streamer_raw\n",
       "0            1         1  81824  81825         2  1211089da67\n",
       "1            1         2  73720  73721         1  eb5bf69ab60\n",
       "2            1         1  81825  81834        18  1211089da67\n",
       "3            1         2  73673  73676         4  eb5bf69ab60\n",
       "4            1         1  81745  81750         9  1211089da67\n",
       "...        ...       ...    ...    ...       ...          ...\n",
       "5378120  11610      8849  21366  21368         2  80ec36cddc2\n",
       "5378121  11610      8849  21364  21367         4  80ec36cddc2\n",
       "5378122  11610      8849  21319  21332        24  80ec36cddc2\n",
       "5378123  11610      8849  21362  21365         4  80ec36cddc2\n",
       "5378124  11610      8849  21303  21312        16  80ec36cddc2\n",
       "\n",
       "[5378125 rows x 6 columns]"
      ]
     },
     "execution_count": 12,
     "metadata": {},
     "output_type": "execute_result"
    }
   ],
   "source": [
    "data_fu"
   ]
  },
  {
   "cell_type": "code",
   "execution_count": null,
   "id": "060a280a",
   "metadata": {},
   "outputs": [],
   "source": []
  },
  {
   "cell_type": "code",
   "execution_count": 13,
   "id": "a41cdb34",
   "metadata": {},
   "outputs": [],
   "source": [
    "def custom_collate(batch,args):\n",
    "    # returns a [batch x seq x feats] tensor\n",
    "    # feats: [padded_positions,positions,inputs_ts,items,users,targets,targets_ts]\n",
    "\n",
    "    bs = len(batch)\n",
    "    feat_len = len(batch[0])\n",
    "    batch_seq = torch.zeros(bs,args.seq_len, feat_len, dtype=torch.long)\n",
    "    for ib,b in enumerate(batch):\n",
    "        for ifeat,feat in enumerate(b):\n",
    "            batch_seq[ib,b[0],ifeat] = feat\n",
    "    return batch_seq"
   ]
  },
  {
   "cell_type": "code",
   "execution_count": 14,
   "id": "3dce8fd5",
   "metadata": {},
   "outputs": [],
   "source": [
    "class SequenceDataset(data.Dataset):\n",
    "    def __init__(self, data):\n",
    "        self.data = data\n",
    "\n",
    "    def __len__(self):\n",
    "        return len(self.data)\n",
    "\n",
    "    def __getitem__(self, idx):\n",
    "        return self.data[idx]\n",
    "\n",
    "def collate_fn_padd(batch):\n",
    "    '''\n",
    "    Padds batch of variable length\n",
    "\n",
    "    note: it converts things ToTensor manually here since the ToTensor transform\n",
    "    assume it takes in images rather than arbitrary tensors.\n",
    "    '''\n",
    "    ## get sequence lengths\n",
    "    lengths = torch.tensor([ t.shape[0] for t in batch ]).to(device)\n",
    "    ## padd\n",
    "    batch = [ torch.Tensor(t).to(device) for t in batch ]\n",
    "    batch = torch.nn.utils.rnn.pad_sequence(batch)\n",
    "    ## compute mask\n",
    "    mask = (batch != 0).to(device)\n",
    "    return batch, lengths, mask\n",
    "\n",
    "def get_sequences(_data, _p1, _p2, args, max_u=int(10e9)):\n",
    "    data_list = []\n",
    "\n",
    "    _data = _data[_data.stop<_p2].copy()\n",
    "    \n",
    "    grouped = _data.groupby('user')\n",
    "    for user_id, group in tqdm(grouped):\n",
    "        group = group.sort_values('start')\n",
    "        group = group.tail(args.seq_len+1)\n",
    "        if len(group)<2: continue\n",
    "\n",
    "        group = group.reset_index(drop=True) \n",
    "        \n",
    "        # Get last interaction\n",
    "        last_el = group.tail(1)\n",
    "        yt = last_el.start.values[0]\n",
    "        group.drop(last_el.index,inplace=True)\n",
    "\n",
    "        # avoid including train in test/validation\n",
    "        if yt < _p1 or yt >= _p2: continue\n",
    "\n",
    "        padlen = args.seq_len - len(group)\n",
    "\n",
    "        # sequence input features\n",
    "        positions  = torch.LongTensor(group.index.values)\n",
    "        inputs_ts  = torch.LongTensor(group.start.values)\n",
    "        items      = torch.LongTensor(group['streamer'].values)\n",
    "        duration   = torch.LongTensor(group['duration'].values)\n",
    "        users      = torch.LongTensor(group.user.values)\n",
    "        bpad       = torch.LongTensor(group.index.values + padlen)\n",
    "#         diff_du    = torch.LongTensor(np.diff(np.array(inputs_ts[1:].tolist() + [last_el.start.values[0]])))\n",
    "\n",
    "        # sequence output features\n",
    "        targets    = torch.LongTensor(items[1:].tolist() + [last_el.streamer.values[0]])\n",
    "        targets_ts = torch.LongTensor(inputs_ts[1:].tolist() + [last_el.start.values[0]])\n",
    "\n",
    "        data_list.append([bpad,positions,inputs_ts,items,users,targets,targets_ts,duration])\n",
    "#         data_list.append([bpad,positions,inputs_ts,items,users,targets,targets_ts,duration,diff_du])\n",
    "        # stop if user limit is reached\n",
    "        if len(data_list)>max_u: break\n",
    "\n",
    "    return SequenceDataset(data_list)"
   ]
  },
  {
   "cell_type": "code",
   "execution_count": null,
   "id": "39e8cf6c",
   "metadata": {},
   "outputs": [],
   "source": []
  },
  {
   "cell_type": "code",
   "execution_count": 15,
   "id": "99884a2b",
   "metadata": {},
   "outputs": [],
   "source": [
    "cache_tr = os.path.join(args.cache_dir,\"douyu_10k_min_dur_tr.p\")\n",
    "cache_te = os.path.join(args.cache_dir,\"douyu_10k_min_dur_te.p\")\n",
    "cache_va = os.path.join(args.cache_dir,\"douyu_10k_min_dur_val.p\")\n",
    "\n",
    "mu = int(10e9)"
   ]
  },
  {
   "cell_type": "code",
   "execution_count": 18,
   "id": "9702a249",
   "metadata": {},
   "outputs": [
    {
     "name": "stderr",
     "output_type": "stream",
     "text": [
      "100%|██████████████████████████████████████████████████████████████████████████| 11591/11591 [00:06<00:00, 1777.98it/s]\n",
      "100%|██████████████████████████████████████████████████████████████████████████| 11600/11600 [00:05<00:00, 2192.64it/s]\n",
      "100%|██████████████████████████████████████████████████████████████████████████| 11610/11610 [00:04<00:00, 2348.07it/s]\n"
     ]
    }
   ],
   "source": [
    "datalist_tr = get_sequences(data_fu,0,args.pivot_1,args,mu)\n",
    "datalist_va = get_sequences(data_fu,args.pivot_1,args.pivot_2,args,mu)\n",
    "datalist_te = get_sequences(data_fu,args.pivot_2,max_step,args,mu)\n",
    "    \n",
    "pickle.dump(datalist_te, open(cache_te, \"wb\"))\n",
    "pickle.dump(datalist_tr, open(cache_tr, \"wb\"))\n",
    "pickle.dump(datalist_va, open(cache_va, \"wb\"))"
   ]
  },
  {
   "cell_type": "code",
   "execution_count": 16,
   "id": "f790ff31",
   "metadata": {},
   "outputs": [],
   "source": [
    "datalist_tr = pickle.load(open(cache_tr, \"rb\"))\n",
    "datalist_va = pickle.load(open(cache_va, \"rb\"))\n",
    "datalist_te = pickle.load(open(cache_te, \"rb\"))"
   ]
  },
  {
   "cell_type": "code",
   "execution_count": 17,
   "id": "13367fd0",
   "metadata": {},
   "outputs": [],
   "source": [
    "train_loader = DataLoader(datalist_tr,batch_size=args.batch_size,\n",
    "                              collate_fn=lambda x: custom_collate(x,args))\n",
    "val_loader   = DataLoader(datalist_va,batch_size=args.batch_size,\n",
    "                              collate_fn=lambda x: custom_collate(x,args))\n",
    "test_loader  = DataLoader(datalist_te,batch_size=args.batch_size,\n",
    "                              collate_fn=lambda x: custom_collate(x,args))"
   ]
  },
  {
   "cell_type": "code",
   "execution_count": null,
   "id": "4d37663e",
   "metadata": {},
   "outputs": [],
   "source": []
  },
  {
   "cell_type": "code",
   "execution_count": 18,
   "id": "4ef06533",
   "metadata": {},
   "outputs": [],
   "source": [
    "from eval import *\n",
    "from data import *\n",
    "from modify_duration_lstm_v1 import *"
   ]
  },
  {
   "cell_type": "code",
   "execution_count": 22,
   "id": "7142f8bc",
   "metadata": {},
   "outputs": [],
   "source": [
    "# args.lr = 0.001\n",
    "# args.l2 = 0.001"
   ]
  },
  {
   "cell_type": "code",
   "execution_count": 23,
   "id": "aebe2c61",
   "metadata": {},
   "outputs": [],
   "source": [
    "# args.r_rep = args.fr_rep"
   ]
  },
  {
   "cell_type": "code",
   "execution_count": 19,
   "id": "e5321592",
   "metadata": {},
   "outputs": [],
   "source": [
    "args.model='LiveRec_dur_lstm_v1'\n",
    "MPATH7,MODEL7 = get_model_type_new(args)\n",
    "MPATH7,MODEL7\n",
    "model7 = MODEL7(args).to(args.device)\n",
    "optimizer = optim.Adam(model7.parameters(),lr=args.lr,weight_decay=args.l2)\n",
    "\n",
    "best_val = 0.0\n",
    "best_max = args.early_stop\n",
    "best_cnt = best_max"
   ]
  },
  {
   "cell_type": "code",
   "execution_count": 21,
   "id": "f766d3a8",
   "metadata": {
    "scrolled": true
   },
   "outputs": [
    {
     "name": "stdout",
     "output_type": "stream",
     "text": [
      "training...\n"
     ]
    },
    {
     "name": "stderr",
     "output_type": "stream",
     "text": [
      "100%|████████████████████████████████████████████████████████████████████████████████| 114/114 [02:17<00:00,  1.20s/it]\n",
      "17it [00:08,  2.05it/s]\n"
     ]
    },
    {
     "name": "stdout",
     "output_type": "stream",
     "text": [
      "Epoch: 000, Loss: 1.59144\n",
      "all: h@1: 0.15009 h@5: 0.28310 h@10: 0.34228 ndcg@1: 0.15009 ndcg@5: 0.21985 ndcg@10: 0.23891\n",
      "new: h@1: 0.01196 h@5: 0.05680 h@10: 0.09417 ndcg@1: 0.01196 ndcg@5: 0.03394 ndcg@10: 0.04611\n",
      "rep: h@1: 0.24536 h@5: 0.43918 h@10: 0.51340 ndcg@1: 0.24536 ndcg@5: 0.34807 ndcg@10: 0.37189\n",
      "ratio:  0.5918242830994509\n"
     ]
    },
    {
     "name": "stderr",
     "output_type": "stream",
     "text": [
      "100%|████████████████████████████████████████████████████████████████████████████████| 114/114 [02:15<00:00,  1.19s/it]\n",
      "17it [00:08,  2.02it/s]\n"
     ]
    },
    {
     "name": "stdout",
     "output_type": "stream",
     "text": [
      "Epoch: 001, Loss: 1.32971\n",
      "all: h@1: 0.12874 h@5: 0.28676 h@10: 0.35326 ndcg@1: 0.12874 ndcg@5: 0.21077 ndcg@10: 0.23227\n",
      "new: h@1: 0.01196 h@5: 0.06876 h@10: 0.11360 ndcg@1: 0.01196 ndcg@5: 0.04059 ndcg@10: 0.05491\n",
      "rep: h@1: 0.20928 h@5: 0.43711 h@10: 0.51856 ndcg@1: 0.20928 ndcg@5: 0.32814 ndcg@10: 0.35459\n",
      "ratio:  0.5918242830994509\n"
     ]
    },
    {
     "name": "stderr",
     "output_type": "stream",
     "text": [
      "100%|████████████████████████████████████████████████████████████████████████████████| 114/114 [02:15<00:00,  1.19s/it]\n",
      "17it [00:08,  2.04it/s]\n"
     ]
    },
    {
     "name": "stdout",
     "output_type": "stream",
     "text": [
      "Epoch: 002, Loss: 1.27541\n",
      "all: h@1: 0.13179 h@5: 0.30262 h@10: 0.36486 ndcg@1: 0.13179 ndcg@5: 0.22118 ndcg@10: 0.24155\n",
      "new: h@1: 0.01345 h@5: 0.07474 h@10: 0.11510 ndcg@1: 0.01345 ndcg@5: 0.04508 ndcg@10: 0.05810\n",
      "rep: h@1: 0.21340 h@5: 0.45979 h@10: 0.53711 ndcg@1: 0.21340 ndcg@5: 0.34263 ndcg@10: 0.36808\n",
      "ratio:  0.5918242830994509\n"
     ]
    },
    {
     "name": "stderr",
     "output_type": "stream",
     "text": [
      "100%|████████████████████████████████████████████████████████████████████████████████| 114/114 [02:15<00:00,  1.19s/it]\n",
      "17it [00:08,  2.02it/s]\n"
     ]
    },
    {
     "name": "stdout",
     "output_type": "stream",
     "text": [
      "Epoch: 003, Loss: 1.25620\n",
      "all: h@1: 0.13667 h@5: 0.30689 h@10: 0.36303 ndcg@1: 0.13667 ndcg@5: 0.22613 ndcg@10: 0.24480\n",
      "new: h@1: 0.01495 h@5: 0.07623 h@10: 0.11809 ndcg@1: 0.01495 ndcg@5: 0.04667 ndcg@10: 0.06041\n",
      "rep: h@1: 0.22062 h@5: 0.46598 h@10: 0.53196 ndcg@1: 0.22062 ndcg@5: 0.34990 ndcg@10: 0.37197\n",
      "ratio:  0.5918242830994509\n"
     ]
    },
    {
     "name": "stderr",
     "output_type": "stream",
     "text": [
      "100%|████████████████████████████████████████████████████████████████████████████████| 114/114 [02:17<00:00,  1.20s/it]\n",
      "17it [00:08,  2.03it/s]\n"
     ]
    },
    {
     "name": "stdout",
     "output_type": "stream",
     "text": [
      "Epoch: 004, Loss: 1.24409\n",
      "all: h@1: 0.14582 h@5: 0.31849 h@10: 0.37401 ndcg@1: 0.14582 ndcg@5: 0.23755 ndcg@10: 0.25565\n",
      "new: h@1: 0.01644 h@5: 0.08221 h@10: 0.12257 ndcg@1: 0.01644 ndcg@5: 0.05032 ndcg@10: 0.06348\n",
      "rep: h@1: 0.23505 h@5: 0.48144 h@10: 0.54742 ndcg@1: 0.23505 ndcg@5: 0.36669 ndcg@10: 0.38819\n",
      "ratio:  0.5918242830994509\n"
     ]
    },
    {
     "name": "stderr",
     "output_type": "stream",
     "text": [
      "100%|████████████████████████████████████████████████████████████████████████████████| 114/114 [02:16<00:00,  1.19s/it]\n",
      "17it [00:08,  1.99it/s]\n"
     ]
    },
    {
     "name": "stdout",
     "output_type": "stream",
     "text": [
      "Epoch: 005, Loss: 1.23482\n",
      "all: h@1: 0.15192 h@5: 0.32520 h@10: 0.37706 ndcg@1: 0.15192 ndcg@5: 0.24324 ndcg@10: 0.26021\n",
      "new: h@1: 0.01644 h@5: 0.08670 h@10: 0.13154 ndcg@1: 0.01644 ndcg@5: 0.05175 ndcg@10: 0.06612\n",
      "rep: h@1: 0.24536 h@5: 0.48969 h@10: 0.54639 ndcg@1: 0.24536 ndcg@5: 0.37531 ndcg@10: 0.39408\n",
      "ratio:  0.5918242830994509\n"
     ]
    },
    {
     "name": "stderr",
     "output_type": "stream",
     "text": [
      "100%|████████████████████████████████████████████████████████████████████████████████| 114/114 [02:14<00:00,  1.18s/it]\n",
      "17it [00:08,  2.07it/s]\n"
     ]
    },
    {
     "name": "stdout",
     "output_type": "stream",
     "text": [
      "Epoch: 006, Loss: 1.22523\n",
      "all: h@1: 0.16718 h@5: 0.33069 h@10: 0.38316 ndcg@1: 0.16718 ndcg@5: 0.25297 ndcg@10: 0.27019\n",
      "new: h@1: 0.01943 h@5: 0.08819 h@10: 0.13602 ndcg@1: 0.01943 ndcg@5: 0.05356 ndcg@10: 0.06893\n",
      "rep: h@1: 0.26907 h@5: 0.49794 h@10: 0.55361 ndcg@1: 0.26907 ndcg@5: 0.39050 ndcg@10: 0.40900\n",
      "ratio:  0.5918242830994509\n"
     ]
    },
    {
     "name": "stderr",
     "output_type": "stream",
     "text": [
      "100%|████████████████████████████████████████████████████████████████████████████████| 114/114 [02:12<00:00,  1.17s/it]\n",
      "17it [00:08,  2.05it/s]\n"
     ]
    },
    {
     "name": "stdout",
     "output_type": "stream",
     "text": [
      "Epoch: 007, Loss: 1.22081\n",
      "all: h@1: 0.16534 h@5: 0.33801 h@10: 0.38560 ndcg@1: 0.16534 ndcg@5: 0.25664 ndcg@10: 0.27221\n",
      "new: h@1: 0.01794 h@5: 0.08819 h@10: 0.13453 ndcg@1: 0.01794 ndcg@5: 0.05275 ndcg@10: 0.06767\n",
      "rep: h@1: 0.26701 h@5: 0.51031 h@10: 0.55876 ndcg@1: 0.26701 ndcg@5: 0.39727 ndcg@10: 0.41328\n",
      "ratio:  0.5918242830994509\n"
     ]
    },
    {
     "name": "stderr",
     "output_type": "stream",
     "text": [
      "100%|████████████████████████████████████████████████████████████████████████████████| 114/114 [02:13<00:00,  1.18s/it]\n",
      "17it [00:08,  2.06it/s]\n"
     ]
    },
    {
     "name": "stdout",
     "output_type": "stream",
     "text": [
      "Epoch: 008, Loss: 1.21606\n",
      "all: h@1: 0.17816 h@5: 0.34289 h@10: 0.39475 ndcg@1: 0.17816 ndcg@5: 0.26422 ndcg@10: 0.28111\n",
      "new: h@1: 0.01794 h@5: 0.09118 h@10: 0.13752 ndcg@1: 0.01794 ndcg@5: 0.05396 ndcg@10: 0.06887\n",
      "rep: h@1: 0.28866 h@5: 0.51649 h@10: 0.57216 ndcg@1: 0.28866 ndcg@5: 0.40923 ndcg@10: 0.42749\n",
      "ratio:  0.5918242830994509\n"
     ]
    },
    {
     "name": "stderr",
     "output_type": "stream",
     "text": [
      "100%|████████████████████████████████████████████████████████████████████████████████| 114/114 [02:16<00:00,  1.20s/it]\n",
      "17it [00:08,  2.05it/s]\n"
     ]
    },
    {
     "name": "stdout",
     "output_type": "stream",
     "text": [
      "Epoch: 009, Loss: 1.20869\n",
      "all: h@1: 0.17938 h@5: 0.34289 h@10: 0.39719 ndcg@1: 0.17938 ndcg@5: 0.26702 ndcg@10: 0.28479\n",
      "new: h@1: 0.01495 h@5: 0.09268 h@10: 0.14051 ndcg@1: 0.01495 ndcg@5: 0.05363 ndcg@10: 0.06912\n",
      "rep: h@1: 0.29278 h@5: 0.51546 h@10: 0.57423 ndcg@1: 0.29278 ndcg@5: 0.41419 ndcg@10: 0.43354\n",
      "ratio:  0.5918242830994509\n"
     ]
    },
    {
     "name": "stderr",
     "output_type": "stream",
     "text": [
      "100%|████████████████████████████████████████████████████████████████████████████████| 114/114 [02:18<00:00,  1.22s/it]\n",
      "17it [00:08,  2.07it/s]\n"
     ]
    },
    {
     "name": "stdout",
     "output_type": "stream",
     "text": [
      "Epoch: 010, Loss: 1.20230\n",
      "all: h@1: 0.19097 h@5: 0.35143 h@10: 0.40085 ndcg@1: 0.19097 ndcg@5: 0.27518 ndcg@10: 0.29128\n",
      "new: h@1: 0.01495 h@5: 0.09716 h@10: 0.14200 ndcg@1: 0.01495 ndcg@5: 0.05576 ndcg@10: 0.07025\n",
      "rep: h@1: 0.31237 h@5: 0.52680 h@10: 0.57938 ndcg@1: 0.31237 ndcg@5: 0.42651 ndcg@10: 0.44372\n",
      "ratio:  0.5918242830994509\n"
     ]
    },
    {
     "name": "stderr",
     "output_type": "stream",
     "text": [
      "100%|████████████████████████████████████████████████████████████████████████████████| 114/114 [02:15<00:00,  1.19s/it]\n",
      "17it [00:08,  2.01it/s]\n"
     ]
    },
    {
     "name": "stdout",
     "output_type": "stream",
     "text": [
      "Epoch: 011, Loss: 1.19563\n",
      "all: h@1: 0.19280 h@5: 0.35448 h@10: 0.40390 ndcg@1: 0.19280 ndcg@5: 0.27829 ndcg@10: 0.29437\n",
      "new: h@1: 0.01794 h@5: 0.09268 h@10: 0.14499 ndcg@1: 0.01794 ndcg@5: 0.05450 ndcg@10: 0.07139\n",
      "rep: h@1: 0.31340 h@5: 0.53505 h@10: 0.58247 ndcg@1: 0.31340 ndcg@5: 0.43263 ndcg@10: 0.44816\n",
      "ratio:  0.5918242830994509\n"
     ]
    },
    {
     "name": "stderr",
     "output_type": "stream",
     "text": [
      "100%|████████████████████████████████████████████████████████████████████████████████| 114/114 [02:17<00:00,  1.21s/it]\n",
      "17it [00:08,  1.98it/s]\n"
     ]
    },
    {
     "name": "stdout",
     "output_type": "stream",
     "text": [
      "Epoch: 012, Loss: 1.19296\n",
      "all: h@1: 0.20012 h@5: 0.35326 h@10: 0.40574 ndcg@1: 0.20012 ndcg@5: 0.28112 ndcg@10: 0.29833\n",
      "new: h@1: 0.01495 h@5: 0.09417 h@10: 0.14649 ndcg@1: 0.01495 ndcg@5: 0.05421 ndcg@10: 0.07091\n",
      "rep: h@1: 0.32784 h@5: 0.53196 h@10: 0.58454 ndcg@1: 0.32784 ndcg@5: 0.43762 ndcg@10: 0.45518\n",
      "ratio:  0.5918242830994509\n"
     ]
    },
    {
     "name": "stderr",
     "output_type": "stream",
     "text": [
      "100%|████████████████████████████████████████████████████████████████████████████████| 114/114 [02:14<00:00,  1.18s/it]\n",
      "17it [00:08,  2.06it/s]\n"
     ]
    },
    {
     "name": "stdout",
     "output_type": "stream",
     "text": [
      "Epoch: 013, Loss: 1.19000\n",
      "all: h@1: 0.20500 h@5: 0.35570 h@10: 0.40513 ndcg@1: 0.20500 ndcg@5: 0.28601 ndcg@10: 0.30207\n",
      "new: h@1: 0.01644 h@5: 0.09567 h@10: 0.14350 ndcg@1: 0.01644 ndcg@5: 0.05551 ndcg@10: 0.07093\n",
      "rep: h@1: 0.33505 h@5: 0.53505 h@10: 0.58557 ndcg@1: 0.33505 ndcg@5: 0.44499 ndcg@10: 0.46149\n",
      "ratio:  0.5918242830994509\n"
     ]
    },
    {
     "name": "stderr",
     "output_type": "stream",
     "text": [
      "100%|████████████████████████████████████████████████████████████████████████████████| 114/114 [02:12<00:00,  1.17s/it]\n",
      "17it [00:08,  2.06it/s]\n"
     ]
    },
    {
     "name": "stdout",
     "output_type": "stream",
     "text": [
      "Epoch: 014, Loss: 1.18482\n",
      "all: h@1: 0.20927 h@5: 0.35815 h@10: 0.40940 ndcg@1: 0.20927 ndcg@5: 0.28834 ndcg@10: 0.30510\n",
      "new: h@1: 0.01644 h@5: 0.09567 h@10: 0.14948 ndcg@1: 0.01644 ndcg@5: 0.05516 ndcg@10: 0.07255\n",
      "rep: h@1: 0.34227 h@5: 0.53918 h@10: 0.58866 ndcg@1: 0.34227 ndcg@5: 0.44917 ndcg@10: 0.46548\n",
      "ratio:  0.5918242830994509\n"
     ]
    },
    {
     "name": "stderr",
     "output_type": "stream",
     "text": [
      "100%|████████████████████████████████████████████████████████████████████████████████| 114/114 [02:13<00:00,  1.17s/it]\n",
      "17it [00:08,  2.05it/s]\n"
     ]
    },
    {
     "name": "stdout",
     "output_type": "stream",
     "text": [
      "Epoch: 015, Loss: 1.18041\n",
      "all: h@1: 0.21599 h@5: 0.36486 h@10: 0.40879 ndcg@1: 0.21599 ndcg@5: 0.29583 ndcg@10: 0.31025\n",
      "new: h@1: 0.01196 h@5: 0.09865 h@10: 0.14200 ndcg@1: 0.01196 ndcg@5: 0.05457 ndcg@10: 0.06865\n",
      "rep: h@1: 0.35670 h@5: 0.54845 h@10: 0.59278 ndcg@1: 0.35670 ndcg@5: 0.46223 ndcg@10: 0.47688\n",
      "ratio:  0.5918242830994509\n"
     ]
    },
    {
     "name": "stderr",
     "output_type": "stream",
     "text": [
      "100%|████████████████████████████████████████████████████████████████████████████████| 114/114 [02:13<00:00,  1.17s/it]\n",
      "17it [00:08,  2.06it/s]\n"
     ]
    },
    {
     "name": "stdout",
     "output_type": "stream",
     "text": [
      "Epoch: 016, Loss: 1.17555\n",
      "all: h@1: 0.22087 h@5: 0.36913 h@10: 0.41794 ndcg@1: 0.22087 ndcg@5: 0.29919 ndcg@10: 0.31506\n",
      "new: h@1: 0.01495 h@5: 0.09716 h@10: 0.15247 ndcg@1: 0.01495 ndcg@5: 0.05551 ndcg@10: 0.07318\n",
      "rep: h@1: 0.36289 h@5: 0.55670 h@10: 0.60103 ndcg@1: 0.36289 ndcg@5: 0.46726 ndcg@10: 0.48187\n",
      "ratio:  0.5918242830994509\n"
     ]
    },
    {
     "name": "stderr",
     "output_type": "stream",
     "text": [
      "100%|████████████████████████████████████████████████████████████████████████████████| 114/114 [02:15<00:00,  1.19s/it]\n",
      "17it [00:08,  2.06it/s]\n"
     ]
    },
    {
     "name": "stdout",
     "output_type": "stream",
     "text": [
      "Epoch: 017, Loss: 1.17328\n",
      "all: h@1: 0.22880 h@5: 0.37584 h@10: 0.41794 ndcg@1: 0.22880 ndcg@5: 0.30688 ndcg@10: 0.32054\n",
      "new: h@1: 0.01943 h@5: 0.10463 h@10: 0.14948 ndcg@1: 0.01943 ndcg@5: 0.06012 ndcg@10: 0.07437\n",
      "rep: h@1: 0.37320 h@5: 0.56289 h@10: 0.60309 ndcg@1: 0.37320 ndcg@5: 0.47706 ndcg@10: 0.49032\n",
      "ratio:  0.5918242830994509\n"
     ]
    },
    {
     "name": "stderr",
     "output_type": "stream",
     "text": [
      "100%|████████████████████████████████████████████████████████████████████████████████| 114/114 [02:13<00:00,  1.17s/it]\n",
      "17it [00:08,  2.05it/s]\n"
     ]
    },
    {
     "name": "stdout",
     "output_type": "stream",
     "text": [
      "Epoch: 018, Loss: 1.17102\n",
      "all: h@1: 0.22880 h@5: 0.37828 h@10: 0.42526 ndcg@1: 0.22880 ndcg@5: 0.30857 ndcg@10: 0.32366\n",
      "new: h@1: 0.01644 h@5: 0.10164 h@10: 0.15546 ndcg@1: 0.01644 ndcg@5: 0.05781 ndcg@10: 0.07493\n",
      "rep: h@1: 0.37526 h@5: 0.56907 h@10: 0.61134 ndcg@1: 0.37526 ndcg@5: 0.48152 ndcg@10: 0.49520\n",
      "ratio:  0.5918242830994509\n"
     ]
    },
    {
     "name": "stderr",
     "output_type": "stream",
     "text": [
      "100%|████████████████████████████████████████████████████████████████████████████████| 114/114 [02:13<00:00,  1.17s/it]\n",
      "17it [00:08,  2.06it/s]\n"
     ]
    },
    {
     "name": "stdout",
     "output_type": "stream",
     "text": [
      "Epoch: 019, Loss: 1.16743\n",
      "all: h@1: 0.23002 h@5: 0.37828 h@10: 0.42770 ndcg@1: 0.23002 ndcg@5: 0.30966 ndcg@10: 0.32551\n",
      "new: h@1: 0.01345 h@5: 0.09716 h@10: 0.14798 ndcg@1: 0.01345 ndcg@5: 0.05494 ndcg@10: 0.07109\n",
      "rep: h@1: 0.37938 h@5: 0.57216 h@10: 0.62062 ndcg@1: 0.37938 ndcg@5: 0.48534 ndcg@10: 0.50098\n",
      "ratio:  0.5918242830994509\n"
     ]
    },
    {
     "name": "stderr",
     "output_type": "stream",
     "text": [
      "100%|████████████████████████████████████████████████████████████████████████████████| 114/114 [02:13<00:00,  1.17s/it]\n",
      "17it [00:08,  2.08it/s]\n"
     ]
    },
    {
     "name": "stdout",
     "output_type": "stream",
     "text": [
      "Epoch: 020, Loss: 1.16328\n",
      "all: h@1: 0.24405 h@5: 0.38499 h@10: 0.43075 ndcg@1: 0.24405 ndcg@5: 0.31874 ndcg@10: 0.33362\n",
      "new: h@1: 0.01345 h@5: 0.10164 h@10: 0.15396 ndcg@1: 0.01345 ndcg@5: 0.05638 ndcg@10: 0.07298\n",
      "rep: h@1: 0.40309 h@5: 0.58041 h@10: 0.62165 ndcg@1: 0.40309 ndcg@5: 0.49968 ndcg@10: 0.51339\n",
      "ratio:  0.5918242830994509\n"
     ]
    },
    {
     "name": "stderr",
     "output_type": "stream",
     "text": [
      "100%|████████████████████████████████████████████████████████████████████████████████| 114/114 [02:13<00:00,  1.17s/it]\n",
      "17it [00:08,  2.07it/s]\n"
     ]
    },
    {
     "name": "stdout",
     "output_type": "stream",
     "text": [
      "Epoch: 021, Loss: 1.15846\n",
      "all: h@1: 0.25137 h@5: 0.38987 h@10: 0.43380 ndcg@1: 0.25137 ndcg@5: 0.32453 ndcg@10: 0.33866\n",
      "new: h@1: 0.01495 h@5: 0.09567 h@10: 0.15247 ndcg@1: 0.01495 ndcg@5: 0.05467 ndcg@10: 0.07290\n",
      "rep: h@1: 0.41443 h@5: 0.59278 h@10: 0.62784 ndcg@1: 0.41443 ndcg@5: 0.51066 ndcg@10: 0.52195\n",
      "ratio:  0.5918242830994509\n"
     ]
    },
    {
     "name": "stderr",
     "output_type": "stream",
     "text": [
      "100%|████████████████████████████████████████████████████████████████████████████████| 114/114 [02:13<00:00,  1.17s/it]\n",
      "17it [00:08,  2.06it/s]\n"
     ]
    },
    {
     "name": "stdout",
     "output_type": "stream",
     "text": [
      "Epoch: 022, Loss: 1.15377\n",
      "all: h@1: 0.24771 h@5: 0.38743 h@10: 0.43746 ndcg@1: 0.24771 ndcg@5: 0.32220 ndcg@10: 0.33855\n",
      "new: h@1: 0.01943 h@5: 0.09567 h@10: 0.15695 ndcg@1: 0.01943 ndcg@5: 0.05669 ndcg@10: 0.07630\n",
      "rep: h@1: 0.40515 h@5: 0.58866 h@10: 0.63093 ndcg@1: 0.40515 ndcg@5: 0.50531 ndcg@10: 0.51942\n",
      "ratio:  0.5918242830994509\n"
     ]
    },
    {
     "name": "stderr",
     "output_type": "stream",
     "text": [
      "100%|████████████████████████████████████████████████████████████████████████████████| 114/114 [02:13<00:00,  1.17s/it]\n",
      "17it [00:08,  2.07it/s]\n"
     ]
    },
    {
     "name": "stdout",
     "output_type": "stream",
     "text": [
      "Epoch: 023, Loss: 1.15213\n",
      "all: h@1: 0.25564 h@5: 0.39536 h@10: 0.44112 ndcg@1: 0.25564 ndcg@5: 0.33038 ndcg@10: 0.34509\n",
      "new: h@1: 0.01644 h@5: 0.10164 h@10: 0.16293 ndcg@1: 0.01644 ndcg@5: 0.05843 ndcg@10: 0.07764\n",
      "rep: h@1: 0.42062 h@5: 0.59794 h@10: 0.63299 ndcg@1: 0.42062 ndcg@5: 0.51794 ndcg@10: 0.52954\n",
      "ratio:  0.5918242830994509\n"
     ]
    },
    {
     "name": "stderr",
     "output_type": "stream",
     "text": [
      "100%|████████████████████████████████████████████████████████████████████████████████| 114/114 [02:14<00:00,  1.18s/it]\n",
      "17it [00:08,  2.07it/s]\n"
     ]
    },
    {
     "name": "stdout",
     "output_type": "stream",
     "text": [
      "Epoch: 024, Loss: 1.14673\n",
      "all: h@1: 0.26174 h@5: 0.39475 h@10: 0.44356 ndcg@1: 0.26174 ndcg@5: 0.33400 ndcg@10: 0.34983\n",
      "new: h@1: 0.01943 h@5: 0.09417 h@10: 0.15845 ndcg@1: 0.01943 ndcg@5: 0.05732 ndcg@10: 0.07804\n",
      "rep: h@1: 0.42887 h@5: 0.60206 h@10: 0.64021 ndcg@1: 0.42887 ndcg@5: 0.52483 ndcg@10: 0.53728\n",
      "ratio:  0.5918242830994509\n"
     ]
    },
    {
     "name": "stderr",
     "output_type": "stream",
     "text": [
      "100%|████████████████████████████████████████████████████████████████████████████████| 114/114 [02:13<00:00,  1.17s/it]\n",
      "17it [00:08,  2.05it/s]\n"
     ]
    },
    {
     "name": "stdout",
     "output_type": "stream",
     "text": [
      "Epoch: 025, Loss: 1.14392\n",
      "all: h@1: 0.25930 h@5: 0.39841 h@10: 0.44234 ndcg@1: 0.25930 ndcg@5: 0.33421 ndcg@10: 0.34848\n",
      "new: h@1: 0.01943 h@5: 0.10164 h@10: 0.16143 ndcg@1: 0.01943 ndcg@5: 0.06060 ndcg@10: 0.07980\n",
      "rep: h@1: 0.42474 h@5: 0.60309 h@10: 0.63608 ndcg@1: 0.42474 ndcg@5: 0.52291 ndcg@10: 0.53379\n",
      "ratio:  0.5918242830994509\n"
     ]
    },
    {
     "name": "stderr",
     "output_type": "stream",
     "text": [
      "100%|████████████████████████████████████████████████████████████████████████████████| 114/114 [02:14<00:00,  1.18s/it]\n",
      "17it [00:08,  2.05it/s]\n"
     ]
    },
    {
     "name": "stdout",
     "output_type": "stream",
     "text": [
      "Epoch: 026, Loss: 1.14193\n",
      "all: h@1: 0.26602 h@5: 0.40574 h@10: 0.45149 ndcg@1: 0.26602 ndcg@5: 0.34176 ndcg@10: 0.35644\n",
      "new: h@1: 0.02093 h@5: 0.10463 h@10: 0.16891 ndcg@1: 0.02093 ndcg@5: 0.06329 ndcg@10: 0.08381\n",
      "rep: h@1: 0.43505 h@5: 0.61340 h@10: 0.64639 ndcg@1: 0.43505 ndcg@5: 0.53382 ndcg@10: 0.54447\n",
      "ratio:  0.5918242830994509\n"
     ]
    },
    {
     "name": "stderr",
     "output_type": "stream",
     "text": [
      "100%|████████████████████████████████████████████████████████████████████████████████| 114/114 [02:15<00:00,  1.19s/it]\n",
      "17it [00:08,  2.04it/s]\n"
     ]
    },
    {
     "name": "stdout",
     "output_type": "stream",
     "text": [
      "Epoch: 027, Loss: 1.13637\n",
      "all: h@1: 0.27334 h@5: 0.41123 h@10: 0.45272 ndcg@1: 0.27334 ndcg@5: 0.34741 ndcg@10: 0.36081\n",
      "new: h@1: 0.02093 h@5: 0.11211 h@10: 0.16592 ndcg@1: 0.02093 ndcg@5: 0.06565 ndcg@10: 0.08296\n",
      "rep: h@1: 0.44742 h@5: 0.61753 h@10: 0.65052 ndcg@1: 0.44742 ndcg@5: 0.54174 ndcg@10: 0.55244\n",
      "ratio:  0.5918242830994509\n"
     ]
    },
    {
     "name": "stderr",
     "output_type": "stream",
     "text": [
      "100%|████████████████████████████████████████████████████████████████████████████████| 114/114 [02:15<00:00,  1.19s/it]\n",
      "17it [00:08,  2.04it/s]\n"
     ]
    },
    {
     "name": "stdout",
     "output_type": "stream",
     "text": [
      "Epoch: 028, Loss: 1.13150\n",
      "all: h@1: 0.27517 h@5: 0.40940 h@10: 0.45333 ndcg@1: 0.27517 ndcg@5: 0.34850 ndcg@10: 0.36283\n",
      "new: h@1: 0.01644 h@5: 0.10015 h@10: 0.16592 ndcg@1: 0.01644 ndcg@5: 0.06014 ndcg@10: 0.08158\n",
      "rep: h@1: 0.45361 h@5: 0.62268 h@10: 0.65155 ndcg@1: 0.45361 ndcg@5: 0.54739 ndcg@10: 0.55681\n",
      "ratio:  0.5918242830994509\n"
     ]
    },
    {
     "name": "stderr",
     "output_type": "stream",
     "text": [
      "100%|████████████████████████████████████████████████████████████████████████████████| 114/114 [02:14<00:00,  1.18s/it]\n",
      "17it [00:08,  2.04it/s]\n"
     ]
    },
    {
     "name": "stdout",
     "output_type": "stream",
     "text": [
      "Epoch: 029, Loss: 1.12760\n",
      "all: h@1: 0.27029 h@5: 0.41428 h@10: 0.46065 ndcg@1: 0.27029 ndcg@5: 0.34869 ndcg@10: 0.36359\n",
      "new: h@1: 0.01794 h@5: 0.11360 h@10: 0.17638 ndcg@1: 0.01794 ndcg@5: 0.06680 ndcg@10: 0.08700\n",
      "rep: h@1: 0.44433 h@5: 0.62165 h@10: 0.65670 ndcg@1: 0.44433 ndcg@5: 0.54310 ndcg@10: 0.55435\n",
      "ratio:  0.5918242830994509\n"
     ]
    },
    {
     "name": "stderr",
     "output_type": "stream",
     "text": [
      "100%|████████████████████████████████████████████████████████████████████████████████| 114/114 [02:15<00:00,  1.19s/it]\n",
      "17it [00:08,  2.03it/s]\n"
     ]
    },
    {
     "name": "stdout",
     "output_type": "stream",
     "text": [
      "Epoch: 030, Loss: 1.12251\n",
      "all: h@1: 0.26541 h@5: 0.41733 h@10: 0.46370 ndcg@1: 0.26541 ndcg@5: 0.34865 ndcg@10: 0.36362\n",
      "new: h@1: 0.02242 h@5: 0.11659 h@10: 0.17040 ndcg@1: 0.02242 ndcg@5: 0.06985 ndcg@10: 0.08717\n",
      "rep: h@1: 0.43299 h@5: 0.62474 h@10: 0.66598 ndcg@1: 0.43299 ndcg@5: 0.54093 ndcg@10: 0.55429\n",
      "ratio:  0.5918242830994509\n"
     ]
    },
    {
     "name": "stderr",
     "output_type": "stream",
     "text": [
      "100%|████████████████████████████████████████████████████████████████████████████████| 114/114 [02:15<00:00,  1.19s/it]\n",
      "17it [00:08,  2.00it/s]\n"
     ]
    },
    {
     "name": "stdout",
     "output_type": "stream",
     "text": [
      "Epoch: 031, Loss: 1.11942\n",
      "all: h@1: 0.27639 h@5: 0.42038 h@10: 0.47590 ndcg@1: 0.27639 ndcg@5: 0.35527 ndcg@10: 0.37315\n",
      "new: h@1: 0.01495 h@5: 0.11659 h@10: 0.19731 ndcg@1: 0.01495 ndcg@5: 0.06738 ndcg@10: 0.09332\n",
      "rep: h@1: 0.45670 h@5: 0.62990 h@10: 0.66804 ndcg@1: 0.45670 ndcg@5: 0.55383 ndcg@10: 0.56615\n",
      "ratio:  0.5918242830994509\n"
     ]
    },
    {
     "name": "stderr",
     "output_type": "stream",
     "text": [
      "100%|████████████████████████████████████████████████████████████████████████████████| 114/114 [02:17<00:00,  1.20s/it]\n",
      "17it [00:08,  2.07it/s]\n"
     ]
    },
    {
     "name": "stdout",
     "output_type": "stream",
     "text": [
      "Epoch: 032, Loss: 1.11290\n",
      "all: h@1: 0.27944 h@5: 0.42282 h@10: 0.48139 ndcg@1: 0.27944 ndcg@5: 0.35800 ndcg@10: 0.37660\n",
      "new: h@1: 0.01644 h@5: 0.12108 h@10: 0.19880 ndcg@1: 0.01644 ndcg@5: 0.06969 ndcg@10: 0.09403\n",
      "rep: h@1: 0.46082 h@5: 0.63093 h@10: 0.67629 ndcg@1: 0.46082 ndcg@5: 0.55685 ndcg@10: 0.57149\n",
      "ratio:  0.5918242830994509\n"
     ]
    },
    {
     "name": "stderr",
     "output_type": "stream",
     "text": [
      "100%|████████████████████████████████████████████████████████████████████████████████| 114/114 [02:14<00:00,  1.18s/it]\n",
      "17it [00:08,  2.05it/s]\n"
     ]
    },
    {
     "name": "stdout",
     "output_type": "stream",
     "text": [
      "Epoch: 033, Loss: 1.11042\n",
      "all: h@1: 0.28127 h@5: 0.42953 h@10: 0.48688 ndcg@1: 0.28127 ndcg@5: 0.36271 ndcg@10: 0.38121\n",
      "new: h@1: 0.01794 h@5: 0.12556 h@10: 0.20478 ndcg@1: 0.01794 ndcg@5: 0.07267 ndcg@10: 0.09819\n",
      "rep: h@1: 0.46289 h@5: 0.63918 h@10: 0.68144 ndcg@1: 0.46289 ndcg@5: 0.56275 ndcg@10: 0.57641\n",
      "ratio:  0.5918242830994509\n"
     ]
    },
    {
     "name": "stderr",
     "output_type": "stream",
     "text": [
      "100%|████████████████████████████████████████████████████████████████████████████████| 114/114 [02:15<00:00,  1.19s/it]\n",
      "17it [00:08,  2.00it/s]\n"
     ]
    },
    {
     "name": "stdout",
     "output_type": "stream",
     "text": [
      "Epoch: 034, Loss: 1.10675\n",
      "all: h@1: 0.27944 h@5: 0.43380 h@10: 0.49298 ndcg@1: 0.27944 ndcg@5: 0.36350 ndcg@10: 0.38264\n",
      "new: h@1: 0.02392 h@5: 0.12855 h@10: 0.20927 ndcg@1: 0.02392 ndcg@5: 0.07710 ndcg@10: 0.10302\n",
      "rep: h@1: 0.45567 h@5: 0.64433 h@10: 0.68866 ndcg@1: 0.45567 ndcg@5: 0.56103 ndcg@10: 0.57550\n",
      "ratio:  0.5918242830994509\n"
     ]
    },
    {
     "name": "stderr",
     "output_type": "stream",
     "text": [
      "100%|████████████████████████████████████████████████████████████████████████████████| 114/114 [02:15<00:00,  1.19s/it]\n",
      "17it [00:08,  1.90it/s]\n"
     ]
    },
    {
     "name": "stdout",
     "output_type": "stream",
     "text": [
      "Epoch: 035, Loss: 1.10145\n",
      "all: h@1: 0.28798 h@5: 0.43807 h@10: 0.50214 ndcg@1: 0.28798 ndcg@5: 0.36928 ndcg@10: 0.38983\n",
      "new: h@1: 0.01943 h@5: 0.12855 h@10: 0.21076 ndcg@1: 0.01943 ndcg@5: 0.07542 ndcg@10: 0.10199\n",
      "rep: h@1: 0.47320 h@5: 0.65155 h@10: 0.70309 ndcg@1: 0.47320 ndcg@5: 0.57195 ndcg@10: 0.58834\n",
      "ratio:  0.5918242830994509\n"
     ]
    },
    {
     "name": "stderr",
     "output_type": "stream",
     "text": [
      "100%|████████████████████████████████████████████████████████████████████████████████| 114/114 [02:16<00:00,  1.20s/it]\n",
      "17it [00:08,  2.05it/s]\n"
     ]
    },
    {
     "name": "stdout",
     "output_type": "stream",
     "text": [
      "Epoch: 036, Loss: 1.09362\n",
      "all: h@1: 0.29286 h@5: 0.44600 h@10: 0.50824 ndcg@1: 0.29286 ndcg@5: 0.37531 ndcg@10: 0.39541\n",
      "new: h@1: 0.02093 h@5: 0.14051 h@10: 0.21973 ndcg@1: 0.02093 ndcg@5: 0.08078 ndcg@10: 0.10631\n",
      "rep: h@1: 0.48041 h@5: 0.65670 h@10: 0.70722 ndcg@1: 0.48041 ndcg@5: 0.57844 ndcg@10: 0.59480\n",
      "ratio:  0.5918242830994509\n"
     ]
    },
    {
     "name": "stderr",
     "output_type": "stream",
     "text": [
      "100%|████████████████████████████████████████████████████████████████████████████████| 114/114 [02:14<00:00,  1.18s/it]\n",
      "17it [00:08,  2.06it/s]\n"
     ]
    },
    {
     "name": "stdout",
     "output_type": "stream",
     "text": [
      "Epoch: 037, Loss: 1.09083\n",
      "all: h@1: 0.29103 h@5: 0.45088 h@10: 0.51434 ndcg@1: 0.29103 ndcg@5: 0.37556 ndcg@10: 0.39596\n",
      "new: h@1: 0.02242 h@5: 0.14649 h@10: 0.22720 ndcg@1: 0.02242 ndcg@5: 0.08306 ndcg@10: 0.10885\n",
      "rep: h@1: 0.47629 h@5: 0.66082 h@10: 0.71237 ndcg@1: 0.47629 ndcg@5: 0.57730 ndcg@10: 0.59397\n",
      "ratio:  0.5918242830994509\n"
     ]
    },
    {
     "name": "stderr",
     "output_type": "stream",
     "text": [
      "100%|████████████████████████████████████████████████████████████████████████████████| 114/114 [02:14<00:00,  1.18s/it]\n",
      "17it [00:08,  2.04it/s]\n"
     ]
    },
    {
     "name": "stdout",
     "output_type": "stream",
     "text": [
      "Epoch: 038, Loss: 1.08551\n",
      "all: h@1: 0.29286 h@5: 0.44783 h@10: 0.52105 ndcg@1: 0.29286 ndcg@5: 0.37595 ndcg@10: 0.39980\n",
      "new: h@1: 0.02242 h@5: 0.13752 h@10: 0.22720 ndcg@1: 0.02242 ndcg@5: 0.07994 ndcg@10: 0.10893\n",
      "rep: h@1: 0.47938 h@5: 0.66186 h@10: 0.72371 ndcg@1: 0.47938 ndcg@5: 0.58010 ndcg@10: 0.60041\n",
      "ratio:  0.5918242830994509\n"
     ]
    },
    {
     "name": "stderr",
     "output_type": "stream",
     "text": [
      "100%|████████████████████████████████████████████████████████████████████████████████| 114/114 [02:14<00:00,  1.18s/it]\n",
      "17it [00:08,  2.05it/s]\n"
     ]
    },
    {
     "name": "stdout",
     "output_type": "stream",
     "text": [
      "Epoch: 039, Loss: 1.07812\n",
      "all: h@1: 0.29042 h@5: 0.45760 h@10: 0.53020 ndcg@1: 0.29042 ndcg@5: 0.37898 ndcg@10: 0.40255\n",
      "new: h@1: 0.02392 h@5: 0.14798 h@10: 0.24066 ndcg@1: 0.02392 ndcg@5: 0.08514 ndcg@10: 0.11498\n",
      "rep: h@1: 0.47423 h@5: 0.67113 h@10: 0.72990 ndcg@1: 0.47423 ndcg@5: 0.58164 ndcg@10: 0.60088\n",
      "ratio:  0.5918242830994509\n"
     ]
    },
    {
     "name": "stderr",
     "output_type": "stream",
     "text": [
      "100%|████████████████████████████████████████████████████████████████████████████████| 114/114 [02:14<00:00,  1.18s/it]\n",
      "17it [00:08,  2.03it/s]\n"
     ]
    },
    {
     "name": "stdout",
     "output_type": "stream",
     "text": [
      "Epoch: 040, Loss: 1.07255\n",
      "all: h@1: 0.29164 h@5: 0.46248 h@10: 0.53081 ndcg@1: 0.29164 ndcg@5: 0.38223 ndcg@10: 0.40447\n",
      "new: h@1: 0.02392 h@5: 0.14649 h@10: 0.22870 ndcg@1: 0.02392 ndcg@5: 0.08399 ndcg@10: 0.11070\n",
      "rep: h@1: 0.47629 h@5: 0.68041 h@10: 0.73918 ndcg@1: 0.47629 ndcg@5: 0.58793 ndcg@10: 0.60708\n",
      "ratio:  0.5918242830994509\n"
     ]
    },
    {
     "name": "stderr",
     "output_type": "stream",
     "text": [
      "100%|████████████████████████████████████████████████████████████████████████████████| 114/114 [02:17<00:00,  1.20s/it]\n",
      "17it [00:08,  2.05it/s]\n"
     ]
    },
    {
     "name": "stdout",
     "output_type": "stream",
     "text": [
      "Epoch: 041, Loss: 1.06589\n",
      "all: h@1: 0.29774 h@5: 0.47102 h@10: 0.54301 ndcg@1: 0.29774 ndcg@5: 0.38899 ndcg@10: 0.41220\n",
      "new: h@1: 0.02840 h@5: 0.14798 h@10: 0.24813 ndcg@1: 0.02840 ndcg@5: 0.08703 ndcg@10: 0.11929\n",
      "rep: h@1: 0.48351 h@5: 0.69381 h@10: 0.74639 ndcg@1: 0.48351 ndcg@5: 0.59725 ndcg@10: 0.61422\n",
      "ratio:  0.5918242830994509\n"
     ]
    },
    {
     "name": "stderr",
     "output_type": "stream",
     "text": [
      "100%|████████████████████████████████████████████████████████████████████████████████| 114/114 [02:15<00:00,  1.19s/it]\n",
      "17it [00:08,  2.05it/s]\n"
     ]
    },
    {
     "name": "stdout",
     "output_type": "stream",
     "text": [
      "Epoch: 042, Loss: 1.06165\n",
      "all: h@1: 0.30262 h@5: 0.47712 h@10: 0.54545 ndcg@1: 0.30262 ndcg@5: 0.39452 ndcg@10: 0.41664\n",
      "new: h@1: 0.02691 h@5: 0.14798 h@10: 0.25112 ndcg@1: 0.02691 ndcg@5: 0.08687 ndcg@10: 0.12013\n",
      "rep: h@1: 0.49278 h@5: 0.70412 h@10: 0.74845 ndcg@1: 0.49278 ndcg@5: 0.60670 ndcg@10: 0.62113\n",
      "ratio:  0.5918242830994509\n"
     ]
    },
    {
     "name": "stderr",
     "output_type": "stream",
     "text": [
      "100%|████████████████████████████████████████████████████████████████████████████████| 114/114 [02:15<00:00,  1.19s/it]\n",
      "17it [00:08,  2.06it/s]\n"
     ]
    },
    {
     "name": "stdout",
     "output_type": "stream",
     "text": [
      "Epoch: 043, Loss: 1.05616\n",
      "all: h@1: 0.30262 h@5: 0.48200 h@10: 0.55522 ndcg@1: 0.30262 ndcg@5: 0.39715 ndcg@10: 0.42074\n",
      "new: h@1: 0.02392 h@5: 0.15247 h@10: 0.26158 ndcg@1: 0.02392 ndcg@5: 0.08674 ndcg@10: 0.12199\n",
      "rep: h@1: 0.49485 h@5: 0.70928 h@10: 0.75773 ndcg@1: 0.49485 ndcg@5: 0.61124 ndcg@10: 0.62679\n",
      "ratio:  0.5918242830994509\n"
     ]
    },
    {
     "name": "stderr",
     "output_type": "stream",
     "text": [
      "100%|████████████████████████████████████████████████████████████████████████████████| 114/114 [02:15<00:00,  1.19s/it]\n",
      "17it [00:08,  2.05it/s]\n"
     ]
    },
    {
     "name": "stdout",
     "output_type": "stream",
     "text": [
      "Epoch: 044, Loss: 1.05175\n",
      "all: h@1: 0.30140 h@5: 0.47834 h@10: 0.55095 ndcg@1: 0.30140 ndcg@5: 0.39476 ndcg@10: 0.41852\n",
      "new: h@1: 0.02691 h@5: 0.15845 h@10: 0.25262 ndcg@1: 0.02691 ndcg@5: 0.09114 ndcg@10: 0.12185\n",
      "rep: h@1: 0.49072 h@5: 0.69897 h@10: 0.75670 ndcg@1: 0.49072 ndcg@5: 0.60416 ndcg@10: 0.62314\n",
      "ratio:  0.5918242830994509\n"
     ]
    },
    {
     "name": "stderr",
     "output_type": "stream",
     "text": [
      "100%|████████████████████████████████████████████████████████████████████████████████| 114/114 [02:15<00:00,  1.19s/it]\n",
      "17it [00:08,  2.04it/s]\n"
     ]
    },
    {
     "name": "stdout",
     "output_type": "stream",
     "text": [
      "Epoch: 045, Loss: 1.04592\n",
      "all: h@1: 0.29957 h@5: 0.48993 h@10: 0.56315 ndcg@1: 0.29957 ndcg@5: 0.39910 ndcg@10: 0.42274\n",
      "new: h@1: 0.02392 h@5: 0.17040 h@10: 0.27205 ndcg@1: 0.02392 ndcg@5: 0.09500 ndcg@10: 0.12789\n",
      "rep: h@1: 0.48969 h@5: 0.71031 h@10: 0.76392 ndcg@1: 0.48969 ndcg@5: 0.60884 ndcg@10: 0.62610\n",
      "ratio:  0.5918242830994509\n"
     ]
    },
    {
     "name": "stderr",
     "output_type": "stream",
     "text": [
      "100%|████████████████████████████████████████████████████████████████████████████████| 114/114 [02:15<00:00,  1.19s/it]\n",
      "17it [00:08,  2.00it/s]\n"
     ]
    },
    {
     "name": "stdout",
     "output_type": "stream",
     "text": [
      "Epoch: 046, Loss: 1.03912\n",
      "all: h@1: 0.30079 h@5: 0.49542 h@10: 0.56498 ndcg@1: 0.30079 ndcg@5: 0.40349 ndcg@10: 0.42611\n",
      "new: h@1: 0.01943 h@5: 0.17788 h@10: 0.27354 ndcg@1: 0.01943 ndcg@5: 0.09750 ndcg@10: 0.12841\n",
      "rep: h@1: 0.49485 h@5: 0.71443 h@10: 0.76598 ndcg@1: 0.49485 ndcg@5: 0.61453 ndcg@10: 0.63143\n",
      "ratio:  0.5918242830994509\n"
     ]
    },
    {
     "name": "stderr",
     "output_type": "stream",
     "text": [
      "100%|████████████████████████████████████████████████████████████████████████████████| 114/114 [02:15<00:00,  1.19s/it]\n",
      "17it [00:08,  2.04it/s]\n"
     ]
    },
    {
     "name": "stdout",
     "output_type": "stream",
     "text": [
      "Epoch: 047, Loss: 1.03291\n",
      "all: h@1: 0.30262 h@5: 0.48932 h@10: 0.56376 ndcg@1: 0.30262 ndcg@5: 0.40251 ndcg@10: 0.42679\n",
      "new: h@1: 0.02242 h@5: 0.16293 h@10: 0.26756 ndcg@1: 0.02242 ndcg@5: 0.09186 ndcg@10: 0.12600\n",
      "rep: h@1: 0.49588 h@5: 0.71443 h@10: 0.76804 ndcg@1: 0.49588 ndcg@5: 0.61676 ndcg@10: 0.63425\n",
      "ratio:  0.5918242830994509\n"
     ]
    },
    {
     "name": "stderr",
     "output_type": "stream",
     "text": [
      "100%|████████████████████████████████████████████████████████████████████████████████| 114/114 [02:15<00:00,  1.19s/it]\n",
      "17it [00:08,  2.05it/s]\n"
     ]
    },
    {
     "name": "stdout",
     "output_type": "stream",
     "text": [
      "Epoch: 048, Loss: 1.02749\n",
      "all: h@1: 0.30384 h@5: 0.49725 h@10: 0.57352 ndcg@1: 0.30384 ndcg@5: 0.40530 ndcg@10: 0.43020\n",
      "new: h@1: 0.02242 h@5: 0.17040 h@10: 0.27803 ndcg@1: 0.02242 ndcg@5: 0.09503 ndcg@10: 0.13011\n",
      "rep: h@1: 0.49794 h@5: 0.72268 h@10: 0.77732 ndcg@1: 0.49794 ndcg@5: 0.61929 ndcg@10: 0.63716\n",
      "ratio:  0.5918242830994509\n"
     ]
    },
    {
     "name": "stderr",
     "output_type": "stream",
     "text": [
      "100%|████████████████████████████████████████████████████████████████████████████████| 114/114 [02:16<00:00,  1.20s/it]\n",
      "17it [00:08,  2.06it/s]\n"
     ]
    },
    {
     "name": "stdout",
     "output_type": "stream",
     "text": [
      "Epoch: 049, Loss: 1.02088\n",
      "all: h@1: 0.30201 h@5: 0.49786 h@10: 0.58084 ndcg@1: 0.30201 ndcg@5: 0.40539 ndcg@10: 0.43240\n",
      "new: h@1: 0.02691 h@5: 0.17339 h@10: 0.29895 ndcg@1: 0.02691 ndcg@5: 0.10002 ndcg@10: 0.14058\n",
      "rep: h@1: 0.49175 h@5: 0.72165 h@10: 0.77526 ndcg@1: 0.49175 ndcg@5: 0.61600 ndcg@10: 0.63367\n",
      "ratio:  0.5918242830994509\n"
     ]
    },
    {
     "name": "stderr",
     "output_type": "stream",
     "text": [
      "100%|████████████████████████████████████████████████████████████████████████████████| 114/114 [02:15<00:00,  1.19s/it]\n",
      "17it [00:08,  2.07it/s]\n"
     ]
    },
    {
     "name": "stdout",
     "output_type": "stream",
     "text": [
      "Epoch: 050, Loss: 1.01632\n",
      "all: h@1: 0.30567 h@5: 0.49786 h@10: 0.57901 ndcg@1: 0.30567 ndcg@5: 0.40546 ndcg@10: 0.43176\n",
      "new: h@1: 0.02242 h@5: 0.17937 h@10: 0.28849 ndcg@1: 0.02242 ndcg@5: 0.09863 ndcg@10: 0.13363\n",
      "rep: h@1: 0.50103 h@5: 0.71753 h@10: 0.77938 ndcg@1: 0.50103 ndcg@5: 0.61708 ndcg@10: 0.63738\n",
      "ratio:  0.5918242830994509\n"
     ]
    },
    {
     "name": "stderr",
     "output_type": "stream",
     "text": [
      "100%|████████████████████████████████████████████████████████████████████████████████| 114/114 [02:15<00:00,  1.19s/it]\n",
      "17it [00:08,  2.04it/s]\n"
     ]
    },
    {
     "name": "stdout",
     "output_type": "stream",
     "text": [
      "Epoch: 051, Loss: 1.00930\n",
      "all: h@1: 0.30445 h@5: 0.50275 h@10: 0.58328 ndcg@1: 0.30445 ndcg@5: 0.40947 ndcg@10: 0.43556\n",
      "new: h@1: 0.02541 h@5: 0.18535 h@10: 0.29297 ndcg@1: 0.02541 ndcg@5: 0.10502 ndcg@10: 0.13960\n",
      "rep: h@1: 0.49691 h@5: 0.72165 h@10: 0.78351 ndcg@1: 0.49691 ndcg@5: 0.61945 ndcg@10: 0.63969\n",
      "ratio:  0.5918242830994509\n"
     ]
    },
    {
     "name": "stderr",
     "output_type": "stream",
     "text": [
      "100%|████████████████████████████████████████████████████████████████████████████████| 114/114 [02:15<00:00,  1.19s/it]\n",
      "17it [00:08,  2.05it/s]\n"
     ]
    },
    {
     "name": "stdout",
     "output_type": "stream",
     "text": [
      "Epoch: 052, Loss: 1.00617\n",
      "all: h@1: 0.30811 h@5: 0.49908 h@10: 0.58755 ndcg@1: 0.30811 ndcg@5: 0.40982 ndcg@10: 0.43846\n",
      "new: h@1: 0.02691 h@5: 0.16891 h@10: 0.30194 ndcg@1: 0.02691 ndcg@5: 0.09937 ndcg@10: 0.14180\n",
      "rep: h@1: 0.50206 h@5: 0.72680 h@10: 0.78454 ndcg@1: 0.50206 ndcg@5: 0.62393 ndcg@10: 0.64306\n",
      "ratio:  0.5918242830994509\n"
     ]
    },
    {
     "name": "stderr",
     "output_type": "stream",
     "text": [
      "100%|████████████████████████████████████████████████████████████████████████████████| 114/114 [02:16<00:00,  1.19s/it]\n",
      "17it [00:08,  2.05it/s]\n"
     ]
    },
    {
     "name": "stdout",
     "output_type": "stream",
     "text": [
      "Epoch: 053, Loss: 0.99792\n",
      "all: h@1: 0.30628 h@5: 0.50519 h@10: 0.58755 ndcg@1: 0.30628 ndcg@5: 0.41113 ndcg@10: 0.43795\n",
      "new: h@1: 0.02392 h@5: 0.17788 h@10: 0.29148 ndcg@1: 0.02392 ndcg@5: 0.10076 ndcg@10: 0.13755\n",
      "rep: h@1: 0.50103 h@5: 0.73093 h@10: 0.79175 ndcg@1: 0.50103 ndcg@5: 0.62519 ndcg@10: 0.64513\n",
      "ratio:  0.5918242830994509\n"
     ]
    },
    {
     "name": "stderr",
     "output_type": "stream",
     "text": [
      "100%|████████████████████████████████████████████████████████████████████████████████| 114/114 [02:16<00:00,  1.20s/it]\n",
      "17it [00:08,  2.05it/s]\n"
     ]
    },
    {
     "name": "stdout",
     "output_type": "stream",
     "text": [
      "Epoch: 054, Loss: 0.99393\n",
      "all: h@1: 0.30567 h@5: 0.50275 h@10: 0.58816 ndcg@1: 0.30567 ndcg@5: 0.41045 ndcg@10: 0.43831\n",
      "new: h@1: 0.02392 h@5: 0.17190 h@10: 0.29297 ndcg@1: 0.02392 ndcg@5: 0.09768 ndcg@10: 0.13692\n",
      "rep: h@1: 0.50000 h@5: 0.73093 h@10: 0.79175 ndcg@1: 0.50000 ndcg@5: 0.62616 ndcg@10: 0.64619\n",
      "ratio:  0.5918242830994509\n"
     ]
    },
    {
     "name": "stderr",
     "output_type": "stream",
     "text": [
      "100%|████████████████████████████████████████████████████████████████████████████████| 114/114 [02:18<00:00,  1.22s/it]\n",
      "17it [00:08,  2.04it/s]\n"
     ]
    },
    {
     "name": "stdout",
     "output_type": "stream",
     "text": [
      "Epoch: 055, Loss: 0.98866\n",
      "all: h@1: 0.30567 h@5: 0.50702 h@10: 0.58755 ndcg@1: 0.30567 ndcg@5: 0.41253 ndcg@10: 0.43854\n",
      "new: h@1: 0.02093 h@5: 0.17937 h@10: 0.28999 ndcg@1: 0.02093 ndcg@5: 0.10017 ndcg@10: 0.13585\n",
      "rep: h@1: 0.50206 h@5: 0.73299 h@10: 0.79278 ndcg@1: 0.50206 ndcg@5: 0.62796 ndcg@10: 0.64730\n",
      "ratio:  0.5918242830994509\n"
     ]
    },
    {
     "name": "stderr",
     "output_type": "stream",
     "text": [
      "100%|████████████████████████████████████████████████████████████████████████████████| 114/114 [02:28<00:00,  1.30s/it]\n",
      "17it [00:08,  1.92it/s]\n"
     ]
    },
    {
     "name": "stdout",
     "output_type": "stream",
     "text": [
      "Epoch: 056, Loss: 0.98228\n",
      "all: h@1: 0.30750 h@5: 0.50519 h@10: 0.58511 ndcg@1: 0.30750 ndcg@5: 0.41304 ndcg@10: 0.43917\n",
      "new: h@1: 0.02242 h@5: 0.17339 h@10: 0.29746 ndcg@1: 0.02242 ndcg@5: 0.09979 ndcg@10: 0.14027\n",
      "rep: h@1: 0.50412 h@5: 0.73402 h@10: 0.78351 ndcg@1: 0.50412 ndcg@5: 0.62908 ndcg@10: 0.64531\n",
      "ratio:  0.5918242830994509\n"
     ]
    },
    {
     "name": "stderr",
     "output_type": "stream",
     "text": [
      "100%|████████████████████████████████████████████████████████████████████████████████| 114/114 [02:26<00:00,  1.28s/it]\n",
      "17it [00:08,  2.00it/s]\n"
     ]
    },
    {
     "name": "stdout",
     "output_type": "stream",
     "text": [
      "Epoch: 057, Loss: 0.97602\n",
      "all: h@1: 0.30628 h@5: 0.50641 h@10: 0.60098 ndcg@1: 0.30628 ndcg@5: 0.41236 ndcg@10: 0.44295\n",
      "new: h@1: 0.02541 h@5: 0.17339 h@10: 0.30792 ndcg@1: 0.02541 ndcg@5: 0.10020 ndcg@10: 0.14385\n",
      "rep: h@1: 0.50000 h@5: 0.73608 h@10: 0.80309 ndcg@1: 0.50000 ndcg@5: 0.62765 ndcg@10: 0.64924\n",
      "ratio:  0.5918242830994509\n"
     ]
    },
    {
     "name": "stderr",
     "output_type": "stream",
     "text": [
      "100%|████████████████████████████████████████████████████████████████████████████████| 114/114 [02:32<00:00,  1.34s/it]\n",
      "17it [00:08,  2.02it/s]\n"
     ]
    },
    {
     "name": "stdout",
     "output_type": "stream",
     "text": [
      "Epoch: 058, Loss: 0.97098\n",
      "all: h@1: 0.30811 h@5: 0.50519 h@10: 0.59854 ndcg@1: 0.30811 ndcg@5: 0.41079 ndcg@10: 0.44109\n",
      "new: h@1: 0.02392 h@5: 0.18386 h@10: 0.30643 ndcg@1: 0.02392 ndcg@5: 0.10080 ndcg@10: 0.14075\n",
      "rep: h@1: 0.50412 h@5: 0.72680 h@10: 0.80000 ndcg@1: 0.50412 ndcg@5: 0.62459 ndcg@10: 0.64823\n",
      "ratio:  0.5918242830994509\n"
     ]
    },
    {
     "name": "stderr",
     "output_type": "stream",
     "text": [
      "100%|████████████████████████████████████████████████████████████████████████████████| 114/114 [02:17<00:00,  1.21s/it]\n",
      "17it [00:08,  2.03it/s]\n"
     ]
    },
    {
     "name": "stdout",
     "output_type": "stream",
     "text": [
      "Epoch: 059, Loss: 0.96709\n",
      "all: h@1: 0.31056 h@5: 0.50702 h@10: 0.60403 ndcg@1: 0.31056 ndcg@5: 0.41393 ndcg@10: 0.44555\n",
      "new: h@1: 0.02691 h@5: 0.18685 h@10: 0.30643 ndcg@1: 0.02691 ndcg@5: 0.10535 ndcg@10: 0.14425\n",
      "rep: h@1: 0.50619 h@5: 0.72784 h@10: 0.80928 ndcg@1: 0.50619 ndcg@5: 0.62675 ndcg@10: 0.65334\n",
      "ratio:  0.5918242830994509\n"
     ]
    },
    {
     "name": "stderr",
     "output_type": "stream",
     "text": [
      "100%|████████████████████████████████████████████████████████████████████████████████| 114/114 [02:17<00:00,  1.21s/it]\n",
      "17it [00:08,  2.03it/s]\n"
     ]
    },
    {
     "name": "stdout",
     "output_type": "stream",
     "text": [
      "Epoch: 060, Loss: 0.96113\n",
      "all: h@1: 0.30689 h@5: 0.50641 h@10: 0.60342 ndcg@1: 0.30689 ndcg@5: 0.41264 ndcg@10: 0.44413\n",
      "new: h@1: 0.02541 h@5: 0.18236 h@10: 0.31091 ndcg@1: 0.02541 ndcg@5: 0.10281 ndcg@10: 0.14440\n",
      "rep: h@1: 0.50103 h@5: 0.72990 h@10: 0.80515 ndcg@1: 0.50103 ndcg@5: 0.62633 ndcg@10: 0.65085\n",
      "ratio:  0.5918242830994509\n"
     ]
    },
    {
     "name": "stderr",
     "output_type": "stream",
     "text": [
      "100%|████████████████████████████████████████████████████████████████████████████████| 114/114 [02:17<00:00,  1.20s/it]\n",
      "17it [00:08,  2.04it/s]\n"
     ]
    },
    {
     "name": "stdout",
     "output_type": "stream",
     "text": [
      "Epoch: 061, Loss: 0.95760\n",
      "all: h@1: 0.31117 h@5: 0.51617 h@10: 0.60037 ndcg@1: 0.31117 ndcg@5: 0.41760 ndcg@10: 0.44473\n",
      "new: h@1: 0.02541 h@5: 0.19283 h@10: 0.30045 ndcg@1: 0.02541 ndcg@5: 0.10649 ndcg@10: 0.14168\n",
      "rep: h@1: 0.50825 h@5: 0.73918 h@10: 0.80722 ndcg@1: 0.50825 ndcg@5: 0.63217 ndcg@10: 0.65374\n",
      "ratio:  0.5918242830994509\n"
     ]
    },
    {
     "name": "stderr",
     "output_type": "stream",
     "text": [
      "100%|████████████████████████████████████████████████████████████████████████████████| 114/114 [02:18<00:00,  1.21s/it]\n",
      "17it [00:08,  2.03it/s]\n"
     ]
    },
    {
     "name": "stdout",
     "output_type": "stream",
     "text": [
      "Epoch: 062, Loss: 0.95191\n",
      "all: h@1: 0.31300 h@5: 0.51129 h@10: 0.60525 ndcg@1: 0.31300 ndcg@5: 0.41745 ndcg@10: 0.44771\n",
      "new: h@1: 0.02840 h@5: 0.18535 h@10: 0.31689 ndcg@1: 0.02840 ndcg@5: 0.10527 ndcg@10: 0.14780\n",
      "rep: h@1: 0.50928 h@5: 0.73608 h@10: 0.80412 ndcg@1: 0.50928 ndcg@5: 0.63275 ndcg@10: 0.65455\n",
      "ratio:  0.5918242830994509\n"
     ]
    },
    {
     "name": "stderr",
     "output_type": "stream",
     "text": [
      "100%|████████████████████████████████████████████████████████████████████████████████| 114/114 [02:18<00:00,  1.21s/it]\n",
      "17it [00:08,  2.01it/s]\n"
     ]
    },
    {
     "name": "stdout",
     "output_type": "stream",
     "text": [
      "Epoch: 063, Loss: 0.94900\n",
      "all: h@1: 0.31178 h@5: 0.51312 h@10: 0.60037 ndcg@1: 0.31178 ndcg@5: 0.41733 ndcg@10: 0.44550\n",
      "new: h@1: 0.02392 h@5: 0.19283 h@10: 0.31241 ndcg@1: 0.02392 ndcg@5: 0.10765 ndcg@10: 0.14606\n",
      "rep: h@1: 0.51031 h@5: 0.73402 h@10: 0.79897 ndcg@1: 0.51031 ndcg@5: 0.63092 ndcg@10: 0.65202\n",
      "ratio:  0.5918242830994509\n"
     ]
    },
    {
     "name": "stderr",
     "output_type": "stream",
     "text": [
      "100%|████████████████████████████████████████████████████████████████████████████████| 114/114 [02:22<00:00,  1.25s/it]\n",
      "17it [00:08,  1.95it/s]\n"
     ]
    },
    {
     "name": "stdout",
     "output_type": "stream",
     "text": [
      "Epoch: 064, Loss: 0.94309\n",
      "all: h@1: 0.31361 h@5: 0.51739 h@10: 0.60403 ndcg@1: 0.31361 ndcg@5: 0.42114 ndcg@10: 0.44935\n",
      "new: h@1: 0.02541 h@5: 0.19731 h@10: 0.32138 ndcg@1: 0.02541 ndcg@5: 0.11098 ndcg@10: 0.15152\n",
      "rep: h@1: 0.51237 h@5: 0.73814 h@10: 0.79897 ndcg@1: 0.51237 ndcg@5: 0.63505 ndcg@10: 0.65476\n",
      "ratio:  0.5918242830994509\n"
     ]
    },
    {
     "name": "stderr",
     "output_type": "stream",
     "text": [
      "100%|████████████████████████████████████████████████████████████████████████████████| 114/114 [02:28<00:00,  1.30s/it]\n",
      "17it [00:08,  2.01it/s]\n"
     ]
    },
    {
     "name": "stdout",
     "output_type": "stream",
     "text": [
      "Epoch: 065, Loss: 0.93832\n",
      "all: h@1: 0.30933 h@5: 0.51922 h@10: 0.61074 ndcg@1: 0.30933 ndcg@5: 0.42003 ndcg@10: 0.44957\n",
      "new: h@1: 0.02541 h@5: 0.19880 h@10: 0.32735 ndcg@1: 0.02541 ndcg@5: 0.10977 ndcg@10: 0.15151\n",
      "rep: h@1: 0.50515 h@5: 0.74021 h@10: 0.80619 ndcg@1: 0.50515 ndcg@5: 0.63401 ndcg@10: 0.65514\n",
      "ratio:  0.5918242830994509\n"
     ]
    },
    {
     "name": "stderr",
     "output_type": "stream",
     "text": [
      "100%|████████████████████████████████████████████████████████████████████████████████| 114/114 [02:34<00:00,  1.35s/it]\n",
      "17it [00:08,  1.94it/s]\n"
     ]
    },
    {
     "name": "stdout",
     "output_type": "stream",
     "text": [
      "Epoch: 066, Loss: 0.93192\n",
      "all: h@1: 0.30872 h@5: 0.52227 h@10: 0.60952 ndcg@1: 0.30872 ndcg@5: 0.42019 ndcg@10: 0.44847\n",
      "new: h@1: 0.02541 h@5: 0.21076 h@10: 0.32287 ndcg@1: 0.02541 ndcg@5: 0.11515 ndcg@10: 0.15104\n",
      "rep: h@1: 0.50412 h@5: 0.73711 h@10: 0.80722 ndcg@1: 0.50412 ndcg@5: 0.63057 ndcg@10: 0.65361\n",
      "ratio:  0.5918242830994509\n"
     ]
    },
    {
     "name": "stderr",
     "output_type": "stream",
     "text": [
      "100%|████████████████████████████████████████████████████████████████████████████████| 114/114 [02:38<00:00,  1.39s/it]\n",
      "17it [00:08,  1.99it/s]\n"
     ]
    },
    {
     "name": "stdout",
     "output_type": "stream",
     "text": [
      "Epoch: 067, Loss: 0.92936\n",
      "all: h@1: 0.31422 h@5: 0.51983 h@10: 0.61318 ndcg@1: 0.31422 ndcg@5: 0.42314 ndcg@10: 0.45357\n",
      "new: h@1: 0.02840 h@5: 0.19880 h@10: 0.32735 ndcg@1: 0.02840 ndcg@5: 0.11271 ndcg@10: 0.15461\n",
      "rep: h@1: 0.51134 h@5: 0.74124 h@10: 0.81031 ndcg@1: 0.51134 ndcg@5: 0.63725 ndcg@10: 0.65975\n",
      "ratio:  0.5918242830994509\n"
     ]
    },
    {
     "name": "stderr",
     "output_type": "stream",
     "text": [
      "100%|████████████████████████████████████████████████████████████████████████████████| 114/114 [02:30<00:00,  1.32s/it]\n",
      "17it [00:08,  2.00it/s]\n"
     ]
    },
    {
     "name": "stdout",
     "output_type": "stream",
     "text": [
      "Epoch: 068, Loss: 0.92532\n",
      "all: h@1: 0.31300 h@5: 0.51922 h@10: 0.61501 ndcg@1: 0.31300 ndcg@5: 0.42171 ndcg@10: 0.45278\n",
      "new: h@1: 0.02840 h@5: 0.19731 h@10: 0.32735 ndcg@1: 0.02840 ndcg@5: 0.11255 ndcg@10: 0.15468\n",
      "rep: h@1: 0.50928 h@5: 0.74124 h@10: 0.81340 ndcg@1: 0.50928 ndcg@5: 0.63493 ndcg@10: 0.65838\n",
      "ratio:  0.5918242830994509\n"
     ]
    },
    {
     "name": "stderr",
     "output_type": "stream",
     "text": [
      "100%|████████████████████████████████████████████████████████████████████████████████| 114/114 [02:58<00:00,  1.57s/it]\n",
      "17it [00:08,  1.96it/s]\n"
     ]
    },
    {
     "name": "stdout",
     "output_type": "stream",
     "text": [
      "Epoch: 069, Loss: 0.91728\n",
      "all: h@1: 0.30933 h@5: 0.51861 h@10: 0.61074 ndcg@1: 0.30933 ndcg@5: 0.42025 ndcg@10: 0.45001\n",
      "new: h@1: 0.02691 h@5: 0.19133 h@10: 0.32436 ndcg@1: 0.02691 ndcg@5: 0.10822 ndcg@10: 0.15137\n",
      "rep: h@1: 0.50412 h@5: 0.74433 h@10: 0.80825 ndcg@1: 0.50412 ndcg@5: 0.63545 ndcg@10: 0.65597\n",
      "ratio:  0.5918242830994509\n"
     ]
    },
    {
     "name": "stderr",
     "output_type": "stream",
     "text": [
      "100%|████████████████████████████████████████████████████████████████████████████████| 114/114 [03:00<00:00,  1.58s/it]\n",
      "17it [00:08,  2.01it/s]\n"
     ]
    },
    {
     "name": "stdout",
     "output_type": "stream",
     "text": [
      "Epoch: 070, Loss: 0.91550\n",
      "all: h@1: 0.31117 h@5: 0.51678 h@10: 0.60708 ndcg@1: 0.31117 ndcg@5: 0.41968 ndcg@10: 0.44891\n",
      "new: h@1: 0.02691 h@5: 0.19283 h@10: 0.32138 ndcg@1: 0.02691 ndcg@5: 0.10775 ndcg@10: 0.14936\n",
      "rep: h@1: 0.50722 h@5: 0.74021 h@10: 0.80412 ndcg@1: 0.50722 ndcg@5: 0.63482 ndcg@10: 0.65550\n",
      "ratio:  0.5918242830994509\n"
     ]
    },
    {
     "name": "stderr",
     "output_type": "stream",
     "text": [
      "100%|████████████████████████████████████████████████████████████████████████████████| 114/114 [02:54<00:00,  1.53s/it]\n",
      "17it [00:09,  1.87it/s]\n"
     ]
    },
    {
     "name": "stdout",
     "output_type": "stream",
     "text": [
      "Epoch: 071, Loss: 0.91350\n",
      "all: h@1: 0.30811 h@5: 0.51983 h@10: 0.60037 ndcg@1: 0.30811 ndcg@5: 0.42001 ndcg@10: 0.44593\n",
      "new: h@1: 0.02691 h@5: 0.19283 h@10: 0.30643 ndcg@1: 0.02691 ndcg@5: 0.10881 ndcg@10: 0.14541\n",
      "rep: h@1: 0.50206 h@5: 0.74536 h@10: 0.80309 ndcg@1: 0.50206 ndcg@5: 0.63464 ndcg@10: 0.65320\n",
      "ratio:  0.5918242830994509\n"
     ]
    },
    {
     "name": "stderr",
     "output_type": "stream",
     "text": [
      "100%|████████████████████████████████████████████████████████████████████████████████| 114/114 [02:54<00:00,  1.53s/it]\n",
      "17it [00:08,  1.93it/s]\n"
     ]
    },
    {
     "name": "stdout",
     "output_type": "stream",
     "text": [
      "Epoch: 072, Loss: 0.90742\n",
      "all: h@1: 0.30567 h@5: 0.52410 h@10: 0.61074 ndcg@1: 0.30567 ndcg@5: 0.42158 ndcg@10: 0.44974\n",
      "new: h@1: 0.02840 h@5: 0.20329 h@10: 0.31839 ndcg@1: 0.02840 ndcg@5: 0.11451 ndcg@10: 0.15190\n",
      "rep: h@1: 0.49691 h@5: 0.74536 h@10: 0.81237 ndcg@1: 0.49691 ndcg@5: 0.63337 ndcg@10: 0.65516\n",
      "ratio:  0.5918242830994509\n"
     ]
    },
    {
     "name": "stderr",
     "output_type": "stream",
     "text": [
      "100%|████████████████████████████████████████████████████████████████████████████████| 114/114 [02:56<00:00,  1.55s/it]\n",
      "17it [00:08,  1.99it/s]\n"
     ]
    },
    {
     "name": "stdout",
     "output_type": "stream",
     "text": [
      "Epoch: 073, Loss: 0.90242\n",
      "all: h@1: 0.30628 h@5: 0.52166 h@10: 0.60769 ndcg@1: 0.30628 ndcg@5: 0.42042 ndcg@10: 0.44851\n",
      "new: h@1: 0.02691 h@5: 0.19133 h@10: 0.30942 ndcg@1: 0.02691 ndcg@5: 0.10931 ndcg@10: 0.14787\n",
      "rep: h@1: 0.49897 h@5: 0.74948 h@10: 0.81340 ndcg@1: 0.49897 ndcg@5: 0.63498 ndcg@10: 0.65585\n",
      "ratio:  0.5918242830994509\n"
     ]
    },
    {
     "name": "stderr",
     "output_type": "stream",
     "text": [
      "100%|████████████████████████████████████████████████████████████████████████████████| 114/114 [02:52<00:00,  1.51s/it]\n",
      "17it [00:08,  2.02it/s]\n"
     ]
    },
    {
     "name": "stdout",
     "output_type": "stream",
     "text": [
      "Epoch: 074, Loss: 0.89802\n",
      "all: h@1: 0.31117 h@5: 0.52288 h@10: 0.61623 ndcg@1: 0.31117 ndcg@5: 0.42190 ndcg@10: 0.45223\n",
      "new: h@1: 0.02990 h@5: 0.19283 h@10: 0.32287 ndcg@1: 0.02990 ndcg@5: 0.11071 ndcg@10: 0.15324\n",
      "rep: h@1: 0.50515 h@5: 0.75052 h@10: 0.81856 ndcg@1: 0.50515 ndcg@5: 0.63653 ndcg@10: 0.65844\n",
      "ratio:  0.5918242830994509\n"
     ]
    },
    {
     "name": "stderr",
     "output_type": "stream",
     "text": [
      "100%|████████████████████████████████████████████████████████████████████████████████| 114/114 [02:50<00:00,  1.49s/it]\n",
      "17it [00:08,  2.02it/s]\n"
     ]
    },
    {
     "name": "stdout",
     "output_type": "stream",
     "text": [
      "Epoch: 075, Loss: 0.89571\n",
      "all: h@1: 0.30872 h@5: 0.52349 h@10: 0.60769 ndcg@1: 0.30872 ndcg@5: 0.42133 ndcg@10: 0.44875\n",
      "new: h@1: 0.02840 h@5: 0.18984 h@10: 0.31390 ndcg@1: 0.02840 ndcg@5: 0.10856 ndcg@10: 0.14896\n",
      "rep: h@1: 0.50206 h@5: 0.75361 h@10: 0.81031 ndcg@1: 0.50206 ndcg@5: 0.63704 ndcg@10: 0.65551\n",
      "ratio:  0.5918242830994509\n"
     ]
    },
    {
     "name": "stderr",
     "output_type": "stream",
     "text": [
      "100%|████████████████████████████████████████████████████████████████████████████████| 114/114 [02:46<00:00,  1.46s/it]\n",
      "17it [00:08,  2.05it/s]\n"
     ]
    },
    {
     "name": "stdout",
     "output_type": "stream",
     "text": [
      "Epoch: 076, Loss: 0.89057\n",
      "all: h@1: 0.30689 h@5: 0.52776 h@10: 0.60708 ndcg@1: 0.30689 ndcg@5: 0.42253 ndcg@10: 0.44799\n",
      "new: h@1: 0.02392 h@5: 0.20329 h@10: 0.30942 ndcg@1: 0.02392 ndcg@5: 0.11291 ndcg@10: 0.14667\n",
      "rep: h@1: 0.50206 h@5: 0.75155 h@10: 0.81237 ndcg@1: 0.50206 ndcg@5: 0.63607 ndcg@10: 0.65582\n",
      "ratio:  0.5918242830994509\n"
     ]
    },
    {
     "name": "stderr",
     "output_type": "stream",
     "text": [
      "100%|████████████████████████████████████████████████████████████████████████████████| 114/114 [02:41<00:00,  1.42s/it]\n",
      "17it [00:08,  2.05it/s]\n"
     ]
    },
    {
     "name": "stdout",
     "output_type": "stream",
     "text": [
      "Epoch: 077, Loss: 0.88656\n",
      "all: h@1: 0.30933 h@5: 0.52044 h@10: 0.59976 ndcg@1: 0.30933 ndcg@5: 0.42020 ndcg@10: 0.44610\n",
      "new: h@1: 0.02691 h@5: 0.19880 h@10: 0.31241 ndcg@1: 0.02691 ndcg@5: 0.11230 ndcg@10: 0.14922\n",
      "rep: h@1: 0.50412 h@5: 0.74227 h@10: 0.79794 ndcg@1: 0.50412 ndcg@5: 0.63256 ndcg@10: 0.65085\n",
      "ratio:  0.5918242830994509\n"
     ]
    },
    {
     "name": "stderr",
     "output_type": "stream",
     "text": [
      "100%|████████████████████████████████████████████████████████████████████████████████| 114/114 [02:43<00:00,  1.43s/it]\n",
      "17it [00:08,  2.08it/s]\n"
     ]
    },
    {
     "name": "stdout",
     "output_type": "stream",
     "text": [
      "Epoch: 078, Loss: 0.87922\n",
      "all: h@1: 0.31178 h@5: 0.51800 h@10: 0.59732 ndcg@1: 0.31178 ndcg@5: 0.42027 ndcg@10: 0.44615\n",
      "new: h@1: 0.03139 h@5: 0.19880 h@10: 0.30942 ndcg@1: 0.03139 ndcg@5: 0.11402 ndcg@10: 0.14950\n",
      "rep: h@1: 0.50515 h@5: 0.73814 h@10: 0.79588 ndcg@1: 0.50515 ndcg@5: 0.63149 ndcg@10: 0.65075\n",
      "ratio:  0.5918242830994509\n"
     ]
    },
    {
     "name": "stderr",
     "output_type": "stream",
     "text": [
      "100%|████████████████████████████████████████████████████████████████████████████████| 114/114 [02:41<00:00,  1.42s/it]\n",
      "17it [00:08,  2.05it/s]\n"
     ]
    },
    {
     "name": "stdout",
     "output_type": "stream",
     "text": [
      "Epoch: 079, Loss: 0.87442\n",
      "all: h@1: 0.31544 h@5: 0.52715 h@10: 0.60342 ndcg@1: 0.31544 ndcg@5: 0.42631 ndcg@10: 0.45108\n",
      "new: h@1: 0.02990 h@5: 0.21375 h@10: 0.31689 ndcg@1: 0.02990 ndcg@5: 0.12110 ndcg@10: 0.15458\n",
      "rep: h@1: 0.51237 h@5: 0.74330 h@10: 0.80103 ndcg@1: 0.51237 ndcg@5: 0.63682 ndcg@10: 0.65557\n",
      "ratio:  0.5918242830994509\n"
     ]
    },
    {
     "name": "stderr",
     "output_type": "stream",
     "text": [
      "100%|████████████████████████████████████████████████████████████████████████████████| 114/114 [02:40<00:00,  1.41s/it]\n",
      "17it [00:08,  2.01it/s]\n"
     ]
    },
    {
     "name": "stdout",
     "output_type": "stream",
     "text": [
      "Epoch: 080, Loss: 0.86972\n",
      "all: h@1: 0.30628 h@5: 0.51861 h@10: 0.60220 ndcg@1: 0.30628 ndcg@5: 0.41726 ndcg@10: 0.44447\n",
      "new: h@1: 0.02840 h@5: 0.19581 h@10: 0.30792 ndcg@1: 0.02840 ndcg@5: 0.11145 ndcg@10: 0.14795\n",
      "rep: h@1: 0.49794 h@5: 0.74124 h@10: 0.80515 ndcg@1: 0.49794 ndcg@5: 0.62817 ndcg@10: 0.64897\n",
      "ratio:  0.5918242830994509\n"
     ]
    },
    {
     "name": "stderr",
     "output_type": "stream",
     "text": [
      "100%|████████████████████████████████████████████████████████████████████████████████| 114/114 [02:38<00:00,  1.39s/it]\n",
      "17it [00:08,  2.03it/s]\n"
     ]
    },
    {
     "name": "stdout",
     "output_type": "stream",
     "text": [
      "Epoch: 081, Loss: 0.86279\n",
      "all: h@1: 0.30689 h@5: 0.52532 h@10: 0.60830 ndcg@1: 0.30689 ndcg@5: 0.42165 ndcg@10: 0.44876\n",
      "new: h@1: 0.03438 h@5: 0.20628 h@10: 0.31988 ndcg@1: 0.03438 ndcg@5: 0.11956 ndcg@10: 0.15659\n",
      "rep: h@1: 0.49485 h@5: 0.74536 h@10: 0.80722 ndcg@1: 0.49485 ndcg@5: 0.62999 ndcg@10: 0.65027\n",
      "ratio:  0.5918242830994509\n"
     ]
    },
    {
     "name": "stderr",
     "output_type": "stream",
     "text": [
      "100%|████████████████████████████████████████████████████████████████████████████████| 114/114 [02:38<00:00,  1.39s/it]\n",
      "17it [00:08,  2.05it/s]\n"
     ]
    },
    {
     "name": "stdout",
     "output_type": "stream",
     "text": [
      "Epoch: 082, Loss: 0.85643\n",
      "all: h@1: 0.30811 h@5: 0.51434 h@10: 0.59976 ndcg@1: 0.30811 ndcg@5: 0.41680 ndcg@10: 0.44476\n",
      "new: h@1: 0.03438 h@5: 0.20329 h@10: 0.31689 ndcg@1: 0.03438 ndcg@5: 0.11772 ndcg@10: 0.15473\n",
      "rep: h@1: 0.49691 h@5: 0.72887 h@10: 0.79485 ndcg@1: 0.49691 ndcg@5: 0.62308 ndcg@10: 0.64480\n",
      "ratio:  0.5918242830994509\n"
     ]
    },
    {
     "name": "stderr",
     "output_type": "stream",
     "text": [
      "100%|████████████████████████████████████████████████████████████████████████████████| 114/114 [02:38<00:00,  1.39s/it]\n",
      "17it [00:08,  2.04it/s]\n"
     ]
    },
    {
     "name": "stdout",
     "output_type": "stream",
     "text": [
      "Epoch: 083, Loss: 0.85125\n",
      "all: h@1: 0.30445 h@5: 0.51434 h@10: 0.59365 ndcg@1: 0.30445 ndcg@5: 0.41498 ndcg@10: 0.44101\n",
      "new: h@1: 0.03139 h@5: 0.19581 h@10: 0.30045 ndcg@1: 0.03139 ndcg@5: 0.11297 ndcg@10: 0.14708\n",
      "rep: h@1: 0.49278 h@5: 0.73402 h@10: 0.79588 ndcg@1: 0.49278 ndcg@5: 0.62328 ndcg@10: 0.64374\n",
      "ratio:  0.5918242830994509\n"
     ]
    },
    {
     "name": "stderr",
     "output_type": "stream",
     "text": [
      "100%|████████████████████████████████████████████████████████████████████████████████| 114/114 [02:38<00:00,  1.39s/it]\n",
      "17it [00:08,  2.03it/s]\n"
     ]
    },
    {
     "name": "stdout",
     "output_type": "stream",
     "text": [
      "Epoch: 084, Loss: 0.84504\n",
      "all: h@1: 0.30628 h@5: 0.52227 h@10: 0.58694 ndcg@1: 0.30628 ndcg@5: 0.41850 ndcg@10: 0.43956\n",
      "new: h@1: 0.02541 h@5: 0.20628 h@10: 0.29447 ndcg@1: 0.02541 ndcg@5: 0.11465 ndcg@10: 0.14304\n",
      "rep: h@1: 0.50000 h@5: 0.74021 h@10: 0.78866 ndcg@1: 0.50000 ndcg@5: 0.62807 ndcg@10: 0.64406\n",
      "ratio:  0.5918242830994509\n"
     ]
    },
    {
     "name": "stderr",
     "output_type": "stream",
     "text": [
      "100%|████████████████████████████████████████████████████████████████████████████████| 114/114 [02:38<00:00,  1.39s/it]\n",
      "17it [00:08,  2.02it/s]\n"
     ]
    },
    {
     "name": "stdout",
     "output_type": "stream",
     "text": [
      "Epoch: 085, Loss: 0.83849\n",
      "all: h@1: 0.29774 h@5: 0.51434 h@10: 0.58572 ndcg@1: 0.29774 ndcg@5: 0.41296 ndcg@10: 0.43614\n",
      "new: h@1: 0.02691 h@5: 0.20179 h@10: 0.29447 ndcg@1: 0.02691 ndcg@5: 0.11628 ndcg@10: 0.14610\n",
      "rep: h@1: 0.48454 h@5: 0.72990 h@10: 0.78660 ndcg@1: 0.48454 ndcg@5: 0.61757 ndcg@10: 0.63618\n",
      "ratio:  0.5918242830994509\n"
     ]
    },
    {
     "name": "stderr",
     "output_type": "stream",
     "text": [
      "100%|████████████████████████████████████████████████████████████████████████████████| 114/114 [02:44<00:00,  1.44s/it]\n",
      "17it [00:08,  2.03it/s]\n"
     ]
    },
    {
     "name": "stdout",
     "output_type": "stream",
     "text": [
      "Epoch: 086, Loss: 0.83404\n",
      "all: h@1: 0.30811 h@5: 0.51983 h@10: 0.60098 ndcg@1: 0.30811 ndcg@5: 0.42029 ndcg@10: 0.44677\n",
      "new: h@1: 0.03288 h@5: 0.20329 h@10: 0.30942 ndcg@1: 0.03288 ndcg@5: 0.11749 ndcg@10: 0.15201\n",
      "rep: h@1: 0.49794 h@5: 0.73814 h@10: 0.80206 ndcg@1: 0.49794 ndcg@5: 0.62912 ndcg@10: 0.65007\n",
      "ratio:  0.5918242830994509\n"
     ]
    },
    {
     "name": "stderr",
     "output_type": "stream",
     "text": [
      "100%|████████████████████████████████████████████████████████████████████████████████| 114/114 [02:57<00:00,  1.56s/it]\n",
      "17it [00:08,  1.94it/s]\n"
     ]
    },
    {
     "name": "stdout",
     "output_type": "stream",
     "text": [
      "Epoch: 087, Loss: 0.82742\n",
      "all: h@1: 0.30872 h@5: 0.51983 h@10: 0.59182 ndcg@1: 0.30872 ndcg@5: 0.42067 ndcg@10: 0.44415\n",
      "new: h@1: 0.02990 h@5: 0.19880 h@10: 0.29297 ndcg@1: 0.02990 ndcg@5: 0.11408 ndcg@10: 0.14486\n",
      "rep: h@1: 0.50103 h@5: 0.74124 h@10: 0.79794 ndcg@1: 0.50103 ndcg@5: 0.63212 ndcg@10: 0.65057\n",
      "ratio:  0.5918242830994509\n"
     ]
    },
    {
     "name": "stderr",
     "output_type": "stream",
     "text": [
      "100%|████████████████████████████████████████████████████████████████████████████████| 114/114 [03:07<00:00,  1.64s/it]\n",
      "17it [00:08,  1.91it/s]\n"
     ]
    },
    {
     "name": "stdout",
     "output_type": "stream",
     "text": [
      "Epoch: 088, Loss: 0.82614\n",
      "all: h@1: 0.29896 h@5: 0.51800 h@10: 0.59060 ndcg@1: 0.29896 ndcg@5: 0.41538 ndcg@10: 0.43925\n",
      "new: h@1: 0.03139 h@5: 0.20329 h@10: 0.29895 ndcg@1: 0.03139 ndcg@5: 0.11745 ndcg@10: 0.14898\n",
      "rep: h@1: 0.48351 h@5: 0.73505 h@10: 0.79175 ndcg@1: 0.48351 ndcg@5: 0.62085 ndcg@10: 0.63945\n",
      "ratio:  0.5918242830994509\n"
     ]
    },
    {
     "name": "stderr",
     "output_type": "stream",
     "text": [
      "100%|████████████████████████████████████████████████████████████████████████████████| 114/114 [02:57<00:00,  1.56s/it]\n",
      "17it [00:08,  1.95it/s]\n"
     ]
    },
    {
     "name": "stdout",
     "output_type": "stream",
     "text": [
      "Epoch: 089, Loss: 0.81838\n",
      "all: h@1: 0.29225 h@5: 0.51251 h@10: 0.58267 ndcg@1: 0.29225 ndcg@5: 0.40961 ndcg@10: 0.43269\n",
      "new: h@1: 0.03139 h@5: 0.19880 h@10: 0.28999 ndcg@1: 0.03139 ndcg@5: 0.11452 ndcg@10: 0.14494\n",
      "rep: h@1: 0.47216 h@5: 0.72887 h@10: 0.78454 ndcg@1: 0.47216 ndcg@5: 0.61314 ndcg@10: 0.63115\n",
      "ratio:  0.5918242830994509\n"
     ]
    },
    {
     "name": "stderr",
     "output_type": "stream",
     "text": [
      "100%|████████████████████████████████████████████████████████████████████████████████| 114/114 [02:52<00:00,  1.51s/it]\n",
      "17it [00:08,  1.94it/s]\n"
     ]
    },
    {
     "name": "stdout",
     "output_type": "stream",
     "text": [
      "Epoch: 090, Loss: 0.81398\n",
      "all: h@1: 0.29713 h@5: 0.51678 h@10: 0.58450 ndcg@1: 0.29713 ndcg@5: 0.41302 ndcg@10: 0.43501\n",
      "new: h@1: 0.02990 h@5: 0.19432 h@10: 0.28700 ndcg@1: 0.02990 ndcg@5: 0.11275 ndcg@10: 0.14265\n",
      "rep: h@1: 0.48144 h@5: 0.73918 h@10: 0.78969 ndcg@1: 0.48144 ndcg@5: 0.62011 ndcg@10: 0.63665\n",
      "ratio:  0.5918242830994509\n"
     ]
    },
    {
     "name": "stderr",
     "output_type": "stream",
     "text": [
      "100%|████████████████████████████████████████████████████████████████████████████████| 114/114 [02:55<00:00,  1.54s/it]\n",
      "17it [00:08,  1.96it/s]\n"
     ]
    },
    {
     "name": "stdout",
     "output_type": "stream",
     "text": [
      "Epoch: 091, Loss: 0.81113\n",
      "all: h@1: 0.30445 h@5: 0.51983 h@10: 0.58206 ndcg@1: 0.30445 ndcg@5: 0.41670 ndcg@10: 0.43705\n",
      "new: h@1: 0.02840 h@5: 0.19731 h@10: 0.28401 ndcg@1: 0.02840 ndcg@5: 0.11268 ndcg@10: 0.14077\n",
      "rep: h@1: 0.49485 h@5: 0.74227 h@10: 0.78763 ndcg@1: 0.49485 ndcg@5: 0.62639 ndcg@10: 0.64139\n",
      "ratio:  0.5918242830994509\n"
     ]
    },
    {
     "name": "stderr",
     "output_type": "stream",
     "text": [
      "100%|████████████████████████████████████████████████████████████████████████████████| 114/114 [02:56<00:00,  1.55s/it]\n",
      "17it [00:08,  1.91it/s]\n"
     ]
    },
    {
     "name": "stdout",
     "output_type": "stream",
     "text": [
      "Epoch: 092, Loss: 0.80662\n",
      "all: h@1: 0.30689 h@5: 0.52288 h@10: 0.58145 ndcg@1: 0.30689 ndcg@5: 0.42074 ndcg@10: 0.43956\n",
      "new: h@1: 0.03288 h@5: 0.19731 h@10: 0.28401 ndcg@1: 0.03288 ndcg@5: 0.11592 ndcg@10: 0.14352\n",
      "rep: h@1: 0.49588 h@5: 0.74742 h@10: 0.78660 ndcg@1: 0.49588 ndcg@5: 0.63097 ndcg@10: 0.64373\n",
      "ratio:  0.5918242830994509\n"
     ]
    },
    {
     "name": "stderr",
     "output_type": "stream",
     "text": [
      "100%|████████████████████████████████████████████████████████████████████████████████| 114/114 [02:59<00:00,  1.57s/it]\n",
      "17it [00:08,  2.01it/s]\n"
     ]
    },
    {
     "name": "stdout",
     "output_type": "stream",
     "text": [
      "Epoch: 093, Loss: 0.80709\n",
      "all: h@1: 0.31544 h@5: 0.51983 h@10: 0.58145 ndcg@1: 0.31544 ndcg@5: 0.42377 ndcg@10: 0.44381\n",
      "new: h@1: 0.03438 h@5: 0.19283 h@10: 0.27803 ndcg@1: 0.03438 ndcg@5: 0.11367 ndcg@10: 0.14136\n",
      "rep: h@1: 0.50928 h@5: 0.74536 h@10: 0.79072 ndcg@1: 0.50928 ndcg@5: 0.63764 ndcg@10: 0.65240\n",
      "ratio:  0.5918242830994509\n"
     ]
    },
    {
     "name": "stderr",
     "output_type": "stream",
     "text": [
      "100%|████████████████████████████████████████████████████████████████████████████████| 114/114 [03:02<00:00,  1.60s/it]\n",
      "17it [00:08,  1.97it/s]\n"
     ]
    },
    {
     "name": "stdout",
     "output_type": "stream",
     "text": [
      "Epoch: 094, Loss: 0.79983\n",
      "all: h@1: 0.30506 h@5: 0.52105 h@10: 0.58267 ndcg@1: 0.30506 ndcg@5: 0.41834 ndcg@10: 0.43842\n",
      "new: h@1: 0.02840 h@5: 0.20030 h@10: 0.28102 ndcg@1: 0.02840 ndcg@5: 0.11397 ndcg@10: 0.13976\n",
      "rep: h@1: 0.49588 h@5: 0.74227 h@10: 0.79072 ndcg@1: 0.49588 ndcg@5: 0.62825 ndcg@10: 0.64440\n",
      "ratio:  0.5918242830994509\n"
     ]
    },
    {
     "name": "stderr",
     "output_type": "stream",
     "text": [
      "24it [00:12,  1.89it/s]"
     ]
    },
    {
     "name": "stdout",
     "output_type": "stream",
     "text": [
      "Final score\n",
      "===========\n",
      "Epoch: 094, Loss: 0.79983\n",
      "all: h@1: 0.30646 h@5: 0.49894 h@10: 0.57155 ndcg@1: 0.30646 ndcg@5: 0.40871 ndcg@10: 0.43241\n",
      "new: h@1: 0.01102 h@5: 0.16034 h@10: 0.24113 ndcg@1: 0.01102 ndcg@5: 0.08779 ndcg@10: 0.11387\n",
      "rep: h@1: 0.46198 h@5: 0.67719 h@10: 0.74549 ndcg@1: 0.46198 ndcg@5: 0.57765 ndcg@10: 0.60009\n",
      "ratio:  0.6551287463064585\n"
     ]
    },
    {
     "name": "stderr",
     "output_type": "stream",
     "text": [
      "\n"
     ]
    }
   ],
   "source": [
    "print(\"training...\")\n",
    "for epoch in range(args.num_epochs):\n",
    "    loss_all = 0.0; loss_cnt = 0\n",
    "    model7.train()\n",
    "    for data in tqdm(train_loader):\n",
    "        data = data.to(args.device)\n",
    "        optimizer.zero_grad()\n",
    "    \n",
    "        loss = model7.train_step(data)\n",
    "            \n",
    "        loss_all += loss.item()\n",
    "        loss_cnt += (data[:,:,5]!=0).sum()\n",
    "        \n",
    "#         loss1 = loss.detach_().requires_grad_(True)\n",
    "#         loss1.backward()\n",
    "        loss.backward()\n",
    "        optimizer.step()\n",
    "            \n",
    "        if torch.isnan(loss):\n",
    "            print(\"loss is nan !\") \n",
    "    \n",
    "    scores = compute_recall(model7, val_loader, args, maxit=500)\n",
    "    print('Epoch: {:03d}, Loss: {:.5f}'.format(epoch, loss_all/loss_cnt))\n",
    "    print_scores(scores)\n",
    "    \n",
    "    hall = scores['all']['h01']\n",
    "    if hall>best_val:\n",
    "        best_val = hall\n",
    "        torch.save(model7.state_dict(), MPATH7)\n",
    "        best_cnt = best_max\n",
    "    else:\n",
    "        best_cnt -= 1\n",
    "        if best_cnt == 0:\n",
    "            break\n",
    "    \n",
    "model7 = MODEL7(args).to(args.device)\n",
    "model7.load_state_dict(torch.load(MPATH7))\n",
    "    \n",
    "scores = compute_recall(model7, test_loader, args)\n",
    "print(\"Final score\")\n",
    "print(\"=\"*11)\n",
    "print('Epoch: {:03d}, Loss: {:.5f}'.format(epoch, loss_all/loss_cnt))\n",
    "print_scores(scores)\n",
    "save_scores(scores,args)"
   ]
  },
  {
   "cell_type": "code",
   "execution_count": null,
   "id": "6b70c95e",
   "metadata": {},
   "outputs": [],
   "source": []
  },
  {
   "cell_type": "code",
   "execution_count": 16,
   "id": "1fc5708b",
   "metadata": {},
   "outputs": [],
   "source": [
    "# 定义模型\n",
    "class TimeAwareAttentionMemory(torch.nn.Module):\n",
    "    def __init__(self, embedding_dim, memory_dim, num_intervals, interval_dim, output_dim):\n",
    "        super(TimeAwareAttentionMemory, self).__init__()\n",
    "        self.num_intervals = num_intervals\n",
    "\n",
    "        # 定义嵌入层\n",
    "        self.item_embedding = nn.Embedding(num_items, embedding_dim)  # item嵌入\n",
    "        self.interval_embedding = nn.Embedding(num_intervals, interval_dim)  # 间隔嵌入\n",
    "        self.time_embedding = nn.Embedding(num_intervals, embedding_dim)  # 时间间隔嵌入\n",
    "\n",
    "        # 定义记忆网络\n",
    "        self.memory_network = nn.LSTM(embedding_dim, memory_dim, batch_first=True)  # LSTM记忆网络\n",
    "\n",
    "        # 定义注意力网络和输出网络\n",
    "        self.attention_network = nn.Sequential(\n",
    "            nn.Linear(memory_dim + interval_dim, 1),  # 注意力网络\n",
    "            nn.Softmax(dim=1)\n",
    "        )\n",
    "        self.output_network = nn.Linear(memory_dim, output_dim)  # 输出网络\n",
    "\n",
    "    def forward(self, input_seq, interval_seq):\n",
    "        # 嵌入输入序列\n",
    "        input_emb = self.item_embedding(input_seq)  # 物品嵌入\n",
    "\n",
    "        # 嵌入时间间隔序列\n",
    "        interval_emb = self.interval_embedding(interval_seq)  # 间隔嵌入\n",
    "        time_emb = self.time_embedding(interval_seq)  # 时间间隔嵌入\n",
    "\n",
    "        # 嵌入时间间隔\n",
    "        interval_len = input_seq.size(1) // self.num_intervals  # 每个间隔的长度\n",
    "        intervals = (torch.arange(self.num_intervals) * interval_len).unsqueeze(0) + torch.arange(\n",
    "            interval_len).unsqueeze(1)  # 间隔序列\n",
    "        interval_emb = interval_emb[:, intervals]  # 每个间隔的嵌入\n",
    "        time_emb = time_emb[:, intervals]  # 每个时间间隔的嵌入\n",
    "\n",
    "        # 组合输入序列\n",
    "        packed_input = nn.utils.rnn.pack_padded_sequence(input_emb, input_lens, batch_first=True, enforce_sorted=False)\n",
    "\n",
    "        # 通过记忆网络处理输入序列\n",
    "        memory, _ = self.memory_network(packed_input)  # LSTM的输出\n",
    "\n",
    "        # 填充记忆向量序列\n",
    "        memory, _ = nn.utils.rnn.pad_packed_sequence(memory, batch_first=True)  # LSTM的输出序列\n",
    "\n",
    "        # 计算注意力分数\n",
    "        time_emb = time_emb.unsqueeze(2).repeat(1, 1, memory.size(2))  # 将时间间隔的嵌入复制到与记忆向量匹配的维度\n",
    "        attn_input = torch.cat([memory, interval_emb, time_emb], dim=2)  # 注意力计算的输入\n",
    "        attn_scores = self.attention_network(attn_input)  # 计算注意力权重\n",
    "\n",
    "        # 应用注意力到记忆向量\n",
    "        attn_scores = attn_scores.unsqueeze(2)\n",
    "        memory_attn = (attn_scores * memory).sum(dim=1)  # 注意力记忆向量\n",
    "\n",
    "        # 通过输出网络处理记忆向量\n",
    "        output = self.output_network(memory_attn)  # 最终输出\n",
    "        return output"
   ]
  }
 ],
 "metadata": {
  "kernelspec": {
   "display_name": "base",
   "language": "python",
   "name": "base"
  },
  "language_info": {
   "codemirror_mode": {
    "name": "ipython",
    "version": 3
   },
   "file_extension": ".py",
   "mimetype": "text/x-python",
   "name": "python",
   "nbconvert_exporter": "python",
   "pygments_lexer": "ipython3",
   "version": "3.9.13"
  }
 },
 "nbformat": 4,
 "nbformat_minor": 5
}
