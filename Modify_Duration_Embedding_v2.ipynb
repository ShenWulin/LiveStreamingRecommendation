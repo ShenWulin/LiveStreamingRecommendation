{
 "cells": [
  {
   "cell_type": "code",
   "execution_count": 1,
   "id": "b7beb3f8",
   "metadata": {},
   "outputs": [],
   "source": [
    "import pandas as pd\n",
    "import numpy as np\n",
    "import matplotlib.pyplot as plt"
   ]
  },
  {
   "cell_type": "code",
   "execution_count": 2,
   "id": "4a91326e",
   "metadata": {},
   "outputs": [],
   "source": [
    "import argparse\n",
    "from prettytable import PrettyTable"
   ]
  },
  {
   "cell_type": "code",
   "execution_count": 3,
   "id": "6800cf2e",
   "metadata": {},
   "outputs": [],
   "source": [
    "from sampling import *\n",
    "\n",
    "import torch.utils.data as data\n",
    "from torch.utils.data import DataLoader"
   ]
  },
  {
   "cell_type": "code",
   "execution_count": 4,
   "id": "355018da",
   "metadata": {},
   "outputs": [],
   "source": [
    "import torch\n",
    "import torch.optim as optim"
   ]
  },
  {
   "cell_type": "code",
   "execution_count": 5,
   "id": "58ec372b",
   "metadata": {},
   "outputs": [],
   "source": [
    "import os\n",
    "import torch\n",
    "import pickle\n",
    "from tqdm import tqdm"
   ]
  },
  {
   "cell_type": "code",
   "execution_count": 6,
   "id": "143f9ca5",
   "metadata": {},
   "outputs": [],
   "source": [
    "def print_args(parse_args):\n",
    "    x = PrettyTable()\n",
    "    x.field_names = [\"Arg.\", \"Value\"]\n",
    "    for arg in vars(parse_args):\n",
    "        x.add_row([arg, getattr(parse_args, arg)])\n",
    "    print(x)"
   ]
  },
  {
   "cell_type": "code",
   "execution_count": 7,
   "id": "3375dd37",
   "metadata": {},
   "outputs": [],
   "source": [
    "def arg_parse():\n",
    "        parser = argparse.ArgumentParser(description='LiveRec - Douyu')\n",
    "\n",
    "        parser.add_argument('--seed', dest='seed', type=int,\n",
    "            help='Random seed')\n",
    "\n",
    "        parser.add_argument('--batch_size', dest='batch_size', type=int,\n",
    "            help='Batch size - only active if torch is used')\n",
    "        parser.add_argument('--seq_len', dest='seq_len', type=int,\n",
    "            help='Max size of the sequence to consider')\n",
    "\n",
    "        parser.add_argument('--num_heads', dest='num_heads', type=int,\n",
    "            help='Numer of heads to use for multi-heads attention')\n",
    "        parser.add_argument('--num_heads_ctx', dest='num_heads_ctx', type=int,\n",
    "            help='Numer of heads to use for multi-heads attention CTX')\n",
    "\n",
    "\n",
    "        parser.add_argument('--dataset', dest='dataset', \n",
    "            help='Input dataset.')\n",
    " \n",
    "        parser.add_argument('--model', dest='model', type=str,\n",
    "            help='Type of the model')\n",
    "\n",
    "        parser.add_argument('--model_from', dest='mfrom', type=str,\n",
    "            help='Name of the model to load')\n",
    "        parser.add_argument('--model_to', dest='mto', type=str,\n",
    "            help='Name of the model to save')\n",
    "        parser.add_argument('--cache_dir', dest='cache_dir', type=str,\n",
    "            help='Path to save the cached preprocessd dataset')\n",
    " \n",
    "        parser.add_argument('--model_path', dest='model_path', type=str,\n",
    "            help='Path to save the model')\n",
    "        parser.add_argument('--early_stop', dest='early_stop', type=int,\n",
    "            help='Number of iteration without improvment before stop')\n",
    "        parser.add_argument('--ev_sample', dest='ev_sample', type=int,\n",
    "            help='Number of samples for the final evaluation')\n",
    "        parser.add_argument('--device', dest='device', type=str,\n",
    "            help='Pytorch device')\n",
    "\n",
    "        parser.add_argument('--lr', dest='lr', type=float,\n",
    "            help='Learning rate.')\n",
    "        parser.add_argument('--mask_prob', dest='mask_prob', type=float,\n",
    "            help='BERT mask prob.')\n",
    "        parser.add_argument('--l2', dest='l2', type=float,\n",
    "            help='Strength of L2 regularization')\n",
    "        parser.add_argument('--dim', dest='K', type=int,\n",
    "            help='Number of latent factors')\n",
    " \n",
    "        parser.add_argument('--num_iters', dest='num_iter', type=int,\n",
    "            help='Number of training iterations')\n",
    "        parser.add_argument('--num_epochs', dest='num_epochs', type=int,\n",
    "            help='Number of training epochs')\n",
    "        parser.add_argument('--num_att', dest='num_att', type=int,\n",
    "            help='Num attention module for seq encoding')\n",
    "        parser.add_argument('--num_att_ctx', dest='num_att_ctx', type=int,\n",
    "            help='Num attention for ctx module')\n",
    " \n",
    "        parser.add_argument('--topk_att', dest='topk_att', type=int,\n",
    "            help='Items to send to attentive output')\n",
    "\n",
    "        parser.add_argument('--fr_ctx', dest='fr_ctx', nargs='?',\n",
    "            const=True, default=True,\n",
    "            help='')\n",
    "        parser.add_argument('--fr_rep', dest='fr_rep', nargs='?',\n",
    "            const=True, default=False,\n",
    "            help='')\n",
    "        parser.add_argument('--uniform', dest='uniform', nargs='?',\n",
    "            const=True, default=False,\n",
    "            help='')\n",
    "        parser.add_argument('--debug', dest='debug', nargs='?',\n",
    "            const=True, default=False,\n",
    "            help='')\n",
    "#         parser.add_argument('--caching', dest='caching', nargs='?',\n",
    "#             const=True, default=False,\n",
    "#             help='')\n",
    "        parser.add_argument('--caching', dest='caching', nargs='?',\n",
    "            const=True, default=True,\n",
    "            help='')\n",
    "\n",
    "        parser.set_defaults(\n",
    "                        seed=42,\n",
    "                        dataset=\"\",\n",
    "                        lr=0.0005,\n",
    "                        l2=0.1,  \n",
    "                        mask_prob=0.5,  \n",
    "                        batch_size=100, \n",
    "                        num_att=2,\n",
    "                        num_att_ctx=2,\n",
    "                        num_heads=4,\n",
    "                        num_heads_ctx=4,\n",
    "                        num_iter=200,\n",
    "                        seq_len=16,  \n",
    "                        topk_att=64,  \n",
    "                        early_stop=15,  \n",
    "                        K=64,  \n",
    "                        num_epochs=150,\n",
    "#                         model=\"LiveRec\",\n",
    "                        model=\"POP\",\n",
    "                        model_path=\"\",\n",
    "                        mto=\"liverec\",\n",
    "                        device=\"cuda\",\n",
    "                        cache_dir=\"\"\n",
    "                       )\n",
    "\n",
    "\n",
    "        args, unknown = parser.parse_known_args()\n",
    "        return args "
   ]
  },
  {
   "cell_type": "code",
   "execution_count": 8,
   "id": "526f32ab",
   "metadata": {},
   "outputs": [
    {
     "name": "stdout",
     "output_type": "stream",
     "text": [
      "+---------------+---------+\n",
      "|      Arg.     |  Value  |\n",
      "+---------------+---------+\n",
      "|      seed     |    42   |\n",
      "|   batch_size  |   100   |\n",
      "|    seq_len    |    16   |\n",
      "|   num_heads   |    4    |\n",
      "| num_heads_ctx |    4    |\n",
      "|    dataset    |         |\n",
      "|     model     |   POP   |\n",
      "|     mfrom     |   None  |\n",
      "|      mto      | liverec |\n",
      "|   cache_dir   |         |\n",
      "|   model_path  |         |\n",
      "|   early_stop  |    15   |\n",
      "|   ev_sample   |   None  |\n",
      "|     device    |   cuda  |\n",
      "|       lr      |  0.0005 |\n",
      "|   mask_prob   |   0.5   |\n",
      "|       l2      |   0.1   |\n",
      "|       K       |    64   |\n",
      "|    num_iter   |   200   |\n",
      "|   num_epochs  |   150   |\n",
      "|    num_att    |    2    |\n",
      "|  num_att_ctx  |    2    |\n",
      "|    topk_att   |    64   |\n",
      "|     fr_ctx    |   True  |\n",
      "|     fr_rep    |  False  |\n",
      "|    uniform    |  False  |\n",
      "|     debug     |  False  |\n",
      "|    caching    |   True  |\n",
      "+---------------+---------+\n"
     ]
    }
   ],
   "source": [
    "args = arg_parse()\n",
    "print_args(args)\n",
    "args.device = torch.device(args.device)"
   ]
  },
  {
   "cell_type": "code",
   "execution_count": null,
   "id": "4669f7dd",
   "metadata": {},
   "outputs": [],
   "source": []
  },
  {
   "cell_type": "code",
   "execution_count": 9,
   "id": "eb3f5da1",
   "metadata": {},
   "outputs": [
    {
     "name": "stdout",
     "output_type": "stream",
     "text": [
      "Num users:  11610\n",
      "Num streamers:  47612\n",
      "Num interactions:  5378125\n"
     ]
    }
   ],
   "source": [
    "INFILE = os.path.join(args.dataset,'douyu_10k_min_duration.csv')\n",
    "#user,streamer_id,start,stop\n",
    "cols = [\"user\",\"streamer\",\"start\",\"stop\",\"duration\"]\n",
    "data_fu = pd.read_csv(INFILE, header=None, names=cols)\n",
    "    \n",
    "# Add one for padding\n",
    "data_fu.user = pd.factorize(data_fu.user)[0]+1\n",
    "data_fu['streamer_raw'] = data_fu.streamer\n",
    "data_fu.streamer = pd.factorize(data_fu.streamer)[0]+1\n",
    "print(\"Num users: \", data_fu.user.nunique())\n",
    "print(\"Num streamers: \", data_fu.streamer.nunique())\n",
    "print(\"Num interactions: \", len(data_fu))"
   ]
  },
  {
   "cell_type": "code",
   "execution_count": 10,
   "id": "8b5368ba",
   "metadata": {},
   "outputs": [
    {
     "data": {
      "text/plain": [
       "(0, 87839, 1, 87840)"
      ]
     },
     "execution_count": 10,
     "metadata": {},
     "output_type": "execute_result"
    }
   ],
   "source": [
    "data_fu.start.min(),data_fu.start.max(),data_fu.stop.min(),data_fu.stop.max()"
   ]
  },
  {
   "cell_type": "code",
   "execution_count": 11,
   "id": "5cad0a55",
   "metadata": {},
   "outputs": [],
   "source": [
    "args.M = data_fu.user.max()+1 # users\n",
    "args.N = data_fu.streamer.max()+2 # items\n",
    "args.D = data_fu.duration.max()+1 # duration\n",
    "\n",
    "data_temp = data_fu.drop_duplicates(subset=['streamer','streamer_raw'])\n",
    "umap      = dict(zip(data_temp.streamer_raw.tolist(),data_temp.streamer.tolist()))"
   ]
  },
  {
   "cell_type": "code",
   "execution_count": 12,
   "id": "8fafe00b",
   "metadata": {},
   "outputs": [
    {
     "data": {
      "text/plain": [
       "(11611, 47614, 2883)"
      ]
     },
     "execution_count": 12,
     "metadata": {},
     "output_type": "execute_result"
    }
   ],
   "source": [
    "args.M ,args.N ,args.D"
   ]
  },
  {
   "cell_type": "code",
   "execution_count": 13,
   "id": "b6d96521",
   "metadata": {},
   "outputs": [
    {
     "name": "stdout",
     "output_type": "stream",
     "text": [
      "Num timesteps:  87840\n"
     ]
    }
   ],
   "source": [
    "# Splitting and caching\n",
    "max_step = max(data_fu.start.max(),data_fu.stop.max())\n",
    "print(\"Num timesteps: \", max_step)\n",
    "args.max_step = max_step\n",
    "args.pivot_1  = max_step-500\n",
    "args.pivot_2  = max_step-250"
   ]
  },
  {
   "cell_type": "code",
   "execution_count": 14,
   "id": "ca8bea7d",
   "metadata": {},
   "outputs": [
    {
     "name": "stdout",
     "output_type": "stream",
     "text": [
      "caching availability\n",
      "max_avail:  446\n"
     ]
    }
   ],
   "source": [
    "print(\"caching availability\")\n",
    "ts = {}\n",
    "max_avail = 0\n",
    "for s in range(max_step):\n",
    "    all_av = data_fu[(data_fu.start<=s) & (data_fu.stop>s)].streamer.unique().tolist()\n",
    "    ts[s] = all_av\n",
    "    max_avail = max(max_avail,len(ts[s]))\n",
    "args.max_avail = max_avail\n",
    "args.ts = ts\n",
    "print(\"max_avail: \", max_avail)"
   ]
  },
  {
   "cell_type": "code",
   "execution_count": 15,
   "id": "674384c0",
   "metadata": {},
   "outputs": [],
   "source": [
    "# Compute availability matrix of size (num_timesteps x max_available)\n",
    "max_av   = max([len(v) for k,v in args.ts.items()])\n",
    "max_step = max([k for k,v in args.ts.items()])+1\n",
    "av_tens = torch.zeros(max_step,max_av).type(torch.long)\n",
    "for k,v in args.ts.items():\n",
    "    av_tens[k,:len(v)] = torch.LongTensor(v)\n",
    "args.av_tens = av_tens.to(args.device)"
   ]
  },
  {
   "cell_type": "code",
   "execution_count": 16,
   "id": "f6ab1041",
   "metadata": {
    "scrolled": true
   },
   "outputs": [
    {
     "data": {
      "text/html": [
       "<div>\n",
       "<style scoped>\n",
       "    .dataframe tbody tr th:only-of-type {\n",
       "        vertical-align: middle;\n",
       "    }\n",
       "\n",
       "    .dataframe tbody tr th {\n",
       "        vertical-align: top;\n",
       "    }\n",
       "\n",
       "    .dataframe thead th {\n",
       "        text-align: right;\n",
       "    }\n",
       "</style>\n",
       "<table border=\"1\" class=\"dataframe\">\n",
       "  <thead>\n",
       "    <tr style=\"text-align: right;\">\n",
       "      <th></th>\n",
       "      <th>user</th>\n",
       "      <th>streamer</th>\n",
       "      <th>start</th>\n",
       "      <th>stop</th>\n",
       "      <th>duration</th>\n",
       "      <th>streamer_raw</th>\n",
       "    </tr>\n",
       "  </thead>\n",
       "  <tbody>\n",
       "    <tr>\n",
       "      <th>0</th>\n",
       "      <td>1</td>\n",
       "      <td>1</td>\n",
       "      <td>81824</td>\n",
       "      <td>81825</td>\n",
       "      <td>2</td>\n",
       "      <td>1211089da67</td>\n",
       "    </tr>\n",
       "    <tr>\n",
       "      <th>1</th>\n",
       "      <td>1</td>\n",
       "      <td>2</td>\n",
       "      <td>73720</td>\n",
       "      <td>73721</td>\n",
       "      <td>1</td>\n",
       "      <td>eb5bf69ab60</td>\n",
       "    </tr>\n",
       "    <tr>\n",
       "      <th>2</th>\n",
       "      <td>1</td>\n",
       "      <td>1</td>\n",
       "      <td>81825</td>\n",
       "      <td>81834</td>\n",
       "      <td>18</td>\n",
       "      <td>1211089da67</td>\n",
       "    </tr>\n",
       "    <tr>\n",
       "      <th>3</th>\n",
       "      <td>1</td>\n",
       "      <td>2</td>\n",
       "      <td>73673</td>\n",
       "      <td>73676</td>\n",
       "      <td>4</td>\n",
       "      <td>eb5bf69ab60</td>\n",
       "    </tr>\n",
       "    <tr>\n",
       "      <th>4</th>\n",
       "      <td>1</td>\n",
       "      <td>1</td>\n",
       "      <td>81745</td>\n",
       "      <td>81750</td>\n",
       "      <td>9</td>\n",
       "      <td>1211089da67</td>\n",
       "    </tr>\n",
       "    <tr>\n",
       "      <th>...</th>\n",
       "      <td>...</td>\n",
       "      <td>...</td>\n",
       "      <td>...</td>\n",
       "      <td>...</td>\n",
       "      <td>...</td>\n",
       "      <td>...</td>\n",
       "    </tr>\n",
       "    <tr>\n",
       "      <th>5378120</th>\n",
       "      <td>11610</td>\n",
       "      <td>8849</td>\n",
       "      <td>21366</td>\n",
       "      <td>21368</td>\n",
       "      <td>2</td>\n",
       "      <td>80ec36cddc2</td>\n",
       "    </tr>\n",
       "    <tr>\n",
       "      <th>5378121</th>\n",
       "      <td>11610</td>\n",
       "      <td>8849</td>\n",
       "      <td>21364</td>\n",
       "      <td>21367</td>\n",
       "      <td>4</td>\n",
       "      <td>80ec36cddc2</td>\n",
       "    </tr>\n",
       "    <tr>\n",
       "      <th>5378122</th>\n",
       "      <td>11610</td>\n",
       "      <td>8849</td>\n",
       "      <td>21319</td>\n",
       "      <td>21332</td>\n",
       "      <td>24</td>\n",
       "      <td>80ec36cddc2</td>\n",
       "    </tr>\n",
       "    <tr>\n",
       "      <th>5378123</th>\n",
       "      <td>11610</td>\n",
       "      <td>8849</td>\n",
       "      <td>21362</td>\n",
       "      <td>21365</td>\n",
       "      <td>4</td>\n",
       "      <td>80ec36cddc2</td>\n",
       "    </tr>\n",
       "    <tr>\n",
       "      <th>5378124</th>\n",
       "      <td>11610</td>\n",
       "      <td>8849</td>\n",
       "      <td>21303</td>\n",
       "      <td>21312</td>\n",
       "      <td>16</td>\n",
       "      <td>80ec36cddc2</td>\n",
       "    </tr>\n",
       "  </tbody>\n",
       "</table>\n",
       "<p>5378125 rows × 6 columns</p>\n",
       "</div>"
      ],
      "text/plain": [
       "          user  streamer  start   stop  duration streamer_raw\n",
       "0            1         1  81824  81825         2  1211089da67\n",
       "1            1         2  73720  73721         1  eb5bf69ab60\n",
       "2            1         1  81825  81834        18  1211089da67\n",
       "3            1         2  73673  73676         4  eb5bf69ab60\n",
       "4            1         1  81745  81750         9  1211089da67\n",
       "...        ...       ...    ...    ...       ...          ...\n",
       "5378120  11610      8849  21366  21368         2  80ec36cddc2\n",
       "5378121  11610      8849  21364  21367         4  80ec36cddc2\n",
       "5378122  11610      8849  21319  21332        24  80ec36cddc2\n",
       "5378123  11610      8849  21362  21365         4  80ec36cddc2\n",
       "5378124  11610      8849  21303  21312        16  80ec36cddc2\n",
       "\n",
       "[5378125 rows x 6 columns]"
      ]
     },
     "execution_count": 16,
     "metadata": {},
     "output_type": "execute_result"
    }
   ],
   "source": [
    "data_fu"
   ]
  },
  {
   "cell_type": "code",
   "execution_count": 17,
   "id": "4ab1a220",
   "metadata": {},
   "outputs": [],
   "source": [
    "def custom_collate(batch,args):\n",
    "    # returns a [batch x seq x feats] tensor\n",
    "    # feats: [padded_positions,positions,inputs_ts,items,users,targets,targets_ts]\n",
    "\n",
    "    bs = len(batch)\n",
    "    feat_len = len(batch[0])\n",
    "    batch_seq = torch.zeros(bs,args.seq_len, feat_len, dtype=torch.long)\n",
    "    for ib,b in enumerate(batch):\n",
    "        for ifeat,feat in enumerate(b):\n",
    "            batch_seq[ib,b[0],ifeat] = feat\n",
    "    return batch_seq"
   ]
  },
  {
   "cell_type": "code",
   "execution_count": 18,
   "id": "440fc1a9",
   "metadata": {},
   "outputs": [],
   "source": [
    "class SequenceDataset(data.Dataset):\n",
    "    def __init__(self, data):\n",
    "        self.data = data\n",
    "\n",
    "    def __len__(self):\n",
    "        return len(self.data)\n",
    "\n",
    "    def __getitem__(self, idx):\n",
    "        return self.data[idx]\n",
    "\n",
    "def collate_fn_padd(batch):\n",
    "    '''\n",
    "    Padds batch of variable length\n",
    "\n",
    "    note: it converts things ToTensor manually here since the ToTensor transform\n",
    "    assume it takes in images rather than arbitrary tensors.\n",
    "    '''\n",
    "    ## get sequence lengths\n",
    "    lengths = torch.tensor([ t.shape[0] for t in batch ]).to(device)\n",
    "    ## padd\n",
    "    batch = [ torch.Tensor(t).to(device) for t in batch ]\n",
    "    batch = torch.nn.utils.rnn.pad_sequence(batch)\n",
    "    ## compute mask\n",
    "    mask = (batch != 0).to(device)\n",
    "    return batch, lengths, mask\n",
    "\n",
    "def get_sequences(_data, _p1, _p2, args, max_u=int(10e9)):\n",
    "    data_list = []\n",
    "\n",
    "    _data = _data[_data.stop<_p2].copy()\n",
    "    \n",
    "    grouped = _data.groupby('user')\n",
    "    for user_id, group in tqdm(grouped):\n",
    "        group = group.sort_values('start')\n",
    "        group = group.tail(args.seq_len+1)\n",
    "        if len(group)<2: continue\n",
    "\n",
    "        group = group.reset_index(drop=True) \n",
    "        \n",
    "        # Get last interaction\n",
    "        last_el = group.tail(1)\n",
    "        yt = last_el.start.values[0]\n",
    "        group.drop(last_el.index,inplace=True)\n",
    "\n",
    "        # avoid including train in test/validation\n",
    "        if yt < _p1 or yt >= _p2: continue\n",
    "\n",
    "        padlen = args.seq_len - len(group)\n",
    "\n",
    "        # sequence input features\n",
    "        positions  = torch.LongTensor(group.index.values)\n",
    "        inputs_ts  = torch.LongTensor(group.start.values)\n",
    "        items      = torch.LongTensor(group['streamer'].values)\n",
    "        duration   = torch.LongTensor(group['duration'].values)\n",
    "        users      = torch.LongTensor(group.user.values)\n",
    "        bpad       = torch.LongTensor(group.index.values + padlen)\n",
    "        diff_du    = torch.LongTensor(np.diff(np.array(inputs_ts[1:].tolist() + [last_el.start.values[0]])))\n",
    "\n",
    "        # sequence output features\n",
    "        targets    = torch.LongTensor(items[1:].tolist() + [last_el.streamer.values[0]])\n",
    "        targets_ts = torch.LongTensor(inputs_ts[1:].tolist() + [last_el.start.values[0]])\n",
    "\n",
    "        data_list.append([bpad,positions,inputs_ts,items,users,targets,targets_ts,duration])\n",
    "\n",
    "        # stop if user limit is reached\n",
    "        if len(data_list)>max_u: break\n",
    "\n",
    "    return SequenceDataset(data_list)"
   ]
  },
  {
   "cell_type": "code",
   "execution_count": 19,
   "id": "26a169f0",
   "metadata": {},
   "outputs": [],
   "source": [
    "cache_tr = os.path.join(args.cache_dir,\"douyu_10k_min_dur_tr.p\")\n",
    "cache_te = os.path.join(args.cache_dir,\"douyu_10k_min_dur_te.p\")\n",
    "cache_va = os.path.join(args.cache_dir,\"douyu_10k_min_dur_val.p\")\n",
    "\n",
    "mu = int(10e9)"
   ]
  },
  {
   "cell_type": "code",
   "execution_count": 20,
   "id": "711bd034",
   "metadata": {
    "scrolled": true
   },
   "outputs": [
    {
     "name": "stderr",
     "output_type": "stream",
     "text": [
      "100%|██████████████████████████████████████████████████████████████████████████| 11591/11591 [00:06<00:00, 1719.71it/s]\n",
      "100%|██████████████████████████████████████████████████████████████████████████| 11600/11600 [00:04<00:00, 2421.31it/s]\n",
      "100%|██████████████████████████████████████████████████████████████████████████| 11610/11610 [00:04<00:00, 2358.39it/s]\n"
     ]
    }
   ],
   "source": [
    "datalist_tr = get_sequences(data_fu,0,args.pivot_1,args,mu)\n",
    "datalist_va = get_sequences(data_fu,args.pivot_1,args.pivot_2,args,mu)\n",
    "datalist_te = get_sequences(data_fu,args.pivot_2,max_step,args,mu)\n",
    "    \n",
    "pickle.dump(datalist_te, open(cache_te, \"wb\"))\n",
    "pickle.dump(datalist_tr, open(cache_tr, \"wb\"))\n",
    "pickle.dump(datalist_va, open(cache_va, \"wb\"))"
   ]
  },
  {
   "cell_type": "code",
   "execution_count": 21,
   "id": "d2ddf6e4",
   "metadata": {},
   "outputs": [],
   "source": [
    "train_loader = DataLoader(datalist_tr,batch_size=args.batch_size,\n",
    "                              collate_fn=lambda x: custom_collate(x,args))\n",
    "val_loader   = DataLoader(datalist_va,batch_size=args.batch_size,\n",
    "                              collate_fn=lambda x: custom_collate(x,args))\n",
    "test_loader  = DataLoader(datalist_te,batch_size=args.batch_size,\n",
    "                              collate_fn=lambda x: custom_collate(x,args))"
   ]
  },
  {
   "cell_type": "code",
   "execution_count": null,
   "id": "e4a27991",
   "metadata": {},
   "outputs": [],
   "source": []
  },
  {
   "cell_type": "code",
   "execution_count": 22,
   "id": "0d99cde8",
   "metadata": {
    "scrolled": false
   },
   "outputs": [],
   "source": [
    "from eval import *\n",
    "from data import *\n",
    "from modify_duration_embedding_v2 import *"
   ]
  },
  {
   "cell_type": "code",
   "execution_count": 23,
   "id": "dd7feecc",
   "metadata": {},
   "outputs": [],
   "source": [
    "args.model='LiveRec_dur_emb_v2'\n",
    "MPATH6_2,MODEL6_2 = get_model_type_new(args)\n",
    "MPATH6_2,MODEL6_2\n",
    "model6_2 = MODEL6_2(args).to(args.device)\n",
    "optimizer = optim.Adam(model6_2.parameters(),lr=args.lr,weight_decay=args.l2)\n",
    "\n",
    "best_val = 0.0\n",
    "best_max = args.early_stop\n",
    "best_cnt = best_max"
   ]
  },
  {
   "cell_type": "code",
   "execution_count": 24,
   "id": "cca9bbbd",
   "metadata": {
    "scrolled": true
   },
   "outputs": [
    {
     "name": "stdout",
     "output_type": "stream",
     "text": [
      "training...\n"
     ]
    },
    {
     "name": "stderr",
     "output_type": "stream",
     "text": [
      "100%|████████████████████████████████████████████████████████████████████████████████| 114/114 [00:33<00:00,  3.38it/s]\n",
      "17it [00:02,  7.58it/s]\n"
     ]
    },
    {
     "name": "stdout",
     "output_type": "stream",
     "text": [
      "Epoch: 000, Loss: 3.43952\n",
      "all: h@1: 0.16412 h@5: 0.27761 h@10: 0.32398 ndcg@1: 0.16412 ndcg@5: 0.22420 ndcg@10: 0.23936\n",
      "new: h@1: 0.00299 h@5: 0.02840 h@10: 0.06278 ndcg@1: 0.00299 ndcg@5: 0.01631 ndcg@10: 0.02759\n",
      "rep: h@1: 0.27526 h@5: 0.44948 h@10: 0.50412 ndcg@1: 0.27526 ndcg@5: 0.36757 ndcg@10: 0.38542\n",
      "ratio:  0.5918242830994509\n"
     ]
    },
    {
     "name": "stderr",
     "output_type": "stream",
     "text": [
      "100%|████████████████████████████████████████████████████████████████████████████████| 114/114 [00:26<00:00,  4.36it/s]\n",
      "17it [00:02,  7.66it/s]\n"
     ]
    },
    {
     "name": "stdout",
     "output_type": "stream",
     "text": [
      "Epoch: 001, Loss: 1.84440\n",
      "all: h@1: 0.13789 h@5: 0.26297 h@10: 0.32642 ndcg@1: 0.13789 ndcg@5: 0.20328 ndcg@10: 0.22371\n",
      "new: h@1: 0.00598 h@5: 0.04036 h@10: 0.07025 ndcg@1: 0.00598 ndcg@5: 0.02337 ndcg@10: 0.03292\n",
      "rep: h@1: 0.22887 h@5: 0.41649 h@10: 0.50309 ndcg@1: 0.22887 ndcg@5: 0.32737 ndcg@10: 0.35529\n",
      "ratio:  0.5918242830994509\n"
     ]
    },
    {
     "name": "stderr",
     "output_type": "stream",
     "text": [
      "100%|████████████████████████████████████████████████████████████████████████████████| 114/114 [00:26<00:00,  4.33it/s]\n",
      "17it [00:02,  7.52it/s]\n"
     ]
    },
    {
     "name": "stdout",
     "output_type": "stream",
     "text": [
      "Epoch: 002, Loss: 1.39889\n",
      "all: h@1: 0.11531 h@5: 0.27029 h@10: 0.34045 ndcg@1: 0.11531 ndcg@5: 0.19591 ndcg@10: 0.21854\n",
      "new: h@1: 0.01794 h@5: 0.06129 h@10: 0.10613 ndcg@1: 0.01794 ndcg@5: 0.04017 ndcg@10: 0.05427\n",
      "rep: h@1: 0.18247 h@5: 0.41443 h@10: 0.50206 ndcg@1: 0.18247 ndcg@5: 0.30333 ndcg@10: 0.33183\n",
      "ratio:  0.5918242830994509\n"
     ]
    },
    {
     "name": "stderr",
     "output_type": "stream",
     "text": [
      "100%|████████████████████████████████████████████████████████████████████████████████| 114/114 [00:26<00:00,  4.29it/s]\n",
      "17it [00:02,  7.67it/s]\n"
     ]
    },
    {
     "name": "stdout",
     "output_type": "stream",
     "text": [
      "Epoch: 003, Loss: 1.32953\n",
      "all: h@1: 0.10433 h@5: 0.27578 h@10: 0.34472 ndcg@1: 0.10433 ndcg@5: 0.19249 ndcg@10: 0.21486\n",
      "new: h@1: 0.01495 h@5: 0.07773 h@10: 0.11360 ndcg@1: 0.01495 ndcg@5: 0.04569 ndcg@10: 0.05747\n",
      "rep: h@1: 0.16598 h@5: 0.41237 h@10: 0.50412 ndcg@1: 0.16598 ndcg@5: 0.29374 ndcg@10: 0.32341\n",
      "ratio:  0.5918242830994509\n"
     ]
    },
    {
     "name": "stderr",
     "output_type": "stream",
     "text": [
      "100%|████████████████████████████████████████████████████████████████████████████████| 114/114 [00:26<00:00,  4.32it/s]\n",
      "17it [00:02,  7.45it/s]\n"
     ]
    },
    {
     "name": "stdout",
     "output_type": "stream",
     "text": [
      "Epoch: 004, Loss: 1.29445\n",
      "all: h@1: 0.11226 h@5: 0.29408 h@10: 0.34411 ndcg@1: 0.11226 ndcg@5: 0.20562 ndcg@10: 0.22205\n",
      "new: h@1: 0.01943 h@5: 0.08969 h@10: 0.11659 ndcg@1: 0.01943 ndcg@5: 0.05479 ndcg@10: 0.06347\n",
      "rep: h@1: 0.17629 h@5: 0.43505 h@10: 0.50103 ndcg@1: 0.17629 ndcg@5: 0.30964 ndcg@10: 0.33142\n",
      "ratio:  0.5918242830994509\n"
     ]
    },
    {
     "name": "stderr",
     "output_type": "stream",
     "text": [
      "100%|████████████████████████████████████████████████████████████████████████████████| 114/114 [00:26<00:00,  4.28it/s]\n",
      "17it [00:02,  7.68it/s]\n"
     ]
    },
    {
     "name": "stdout",
     "output_type": "stream",
     "text": [
      "Epoch: 005, Loss: 1.27902\n",
      "all: h@1: 0.11287 h@5: 0.29713 h@10: 0.34838 ndcg@1: 0.11287 ndcg@5: 0.20786 ndcg@10: 0.22473\n",
      "new: h@1: 0.02093 h@5: 0.08969 h@10: 0.11958 ndcg@1: 0.02093 ndcg@5: 0.05496 ndcg@10: 0.06466\n",
      "rep: h@1: 0.17629 h@5: 0.44021 h@10: 0.50619 ndcg@1: 0.17629 ndcg@5: 0.31332 ndcg@10: 0.33512\n",
      "ratio:  0.5918242830994509\n"
     ]
    },
    {
     "name": "stderr",
     "output_type": "stream",
     "text": [
      "100%|████████████████████████████████████████████████████████████████████████████████| 114/114 [00:26<00:00,  4.28it/s]\n",
      "17it [00:02,  7.63it/s]\n"
     ]
    },
    {
     "name": "stdout",
     "output_type": "stream",
     "text": [
      "Epoch: 006, Loss: 1.26712\n",
      "all: h@1: 0.11348 h@5: 0.30079 h@10: 0.35204 ndcg@1: 0.11348 ndcg@5: 0.21119 ndcg@10: 0.22800\n",
      "new: h@1: 0.02093 h@5: 0.08819 h@10: 0.12407 ndcg@1: 0.02093 ndcg@5: 0.05613 ndcg@10: 0.06770\n",
      "rep: h@1: 0.17732 h@5: 0.44742 h@10: 0.50928 ndcg@1: 0.17732 ndcg@5: 0.31814 ndcg@10: 0.33855\n",
      "ratio:  0.5918242830994509\n"
     ]
    },
    {
     "name": "stderr",
     "output_type": "stream",
     "text": [
      "100%|████████████████████████████████████████████████████████████████████████████████| 114/114 [00:26<00:00,  4.29it/s]\n",
      "17it [00:02,  7.63it/s]\n"
     ]
    },
    {
     "name": "stdout",
     "output_type": "stream",
     "text": [
      "Epoch: 007, Loss: 1.25813\n",
      "all: h@1: 0.12142 h@5: 0.30628 h@10: 0.35692 ndcg@1: 0.12142 ndcg@5: 0.21674 ndcg@10: 0.23333\n",
      "new: h@1: 0.01794 h@5: 0.09118 h@10: 0.13154 ndcg@1: 0.01794 ndcg@5: 0.05546 ndcg@10: 0.06825\n",
      "rep: h@1: 0.19278 h@5: 0.45464 h@10: 0.51237 ndcg@1: 0.19278 ndcg@5: 0.32797 ndcg@10: 0.34718\n",
      "ratio:  0.5918242830994509\n"
     ]
    },
    {
     "name": "stderr",
     "output_type": "stream",
     "text": [
      "100%|████████████████████████████████████████████████████████████████████████████████| 114/114 [00:26<00:00,  4.26it/s]\n",
      "17it [00:02,  7.39it/s]\n"
     ]
    },
    {
     "name": "stdout",
     "output_type": "stream",
     "text": [
      "Epoch: 008, Loss: 1.24712\n",
      "all: h@1: 0.12813 h@5: 0.30933 h@10: 0.35998 ndcg@1: 0.12813 ndcg@5: 0.22266 ndcg@10: 0.23929\n",
      "new: h@1: 0.02242 h@5: 0.08969 h@10: 0.12855 ndcg@1: 0.02242 ndcg@5: 0.05716 ndcg@10: 0.06977\n",
      "rep: h@1: 0.20103 h@5: 0.46082 h@10: 0.51959 ndcg@1: 0.20103 ndcg@5: 0.33680 ndcg@10: 0.35620\n",
      "ratio:  0.5918242830994509\n"
     ]
    },
    {
     "name": "stderr",
     "output_type": "stream",
     "text": [
      "100%|████████████████████████████████████████████████████████████████████████████████| 114/114 [00:26<00:00,  4.25it/s]\n",
      "17it [00:02,  7.60it/s]\n"
     ]
    },
    {
     "name": "stdout",
     "output_type": "stream",
     "text": [
      "Epoch: 009, Loss: 1.24241\n",
      "all: h@1: 0.13423 h@5: 0.30750 h@10: 0.36547 ndcg@1: 0.13423 ndcg@5: 0.22442 ndcg@10: 0.24364\n",
      "new: h@1: 0.01794 h@5: 0.08819 h@10: 0.13154 ndcg@1: 0.01794 ndcg@5: 0.05391 ndcg@10: 0.06799\n",
      "rep: h@1: 0.21443 h@5: 0.45876 h@10: 0.52680 ndcg@1: 0.21443 ndcg@5: 0.34201 ndcg@10: 0.36478\n",
      "ratio:  0.5918242830994509\n"
     ]
    },
    {
     "name": "stderr",
     "output_type": "stream",
     "text": [
      "100%|████████████████████████████████████████████████████████████████████████████████| 114/114 [00:27<00:00,  4.19it/s]\n",
      "17it [00:02,  6.77it/s]\n"
     ]
    },
    {
     "name": "stdout",
     "output_type": "stream",
     "text": [
      "Epoch: 010, Loss: 1.23619\n",
      "all: h@1: 0.14033 h@5: 0.31849 h@10: 0.37462 ndcg@1: 0.14033 ndcg@5: 0.23377 ndcg@10: 0.25210\n",
      "new: h@1: 0.01794 h@5: 0.08969 h@10: 0.13901 ndcg@1: 0.01794 ndcg@5: 0.05399 ndcg@10: 0.06996\n",
      "rep: h@1: 0.22474 h@5: 0.47629 h@10: 0.53711 ndcg@1: 0.22474 ndcg@5: 0.35777 ndcg@10: 0.37772\n",
      "ratio:  0.5918242830994509\n"
     ]
    },
    {
     "name": "stderr",
     "output_type": "stream",
     "text": [
      "100%|████████████████████████████████████████████████████████████████████████████████| 114/114 [00:26<00:00,  4.23it/s]\n",
      "17it [00:02,  7.37it/s]\n"
     ]
    },
    {
     "name": "stdout",
     "output_type": "stream",
     "text": [
      "Epoch: 011, Loss: 1.22999\n",
      "all: h@1: 0.14643 h@5: 0.32581 h@10: 0.37767 ndcg@1: 0.14643 ndcg@5: 0.24088 ndcg@10: 0.25763\n",
      "new: h@1: 0.02242 h@5: 0.09268 h@10: 0.13154 ndcg@1: 0.02242 ndcg@5: 0.05714 ndcg@10: 0.06969\n",
      "rep: h@1: 0.23196 h@5: 0.48660 h@10: 0.54742 ndcg@1: 0.23196 ndcg@5: 0.36761 ndcg@10: 0.38725\n",
      "ratio:  0.5918242830994509\n"
     ]
    },
    {
     "name": "stderr",
     "output_type": "stream",
     "text": [
      "100%|████████████████████████████████████████████████████████████████████████████████| 114/114 [00:26<00:00,  4.27it/s]\n",
      "17it [00:02,  7.67it/s]\n"
     ]
    },
    {
     "name": "stdout",
     "output_type": "stream",
     "text": [
      "Epoch: 012, Loss: 1.22523\n",
      "all: h@1: 0.15253 h@5: 0.33008 h@10: 0.38133 ndcg@1: 0.15253 ndcg@5: 0.24726 ndcg@10: 0.26398\n",
      "new: h@1: 0.02093 h@5: 0.10015 h@10: 0.13453 ndcg@1: 0.02093 ndcg@5: 0.06097 ndcg@10: 0.07202\n",
      "rep: h@1: 0.24330 h@5: 0.48866 h@10: 0.55155 ndcg@1: 0.24330 ndcg@5: 0.37575 ndcg@10: 0.39637\n",
      "ratio:  0.5918242830994509\n"
     ]
    },
    {
     "name": "stderr",
     "output_type": "stream",
     "text": [
      "100%|████████████████████████████████████████████████████████████████████████████████| 114/114 [00:26<00:00,  4.29it/s]\n",
      "17it [00:02,  7.47it/s]\n"
     ]
    },
    {
     "name": "stdout",
     "output_type": "stream",
     "text": [
      "Epoch: 013, Loss: 1.21939\n",
      "all: h@1: 0.15497 h@5: 0.33496 h@10: 0.38926 ndcg@1: 0.15497 ndcg@5: 0.25044 ndcg@10: 0.26798\n",
      "new: h@1: 0.01943 h@5: 0.09417 h@10: 0.14499 ndcg@1: 0.01943 ndcg@5: 0.05810 ndcg@10: 0.07435\n",
      "rep: h@1: 0.24845 h@5: 0.50103 h@10: 0.55773 ndcg@1: 0.24845 ndcg@5: 0.38309 ndcg@10: 0.40154\n",
      "ratio:  0.5918242830994509\n"
     ]
    },
    {
     "name": "stderr",
     "output_type": "stream",
     "text": [
      "100%|████████████████████████████████████████████████████████████████████████████████| 114/114 [00:26<00:00,  4.29it/s]\n",
      "17it [00:02,  7.58it/s]\n"
     ]
    },
    {
     "name": "stdout",
     "output_type": "stream",
     "text": [
      "Epoch: 014, Loss: 1.21530\n",
      "all: h@1: 0.16595 h@5: 0.34350 h@10: 0.39475 ndcg@1: 0.16595 ndcg@5: 0.25832 ndcg@10: 0.27470\n",
      "new: h@1: 0.02093 h@5: 0.09865 h@10: 0.14798 ndcg@1: 0.02093 ndcg@5: 0.05965 ndcg@10: 0.07509\n",
      "rep: h@1: 0.26598 h@5: 0.51237 h@10: 0.56495 ndcg@1: 0.26598 ndcg@5: 0.39535 ndcg@10: 0.41237\n",
      "ratio:  0.5918242830994509\n"
     ]
    },
    {
     "name": "stderr",
     "output_type": "stream",
     "text": [
      "100%|████████████████████████████████████████████████████████████████████████████████| 114/114 [00:26<00:00,  4.29it/s]\n",
      "17it [00:02,  7.54it/s]\n"
     ]
    },
    {
     "name": "stdout",
     "output_type": "stream",
     "text": [
      "Epoch: 015, Loss: 1.21076\n",
      "all: h@1: 0.16656 h@5: 0.34533 h@10: 0.40085 ndcg@1: 0.16656 ndcg@5: 0.26164 ndcg@10: 0.27953\n",
      "new: h@1: 0.01794 h@5: 0.09567 h@10: 0.15247 ndcg@1: 0.01794 ndcg@5: 0.05761 ndcg@10: 0.07554\n",
      "rep: h@1: 0.26907 h@5: 0.51753 h@10: 0.57216 ndcg@1: 0.26907 ndcg@5: 0.40235 ndcg@10: 0.42022\n",
      "ratio:  0.5918242830994509\n"
     ]
    },
    {
     "name": "stderr",
     "output_type": "stream",
     "text": [
      "100%|████████████████████████████████████████████████████████████████████████████████| 114/114 [00:26<00:00,  4.28it/s]\n",
      "17it [00:02,  7.72it/s]\n"
     ]
    },
    {
     "name": "stdout",
     "output_type": "stream",
     "text": [
      "Epoch: 016, Loss: 1.20738\n",
      "all: h@1: 0.17267 h@5: 0.35326 h@10: 0.40085 ndcg@1: 0.17267 ndcg@5: 0.27011 ndcg@10: 0.28551\n",
      "new: h@1: 0.01943 h@5: 0.10015 h@10: 0.14948 ndcg@1: 0.01943 ndcg@5: 0.06092 ndcg@10: 0.07657\n",
      "rep: h@1: 0.27835 h@5: 0.52784 h@10: 0.57423 ndcg@1: 0.27835 ndcg@5: 0.41439 ndcg@10: 0.42961\n",
      "ratio:  0.5918242830994509\n"
     ]
    },
    {
     "name": "stderr",
     "output_type": "stream",
     "text": [
      "100%|████████████████████████████████████████████████████████████████████████████████| 114/114 [00:26<00:00,  4.28it/s]\n",
      "17it [00:02,  7.60it/s]\n"
     ]
    },
    {
     "name": "stdout",
     "output_type": "stream",
     "text": [
      "Epoch: 017, Loss: 1.20267\n",
      "all: h@1: 0.18670 h@5: 0.35143 h@10: 0.40085 ndcg@1: 0.18670 ndcg@5: 0.27382 ndcg@10: 0.28971\n",
      "new: h@1: 0.01943 h@5: 0.10164 h@10: 0.14649 ndcg@1: 0.01943 ndcg@5: 0.06136 ndcg@10: 0.07536\n",
      "rep: h@1: 0.30206 h@5: 0.52371 h@10: 0.57629 ndcg@1: 0.30206 ndcg@5: 0.42035 ndcg@10: 0.43754\n",
      "ratio:  0.5918242830994509\n"
     ]
    },
    {
     "name": "stderr",
     "output_type": "stream",
     "text": [
      "100%|████████████████████████████████████████████████████████████████████████████████| 114/114 [00:27<00:00,  4.18it/s]\n",
      "17it [00:02,  7.49it/s]\n"
     ]
    },
    {
     "name": "stdout",
     "output_type": "stream",
     "text": [
      "Epoch: 018, Loss: 1.19831\n",
      "all: h@1: 0.19768 h@5: 0.35631 h@10: 0.39841 ndcg@1: 0.19768 ndcg@5: 0.28184 ndcg@10: 0.29551\n",
      "new: h@1: 0.02093 h@5: 0.09865 h@10: 0.13752 ndcg@1: 0.02093 ndcg@5: 0.06069 ndcg@10: 0.07338\n",
      "rep: h@1: 0.31959 h@5: 0.53402 h@10: 0.57835 ndcg@1: 0.31959 ndcg@5: 0.43437 ndcg@10: 0.44870\n",
      "ratio:  0.5918242830994509\n"
     ]
    },
    {
     "name": "stderr",
     "output_type": "stream",
     "text": [
      "100%|████████████████████████████████████████████████████████████████████████████████| 114/114 [00:26<00:00,  4.29it/s]\n",
      "17it [00:02,  7.62it/s]\n"
     ]
    },
    {
     "name": "stdout",
     "output_type": "stream",
     "text": [
      "Epoch: 019, Loss: 1.19429\n",
      "all: h@1: 0.20744 h@5: 0.35815 h@10: 0.40329 ndcg@1: 0.20744 ndcg@5: 0.28841 ndcg@10: 0.30322\n",
      "new: h@1: 0.02392 h@5: 0.09865 h@10: 0.14798 ndcg@1: 0.02392 ndcg@5: 0.06280 ndcg@10: 0.07871\n",
      "rep: h@1: 0.33402 h@5: 0.53711 h@10: 0.57938 ndcg@1: 0.33402 ndcg@5: 0.44401 ndcg@10: 0.45806\n",
      "ratio:  0.5918242830994509\n"
     ]
    },
    {
     "name": "stderr",
     "output_type": "stream",
     "text": [
      "100%|████████████████████████████████████████████████████████████████████████████████| 114/114 [00:26<00:00,  4.26it/s]\n",
      "17it [00:02,  7.54it/s]\n"
     ]
    },
    {
     "name": "stdout",
     "output_type": "stream",
     "text": [
      "Epoch: 020, Loss: 1.19106\n",
      "all: h@1: 0.20378 h@5: 0.36303 h@10: 0.40879 ndcg@1: 0.20378 ndcg@5: 0.28905 ndcg@10: 0.30409\n",
      "new: h@1: 0.02242 h@5: 0.10015 h@10: 0.14948 ndcg@1: 0.02242 ndcg@5: 0.06294 ndcg@10: 0.07901\n",
      "rep: h@1: 0.32887 h@5: 0.54433 h@10: 0.58763 ndcg@1: 0.32887 ndcg@5: 0.44499 ndcg@10: 0.45934\n",
      "ratio:  0.5918242830994509\n"
     ]
    },
    {
     "name": "stderr",
     "output_type": "stream",
     "text": [
      "100%|████████████████████████████████████████████████████████████████████████████████| 114/114 [00:26<00:00,  4.29it/s]\n",
      "17it [00:02,  7.45it/s]\n"
     ]
    },
    {
     "name": "stdout",
     "output_type": "stream",
     "text": [
      "Epoch: 021, Loss: 1.18721\n",
      "all: h@1: 0.20317 h@5: 0.36303 h@10: 0.41184 ndcg@1: 0.20317 ndcg@5: 0.28889 ndcg@10: 0.30482\n",
      "new: h@1: 0.01794 h@5: 0.10463 h@10: 0.15546 ndcg@1: 0.01794 ndcg@5: 0.06267 ndcg@10: 0.07901\n",
      "rep: h@1: 0.33093 h@5: 0.54124 h@10: 0.58866 ndcg@1: 0.33093 ndcg@5: 0.44491 ndcg@10: 0.46055\n",
      "ratio:  0.5918242830994509\n"
     ]
    },
    {
     "name": "stderr",
     "output_type": "stream",
     "text": [
      "100%|████████████████████████████████████████████████████████████████████████████████| 114/114 [00:26<00:00,  4.24it/s]\n",
      "17it [00:02,  7.64it/s]\n"
     ]
    },
    {
     "name": "stdout",
     "output_type": "stream",
     "text": [
      "Epoch: 022, Loss: 1.18183\n",
      "all: h@1: 0.21232 h@5: 0.36791 h@10: 0.41916 ndcg@1: 0.21232 ndcg@5: 0.29526 ndcg@10: 0.31177\n",
      "new: h@1: 0.01943 h@5: 0.10762 h@10: 0.16143 ndcg@1: 0.01943 ndcg@5: 0.06506 ndcg@10: 0.08210\n",
      "rep: h@1: 0.34536 h@5: 0.54742 h@10: 0.59691 ndcg@1: 0.34536 ndcg@5: 0.45403 ndcg@10: 0.47017\n",
      "ratio:  0.5918242830994509\n"
     ]
    },
    {
     "name": "stderr",
     "output_type": "stream",
     "text": [
      "100%|████████████████████████████████████████████████████████████████████████████████| 114/114 [00:26<00:00,  4.23it/s]\n",
      "17it [00:02,  7.43it/s]\n"
     ]
    },
    {
     "name": "stdout",
     "output_type": "stream",
     "text": [
      "Epoch: 023, Loss: 1.17975\n",
      "all: h@1: 0.21843 h@5: 0.37279 h@10: 0.42404 ndcg@1: 0.21843 ndcg@5: 0.30109 ndcg@10: 0.31778\n",
      "new: h@1: 0.01644 h@5: 0.10762 h@10: 0.16592 ndcg@1: 0.01644 ndcg@5: 0.06407 ndcg@10: 0.08287\n",
      "rep: h@1: 0.35773 h@5: 0.55567 h@10: 0.60206 ndcg@1: 0.35773 ndcg@5: 0.46457 ndcg@10: 0.47979\n",
      "ratio:  0.5918242830994509\n"
     ]
    },
    {
     "name": "stderr",
     "output_type": "stream",
     "text": [
      "100%|████████████████████████████████████████████████████████████████████████████████| 114/114 [00:26<00:00,  4.22it/s]\n",
      "17it [00:02,  7.22it/s]\n"
     ]
    },
    {
     "name": "stdout",
     "output_type": "stream",
     "text": [
      "Epoch: 024, Loss: 1.17440\n",
      "all: h@1: 0.22636 h@5: 0.37645 h@10: 0.42953 ndcg@1: 0.22636 ndcg@5: 0.30764 ndcg@10: 0.32496\n",
      "new: h@1: 0.01345 h@5: 0.11061 h@10: 0.17040 ndcg@1: 0.01345 ndcg@5: 0.06438 ndcg@10: 0.08353\n",
      "rep: h@1: 0.37320 h@5: 0.55979 h@10: 0.60825 ndcg@1: 0.37320 ndcg@5: 0.47541 ndcg@10: 0.49147\n",
      "ratio:  0.5918242830994509\n"
     ]
    },
    {
     "name": "stderr",
     "output_type": "stream",
     "text": [
      "100%|████████████████████████████████████████████████████████████████████████████████| 114/114 [00:27<00:00,  4.14it/s]\n",
      "17it [00:02,  7.26it/s]\n"
     ]
    },
    {
     "name": "stdout",
     "output_type": "stream",
     "text": [
      "Epoch: 025, Loss: 1.17099\n",
      "all: h@1: 0.22636 h@5: 0.37645 h@10: 0.43197 ndcg@1: 0.22636 ndcg@5: 0.30664 ndcg@10: 0.32492\n",
      "new: h@1: 0.02392 h@5: 0.10912 h@10: 0.17040 ndcg@1: 0.02392 ndcg@5: 0.06707 ndcg@10: 0.08726\n",
      "rep: h@1: 0.36598 h@5: 0.56082 h@10: 0.61237 ndcg@1: 0.36598 ndcg@5: 0.47187 ndcg@10: 0.48883\n",
      "ratio:  0.5918242830994509\n"
     ]
    },
    {
     "name": "stderr",
     "output_type": "stream",
     "text": [
      "100%|████████████████████████████████████████████████████████████████████████████████| 114/114 [00:27<00:00,  4.18it/s]\n",
      "17it [00:02,  6.95it/s]\n"
     ]
    },
    {
     "name": "stdout",
     "output_type": "stream",
     "text": [
      "Epoch: 026, Loss: 1.16608\n",
      "all: h@1: 0.24588 h@5: 0.38682 h@10: 0.43563 ndcg@1: 0.24588 ndcg@5: 0.31981 ndcg@10: 0.33566\n",
      "new: h@1: 0.02093 h@5: 0.12257 h@10: 0.17489 ndcg@1: 0.02093 ndcg@5: 0.07099 ndcg@10: 0.08765\n",
      "rep: h@1: 0.40103 h@5: 0.56907 h@10: 0.61546 ndcg@1: 0.40103 ndcg@5: 0.49142 ndcg@10: 0.50672\n",
      "ratio:  0.5918242830994509\n"
     ]
    },
    {
     "name": "stderr",
     "output_type": "stream",
     "text": [
      "100%|████████████████████████████████████████████████████████████████████████████████| 114/114 [00:27<00:00,  4.11it/s]\n",
      "17it [00:02,  7.42it/s]\n"
     ]
    },
    {
     "name": "stdout",
     "output_type": "stream",
     "text": [
      "Epoch: 027, Loss: 1.16346\n",
      "all: h@1: 0.24405 h@5: 0.38560 h@10: 0.43868 ndcg@1: 0.24405 ndcg@5: 0.31982 ndcg@10: 0.33709\n",
      "new: h@1: 0.02093 h@5: 0.11958 h@10: 0.17788 ndcg@1: 0.02093 ndcg@5: 0.07020 ndcg@10: 0.08898\n",
      "rep: h@1: 0.39794 h@5: 0.56907 h@10: 0.61856 ndcg@1: 0.39794 ndcg@5: 0.49199 ndcg@10: 0.50820\n",
      "ratio:  0.5918242830994509\n"
     ]
    },
    {
     "name": "stderr",
     "output_type": "stream",
     "text": [
      "100%|████████████████████████████████████████████████████████████████████████████████| 114/114 [00:27<00:00,  4.21it/s]\n",
      "17it [00:02,  7.23it/s]\n"
     ]
    },
    {
     "name": "stdout",
     "output_type": "stream",
     "text": [
      "Epoch: 028, Loss: 1.15837\n",
      "all: h@1: 0.24771 h@5: 0.39170 h@10: 0.43807 ndcg@1: 0.24771 ndcg@5: 0.32359 ndcg@10: 0.33859\n",
      "new: h@1: 0.02242 h@5: 0.11958 h@10: 0.17339 ndcg@1: 0.02242 ndcg@5: 0.07053 ndcg@10: 0.08768\n",
      "rep: h@1: 0.40309 h@5: 0.57938 h@10: 0.62062 ndcg@1: 0.40309 ndcg@5: 0.49813 ndcg@10: 0.51164\n",
      "ratio:  0.5918242830994509\n"
     ]
    },
    {
     "name": "stderr",
     "output_type": "stream",
     "text": [
      "100%|████████████████████████████████████████████████████████████████████████████████| 114/114 [00:27<00:00,  4.16it/s]\n",
      "17it [00:02,  7.34it/s]\n"
     ]
    },
    {
     "name": "stdout",
     "output_type": "stream",
     "text": [
      "Epoch: 029, Loss: 1.15534\n",
      "all: h@1: 0.25137 h@5: 0.39170 h@10: 0.44173 ndcg@1: 0.25137 ndcg@5: 0.32601 ndcg@10: 0.34228\n",
      "new: h@1: 0.02093 h@5: 0.11510 h@10: 0.17638 ndcg@1: 0.02093 ndcg@5: 0.06830 ndcg@10: 0.08816\n",
      "rep: h@1: 0.41031 h@5: 0.58247 h@10: 0.62474 ndcg@1: 0.41031 ndcg@5: 0.50375 ndcg@10: 0.51754\n",
      "ratio:  0.5918242830994509\n"
     ]
    },
    {
     "name": "stderr",
     "output_type": "stream",
     "text": [
      "100%|████████████████████████████████████████████████████████████████████████████████| 114/114 [00:27<00:00,  4.18it/s]\n",
      "17it [00:02,  7.56it/s]\n"
     ]
    },
    {
     "name": "stdout",
     "output_type": "stream",
     "text": [
      "Epoch: 030, Loss: 1.15128\n",
      "all: h@1: 0.25259 h@5: 0.39780 h@10: 0.44905 ndcg@1: 0.25259 ndcg@5: 0.32944 ndcg@10: 0.34589\n",
      "new: h@1: 0.02093 h@5: 0.12108 h@10: 0.18834 ndcg@1: 0.02093 ndcg@5: 0.07037 ndcg@10: 0.09172\n",
      "rep: h@1: 0.41237 h@5: 0.58866 h@10: 0.62887 ndcg@1: 0.41237 ndcg@5: 0.50812 ndcg@10: 0.52119\n",
      "ratio:  0.5918242830994509\n"
     ]
    },
    {
     "name": "stderr",
     "output_type": "stream",
     "text": [
      "100%|████████████████████████████████████████████████████████████████████████████████| 114/114 [00:26<00:00,  4.27it/s]\n",
      "17it [00:02,  7.61it/s]\n"
     ]
    },
    {
     "name": "stdout",
     "output_type": "stream",
     "text": [
      "Epoch: 031, Loss: 1.14823\n",
      "all: h@1: 0.25869 h@5: 0.39963 h@10: 0.45516 ndcg@1: 0.25869 ndcg@5: 0.33378 ndcg@10: 0.35172\n",
      "new: h@1: 0.01943 h@5: 0.11360 h@10: 0.18236 ndcg@1: 0.01943 ndcg@5: 0.06668 ndcg@10: 0.08896\n",
      "rep: h@1: 0.42371 h@5: 0.59691 h@10: 0.64330 ndcg@1: 0.42371 ndcg@5: 0.51800 ndcg@10: 0.53294\n",
      "ratio:  0.5918242830994509\n"
     ]
    },
    {
     "name": "stderr",
     "output_type": "stream",
     "text": [
      "100%|████████████████████████████████████████████████████████████████████████████████| 114/114 [00:26<00:00,  4.24it/s]\n",
      "17it [00:02,  7.20it/s]\n"
     ]
    },
    {
     "name": "stdout",
     "output_type": "stream",
     "text": [
      "Epoch: 032, Loss: 1.14498\n",
      "all: h@1: 0.25564 h@5: 0.40024 h@10: 0.45821 ndcg@1: 0.25564 ndcg@5: 0.33302 ndcg@10: 0.35183\n",
      "new: h@1: 0.02093 h@5: 0.11958 h@10: 0.18834 ndcg@1: 0.02093 ndcg@5: 0.07133 ndcg@10: 0.09368\n",
      "rep: h@1: 0.41753 h@5: 0.59381 h@10: 0.64433 ndcg@1: 0.41753 ndcg@5: 0.51350 ndcg@10: 0.52987\n",
      "ratio:  0.5918242830994509\n"
     ]
    },
    {
     "name": "stderr",
     "output_type": "stream",
     "text": [
      "100%|████████████████████████████████████████████████████████████████████████████████| 114/114 [00:26<00:00,  4.28it/s]\n",
      "17it [00:02,  7.09it/s]\n"
     ]
    },
    {
     "name": "stdout",
     "output_type": "stream",
     "text": [
      "Epoch: 033, Loss: 1.13973\n",
      "all: h@1: 0.26480 h@5: 0.41001 h@10: 0.46004 ndcg@1: 0.26480 ndcg@5: 0.34165 ndcg@10: 0.35774\n",
      "new: h@1: 0.02392 h@5: 0.12855 h@10: 0.18535 ndcg@1: 0.02392 ndcg@5: 0.07611 ndcg@10: 0.09420\n",
      "rep: h@1: 0.43093 h@5: 0.60412 h@10: 0.64948 ndcg@1: 0.43093 ndcg@5: 0.52478 ndcg@10: 0.53951\n",
      "ratio:  0.5918242830994509\n"
     ]
    },
    {
     "name": "stderr",
     "output_type": "stream",
     "text": [
      "100%|████████████████████████████████████████████████████████████████████████████████| 114/114 [00:26<00:00,  4.23it/s]\n",
      "17it [00:02,  7.18it/s]\n"
     ]
    },
    {
     "name": "stdout",
     "output_type": "stream",
     "text": [
      "Epoch: 034, Loss: 1.13374\n",
      "all: h@1: 0.26541 h@5: 0.41062 h@10: 0.46858 ndcg@1: 0.26541 ndcg@5: 0.34167 ndcg@10: 0.36044\n",
      "new: h@1: 0.02093 h@5: 0.12108 h@10: 0.19880 ndcg@1: 0.02093 ndcg@5: 0.07054 ndcg@10: 0.09553\n",
      "rep: h@1: 0.43402 h@5: 0.61031 h@10: 0.65464 ndcg@1: 0.43402 ndcg@5: 0.52867 ndcg@10: 0.54315\n",
      "ratio:  0.5918242830994509\n"
     ]
    },
    {
     "name": "stderr",
     "output_type": "stream",
     "text": [
      "100%|████████████████████████████████████████████████████████████████████████████████| 114/114 [00:27<00:00,  4.09it/s]\n",
      "17it [00:02,  7.17it/s]\n"
     ]
    },
    {
     "name": "stdout",
     "output_type": "stream",
     "text": [
      "Epoch: 035, Loss: 1.13027\n",
      "all: h@1: 0.26358 h@5: 0.41123 h@10: 0.46492 ndcg@1: 0.26358 ndcg@5: 0.34159 ndcg@10: 0.35902\n",
      "new: h@1: 0.02093 h@5: 0.12407 h@10: 0.18685 ndcg@1: 0.02093 ndcg@5: 0.07283 ndcg@10: 0.09305\n",
      "rep: h@1: 0.43093 h@5: 0.60928 h@10: 0.65670 ndcg@1: 0.43093 ndcg@5: 0.52695 ndcg@10: 0.54246\n",
      "ratio:  0.5918242830994509\n"
     ]
    },
    {
     "name": "stderr",
     "output_type": "stream",
     "text": [
      "100%|████████████████████████████████████████████████████████████████████████████████| 114/114 [00:29<00:00,  3.83it/s]\n",
      "17it [00:02,  5.72it/s]\n"
     ]
    },
    {
     "name": "stdout",
     "output_type": "stream",
     "text": [
      "Epoch: 036, Loss: 1.12794\n",
      "all: h@1: 0.27212 h@5: 0.41794 h@10: 0.47102 ndcg@1: 0.27212 ndcg@5: 0.34843 ndcg@10: 0.36578\n",
      "new: h@1: 0.02242 h@5: 0.12556 h@10: 0.18984 ndcg@1: 0.02242 ndcg@5: 0.07304 ndcg@10: 0.09413\n",
      "rep: h@1: 0.44433 h@5: 0.61959 h@10: 0.66495 ndcg@1: 0.44433 ndcg@5: 0.53837 ndcg@10: 0.55313\n",
      "ratio:  0.5918242830994509\n"
     ]
    },
    {
     "name": "stderr",
     "output_type": "stream",
     "text": [
      "100%|████████████████████████████████████████████████████████████████████████████████| 114/114 [00:29<00:00,  3.85it/s]\n",
      "17it [00:02,  6.62it/s]\n"
     ]
    },
    {
     "name": "stdout",
     "output_type": "stream",
     "text": [
      "Epoch: 037, Loss: 1.12253\n",
      "all: h@1: 0.27029 h@5: 0.41611 h@10: 0.47590 ndcg@1: 0.27029 ndcg@5: 0.34731 ndcg@10: 0.36675\n",
      "new: h@1: 0.02242 h@5: 0.12257 h@10: 0.20179 ndcg@1: 0.02242 ndcg@5: 0.07283 ndcg@10: 0.09833\n",
      "rep: h@1: 0.44124 h@5: 0.61856 h@10: 0.66495 ndcg@1: 0.44124 ndcg@5: 0.53661 ndcg@10: 0.55189\n",
      "ratio:  0.5918242830994509\n"
     ]
    },
    {
     "name": "stderr",
     "output_type": "stream",
     "text": [
      "100%|████████████████████████████████████████████████████████████████████████████████| 114/114 [00:30<00:00,  3.78it/s]\n",
      "17it [00:02,  6.57it/s]\n"
     ]
    },
    {
     "name": "stdout",
     "output_type": "stream",
     "text": [
      "Epoch: 038, Loss: 1.11784\n",
      "all: h@1: 0.27090 h@5: 0.41794 h@10: 0.47895 ndcg@1: 0.27090 ndcg@5: 0.34925 ndcg@10: 0.36894\n",
      "new: h@1: 0.02392 h@5: 0.12556 h@10: 0.20777 ndcg@1: 0.02392 ndcg@5: 0.07568 ndcg@10: 0.10223\n",
      "rep: h@1: 0.44124 h@5: 0.61959 h@10: 0.66598 ndcg@1: 0.44124 ndcg@5: 0.53793 ndcg@10: 0.55289\n",
      "ratio:  0.5918242830994509\n"
     ]
    },
    {
     "name": "stderr",
     "output_type": "stream",
     "text": [
      "100%|████████████████████████████████████████████████████████████████████████████████| 114/114 [00:27<00:00,  4.15it/s]\n",
      "17it [00:02,  7.33it/s]\n"
     ]
    },
    {
     "name": "stdout",
     "output_type": "stream",
     "text": [
      "Epoch: 039, Loss: 1.11369\n",
      "all: h@1: 0.27456 h@5: 0.42099 h@10: 0.48688 ndcg@1: 0.27456 ndcg@5: 0.35142 ndcg@10: 0.37273\n",
      "new: h@1: 0.01943 h@5: 0.12706 h@10: 0.21674 ndcg@1: 0.01943 ndcg@5: 0.07316 ndcg@10: 0.10188\n",
      "rep: h@1: 0.45052 h@5: 0.62371 h@10: 0.67320 ndcg@1: 0.45052 ndcg@5: 0.54333 ndcg@10: 0.55954\n",
      "ratio:  0.5918242830994509\n"
     ]
    },
    {
     "name": "stderr",
     "output_type": "stream",
     "text": [
      "100%|████████████████████████████████████████████████████████████████████████████████| 114/114 [00:27<00:00,  4.13it/s]\n",
      "17it [00:02,  7.42it/s]\n"
     ]
    },
    {
     "name": "stdout",
     "output_type": "stream",
     "text": [
      "Epoch: 040, Loss: 1.10955\n",
      "all: h@1: 0.26480 h@5: 0.42282 h@10: 0.48078 ndcg@1: 0.26480 ndcg@5: 0.34861 ndcg@10: 0.36739\n",
      "new: h@1: 0.01794 h@5: 0.13154 h@10: 0.21375 ndcg@1: 0.01794 ndcg@5: 0.07562 ndcg@10: 0.10198\n",
      "rep: h@1: 0.43505 h@5: 0.62371 h@10: 0.66495 ndcg@1: 0.43505 ndcg@5: 0.53689 ndcg@10: 0.55044\n",
      "ratio:  0.5918242830994509\n"
     ]
    },
    {
     "name": "stderr",
     "output_type": "stream",
     "text": [
      "100%|████████████████████████████████████████████████████████████████████████████████| 114/114 [00:26<00:00,  4.26it/s]\n",
      "17it [00:02,  7.44it/s]\n"
     ]
    },
    {
     "name": "stdout",
     "output_type": "stream",
     "text": [
      "Epoch: 041, Loss: 1.10389\n",
      "all: h@1: 0.27761 h@5: 0.42526 h@10: 0.49054 ndcg@1: 0.27761 ndcg@5: 0.35636 ndcg@10: 0.37729\n",
      "new: h@1: 0.02242 h@5: 0.13154 h@10: 0.22272 ndcg@1: 0.02242 ndcg@5: 0.07725 ndcg@10: 0.10649\n",
      "rep: h@1: 0.45361 h@5: 0.62784 h@10: 0.67526 ndcg@1: 0.45361 ndcg@5: 0.54886 ndcg@10: 0.56407\n",
      "ratio:  0.5918242830994509\n"
     ]
    },
    {
     "name": "stderr",
     "output_type": "stream",
     "text": [
      "100%|████████████████████████████████████████████████████████████████████████████████| 114/114 [00:26<00:00,  4.27it/s]\n",
      "17it [00:02,  7.50it/s]\n"
     ]
    },
    {
     "name": "stdout",
     "output_type": "stream",
     "text": [
      "Epoch: 042, Loss: 1.09770\n",
      "all: h@1: 0.28310 h@5: 0.43624 h@10: 0.49664 ndcg@1: 0.28310 ndcg@5: 0.36446 ndcg@10: 0.38377\n",
      "new: h@1: 0.02242 h@5: 0.13154 h@10: 0.23019 ndcg@1: 0.02242 ndcg@5: 0.07743 ndcg@10: 0.10900\n",
      "rep: h@1: 0.46289 h@5: 0.64639 h@10: 0.68041 ndcg@1: 0.46289 ndcg@5: 0.56242 ndcg@10: 0.57328\n",
      "ratio:  0.5918242830994509\n"
     ]
    },
    {
     "name": "stderr",
     "output_type": "stream",
     "text": [
      "100%|████████████████████████████████████████████████████████████████████████████████| 114/114 [00:26<00:00,  4.28it/s]\n",
      "17it [00:02,  7.33it/s]\n"
     ]
    },
    {
     "name": "stdout",
     "output_type": "stream",
     "text": [
      "Epoch: 043, Loss: 1.09306\n",
      "all: h@1: 0.27578 h@5: 0.43502 h@10: 0.50092 ndcg@1: 0.27578 ndcg@5: 0.36110 ndcg@10: 0.38237\n",
      "new: h@1: 0.01794 h@5: 0.13602 h@10: 0.23916 ndcg@1: 0.01794 ndcg@5: 0.07787 ndcg@10: 0.11100\n",
      "rep: h@1: 0.45361 h@5: 0.64124 h@10: 0.68144 ndcg@1: 0.45361 ndcg@5: 0.55644 ndcg@10: 0.56954\n",
      "ratio:  0.5918242830994509\n"
     ]
    },
    {
     "name": "stderr",
     "output_type": "stream",
     "text": [
      "100%|████████████████████████████████████████████████████████████████████████████████| 114/114 [00:27<00:00,  4.17it/s]\n",
      "17it [00:02,  7.55it/s]\n"
     ]
    },
    {
     "name": "stdout",
     "output_type": "stream",
     "text": [
      "Epoch: 044, Loss: 1.08620\n",
      "all: h@1: 0.27334 h@5: 0.43807 h@10: 0.50092 ndcg@1: 0.27334 ndcg@5: 0.36280 ndcg@10: 0.38303\n",
      "new: h@1: 0.01794 h@5: 0.14051 h@10: 0.22870 ndcg@1: 0.01794 ndcg@5: 0.08141 ndcg@10: 0.10993\n",
      "rep: h@1: 0.44948 h@5: 0.64330 h@10: 0.68866 ndcg@1: 0.44948 ndcg@5: 0.55688 ndcg@10: 0.57138\n",
      "ratio:  0.5918242830994509\n"
     ]
    },
    {
     "name": "stderr",
     "output_type": "stream",
     "text": [
      "100%|████████████████████████████████████████████████████████████████████████████████| 114/114 [00:26<00:00,  4.25it/s]\n",
      "17it [00:02,  7.55it/s]\n"
     ]
    },
    {
     "name": "stdout",
     "output_type": "stream",
     "text": [
      "Epoch: 045, Loss: 1.08164\n",
      "all: h@1: 0.27761 h@5: 0.43746 h@10: 0.50519 ndcg@1: 0.27761 ndcg@5: 0.36398 ndcg@10: 0.38597\n",
      "new: h@1: 0.01794 h@5: 0.13901 h@10: 0.23617 ndcg@1: 0.01794 ndcg@5: 0.07860 ndcg@10: 0.11006\n",
      "rep: h@1: 0.45670 h@5: 0.64330 h@10: 0.69072 ndcg@1: 0.45670 ndcg@5: 0.56080 ndcg@10: 0.57627\n",
      "ratio:  0.5918242830994509\n"
     ]
    },
    {
     "name": "stderr",
     "output_type": "stream",
     "text": [
      "100%|████████████████████████████████████████████████████████████████████████████████| 114/114 [00:26<00:00,  4.26it/s]\n",
      "17it [00:02,  7.53it/s]\n"
     ]
    },
    {
     "name": "stdout",
     "output_type": "stream",
     "text": [
      "Epoch: 046, Loss: 1.07746\n",
      "all: h@1: 0.28005 h@5: 0.44722 h@10: 0.50824 ndcg@1: 0.28005 ndcg@5: 0.36965 ndcg@10: 0.38931\n",
      "new: h@1: 0.01495 h@5: 0.15097 h@10: 0.23468 ndcg@1: 0.01495 ndcg@5: 0.08311 ndcg@10: 0.11022\n",
      "rep: h@1: 0.46289 h@5: 0.65155 h@10: 0.69691 ndcg@1: 0.46289 ndcg@5: 0.56727 ndcg@10: 0.58180\n",
      "ratio:  0.5918242830994509\n"
     ]
    },
    {
     "name": "stderr",
     "output_type": "stream",
     "text": [
      "100%|████████████████████████████████████████████████████████████████████████████████| 114/114 [00:26<00:00,  4.28it/s]\n",
      "17it [00:02,  7.59it/s]\n"
     ]
    },
    {
     "name": "stdout",
     "output_type": "stream",
     "text": [
      "Epoch: 047, Loss: 1.07034\n",
      "all: h@1: 0.28066 h@5: 0.45088 h@10: 0.51129 ndcg@1: 0.28066 ndcg@5: 0.37232 ndcg@10: 0.39194\n",
      "new: h@1: 0.01495 h@5: 0.15097 h@10: 0.23767 ndcg@1: 0.01495 ndcg@5: 0.08497 ndcg@10: 0.11296\n",
      "rep: h@1: 0.46392 h@5: 0.65773 h@10: 0.70000 ndcg@1: 0.46392 ndcg@5: 0.57050 ndcg@10: 0.58435\n",
      "ratio:  0.5918242830994509\n"
     ]
    },
    {
     "name": "stderr",
     "output_type": "stream",
     "text": [
      "100%|████████████████████████████████████████████████████████████████████████████████| 114/114 [00:26<00:00,  4.26it/s]\n",
      "17it [00:02,  7.62it/s]\n"
     ]
    },
    {
     "name": "stdout",
     "output_type": "stream",
     "text": [
      "Epoch: 048, Loss: 1.06501\n",
      "all: h@1: 0.28493 h@5: 0.45821 h@10: 0.52105 ndcg@1: 0.28493 ndcg@5: 0.37740 ndcg@10: 0.39770\n",
      "new: h@1: 0.02093 h@5: 0.14798 h@10: 0.24813 ndcg@1: 0.02093 ndcg@5: 0.08595 ndcg@10: 0.11825\n",
      "rep: h@1: 0.46701 h@5: 0.67216 h@10: 0.70928 ndcg@1: 0.46701 ndcg@5: 0.57840 ndcg@10: 0.59042\n",
      "ratio:  0.5918242830994509\n"
     ]
    },
    {
     "name": "stderr",
     "output_type": "stream",
     "text": [
      "100%|████████████████████████████████████████████████████████████████████████████████| 114/114 [00:26<00:00,  4.25it/s]\n",
      "17it [00:02,  7.45it/s]\n"
     ]
    },
    {
     "name": "stdout",
     "output_type": "stream",
     "text": [
      "Epoch: 049, Loss: 1.05787\n",
      "all: h@1: 0.28188 h@5: 0.46126 h@10: 0.52471 ndcg@1: 0.28188 ndcg@5: 0.37773 ndcg@10: 0.39839\n",
      "new: h@1: 0.01943 h@5: 0.15845 h@10: 0.25112 ndcg@1: 0.01943 ndcg@5: 0.08848 ndcg@10: 0.11834\n",
      "rep: h@1: 0.46289 h@5: 0.67010 h@10: 0.71340 ndcg@1: 0.46289 ndcg@5: 0.57722 ndcg@10: 0.59154\n",
      "ratio:  0.5918242830994509\n"
     ]
    },
    {
     "name": "stderr",
     "output_type": "stream",
     "text": [
      "100%|████████████████████████████████████████████████████████████████████████████████| 114/114 [00:26<00:00,  4.28it/s]\n",
      "17it [00:02,  7.41it/s]\n"
     ]
    },
    {
     "name": "stdout",
     "output_type": "stream",
     "text": [
      "Epoch: 050, Loss: 1.05440\n",
      "all: h@1: 0.28493 h@5: 0.46675 h@10: 0.52654 ndcg@1: 0.28493 ndcg@5: 0.38197 ndcg@10: 0.40123\n",
      "new: h@1: 0.01943 h@5: 0.16293 h@10: 0.25710 ndcg@1: 0.01943 ndcg@5: 0.09104 ndcg@10: 0.12119\n",
      "rep: h@1: 0.46804 h@5: 0.67629 h@10: 0.71237 ndcg@1: 0.46804 ndcg@5: 0.58262 ndcg@10: 0.59437\n",
      "ratio:  0.5918242830994509\n"
     ]
    },
    {
     "name": "stderr",
     "output_type": "stream",
     "text": [
      "100%|████████████████████████████████████████████████████████████████████████████████| 114/114 [00:26<00:00,  4.27it/s]\n",
      "17it [00:02,  7.38it/s]\n"
     ]
    },
    {
     "name": "stdout",
     "output_type": "stream",
     "text": [
      "Epoch: 051, Loss: 1.04799\n",
      "all: h@1: 0.30018 h@5: 0.46187 h@10: 0.53325 ndcg@1: 0.30018 ndcg@5: 0.38676 ndcg@10: 0.40996\n",
      "new: h@1: 0.01943 h@5: 0.14649 h@10: 0.26158 ndcg@1: 0.01943 ndcg@5: 0.08425 ndcg@10: 0.12149\n",
      "rep: h@1: 0.49381 h@5: 0.67938 h@10: 0.72062 ndcg@1: 0.49381 ndcg@5: 0.59541 ndcg@10: 0.60892\n",
      "ratio:  0.5918242830994509\n"
     ]
    },
    {
     "name": "stderr",
     "output_type": "stream",
     "text": [
      "100%|████████████████████████████████████████████████████████████████████████████████| 114/114 [00:26<00:00,  4.25it/s]\n",
      "17it [00:02,  7.37it/s]\n"
     ]
    },
    {
     "name": "stdout",
     "output_type": "stream",
     "text": [
      "Epoch: 052, Loss: 1.04170\n",
      "all: h@1: 0.29408 h@5: 0.46553 h@10: 0.52715 ndcg@1: 0.29408 ndcg@5: 0.38553 ndcg@10: 0.40554\n",
      "new: h@1: 0.02093 h@5: 0.15845 h@10: 0.25859 ndcg@1: 0.02093 ndcg@5: 0.09049 ndcg@10: 0.12296\n",
      "rep: h@1: 0.48247 h@5: 0.67732 h@10: 0.71237 ndcg@1: 0.48247 ndcg@5: 0.58902 ndcg@10: 0.60044\n",
      "ratio:  0.5918242830994509\n"
     ]
    },
    {
     "name": "stderr",
     "output_type": "stream",
     "text": [
      "100%|████████████████████████████████████████████████████████████████████████████████| 114/114 [00:26<00:00,  4.27it/s]\n",
      "17it [00:02,  7.51it/s]\n"
     ]
    },
    {
     "name": "stdout",
     "output_type": "stream",
     "text": [
      "Epoch: 053, Loss: 1.03785\n",
      "all: h@1: 0.29835 h@5: 0.46858 h@10: 0.54057 ndcg@1: 0.29835 ndcg@5: 0.38995 ndcg@10: 0.41318\n",
      "new: h@1: 0.02093 h@5: 0.15695 h@10: 0.27803 ndcg@1: 0.02093 ndcg@5: 0.09071 ndcg@10: 0.12967\n",
      "rep: h@1: 0.48969 h@5: 0.68351 h@10: 0.72165 ndcg@1: 0.48969 ndcg@5: 0.59634 ndcg@10: 0.60872\n",
      "ratio:  0.5918242830994509\n"
     ]
    },
    {
     "name": "stderr",
     "output_type": "stream",
     "text": [
      "100%|████████████████████████████████████████████████████████████████████████████████| 114/114 [00:26<00:00,  4.29it/s]\n",
      "17it [00:02,  7.42it/s]\n"
     ]
    },
    {
     "name": "stdout",
     "output_type": "stream",
     "text": [
      "Epoch: 054, Loss: 1.03168\n",
      "all: h@1: 0.29286 h@5: 0.47224 h@10: 0.54484 ndcg@1: 0.29286 ndcg@5: 0.38922 ndcg@10: 0.41260\n",
      "new: h@1: 0.01794 h@5: 0.15994 h@10: 0.27952 ndcg@1: 0.01794 ndcg@5: 0.09066 ndcg@10: 0.12894\n",
      "rep: h@1: 0.48247 h@5: 0.68763 h@10: 0.72784 ndcg@1: 0.48247 ndcg@5: 0.59513 ndcg@10: 0.60824\n",
      "ratio:  0.5918242830994509\n"
     ]
    },
    {
     "name": "stderr",
     "output_type": "stream",
     "text": [
      "100%|████████████████████████████████████████████████████████████████████████████████| 114/114 [00:26<00:00,  4.24it/s]\n",
      "17it [00:02,  7.44it/s]\n"
     ]
    },
    {
     "name": "stdout",
     "output_type": "stream",
     "text": [
      "Epoch: 055, Loss: 1.02270\n",
      "all: h@1: 0.29835 h@5: 0.47407 h@10: 0.54484 ndcg@1: 0.29835 ndcg@5: 0.39347 ndcg@10: 0.41644\n",
      "new: h@1: 0.02242 h@5: 0.16592 h@10: 0.27803 ndcg@1: 0.02242 ndcg@5: 0.09536 ndcg@10: 0.13137\n",
      "rep: h@1: 0.48866 h@5: 0.68660 h@10: 0.72887 ndcg@1: 0.48866 ndcg@5: 0.59907 ndcg@10: 0.61306\n",
      "ratio:  0.5918242830994509\n"
     ]
    },
    {
     "name": "stderr",
     "output_type": "stream",
     "text": [
      "100%|████████████████████████████████████████████████████████████████████████████████| 114/114 [00:26<00:00,  4.24it/s]\n",
      "17it [00:02,  7.48it/s]\n"
     ]
    },
    {
     "name": "stdout",
     "output_type": "stream",
     "text": [
      "Epoch: 056, Loss: 1.01926\n",
      "all: h@1: 0.29957 h@5: 0.48322 h@10: 0.54973 ndcg@1: 0.29957 ndcg@5: 0.39817 ndcg@10: 0.41986\n",
      "new: h@1: 0.01943 h@5: 0.17489 h@10: 0.27055 ndcg@1: 0.01943 ndcg@5: 0.09785 ndcg@10: 0.12892\n",
      "rep: h@1: 0.49278 h@5: 0.69588 h@10: 0.74227 ndcg@1: 0.49278 ndcg@5: 0.60530 ndcg@10: 0.62052\n",
      "ratio:  0.5918242830994509\n"
     ]
    },
    {
     "name": "stderr",
     "output_type": "stream",
     "text": [
      "100%|████████████████████████████████████████████████████████████████████████████████| 114/114 [00:27<00:00,  4.19it/s]\n",
      "17it [00:02,  7.19it/s]\n"
     ]
    },
    {
     "name": "stdout",
     "output_type": "stream",
     "text": [
      "Epoch: 057, Loss: 1.01527\n",
      "all: h@1: 0.30079 h@5: 0.48078 h@10: 0.55217 ndcg@1: 0.30079 ndcg@5: 0.39792 ndcg@10: 0.42105\n",
      "new: h@1: 0.02093 h@5: 0.17489 h@10: 0.27952 ndcg@1: 0.02093 ndcg@5: 0.09917 ndcg@10: 0.13276\n",
      "rep: h@1: 0.49381 h@5: 0.69175 h@10: 0.74021 ndcg@1: 0.49381 ndcg@5: 0.60396 ndcg@10: 0.61989\n",
      "ratio:  0.5918242830994509\n"
     ]
    },
    {
     "name": "stderr",
     "output_type": "stream",
     "text": [
      "100%|████████████████████████████████████████████████████████████████████████████████| 114/114 [00:26<00:00,  4.25it/s]\n",
      "17it [00:02,  7.02it/s]\n"
     ]
    },
    {
     "name": "stdout",
     "output_type": "stream",
     "text": [
      "Epoch: 058, Loss: 1.00780\n",
      "all: h@1: 0.30018 h@5: 0.48505 h@10: 0.55461 ndcg@1: 0.30018 ndcg@5: 0.40009 ndcg@10: 0.42241\n",
      "new: h@1: 0.02093 h@5: 0.17339 h@10: 0.27952 ndcg@1: 0.02093 ndcg@5: 0.09942 ndcg@10: 0.13362\n",
      "rep: h@1: 0.49278 h@5: 0.70000 h@10: 0.74433 ndcg@1: 0.49278 ndcg@5: 0.60747 ndcg@10: 0.62159\n",
      "ratio:  0.5918242830994509\n"
     ]
    },
    {
     "name": "stderr",
     "output_type": "stream",
     "text": [
      "100%|████████████████████████████████████████████████████████████████████████████████| 114/114 [00:27<00:00,  4.18it/s]\n",
      "17it [00:02,  7.36it/s]\n"
     ]
    },
    {
     "name": "stdout",
     "output_type": "stream",
     "text": [
      "Epoch: 059, Loss: 1.00273\n",
      "all: h@1: 0.30506 h@5: 0.48932 h@10: 0.56315 ndcg@1: 0.30506 ndcg@5: 0.40475 ndcg@10: 0.42839\n",
      "new: h@1: 0.02691 h@5: 0.17788 h@10: 0.28999 ndcg@1: 0.02691 ndcg@5: 0.10381 ndcg@10: 0.13953\n",
      "rep: h@1: 0.49691 h@5: 0.70412 h@10: 0.75155 ndcg@1: 0.49691 ndcg@5: 0.61231 ndcg@10: 0.62761\n",
      "ratio:  0.5918242830994509\n"
     ]
    },
    {
     "name": "stderr",
     "output_type": "stream",
     "text": [
      "100%|████████████████████████████████████████████████████████████████████████████████| 114/114 [00:26<00:00,  4.26it/s]\n",
      "17it [00:02,  7.45it/s]\n"
     ]
    },
    {
     "name": "stdout",
     "output_type": "stream",
     "text": [
      "Epoch: 060, Loss: 0.99962\n",
      "all: h@1: 0.30445 h@5: 0.48383 h@10: 0.56315 ndcg@1: 0.30445 ndcg@5: 0.40193 ndcg@10: 0.42738\n",
      "new: h@1: 0.01794 h@5: 0.18087 h@10: 0.29447 ndcg@1: 0.01794 ndcg@5: 0.10168 ndcg@10: 0.13789\n",
      "rep: h@1: 0.50206 h@5: 0.69278 h@10: 0.74845 ndcg@1: 0.50206 ndcg@5: 0.60901 ndcg@10: 0.62704\n",
      "ratio:  0.5918242830994509\n"
     ]
    },
    {
     "name": "stderr",
     "output_type": "stream",
     "text": [
      "100%|████████████████████████████████████████████████████████████████████████████████| 114/114 [00:27<00:00,  4.18it/s]\n",
      "17it [00:02,  7.04it/s]\n"
     ]
    },
    {
     "name": "stdout",
     "output_type": "stream",
     "text": [
      "Epoch: 061, Loss: 0.99390\n",
      "all: h@1: 0.30384 h@5: 0.49481 h@10: 0.56803 ndcg@1: 0.30384 ndcg@5: 0.40590 ndcg@10: 0.42968\n",
      "new: h@1: 0.02392 h@5: 0.18236 h@10: 0.28401 ndcg@1: 0.02392 ndcg@5: 0.10284 ndcg@10: 0.13586\n",
      "rep: h@1: 0.49691 h@5: 0.71031 h@10: 0.76392 ndcg@1: 0.49691 ndcg@5: 0.61491 ndcg@10: 0.63233\n",
      "ratio:  0.5918242830994509\n"
     ]
    },
    {
     "name": "stderr",
     "output_type": "stream",
     "text": [
      "100%|████████████████████████████████████████████████████████████████████████████████| 114/114 [00:27<00:00,  4.21it/s]\n",
      "17it [00:02,  7.16it/s]\n"
     ]
    },
    {
     "name": "stdout",
     "output_type": "stream",
     "text": [
      "Epoch: 062, Loss: 0.98681\n",
      "all: h@1: 0.30628 h@5: 0.49176 h@10: 0.56986 ndcg@1: 0.30628 ndcg@5: 0.40748 ndcg@10: 0.43267\n",
      "new: h@1: 0.01794 h@5: 0.18087 h@10: 0.29297 ndcg@1: 0.01794 ndcg@5: 0.10301 ndcg@10: 0.13893\n",
      "rep: h@1: 0.50515 h@5: 0.70619 h@10: 0.76082 ndcg@1: 0.50515 ndcg@5: 0.61747 ndcg@10: 0.63525\n",
      "ratio:  0.5918242830994509\n"
     ]
    },
    {
     "name": "stderr",
     "output_type": "stream",
     "text": [
      "100%|████████████████████████████████████████████████████████████████████████████████| 114/114 [00:27<00:00,  4.09it/s]\n",
      "17it [00:02,  7.23it/s]\n"
     ]
    },
    {
     "name": "stdout",
     "output_type": "stream",
     "text": [
      "Epoch: 063, Loss: 0.98225\n",
      "all: h@1: 0.30872 h@5: 0.49542 h@10: 0.57169 ndcg@1: 0.30872 ndcg@5: 0.40922 ndcg@10: 0.43392\n",
      "new: h@1: 0.02093 h@5: 0.18386 h@10: 0.28700 ndcg@1: 0.02093 ndcg@5: 0.10385 ndcg@10: 0.13750\n",
      "rep: h@1: 0.50722 h@5: 0.71031 h@10: 0.76804 ndcg@1: 0.50722 ndcg@5: 0.61982 ndcg@10: 0.63835\n",
      "ratio:  0.5918242830994509\n"
     ]
    },
    {
     "name": "stderr",
     "output_type": "stream",
     "text": [
      "100%|████████████████████████████████████████████████████████████████████████████████| 114/114 [00:27<00:00,  4.21it/s]\n",
      "17it [00:02,  7.28it/s]\n"
     ]
    },
    {
     "name": "stdout",
     "output_type": "stream",
     "text": [
      "Epoch: 064, Loss: 0.97969\n",
      "all: h@1: 0.30445 h@5: 0.50458 h@10: 0.57901 ndcg@1: 0.30445 ndcg@5: 0.41126 ndcg@10: 0.43524\n",
      "new: h@1: 0.01644 h@5: 0.20179 h@10: 0.29596 ndcg@1: 0.01644 ndcg@5: 0.10833 ndcg@10: 0.13855\n",
      "rep: h@1: 0.50309 h@5: 0.71340 h@10: 0.77423 ndcg@1: 0.50309 ndcg@5: 0.62019 ndcg@10: 0.63986\n",
      "ratio:  0.5918242830994509\n"
     ]
    },
    {
     "name": "stderr",
     "output_type": "stream",
     "text": [
      "100%|████████████████████████████████████████████████████████████████████████████████| 114/114 [00:27<00:00,  4.21it/s]\n",
      "17it [00:02,  7.16it/s]\n"
     ]
    },
    {
     "name": "stdout",
     "output_type": "stream",
     "text": [
      "Epoch: 065, Loss: 0.97499\n",
      "all: h@1: 0.30689 h@5: 0.50214 h@10: 0.57535 ndcg@1: 0.30689 ndcg@5: 0.41023 ndcg@10: 0.43390\n",
      "new: h@1: 0.01794 h@5: 0.18685 h@10: 0.29447 ndcg@1: 0.01794 ndcg@5: 0.10338 ndcg@10: 0.13788\n",
      "rep: h@1: 0.50619 h@5: 0.71959 h@10: 0.76907 ndcg@1: 0.50619 ndcg@5: 0.62186 ndcg@10: 0.63806\n",
      "ratio:  0.5918242830994509\n"
     ]
    },
    {
     "name": "stderr",
     "output_type": "stream",
     "text": [
      "100%|████████████████████████████████████████████████████████████████████████████████| 114/114 [00:27<00:00,  4.21it/s]\n",
      "17it [00:02,  7.44it/s]\n"
     ]
    },
    {
     "name": "stdout",
     "output_type": "stream",
     "text": [
      "Epoch: 066, Loss: 0.96869\n",
      "all: h@1: 0.31056 h@5: 0.49908 h@10: 0.58267 ndcg@1: 0.31056 ndcg@5: 0.41167 ndcg@10: 0.43882\n",
      "new: h@1: 0.02093 h@5: 0.18386 h@10: 0.30194 ndcg@1: 0.02093 ndcg@5: 0.10227 ndcg@10: 0.14070\n",
      "rep: h@1: 0.51031 h@5: 0.71649 h@10: 0.77629 ndcg@1: 0.51031 ndcg@5: 0.62505 ndcg@10: 0.64443\n",
      "ratio:  0.5918242830994509\n"
     ]
    },
    {
     "name": "stderr",
     "output_type": "stream",
     "text": [
      "100%|████████████████████████████████████████████████████████████████████████████████| 114/114 [00:27<00:00,  4.21it/s]\n",
      "17it [00:02,  7.42it/s]\n"
     ]
    },
    {
     "name": "stdout",
     "output_type": "stream",
     "text": [
      "Epoch: 067, Loss: 0.96565\n",
      "all: h@1: 0.30628 h@5: 0.50702 h@10: 0.58633 ndcg@1: 0.30628 ndcg@5: 0.41378 ndcg@10: 0.43948\n",
      "new: h@1: 0.01794 h@5: 0.19283 h@10: 0.30045 ndcg@1: 0.01794 ndcg@5: 0.10548 ndcg@10: 0.14031\n",
      "rep: h@1: 0.50515 h@5: 0.72371 h@10: 0.78351 ndcg@1: 0.50515 ndcg@5: 0.62641 ndcg@10: 0.64582\n",
      "ratio:  0.5918242830994509\n"
     ]
    },
    {
     "name": "stderr",
     "output_type": "stream",
     "text": [
      "100%|████████████████████████████████████████████████████████████████████████████████| 114/114 [00:26<00:00,  4.27it/s]\n",
      "17it [00:02,  7.24it/s]\n"
     ]
    },
    {
     "name": "stdout",
     "output_type": "stream",
     "text": [
      "Epoch: 068, Loss: 0.96199\n",
      "all: h@1: 0.31605 h@5: 0.50031 h@10: 0.58267 ndcg@1: 0.31605 ndcg@5: 0.41473 ndcg@10: 0.44131\n",
      "new: h@1: 0.01943 h@5: 0.19432 h@10: 0.30045 ndcg@1: 0.01943 ndcg@5: 0.10725 ndcg@10: 0.14140\n",
      "rep: h@1: 0.52062 h@5: 0.71134 h@10: 0.77732 ndcg@1: 0.52062 ndcg@5: 0.62681 ndcg@10: 0.64815\n",
      "ratio:  0.5918242830994509\n"
     ]
    },
    {
     "name": "stderr",
     "output_type": "stream",
     "text": [
      "100%|████████████████████████████████████████████████████████████████████████████████| 114/114 [00:27<00:00,  4.17it/s]\n",
      "17it [00:02,  6.70it/s]\n"
     ]
    },
    {
     "name": "stdout",
     "output_type": "stream",
     "text": [
      "Epoch: 069, Loss: 0.95408\n",
      "all: h@1: 0.31178 h@5: 0.50397 h@10: 0.58328 ndcg@1: 0.31178 ndcg@5: 0.41436 ndcg@10: 0.44001\n",
      "new: h@1: 0.01794 h@5: 0.19283 h@10: 0.30194 ndcg@1: 0.01794 ndcg@5: 0.10424 ndcg@10: 0.13937\n",
      "rep: h@1: 0.51443 h@5: 0.71856 h@10: 0.77732 ndcg@1: 0.51443 ndcg@5: 0.62824 ndcg@10: 0.64735\n",
      "ratio:  0.5918242830994509\n"
     ]
    },
    {
     "name": "stderr",
     "output_type": "stream",
     "text": [
      "100%|████████████████████████████████████████████████████████████████████████████████| 114/114 [00:27<00:00,  4.17it/s]\n",
      "17it [00:02,  7.41it/s]\n"
     ]
    },
    {
     "name": "stdout",
     "output_type": "stream",
     "text": [
      "Epoch: 070, Loss: 0.95086\n",
      "all: h@1: 0.31422 h@5: 0.49725 h@10: 0.59060 ndcg@1: 0.31422 ndcg@5: 0.41291 ndcg@10: 0.44347\n",
      "new: h@1: 0.01943 h@5: 0.18535 h@10: 0.31091 ndcg@1: 0.01943 ndcg@5: 0.10283 ndcg@10: 0.14377\n",
      "rep: h@1: 0.51753 h@5: 0.71237 h@10: 0.78351 ndcg@1: 0.51753 ndcg@5: 0.62676 ndcg@10: 0.65017\n",
      "ratio:  0.5918242830994509\n"
     ]
    },
    {
     "name": "stderr",
     "output_type": "stream",
     "text": [
      "100%|████████████████████████████████████████████████████████████████████████████████| 114/114 [00:26<00:00,  4.27it/s]\n",
      "17it [00:02,  7.52it/s]\n"
     ]
    },
    {
     "name": "stdout",
     "output_type": "stream",
     "text": [
      "Epoch: 071, Loss: 0.94692\n",
      "all: h@1: 0.31605 h@5: 0.51007 h@10: 0.58816 ndcg@1: 0.31605 ndcg@5: 0.42022 ndcg@10: 0.44543\n",
      "new: h@1: 0.01644 h@5: 0.19432 h@10: 0.30493 ndcg@1: 0.01644 ndcg@5: 0.10733 ndcg@10: 0.14261\n",
      "rep: h@1: 0.52268 h@5: 0.72784 h@10: 0.78351 ndcg@1: 0.52268 ndcg@5: 0.63602 ndcg@10: 0.65429\n",
      "ratio:  0.5918242830994509\n"
     ]
    },
    {
     "name": "stderr",
     "output_type": "stream",
     "text": [
      "100%|████████████████████████████████████████████████████████████████████████████████| 114/114 [00:26<00:00,  4.24it/s]\n",
      "17it [00:02,  7.39it/s]\n"
     ]
    },
    {
     "name": "stdout",
     "output_type": "stream",
     "text": [
      "Epoch: 072, Loss: 0.94523\n",
      "all: h@1: 0.31544 h@5: 0.51495 h@10: 0.59304 ndcg@1: 0.31544 ndcg@5: 0.42109 ndcg@10: 0.44621\n",
      "new: h@1: 0.02093 h@5: 0.19731 h@10: 0.30344 ndcg@1: 0.02093 ndcg@5: 0.10754 ndcg@10: 0.14138\n",
      "rep: h@1: 0.51856 h@5: 0.73402 h@10: 0.79278 ndcg@1: 0.51856 ndcg@5: 0.63735 ndcg@10: 0.65645\n",
      "ratio:  0.5918242830994509\n"
     ]
    },
    {
     "name": "stderr",
     "output_type": "stream",
     "text": [
      "100%|████████████████████████████████████████████████████████████████████████████████| 114/114 [00:26<00:00,  4.28it/s]\n",
      "17it [00:02,  7.32it/s]\n"
     ]
    },
    {
     "name": "stdout",
     "output_type": "stream",
     "text": [
      "Epoch: 073, Loss: 0.93932\n",
      "all: h@1: 0.31971 h@5: 0.51556 h@10: 0.58938 ndcg@1: 0.31971 ndcg@5: 0.42392 ndcg@10: 0.44794\n",
      "new: h@1: 0.02242 h@5: 0.19731 h@10: 0.29148 ndcg@1: 0.02242 ndcg@5: 0.10999 ndcg@10: 0.14035\n",
      "rep: h@1: 0.52474 h@5: 0.73505 h@10: 0.79485 ndcg@1: 0.52474 ndcg@5: 0.64044 ndcg@10: 0.66009\n",
      "ratio:  0.5918242830994509\n"
     ]
    },
    {
     "name": "stderr",
     "output_type": "stream",
     "text": [
      "100%|████████████████████████████████████████████████████████████████████████████████| 114/114 [00:27<00:00,  4.22it/s]\n",
      "17it [00:02,  7.57it/s]\n"
     ]
    },
    {
     "name": "stdout",
     "output_type": "stream",
     "text": [
      "Epoch: 074, Loss: 0.93757\n",
      "all: h@1: 0.32093 h@5: 0.51739 h@10: 0.59549 ndcg@1: 0.32093 ndcg@5: 0.42483 ndcg@10: 0.45051\n",
      "new: h@1: 0.02392 h@5: 0.19432 h@10: 0.29447 ndcg@1: 0.02392 ndcg@5: 0.10715 ndcg@10: 0.13996\n",
      "rep: h@1: 0.52577 h@5: 0.74021 h@10: 0.80309 ndcg@1: 0.52577 ndcg@5: 0.64394 ndcg@10: 0.66469\n",
      "ratio:  0.5918242830994509\n"
     ]
    },
    {
     "name": "stderr",
     "output_type": "stream",
     "text": [
      "100%|████████████████████████████████████████████████████████████████████████████████| 114/114 [00:27<00:00,  4.18it/s]\n",
      "17it [00:02,  7.59it/s]\n"
     ]
    },
    {
     "name": "stdout",
     "output_type": "stream",
     "text": [
      "Epoch: 075, Loss: 0.93410\n",
      "all: h@1: 0.31788 h@5: 0.51922 h@10: 0.59671 ndcg@1: 0.31788 ndcg@5: 0.42474 ndcg@10: 0.44973\n",
      "new: h@1: 0.02691 h@5: 0.19731 h@10: 0.30493 ndcg@1: 0.02691 ndcg@5: 0.11132 ndcg@10: 0.14605\n",
      "rep: h@1: 0.51856 h@5: 0.74124 h@10: 0.79794 ndcg@1: 0.51856 ndcg@5: 0.64090 ndcg@10: 0.65917\n",
      "ratio:  0.5918242830994509\n"
     ]
    },
    {
     "name": "stderr",
     "output_type": "stream",
     "text": [
      "100%|████████████████████████████████████████████████████████████████████████████████| 114/114 [00:27<00:00,  4.19it/s]\n",
      "17it [00:02,  7.51it/s]\n"
     ]
    },
    {
     "name": "stdout",
     "output_type": "stream",
     "text": [
      "Epoch: 076, Loss: 0.92883\n",
      "all: h@1: 0.31788 h@5: 0.51617 h@10: 0.60342 ndcg@1: 0.31788 ndcg@5: 0.42355 ndcg@10: 0.45184\n",
      "new: h@1: 0.02541 h@5: 0.19133 h@10: 0.30942 ndcg@1: 0.02541 ndcg@5: 0.10950 ndcg@10: 0.14777\n",
      "rep: h@1: 0.51959 h@5: 0.74021 h@10: 0.80619 ndcg@1: 0.51959 ndcg@5: 0.64015 ndcg@10: 0.66155\n",
      "ratio:  0.5918242830994509\n"
     ]
    },
    {
     "name": "stderr",
     "output_type": "stream",
     "text": [
      "100%|████████████████████████████████████████████████████████████████████████████████| 114/114 [00:26<00:00,  4.24it/s]\n",
      "17it [00:02,  7.34it/s]\n"
     ]
    },
    {
     "name": "stdout",
     "output_type": "stream",
     "text": [
      "Epoch: 077, Loss: 0.92621\n",
      "all: h@1: 0.32032 h@5: 0.52288 h@10: 0.59304 ndcg@1: 0.32032 ndcg@5: 0.42844 ndcg@10: 0.45119\n",
      "new: h@1: 0.02541 h@5: 0.20329 h@10: 0.29895 ndcg@1: 0.02541 ndcg@5: 0.11437 ndcg@10: 0.14548\n",
      "rep: h@1: 0.52371 h@5: 0.74330 h@10: 0.79588 ndcg@1: 0.52371 ndcg@5: 0.64504 ndcg@10: 0.66204\n",
      "ratio:  0.5918242830994509\n"
     ]
    },
    {
     "name": "stderr",
     "output_type": "stream",
     "text": [
      "100%|████████████████████████████████████████████████████████████████████████████████| 114/114 [00:26<00:00,  4.24it/s]\n",
      "17it [00:02,  7.43it/s]\n"
     ]
    },
    {
     "name": "stdout",
     "output_type": "stream",
     "text": [
      "Epoch: 078, Loss: 0.92311\n",
      "all: h@1: 0.31788 h@5: 0.52410 h@10: 0.60464 ndcg@1: 0.31788 ndcg@5: 0.42890 ndcg@10: 0.45508\n",
      "new: h@1: 0.02242 h@5: 0.20628 h@10: 0.32138 ndcg@1: 0.02242 ndcg@5: 0.11587 ndcg@10: 0.15329\n",
      "rep: h@1: 0.52165 h@5: 0.74330 h@10: 0.80000 ndcg@1: 0.52165 ndcg@5: 0.64479 ndcg@10: 0.66322\n",
      "ratio:  0.5918242830994509\n"
     ]
    },
    {
     "name": "stderr",
     "output_type": "stream",
     "text": [
      "100%|████████████████████████████████████████████████████████████████████████████████| 114/114 [00:26<00:00,  4.24it/s]\n",
      "17it [00:02,  7.40it/s]\n"
     ]
    },
    {
     "name": "stdout",
     "output_type": "stream",
     "text": [
      "Epoch: 079, Loss: 0.91721\n",
      "all: h@1: 0.31910 h@5: 0.52532 h@10: 0.60464 ndcg@1: 0.31910 ndcg@5: 0.42982 ndcg@10: 0.45551\n",
      "new: h@1: 0.02242 h@5: 0.20927 h@10: 0.31540 ndcg@1: 0.02242 ndcg@5: 0.11768 ndcg@10: 0.15211\n",
      "rep: h@1: 0.52371 h@5: 0.74330 h@10: 0.80412 ndcg@1: 0.52371 ndcg@5: 0.64510 ndcg@10: 0.66477\n",
      "ratio:  0.5918242830994509\n"
     ]
    },
    {
     "name": "stderr",
     "output_type": "stream",
     "text": [
      "100%|████████████████████████████████████████████████████████████████████████████████| 114/114 [00:26<00:00,  4.25it/s]\n",
      "17it [00:02,  7.46it/s]\n"
     ]
    },
    {
     "name": "stdout",
     "output_type": "stream",
     "text": [
      "Epoch: 080, Loss: 0.91665\n",
      "all: h@1: 0.31605 h@5: 0.53081 h@10: 0.60769 ndcg@1: 0.31605 ndcg@5: 0.43040 ndcg@10: 0.45539\n",
      "new: h@1: 0.02541 h@5: 0.21824 h@10: 0.32735 ndcg@1: 0.02541 ndcg@5: 0.12121 ndcg@10: 0.15670\n",
      "rep: h@1: 0.51649 h@5: 0.74639 h@10: 0.80103 ndcg@1: 0.51649 ndcg@5: 0.64366 ndcg@10: 0.66140\n",
      "ratio:  0.5918242830994509\n"
     ]
    },
    {
     "name": "stderr",
     "output_type": "stream",
     "text": [
      "100%|████████████████████████████████████████████████████████████████████████████████| 114/114 [00:26<00:00,  4.27it/s]\n",
      "17it [00:02,  7.51it/s]\n"
     ]
    },
    {
     "name": "stdout",
     "output_type": "stream",
     "text": [
      "Epoch: 081, Loss: 0.91168\n",
      "all: h@1: 0.32215 h@5: 0.53874 h@10: 0.61379 ndcg@1: 0.32215 ndcg@5: 0.43651 ndcg@10: 0.46071\n",
      "new: h@1: 0.02541 h@5: 0.22571 h@10: 0.33184 ndcg@1: 0.02541 ndcg@5: 0.12480 ndcg@10: 0.15880\n",
      "rep: h@1: 0.52680 h@5: 0.75464 h@10: 0.80825 ndcg@1: 0.52680 ndcg@5: 0.65150 ndcg@10: 0.66894\n",
      "ratio:  0.5918242830994509\n"
     ]
    },
    {
     "name": "stderr",
     "output_type": "stream",
     "text": [
      "100%|████████████████████████████████████████████████████████████████████████████████| 114/114 [00:26<00:00,  4.26it/s]\n",
      "17it [00:02,  7.47it/s]\n"
     ]
    },
    {
     "name": "stdout",
     "output_type": "stream",
     "text": [
      "Epoch: 082, Loss: 0.90987\n",
      "all: h@1: 0.31422 h@5: 0.53142 h@10: 0.60281 ndcg@1: 0.31422 ndcg@5: 0.42794 ndcg@10: 0.45128\n",
      "new: h@1: 0.02691 h@5: 0.21525 h@10: 0.31988 ndcg@1: 0.02691 ndcg@5: 0.11838 ndcg@10: 0.15270\n",
      "rep: h@1: 0.51237 h@5: 0.74948 h@10: 0.79794 ndcg@1: 0.51237 ndcg@5: 0.64145 ndcg@10: 0.65720\n",
      "ratio:  0.5918242830994509\n"
     ]
    },
    {
     "name": "stderr",
     "output_type": "stream",
     "text": [
      "100%|████████████████████████████████████████████████████████████████████████████████| 114/114 [00:26<00:00,  4.24it/s]\n",
      "17it [00:02,  7.35it/s]\n"
     ]
    },
    {
     "name": "stdout",
     "output_type": "stream",
     "text": [
      "Epoch: 083, Loss: 0.90693\n",
      "all: h@1: 0.32215 h@5: 0.52654 h@10: 0.60647 ndcg@1: 0.32215 ndcg@5: 0.43096 ndcg@10: 0.45695\n",
      "new: h@1: 0.03139 h@5: 0.20628 h@10: 0.32436 ndcg@1: 0.03139 ndcg@5: 0.11928 ndcg@10: 0.15764\n",
      "rep: h@1: 0.52268 h@5: 0.74742 h@10: 0.80103 ndcg@1: 0.52268 ndcg@5: 0.64592 ndcg@10: 0.66339\n",
      "ratio:  0.5918242830994509\n"
     ]
    },
    {
     "name": "stderr",
     "output_type": "stream",
     "text": [
      "100%|████████████████████████████████████████████████████████████████████████████████| 114/114 [00:26<00:00,  4.24it/s]\n",
      "17it [00:02,  7.35it/s]\n"
     ]
    },
    {
     "name": "stdout",
     "output_type": "stream",
     "text": [
      "Epoch: 084, Loss: 0.90551\n",
      "all: h@1: 0.31788 h@5: 0.53081 h@10: 0.60647 ndcg@1: 0.31788 ndcg@5: 0.43040 ndcg@10: 0.45500\n",
      "new: h@1: 0.02242 h@5: 0.20628 h@10: 0.32287 ndcg@1: 0.02242 ndcg@5: 0.11601 ndcg@10: 0.15395\n",
      "rep: h@1: 0.52165 h@5: 0.75464 h@10: 0.80206 ndcg@1: 0.52165 ndcg@5: 0.64723 ndcg@10: 0.66262\n",
      "ratio:  0.5918242830994509\n"
     ]
    },
    {
     "name": "stderr",
     "output_type": "stream",
     "text": [
      "100%|████████████████████████████████████████████████████████████████████████████████| 114/114 [00:26<00:00,  4.24it/s]\n",
      "17it [00:02,  7.18it/s]\n"
     ]
    },
    {
     "name": "stdout",
     "output_type": "stream",
     "text": [
      "Epoch: 085, Loss: 0.90368\n",
      "all: h@1: 0.32032 h@5: 0.53142 h@10: 0.60647 ndcg@1: 0.32032 ndcg@5: 0.43148 ndcg@10: 0.45608\n",
      "new: h@1: 0.02242 h@5: 0.20628 h@10: 0.32586 ndcg@1: 0.02242 ndcg@5: 0.11451 ndcg@10: 0.15360\n",
      "rep: h@1: 0.52577 h@5: 0.75567 h@10: 0.80000 ndcg@1: 0.52577 ndcg@5: 0.65009 ndcg@10: 0.66469\n",
      "ratio:  0.5918242830994509\n"
     ]
    },
    {
     "name": "stderr",
     "output_type": "stream",
     "text": [
      "100%|████████████████████████████████████████████████████████████████████████████████| 114/114 [00:26<00:00,  4.28it/s]\n",
      "17it [00:02,  7.65it/s]\n"
     ]
    },
    {
     "name": "stdout",
     "output_type": "stream",
     "text": [
      "Epoch: 086, Loss: 0.90086\n",
      "all: h@1: 0.31849 h@5: 0.53203 h@10: 0.61074 ndcg@1: 0.31849 ndcg@5: 0.43268 ndcg@10: 0.45840\n",
      "new: h@1: 0.02242 h@5: 0.20478 h@10: 0.33333 ndcg@1: 0.02242 ndcg@5: 0.11641 ndcg@10: 0.15818\n",
      "rep: h@1: 0.52268 h@5: 0.75773 h@10: 0.80206 ndcg@1: 0.52268 ndcg@5: 0.65080 ndcg@10: 0.66547\n",
      "ratio:  0.5918242830994509\n"
     ]
    },
    {
     "name": "stderr",
     "output_type": "stream",
     "text": [
      "100%|████████████████████████████████████████████████████████████████████████████████| 114/114 [00:26<00:00,  4.23it/s]\n",
      "17it [00:02,  7.20it/s]\n"
     ]
    },
    {
     "name": "stdout",
     "output_type": "stream",
     "text": [
      "Epoch: 087, Loss: 0.89835\n",
      "all: h@1: 0.32032 h@5: 0.53447 h@10: 0.61379 ndcg@1: 0.32032 ndcg@5: 0.43415 ndcg@10: 0.45996\n",
      "new: h@1: 0.02093 h@5: 0.20478 h@10: 0.33184 ndcg@1: 0.02093 ndcg@5: 0.11516 ndcg@10: 0.15667\n",
      "rep: h@1: 0.52680 h@5: 0.76186 h@10: 0.80825 ndcg@1: 0.52680 ndcg@5: 0.65415 ndcg@10: 0.66914\n",
      "ratio:  0.5918242830994509\n"
     ]
    },
    {
     "name": "stderr",
     "output_type": "stream",
     "text": [
      "100%|████████████████████████████████████████████████████████████████████████████████| 114/114 [00:27<00:00,  4.11it/s]\n",
      "17it [00:02,  7.35it/s]\n"
     ]
    },
    {
     "name": "stdout",
     "output_type": "stream",
     "text": [
      "Epoch: 088, Loss: 0.89258\n",
      "all: h@1: 0.31727 h@5: 0.53386 h@10: 0.60952 ndcg@1: 0.31727 ndcg@5: 0.43135 ndcg@10: 0.45581\n",
      "new: h@1: 0.01943 h@5: 0.21076 h@10: 0.32735 ndcg@1: 0.01943 ndcg@5: 0.11542 ndcg@10: 0.15305\n",
      "rep: h@1: 0.52268 h@5: 0.75670 h@10: 0.80412 ndcg@1: 0.52268 ndcg@5: 0.64924 ndcg@10: 0.66462\n",
      "ratio:  0.5918242830994509\n"
     ]
    },
    {
     "name": "stderr",
     "output_type": "stream",
     "text": [
      "100%|████████████████████████████████████████████████████████████████████████████████| 114/114 [00:27<00:00,  4.09it/s]\n",
      "17it [00:02,  7.18it/s]\n"
     ]
    },
    {
     "name": "stdout",
     "output_type": "stream",
     "text": [
      "Epoch: 089, Loss: 0.89346\n",
      "all: h@1: 0.32581 h@5: 0.53081 h@10: 0.61074 ndcg@1: 0.32581 ndcg@5: 0.43264 ndcg@10: 0.45869\n",
      "new: h@1: 0.02392 h@5: 0.20179 h@10: 0.32735 ndcg@1: 0.02392 ndcg@5: 0.11316 ndcg@10: 0.15427\n",
      "rep: h@1: 0.53402 h@5: 0.75773 h@10: 0.80619 ndcg@1: 0.53402 ndcg@5: 0.65299 ndcg@10: 0.66864\n",
      "ratio:  0.5918242830994509\n"
     ]
    },
    {
     "name": "stderr",
     "output_type": "stream",
     "text": [
      "100%|████████████████████████████████████████████████████████████████████████████████| 114/114 [00:26<00:00,  4.23it/s]\n",
      "17it [00:02,  7.41it/s]\n"
     ]
    },
    {
     "name": "stdout",
     "output_type": "stream",
     "text": [
      "Epoch: 090, Loss: 0.89043\n",
      "all: h@1: 0.32337 h@5: 0.52715 h@10: 0.60098 ndcg@1: 0.32337 ndcg@5: 0.43125 ndcg@10: 0.45546\n",
      "new: h@1: 0.02691 h@5: 0.19731 h@10: 0.31241 ndcg@1: 0.02691 ndcg@5: 0.11333 ndcg@10: 0.15117\n",
      "rep: h@1: 0.52784 h@5: 0.75464 h@10: 0.80000 ndcg@1: 0.52784 ndcg@5: 0.65051 ndcg@10: 0.66533\n",
      "ratio:  0.5918242830994509\n"
     ]
    },
    {
     "name": "stderr",
     "output_type": "stream",
     "text": [
      "100%|████████████████████████████████████████████████████████████████████████████████| 114/114 [00:26<00:00,  4.24it/s]\n",
      "17it [00:02,  7.27it/s]\n"
     ]
    },
    {
     "name": "stdout",
     "output_type": "stream",
     "text": [
      "Epoch: 091, Loss: 0.88990\n",
      "all: h@1: 0.32032 h@5: 0.53020 h@10: 0.60708 ndcg@1: 0.32032 ndcg@5: 0.43082 ndcg@10: 0.45565\n",
      "new: h@1: 0.02242 h@5: 0.19581 h@10: 0.31241 ndcg@1: 0.02242 ndcg@5: 0.11118 ndcg@10: 0.14921\n",
      "rep: h@1: 0.52577 h@5: 0.76082 h@10: 0.81031 ndcg@1: 0.52577 ndcg@5: 0.65127 ndcg@10: 0.66700\n",
      "ratio:  0.5918242830994509\n"
     ]
    },
    {
     "name": "stderr",
     "output_type": "stream",
     "text": [
      "100%|████████████████████████████████████████████████████████████████████████████████| 114/114 [00:27<00:00,  4.19it/s]\n",
      "17it [00:02,  7.44it/s]\n"
     ]
    },
    {
     "name": "stdout",
     "output_type": "stream",
     "text": [
      "Epoch: 092, Loss: 0.88722\n",
      "all: h@1: 0.31666 h@5: 0.53020 h@10: 0.60830 ndcg@1: 0.31666 ndcg@5: 0.43012 ndcg@10: 0.45535\n",
      "new: h@1: 0.02392 h@5: 0.19581 h@10: 0.31540 ndcg@1: 0.02392 ndcg@5: 0.11182 ndcg@10: 0.15058\n",
      "rep: h@1: 0.51856 h@5: 0.76082 h@10: 0.81031 ndcg@1: 0.51856 ndcg@5: 0.64964 ndcg@10: 0.66554\n",
      "ratio:  0.5918242830994509\n"
     ]
    },
    {
     "name": "stderr",
     "output_type": "stream",
     "text": [
      "100%|████████████████████████████████████████████████████████████████████████████████| 114/114 [00:27<00:00,  4.09it/s]\n",
      "17it [00:02,  6.90it/s]\n"
     ]
    },
    {
     "name": "stdout",
     "output_type": "stream",
     "text": [
      "Epoch: 093, Loss: 0.88442\n",
      "all: h@1: 0.31483 h@5: 0.52715 h@10: 0.61074 ndcg@1: 0.31483 ndcg@5: 0.42738 ndcg@10: 0.45437\n",
      "new: h@1: 0.01794 h@5: 0.19133 h@10: 0.31839 ndcg@1: 0.01794 ndcg@5: 0.10499 ndcg@10: 0.14603\n",
      "rep: h@1: 0.51959 h@5: 0.75876 h@10: 0.81237 ndcg@1: 0.51959 ndcg@5: 0.64974 ndcg@10: 0.66702\n",
      "ratio:  0.5918242830994509\n"
     ]
    },
    {
     "name": "stderr",
     "output_type": "stream",
     "text": [
      "100%|████████████████████████████████████████████████████████████████████████████████| 114/114 [00:27<00:00,  4.08it/s]\n",
      "17it [00:02,  7.15it/s]\n"
     ]
    },
    {
     "name": "stdout",
     "output_type": "stream",
     "text": [
      "Epoch: 094, Loss: 0.88339\n",
      "all: h@1: 0.31483 h@5: 0.52349 h@10: 0.61867 ndcg@1: 0.31483 ndcg@5: 0.42601 ndcg@10: 0.45693\n",
      "new: h@1: 0.02392 h@5: 0.18535 h@10: 0.33034 ndcg@1: 0.02392 ndcg@5: 0.10506 ndcg@10: 0.15200\n",
      "rep: h@1: 0.51546 h@5: 0.75670 h@10: 0.81753 ndcg@1: 0.51546 ndcg@5: 0.64737 ndcg@10: 0.66725\n",
      "ratio:  0.5918242830994509\n"
     ]
    },
    {
     "name": "stderr",
     "output_type": "stream",
     "text": [
      "100%|████████████████████████████████████████████████████████████████████████████████| 114/114 [00:27<00:00,  4.13it/s]\n",
      "17it [00:02,  7.28it/s]\n"
     ]
    },
    {
     "name": "stdout",
     "output_type": "stream",
     "text": [
      "Epoch: 095, Loss: 0.88053\n",
      "all: h@1: 0.31788 h@5: 0.52349 h@10: 0.61379 ndcg@1: 0.31788 ndcg@5: 0.42637 ndcg@10: 0.45579\n",
      "new: h@1: 0.02541 h@5: 0.18087 h@10: 0.32586 ndcg@1: 0.02541 ndcg@5: 0.10182 ndcg@10: 0.14880\n",
      "rep: h@1: 0.51959 h@5: 0.75979 h@10: 0.81237 ndcg@1: 0.51959 ndcg@5: 0.65021 ndcg@10: 0.66752\n",
      "ratio:  0.5918242830994509\n"
     ]
    },
    {
     "name": "stderr",
     "output_type": "stream",
     "text": [
      "100%|████████████████████████████████████████████████████████████████████████████████| 114/114 [00:27<00:00,  4.15it/s]\n",
      "17it [00:02,  7.35it/s]\n"
     ]
    },
    {
     "name": "stdout",
     "output_type": "stream",
     "text": [
      "Epoch: 096, Loss: 0.87823\n",
      "all: h@1: 0.32337 h@5: 0.52837 h@10: 0.61989 ndcg@1: 0.32337 ndcg@5: 0.43180 ndcg@10: 0.46169\n",
      "new: h@1: 0.02840 h@5: 0.19432 h@10: 0.34081 ndcg@1: 0.02840 ndcg@5: 0.11169 ndcg@10: 0.15938\n",
      "rep: h@1: 0.52680 h@5: 0.75876 h@10: 0.81237 ndcg@1: 0.52680 ndcg@5: 0.65257 ndcg@10: 0.67019\n",
      "ratio:  0.5918242830994509\n"
     ]
    },
    {
     "name": "stderr",
     "output_type": "stream",
     "text": [
      "100%|████████████████████████████████████████████████████████████████████████████████| 114/114 [00:27<00:00,  4.14it/s]\n",
      "17it [00:02,  7.18it/s]\n"
     ]
    },
    {
     "name": "stdout",
     "output_type": "stream",
     "text": [
      "Epoch: 097, Loss: 0.87889\n",
      "all: h@1: 0.32093 h@5: 0.52044 h@10: 0.61440 ndcg@1: 0.32093 ndcg@5: 0.42721 ndcg@10: 0.45778\n",
      "new: h@1: 0.02541 h@5: 0.17638 h@10: 0.31988 ndcg@1: 0.02541 ndcg@5: 0.10087 ndcg@10: 0.14758\n",
      "rep: h@1: 0.52474 h@5: 0.75773 h@10: 0.81753 ndcg@1: 0.52474 ndcg@5: 0.65228 ndcg@10: 0.67172\n",
      "ratio:  0.5918242830994509\n"
     ]
    },
    {
     "name": "stderr",
     "output_type": "stream",
     "text": [
      "100%|████████████████████████████████████████████████████████████████████████████████| 114/114 [00:27<00:00,  4.16it/s]\n",
      "17it [00:02,  6.92it/s]\n"
     ]
    },
    {
     "name": "stdout",
     "output_type": "stream",
     "text": [
      "Epoch: 098, Loss: 0.87596\n",
      "all: h@1: 0.31788 h@5: 0.52532 h@10: 0.61379 ndcg@1: 0.31788 ndcg@5: 0.42768 ndcg@10: 0.45661\n",
      "new: h@1: 0.02392 h@5: 0.18087 h@10: 0.31839 ndcg@1: 0.02392 ndcg@5: 0.10306 ndcg@10: 0.14829\n",
      "rep: h@1: 0.52062 h@5: 0.76289 h@10: 0.81753 ndcg@1: 0.52062 ndcg@5: 0.65156 ndcg@10: 0.66925\n",
      "ratio:  0.5918242830994509\n"
     ]
    },
    {
     "name": "stderr",
     "output_type": "stream",
     "text": [
      "100%|████████████████████████████████████████████████████████████████████████████████| 114/114 [00:27<00:00,  4.22it/s]\n",
      "17it [00:02,  7.38it/s]\n"
     ]
    },
    {
     "name": "stdout",
     "output_type": "stream",
     "text": [
      "Epoch: 099, Loss: 0.87221\n",
      "all: h@1: 0.31544 h@5: 0.52410 h@10: 0.61440 ndcg@1: 0.31544 ndcg@5: 0.42661 ndcg@10: 0.45623\n",
      "new: h@1: 0.02541 h@5: 0.18236 h@10: 0.31390 ndcg@1: 0.02541 ndcg@5: 0.10506 ndcg@10: 0.14812\n",
      "rep: h@1: 0.51546 h@5: 0.75979 h@10: 0.82165 ndcg@1: 0.51546 ndcg@5: 0.64838 ndcg@10: 0.66873\n",
      "ratio:  0.5918242830994509\n"
     ]
    },
    {
     "name": "stderr",
     "output_type": "stream",
     "text": [
      "100%|████████████████████████████████████████████████████████████████████████████████| 114/114 [00:27<00:00,  4.12it/s]\n",
      "17it [00:02,  7.31it/s]\n"
     ]
    },
    {
     "name": "stdout",
     "output_type": "stream",
     "text": [
      "Epoch: 100, Loss: 0.87064\n",
      "all: h@1: 0.31910 h@5: 0.53447 h@10: 0.61806 ndcg@1: 0.31910 ndcg@5: 0.43308 ndcg@10: 0.46030\n",
      "new: h@1: 0.02541 h@5: 0.20030 h@10: 0.32735 ndcg@1: 0.02541 ndcg@5: 0.11183 ndcg@10: 0.15310\n",
      "rep: h@1: 0.52165 h@5: 0.76495 h@10: 0.81856 ndcg@1: 0.52165 ndcg@5: 0.65464 ndcg@10: 0.67217\n",
      "ratio:  0.5918242830994509\n"
     ]
    },
    {
     "name": "stderr",
     "output_type": "stream",
     "text": [
      "100%|████████████████████████████████████████████████████████████████████████████████| 114/114 [00:27<00:00,  4.21it/s]\n",
      "17it [00:02,  7.35it/s]\n"
     ]
    },
    {
     "name": "stdout",
     "output_type": "stream",
     "text": [
      "Epoch: 101, Loss: 0.87002\n",
      "all: h@1: 0.32093 h@5: 0.52959 h@10: 0.61806 ndcg@1: 0.32093 ndcg@5: 0.43046 ndcg@10: 0.45927\n",
      "new: h@1: 0.01943 h@5: 0.19432 h@10: 0.33034 ndcg@1: 0.01943 ndcg@5: 0.10592 ndcg@10: 0.15000\n",
      "rep: h@1: 0.52887 h@5: 0.76082 h@10: 0.81649 ndcg@1: 0.52887 ndcg@5: 0.65430 ndcg@10: 0.67257\n",
      "ratio:  0.5918242830994509\n"
     ]
    },
    {
     "name": "stderr",
     "output_type": "stream",
     "text": [
      "100%|████████████████████████████████████████████████████████████████████████████████| 114/114 [00:27<00:00,  4.19it/s]\n",
      "17it [00:02,  7.44it/s]\n"
     ]
    },
    {
     "name": "stdout",
     "output_type": "stream",
     "text": [
      "Epoch: 102, Loss: 0.86867\n",
      "all: h@1: 0.31727 h@5: 0.52776 h@10: 0.61928 ndcg@1: 0.31727 ndcg@5: 0.43047 ndcg@10: 0.46002\n",
      "new: h@1: 0.02242 h@5: 0.19283 h@10: 0.32735 ndcg@1: 0.02242 ndcg@5: 0.10838 ndcg@10: 0.15210\n",
      "rep: h@1: 0.52062 h@5: 0.75876 h@10: 0.82062 ndcg@1: 0.52062 ndcg@5: 0.65262 ndcg@10: 0.67239\n",
      "ratio:  0.5918242830994509\n"
     ]
    },
    {
     "name": "stderr",
     "output_type": "stream",
     "text": [
      "100%|████████████████████████████████████████████████████████████████████████████████| 114/114 [00:27<00:00,  4.15it/s]\n",
      "17it [00:02,  6.89it/s]\n"
     ]
    },
    {
     "name": "stdout",
     "output_type": "stream",
     "text": [
      "Epoch: 103, Loss: 0.86782\n",
      "all: h@1: 0.31788 h@5: 0.52410 h@10: 0.61806 ndcg@1: 0.31788 ndcg@5: 0.42694 ndcg@10: 0.45772\n",
      "new: h@1: 0.02093 h@5: 0.19283 h@10: 0.32138 ndcg@1: 0.02093 ndcg@5: 0.10658 ndcg@10: 0.14846\n",
      "rep: h@1: 0.52268 h@5: 0.75258 h@10: 0.82268 ndcg@1: 0.52268 ndcg@5: 0.64788 ndcg@10: 0.67101\n",
      "ratio:  0.5918242830994509\n"
     ]
    },
    {
     "name": "stderr",
     "output_type": "stream",
     "text": [
      "100%|████████████████████████████████████████████████████████████████████████████████| 114/114 [00:27<00:00,  4.20it/s]\n",
      "17it [00:02,  7.46it/s]\n"
     ]
    },
    {
     "name": "stdout",
     "output_type": "stream",
     "text": [
      "Epoch: 104, Loss: 0.86445\n",
      "all: h@1: 0.31178 h@5: 0.52105 h@10: 0.61562 ndcg@1: 0.31178 ndcg@5: 0.42462 ndcg@10: 0.45561\n",
      "new: h@1: 0.01644 h@5: 0.17788 h@10: 0.31839 ndcg@1: 0.01644 ndcg@5: 0.09770 ndcg@10: 0.14368\n",
      "rep: h@1: 0.51546 h@5: 0.75773 h@10: 0.82062 ndcg@1: 0.51546 ndcg@5: 0.65010 ndcg@10: 0.67074\n",
      "ratio:  0.5918242830994509\n"
     ]
    },
    {
     "name": "stderr",
     "output_type": "stream",
     "text": [
      "24it [00:03,  6.61it/s]"
     ]
    },
    {
     "name": "stdout",
     "output_type": "stream",
     "text": [
      "Final score\n",
      "===========\n",
      "Epoch: 104, Loss: 0.86445\n",
      "all: h@1: 0.32250 h@5: 0.51878 h@10: 0.60405 ndcg@1: 0.32250 ndcg@5: 0.42666 ndcg@10: 0.45460\n",
      "new: h@1: 0.01836 h@5: 0.16891 h@10: 0.27295 ndcg@1: 0.01836 ndcg@5: 0.09393 ndcg@10: 0.12794\n",
      "rep: h@1: 0.48260 h@5: 0.70296 h@10: 0.77835 ndcg@1: 0.48260 ndcg@5: 0.60182 ndcg@10: 0.62656\n",
      "ratio:  0.6551287463064585\n"
     ]
    },
    {
     "name": "stderr",
     "output_type": "stream",
     "text": [
      "\n"
     ]
    }
   ],
   "source": [
    "print(\"training...\")\n",
    "for epoch in range(args.num_epochs):\n",
    "    loss_all = 0.0; loss_cnt = 0\n",
    "    model6_2.train()\n",
    "    for data in tqdm(train_loader):\n",
    "        data = data.to(args.device)\n",
    "        optimizer.zero_grad()\n",
    "    \n",
    "        loss = model6_2.train_step(data)\n",
    "            \n",
    "        loss_all += loss.item()\n",
    "        loss_cnt += (data[:,:,5]!=0).sum()\n",
    "        \n",
    "#         loss1 = loss.detach_().requires_grad_(True)\n",
    "#         loss1.backward()\n",
    "        loss.backward()\n",
    "        optimizer.step()\n",
    "            \n",
    "        if torch.isnan(loss):\n",
    "            print(\"loss is nan !\") \n",
    "    \n",
    "    scores = compute_recall(model6_2, val_loader, args, maxit=500)\n",
    "    print('Epoch: {:03d}, Loss: {:.5f}'.format(epoch, loss_all/loss_cnt))\n",
    "    print_scores(scores)\n",
    "    \n",
    "    hall = scores['all']['h01']\n",
    "    if hall>best_val:\n",
    "        best_val = hall\n",
    "        torch.save(model6_2.state_dict(), MPATH6_2)\n",
    "        best_cnt = best_max\n",
    "    else:\n",
    "        best_cnt -= 1\n",
    "        if best_cnt == 0:\n",
    "            break\n",
    "    \n",
    "model6_2 = MODEL6_2(args).to(args.device)\n",
    "model6_2.load_state_dict(torch.load(MPATH6_2))\n",
    "    \n",
    "scores = compute_recall(model6_2, test_loader, args)\n",
    "print(\"Final score\")\n",
    "print(\"=\"*11)\n",
    "print('Epoch: {:03d}, Loss: {:.5f}'.format(epoch, loss_all/loss_cnt))\n",
    "print_scores(scores)\n",
    "save_scores(scores,args)"
   ]
  },
  {
   "cell_type": "code",
   "execution_count": null,
   "id": "bd094c24",
   "metadata": {},
   "outputs": [],
   "source": []
  }
 ],
 "metadata": {
  "kernelspec": {
   "display_name": "base",
   "language": "python",
   "name": "base"
  },
  "language_info": {
   "codemirror_mode": {
    "name": "ipython",
    "version": 3
   },
   "file_extension": ".py",
   "mimetype": "text/x-python",
   "name": "python",
   "nbconvert_exporter": "python",
   "pygments_lexer": "ipython3",
   "version": "3.9.13"
  }
 },
 "nbformat": 4,
 "nbformat_minor": 5
}
