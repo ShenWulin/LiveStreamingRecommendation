{
 "cells": [
  {
   "cell_type": "code",
   "execution_count": 1,
   "id": "e9528aa3",
   "metadata": {},
   "outputs": [],
   "source": [
    "import pandas as pd\n",
    "import numpy as np\n",
    "import matplotlib.pyplot as plt\n",
    "\n",
    "from sampling import *\n",
    "\n",
    "import torch.utils.data as data\n",
    "from torch.utils.data import DataLoader\n",
    "\n",
    "import torch\n",
    "import torch.optim as optim\n",
    "\n",
    "import os\n",
    "import torch\n",
    "import pickle\n",
    "from tqdm import tqdm"
   ]
  },
  {
   "cell_type": "code",
   "execution_count": 2,
   "id": "c5d07ad4",
   "metadata": {},
   "outputs": [],
   "source": [
    "import argparse\n",
    "from prettytable import PrettyTable"
   ]
  },
  {
   "cell_type": "code",
   "execution_count": 3,
   "id": "e4e0dc72",
   "metadata": {},
   "outputs": [],
   "source": [
    "def print_args(parse_args):\n",
    "    x = PrettyTable()\n",
    "    x.field_names = [\"Arg.\", \"Value\"]\n",
    "    for arg in vars(parse_args):\n",
    "        x.add_row([arg, getattr(parse_args, arg)])\n",
    "    print(x)"
   ]
  },
  {
   "cell_type": "code",
   "execution_count": 4,
   "id": "d87abbaf",
   "metadata": {},
   "outputs": [],
   "source": [
    "def arg_parse():\n",
    "        parser = argparse.ArgumentParser(description='LiveRec - Douyu')\n",
    "\n",
    "        parser.add_argument('--seed', dest='seed', type=int,\n",
    "            help='Random seed')\n",
    "\n",
    "        parser.add_argument('--batch_size', dest='batch_size', type=int,\n",
    "            help='Batch size - only active if torch is used')\n",
    "        parser.add_argument('--seq_len', dest='seq_len', type=int,\n",
    "            help='Max size of the sequence to consider')\n",
    "\n",
    "        parser.add_argument('--num_heads', dest='num_heads', type=int,\n",
    "            help='Numer of heads to use for multi-heads attention')\n",
    "        parser.add_argument('--num_heads_ctx', dest='num_heads_ctx', type=int,\n",
    "            help='Numer of heads to use for multi-heads attention CTX')\n",
    "\n",
    "\n",
    "        parser.add_argument('--dataset', dest='dataset', \n",
    "            help='Input dataset.')\n",
    " \n",
    "        parser.add_argument('--model', dest='model', type=str,\n",
    "            help='Type of the model')\n",
    "\n",
    "        parser.add_argument('--model_from', dest='mfrom', type=str,\n",
    "            help='Name of the model to load')\n",
    "        parser.add_argument('--model_to', dest='mto', type=str,\n",
    "            help='Name of the model to save')\n",
    "        parser.add_argument('--cache_dir', dest='cache_dir', type=str,\n",
    "            help='Path to save the cached preprocessd dataset')\n",
    " \n",
    "        parser.add_argument('--model_path', dest='model_path', type=str,\n",
    "            help='Path to save the model')\n",
    "        parser.add_argument('--early_stop', dest='early_stop', type=int,\n",
    "            help='Number of iteration without improvment before stop')\n",
    "        parser.add_argument('--ev_sample', dest='ev_sample', type=int,\n",
    "            help='Number of samples for the final evaluation')\n",
    "        parser.add_argument('--device', dest='device', type=str,\n",
    "            help='Pytorch device')\n",
    "\n",
    "        parser.add_argument('--lr', dest='lr', type=float,\n",
    "            help='Learning rate.')\n",
    "        parser.add_argument('--mask_prob', dest='mask_prob', type=float,\n",
    "            help='BERT mask prob.')\n",
    "        parser.add_argument('--l2', dest='l2', type=float,\n",
    "            help='Strength of L2 regularization')\n",
    "        parser.add_argument('--dim', dest='K', type=int,\n",
    "            help='Number of latent factors')\n",
    " \n",
    "        parser.add_argument('--num_iters', dest='num_iter', type=int,\n",
    "            help='Number of training iterations')\n",
    "        parser.add_argument('--num_epochs', dest='num_epochs', type=int,\n",
    "            help='Number of training epochs')\n",
    "        parser.add_argument('--num_att', dest='num_att', type=int,\n",
    "            help='Num attention module for seq encoding')\n",
    "        parser.add_argument('--num_att_ctx', dest='num_att_ctx', type=int,\n",
    "            help='Num attention for ctx module')\n",
    " \n",
    "        parser.add_argument('--topk_att', dest='topk_att', type=int,\n",
    "            help='Items to send to attentive output')\n",
    "\n",
    "        parser.add_argument('--fr_ctx', dest='fr_ctx', nargs='?',\n",
    "            const=True, default=True,\n",
    "            help='')\n",
    "        parser.add_argument('--r_rep', dest='fr_rep', nargs='?',\n",
    "            const=True, default=False,\n",
    "            help='')\n",
    "        parser.add_argument('--uniform', dest='uniform', nargs='?',\n",
    "            const=True, default=False,\n",
    "            help='')\n",
    "        parser.add_argument('--debug', dest='debug', nargs='?',\n",
    "            const=True, default=False,\n",
    "            help='')\n",
    "#         parser.add_argument('--caching', dest='caching', nargs='?',\n",
    "#             const=True, default=False,\n",
    "#             help='')\n",
    "        parser.add_argument('--caching', dest='caching', nargs='?',\n",
    "            const=True, default=True,\n",
    "            help='')\n",
    "\n",
    "        parser.set_defaults(\n",
    "                        seed=42,\n",
    "                        dataset=\"\",\n",
    "                        lr=0.0005,\n",
    "                        l2=0.1,  \n",
    "                        mask_prob=0.5,  \n",
    "                        batch_size=100, \n",
    "                        num_att=2,\n",
    "                        num_att_ctx=2,\n",
    "                        num_heads=4,\n",
    "                        num_heads_ctx=4,\n",
    "                        num_iter=200,\n",
    "                        seq_len=16,  \n",
    "                        topk_att=64,  \n",
    "                        early_stop=15,  \n",
    "                        K=64,  \n",
    "                        num_epochs=150,\n",
    "#                         model=\"LiveRec\",\n",
    "                        model=\"POP\",\n",
    "                        model_path=\"\",\n",
    "                        mto=\"liverec\",\n",
    "                        device=\"cuda\",\n",
    "                        cache_dir=\"\"\n",
    "                       )\n",
    "\n",
    "\n",
    "        args, unknown = parser.parse_known_args()\n",
    "        return args "
   ]
  },
  {
   "cell_type": "code",
   "execution_count": 5,
   "id": "3315d41f",
   "metadata": {
    "scrolled": true
   },
   "outputs": [
    {
     "name": "stdout",
     "output_type": "stream",
     "text": [
      "+---------------+---------+\n",
      "|      Arg.     |  Value  |\n",
      "+---------------+---------+\n",
      "|      seed     |    42   |\n",
      "|   batch_size  |   100   |\n",
      "|    seq_len    |    16   |\n",
      "|   num_heads   |    4    |\n",
      "| num_heads_ctx |    4    |\n",
      "|    dataset    |         |\n",
      "|     model     |   POP   |\n",
      "|     mfrom     |   None  |\n",
      "|      mto      | liverec |\n",
      "|   cache_dir   |         |\n",
      "|   model_path  |         |\n",
      "|   early_stop  |    15   |\n",
      "|   ev_sample   |   None  |\n",
      "|     device    |   cpu   |\n",
      "|       lr      |  0.0005 |\n",
      "|   mask_prob   |   0.5   |\n",
      "|       l2      |   0.1   |\n",
      "|       K       |    64   |\n",
      "|    num_iter   |   200   |\n",
      "|   num_epochs  |   150   |\n",
      "|    num_att    |    2    |\n",
      "|  num_att_ctx  |    2    |\n",
      "|    topk_att   |    64   |\n",
      "|     fr_ctx    |   True  |\n",
      "|     fr_rep    |  False  |\n",
      "|    uniform    |  False  |\n",
      "|     debug     |  False  |\n",
      "|    caching    |   True  |\n",
      "+---------------+---------+\n"
     ]
    }
   ],
   "source": [
    "args = arg_parse()\n",
    "args.device = torch.device(args.device)\n",
    "args.device = 'cpu'\n",
    "\n",
    "print_args(args)"
   ]
  },
  {
   "cell_type": "code",
   "execution_count": 6,
   "id": "63c6f849",
   "metadata": {},
   "outputs": [
    {
     "name": "stdout",
     "output_type": "stream",
     "text": [
      "Num users:  11610\n",
      "Num streamers:  47612\n",
      "Num interactions:  5378125\n"
     ]
    }
   ],
   "source": [
    "INFILE = os.path.join(args.dataset,'douyu_10k_min_duration.csv')\n",
    "#user,streamer_id,start,stop\n",
    "cols = [\"user\",\"streamer\",\"start\",\"stop\",\"duration\"]\n",
    "data_fu = pd.read_csv(INFILE, header=None, names=cols)\n",
    "# data_fu = data_fu.head(10000)\n",
    "\n",
    "\n",
    "# Add one for padding\n",
    "data_fu.user = pd.factorize(data_fu.user)[0]+1\n",
    "data_fu['streamer_raw'] = data_fu.streamer\n",
    "data_fu.streamer = pd.factorize(data_fu.streamer)[0]+1\n",
    "print(\"Num users: \", data_fu.user.nunique())\n",
    "print(\"Num streamers: \", data_fu.streamer.nunique())\n",
    "print(\"Num interactions: \", len(data_fu))"
   ]
  },
  {
   "cell_type": "code",
   "execution_count": 7,
   "id": "ba08e9b3",
   "metadata": {},
   "outputs": [
    {
     "data": {
      "text/plain": [
       "(0, 87839, 1, 87840)"
      ]
     },
     "execution_count": 7,
     "metadata": {},
     "output_type": "execute_result"
    }
   ],
   "source": [
    "data_fu.start.min(),data_fu.start.max(),data_fu.stop.min(),data_fu.stop.max()"
   ]
  },
  {
   "cell_type": "code",
   "execution_count": 8,
   "id": "523862d1",
   "metadata": {},
   "outputs": [
    {
     "data": {
      "text/plain": [
       "(11611, 47614, 2883, 87840)"
      ]
     },
     "execution_count": 8,
     "metadata": {},
     "output_type": "execute_result"
    }
   ],
   "source": [
    "args.M = data_fu.user.max()+1 # users\n",
    "args.N = data_fu.streamer.max()+2 # items\n",
    "args.D = data_fu.duration.max()+1 # duration\n",
    "args.T = data_fu.start.max()+1\n",
    "\n",
    "data_temp = data_fu.drop_duplicates(subset=['streamer','streamer_raw'])\n",
    "umap      = dict(zip(data_temp.streamer_raw.tolist(),data_temp.streamer.tolist()))\n",
    "\n",
    "args.M ,args.N ,args.D,args.T"
   ]
  },
  {
   "cell_type": "code",
   "execution_count": 9,
   "id": "5976772a",
   "metadata": {},
   "outputs": [
    {
     "name": "stdout",
     "output_type": "stream",
     "text": [
      "Num timesteps:  87840\n"
     ]
    }
   ],
   "source": [
    "# Splitting and caching\n",
    "max_step = max(data_fu.start.max(),data_fu.stop.max())\n",
    "print(\"Num timesteps: \", max_step)\n",
    "args.max_step = max_step\n",
    "args.pivot_1  = max_step-500\n",
    "args.pivot_2  = max_step-250"
   ]
  },
  {
   "cell_type": "code",
   "execution_count": 10,
   "id": "1e28e984",
   "metadata": {},
   "outputs": [
    {
     "name": "stdout",
     "output_type": "stream",
     "text": [
      "caching availability\n",
      "max_avail:  446\n"
     ]
    }
   ],
   "source": [
    "print(\"caching availability\")\n",
    "ts = {}\n",
    "max_avail = 0\n",
    "for s in range(max_step):\n",
    "    all_av = data_fu[(data_fu.start<=s) & (data_fu.stop>s)].streamer.unique().tolist()\n",
    "    ts[s] = all_av\n",
    "    max_avail = max(max_avail,len(ts[s]))\n",
    "args.max_avail = max_avail\n",
    "args.ts = ts\n",
    "print(\"max_avail: \", max_avail)\n",
    "\n",
    "# ts.items()"
   ]
  },
  {
   "cell_type": "code",
   "execution_count": 11,
   "id": "cfda2456",
   "metadata": {},
   "outputs": [
    {
     "data": {
      "text/plain": [
       "torch.Size([87840, 446])"
      ]
     },
     "execution_count": 11,
     "metadata": {},
     "output_type": "execute_result"
    }
   ],
   "source": [
    "# Compute availability matrix of size (num_timesteps x max_available)\n",
    "max_av   = max([len(v) for k,v in args.ts.items()])\n",
    "max_step = max([k for k,v in args.ts.items()])+1\n",
    "av_tens = torch.zeros(max_step,max_av).type(torch.long)\n",
    "for k,v in args.ts.items():\n",
    "    av_tens[k,:len(v)] = torch.LongTensor(v)\n",
    "args.av_tens = av_tens.to(args.device)\n",
    "\n",
    "args.av_tens.size()"
   ]
  },
  {
   "cell_type": "code",
   "execution_count": 12,
   "id": "65f74c45",
   "metadata": {
    "scrolled": true
   },
   "outputs": [
    {
     "data": {
      "text/html": [
       "<div>\n",
       "<style scoped>\n",
       "    .dataframe tbody tr th:only-of-type {\n",
       "        vertical-align: middle;\n",
       "    }\n",
       "\n",
       "    .dataframe tbody tr th {\n",
       "        vertical-align: top;\n",
       "    }\n",
       "\n",
       "    .dataframe thead th {\n",
       "        text-align: right;\n",
       "    }\n",
       "</style>\n",
       "<table border=\"1\" class=\"dataframe\">\n",
       "  <thead>\n",
       "    <tr style=\"text-align: right;\">\n",
       "      <th></th>\n",
       "      <th>user</th>\n",
       "      <th>streamer</th>\n",
       "      <th>start</th>\n",
       "      <th>stop</th>\n",
       "      <th>duration</th>\n",
       "      <th>streamer_raw</th>\n",
       "    </tr>\n",
       "  </thead>\n",
       "  <tbody>\n",
       "    <tr>\n",
       "      <th>0</th>\n",
       "      <td>1</td>\n",
       "      <td>1</td>\n",
       "      <td>81824</td>\n",
       "      <td>81825</td>\n",
       "      <td>2</td>\n",
       "      <td>1211089da67</td>\n",
       "    </tr>\n",
       "    <tr>\n",
       "      <th>1</th>\n",
       "      <td>1</td>\n",
       "      <td>2</td>\n",
       "      <td>73720</td>\n",
       "      <td>73721</td>\n",
       "      <td>1</td>\n",
       "      <td>eb5bf69ab60</td>\n",
       "    </tr>\n",
       "    <tr>\n",
       "      <th>2</th>\n",
       "      <td>1</td>\n",
       "      <td>1</td>\n",
       "      <td>81825</td>\n",
       "      <td>81834</td>\n",
       "      <td>18</td>\n",
       "      <td>1211089da67</td>\n",
       "    </tr>\n",
       "    <tr>\n",
       "      <th>3</th>\n",
       "      <td>1</td>\n",
       "      <td>2</td>\n",
       "      <td>73673</td>\n",
       "      <td>73676</td>\n",
       "      <td>4</td>\n",
       "      <td>eb5bf69ab60</td>\n",
       "    </tr>\n",
       "    <tr>\n",
       "      <th>4</th>\n",
       "      <td>1</td>\n",
       "      <td>1</td>\n",
       "      <td>81745</td>\n",
       "      <td>81750</td>\n",
       "      <td>9</td>\n",
       "      <td>1211089da67</td>\n",
       "    </tr>\n",
       "    <tr>\n",
       "      <th>...</th>\n",
       "      <td>...</td>\n",
       "      <td>...</td>\n",
       "      <td>...</td>\n",
       "      <td>...</td>\n",
       "      <td>...</td>\n",
       "      <td>...</td>\n",
       "    </tr>\n",
       "    <tr>\n",
       "      <th>5378120</th>\n",
       "      <td>11610</td>\n",
       "      <td>8849</td>\n",
       "      <td>21366</td>\n",
       "      <td>21368</td>\n",
       "      <td>2</td>\n",
       "      <td>80ec36cddc2</td>\n",
       "    </tr>\n",
       "    <tr>\n",
       "      <th>5378121</th>\n",
       "      <td>11610</td>\n",
       "      <td>8849</td>\n",
       "      <td>21364</td>\n",
       "      <td>21367</td>\n",
       "      <td>4</td>\n",
       "      <td>80ec36cddc2</td>\n",
       "    </tr>\n",
       "    <tr>\n",
       "      <th>5378122</th>\n",
       "      <td>11610</td>\n",
       "      <td>8849</td>\n",
       "      <td>21319</td>\n",
       "      <td>21332</td>\n",
       "      <td>24</td>\n",
       "      <td>80ec36cddc2</td>\n",
       "    </tr>\n",
       "    <tr>\n",
       "      <th>5378123</th>\n",
       "      <td>11610</td>\n",
       "      <td>8849</td>\n",
       "      <td>21362</td>\n",
       "      <td>21365</td>\n",
       "      <td>4</td>\n",
       "      <td>80ec36cddc2</td>\n",
       "    </tr>\n",
       "    <tr>\n",
       "      <th>5378124</th>\n",
       "      <td>11610</td>\n",
       "      <td>8849</td>\n",
       "      <td>21303</td>\n",
       "      <td>21312</td>\n",
       "      <td>16</td>\n",
       "      <td>80ec36cddc2</td>\n",
       "    </tr>\n",
       "  </tbody>\n",
       "</table>\n",
       "<p>5378125 rows × 6 columns</p>\n",
       "</div>"
      ],
      "text/plain": [
       "          user  streamer  start   stop  duration streamer_raw\n",
       "0            1         1  81824  81825         2  1211089da67\n",
       "1            1         2  73720  73721         1  eb5bf69ab60\n",
       "2            1         1  81825  81834        18  1211089da67\n",
       "3            1         2  73673  73676         4  eb5bf69ab60\n",
       "4            1         1  81745  81750         9  1211089da67\n",
       "...        ...       ...    ...    ...       ...          ...\n",
       "5378120  11610      8849  21366  21368         2  80ec36cddc2\n",
       "5378121  11610      8849  21364  21367         4  80ec36cddc2\n",
       "5378122  11610      8849  21319  21332        24  80ec36cddc2\n",
       "5378123  11610      8849  21362  21365         4  80ec36cddc2\n",
       "5378124  11610      8849  21303  21312        16  80ec36cddc2\n",
       "\n",
       "[5378125 rows x 6 columns]"
      ]
     },
     "execution_count": 12,
     "metadata": {},
     "output_type": "execute_result"
    }
   ],
   "source": [
    "data_fu"
   ]
  },
  {
   "cell_type": "code",
   "execution_count": null,
   "id": "060a280a",
   "metadata": {},
   "outputs": [],
   "source": []
  },
  {
   "cell_type": "code",
   "execution_count": 13,
   "id": "a41cdb34",
   "metadata": {},
   "outputs": [],
   "source": [
    "def custom_collate(batch,args):\n",
    "    # returns a [batch x seq x feats] tensor\n",
    "    # feats: [padded_positions,positions,inputs_ts,items,users,targets,targets_ts]\n",
    "\n",
    "    bs = len(batch)\n",
    "    feat_len = len(batch[0])\n",
    "    batch_seq = torch.zeros(bs,args.seq_len, feat_len, dtype=torch.long)\n",
    "    for ib,b in enumerate(batch):\n",
    "        for ifeat,feat in enumerate(b):\n",
    "            batch_seq[ib,b[0],ifeat] = feat\n",
    "    return batch_seq"
   ]
  },
  {
   "cell_type": "code",
   "execution_count": 14,
   "id": "3dce8fd5",
   "metadata": {},
   "outputs": [],
   "source": [
    "class SequenceDataset(data.Dataset):\n",
    "    def __init__(self, data):\n",
    "        self.data = data\n",
    "\n",
    "    def __len__(self):\n",
    "        return len(self.data)\n",
    "\n",
    "    def __getitem__(self, idx):\n",
    "        return self.data[idx]\n",
    "\n",
    "def collate_fn_padd(batch):\n",
    "    '''\n",
    "    Padds batch of variable length\n",
    "\n",
    "    note: it converts things ToTensor manually here since the ToTensor transform\n",
    "    assume it takes in images rather than arbitrary tensors.\n",
    "    '''\n",
    "    ## get sequence lengths\n",
    "    lengths = torch.tensor([ t.shape[0] for t in batch ]).to(device)\n",
    "    ## padd\n",
    "    batch = [ torch.Tensor(t).to(device) for t in batch ]\n",
    "    batch = torch.nn.utils.rnn.pad_sequence(batch)\n",
    "    ## compute mask\n",
    "    mask = (batch != 0).to(device)\n",
    "    return batch, lengths, mask\n",
    "\n",
    "def get_sequences(_data, _p1, _p2, args, max_u=int(10e9)):\n",
    "    data_list = []\n",
    "\n",
    "    _data = _data[_data.stop<_p2].copy()\n",
    "    \n",
    "    grouped = _data.groupby('user')\n",
    "    for user_id, group in tqdm(grouped):\n",
    "        group = group.sort_values('start')\n",
    "        group = group.tail(args.seq_len+1)\n",
    "        if len(group)<2: continue\n",
    "\n",
    "        group = group.reset_index(drop=True) \n",
    "        \n",
    "        # Get last interaction\n",
    "        last_el = group.tail(1)\n",
    "        yt = last_el.start.values[0]\n",
    "        group.drop(last_el.index,inplace=True)\n",
    "\n",
    "        # avoid including train in test/validation\n",
    "        if yt < _p1 or yt >= _p2: continue\n",
    "\n",
    "        padlen = args.seq_len - len(group)\n",
    "\n",
    "        # sequence input features\n",
    "        positions  = torch.LongTensor(group.index.values)\n",
    "        inputs_ts  = torch.LongTensor(group.start.values)\n",
    "        items      = torch.LongTensor(group['streamer'].values)\n",
    "        duration   = torch.LongTensor(group['duration'].values)\n",
    "        users      = torch.LongTensor(group.user.values)\n",
    "        bpad       = torch.LongTensor(group.index.values + padlen)\n",
    "#         diff_du    = torch.LongTensor(np.diff(np.array(inputs_ts[1:].tolist() + [last_el.start.values[0]])))\n",
    "\n",
    "        # sequence output features\n",
    "        targets    = torch.LongTensor(items[1:].tolist() + [last_el.streamer.values[0]])\n",
    "        targets_ts = torch.LongTensor(inputs_ts[1:].tolist() + [last_el.start.values[0]])\n",
    "\n",
    "        data_list.append([bpad,positions,inputs_ts,items,users,targets,targets_ts,duration])\n",
    "#         data_list.append([bpad,positions,inputs_ts,items,users,targets,targets_ts,duration,diff_du])\n",
    "        # stop if user limit is reached\n",
    "        if len(data_list)>max_u: break\n",
    "\n",
    "    return SequenceDataset(data_list)"
   ]
  },
  {
   "cell_type": "code",
   "execution_count": null,
   "id": "39e8cf6c",
   "metadata": {},
   "outputs": [],
   "source": []
  },
  {
   "cell_type": "code",
   "execution_count": 15,
   "id": "99884a2b",
   "metadata": {},
   "outputs": [],
   "source": [
    "cache_tr = os.path.join(args.cache_dir,\"douyu_10k_min_dur_tr.p\")\n",
    "cache_te = os.path.join(args.cache_dir,\"douyu_10k_min_dur_te.p\")\n",
    "cache_va = os.path.join(args.cache_dir,\"douyu_10k_min_dur_val.p\")\n",
    "\n",
    "mu = int(10e9)"
   ]
  },
  {
   "cell_type": "code",
   "execution_count": 18,
   "id": "9702a249",
   "metadata": {},
   "outputs": [
    {
     "name": "stderr",
     "output_type": "stream",
     "text": [
      "100%|██████████████████████████████████████████████████████████████████████████| 11591/11591 [00:06<00:00, 1777.98it/s]\n",
      "100%|██████████████████████████████████████████████████████████████████████████| 11600/11600 [00:05<00:00, 2192.64it/s]\n",
      "100%|██████████████████████████████████████████████████████████████████████████| 11610/11610 [00:04<00:00, 2348.07it/s]\n"
     ]
    }
   ],
   "source": [
    "datalist_tr = get_sequences(data_fu,0,args.pivot_1,args,mu)\n",
    "datalist_va = get_sequences(data_fu,args.pivot_1,args.pivot_2,args,mu)\n",
    "datalist_te = get_sequences(data_fu,args.pivot_2,max_step,args,mu)\n",
    "    \n",
    "pickle.dump(datalist_te, open(cache_te, \"wb\"))\n",
    "pickle.dump(datalist_tr, open(cache_tr, \"wb\"))\n",
    "pickle.dump(datalist_va, open(cache_va, \"wb\"))"
   ]
  },
  {
   "cell_type": "code",
   "execution_count": 16,
   "id": "f790ff31",
   "metadata": {},
   "outputs": [],
   "source": [
    "datalist_tr = pickle.load(open(cache_tr, \"rb\"))\n",
    "datalist_va = pickle.load(open(cache_va, \"rb\"))\n",
    "datalist_te = pickle.load(open(cache_te, \"rb\"))"
   ]
  },
  {
   "cell_type": "code",
   "execution_count": 17,
   "id": "13367fd0",
   "metadata": {},
   "outputs": [],
   "source": [
    "train_loader = DataLoader(datalist_tr,batch_size=args.batch_size,\n",
    "                              collate_fn=lambda x: custom_collate(x,args))\n",
    "val_loader   = DataLoader(datalist_va,batch_size=args.batch_size,\n",
    "                              collate_fn=lambda x: custom_collate(x,args))\n",
    "test_loader  = DataLoader(datalist_te,batch_size=args.batch_size,\n",
    "                              collate_fn=lambda x: custom_collate(x,args))"
   ]
  },
  {
   "cell_type": "code",
   "execution_count": null,
   "id": "4d37663e",
   "metadata": {},
   "outputs": [],
   "source": []
  },
  {
   "cell_type": "code",
   "execution_count": 18,
   "id": "4ef06533",
   "metadata": {},
   "outputs": [],
   "source": [
    "from eval import *\n",
    "from data import *\n",
    "from modify_duration_lstm_v2 import *\n",
    "from modify_duration_lstm_v2 import get_model_type_new"
   ]
  },
  {
   "cell_type": "code",
   "execution_count": 19,
   "id": "7142f8bc",
   "metadata": {},
   "outputs": [],
   "source": [
    "# args.lr = 0.001\n",
    "# args.l2 = 0.001"
   ]
  },
  {
   "cell_type": "code",
   "execution_count": 20,
   "id": "aebe2c61",
   "metadata": {},
   "outputs": [],
   "source": [
    "args.r_rep = args.fr_rep"
   ]
  },
  {
   "cell_type": "code",
   "execution_count": 21,
   "id": "e5321592",
   "metadata": {},
   "outputs": [],
   "source": [
    "args.model='LiveRec_dur_lstm_v2'\n",
    "MPATH9,MODEL9 = get_model_type_new(args)\n",
    "MPATH9,MODEL9\n",
    "model9 = MODEL9(args).to(args.device)\n",
    "optimizer = optim.Adam(model9.parameters(),lr=args.lr,weight_decay=args.l2)\n",
    "\n",
    "best_val = 0.0\n",
    "best_max = args.early_stop\n",
    "best_cnt = best_max"
   ]
  },
  {
   "cell_type": "code",
   "execution_count": 22,
   "id": "f766d3a8",
   "metadata": {
    "scrolled": true
   },
   "outputs": [
    {
     "name": "stdout",
     "output_type": "stream",
     "text": [
      "training...\n"
     ]
    },
    {
     "name": "stderr",
     "output_type": "stream",
     "text": [
      "100%|████████████████████████████████████████████████████████████████████████████████| 114/114 [03:46<00:00,  1.99s/it]\n",
      "17it [00:13,  1.23it/s]\n"
     ]
    },
    {
     "name": "stdout",
     "output_type": "stream",
     "text": [
      "Epoch: 000, Loss: 2.10021\n",
      "all: h@1: 0.19829 h@5: 0.29896 h@10: 0.34228 ndcg@1: 0.19829 ndcg@5: 0.25074 ndcg@10: 0.26468\n",
      "new: h@1: 0.00598 h@5: 0.04036 h@10: 0.07773 ndcg@1: 0.00598 ndcg@5: 0.02200 ndcg@10: 0.03389\n",
      "rep: h@1: 0.33093 h@5: 0.47732 h@10: 0.52474 ndcg@1: 0.33093 ndcg@5: 0.40849 ndcg@10: 0.42386\n",
      "ratio:  0.5918242830994509\n"
     ]
    },
    {
     "name": "stderr",
     "output_type": "stream",
     "text": [
      "100%|████████████████████████████████████████████████████████████████████████████████| 114/114 [03:47<00:00,  1.99s/it]\n",
      "17it [00:13,  1.23it/s]\n"
     ]
    },
    {
     "name": "stdout",
     "output_type": "stream",
     "text": [
      "Epoch: 001, Loss: 1.59540\n",
      "all: h@1: 0.19341 h@5: 0.30567 h@10: 0.36730 ndcg@1: 0.19341 ndcg@5: 0.25264 ndcg@10: 0.27238\n",
      "new: h@1: 0.01046 h@5: 0.05531 h@10: 0.10463 ndcg@1: 0.01046 ndcg@5: 0.03521 ndcg@10: 0.05118\n",
      "rep: h@1: 0.31959 h@5: 0.47835 h@10: 0.54845 ndcg@1: 0.31959 ndcg@5: 0.40260 ndcg@10: 0.42493\n",
      "ratio:  0.5918242830994509\n"
     ]
    },
    {
     "name": "stderr",
     "output_type": "stream",
     "text": [
      "100%|████████████████████████████████████████████████████████████████████████████████| 114/114 [03:40<00:00,  1.93s/it]\n",
      "17it [00:13,  1.26it/s]\n"
     ]
    },
    {
     "name": "stdout",
     "output_type": "stream",
     "text": [
      "Epoch: 002, Loss: 1.33325\n",
      "all: h@1: 0.17084 h@5: 0.30995 h@10: 0.37584 ndcg@1: 0.17084 ndcg@5: 0.24416 ndcg@10: 0.26553\n",
      "new: h@1: 0.01196 h@5: 0.07324 h@10: 0.12108 ndcg@1: 0.01196 ndcg@5: 0.04283 ndcg@10: 0.05849\n",
      "rep: h@1: 0.28041 h@5: 0.47320 h@10: 0.55155 ndcg@1: 0.28041 ndcg@5: 0.38301 ndcg@10: 0.40833\n",
      "ratio:  0.5918242830994509\n"
     ]
    },
    {
     "name": "stderr",
     "output_type": "stream",
     "text": [
      "100%|████████████████████████████████████████████████████████████████████████████████| 114/114 [03:40<00:00,  1.93s/it]\n",
      "17it [00:13,  1.29it/s]\n"
     ]
    },
    {
     "name": "stdout",
     "output_type": "stream",
     "text": [
      "Epoch: 003, Loss: 1.27470\n",
      "all: h@1: 0.17267 h@5: 0.32337 h@10: 0.38621 ndcg@1: 0.17267 ndcg@5: 0.25084 ndcg@10: 0.27119\n",
      "new: h@1: 0.01345 h@5: 0.07922 h@10: 0.12706 ndcg@1: 0.01345 ndcg@5: 0.04687 ndcg@10: 0.06241\n",
      "rep: h@1: 0.28247 h@5: 0.49175 h@10: 0.56495 ndcg@1: 0.28247 ndcg@5: 0.39151 ndcg@10: 0.41518\n",
      "ratio:  0.5918242830994509\n"
     ]
    },
    {
     "name": "stderr",
     "output_type": "stream",
     "text": [
      "100%|████████████████████████████████████████████████████████████████████████████████| 114/114 [03:39<00:00,  1.93s/it]\n",
      "17it [00:13,  1.26it/s]\n"
     ]
    },
    {
     "name": "stdout",
     "output_type": "stream",
     "text": [
      "Epoch: 004, Loss: 1.24854\n",
      "all: h@1: 0.17694 h@5: 0.33069 h@10: 0.39963 ndcg@1: 0.17694 ndcg@5: 0.25875 ndcg@10: 0.28119\n",
      "new: h@1: 0.01644 h@5: 0.07773 h@10: 0.13303 ndcg@1: 0.01644 ndcg@5: 0.04800 ndcg@10: 0.06605\n",
      "rep: h@1: 0.28763 h@5: 0.50515 h@10: 0.58351 ndcg@1: 0.28763 ndcg@5: 0.40411 ndcg@10: 0.42958\n",
      "ratio:  0.5918242830994509\n"
     ]
    },
    {
     "name": "stderr",
     "output_type": "stream",
     "text": [
      "100%|████████████████████████████████████████████████████████████████████████████████| 114/114 [03:39<00:00,  1.93s/it]\n",
      "17it [00:13,  1.27it/s]\n"
     ]
    },
    {
     "name": "stdout",
     "output_type": "stream",
     "text": [
      "Epoch: 005, Loss: 1.23104\n",
      "all: h@1: 0.18487 h@5: 0.34167 h@10: 0.40329 ndcg@1: 0.18487 ndcg@5: 0.26840 ndcg@10: 0.28835\n",
      "new: h@1: 0.01644 h@5: 0.08072 h@10: 0.13602 ndcg@1: 0.01644 ndcg@5: 0.04979 ndcg@10: 0.06771\n",
      "rep: h@1: 0.30103 h@5: 0.52165 h@10: 0.58763 ndcg@1: 0.30103 ndcg@5: 0.41918 ndcg@10: 0.44052\n",
      "ratio:  0.5918242830994509\n"
     ]
    },
    {
     "name": "stderr",
     "output_type": "stream",
     "text": [
      "100%|████████████████████████████████████████████████████████████████████████████████| 114/114 [03:40<00:00,  1.94s/it]\n",
      "17it [00:13,  1.26it/s]\n"
     ]
    },
    {
     "name": "stdout",
     "output_type": "stream",
     "text": [
      "Epoch: 006, Loss: 1.21837\n",
      "all: h@1: 0.19646 h@5: 0.35448 h@10: 0.41062 ndcg@1: 0.19646 ndcg@5: 0.27979 ndcg@10: 0.29793\n",
      "new: h@1: 0.01495 h@5: 0.09417 h@10: 0.13602 ndcg@1: 0.01495 ndcg@5: 0.05455 ndcg@10: 0.06808\n",
      "rep: h@1: 0.32165 h@5: 0.53402 h@10: 0.60000 ndcg@1: 0.32165 ndcg@5: 0.43513 ndcg@10: 0.45645\n",
      "ratio:  0.5918242830994509\n"
     ]
    },
    {
     "name": "stderr",
     "output_type": "stream",
     "text": [
      "100%|████████████████████████████████████████████████████████████████████████████████| 114/114 [03:40<00:00,  1.94s/it]\n",
      "17it [00:13,  1.26it/s]\n"
     ]
    },
    {
     "name": "stdout",
     "output_type": "stream",
     "text": [
      "Epoch: 007, Loss: 1.20844\n",
      "all: h@1: 0.20134 h@5: 0.36059 h@10: 0.41245 ndcg@1: 0.20134 ndcg@5: 0.28420 ndcg@10: 0.30106\n",
      "new: h@1: 0.01495 h@5: 0.10015 h@10: 0.14350 ndcg@1: 0.01495 ndcg@5: 0.05676 ndcg@10: 0.07060\n",
      "rep: h@1: 0.32990 h@5: 0.54021 h@10: 0.59794 ndcg@1: 0.32990 ndcg@5: 0.44106 ndcg@10: 0.46001\n",
      "ratio:  0.5918242830994509\n"
     ]
    },
    {
     "name": "stderr",
     "output_type": "stream",
     "text": [
      "100%|████████████████████████████████████████████████████████████████████████████████| 114/114 [03:39<00:00,  1.93s/it]\n",
      "17it [00:13,  1.27it/s]\n"
     ]
    },
    {
     "name": "stdout",
     "output_type": "stream",
     "text": [
      "Epoch: 008, Loss: 1.19838\n",
      "all: h@1: 0.21232 h@5: 0.36974 h@10: 0.41245 ndcg@1: 0.21232 ndcg@5: 0.29405 ndcg@10: 0.30796\n",
      "new: h@1: 0.01495 h@5: 0.09865 h@10: 0.14051 ndcg@1: 0.01495 ndcg@5: 0.05623 ndcg@10: 0.06980\n",
      "rep: h@1: 0.34845 h@5: 0.55670 h@10: 0.60000 ndcg@1: 0.34845 ndcg@5: 0.45807 ndcg@10: 0.47222\n",
      "ratio:  0.5918242830994509\n"
     ]
    },
    {
     "name": "stderr",
     "output_type": "stream",
     "text": [
      "100%|████████████████████████████████████████████████████████████████████████████████| 114/114 [03:40<00:00,  1.94s/it]\n",
      "17it [00:13,  1.26it/s]\n"
     ]
    },
    {
     "name": "stdout",
     "output_type": "stream",
     "text": [
      "Epoch: 009, Loss: 1.19251\n",
      "all: h@1: 0.21354 h@5: 0.36913 h@10: 0.42160 ndcg@1: 0.21354 ndcg@5: 0.29413 ndcg@10: 0.31132\n",
      "new: h@1: 0.01644 h@5: 0.10463 h@10: 0.14948 ndcg@1: 0.01644 ndcg@5: 0.05842 ndcg@10: 0.07314\n",
      "rep: h@1: 0.34948 h@5: 0.55155 h@10: 0.60928 ndcg@1: 0.34948 ndcg@5: 0.45669 ndcg@10: 0.47559\n",
      "ratio:  0.5918242830994509\n"
     ]
    },
    {
     "name": "stderr",
     "output_type": "stream",
     "text": [
      "100%|████████████████████████████████████████████████████████████████████████████████| 114/114 [03:40<00:00,  1.93s/it]\n",
      "17it [00:13,  1.27it/s]\n"
     ]
    },
    {
     "name": "stdout",
     "output_type": "stream",
     "text": [
      "Epoch: 010, Loss: 1.18547\n",
      "all: h@1: 0.20683 h@5: 0.36913 h@10: 0.42831 ndcg@1: 0.20683 ndcg@5: 0.29137 ndcg@10: 0.31065\n",
      "new: h@1: 0.01046 h@5: 0.10314 h@10: 0.15994 ndcg@1: 0.01046 ndcg@5: 0.05578 ndcg@10: 0.07410\n",
      "rep: h@1: 0.34227 h@5: 0.55258 h@10: 0.61340 ndcg@1: 0.34227 ndcg@5: 0.45385 ndcg@10: 0.47379\n",
      "ratio:  0.5918242830994509\n"
     ]
    },
    {
     "name": "stderr",
     "output_type": "stream",
     "text": [
      "100%|████████████████████████████████████████████████████████████████████████████████| 114/114 [03:39<00:00,  1.93s/it]\n",
      "17it [00:13,  1.28it/s]\n"
     ]
    },
    {
     "name": "stdout",
     "output_type": "stream",
     "text": [
      "Epoch: 011, Loss: 1.18085\n",
      "all: h@1: 0.22392 h@5: 0.37828 h@10: 0.43258 ndcg@1: 0.22392 ndcg@5: 0.30481 ndcg@10: 0.32256\n",
      "new: h@1: 0.01644 h@5: 0.10164 h@10: 0.15695 ndcg@1: 0.01644 ndcg@5: 0.05795 ndcg@10: 0.07593\n",
      "rep: h@1: 0.36701 h@5: 0.56907 h@10: 0.62268 ndcg@1: 0.36701 ndcg@5: 0.47507 ndcg@10: 0.49265\n",
      "ratio:  0.5918242830994509\n"
     ]
    },
    {
     "name": "stderr",
     "output_type": "stream",
     "text": [
      "100%|████████████████████████████████████████████████████████████████████████████████| 114/114 [03:40<00:00,  1.94s/it]\n",
      "17it [00:13,  1.25it/s]\n"
     ]
    },
    {
     "name": "stdout",
     "output_type": "stream",
     "text": [
      "Epoch: 012, Loss: 1.17552\n",
      "all: h@1: 0.22758 h@5: 0.38072 h@10: 0.43197 ndcg@1: 0.22758 ndcg@5: 0.30679 ndcg@10: 0.32349\n",
      "new: h@1: 0.01495 h@5: 0.10463 h@10: 0.15396 ndcg@1: 0.01495 ndcg@5: 0.05791 ndcg@10: 0.07400\n",
      "rep: h@1: 0.37423 h@5: 0.57113 h@10: 0.62371 ndcg@1: 0.37423 ndcg@5: 0.47845 ndcg@10: 0.49557\n",
      "ratio:  0.5918242830994509\n"
     ]
    },
    {
     "name": "stderr",
     "output_type": "stream",
     "text": [
      "100%|████████████████████████████████████████████████████████████████████████████████| 114/114 [03:40<00:00,  1.93s/it]\n",
      "17it [00:13,  1.28it/s]\n"
     ]
    },
    {
     "name": "stdout",
     "output_type": "stream",
     "text": [
      "Epoch: 013, Loss: 1.17188\n",
      "all: h@1: 0.22941 h@5: 0.38499 h@10: 0.43807 ndcg@1: 0.22941 ndcg@5: 0.31024 ndcg@10: 0.32755\n",
      "new: h@1: 0.01644 h@5: 0.10613 h@10: 0.15994 ndcg@1: 0.01644 ndcg@5: 0.05973 ndcg@10: 0.07738\n",
      "rep: h@1: 0.37629 h@5: 0.57732 h@10: 0.62990 ndcg@1: 0.37629 ndcg@5: 0.48301 ndcg@10: 0.50009\n",
      "ratio:  0.5918242830994509\n"
     ]
    },
    {
     "name": "stderr",
     "output_type": "stream",
     "text": [
      "100%|████████████████████████████████████████████████████████████████████████████████| 114/114 [03:40<00:00,  1.93s/it]\n",
      "17it [00:13,  1.25it/s]\n"
     ]
    },
    {
     "name": "stdout",
     "output_type": "stream",
     "text": [
      "Epoch: 014, Loss: 1.16849\n",
      "all: h@1: 0.23673 h@5: 0.38743 h@10: 0.44600 ndcg@1: 0.23673 ndcg@5: 0.31548 ndcg@10: 0.33439\n",
      "new: h@1: 0.01196 h@5: 0.10164 h@10: 0.16143 ndcg@1: 0.01196 ndcg@5: 0.05563 ndcg@10: 0.07522\n",
      "rep: h@1: 0.39175 h@5: 0.58454 h@10: 0.64227 ndcg@1: 0.39175 ndcg@5: 0.49470 ndcg@10: 0.51314\n",
      "ratio:  0.5918242830994509\n"
     ]
    },
    {
     "name": "stderr",
     "output_type": "stream",
     "text": [
      "100%|████████████████████████████████████████████████████████████████████████████████| 114/114 [03:42<00:00,  1.95s/it]\n",
      "17it [00:13,  1.23it/s]\n"
     ]
    },
    {
     "name": "stdout",
     "output_type": "stream",
     "text": [
      "Epoch: 015, Loss: 1.16559\n",
      "all: h@1: 0.24649 h@5: 0.39353 h@10: 0.44783 ndcg@1: 0.24649 ndcg@5: 0.32304 ndcg@10: 0.34064\n",
      "new: h@1: 0.01196 h@5: 0.10613 h@10: 0.17190 ndcg@1: 0.01196 ndcg@5: 0.05877 ndcg@10: 0.08043\n",
      "rep: h@1: 0.40825 h@5: 0.59175 h@10: 0.63814 ndcg@1: 0.40825 ndcg@5: 0.50530 ndcg@10: 0.52010\n",
      "ratio:  0.5918242830994509\n"
     ]
    },
    {
     "name": "stderr",
     "output_type": "stream",
     "text": [
      "100%|████████████████████████████████████████████████████████████████████████████████| 114/114 [03:46<00:00,  1.98s/it]\n",
      "17it [00:13,  1.26it/s]\n"
     ]
    },
    {
     "name": "stdout",
     "output_type": "stream",
     "text": [
      "Epoch: 016, Loss: 1.16201\n",
      "all: h@1: 0.25198 h@5: 0.39292 h@10: 0.45333 ndcg@1: 0.25198 ndcg@5: 0.32616 ndcg@10: 0.34560\n",
      "new: h@1: 0.01345 h@5: 0.10613 h@10: 0.16442 ndcg@1: 0.01345 ndcg@5: 0.05947 ndcg@10: 0.07848\n",
      "rep: h@1: 0.41649 h@5: 0.59072 h@10: 0.65258 ndcg@1: 0.41649 ndcg@5: 0.51009 ndcg@10: 0.52983\n",
      "ratio:  0.5918242830994509\n"
     ]
    },
    {
     "name": "stderr",
     "output_type": "stream",
     "text": [
      "100%|████████████████████████████████████████████████████████████████████████████████| 114/114 [03:40<00:00,  1.94s/it]\n",
      "17it [00:13,  1.25it/s]\n"
     ]
    },
    {
     "name": "stdout",
     "output_type": "stream",
     "text": [
      "Epoch: 017, Loss: 1.15658\n",
      "all: h@1: 0.24710 h@5: 0.39658 h@10: 0.45455 ndcg@1: 0.24710 ndcg@5: 0.32602 ndcg@10: 0.34472\n",
      "new: h@1: 0.01943 h@5: 0.10912 h@10: 0.17190 ndcg@1: 0.01943 ndcg@5: 0.06328 ndcg@10: 0.08362\n",
      "rep: h@1: 0.40412 h@5: 0.59485 h@10: 0.64948 ndcg@1: 0.40412 ndcg@5: 0.50724 ndcg@10: 0.52479\n",
      "ratio:  0.5918242830994509\n"
     ]
    },
    {
     "name": "stderr",
     "output_type": "stream",
     "text": [
      "100%|████████████████████████████████████████████████████████████████████████████████| 114/114 [03:40<00:00,  1.93s/it]\n",
      "17it [00:13,  1.27it/s]\n"
     ]
    },
    {
     "name": "stdout",
     "output_type": "stream",
     "text": [
      "Epoch: 018, Loss: 1.15431\n",
      "all: h@1: 0.25503 h@5: 0.39597 h@10: 0.45821 ndcg@1: 0.25503 ndcg@5: 0.32963 ndcg@10: 0.34972\n",
      "new: h@1: 0.01196 h@5: 0.11061 h@10: 0.16741 ndcg@1: 0.01196 ndcg@5: 0.06030 ndcg@10: 0.07851\n",
      "rep: h@1: 0.42268 h@5: 0.59278 h@10: 0.65876 ndcg@1: 0.42268 ndcg@5: 0.51539 ndcg@10: 0.53677\n",
      "ratio:  0.5918242830994509\n"
     ]
    },
    {
     "name": "stderr",
     "output_type": "stream",
     "text": [
      "100%|████████████████████████████████████████████████████████████████████████████████| 114/114 [03:41<00:00,  1.94s/it]\n",
      "17it [00:13,  1.27it/s]\n"
     ]
    },
    {
     "name": "stdout",
     "output_type": "stream",
     "text": [
      "Epoch: 019, Loss: 1.15019\n",
      "all: h@1: 0.25747 h@5: 0.40207 h@10: 0.46248 ndcg@1: 0.25747 ndcg@5: 0.33402 ndcg@10: 0.35344\n",
      "new: h@1: 0.01644 h@5: 0.10463 h@10: 0.17040 ndcg@1: 0.01644 ndcg@5: 0.06020 ndcg@10: 0.08148\n",
      "rep: h@1: 0.42371 h@5: 0.60722 h@10: 0.66392 ndcg@1: 0.42371 ndcg@5: 0.52287 ndcg@10: 0.54101\n",
      "ratio:  0.5918242830994509\n"
     ]
    },
    {
     "name": "stderr",
     "output_type": "stream",
     "text": [
      "100%|████████████████████████████████████████████████████████████████████████████████| 114/114 [03:39<00:00,  1.93s/it]\n",
      "17it [00:13,  1.27it/s]\n"
     ]
    },
    {
     "name": "stdout",
     "output_type": "stream",
     "text": [
      "Epoch: 020, Loss: 1.14689\n",
      "all: h@1: 0.25686 h@5: 0.40513 h@10: 0.46309 ndcg@1: 0.25686 ndcg@5: 0.33520 ndcg@10: 0.35396\n",
      "new: h@1: 0.00897 h@5: 0.11211 h@10: 0.17339 ndcg@1: 0.00897 ndcg@5: 0.06038 ndcg@10: 0.08009\n",
      "rep: h@1: 0.42784 h@5: 0.60722 h@10: 0.66289 ndcg@1: 0.42784 ndcg@5: 0.52475 ndcg@10: 0.54284\n",
      "ratio:  0.5918242830994509\n"
     ]
    },
    {
     "name": "stderr",
     "output_type": "stream",
     "text": [
      "100%|████████████████████████████████████████████████████████████████████████████████| 114/114 [03:40<00:00,  1.94s/it]\n",
      "17it [00:13,  1.27it/s]\n"
     ]
    },
    {
     "name": "stdout",
     "output_type": "stream",
     "text": [
      "Epoch: 021, Loss: 1.14424\n",
      "all: h@1: 0.26724 h@5: 0.40390 h@10: 0.46675 ndcg@1: 0.26724 ndcg@5: 0.33917 ndcg@10: 0.35961\n",
      "new: h@1: 0.00598 h@5: 0.10762 h@10: 0.17339 ndcg@1: 0.00598 ndcg@5: 0.05636 ndcg@10: 0.07791\n",
      "rep: h@1: 0.44742 h@5: 0.60825 h@10: 0.66907 ndcg@1: 0.44742 ndcg@5: 0.53422 ndcg@10: 0.55390\n",
      "ratio:  0.5918242830994509\n"
     ]
    },
    {
     "name": "stderr",
     "output_type": "stream",
     "text": [
      "100%|████████████████████████████████████████████████████████████████████████████████| 114/114 [03:39<00:00,  1.93s/it]\n",
      "17it [00:13,  1.27it/s]\n"
     ]
    },
    {
     "name": "stdout",
     "output_type": "stream",
     "text": [
      "Epoch: 022, Loss: 1.14065\n",
      "all: h@1: 0.26480 h@5: 0.41306 h@10: 0.47285 ndcg@1: 0.26480 ndcg@5: 0.34158 ndcg@10: 0.36095\n",
      "new: h@1: 0.01196 h@5: 0.11360 h@10: 0.17937 ndcg@1: 0.01196 ndcg@5: 0.06144 ndcg@10: 0.08274\n",
      "rep: h@1: 0.43918 h@5: 0.61959 h@10: 0.67526 ndcg@1: 0.43918 ndcg@5: 0.53479 ndcg@10: 0.55283\n",
      "ratio:  0.5918242830994509\n"
     ]
    },
    {
     "name": "stderr",
     "output_type": "stream",
     "text": [
      "100%|████████████████████████████████████████████████████████████████████████████████| 114/114 [03:41<00:00,  1.94s/it]\n",
      "17it [00:13,  1.26it/s]\n"
     ]
    },
    {
     "name": "stdout",
     "output_type": "stream",
     "text": [
      "Epoch: 023, Loss: 1.13578\n",
      "all: h@1: 0.27273 h@5: 0.42038 h@10: 0.47590 ndcg@1: 0.27273 ndcg@5: 0.35053 ndcg@10: 0.36863\n",
      "new: h@1: 0.01046 h@5: 0.11958 h@10: 0.17638 ndcg@1: 0.01046 ndcg@5: 0.06375 ndcg@10: 0.08210\n",
      "rep: h@1: 0.45361 h@5: 0.62784 h@10: 0.68247 ndcg@1: 0.45361 ndcg@5: 0.54832 ndcg@10: 0.56624\n",
      "ratio:  0.5918242830994509\n"
     ]
    },
    {
     "name": "stderr",
     "output_type": "stream",
     "text": [
      "100%|████████████████████████████████████████████████████████████████████████████████| 114/114 [03:40<00:00,  1.93s/it]\n",
      "17it [00:13,  1.26it/s]\n"
     ]
    },
    {
     "name": "stdout",
     "output_type": "stream",
     "text": [
      "Epoch: 024, Loss: 1.13319\n",
      "all: h@1: 0.27883 h@5: 0.42221 h@10: 0.48688 ndcg@1: 0.27883 ndcg@5: 0.35415 ndcg@10: 0.37487\n",
      "new: h@1: 0.01345 h@5: 0.12108 h@10: 0.19432 ndcg@1: 0.01345 ndcg@5: 0.06559 ndcg@10: 0.08890\n",
      "rep: h@1: 0.46186 h@5: 0.62990 h@10: 0.68866 ndcg@1: 0.46186 ndcg@5: 0.55317 ndcg@10: 0.57211\n",
      "ratio:  0.5918242830994509\n"
     ]
    },
    {
     "name": "stderr",
     "output_type": "stream",
     "text": [
      "100%|████████████████████████████████████████████████████████████████████████████████| 114/114 [03:39<00:00,  1.93s/it]\n",
      "17it [00:13,  1.27it/s]\n"
     ]
    },
    {
     "name": "stdout",
     "output_type": "stream",
     "text": [
      "Epoch: 025, Loss: 1.12897\n",
      "all: h@1: 0.27883 h@5: 0.42160 h@10: 0.48932 ndcg@1: 0.27883 ndcg@5: 0.35321 ndcg@10: 0.37534\n",
      "new: h@1: 0.01345 h@5: 0.12257 h@10: 0.19133 ndcg@1: 0.01345 ndcg@5: 0.06634 ndcg@10: 0.08868\n",
      "rep: h@1: 0.46186 h@5: 0.62784 h@10: 0.69485 ndcg@1: 0.46186 ndcg@5: 0.55107 ndcg@10: 0.57305\n",
      "ratio:  0.5918242830994509\n"
     ]
    },
    {
     "name": "stderr",
     "output_type": "stream",
     "text": [
      "100%|████████████████████████████████████████████████████████████████████████████████| 114/114 [03:38<00:00,  1.91s/it]\n",
      "17it [00:13,  1.27it/s]\n"
     ]
    },
    {
     "name": "stdout",
     "output_type": "stream",
     "text": [
      "Epoch: 026, Loss: 1.12703\n",
      "all: h@1: 0.28310 h@5: 0.42343 h@10: 0.48871 ndcg@1: 0.28310 ndcg@5: 0.35714 ndcg@10: 0.37863\n",
      "new: h@1: 0.01345 h@5: 0.11958 h@10: 0.18834 ndcg@1: 0.01345 ndcg@5: 0.06576 ndcg@10: 0.08825\n",
      "rep: h@1: 0.46907 h@5: 0.63299 h@10: 0.69588 ndcg@1: 0.46907 ndcg@5: 0.55810 ndcg@10: 0.57891\n",
      "ratio:  0.5918242830994509\n"
     ]
    },
    {
     "name": "stderr",
     "output_type": "stream",
     "text": [
      "100%|████████████████████████████████████████████████████████████████████████████████| 114/114 [03:34<00:00,  1.88s/it]\n",
      "17it [00:10,  1.55it/s]\n"
     ]
    },
    {
     "name": "stdout",
     "output_type": "stream",
     "text": [
      "Epoch: 027, Loss: 1.12337\n",
      "all: h@1: 0.27944 h@5: 0.43136 h@10: 0.49298 ndcg@1: 0.27944 ndcg@5: 0.35879 ndcg@10: 0.37864\n",
      "new: h@1: 0.01345 h@5: 0.12108 h@10: 0.19133 ndcg@1: 0.01345 ndcg@5: 0.06560 ndcg@10: 0.08831\n",
      "rep: h@1: 0.46289 h@5: 0.64536 h@10: 0.70103 ndcg@1: 0.46289 ndcg@5: 0.56100 ndcg@10: 0.57888\n",
      "ratio:  0.5918242830994509\n"
     ]
    },
    {
     "name": "stderr",
     "output_type": "stream",
     "text": [
      "100%|████████████████████████████████████████████████████████████████████████████████| 114/114 [03:04<00:00,  1.62s/it]\n",
      "17it [00:11,  1.53it/s]\n"
     ]
    },
    {
     "name": "stdout",
     "output_type": "stream",
     "text": [
      "Epoch: 028, Loss: 1.12116\n",
      "all: h@1: 0.28249 h@5: 0.43136 h@10: 0.49298 ndcg@1: 0.28249 ndcg@5: 0.36109 ndcg@10: 0.38116\n",
      "new: h@1: 0.01196 h@5: 0.11958 h@10: 0.19283 ndcg@1: 0.01196 ndcg@5: 0.06575 ndcg@10: 0.08944\n",
      "rep: h@1: 0.46907 h@5: 0.64639 h@10: 0.70000 ndcg@1: 0.46907 ndcg@5: 0.56478 ndcg@10: 0.58236\n",
      "ratio:  0.5918242830994509\n"
     ]
    },
    {
     "name": "stderr",
     "output_type": "stream",
     "text": [
      "100%|████████████████████████████████████████████████████████████████████████████████| 114/114 [03:07<00:00,  1.65s/it]\n",
      "17it [00:11,  1.54it/s]\n"
     ]
    },
    {
     "name": "stdout",
     "output_type": "stream",
     "text": [
      "Epoch: 029, Loss: 1.11478\n",
      "all: h@1: 0.28798 h@5: 0.43502 h@10: 0.50214 ndcg@1: 0.28798 ndcg@5: 0.36464 ndcg@10: 0.38637\n",
      "new: h@1: 0.01046 h@5: 0.11659 h@10: 0.20179 ndcg@1: 0.01046 ndcg@5: 0.06370 ndcg@10: 0.09118\n",
      "rep: h@1: 0.47938 h@5: 0.65464 h@10: 0.70928 ndcg@1: 0.47938 ndcg@5: 0.57220 ndcg@10: 0.58996\n",
      "ratio:  0.5918242830994509\n"
     ]
    },
    {
     "name": "stderr",
     "output_type": "stream",
     "text": [
      "100%|████████████████████████████████████████████████████████████████████████████████| 114/114 [03:05<00:00,  1.62s/it]\n",
      "17it [00:10,  1.56it/s]\n"
     ]
    },
    {
     "name": "stdout",
     "output_type": "stream",
     "text": [
      "Epoch: 030, Loss: 1.11437\n",
      "all: h@1: 0.28798 h@5: 0.43746 h@10: 0.50763 ndcg@1: 0.28798 ndcg@5: 0.36685 ndcg@10: 0.38956\n",
      "new: h@1: 0.01495 h@5: 0.11659 h@10: 0.20927 ndcg@1: 0.01495 ndcg@5: 0.06565 ndcg@10: 0.09552\n",
      "rep: h@1: 0.47629 h@5: 0.65876 h@10: 0.71340 ndcg@1: 0.47629 ndcg@5: 0.57459 ndcg@10: 0.59235\n",
      "ratio:  0.5918242830994509\n"
     ]
    },
    {
     "name": "stderr",
     "output_type": "stream",
     "text": [
      "100%|████████████████████████████████████████████████████████████████████████████████| 114/114 [02:57<00:00,  1.55s/it]\n",
      "17it [00:10,  1.64it/s]\n"
     ]
    },
    {
     "name": "stdout",
     "output_type": "stream",
     "text": [
      "Epoch: 031, Loss: 1.10967\n",
      "all: h@1: 0.29042 h@5: 0.44356 h@10: 0.51007 ndcg@1: 0.29042 ndcg@5: 0.37167 ndcg@10: 0.39337\n",
      "new: h@1: 0.01345 h@5: 0.12108 h@10: 0.21226 ndcg@1: 0.01345 ndcg@5: 0.06701 ndcg@10: 0.09690\n",
      "rep: h@1: 0.48144 h@5: 0.66598 h@10: 0.71546 ndcg@1: 0.48144 ndcg@5: 0.58179 ndcg@10: 0.59784\n",
      "ratio:  0.5918242830994509\n"
     ]
    },
    {
     "name": "stderr",
     "output_type": "stream",
     "text": [
      "100%|████████████████████████████████████████████████████████████████████████████████| 114/114 [02:58<00:00,  1.57s/it]\n",
      "17it [00:10,  1.57it/s]\n"
     ]
    },
    {
     "name": "stdout",
     "output_type": "stream",
     "text": [
      "Epoch: 032, Loss: 1.10382\n",
      "all: h@1: 0.29103 h@5: 0.44539 h@10: 0.52105 ndcg@1: 0.29103 ndcg@5: 0.37243 ndcg@10: 0.39695\n",
      "new: h@1: 0.01046 h@5: 0.12855 h@10: 0.23019 ndcg@1: 0.01046 ndcg@5: 0.06743 ndcg@10: 0.10013\n",
      "rep: h@1: 0.48454 h@5: 0.66392 h@10: 0.72165 ndcg@1: 0.48454 ndcg@5: 0.58278 ndcg@10: 0.60167\n",
      "ratio:  0.5918242830994509\n"
     ]
    },
    {
     "name": "stderr",
     "output_type": "stream",
     "text": [
      "100%|████████████████████████████████████████████████████████████████████████████████| 114/114 [02:58<00:00,  1.57s/it]\n",
      "17it [00:10,  1.60it/s]\n"
     ]
    },
    {
     "name": "stdout",
     "output_type": "stream",
     "text": [
      "Epoch: 033, Loss: 1.10161\n",
      "all: h@1: 0.29103 h@5: 0.45821 h@10: 0.52044 ndcg@1: 0.29103 ndcg@5: 0.38015 ndcg@10: 0.40033\n",
      "new: h@1: 0.01196 h@5: 0.14200 h@10: 0.22422 ndcg@1: 0.01196 ndcg@5: 0.07563 ndcg@10: 0.10221\n",
      "rep: h@1: 0.48351 h@5: 0.67629 h@10: 0.72474 ndcg@1: 0.48351 ndcg@5: 0.59018 ndcg@10: 0.60595\n",
      "ratio:  0.5918242830994509\n"
     ]
    },
    {
     "name": "stderr",
     "output_type": "stream",
     "text": [
      "100%|████████████████████████████████████████████████████████████████████████████████| 114/114 [02:59<00:00,  1.58s/it]\n",
      "17it [00:10,  1.58it/s]\n"
     ]
    },
    {
     "name": "stdout",
     "output_type": "stream",
     "text": [
      "Epoch: 034, Loss: 1.09652\n",
      "all: h@1: 0.29591 h@5: 0.45210 h@10: 0.51922 ndcg@1: 0.29591 ndcg@5: 0.37845 ndcg@10: 0.40031\n",
      "new: h@1: 0.01196 h@5: 0.13303 h@10: 0.23169 ndcg@1: 0.01196 ndcg@5: 0.07097 ndcg@10: 0.10289\n",
      "rep: h@1: 0.49175 h@5: 0.67216 h@10: 0.71753 ndcg@1: 0.49175 ndcg@5: 0.59051 ndcg@10: 0.60544\n",
      "ratio:  0.5918242830994509\n"
     ]
    },
    {
     "name": "stderr",
     "output_type": "stream",
     "text": [
      "100%|████████████████████████████████████████████████████████████████████████████████| 114/114 [02:56<00:00,  1.55s/it]\n",
      "17it [00:10,  1.60it/s]\n"
     ]
    },
    {
     "name": "stdout",
     "output_type": "stream",
     "text": [
      "Epoch: 035, Loss: 1.09220\n",
      "all: h@1: 0.29713 h@5: 0.45516 h@10: 0.53874 ndcg@1: 0.29713 ndcg@5: 0.38050 ndcg@10: 0.40748\n",
      "new: h@1: 0.01196 h@5: 0.13602 h@10: 0.24813 ndcg@1: 0.01196 ndcg@5: 0.07134 ndcg@10: 0.10752\n",
      "rep: h@1: 0.49381 h@5: 0.67526 h@10: 0.73918 ndcg@1: 0.49381 ndcg@5: 0.59372 ndcg@10: 0.61436\n",
      "ratio:  0.5918242830994509\n"
     ]
    },
    {
     "name": "stderr",
     "output_type": "stream",
     "text": [
      "100%|████████████████████████████████████████████████████████████████████████████████| 114/114 [02:57<00:00,  1.56s/it]\n",
      "17it [00:10,  1.58it/s]\n"
     ]
    },
    {
     "name": "stdout",
     "output_type": "stream",
     "text": [
      "Epoch: 036, Loss: 1.08660\n",
      "all: h@1: 0.29591 h@5: 0.46309 h@10: 0.53996 ndcg@1: 0.29591 ndcg@5: 0.38370 ndcg@10: 0.40866\n",
      "new: h@1: 0.01345 h@5: 0.14499 h@10: 0.24215 ndcg@1: 0.01345 ndcg@5: 0.07623 ndcg@10: 0.10784\n",
      "rep: h@1: 0.49072 h@5: 0.68247 h@10: 0.74536 ndcg@1: 0.49072 ndcg@5: 0.59577 ndcg@10: 0.61613\n",
      "ratio:  0.5918242830994509\n"
     ]
    },
    {
     "name": "stderr",
     "output_type": "stream",
     "text": [
      "100%|████████████████████████████████████████████████████████████████████████████████| 114/114 [02:57<00:00,  1.56s/it]\n",
      "17it [00:10,  1.59it/s]\n"
     ]
    },
    {
     "name": "stdout",
     "output_type": "stream",
     "text": [
      "Epoch: 037, Loss: 1.08384\n",
      "all: h@1: 0.30018 h@5: 0.46675 h@10: 0.54240 ndcg@1: 0.30018 ndcg@5: 0.38707 ndcg@10: 0.41154\n",
      "new: h@1: 0.01794 h@5: 0.15097 h@10: 0.25112 ndcg@1: 0.01794 ndcg@5: 0.08172 ndcg@10: 0.11386\n",
      "rep: h@1: 0.49485 h@5: 0.68454 h@10: 0.74330 ndcg@1: 0.49485 ndcg@5: 0.59767 ndcg@10: 0.61684\n",
      "ratio:  0.5918242830994509\n"
     ]
    },
    {
     "name": "stderr",
     "output_type": "stream",
     "text": [
      "100%|████████████████████████████████████████████████████████████████████████████████| 114/114 [02:55<00:00,  1.54s/it]\n",
      "17it [00:10,  1.61it/s]\n"
     ]
    },
    {
     "name": "stdout",
     "output_type": "stream",
     "text": [
      "Epoch: 038, Loss: 1.07886\n",
      "all: h@1: 0.30323 h@5: 0.47346 h@10: 0.55400 ndcg@1: 0.30323 ndcg@5: 0.39210 ndcg@10: 0.41786\n",
      "new: h@1: 0.01495 h@5: 0.15247 h@10: 0.24813 ndcg@1: 0.01495 ndcg@5: 0.08069 ndcg@10: 0.11141\n",
      "rep: h@1: 0.50206 h@5: 0.69485 h@10: 0.76495 ndcg@1: 0.50206 ndcg@5: 0.60687 ndcg@10: 0.62921\n",
      "ratio:  0.5918242830994509\n"
     ]
    },
    {
     "name": "stderr",
     "output_type": "stream",
     "text": [
      "100%|████████████████████████████████████████████████████████████████████████████████| 114/114 [02:57<00:00,  1.56s/it]\n",
      "17it [00:10,  1.58it/s]\n"
     ]
    },
    {
     "name": "stdout",
     "output_type": "stream",
     "text": [
      "Epoch: 039, Loss: 1.07421\n",
      "all: h@1: 0.29957 h@5: 0.47712 h@10: 0.55583 ndcg@1: 0.29957 ndcg@5: 0.39273 ndcg@10: 0.41788\n",
      "new: h@1: 0.01644 h@5: 0.15546 h@10: 0.25561 ndcg@1: 0.01644 ndcg@5: 0.08221 ndcg@10: 0.11417\n",
      "rep: h@1: 0.49485 h@5: 0.69897 h@10: 0.76289 ndcg@1: 0.49485 ndcg@5: 0.60690 ndcg@10: 0.62735\n",
      "ratio:  0.5918242830994509\n"
     ]
    },
    {
     "name": "stderr",
     "output_type": "stream",
     "text": [
      "100%|████████████████████████████████████████████████████████████████████████████████| 114/114 [02:57<00:00,  1.56s/it]\n",
      "17it [00:10,  1.60it/s]\n"
     ]
    },
    {
     "name": "stdout",
     "output_type": "stream",
     "text": [
      "Epoch: 040, Loss: 1.06862\n",
      "all: h@1: 0.29286 h@5: 0.47285 h@10: 0.56498 ndcg@1: 0.29286 ndcg@5: 0.38697 ndcg@10: 0.41665\n",
      "new: h@1: 0.01046 h@5: 0.15396 h@10: 0.27803 ndcg@1: 0.01046 ndcg@5: 0.07953 ndcg@10: 0.11922\n",
      "rep: h@1: 0.48763 h@5: 0.69278 h@10: 0.76289 ndcg@1: 0.48763 ndcg@5: 0.59900 ndcg@10: 0.62179\n",
      "ratio:  0.5918242830994509\n"
     ]
    },
    {
     "name": "stderr",
     "output_type": "stream",
     "text": [
      "100%|████████████████████████████████████████████████████████████████████████████████| 114/114 [02:57<00:00,  1.56s/it]\n",
      "17it [00:10,  1.59it/s]\n"
     ]
    },
    {
     "name": "stdout",
     "output_type": "stream",
     "text": [
      "Epoch: 041, Loss: 1.06473\n",
      "all: h@1: 0.30262 h@5: 0.48688 h@10: 0.56376 ndcg@1: 0.30262 ndcg@5: 0.39776 ndcg@10: 0.42250\n",
      "new: h@1: 0.01644 h@5: 0.15845 h@10: 0.26308 ndcg@1: 0.01644 ndcg@5: 0.08531 ndcg@10: 0.11902\n",
      "rep: h@1: 0.50000 h@5: 0.71340 h@10: 0.77113 ndcg@1: 0.50000 ndcg@5: 0.61326 ndcg@10: 0.63181\n",
      "ratio:  0.5918242830994509\n"
     ]
    },
    {
     "name": "stderr",
     "output_type": "stream",
     "text": [
      "100%|████████████████████████████████████████████████████████████████████████████████| 114/114 [02:57<00:00,  1.56s/it]\n",
      "17it [00:10,  1.59it/s]\n"
     ]
    },
    {
     "name": "stdout",
     "output_type": "stream",
     "text": [
      "Epoch: 042, Loss: 1.05961\n",
      "all: h@1: 0.30689 h@5: 0.48566 h@10: 0.57047 ndcg@1: 0.30689 ndcg@5: 0.39961 ndcg@10: 0.42702\n",
      "new: h@1: 0.01495 h@5: 0.16293 h@10: 0.27205 ndcg@1: 0.01495 ndcg@5: 0.08583 ndcg@10: 0.12111\n",
      "rep: h@1: 0.50825 h@5: 0.70825 h@10: 0.77629 ndcg@1: 0.50825 ndcg@5: 0.61603 ndcg@10: 0.63800\n",
      "ratio:  0.5918242830994509\n"
     ]
    },
    {
     "name": "stderr",
     "output_type": "stream",
     "text": [
      "100%|████████████████████████████████████████████████████████████████████████████████| 114/114 [02:57<00:00,  1.56s/it]\n",
      "17it [00:10,  1.61it/s]\n"
     ]
    },
    {
     "name": "stdout",
     "output_type": "stream",
     "text": [
      "Epoch: 043, Loss: 1.05511\n",
      "all: h@1: 0.30140 h@5: 0.49420 h@10: 0.57169 ndcg@1: 0.30140 ndcg@5: 0.40126 ndcg@10: 0.42636\n",
      "new: h@1: 0.01644 h@5: 0.17339 h@10: 0.27952 ndcg@1: 0.01644 ndcg@5: 0.09213 ndcg@10: 0.12660\n",
      "rep: h@1: 0.49794 h@5: 0.71546 h@10: 0.77320 ndcg@1: 0.49794 ndcg@5: 0.61446 ndcg@10: 0.63311\n",
      "ratio:  0.5918242830994509\n"
     ]
    },
    {
     "name": "stderr",
     "output_type": "stream",
     "text": [
      "100%|████████████████████████████████████████████████████████████████████████████████| 114/114 [02:55<00:00,  1.54s/it]\n",
      "17it [00:10,  1.57it/s]\n"
     ]
    },
    {
     "name": "stdout",
     "output_type": "stream",
     "text": [
      "Epoch: 044, Loss: 1.05049\n",
      "all: h@1: 0.30628 h@5: 0.49420 h@10: 0.57108 ndcg@1: 0.30628 ndcg@5: 0.40382 ndcg@10: 0.42868\n",
      "new: h@1: 0.01644 h@5: 0.17339 h@10: 0.27952 ndcg@1: 0.01644 ndcg@5: 0.09164 ndcg@10: 0.12580\n",
      "rep: h@1: 0.50619 h@5: 0.71546 h@10: 0.77216 ndcg@1: 0.50619 ndcg@5: 0.61913 ndcg@10: 0.63758\n",
      "ratio:  0.5918242830994509\n"
     ]
    },
    {
     "name": "stderr",
     "output_type": "stream",
     "text": [
      "100%|████████████████████████████████████████████████████████████████████████████████| 114/114 [02:54<00:00,  1.53s/it]\n",
      "17it [00:10,  1.66it/s]\n"
     ]
    },
    {
     "name": "stdout",
     "output_type": "stream",
     "text": [
      "Epoch: 045, Loss: 1.04420\n",
      "all: h@1: 0.30628 h@5: 0.49786 h@10: 0.57718 ndcg@1: 0.30628 ndcg@5: 0.40598 ndcg@10: 0.43151\n",
      "new: h@1: 0.01943 h@5: 0.17937 h@10: 0.28401 ndcg@1: 0.01943 ndcg@5: 0.09653 ndcg@10: 0.13027\n",
      "rep: h@1: 0.50412 h@5: 0.71753 h@10: 0.77938 ndcg@1: 0.50412 ndcg@5: 0.61940 ndcg@10: 0.63928\n",
      "ratio:  0.5918242830994509\n"
     ]
    },
    {
     "name": "stderr",
     "output_type": "stream",
     "text": [
      "100%|████████████████████████████████████████████████████████████████████████████████| 114/114 [02:53<00:00,  1.53s/it]\n",
      "17it [00:10,  1.64it/s]\n"
     ]
    },
    {
     "name": "stdout",
     "output_type": "stream",
     "text": [
      "Epoch: 046, Loss: 1.04004\n",
      "all: h@1: 0.31300 h@5: 0.49969 h@10: 0.57657 ndcg@1: 0.31300 ndcg@5: 0.41030 ndcg@10: 0.43505\n",
      "new: h@1: 0.02541 h@5: 0.19283 h@10: 0.28401 ndcg@1: 0.02541 ndcg@5: 0.10545 ndcg@10: 0.13443\n",
      "rep: h@1: 0.51134 h@5: 0.71134 h@10: 0.77835 ndcg@1: 0.51134 ndcg@5: 0.62055 ndcg@10: 0.64238\n",
      "ratio:  0.5918242830994509\n"
     ]
    },
    {
     "name": "stderr",
     "output_type": "stream",
     "text": [
      "100%|████████████████████████████████████████████████████████████████████████████████| 114/114 [02:53<00:00,  1.52s/it]\n",
      "17it [00:10,  1.64it/s]\n"
     ]
    },
    {
     "name": "stdout",
     "output_type": "stream",
     "text": [
      "Epoch: 047, Loss: 1.03480\n",
      "all: h@1: 0.30933 h@5: 0.50031 h@10: 0.58206 ndcg@1: 0.30933 ndcg@5: 0.40953 ndcg@10: 0.43591\n",
      "new: h@1: 0.02093 h@5: 0.17638 h@10: 0.28849 ndcg@1: 0.02093 ndcg@5: 0.09666 ndcg@10: 0.13250\n",
      "rep: h@1: 0.50825 h@5: 0.72371 h@10: 0.78454 ndcg@1: 0.50825 ndcg@5: 0.62531 ndcg@10: 0.64517\n",
      "ratio:  0.5918242830994509\n"
     ]
    },
    {
     "name": "stderr",
     "output_type": "stream",
     "text": [
      "100%|████████████████████████████████████████████████████████████████████████████████| 114/114 [02:52<00:00,  1.52s/it]\n",
      "17it [00:10,  1.66it/s]\n"
     ]
    },
    {
     "name": "stdout",
     "output_type": "stream",
     "text": [
      "Epoch: 048, Loss: 1.02973\n",
      "all: h@1: 0.30995 h@5: 0.49664 h@10: 0.57657 ndcg@1: 0.30995 ndcg@5: 0.40896 ndcg@10: 0.43503\n",
      "new: h@1: 0.02242 h@5: 0.17638 h@10: 0.28401 ndcg@1: 0.02242 ndcg@5: 0.09801 ndcg@10: 0.13324\n",
      "rep: h@1: 0.50825 h@5: 0.71753 h@10: 0.77835 ndcg@1: 0.50825 ndcg@5: 0.62342 ndcg@10: 0.64318\n",
      "ratio:  0.5918242830994509\n"
     ]
    },
    {
     "name": "stderr",
     "output_type": "stream",
     "text": [
      "100%|████████████████████████████████████████████████████████████████████████████████| 114/114 [02:53<00:00,  1.52s/it]\n",
      "17it [00:10,  1.64it/s]\n"
     ]
    },
    {
     "name": "stdout",
     "output_type": "stream",
     "text": [
      "Epoch: 049, Loss: 1.02365\n",
      "all: h@1: 0.31056 h@5: 0.50275 h@10: 0.58694 ndcg@1: 0.31056 ndcg@5: 0.41213 ndcg@10: 0.43922\n",
      "new: h@1: 0.01495 h@5: 0.18535 h@10: 0.29447 ndcg@1: 0.01495 ndcg@5: 0.09989 ndcg@10: 0.13493\n",
      "rep: h@1: 0.51443 h@5: 0.72165 h@10: 0.78866 ndcg@1: 0.51443 ndcg@5: 0.62749 ndcg@10: 0.64909\n",
      "ratio:  0.5918242830994509\n"
     ]
    },
    {
     "name": "stderr",
     "output_type": "stream",
     "text": [
      "100%|████████████████████████████████████████████████████████████████████████████████| 114/114 [02:53<00:00,  1.53s/it]\n",
      "17it [00:10,  1.63it/s]\n"
     ]
    },
    {
     "name": "stdout",
     "output_type": "stream",
     "text": [
      "Epoch: 050, Loss: 1.02165\n",
      "all: h@1: 0.31300 h@5: 0.50702 h@10: 0.58938 ndcg@1: 0.31300 ndcg@5: 0.41454 ndcg@10: 0.44114\n",
      "new: h@1: 0.01644 h@5: 0.19133 h@10: 0.29895 ndcg@1: 0.01644 ndcg@5: 0.10318 ndcg@10: 0.13804\n",
      "rep: h@1: 0.51753 h@5: 0.72474 h@10: 0.78969 ndcg@1: 0.51753 ndcg@5: 0.62928 ndcg@10: 0.65019\n",
      "ratio:  0.5918242830994509\n"
     ]
    },
    {
     "name": "stderr",
     "output_type": "stream",
     "text": [
      "100%|████████████████████████████████████████████████████████████████████████████████| 114/114 [02:53<00:00,  1.52s/it]\n",
      "17it [00:10,  1.63it/s]\n"
     ]
    },
    {
     "name": "stdout",
     "output_type": "stream",
     "text": [
      "Epoch: 051, Loss: 1.01499\n",
      "all: h@1: 0.31056 h@5: 0.50763 h@10: 0.59671 ndcg@1: 0.31056 ndcg@5: 0.41524 ndcg@10: 0.44399\n",
      "new: h@1: 0.01794 h@5: 0.19283 h@10: 0.30493 ndcg@1: 0.01794 ndcg@5: 0.10527 ndcg@10: 0.14125\n",
      "rep: h@1: 0.51237 h@5: 0.72474 h@10: 0.79794 ndcg@1: 0.51237 ndcg@5: 0.62903 ndcg@10: 0.65279\n",
      "ratio:  0.5918242830994509\n"
     ]
    },
    {
     "name": "stderr",
     "output_type": "stream",
     "text": [
      "100%|████████████████████████████████████████████████████████████████████████████████| 114/114 [02:54<00:00,  1.53s/it]\n",
      "17it [00:10,  1.67it/s]\n"
     ]
    },
    {
     "name": "stdout",
     "output_type": "stream",
     "text": [
      "Epoch: 052, Loss: 1.01242\n",
      "all: h@1: 0.31117 h@5: 0.50702 h@10: 0.58999 ndcg@1: 0.31117 ndcg@5: 0.41430 ndcg@10: 0.44098\n",
      "new: h@1: 0.01345 h@5: 0.19283 h@10: 0.29148 ndcg@1: 0.01345 ndcg@5: 0.10193 ndcg@10: 0.13417\n",
      "rep: h@1: 0.51649 h@5: 0.72371 h@10: 0.79588 ndcg@1: 0.51649 ndcg@5: 0.62973 ndcg@10: 0.65259\n",
      "ratio:  0.5918242830994509\n"
     ]
    },
    {
     "name": "stderr",
     "output_type": "stream",
     "text": [
      "100%|████████████████████████████████████████████████████████████████████████████████| 114/114 [02:53<00:00,  1.52s/it]\n",
      "17it [00:10,  1.66it/s]\n"
     ]
    },
    {
     "name": "stdout",
     "output_type": "stream",
     "text": [
      "Epoch: 053, Loss: 1.00501\n",
      "all: h@1: 0.31422 h@5: 0.51190 h@10: 0.59243 ndcg@1: 0.31422 ndcg@5: 0.41899 ndcg@10: 0.44523\n",
      "new: h@1: 0.01495 h@5: 0.20030 h@10: 0.29447 ndcg@1: 0.01495 ndcg@5: 0.10727 ndcg@10: 0.13758\n",
      "rep: h@1: 0.52062 h@5: 0.72680 h@10: 0.79794 ndcg@1: 0.52062 ndcg@5: 0.63397 ndcg@10: 0.65741\n",
      "ratio:  0.5918242830994509\n"
     ]
    },
    {
     "name": "stderr",
     "output_type": "stream",
     "text": [
      "100%|████████████████████████████████████████████████████████████████████████████████| 114/114 [02:54<00:00,  1.53s/it]\n",
      "17it [00:10,  1.64it/s]\n"
     ]
    },
    {
     "name": "stdout",
     "output_type": "stream",
     "text": [
      "Epoch: 054, Loss: 1.00151\n",
      "all: h@1: 0.31666 h@5: 0.51312 h@10: 0.60281 ndcg@1: 0.31666 ndcg@5: 0.42059 ndcg@10: 0.44918\n",
      "new: h@1: 0.01644 h@5: 0.19432 h@10: 0.30942 ndcg@1: 0.01644 ndcg@5: 0.10542 ndcg@10: 0.14235\n",
      "rep: h@1: 0.52371 h@5: 0.73299 h@10: 0.80515 ndcg@1: 0.52371 ndcg@5: 0.63797 ndcg@10: 0.66079\n",
      "ratio:  0.5918242830994509\n"
     ]
    },
    {
     "name": "stderr",
     "output_type": "stream",
     "text": [
      "100%|████████████████████████████████████████████████████████████████████████████████| 114/114 [02:53<00:00,  1.52s/it]\n",
      "17it [00:10,  1.63it/s]\n"
     ]
    },
    {
     "name": "stdout",
     "output_type": "stream",
     "text": [
      "Epoch: 055, Loss: 0.99573\n",
      "all: h@1: 0.31422 h@5: 0.51739 h@10: 0.60098 ndcg@1: 0.31422 ndcg@5: 0.42143 ndcg@10: 0.44806\n",
      "new: h@1: 0.01644 h@5: 0.20478 h@10: 0.30942 ndcg@1: 0.01644 ndcg@5: 0.10946 ndcg@10: 0.14296\n",
      "rep: h@1: 0.51959 h@5: 0.73299 h@10: 0.80206 ndcg@1: 0.51959 ndcg@5: 0.63659 ndcg@10: 0.65848\n",
      "ratio:  0.5918242830994509\n"
     ]
    },
    {
     "name": "stderr",
     "output_type": "stream",
     "text": [
      "100%|████████████████████████████████████████████████████████████████████████████████| 114/114 [02:53<00:00,  1.53s/it]\n",
      "17it [00:10,  1.64it/s]\n"
     ]
    },
    {
     "name": "stdout",
     "output_type": "stream",
     "text": [
      "Epoch: 056, Loss: 0.99039\n",
      "all: h@1: 0.31605 h@5: 0.52044 h@10: 0.60098 ndcg@1: 0.31605 ndcg@5: 0.42334 ndcg@10: 0.44916\n",
      "new: h@1: 0.02093 h@5: 0.20628 h@10: 0.30493 ndcg@1: 0.02093 ndcg@5: 0.11218 ndcg@10: 0.14380\n",
      "rep: h@1: 0.51959 h@5: 0.73711 h@10: 0.80515 ndcg@1: 0.51959 ndcg@5: 0.63795 ndcg@10: 0.65977\n",
      "ratio:  0.5918242830994509\n"
     ]
    },
    {
     "name": "stderr",
     "output_type": "stream",
     "text": [
      "100%|████████████████████████████████████████████████████████████████████████████████| 114/114 [02:54<00:00,  1.53s/it]\n",
      "17it [00:10,  1.65it/s]\n"
     ]
    },
    {
     "name": "stdout",
     "output_type": "stream",
     "text": [
      "Epoch: 057, Loss: 0.98514\n",
      "all: h@1: 0.31483 h@5: 0.52166 h@10: 0.60342 ndcg@1: 0.31483 ndcg@5: 0.42476 ndcg@10: 0.45086\n",
      "new: h@1: 0.02242 h@5: 0.20628 h@10: 0.31390 ndcg@1: 0.02242 ndcg@5: 0.11531 ndcg@10: 0.14970\n",
      "rep: h@1: 0.51649 h@5: 0.73918 h@10: 0.80309 ndcg@1: 0.51649 ndcg@5: 0.63818 ndcg@10: 0.65857\n",
      "ratio:  0.5918242830994509\n"
     ]
    },
    {
     "name": "stderr",
     "output_type": "stream",
     "text": [
      "100%|████████████████████████████████████████████████████████████████████████████████| 114/114 [02:53<00:00,  1.52s/it]\n",
      "17it [00:10,  1.64it/s]\n"
     ]
    },
    {
     "name": "stdout",
     "output_type": "stream",
     "text": [
      "Epoch: 058, Loss: 0.98208\n",
      "all: h@1: 0.31178 h@5: 0.51373 h@10: 0.59732 ndcg@1: 0.31178 ndcg@5: 0.41883 ndcg@10: 0.44594\n",
      "new: h@1: 0.01943 h@5: 0.19581 h@10: 0.30344 ndcg@1: 0.01943 ndcg@5: 0.10780 ndcg@10: 0.14273\n",
      "rep: h@1: 0.51340 h@5: 0.73299 h@10: 0.80000 ndcg@1: 0.51340 ndcg@5: 0.63335 ndcg@10: 0.65507\n",
      "ratio:  0.5918242830994509\n"
     ]
    },
    {
     "name": "stderr",
     "output_type": "stream",
     "text": [
      "100%|████████████████████████████████████████████████████████████████████████████████| 114/114 [02:54<00:00,  1.53s/it]\n",
      "17it [00:10,  1.65it/s]\n"
     ]
    },
    {
     "name": "stdout",
     "output_type": "stream",
     "text": [
      "Epoch: 059, Loss: 0.97675\n",
      "all: h@1: 0.31178 h@5: 0.51312 h@10: 0.60159 ndcg@1: 0.31178 ndcg@5: 0.41916 ndcg@10: 0.44776\n",
      "new: h@1: 0.01794 h@5: 0.19581 h@10: 0.31241 ndcg@1: 0.01794 ndcg@5: 0.10659 ndcg@10: 0.14431\n",
      "rep: h@1: 0.51443 h@5: 0.73196 h@10: 0.80103 ndcg@1: 0.51443 ndcg@5: 0.63475 ndcg@10: 0.65705\n",
      "ratio:  0.5918242830994509\n"
     ]
    },
    {
     "name": "stderr",
     "output_type": "stream",
     "text": [
      "100%|████████████████████████████████████████████████████████████████████████████████| 114/114 [02:53<00:00,  1.52s/it]\n",
      "17it [00:10,  1.66it/s]\n"
     ]
    },
    {
     "name": "stdout",
     "output_type": "stream",
     "text": [
      "Epoch: 060, Loss: 0.97393\n",
      "all: h@1: 0.31361 h@5: 0.51251 h@10: 0.60891 ndcg@1: 0.31361 ndcg@5: 0.41957 ndcg@10: 0.45075\n",
      "new: h@1: 0.01943 h@5: 0.19283 h@10: 0.32138 ndcg@1: 0.01943 ndcg@5: 0.10671 ndcg@10: 0.14839\n",
      "rep: h@1: 0.51649 h@5: 0.73299 h@10: 0.80722 ndcg@1: 0.51649 ndcg@5: 0.63535 ndcg@10: 0.65929\n",
      "ratio:  0.5918242830994509\n"
     ]
    },
    {
     "name": "stderr",
     "output_type": "stream",
     "text": [
      "100%|████████████████████████████████████████████████████████████████████████████████| 114/114 [02:55<00:00,  1.54s/it]\n",
      "17it [00:10,  1.65it/s]\n"
     ]
    },
    {
     "name": "stdout",
     "output_type": "stream",
     "text": [
      "Epoch: 061, Loss: 0.96824\n",
      "all: h@1: 0.31483 h@5: 0.51922 h@10: 0.60342 ndcg@1: 0.31483 ndcg@5: 0.42372 ndcg@10: 0.45092\n",
      "new: h@1: 0.02093 h@5: 0.19731 h@10: 0.31241 ndcg@1: 0.02093 ndcg@5: 0.11036 ndcg@10: 0.14767\n",
      "rep: h@1: 0.51753 h@5: 0.74124 h@10: 0.80412 ndcg@1: 0.51753 ndcg@5: 0.63984 ndcg@10: 0.66006\n",
      "ratio:  0.5918242830994509\n"
     ]
    },
    {
     "name": "stderr",
     "output_type": "stream",
     "text": [
      "100%|████████████████████████████████████████████████████████████████████████████████| 114/114 [02:54<00:00,  1.53s/it]\n",
      "17it [00:10,  1.65it/s]\n"
     ]
    },
    {
     "name": "stdout",
     "output_type": "stream",
     "text": [
      "Epoch: 062, Loss: 0.96355\n",
      "all: h@1: 0.31666 h@5: 0.52654 h@10: 0.59976 ndcg@1: 0.31666 ndcg@5: 0.42677 ndcg@10: 0.45028\n",
      "new: h@1: 0.02242 h@5: 0.20628 h@10: 0.30194 ndcg@1: 0.02242 ndcg@5: 0.11230 ndcg@10: 0.14338\n",
      "rep: h@1: 0.51959 h@5: 0.74742 h@10: 0.80515 ndcg@1: 0.51959 ndcg@5: 0.64366 ndcg@10: 0.66195\n",
      "ratio:  0.5918242830994509\n"
     ]
    },
    {
     "name": "stderr",
     "output_type": "stream",
     "text": [
      "100%|████████████████████████████████████████████████████████████████████████████████| 114/114 [02:53<00:00,  1.52s/it]\n",
      "17it [00:10,  1.61it/s]\n"
     ]
    },
    {
     "name": "stdout",
     "output_type": "stream",
     "text": [
      "Epoch: 063, Loss: 0.95960\n",
      "all: h@1: 0.31727 h@5: 0.51983 h@10: 0.60830 ndcg@1: 0.31727 ndcg@5: 0.42454 ndcg@10: 0.45310\n",
      "new: h@1: 0.01943 h@5: 0.20478 h@10: 0.31540 ndcg@1: 0.01943 ndcg@5: 0.11161 ndcg@10: 0.14724\n",
      "rep: h@1: 0.52268 h@5: 0.73711 h@10: 0.81031 ndcg@1: 0.52268 ndcg@5: 0.64037 ndcg@10: 0.66405\n",
      "ratio:  0.5918242830994509\n"
     ]
    },
    {
     "name": "stderr",
     "output_type": "stream",
     "text": [
      "100%|████████████████████████████████████████████████████████████████████████████████| 114/114 [02:54<00:00,  1.53s/it]\n",
      "17it [00:10,  1.65it/s]\n"
     ]
    },
    {
     "name": "stdout",
     "output_type": "stream",
     "text": [
      "Epoch: 064, Loss: 0.95470\n",
      "all: h@1: 0.31727 h@5: 0.52227 h@10: 0.60891 ndcg@1: 0.31727 ndcg@5: 0.42586 ndcg@10: 0.45414\n",
      "new: h@1: 0.02541 h@5: 0.21226 h@10: 0.32436 ndcg@1: 0.02541 ndcg@5: 0.11719 ndcg@10: 0.15369\n",
      "rep: h@1: 0.51856 h@5: 0.73608 h@10: 0.80515 ndcg@1: 0.51856 ndcg@5: 0.63875 ndcg@10: 0.66135\n",
      "ratio:  0.5918242830994509\n"
     ]
    },
    {
     "name": "stderr",
     "output_type": "stream",
     "text": [
      "100%|████████████████████████████████████████████████████████████████████████████████| 114/114 [02:55<00:00,  1.54s/it]\n",
      "17it [00:10,  1.64it/s]\n"
     ]
    },
    {
     "name": "stdout",
     "output_type": "stream",
     "text": [
      "Epoch: 065, Loss: 0.94853\n",
      "all: h@1: 0.32032 h@5: 0.52776 h@10: 0.61257 ndcg@1: 0.32032 ndcg@5: 0.43042 ndcg@10: 0.45774\n",
      "new: h@1: 0.02242 h@5: 0.21375 h@10: 0.32735 ndcg@1: 0.02242 ndcg@5: 0.11862 ndcg@10: 0.15485\n",
      "rep: h@1: 0.52577 h@5: 0.74433 h@10: 0.80928 ndcg@1: 0.52577 ndcg@5: 0.64547 ndcg@10: 0.66664\n",
      "ratio:  0.5918242830994509\n"
     ]
    },
    {
     "name": "stderr",
     "output_type": "stream",
     "text": [
      "100%|████████████████████████████████████████████████████████████████████████████████| 114/114 [02:54<00:00,  1.53s/it]\n",
      "17it [00:10,  1.65it/s]\n"
     ]
    },
    {
     "name": "stdout",
     "output_type": "stream",
     "text": [
      "Epoch: 066, Loss: 0.94439\n",
      "all: h@1: 0.31727 h@5: 0.52166 h@10: 0.61074 ndcg@1: 0.31727 ndcg@5: 0.42628 ndcg@10: 0.45538\n",
      "new: h@1: 0.01943 h@5: 0.20628 h@10: 0.31839 ndcg@1: 0.01943 ndcg@5: 0.11262 ndcg@10: 0.14933\n",
      "rep: h@1: 0.52268 h@5: 0.73918 h@10: 0.81237 ndcg@1: 0.52268 ndcg@5: 0.64260 ndcg@10: 0.66646\n",
      "ratio:  0.5918242830994509\n"
     ]
    },
    {
     "name": "stderr",
     "output_type": "stream",
     "text": [
      "100%|████████████████████████████████████████████████████████████████████████████████| 114/114 [02:54<00:00,  1.53s/it]\n",
      "17it [00:10,  1.65it/s]\n"
     ]
    },
    {
     "name": "stdout",
     "output_type": "stream",
     "text": [
      "Epoch: 067, Loss: 0.94205\n",
      "all: h@1: 0.31605 h@5: 0.52410 h@10: 0.62233 ndcg@1: 0.31605 ndcg@5: 0.42562 ndcg@10: 0.45732\n",
      "new: h@1: 0.02392 h@5: 0.20628 h@10: 0.34081 ndcg@1: 0.02392 ndcg@5: 0.11471 ndcg@10: 0.15801\n",
      "rep: h@1: 0.51753 h@5: 0.74330 h@10: 0.81649 ndcg@1: 0.51753 ndcg@5: 0.64005 ndcg@10: 0.66376\n",
      "ratio:  0.5918242830994509\n"
     ]
    },
    {
     "name": "stderr",
     "output_type": "stream",
     "text": [
      "100%|████████████████████████████████████████████████████████████████████████████████| 114/114 [02:54<00:00,  1.54s/it]\n",
      "17it [00:10,  1.66it/s]\n"
     ]
    },
    {
     "name": "stdout",
     "output_type": "stream",
     "text": [
      "Epoch: 068, Loss: 0.93586\n",
      "all: h@1: 0.31666 h@5: 0.52471 h@10: 0.61928 ndcg@1: 0.31666 ndcg@5: 0.42649 ndcg@10: 0.45694\n",
      "new: h@1: 0.02392 h@5: 0.21226 h@10: 0.33483 ndcg@1: 0.02392 ndcg@5: 0.11727 ndcg@10: 0.15672\n",
      "rep: h@1: 0.51856 h@5: 0.74021 h@10: 0.81546 ndcg@1: 0.51856 ndcg@5: 0.63975 ndcg@10: 0.66400\n",
      "ratio:  0.5918242830994509\n"
     ]
    },
    {
     "name": "stderr",
     "output_type": "stream",
     "text": [
      "100%|████████████████████████████████████████████████████████████████████████████████| 114/114 [02:54<00:00,  1.53s/it]\n",
      "17it [00:10,  1.63it/s]\n"
     ]
    },
    {
     "name": "stdout",
     "output_type": "stream",
     "text": [
      "Epoch: 069, Loss: 0.93305\n",
      "all: h@1: 0.31788 h@5: 0.52593 h@10: 0.61501 ndcg@1: 0.31788 ndcg@5: 0.42799 ndcg@10: 0.45686\n",
      "new: h@1: 0.02392 h@5: 0.20777 h@10: 0.33184 ndcg@1: 0.02392 ndcg@5: 0.11545 ndcg@10: 0.15553\n",
      "rep: h@1: 0.52062 h@5: 0.74536 h@10: 0.81031 ndcg@1: 0.52062 ndcg@5: 0.64355 ndcg@10: 0.66468\n",
      "ratio:  0.5918242830994509\n"
     ]
    },
    {
     "name": "stderr",
     "output_type": "stream",
     "text": [
      "100%|████████████████████████████████████████████████████████████████████████████████| 114/114 [02:54<00:00,  1.53s/it]\n",
      "17it [00:10,  1.64it/s]\n"
     ]
    },
    {
     "name": "stdout",
     "output_type": "stream",
     "text": [
      "Epoch: 070, Loss: 0.92852\n",
      "all: h@1: 0.32337 h@5: 0.52410 h@10: 0.61135 ndcg@1: 0.32337 ndcg@5: 0.42960 ndcg@10: 0.45807\n",
      "new: h@1: 0.02840 h@5: 0.20777 h@10: 0.31988 ndcg@1: 0.02840 ndcg@5: 0.11672 ndcg@10: 0.15344\n",
      "rep: h@1: 0.52680 h@5: 0.74227 h@10: 0.81237 ndcg@1: 0.52680 ndcg@5: 0.64539 ndcg@10: 0.66817\n",
      "ratio:  0.5918242830994509\n"
     ]
    },
    {
     "name": "stderr",
     "output_type": "stream",
     "text": [
      "100%|████████████████████████████████████████████████████████████████████████████████| 114/114 [02:55<00:00,  1.54s/it]\n",
      "17it [00:10,  1.63it/s]\n"
     ]
    },
    {
     "name": "stdout",
     "output_type": "stream",
     "text": [
      "Epoch: 071, Loss: 0.92374\n",
      "all: h@1: 0.31666 h@5: 0.52654 h@10: 0.60952 ndcg@1: 0.31666 ndcg@5: 0.42769 ndcg@10: 0.45485\n",
      "new: h@1: 0.02242 h@5: 0.21226 h@10: 0.31988 ndcg@1: 0.02242 ndcg@5: 0.11506 ndcg@10: 0.15008\n",
      "rep: h@1: 0.51959 h@5: 0.74330 h@10: 0.80928 ndcg@1: 0.51959 ndcg@5: 0.64332 ndcg@10: 0.66505\n",
      "ratio:  0.5918242830994509\n"
     ]
    },
    {
     "name": "stderr",
     "output_type": "stream",
     "text": [
      "100%|████████████████████████████████████████████████████████████████████████████████| 114/114 [02:55<00:00,  1.54s/it]\n",
      "17it [00:10,  1.64it/s]\n"
     ]
    },
    {
     "name": "stdout",
     "output_type": "stream",
     "text": [
      "Epoch: 072, Loss: 0.91940\n",
      "all: h@1: 0.32093 h@5: 0.52959 h@10: 0.61318 ndcg@1: 0.32093 ndcg@5: 0.43048 ndcg@10: 0.45772\n",
      "new: h@1: 0.02392 h@5: 0.20927 h@10: 0.32885 ndcg@1: 0.02392 ndcg@5: 0.11517 ndcg@10: 0.15398\n",
      "rep: h@1: 0.52577 h@5: 0.75052 h@10: 0.80928 ndcg@1: 0.52577 ndcg@5: 0.64795 ndcg@10: 0.66721\n",
      "ratio:  0.5918242830994509\n"
     ]
    },
    {
     "name": "stderr",
     "output_type": "stream",
     "text": [
      "100%|████████████████████████████████████████████████████████████████████████████████| 114/114 [02:55<00:00,  1.54s/it]\n",
      "17it [00:10,  1.65it/s]\n"
     ]
    },
    {
     "name": "stdout",
     "output_type": "stream",
     "text": [
      "Epoch: 073, Loss: 0.91902\n",
      "all: h@1: 0.31788 h@5: 0.53081 h@10: 0.61989 ndcg@1: 0.31788 ndcg@5: 0.42984 ndcg@10: 0.45869\n",
      "new: h@1: 0.01943 h@5: 0.21076 h@10: 0.33333 ndcg@1: 0.01943 ndcg@5: 0.11354 ndcg@10: 0.15304\n",
      "rep: h@1: 0.52371 h@5: 0.75155 h@10: 0.81753 ndcg@1: 0.52371 ndcg@5: 0.64799 ndcg@10: 0.66949\n",
      "ratio:  0.5918242830994509\n"
     ]
    },
    {
     "name": "stderr",
     "output_type": "stream",
     "text": [
      "100%|████████████████████████████████████████████████████████████████████████████████| 114/114 [02:55<00:00,  1.54s/it]\n",
      "17it [00:10,  1.63it/s]\n"
     ]
    },
    {
     "name": "stdout",
     "output_type": "stream",
     "text": [
      "Epoch: 074, Loss: 0.91541\n",
      "all: h@1: 0.31971 h@5: 0.53203 h@10: 0.61745 ndcg@1: 0.31971 ndcg@5: 0.43099 ndcg@10: 0.45857\n",
      "new: h@1: 0.02392 h@5: 0.20478 h@10: 0.32436 ndcg@1: 0.02392 ndcg@5: 0.11279 ndcg@10: 0.15145\n",
      "rep: h@1: 0.52371 h@5: 0.75773 h@10: 0.81959 ndcg@1: 0.52371 ndcg@5: 0.65045 ndcg@10: 0.67039\n",
      "ratio:  0.5918242830994509\n"
     ]
    },
    {
     "name": "stderr",
     "output_type": "stream",
     "text": [
      "100%|████████████████████████████████████████████████████████████████████████████████| 114/114 [02:55<00:00,  1.54s/it]\n",
      "17it [00:10,  1.64it/s]\n"
     ]
    },
    {
     "name": "stdout",
     "output_type": "stream",
     "text": [
      "Epoch: 075, Loss: 0.90939\n",
      "all: h@1: 0.31849 h@5: 0.53203 h@10: 0.61196 ndcg@1: 0.31849 ndcg@5: 0.43159 ndcg@10: 0.45758\n",
      "new: h@1: 0.02541 h@5: 0.21076 h@10: 0.31091 ndcg@1: 0.02541 ndcg@5: 0.11643 ndcg@10: 0.14913\n",
      "rep: h@1: 0.52062 h@5: 0.75361 h@10: 0.81959 ndcg@1: 0.52062 ndcg@5: 0.64895 ndcg@10: 0.67031\n",
      "ratio:  0.5918242830994509\n"
     ]
    },
    {
     "name": "stderr",
     "output_type": "stream",
     "text": [
      "100%|████████████████████████████████████████████████████████████████████████████████| 114/114 [02:55<00:00,  1.54s/it]\n",
      "17it [00:10,  1.65it/s]\n"
     ]
    },
    {
     "name": "stdout",
     "output_type": "stream",
     "text": [
      "Epoch: 076, Loss: 0.90819\n",
      "all: h@1: 0.31910 h@5: 0.53325 h@10: 0.61318 ndcg@1: 0.31910 ndcg@5: 0.43155 ndcg@10: 0.45736\n",
      "new: h@1: 0.02392 h@5: 0.21824 h@10: 0.31839 ndcg@1: 0.02392 ndcg@5: 0.11907 ndcg@10: 0.15168\n",
      "rep: h@1: 0.52268 h@5: 0.75052 h@10: 0.81649 ndcg@1: 0.52268 ndcg@5: 0.64707 ndcg@10: 0.66818\n",
      "ratio:  0.5918242830994509\n"
     ]
    },
    {
     "name": "stderr",
     "output_type": "stream",
     "text": [
      "100%|████████████████████████████████████████████████████████████████████████████████| 114/114 [02:55<00:00,  1.54s/it]\n",
      "17it [00:10,  1.64it/s]\n"
     ]
    },
    {
     "name": "stdout",
     "output_type": "stream",
     "text": [
      "Epoch: 077, Loss: 0.90487\n",
      "all: h@1: 0.31971 h@5: 0.52959 h@10: 0.61867 ndcg@1: 0.31971 ndcg@5: 0.43020 ndcg@10: 0.45882\n",
      "new: h@1: 0.02242 h@5: 0.19880 h@10: 0.32287 ndcg@1: 0.02242 ndcg@5: 0.11100 ndcg@10: 0.15080\n",
      "rep: h@1: 0.52474 h@5: 0.75773 h@10: 0.82268 ndcg@1: 0.52474 ndcg@5: 0.65035 ndcg@10: 0.67126\n",
      "ratio:  0.5918242830994509\n"
     ]
    },
    {
     "name": "stderr",
     "output_type": "stream",
     "text": [
      "100%|████████████████████████████████████████████████████████████████████████████████| 114/114 [02:55<00:00,  1.54s/it]\n",
      "17it [00:10,  1.66it/s]\n"
     ]
    },
    {
     "name": "stdout",
     "output_type": "stream",
     "text": [
      "Epoch: 078, Loss: 0.89939\n",
      "all: h@1: 0.32093 h@5: 0.52959 h@10: 0.61440 ndcg@1: 0.32093 ndcg@5: 0.43000 ndcg@10: 0.45768\n",
      "new: h@1: 0.02541 h@5: 0.20179 h@10: 0.32287 ndcg@1: 0.02541 ndcg@5: 0.11134 ndcg@10: 0.15083\n",
      "rep: h@1: 0.52474 h@5: 0.75567 h@10: 0.81546 ndcg@1: 0.52474 ndcg@5: 0.64978 ndcg@10: 0.66930\n",
      "ratio:  0.5918242830994509\n"
     ]
    },
    {
     "name": "stderr",
     "output_type": "stream",
     "text": [
      "100%|████████████████████████████████████████████████████████████████████████████████| 114/114 [02:55<00:00,  1.54s/it]\n",
      "17it [00:10,  1.65it/s]\n"
     ]
    },
    {
     "name": "stdout",
     "output_type": "stream",
     "text": [
      "Epoch: 079, Loss: 0.89761\n",
      "all: h@1: 0.31788 h@5: 0.52654 h@10: 0.61440 ndcg@1: 0.31788 ndcg@5: 0.42773 ndcg@10: 0.45617\n",
      "new: h@1: 0.02392 h@5: 0.19731 h@10: 0.31390 ndcg@1: 0.02392 ndcg@5: 0.10925 ndcg@10: 0.14707\n",
      "rep: h@1: 0.52062 h@5: 0.75361 h@10: 0.82165 ndcg@1: 0.52062 ndcg@5: 0.64739 ndcg@10: 0.66936\n",
      "ratio:  0.5918242830994509\n"
     ]
    },
    {
     "name": "stderr",
     "output_type": "stream",
     "text": [
      "100%|████████████████████████████████████████████████████████████████████████████████| 114/114 [02:56<00:00,  1.55s/it]\n",
      "17it [00:10,  1.62it/s]\n"
     ]
    },
    {
     "name": "stdout",
     "output_type": "stream",
     "text": [
      "Epoch: 080, Loss: 0.89223\n",
      "all: h@1: 0.31727 h@5: 0.53569 h@10: 0.61074 ndcg@1: 0.31727 ndcg@5: 0.43239 ndcg@10: 0.45690\n",
      "new: h@1: 0.02392 h@5: 0.20927 h@10: 0.30942 ndcg@1: 0.02392 ndcg@5: 0.11575 ndcg@10: 0.14843\n",
      "rep: h@1: 0.51959 h@5: 0.76082 h@10: 0.81856 ndcg@1: 0.51959 ndcg@5: 0.65078 ndcg@10: 0.66966\n",
      "ratio:  0.5918242830994509\n"
     ]
    },
    {
     "name": "stderr",
     "output_type": "stream",
     "text": [
      "100%|████████████████████████████████████████████████████████████████████████████████| 114/114 [02:56<00:00,  1.55s/it]\n",
      "17it [00:10,  1.65it/s]\n"
     ]
    },
    {
     "name": "stdout",
     "output_type": "stream",
     "text": [
      "Epoch: 081, Loss: 0.88890\n",
      "all: h@1: 0.32154 h@5: 0.53386 h@10: 0.61623 ndcg@1: 0.32154 ndcg@5: 0.43302 ndcg@10: 0.45964\n",
      "new: h@1: 0.02840 h@5: 0.20478 h@10: 0.32287 ndcg@1: 0.02840 ndcg@5: 0.11588 ndcg@10: 0.15391\n",
      "rep: h@1: 0.52371 h@5: 0.76082 h@10: 0.81856 ndcg@1: 0.52371 ndcg@5: 0.65175 ndcg@10: 0.67050\n",
      "ratio:  0.5918242830994509\n"
     ]
    },
    {
     "name": "stderr",
     "output_type": "stream",
     "text": [
      "100%|████████████████████████████████████████████████████████████████████████████████| 114/114 [02:56<00:00,  1.54s/it]\n",
      "17it [00:10,  1.64it/s]\n"
     ]
    },
    {
     "name": "stdout",
     "output_type": "stream",
     "text": [
      "Epoch: 082, Loss: 0.88650\n",
      "all: h@1: 0.31666 h@5: 0.53508 h@10: 0.61867 ndcg@1: 0.31666 ndcg@5: 0.43235 ndcg@10: 0.45920\n",
      "new: h@1: 0.02840 h@5: 0.21226 h@10: 0.31988 ndcg@1: 0.02840 ndcg@5: 0.11980 ndcg@10: 0.15413\n",
      "rep: h@1: 0.51546 h@5: 0.75773 h@10: 0.82474 ndcg@1: 0.51546 ndcg@5: 0.64791 ndcg@10: 0.66960\n",
      "ratio:  0.5918242830994509\n"
     ]
    },
    {
     "name": "stderr",
     "output_type": "stream",
     "text": [
      "100%|████████████████████████████████████████████████████████████████████████████████| 114/114 [02:56<00:00,  1.55s/it]\n",
      "17it [00:10,  1.61it/s]\n"
     ]
    },
    {
     "name": "stdout",
     "output_type": "stream",
     "text": [
      "Epoch: 083, Loss: 0.88461\n",
      "all: h@1: 0.31727 h@5: 0.53020 h@10: 0.61562 ndcg@1: 0.31727 ndcg@5: 0.42937 ndcg@10: 0.45702\n",
      "new: h@1: 0.02093 h@5: 0.20030 h@10: 0.31241 ndcg@1: 0.02093 ndcg@5: 0.11056 ndcg@10: 0.14700\n",
      "rep: h@1: 0.52165 h@5: 0.75773 h@10: 0.82474 ndcg@1: 0.52165 ndcg@5: 0.64925 ndcg@10: 0.67083\n",
      "ratio:  0.5918242830994509\n"
     ]
    },
    {
     "name": "stderr",
     "output_type": "stream",
     "text": [
      "100%|████████████████████████████████████████████████████████████████████████████████| 114/114 [02:58<00:00,  1.56s/it]\n",
      "17it [00:10,  1.63it/s]\n"
     ]
    },
    {
     "name": "stdout",
     "output_type": "stream",
     "text": [
      "Epoch: 084, Loss: 0.88167\n",
      "all: h@1: 0.32032 h@5: 0.53264 h@10: 0.61745 ndcg@1: 0.32032 ndcg@5: 0.43314 ndcg@10: 0.46083\n",
      "new: h@1: 0.02541 h@5: 0.20179 h@10: 0.31689 ndcg@1: 0.02541 ndcg@5: 0.11374 ndcg@10: 0.15145\n",
      "rep: h@1: 0.52371 h@5: 0.76082 h@10: 0.82474 ndcg@1: 0.52371 ndcg@5: 0.65343 ndcg@10: 0.67421\n",
      "ratio:  0.5918242830994509\n"
     ]
    },
    {
     "name": "stderr",
     "output_type": "stream",
     "text": [
      "100%|████████████████████████████████████████████████████████████████████████████████| 114/114 [02:57<00:00,  1.55s/it]\n",
      "17it [00:10,  1.61it/s]\n"
     ]
    },
    {
     "name": "stdout",
     "output_type": "stream",
     "text": [
      "Epoch: 085, Loss: 0.87658\n",
      "all: h@1: 0.31910 h@5: 0.52227 h@10: 0.61501 ndcg@1: 0.31910 ndcg@5: 0.42798 ndcg@10: 0.45809\n",
      "new: h@1: 0.02093 h@5: 0.18984 h@10: 0.31540 ndcg@1: 0.02093 ndcg@5: 0.10709 ndcg@10: 0.14782\n",
      "rep: h@1: 0.52474 h@5: 0.75155 h@10: 0.82165 ndcg@1: 0.52474 ndcg@5: 0.64929 ndcg@10: 0.67208\n",
      "ratio:  0.5918242830994509\n"
     ]
    },
    {
     "name": "stderr",
     "output_type": "stream",
     "text": [
      "24it [00:15,  1.58it/s]"
     ]
    },
    {
     "name": "stdout",
     "output_type": "stream",
     "text": [
      "Final score\n",
      "===========\n",
      "Epoch: 085, Loss: 0.87658\n",
      "all: h@1: 0.32123 h@5: 0.51752 h@10: 0.59941 ndcg@1: 0.32123 ndcg@5: 0.42629 ndcg@10: 0.45276\n",
      "new: h@1: 0.01469 h@5: 0.15422 h@10: 0.24725 ndcg@1: 0.01469 ndcg@5: 0.08583 ndcg@10: 0.11572\n",
      "rep: h@1: 0.48260 h@5: 0.70876 h@10: 0.78479 ndcg@1: 0.48260 ndcg@5: 0.60552 ndcg@10: 0.63019\n",
      "ratio:  0.6551287463064585\n"
     ]
    },
    {
     "name": "stderr",
     "output_type": "stream",
     "text": [
      "\n"
     ]
    }
   ],
   "source": [
    "print(\"training...\")\n",
    "for epoch in range(args.num_epochs):\n",
    "    loss_all = 0.0; loss_cnt = 0\n",
    "    model9.train()\n",
    "    for data in tqdm(train_loader):\n",
    "        data = data.to(args.device)\n",
    "        optimizer.zero_grad()\n",
    "    \n",
    "        loss = model9.train_step(data)\n",
    "            \n",
    "        loss_all += loss.item()\n",
    "        loss_cnt += (data[:,:,5]!=0).sum()\n",
    "        \n",
    "#         loss1 = loss.detach_().requires_grad_(True)\n",
    "#         loss1.backward()\n",
    "        loss.backward()\n",
    "        optimizer.step()\n",
    "            \n",
    "        if torch.isnan(loss):\n",
    "            print(\"loss is nan !\") \n",
    "    \n",
    "    scores = compute_recall(model9, val_loader, args, maxit=500)\n",
    "    print('Epoch: {:03d}, Loss: {:.5f}'.format(epoch, loss_all/loss_cnt))\n",
    "    print_scores(scores)\n",
    "    \n",
    "    hall = scores['all']['h01']\n",
    "    if hall>best_val:\n",
    "        best_val = hall\n",
    "        torch.save(model9.state_dict(), MPATH9)\n",
    "        best_cnt = best_max\n",
    "    else:\n",
    "        best_cnt -= 1\n",
    "        if best_cnt == 0:\n",
    "            break\n",
    "    \n",
    "model9= MODEL9(args).to(args.device)\n",
    "model9.load_state_dict(torch.load(MPATH9))\n",
    "    \n",
    "scores = compute_recall(model9, test_loader, args)\n",
    "print(\"Final score\")\n",
    "print(\"=\"*11)\n",
    "print('Epoch: {:03d}, Loss: {:.5f}'.format(epoch, loss_all/loss_cnt))\n",
    "print_scores(scores)\n",
    "save_scores(scores,args)"
   ]
  },
  {
   "cell_type": "code",
   "execution_count": null,
   "id": "6b70c95e",
   "metadata": {},
   "outputs": [],
   "source": []
  },
  {
   "cell_type": "code",
   "execution_count": 16,
   "id": "1fc5708b",
   "metadata": {},
   "outputs": [],
   "source": [
    "# 定义模型\n",
    "class TimeAwareAttentionMemory(torch.nn.Module):\n",
    "    def __init__(self, embedding_dim, memory_dim, num_intervals, interval_dim, output_dim):\n",
    "        super(TimeAwareAttentionMemory, self).__init__()\n",
    "        self.num_intervals = num_intervals\n",
    "\n",
    "        # 定义嵌入层\n",
    "        self.item_embedding = nn.Embedding(num_items, embedding_dim)  # item嵌入\n",
    "        self.interval_embedding = nn.Embedding(num_intervals, interval_dim)  # 间隔嵌入\n",
    "        self.time_embedding = nn.Embedding(num_intervals, embedding_dim)  # 时间间隔嵌入\n",
    "\n",
    "        # 定义记忆网络\n",
    "        self.memory_network = nn.LSTM(embedding_dim, memory_dim, batch_first=True)  # LSTM记忆网络\n",
    "\n",
    "        # 定义注意力网络和输出网络\n",
    "        self.attention_network = nn.Sequential(\n",
    "            nn.Linear(memory_dim + interval_dim, 1),  # 注意力网络\n",
    "            nn.Softmax(dim=1)\n",
    "        )\n",
    "        self.output_network = nn.Linear(memory_dim, output_dim)  # 输出网络\n",
    "\n",
    "    def forward(self, input_seq, interval_seq):\n",
    "        # 嵌入输入序列\n",
    "        input_emb = self.item_embedding(input_seq)  # 物品嵌入\n",
    "\n",
    "        # 嵌入时间间隔序列\n",
    "        interval_emb = self.interval_embedding(interval_seq)  # 间隔嵌入\n",
    "        time_emb = self.time_embedding(interval_seq)  # 时间间隔嵌入\n",
    "\n",
    "        # 嵌入时间间隔\n",
    "        interval_len = input_seq.size(1) // self.num_intervals  # 每个间隔的长度\n",
    "        intervals = (torch.arange(self.num_intervals) * interval_len).unsqueeze(0) + torch.arange(\n",
    "            interval_len).unsqueeze(1)  # 间隔序列\n",
    "        interval_emb = interval_emb[:, intervals]  # 每个间隔的嵌入\n",
    "        time_emb = time_emb[:, intervals]  # 每个时间间隔的嵌入\n",
    "\n",
    "        # 组合输入序列\n",
    "        packed_input = nn.utils.rnn.pack_padded_sequence(input_emb, input_lens, batch_first=True, enforce_sorted=False)\n",
    "\n",
    "        # 通过记忆网络处理输入序列\n",
    "        memory, _ = self.memory_network(packed_input)  # LSTM的输出\n",
    "\n",
    "        # 填充记忆向量序列\n",
    "        memory, _ = nn.utils.rnn.pad_packed_sequence(memory, batch_first=True)  # LSTM的输出序列\n",
    "\n",
    "        # 计算注意力分数\n",
    "        time_emb = time_emb.unsqueeze(2).repeat(1, 1, memory.size(2))  # 将时间间隔的嵌入复制到与记忆向量匹配的维度\n",
    "        attn_input = torch.cat([memory, interval_emb, time_emb], dim=2)  # 注意力计算的输入\n",
    "        attn_scores = self.attention_network(attn_input)  # 计算注意力权重\n",
    "\n",
    "        # 应用注意力到记忆向量\n",
    "        attn_scores = attn_scores.unsqueeze(2)\n",
    "        memory_attn = (attn_scores * memory).sum(dim=1)  # 注意力记忆向量\n",
    "\n",
    "        # 通过输出网络处理记忆向量\n",
    "        output = self.output_network(memory_attn)  # 最终输出\n",
    "        return output"
   ]
  }
 ],
 "metadata": {
  "kernelspec": {
   "display_name": "base",
   "language": "python",
   "name": "base"
  },
  "language_info": {
   "codemirror_mode": {
    "name": "ipython",
    "version": 3
   },
   "file_extension": ".py",
   "mimetype": "text/x-python",
   "name": "python",
   "nbconvert_exporter": "python",
   "pygments_lexer": "ipython3",
   "version": "3.9.13"
  }
 },
 "nbformat": 4,
 "nbformat_minor": 5
}
