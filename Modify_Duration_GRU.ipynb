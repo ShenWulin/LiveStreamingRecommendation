{
 "cells": [
  {
   "cell_type": "code",
   "execution_count": 1,
   "id": "e9528aa3",
   "metadata": {},
   "outputs": [],
   "source": [
    "import pandas as pd\n",
    "import numpy as np\n",
    "import matplotlib.pyplot as plt\n",
    "\n",
    "from sampling import *\n",
    "\n",
    "import torch.utils.data as data\n",
    "from torch.utils.data import DataLoader\n",
    "\n",
    "import torch\n",
    "import torch.optim as optim\n",
    "\n",
    "import os\n",
    "import torch\n",
    "import pickle\n",
    "from tqdm import tqdm"
   ]
  },
  {
   "cell_type": "code",
   "execution_count": 2,
   "id": "c5d07ad4",
   "metadata": {},
   "outputs": [],
   "source": [
    "import argparse\n",
    "from prettytable import PrettyTable"
   ]
  },
  {
   "cell_type": "code",
   "execution_count": 3,
   "id": "e4e0dc72",
   "metadata": {},
   "outputs": [],
   "source": [
    "def print_args(parse_args):\n",
    "    x = PrettyTable()\n",
    "    x.field_names = [\"Arg.\", \"Value\"]\n",
    "    for arg in vars(parse_args):\n",
    "        x.add_row([arg, getattr(parse_args, arg)])\n",
    "    print(x)"
   ]
  },
  {
   "cell_type": "code",
   "execution_count": 4,
   "id": "d87abbaf",
   "metadata": {},
   "outputs": [],
   "source": [
    "def arg_parse():\n",
    "        parser = argparse.ArgumentParser(description='LiveRec - Douyu')\n",
    "\n",
    "        parser.add_argument('--seed', dest='seed', type=int,\n",
    "            help='Random seed')\n",
    "\n",
    "        parser.add_argument('--batch_size', dest='batch_size', type=int,\n",
    "            help='Batch size - only active if torch is used')\n",
    "        parser.add_argument('--seq_len', dest='seq_len', type=int,\n",
    "            help='Max size of the sequence to consider')\n",
    "\n",
    "        parser.add_argument('--num_heads', dest='num_heads', type=int,\n",
    "            help='Numer of heads to use for multi-heads attention')\n",
    "        parser.add_argument('--num_heads_ctx', dest='num_heads_ctx', type=int,\n",
    "            help='Numer of heads to use for multi-heads attention CTX')\n",
    "\n",
    "\n",
    "        parser.add_argument('--dataset', dest='dataset', \n",
    "            help='Input dataset.')\n",
    " \n",
    "        parser.add_argument('--model', dest='model', type=str,\n",
    "            help='Type of the model')\n",
    "\n",
    "        parser.add_argument('--model_from', dest='mfrom', type=str,\n",
    "            help='Name of the model to load')\n",
    "        parser.add_argument('--model_to', dest='mto', type=str,\n",
    "            help='Name of the model to save')\n",
    "        parser.add_argument('--cache_dir', dest='cache_dir', type=str,\n",
    "            help='Path to save the cached preprocessd dataset')\n",
    " \n",
    "        parser.add_argument('--model_path', dest='model_path', type=str,\n",
    "            help='Path to save the model')\n",
    "        parser.add_argument('--early_stop', dest='early_stop', type=int,\n",
    "            help='Number of iteration without improvment before stop')\n",
    "        parser.add_argument('--ev_sample', dest='ev_sample', type=int,\n",
    "            help='Number of samples for the final evaluation')\n",
    "        parser.add_argument('--device', dest='device', type=str,\n",
    "            help='Pytorch device')\n",
    "\n",
    "        parser.add_argument('--lr', dest='lr', type=float,\n",
    "            help='Learning rate.')\n",
    "        parser.add_argument('--mask_prob', dest='mask_prob', type=float,\n",
    "            help='BERT mask prob.')\n",
    "        parser.add_argument('--l2', dest='l2', type=float,\n",
    "            help='Strength of L2 regularization')\n",
    "        parser.add_argument('--dim', dest='K', type=int,\n",
    "            help='Number of latent factors')\n",
    " \n",
    "        parser.add_argument('--num_iters', dest='num_iter', type=int,\n",
    "            help='Number of training iterations')\n",
    "        parser.add_argument('--num_epochs', dest='num_epochs', type=int,\n",
    "            help='Number of training epochs')\n",
    "        parser.add_argument('--num_att', dest='num_att', type=int,\n",
    "            help='Num attention module for seq encoding')\n",
    "        parser.add_argument('--num_att_ctx', dest='num_att_ctx', type=int,\n",
    "            help='Num attention for ctx module')\n",
    " \n",
    "        parser.add_argument('--topk_att', dest='topk_att', type=int,\n",
    "            help='Items to send to attentive output')\n",
    "\n",
    "        parser.add_argument('--fr_ctx', dest='fr_ctx', nargs='?',\n",
    "            const=True, default=True,\n",
    "            help='')\n",
    "        parser.add_argument('--r_rep', dest='fr_rep', nargs='?',\n",
    "            const=True, default=False,\n",
    "            help='')\n",
    "        parser.add_argument('--uniform', dest='uniform', nargs='?',\n",
    "            const=True, default=False,\n",
    "            help='')\n",
    "        parser.add_argument('--debug', dest='debug', nargs='?',\n",
    "            const=True, default=False,\n",
    "            help='')\n",
    "#         parser.add_argument('--caching', dest='caching', nargs='?',\n",
    "#             const=True, default=False,\n",
    "#             help='')\n",
    "        parser.add_argument('--caching', dest='caching', nargs='?',\n",
    "            const=True, default=True,\n",
    "            help='')\n",
    "\n",
    "        parser.set_defaults(\n",
    "                        seed=42,\n",
    "                        dataset=\"\",\n",
    "                        lr=0.0005,\n",
    "                        l2=0.1,  \n",
    "                        mask_prob=0.5,  \n",
    "                        batch_size=100, \n",
    "                        num_att=2,\n",
    "                        num_att_ctx=2,\n",
    "                        num_heads=4,\n",
    "                        num_heads_ctx=4,\n",
    "                        num_iter=200,\n",
    "                        seq_len=16,  \n",
    "                        topk_att=64,  \n",
    "                        early_stop=15,  \n",
    "                        K=64,  \n",
    "                        num_epochs=150,\n",
    "#                         model=\"LiveRec\",\n",
    "                        model=\"POP\",\n",
    "                        model_path=\"\",\n",
    "                        mto=\"liverec\",\n",
    "                        device=\"cuda\",\n",
    "                        cache_dir=\"\"\n",
    "                       )\n",
    "\n",
    "\n",
    "        args, unknown = parser.parse_known_args()\n",
    "        return args "
   ]
  },
  {
   "cell_type": "code",
   "execution_count": 5,
   "id": "3315d41f",
   "metadata": {
    "scrolled": true
   },
   "outputs": [
    {
     "name": "stdout",
     "output_type": "stream",
     "text": [
      "+---------------+---------+\n",
      "|      Arg.     |  Value  |\n",
      "+---------------+---------+\n",
      "|      seed     |    42   |\n",
      "|   batch_size  |   100   |\n",
      "|    seq_len    |    16   |\n",
      "|   num_heads   |    4    |\n",
      "| num_heads_ctx |    4    |\n",
      "|    dataset    |         |\n",
      "|     model     |   POP   |\n",
      "|     mfrom     |   None  |\n",
      "|      mto      | liverec |\n",
      "|   cache_dir   |         |\n",
      "|   model_path  |         |\n",
      "|   early_stop  |    15   |\n",
      "|   ev_sample   |   None  |\n",
      "|     device    |   cuda  |\n",
      "|       lr      |  0.0005 |\n",
      "|   mask_prob   |   0.5   |\n",
      "|       l2      |   0.1   |\n",
      "|       K       |    64   |\n",
      "|    num_iter   |   200   |\n",
      "|   num_epochs  |   150   |\n",
      "|    num_att    |    2    |\n",
      "|  num_att_ctx  |    2    |\n",
      "|    topk_att   |    64   |\n",
      "|     fr_ctx    |   True  |\n",
      "|     fr_rep    |  False  |\n",
      "|    uniform    |  False  |\n",
      "|     debug     |  False  |\n",
      "|    caching    |   True  |\n",
      "+---------------+---------+\n"
     ]
    }
   ],
   "source": [
    "args = arg_parse()\n",
    "print_args(args)\n",
    "args.device = torch.device(args.device)\n",
    "args.device = 'cpu'"
   ]
  },
  {
   "cell_type": "code",
   "execution_count": 6,
   "id": "1530c10f",
   "metadata": {},
   "outputs": [
    {
     "name": "stdout",
     "output_type": "stream",
     "text": [
      "+---------------+---------+\n",
      "|      Arg.     |  Value  |\n",
      "+---------------+---------+\n",
      "|      seed     |    42   |\n",
      "|   batch_size  |   100   |\n",
      "|    seq_len    |    16   |\n",
      "|   num_heads   |    4    |\n",
      "| num_heads_ctx |    4    |\n",
      "|    dataset    |         |\n",
      "|     model     |   POP   |\n",
      "|     mfrom     |   None  |\n",
      "|      mto      | liverec |\n",
      "|   cache_dir   |         |\n",
      "|   model_path  |         |\n",
      "|   early_stop  |    15   |\n",
      "|   ev_sample   |   None  |\n",
      "|     device    |   cpu   |\n",
      "|       lr      |  0.0005 |\n",
      "|   mask_prob   |   0.5   |\n",
      "|       l2      |   0.1   |\n",
      "|       K       |    64   |\n",
      "|    num_iter   |   200   |\n",
      "|   num_epochs  |   150   |\n",
      "|    num_att    |    2    |\n",
      "|  num_att_ctx  |    2    |\n",
      "|    topk_att   |    64   |\n",
      "|     fr_ctx    |   True  |\n",
      "|     fr_rep    |  False  |\n",
      "|    uniform    |  False  |\n",
      "|     debug     |  False  |\n",
      "|    caching    |   True  |\n",
      "+---------------+---------+\n"
     ]
    }
   ],
   "source": [
    "print_args(args)"
   ]
  },
  {
   "cell_type": "code",
   "execution_count": 7,
   "id": "63c6f849",
   "metadata": {},
   "outputs": [
    {
     "name": "stdout",
     "output_type": "stream",
     "text": [
      "Num users:  11610\n",
      "Num streamers:  47612\n",
      "Num interactions:  5378125\n"
     ]
    }
   ],
   "source": [
    "INFILE = os.path.join(args.dataset,'douyu_10k_min_duration.csv')\n",
    "#user,streamer_id,start,stop\n",
    "cols = [\"user\",\"streamer\",\"start\",\"stop\",\"duration\"]\n",
    "data_fu = pd.read_csv(INFILE, header=None, names=cols)\n",
    "# data_fu = data_fu.head(10000)\n",
    "\n",
    "\n",
    "# Add one for padding\n",
    "data_fu.user = pd.factorize(data_fu.user)[0]+1\n",
    "data_fu['streamer_raw'] = data_fu.streamer\n",
    "data_fu.streamer = pd.factorize(data_fu.streamer)[0]+1\n",
    "print(\"Num users: \", data_fu.user.nunique())\n",
    "print(\"Num streamers: \", data_fu.streamer.nunique())\n",
    "print(\"Num interactions: \", len(data_fu))"
   ]
  },
  {
   "cell_type": "code",
   "execution_count": 8,
   "id": "ba08e9b3",
   "metadata": {},
   "outputs": [
    {
     "data": {
      "text/plain": [
       "(0, 87839, 1, 87840)"
      ]
     },
     "execution_count": 8,
     "metadata": {},
     "output_type": "execute_result"
    }
   ],
   "source": [
    "data_fu.start.min(),data_fu.start.max(),data_fu.stop.min(),data_fu.stop.max()"
   ]
  },
  {
   "cell_type": "code",
   "execution_count": 9,
   "id": "523862d1",
   "metadata": {},
   "outputs": [
    {
     "data": {
      "text/plain": [
       "(11611, 47614, 2883, 87840)"
      ]
     },
     "execution_count": 9,
     "metadata": {},
     "output_type": "execute_result"
    }
   ],
   "source": [
    "args.M = data_fu.user.max()+1 # users\n",
    "args.N = data_fu.streamer.max()+2 # items\n",
    "args.D = data_fu.duration.max()+1 # duration\n",
    "args.T = data_fu.start.max()+1\n",
    "\n",
    "data_temp = data_fu.drop_duplicates(subset=['streamer','streamer_raw'])\n",
    "umap      = dict(zip(data_temp.streamer_raw.tolist(),data_temp.streamer.tolist()))\n",
    "\n",
    "args.M ,args.N ,args.D,args.T"
   ]
  },
  {
   "cell_type": "code",
   "execution_count": 10,
   "id": "5976772a",
   "metadata": {},
   "outputs": [
    {
     "name": "stdout",
     "output_type": "stream",
     "text": [
      "Num timesteps:  87840\n"
     ]
    }
   ],
   "source": [
    "# Splitting and caching\n",
    "max_step = max(data_fu.start.max(),data_fu.stop.max())\n",
    "print(\"Num timesteps: \", max_step)\n",
    "args.max_step = max_step\n",
    "args.pivot_1  = max_step-500\n",
    "args.pivot_2  = max_step-250"
   ]
  },
  {
   "cell_type": "code",
   "execution_count": 11,
   "id": "1e28e984",
   "metadata": {},
   "outputs": [
    {
     "name": "stdout",
     "output_type": "stream",
     "text": [
      "caching availability\n",
      "max_avail:  446\n"
     ]
    }
   ],
   "source": [
    "print(\"caching availability\")\n",
    "ts = {}\n",
    "max_avail = 0\n",
    "for s in range(max_step):\n",
    "    all_av = data_fu[(data_fu.start<=s) & (data_fu.stop>s)].streamer.unique().tolist()\n",
    "    ts[s] = all_av\n",
    "    max_avail = max(max_avail,len(ts[s]))\n",
    "args.max_avail = max_avail\n",
    "args.ts = ts\n",
    "print(\"max_avail: \", max_avail)\n",
    "\n",
    "# ts.items()"
   ]
  },
  {
   "cell_type": "code",
   "execution_count": 12,
   "id": "cfda2456",
   "metadata": {},
   "outputs": [
    {
     "data": {
      "text/plain": [
       "torch.Size([87840, 446])"
      ]
     },
     "execution_count": 12,
     "metadata": {},
     "output_type": "execute_result"
    }
   ],
   "source": [
    "# Compute availability matrix of size (num_timesteps x max_available)\n",
    "max_av   = max([len(v) for k,v in args.ts.items()])\n",
    "max_step = max([k for k,v in args.ts.items()])+1\n",
    "av_tens = torch.zeros(max_step,max_av).type(torch.long)\n",
    "for k,v in args.ts.items():\n",
    "    av_tens[k,:len(v)] = torch.LongTensor(v)\n",
    "args.av_tens = av_tens.to(args.device)\n",
    "\n",
    "args.av_tens.size()"
   ]
  },
  {
   "cell_type": "code",
   "execution_count": 13,
   "id": "65f74c45",
   "metadata": {
    "scrolled": true
   },
   "outputs": [
    {
     "data": {
      "text/html": [
       "<div>\n",
       "<style scoped>\n",
       "    .dataframe tbody tr th:only-of-type {\n",
       "        vertical-align: middle;\n",
       "    }\n",
       "\n",
       "    .dataframe tbody tr th {\n",
       "        vertical-align: top;\n",
       "    }\n",
       "\n",
       "    .dataframe thead th {\n",
       "        text-align: right;\n",
       "    }\n",
       "</style>\n",
       "<table border=\"1\" class=\"dataframe\">\n",
       "  <thead>\n",
       "    <tr style=\"text-align: right;\">\n",
       "      <th></th>\n",
       "      <th>user</th>\n",
       "      <th>streamer</th>\n",
       "      <th>start</th>\n",
       "      <th>stop</th>\n",
       "      <th>duration</th>\n",
       "      <th>streamer_raw</th>\n",
       "    </tr>\n",
       "  </thead>\n",
       "  <tbody>\n",
       "    <tr>\n",
       "      <th>0</th>\n",
       "      <td>1</td>\n",
       "      <td>1</td>\n",
       "      <td>81824</td>\n",
       "      <td>81825</td>\n",
       "      <td>2</td>\n",
       "      <td>1211089da67</td>\n",
       "    </tr>\n",
       "    <tr>\n",
       "      <th>1</th>\n",
       "      <td>1</td>\n",
       "      <td>2</td>\n",
       "      <td>73720</td>\n",
       "      <td>73721</td>\n",
       "      <td>1</td>\n",
       "      <td>eb5bf69ab60</td>\n",
       "    </tr>\n",
       "    <tr>\n",
       "      <th>2</th>\n",
       "      <td>1</td>\n",
       "      <td>1</td>\n",
       "      <td>81825</td>\n",
       "      <td>81834</td>\n",
       "      <td>18</td>\n",
       "      <td>1211089da67</td>\n",
       "    </tr>\n",
       "    <tr>\n",
       "      <th>3</th>\n",
       "      <td>1</td>\n",
       "      <td>2</td>\n",
       "      <td>73673</td>\n",
       "      <td>73676</td>\n",
       "      <td>4</td>\n",
       "      <td>eb5bf69ab60</td>\n",
       "    </tr>\n",
       "    <tr>\n",
       "      <th>4</th>\n",
       "      <td>1</td>\n",
       "      <td>1</td>\n",
       "      <td>81745</td>\n",
       "      <td>81750</td>\n",
       "      <td>9</td>\n",
       "      <td>1211089da67</td>\n",
       "    </tr>\n",
       "    <tr>\n",
       "      <th>...</th>\n",
       "      <td>...</td>\n",
       "      <td>...</td>\n",
       "      <td>...</td>\n",
       "      <td>...</td>\n",
       "      <td>...</td>\n",
       "      <td>...</td>\n",
       "    </tr>\n",
       "    <tr>\n",
       "      <th>5378120</th>\n",
       "      <td>11610</td>\n",
       "      <td>8849</td>\n",
       "      <td>21366</td>\n",
       "      <td>21368</td>\n",
       "      <td>2</td>\n",
       "      <td>80ec36cddc2</td>\n",
       "    </tr>\n",
       "    <tr>\n",
       "      <th>5378121</th>\n",
       "      <td>11610</td>\n",
       "      <td>8849</td>\n",
       "      <td>21364</td>\n",
       "      <td>21367</td>\n",
       "      <td>4</td>\n",
       "      <td>80ec36cddc2</td>\n",
       "    </tr>\n",
       "    <tr>\n",
       "      <th>5378122</th>\n",
       "      <td>11610</td>\n",
       "      <td>8849</td>\n",
       "      <td>21319</td>\n",
       "      <td>21332</td>\n",
       "      <td>24</td>\n",
       "      <td>80ec36cddc2</td>\n",
       "    </tr>\n",
       "    <tr>\n",
       "      <th>5378123</th>\n",
       "      <td>11610</td>\n",
       "      <td>8849</td>\n",
       "      <td>21362</td>\n",
       "      <td>21365</td>\n",
       "      <td>4</td>\n",
       "      <td>80ec36cddc2</td>\n",
       "    </tr>\n",
       "    <tr>\n",
       "      <th>5378124</th>\n",
       "      <td>11610</td>\n",
       "      <td>8849</td>\n",
       "      <td>21303</td>\n",
       "      <td>21312</td>\n",
       "      <td>16</td>\n",
       "      <td>80ec36cddc2</td>\n",
       "    </tr>\n",
       "  </tbody>\n",
       "</table>\n",
       "<p>5378125 rows × 6 columns</p>\n",
       "</div>"
      ],
      "text/plain": [
       "          user  streamer  start   stop  duration streamer_raw\n",
       "0            1         1  81824  81825         2  1211089da67\n",
       "1            1         2  73720  73721         1  eb5bf69ab60\n",
       "2            1         1  81825  81834        18  1211089da67\n",
       "3            1         2  73673  73676         4  eb5bf69ab60\n",
       "4            1         1  81745  81750         9  1211089da67\n",
       "...        ...       ...    ...    ...       ...          ...\n",
       "5378120  11610      8849  21366  21368         2  80ec36cddc2\n",
       "5378121  11610      8849  21364  21367         4  80ec36cddc2\n",
       "5378122  11610      8849  21319  21332        24  80ec36cddc2\n",
       "5378123  11610      8849  21362  21365         4  80ec36cddc2\n",
       "5378124  11610      8849  21303  21312        16  80ec36cddc2\n",
       "\n",
       "[5378125 rows x 6 columns]"
      ]
     },
     "execution_count": 13,
     "metadata": {},
     "output_type": "execute_result"
    }
   ],
   "source": [
    "data_fu"
   ]
  },
  {
   "cell_type": "code",
   "execution_count": null,
   "id": "060a280a",
   "metadata": {},
   "outputs": [],
   "source": []
  },
  {
   "cell_type": "code",
   "execution_count": 14,
   "id": "a41cdb34",
   "metadata": {},
   "outputs": [],
   "source": [
    "def custom_collate(batch,args):\n",
    "    # returns a [batch x seq x feats] tensor\n",
    "    # feats: [padded_positions,positions,inputs_ts,items,users,targets,targets_ts]\n",
    "\n",
    "    bs = len(batch)\n",
    "    feat_len = len(batch[0])\n",
    "    batch_seq = torch.zeros(bs,args.seq_len, feat_len, dtype=torch.long)\n",
    "    for ib,b in enumerate(batch):\n",
    "        for ifeat,feat in enumerate(b):\n",
    "            batch_seq[ib,b[0],ifeat] = feat\n",
    "    return batch_seq"
   ]
  },
  {
   "cell_type": "code",
   "execution_count": 15,
   "id": "3dce8fd5",
   "metadata": {},
   "outputs": [],
   "source": [
    "class SequenceDataset(data.Dataset):\n",
    "    def __init__(self, data):\n",
    "        self.data = data\n",
    "\n",
    "    def __len__(self):\n",
    "        return len(self.data)\n",
    "\n",
    "    def __getitem__(self, idx):\n",
    "        return self.data[idx]\n",
    "\n",
    "def collate_fn_padd(batch):\n",
    "    '''\n",
    "    Padds batch of variable length\n",
    "\n",
    "    note: it converts things ToTensor manually here since the ToTensor transform\n",
    "    assume it takes in images rather than arbitrary tensors.\n",
    "    '''\n",
    "    ## get sequence lengths\n",
    "    lengths = torch.tensor([ t.shape[0] for t in batch ]).to(device)\n",
    "    ## padd\n",
    "    batch = [ torch.Tensor(t).to(device) for t in batch ]\n",
    "    batch = torch.nn.utils.rnn.pad_sequence(batch)\n",
    "    ## compute mask\n",
    "    mask = (batch != 0).to(device)\n",
    "    return batch, lengths, mask\n",
    "\n",
    "def get_sequences(_data, _p1, _p2, args, max_u=int(10e9)):\n",
    "    data_list = []\n",
    "\n",
    "    _data = _data[_data.stop<_p2].copy()\n",
    "    \n",
    "    grouped = _data.groupby('user')\n",
    "    for user_id, group in tqdm(grouped):\n",
    "        group = group.sort_values('start')\n",
    "        group = group.tail(args.seq_len+1)\n",
    "        if len(group)<2: continue\n",
    "\n",
    "        group = group.reset_index(drop=True) \n",
    "        \n",
    "        # Get last interaction\n",
    "        last_el = group.tail(1)\n",
    "        yt = last_el.start.values[0]\n",
    "        group.drop(last_el.index,inplace=True)\n",
    "\n",
    "        # avoid including train in test/validation\n",
    "        if yt < _p1 or yt >= _p2: continue\n",
    "\n",
    "        padlen = args.seq_len - len(group)\n",
    "\n",
    "        # sequence input features\n",
    "        positions  = torch.LongTensor(group.index.values)\n",
    "        inputs_ts  = torch.LongTensor(group.start.values)\n",
    "        items      = torch.LongTensor(group['streamer'].values)\n",
    "        duration   = torch.LongTensor(group['duration'].values)\n",
    "        users      = torch.LongTensor(group.user.values)\n",
    "        bpad       = torch.LongTensor(group.index.values + padlen)\n",
    "#         diff_du    = torch.LongTensor(np.diff(np.array(inputs_ts[1:].tolist() + [last_el.start.values[0]])))\n",
    "\n",
    "        # sequence output features\n",
    "        targets    = torch.LongTensor(items[1:].tolist() + [last_el.streamer.values[0]])\n",
    "        targets_ts = torch.LongTensor(inputs_ts[1:].tolist() + [last_el.start.values[0]])\n",
    "\n",
    "        data_list.append([bpad,positions,inputs_ts,items,users,targets,targets_ts,duration])\n",
    "#         data_list.append([bpad,positions,inputs_ts,items,users,targets,targets_ts,duration,diff_du])\n",
    "        # stop if user limit is reached\n",
    "        if len(data_list)>max_u: break\n",
    "\n",
    "    return SequenceDataset(data_list)"
   ]
  },
  {
   "cell_type": "code",
   "execution_count": null,
   "id": "39e8cf6c",
   "metadata": {},
   "outputs": [],
   "source": []
  },
  {
   "cell_type": "code",
   "execution_count": 16,
   "id": "f5431d58",
   "metadata": {
    "scrolled": true
   },
   "outputs": [],
   "source": [
    "# _data = data_fu[data_fu.stop<50000].copy()\n",
    "# grouped = _data.groupby('user')\n",
    "# group = grouped.get_group(1)\n",
    "\n",
    "# group = group.sort_values('start')\n",
    "# group = group.tail(args.seq_len+1)\n",
    "# group = group.reset_index(drop=True)\n",
    "\n",
    "# last_el = group.tail(1)\n",
    "# yt = last_el.start.values[0]\n",
    "# group.drop(last_el.index,inplace=True)\n",
    "# group\n",
    "\n",
    "# padlen = args.seq_len - len(group)\n",
    "\n",
    "# bpad       = torch.LongTensor(group.index.values + padlen)\n",
    "# positions  = torch.LongTensor(group.index.values)\n",
    "# inputs_ts  = torch.LongTensor(group.start.values)\n",
    "# items      = torch.LongTensor(group['streamer'].values)\n",
    "# users      = torch.LongTensor(group.user.values)\n",
    "# targets    = torch.LongTensor(items[1:].tolist() + [last_el.streamer.values[0]])\n",
    "# targets_ts = torch.LongTensor(inputs_ts[1:].tolist() + [last_el.start.values[0]])\n",
    "\n",
    "# bpad,positions,inputs_ts,items,users,targets,targets_ts"
   ]
  },
  {
   "cell_type": "code",
   "execution_count": null,
   "id": "d969267b",
   "metadata": {},
   "outputs": [],
   "source": []
  },
  {
   "cell_type": "code",
   "execution_count": 17,
   "id": "99884a2b",
   "metadata": {},
   "outputs": [],
   "source": [
    "cache_tr = os.path.join(args.cache_dir,\"douyu_10k_min_dur_tr.p\")\n",
    "cache_te = os.path.join(args.cache_dir,\"douyu_10k_min_dur_te.p\")\n",
    "cache_va = os.path.join(args.cache_dir,\"douyu_10k_min_dur_val.p\")\n",
    "\n",
    "mu = int(10e9)"
   ]
  },
  {
   "cell_type": "code",
   "execution_count": 18,
   "id": "9702a249",
   "metadata": {},
   "outputs": [
    {
     "name": "stderr",
     "output_type": "stream",
     "text": [
      "100%|██████████████████████████████████████████████████████████████████████████| 11591/11591 [00:06<00:00, 1771.20it/s]\n",
      "100%|██████████████████████████████████████████████████████████████████████████| 11600/11600 [00:04<00:00, 2408.01it/s]\n",
      "100%|██████████████████████████████████████████████████████████████████████████| 11610/11610 [00:04<00:00, 2354.72it/s]\n"
     ]
    }
   ],
   "source": [
    "datalist_tr = get_sequences(data_fu,0,args.pivot_1,args,mu)\n",
    "datalist_va = get_sequences(data_fu,args.pivot_1,args.pivot_2,args,mu)\n",
    "datalist_te = get_sequences(data_fu,args.pivot_2,max_step,args,mu)\n",
    "    \n",
    "pickle.dump(datalist_te, open(cache_te, \"wb\"))\n",
    "pickle.dump(datalist_tr, open(cache_tr, \"wb\"))\n",
    "pickle.dump(datalist_va, open(cache_va, \"wb\"))"
   ]
  },
  {
   "cell_type": "code",
   "execution_count": 19,
   "id": "f790ff31",
   "metadata": {},
   "outputs": [],
   "source": [
    "datalist_tr = pickle.load(open(cache_tr, \"rb\"))\n",
    "datalist_va = pickle.load(open(cache_va, \"rb\"))\n",
    "datalist_te = pickle.load(open(cache_te, \"rb\"))"
   ]
  },
  {
   "cell_type": "code",
   "execution_count": 20,
   "id": "13367fd0",
   "metadata": {},
   "outputs": [],
   "source": [
    "train_loader = DataLoader(datalist_tr,batch_size=args.batch_size,\n",
    "                              collate_fn=lambda x: custom_collate(x,args))\n",
    "val_loader   = DataLoader(datalist_va,batch_size=args.batch_size,\n",
    "                              collate_fn=lambda x: custom_collate(x,args))\n",
    "test_loader  = DataLoader(datalist_te,batch_size=args.batch_size,\n",
    "                              collate_fn=lambda x: custom_collate(x,args))"
   ]
  },
  {
   "cell_type": "code",
   "execution_count": null,
   "id": "4d37663e",
   "metadata": {},
   "outputs": [],
   "source": []
  },
  {
   "cell_type": "code",
   "execution_count": 21,
   "id": "4ef06533",
   "metadata": {},
   "outputs": [],
   "source": [
    "from eval import *\n",
    "from data import *\n",
    "from modify_duration_gru import *\n",
    "# from modify_duration_gru import get_model_type"
   ]
  },
  {
   "cell_type": "code",
   "execution_count": null,
   "id": "d637fd5a",
   "metadata": {},
   "outputs": [],
   "source": []
  },
  {
   "cell_type": "code",
   "execution_count": 22,
   "id": "7142f8bc",
   "metadata": {},
   "outputs": [],
   "source": [
    "# args.lr = 0.001\n",
    "# args.l2 = 0.001\n",
    "# args.r_rep = args.fr_rep"
   ]
  },
  {
   "cell_type": "code",
   "execution_count": 23,
   "id": "e5321592",
   "metadata": {},
   "outputs": [],
   "source": [
    "args.model='LiveRec_dur_gru'\n",
    "MPATH8,MODEL8 = get_model_type(args)\n",
    "MPATH8,MODEL8\n",
    "model8 = MODEL8(args).to(args.device)\n",
    "optimizer = optim.Adam(model8.parameters(),lr=args.lr,weight_decay=args.l2)\n",
    "\n",
    "best_val = 0.0\n",
    "best_max = args.early_stop\n",
    "best_cnt = best_max"
   ]
  },
  {
   "cell_type": "code",
   "execution_count": 26,
   "id": "f766d3a8",
   "metadata": {
    "scrolled": true
   },
   "outputs": [
    {
     "name": "stdout",
     "output_type": "stream",
     "text": [
      "training...\n"
     ]
    },
    {
     "name": "stderr",
     "output_type": "stream",
     "text": [
      "100%|████████████████████████████████████████████████████████████████████████████████| 114/114 [03:06<00:00,  1.64s/it]\n",
      "17it [00:11,  1.43it/s]\n"
     ]
    },
    {
     "name": "stdout",
     "output_type": "stream",
     "text": [
      "Epoch: 000, Loss: 1.45289\n",
      "all: h@1: 0.16595 h@5: 0.31117 h@10: 0.37950 ndcg@1: 0.16595 ndcg@5: 0.24246 ndcg@10: 0.26422\n",
      "new: h@1: 0.01196 h@5: 0.06428 h@10: 0.11360 ndcg@1: 0.01196 ndcg@5: 0.03740 ndcg@10: 0.05297\n",
      "rep: h@1: 0.27216 h@5: 0.48144 h@10: 0.56289 ndcg@1: 0.27216 ndcg@5: 0.38389 ndcg@10: 0.40992\n",
      "ratio:  0.5918242830994509\n"
     ]
    },
    {
     "name": "stderr",
     "output_type": "stream",
     "text": [
      "100%|████████████████████████████████████████████████████████████████████████████████| 114/114 [03:09<00:00,  1.66s/it]\n",
      "17it [00:12,  1.40it/s]\n"
     ]
    },
    {
     "name": "stdout",
     "output_type": "stream",
     "text": [
      "Epoch: 001, Loss: 1.29789\n",
      "all: h@1: 0.18060 h@5: 0.33557 h@10: 0.39719 ndcg@1: 0.18060 ndcg@5: 0.26199 ndcg@10: 0.28195\n",
      "new: h@1: 0.01345 h@5: 0.07175 h@10: 0.12556 ndcg@1: 0.01345 ndcg@5: 0.04240 ndcg@10: 0.05972\n",
      "rep: h@1: 0.29588 h@5: 0.51753 h@10: 0.58454 ndcg@1: 0.29588 ndcg@5: 0.41344 ndcg@10: 0.43522\n",
      "ratio:  0.5918242830994509\n"
     ]
    },
    {
     "name": "stderr",
     "output_type": "stream",
     "text": [
      "100%|████████████████████████████████████████████████████████████████████████████████| 114/114 [03:09<00:00,  1.67s/it]\n",
      "17it [00:12,  1.42it/s]\n"
     ]
    },
    {
     "name": "stdout",
     "output_type": "stream",
     "text": [
      "Epoch: 002, Loss: 1.25936\n",
      "all: h@1: 0.17816 h@5: 0.34167 h@10: 0.41306 ndcg@1: 0.17816 ndcg@5: 0.26306 ndcg@10: 0.28633\n",
      "new: h@1: 0.01495 h@5: 0.07623 h@10: 0.13004 ndcg@1: 0.01495 ndcg@5: 0.04603 ndcg@10: 0.06366\n",
      "rep: h@1: 0.29072 h@5: 0.52474 h@10: 0.60825 ndcg@1: 0.29072 ndcg@5: 0.41274 ndcg@10: 0.43990\n",
      "ratio:  0.5918242830994509\n"
     ]
    },
    {
     "name": "stderr",
     "output_type": "stream",
     "text": [
      "100%|████████████████████████████████████████████████████████████████████████████████| 114/114 [03:09<00:00,  1.66s/it]\n",
      "17it [00:12,  1.38it/s]\n"
     ]
    },
    {
     "name": "stdout",
     "output_type": "stream",
     "text": [
      "Epoch: 003, Loss: 1.23579\n",
      "all: h@1: 0.17877 h@5: 0.35631 h@10: 0.42587 ndcg@1: 0.17877 ndcg@5: 0.27170 ndcg@10: 0.29401\n",
      "new: h@1: 0.01345 h@5: 0.07773 h@10: 0.14499 ndcg@1: 0.01345 ndcg@5: 0.04730 ndcg@10: 0.06838\n",
      "rep: h@1: 0.29278 h@5: 0.54845 h@10: 0.61959 ndcg@1: 0.29278 ndcg@5: 0.42647 ndcg@10: 0.44963\n",
      "ratio:  0.5918242830994509\n"
     ]
    },
    {
     "name": "stderr",
     "output_type": "stream",
     "text": [
      "100%|████████████████████████████████████████████████████████████████████████████████| 114/114 [03:09<00:00,  1.67s/it]\n",
      "17it [00:12,  1.40it/s]\n"
     ]
    },
    {
     "name": "stdout",
     "output_type": "stream",
     "text": [
      "Epoch: 004, Loss: 1.22379\n",
      "all: h@1: 0.18487 h@5: 0.36730 h@10: 0.42709 ndcg@1: 0.18487 ndcg@5: 0.28011 ndcg@10: 0.29982\n",
      "new: h@1: 0.01644 h@5: 0.08221 h@10: 0.13453 ndcg@1: 0.01644 ndcg@5: 0.04955 ndcg@10: 0.06679\n",
      "rep: h@1: 0.30103 h@5: 0.56392 h@10: 0.62887 ndcg@1: 0.30103 ndcg@5: 0.43912 ndcg@10: 0.46054\n",
      "ratio:  0.5918242830994509\n"
     ]
    },
    {
     "name": "stderr",
     "output_type": "stream",
     "text": [
      "100%|████████████████████████████████████████████████████████████████████████████████| 114/114 [03:09<00:00,  1.66s/it]\n",
      "17it [00:12,  1.41it/s]\n"
     ]
    },
    {
     "name": "stdout",
     "output_type": "stream",
     "text": [
      "Epoch: 005, Loss: 1.21443\n",
      "all: h@1: 0.21293 h@5: 0.37645 h@10: 0.43807 ndcg@1: 0.21293 ndcg@5: 0.29864 ndcg@10: 0.31869\n",
      "new: h@1: 0.01943 h@5: 0.08371 h@10: 0.14798 ndcg@1: 0.01943 ndcg@5: 0.05092 ndcg@10: 0.07176\n",
      "rep: h@1: 0.34639 h@5: 0.57835 h@10: 0.63814 ndcg@1: 0.34639 ndcg@5: 0.46950 ndcg@10: 0.48900\n",
      "ratio:  0.5918242830994509\n"
     ]
    },
    {
     "name": "stderr",
     "output_type": "stream",
     "text": [
      "100%|████████████████████████████████████████████████████████████████████████████████| 114/114 [03:09<00:00,  1.66s/it]\n",
      "17it [00:12,  1.40it/s]\n"
     ]
    },
    {
     "name": "stdout",
     "output_type": "stream",
     "text": [
      "Epoch: 006, Loss: 1.20620\n",
      "all: h@1: 0.21721 h@5: 0.38255 h@10: 0.44295 ndcg@1: 0.21721 ndcg@5: 0.30421 ndcg@10: 0.32393\n",
      "new: h@1: 0.01943 h@5: 0.08969 h@10: 0.14798 ndcg@1: 0.01943 ndcg@5: 0.05353 ndcg@10: 0.07245\n",
      "rep: h@1: 0.35361 h@5: 0.58454 h@10: 0.64639 ndcg@1: 0.35361 ndcg@5: 0.47711 ndcg@10: 0.49738\n",
      "ratio:  0.5918242830994509\n"
     ]
    },
    {
     "name": "stderr",
     "output_type": "stream",
     "text": [
      "100%|████████████████████████████████████████████████████████████████████████████████| 114/114 [03:08<00:00,  1.66s/it]\n",
      "17it [00:12,  1.39it/s]\n"
     ]
    },
    {
     "name": "stdout",
     "output_type": "stream",
     "text": [
      "Epoch: 007, Loss: 1.19800\n",
      "all: h@1: 0.22209 h@5: 0.39109 h@10: 0.45210 ndcg@1: 0.22209 ndcg@5: 0.31123 ndcg@10: 0.33117\n",
      "new: h@1: 0.01794 h@5: 0.08969 h@10: 0.15247 ndcg@1: 0.01794 ndcg@5: 0.05363 ndcg@10: 0.07441\n",
      "rep: h@1: 0.36289 h@5: 0.59897 h@10: 0.65876 ndcg@1: 0.36289 ndcg@5: 0.48889 ndcg@10: 0.50826\n",
      "ratio:  0.5918242830994509\n"
     ]
    },
    {
     "name": "stderr",
     "output_type": "stream",
     "text": [
      "100%|████████████████████████████████████████████████████████████████████████████████| 114/114 [03:08<00:00,  1.66s/it]\n",
      "17it [00:12,  1.41it/s]\n"
     ]
    },
    {
     "name": "stdout",
     "output_type": "stream",
     "text": [
      "Epoch: 008, Loss: 1.19134\n",
      "all: h@1: 0.23795 h@5: 0.39902 h@10: 0.46431 ndcg@1: 0.23795 ndcg@5: 0.32269 ndcg@10: 0.34388\n",
      "new: h@1: 0.01644 h@5: 0.09567 h@10: 0.16143 ndcg@1: 0.01644 ndcg@5: 0.05647 ndcg@10: 0.07776\n",
      "rep: h@1: 0.39072 h@5: 0.60825 h@10: 0.67320 ndcg@1: 0.39072 ndcg@5: 0.50630 ndcg@10: 0.52743\n",
      "ratio:  0.5918242830994509\n"
     ]
    },
    {
     "name": "stderr",
     "output_type": "stream",
     "text": [
      "100%|████████████████████████████████████████████████████████████████████████████████| 114/114 [03:09<00:00,  1.66s/it]\n",
      "17it [00:12,  1.36it/s]\n"
     ]
    },
    {
     "name": "stdout",
     "output_type": "stream",
     "text": [
      "Epoch: 009, Loss: 1.18565\n",
      "all: h@1: 0.23978 h@5: 0.40574 h@10: 0.46797 ndcg@1: 0.23978 ndcg@5: 0.32575 ndcg@10: 0.34590\n",
      "new: h@1: 0.01196 h@5: 0.10463 h@10: 0.16442 ndcg@1: 0.01196 ndcg@5: 0.05753 ndcg@10: 0.07673\n",
      "rep: h@1: 0.39691 h@5: 0.61340 h@10: 0.67732 ndcg@1: 0.39691 ndcg@5: 0.51074 ndcg@10: 0.53154\n",
      "ratio:  0.5918242830994509\n"
     ]
    },
    {
     "name": "stderr",
     "output_type": "stream",
     "text": [
      "100%|████████████████████████████████████████████████████████████████████████████████| 114/114 [03:20<00:00,  1.76s/it]\n",
      "17it [00:12,  1.34it/s]\n"
     ]
    },
    {
     "name": "stdout",
     "output_type": "stream",
     "text": [
      "Epoch: 010, Loss: 1.18024\n",
      "all: h@1: 0.23551 h@5: 0.40451 h@10: 0.46919 ndcg@1: 0.23551 ndcg@5: 0.32360 ndcg@10: 0.34461\n",
      "new: h@1: 0.01046 h@5: 0.10164 h@10: 0.16592 ndcg@1: 0.01046 ndcg@5: 0.05584 ndcg@10: 0.07632\n",
      "rep: h@1: 0.39072 h@5: 0.61340 h@10: 0.67835 ndcg@1: 0.39072 ndcg@5: 0.50828 ndcg@10: 0.52964\n",
      "ratio:  0.5918242830994509\n"
     ]
    },
    {
     "name": "stderr",
     "output_type": "stream",
     "text": [
      "100%|████████████████████████████████████████████████████████████████████████████████| 114/114 [03:19<00:00,  1.75s/it]\n",
      "17it [00:12,  1.33it/s]\n"
     ]
    },
    {
     "name": "stdout",
     "output_type": "stream",
     "text": [
      "Epoch: 011, Loss: 1.17551\n",
      "all: h@1: 0.23612 h@5: 0.40635 h@10: 0.47529 ndcg@1: 0.23612 ndcg@5: 0.32546 ndcg@10: 0.34779\n",
      "new: h@1: 0.00897 h@5: 0.10164 h@10: 0.17040 ndcg@1: 0.00897 ndcg@5: 0.05482 ndcg@10: 0.07686\n",
      "rep: h@1: 0.39278 h@5: 0.61649 h@10: 0.68557 ndcg@1: 0.39278 ndcg@5: 0.51212 ndcg@10: 0.53465\n",
      "ratio:  0.5918242830994509\n"
     ]
    },
    {
     "name": "stderr",
     "output_type": "stream",
     "text": [
      "100%|████████████████████████████████████████████████████████████████████████████████| 114/114 [03:20<00:00,  1.76s/it]\n",
      "17it [00:12,  1.33it/s]\n"
     ]
    },
    {
     "name": "stdout",
     "output_type": "stream",
     "text": [
      "Epoch: 012, Loss: 1.17373\n",
      "all: h@1: 0.24344 h@5: 0.41184 h@10: 0.47651 ndcg@1: 0.24344 ndcg@5: 0.33202 ndcg@10: 0.35310\n",
      "new: h@1: 0.01046 h@5: 0.10912 h@10: 0.16891 ndcg@1: 0.01046 ndcg@5: 0.05880 ndcg@10: 0.07813\n",
      "rep: h@1: 0.40412 h@5: 0.62062 h@10: 0.68866 ndcg@1: 0.40412 ndcg@5: 0.52046 ndcg@10: 0.54275\n",
      "ratio:  0.5918242830994509\n"
     ]
    },
    {
     "name": "stderr",
     "output_type": "stream",
     "text": [
      "100%|████████████████████████████████████████████████████████████████████████████████| 114/114 [03:20<00:00,  1.76s/it]\n",
      "17it [00:12,  1.33it/s]\n"
     ]
    },
    {
     "name": "stdout",
     "output_type": "stream",
     "text": [
      "Epoch: 013, Loss: 1.16527\n",
      "all: h@1: 0.25198 h@5: 0.42038 h@10: 0.48139 ndcg@1: 0.25198 ndcg@5: 0.34016 ndcg@10: 0.36002\n",
      "new: h@1: 0.01345 h@5: 0.11360 h@10: 0.17040 ndcg@1: 0.01345 ndcg@5: 0.06137 ndcg@10: 0.07972\n",
      "rep: h@1: 0.41649 h@5: 0.63196 h@10: 0.69588 ndcg@1: 0.41649 ndcg@5: 0.53243 ndcg@10: 0.55335\n",
      "ratio:  0.5918242830994509\n"
     ]
    },
    {
     "name": "stderr",
     "output_type": "stream",
     "text": [
      "100%|████████████████████████████████████████████████████████████████████████████████| 114/114 [03:20<00:00,  1.76s/it]\n",
      "17it [00:12,  1.36it/s]\n"
     ]
    },
    {
     "name": "stdout",
     "output_type": "stream",
     "text": [
      "Epoch: 014, Loss: 1.16204\n",
      "all: h@1: 0.25625 h@5: 0.41855 h@10: 0.48444 ndcg@1: 0.25625 ndcg@5: 0.34250 ndcg@10: 0.36395\n",
      "new: h@1: 0.01196 h@5: 0.10762 h@10: 0.17190 ndcg@1: 0.01196 ndcg@5: 0.05801 ndcg@10: 0.07847\n",
      "rep: h@1: 0.42474 h@5: 0.63299 h@10: 0.70000 ndcg@1: 0.42474 ndcg@5: 0.53870 ndcg@10: 0.56084\n",
      "ratio:  0.5918242830994509\n"
     ]
    },
    {
     "name": "stderr",
     "output_type": "stream",
     "text": [
      "100%|████████████████████████████████████████████████████████████████████████████████| 114/114 [03:18<00:00,  1.74s/it]\n",
      "17it [00:12,  1.34it/s]\n"
     ]
    },
    {
     "name": "stdout",
     "output_type": "stream",
     "text": [
      "Epoch: 015, Loss: 1.15873\n",
      "all: h@1: 0.25808 h@5: 0.41794 h@10: 0.49176 ndcg@1: 0.25808 ndcg@5: 0.34280 ndcg@10: 0.36689\n",
      "new: h@1: 0.01196 h@5: 0.10314 h@10: 0.17788 ndcg@1: 0.01196 ndcg@5: 0.05714 ndcg@10: 0.08137\n",
      "rep: h@1: 0.42784 h@5: 0.63505 h@10: 0.70825 ndcg@1: 0.42784 ndcg@5: 0.53982 ndcg@10: 0.56381\n",
      "ratio:  0.5918242830994509\n"
     ]
    },
    {
     "name": "stderr",
     "output_type": "stream",
     "text": [
      "100%|████████████████████████████████████████████████████████████████████████████████| 114/114 [03:18<00:00,  1.74s/it]\n",
      "17it [00:12,  1.35it/s]\n"
     ]
    },
    {
     "name": "stdout",
     "output_type": "stream",
     "text": [
      "Epoch: 016, Loss: 1.15487\n",
      "all: h@1: 0.26358 h@5: 0.41794 h@10: 0.48932 ndcg@1: 0.26358 ndcg@5: 0.34574 ndcg@10: 0.36921\n",
      "new: h@1: 0.01046 h@5: 0.11061 h@10: 0.17339 ndcg@1: 0.01046 ndcg@5: 0.05881 ndcg@10: 0.07938\n",
      "rep: h@1: 0.43814 h@5: 0.62990 h@10: 0.70722 ndcg@1: 0.43814 ndcg@5: 0.54362 ndcg@10: 0.56911\n",
      "ratio:  0.5918242830994509\n"
     ]
    },
    {
     "name": "stderr",
     "output_type": "stream",
     "text": [
      "100%|████████████████████████████████████████████████████████████████████████████████| 114/114 [03:18<00:00,  1.74s/it]\n",
      "17it [00:12,  1.34it/s]\n"
     ]
    },
    {
     "name": "stdout",
     "output_type": "stream",
     "text": [
      "Epoch: 017, Loss: 1.15264\n",
      "all: h@1: 0.26297 h@5: 0.42465 h@10: 0.49664 ndcg@1: 0.26297 ndcg@5: 0.34891 ndcg@10: 0.37230\n",
      "new: h@1: 0.01196 h@5: 0.11360 h@10: 0.18386 ndcg@1: 0.01196 ndcg@5: 0.06147 ndcg@10: 0.08435\n",
      "rep: h@1: 0.43608 h@5: 0.63918 h@10: 0.71237 ndcg@1: 0.43608 ndcg@5: 0.54715 ndcg@10: 0.57090\n",
      "ratio:  0.5918242830994509\n"
     ]
    },
    {
     "name": "stderr",
     "output_type": "stream",
     "text": [
      "100%|████████████████████████████████████████████████████████████████████████████████| 114/114 [03:18<00:00,  1.74s/it]\n",
      "17it [00:12,  1.33it/s]\n"
     ]
    },
    {
     "name": "stdout",
     "output_type": "stream",
     "text": [
      "Epoch: 018, Loss: 1.14776\n",
      "all: h@1: 0.27395 h@5: 0.42831 h@10: 0.49603 ndcg@1: 0.27395 ndcg@5: 0.35514 ndcg@10: 0.37719\n",
      "new: h@1: 0.01046 h@5: 0.10762 h@10: 0.17937 ndcg@1: 0.01046 ndcg@5: 0.05763 ndcg@10: 0.08117\n",
      "rep: h@1: 0.45567 h@5: 0.64948 h@10: 0.71443 ndcg@1: 0.45567 ndcg@5: 0.56032 ndcg@10: 0.58134\n",
      "ratio:  0.5918242830994509\n"
     ]
    },
    {
     "name": "stderr",
     "output_type": "stream",
     "text": [
      "100%|████████████████████████████████████████████████████████████████████████████████| 114/114 [03:19<00:00,  1.75s/it]\n",
      "17it [00:12,  1.32it/s]\n"
     ]
    },
    {
     "name": "stdout",
     "output_type": "stream",
     "text": [
      "Epoch: 019, Loss: 1.14355\n",
      "all: h@1: 0.27700 h@5: 0.43624 h@10: 0.50214 ndcg@1: 0.27700 ndcg@5: 0.36120 ndcg@10: 0.38266\n",
      "new: h@1: 0.01345 h@5: 0.11958 h@10: 0.19283 ndcg@1: 0.01345 ndcg@5: 0.06575 ndcg@10: 0.08930\n",
      "rep: h@1: 0.45876 h@5: 0.65464 h@10: 0.71546 ndcg@1: 0.45876 ndcg@5: 0.56497 ndcg@10: 0.58499\n",
      "ratio:  0.5918242830994509\n"
     ]
    },
    {
     "name": "stderr",
     "output_type": "stream",
     "text": [
      "100%|████████████████████████████████████████████████████████████████████████████████| 114/114 [03:18<00:00,  1.74s/it]\n",
      "17it [00:12,  1.33it/s]\n"
     ]
    },
    {
     "name": "stdout",
     "output_type": "stream",
     "text": [
      "Epoch: 020, Loss: 1.14040\n",
      "all: h@1: 0.27517 h@5: 0.43380 h@10: 0.51373 ndcg@1: 0.27517 ndcg@5: 0.35935 ndcg@10: 0.38520\n",
      "new: h@1: 0.01495 h@5: 0.11360 h@10: 0.19432 ndcg@1: 0.01495 ndcg@5: 0.06397 ndcg@10: 0.09017\n",
      "rep: h@1: 0.45464 h@5: 0.65464 h@10: 0.73402 ndcg@1: 0.45464 ndcg@5: 0.56306 ndcg@10: 0.58868\n",
      "ratio:  0.5918242830994509\n"
     ]
    },
    {
     "name": "stderr",
     "output_type": "stream",
     "text": [
      "100%|████████████████████████████████████████████████████████████████████████████████| 114/114 [03:14<00:00,  1.71s/it]\n",
      "17it [00:12,  1.40it/s]\n"
     ]
    },
    {
     "name": "stdout",
     "output_type": "stream",
     "text": [
      "Epoch: 021, Loss: 1.13697\n",
      "all: h@1: 0.27456 h@5: 0.44539 h@10: 0.51617 ndcg@1: 0.27456 ndcg@5: 0.36572 ndcg@10: 0.38860\n",
      "new: h@1: 0.01196 h@5: 0.12407 h@10: 0.20179 ndcg@1: 0.01196 ndcg@5: 0.06913 ndcg@10: 0.09426\n",
      "rep: h@1: 0.45567 h@5: 0.66701 h@10: 0.73299 ndcg@1: 0.45567 ndcg@5: 0.57027 ndcg@10: 0.59160\n",
      "ratio:  0.5918242830994509\n"
     ]
    },
    {
     "name": "stderr",
     "output_type": "stream",
     "text": [
      "100%|████████████████████████████████████████████████████████████████████████████████| 114/114 [03:08<00:00,  1.66s/it]\n",
      "17it [00:12,  1.40it/s]\n"
     ]
    },
    {
     "name": "stdout",
     "output_type": "stream",
     "text": [
      "Epoch: 022, Loss: 1.13538\n",
      "all: h@1: 0.27273 h@5: 0.44905 h@10: 0.51678 ndcg@1: 0.27273 ndcg@5: 0.36641 ndcg@10: 0.38841\n",
      "new: h@1: 0.01196 h@5: 0.12855 h@10: 0.19880 ndcg@1: 0.01196 ndcg@5: 0.07084 ndcg@10: 0.09382\n",
      "rep: h@1: 0.45258 h@5: 0.67010 h@10: 0.73608 ndcg@1: 0.45258 ndcg@5: 0.57026 ndcg@10: 0.59158\n",
      "ratio:  0.5918242830994509\n"
     ]
    },
    {
     "name": "stderr",
     "output_type": "stream",
     "text": [
      "100%|████████████████████████████████████████████████████████████████████████████████| 114/114 [03:17<00:00,  1.73s/it]\n",
      "17it [00:12,  1.35it/s]\n"
     ]
    },
    {
     "name": "stdout",
     "output_type": "stream",
     "text": [
      "Epoch: 023, Loss: 1.13242\n",
      "all: h@1: 0.27700 h@5: 0.44478 h@10: 0.51678 ndcg@1: 0.27700 ndcg@5: 0.36696 ndcg@10: 0.39038\n",
      "new: h@1: 0.01196 h@5: 0.12706 h@10: 0.19731 ndcg@1: 0.01196 ndcg@5: 0.06954 ndcg@10: 0.09237\n",
      "rep: h@1: 0.45979 h@5: 0.66392 h@10: 0.73711 ndcg@1: 0.45979 ndcg@5: 0.57208 ndcg@10: 0.59592\n",
      "ratio:  0.5918242830994509\n"
     ]
    },
    {
     "name": "stderr",
     "output_type": "stream",
     "text": [
      "100%|████████████████████████████████████████████████████████████████████████████████| 114/114 [03:18<00:00,  1.74s/it]\n",
      "17it [00:12,  1.34it/s]\n"
     ]
    },
    {
     "name": "stdout",
     "output_type": "stream",
     "text": [
      "Epoch: 024, Loss: 1.12752\n",
      "all: h@1: 0.28432 h@5: 0.45699 h@10: 0.52166 ndcg@1: 0.28432 ndcg@5: 0.37732 ndcg@10: 0.39844\n",
      "new: h@1: 0.01345 h@5: 0.13901 h@10: 0.20628 ndcg@1: 0.01345 ndcg@5: 0.07752 ndcg@10: 0.09946\n",
      "rep: h@1: 0.47113 h@5: 0.67629 h@10: 0.73918 ndcg@1: 0.47113 ndcg@5: 0.58410 ndcg@10: 0.60464\n",
      "ratio:  0.5918242830994509\n"
     ]
    },
    {
     "name": "stderr",
     "output_type": "stream",
     "text": [
      "100%|████████████████████████████████████████████████████████████████████████████████| 114/114 [03:18<00:00,  1.74s/it]\n",
      "17it [00:12,  1.35it/s]\n"
     ]
    },
    {
     "name": "stdout",
     "output_type": "stream",
     "text": [
      "Epoch: 025, Loss: 1.12324\n",
      "all: h@1: 0.28188 h@5: 0.45516 h@10: 0.52654 ndcg@1: 0.28188 ndcg@5: 0.37524 ndcg@10: 0.39843\n",
      "new: h@1: 0.01794 h@5: 0.12855 h@10: 0.20478 ndcg@1: 0.01794 ndcg@5: 0.07504 ndcg@10: 0.10022\n",
      "rep: h@1: 0.46392 h@5: 0.68041 h@10: 0.74845 ndcg@1: 0.46392 ndcg@5: 0.58229 ndcg@10: 0.60409\n",
      "ratio:  0.5918242830994509\n"
     ]
    },
    {
     "name": "stderr",
     "output_type": "stream",
     "text": [
      "100%|████████████████████████████████████████████████████████████████████████████████| 114/114 [03:18<00:00,  1.74s/it]\n",
      "17it [00:12,  1.34it/s]\n"
     ]
    },
    {
     "name": "stdout",
     "output_type": "stream",
     "text": [
      "Epoch: 026, Loss: 1.12009\n",
      "all: h@1: 0.28981 h@5: 0.46126 h@10: 0.53020 ndcg@1: 0.28981 ndcg@5: 0.38217 ndcg@10: 0.40455\n",
      "new: h@1: 0.01345 h@5: 0.13453 h@10: 0.20478 ndcg@1: 0.01345 ndcg@5: 0.07529 ndcg@10: 0.09833\n",
      "rep: h@1: 0.48041 h@5: 0.68660 h@10: 0.75464 ndcg@1: 0.48041 ndcg@5: 0.59383 ndcg@10: 0.61574\n",
      "ratio:  0.5918242830994509\n"
     ]
    },
    {
     "name": "stderr",
     "output_type": "stream",
     "text": [
      "100%|████████████████████████████████████████████████████████████████████████████████| 114/114 [03:19<00:00,  1.75s/it]\n",
      "17it [00:12,  1.34it/s]\n"
     ]
    },
    {
     "name": "stdout",
     "output_type": "stream",
     "text": [
      "Epoch: 027, Loss: 1.11620\n",
      "all: h@1: 0.28676 h@5: 0.46919 h@10: 0.53508 ndcg@1: 0.28676 ndcg@5: 0.38533 ndcg@10: 0.40667\n",
      "new: h@1: 0.01644 h@5: 0.14499 h@10: 0.21076 ndcg@1: 0.01644 ndcg@5: 0.08138 ndcg@10: 0.10268\n",
      "rep: h@1: 0.47320 h@5: 0.69278 h@10: 0.75876 ndcg@1: 0.47320 ndcg@5: 0.59496 ndcg@10: 0.61633\n",
      "ratio:  0.5918242830994509\n"
     ]
    },
    {
     "name": "stderr",
     "output_type": "stream",
     "text": [
      "100%|████████████████████████████████████████████████████████████████████████████████| 114/114 [03:20<00:00,  1.76s/it]\n",
      "17it [00:12,  1.35it/s]\n"
     ]
    },
    {
     "name": "stdout",
     "output_type": "stream",
     "text": [
      "Epoch: 028, Loss: 1.11209\n",
      "all: h@1: 0.29103 h@5: 0.46614 h@10: 0.53386 ndcg@1: 0.29103 ndcg@5: 0.38647 ndcg@10: 0.40861\n",
      "new: h@1: 0.01345 h@5: 0.14051 h@10: 0.21226 ndcg@1: 0.01345 ndcg@5: 0.07984 ndcg@10: 0.10328\n",
      "rep: h@1: 0.48247 h@5: 0.69072 h@10: 0.75567 ndcg@1: 0.48247 ndcg@5: 0.59795 ndcg@10: 0.61919\n",
      "ratio:  0.5918242830994509\n"
     ]
    },
    {
     "name": "stderr",
     "output_type": "stream",
     "text": [
      "100%|████████████████████████████████████████████████████████████████████████████████| 114/114 [03:20<00:00,  1.76s/it]\n",
      "17it [00:12,  1.32it/s]\n"
     ]
    },
    {
     "name": "stdout",
     "output_type": "stream",
     "text": [
      "Epoch: 029, Loss: 1.10953\n",
      "all: h@1: 0.28493 h@5: 0.46858 h@10: 0.53752 ndcg@1: 0.28493 ndcg@5: 0.38512 ndcg@10: 0.40759\n",
      "new: h@1: 0.01046 h@5: 0.14499 h@10: 0.21525 ndcg@1: 0.01046 ndcg@5: 0.08041 ndcg@10: 0.10322\n",
      "rep: h@1: 0.47423 h@5: 0.69175 h@10: 0.75979 ndcg@1: 0.47423 ndcg@5: 0.59527 ndcg@10: 0.61751\n",
      "ratio:  0.5918242830994509\n"
     ]
    },
    {
     "name": "stderr",
     "output_type": "stream",
     "text": [
      "100%|████████████████████████████████████████████████████████████████████████████████| 114/114 [03:20<00:00,  1.76s/it]\n",
      "17it [00:12,  1.35it/s]\n"
     ]
    },
    {
     "name": "stdout",
     "output_type": "stream",
     "text": [
      "Epoch: 030, Loss: 1.10447\n",
      "all: h@1: 0.30140 h@5: 0.47956 h@10: 0.54301 ndcg@1: 0.30140 ndcg@5: 0.39757 ndcg@10: 0.41811\n",
      "new: h@1: 0.01943 h@5: 0.15097 h@10: 0.21674 ndcg@1: 0.01943 ndcg@5: 0.08637 ndcg@10: 0.10776\n",
      "rep: h@1: 0.49588 h@5: 0.70619 h@10: 0.76804 ndcg@1: 0.49588 ndcg@5: 0.61220 ndcg@10: 0.63216\n",
      "ratio:  0.5918242830994509\n"
     ]
    },
    {
     "name": "stderr",
     "output_type": "stream",
     "text": [
      "100%|████████████████████████████████████████████████████████████████████████████████| 114/114 [03:16<00:00,  1.73s/it]\n",
      "17it [00:11,  1.42it/s]\n"
     ]
    },
    {
     "name": "stdout",
     "output_type": "stream",
     "text": [
      "Epoch: 031, Loss: 1.09949\n",
      "all: h@1: 0.30201 h@5: 0.47712 h@10: 0.54057 ndcg@1: 0.30201 ndcg@5: 0.39747 ndcg@10: 0.41840\n",
      "new: h@1: 0.01644 h@5: 0.14649 h@10: 0.21525 ndcg@1: 0.01644 ndcg@5: 0.08389 ndcg@10: 0.10669\n",
      "rep: h@1: 0.49897 h@5: 0.70515 h@10: 0.76495 ndcg@1: 0.49897 ndcg@5: 0.61374 ndcg@10: 0.63338\n",
      "ratio:  0.5918242830994509\n"
     ]
    },
    {
     "name": "stderr",
     "output_type": "stream",
     "text": [
      "100%|████████████████████████████████████████████████████████████████████████████████| 114/114 [03:06<00:00,  1.63s/it]\n",
      "17it [00:11,  1.44it/s]\n"
     ]
    },
    {
     "name": "stdout",
     "output_type": "stream",
     "text": [
      "Epoch: 032, Loss: 1.09662\n",
      "all: h@1: 0.29896 h@5: 0.47773 h@10: 0.54606 ndcg@1: 0.29896 ndcg@5: 0.39679 ndcg@10: 0.41906\n",
      "new: h@1: 0.01196 h@5: 0.14798 h@10: 0.22571 ndcg@1: 0.01196 ndcg@5: 0.08317 ndcg@10: 0.10860\n",
      "rep: h@1: 0.49691 h@5: 0.70515 h@10: 0.76701 ndcg@1: 0.49691 ndcg@5: 0.61309 ndcg@10: 0.63319\n",
      "ratio:  0.5918242830994509\n"
     ]
    },
    {
     "name": "stderr",
     "output_type": "stream",
     "text": [
      "100%|████████████████████████████████████████████████████████████████████████████████| 114/114 [03:03<00:00,  1.61s/it]\n",
      "17it [00:11,  1.46it/s]\n"
     ]
    },
    {
     "name": "stdout",
     "output_type": "stream",
     "text": [
      "Epoch: 033, Loss: 1.09185\n",
      "all: h@1: 0.30140 h@5: 0.47468 h@10: 0.54667 ndcg@1: 0.30140 ndcg@5: 0.39450 ndcg@10: 0.41766\n",
      "new: h@1: 0.01794 h@5: 0.13602 h@10: 0.22123 ndcg@1: 0.01794 ndcg@5: 0.07945 ndcg@10: 0.10706\n",
      "rep: h@1: 0.49691 h@5: 0.70825 h@10: 0.77113 ndcg@1: 0.49691 ndcg@5: 0.61179 ndcg@10: 0.63187\n",
      "ratio:  0.5918242830994509\n"
     ]
    },
    {
     "name": "stderr",
     "output_type": "stream",
     "text": [
      "100%|████████████████████████████████████████████████████████████████████████████████| 114/114 [03:03<00:00,  1.61s/it]\n",
      "17it [00:11,  1.44it/s]\n"
     ]
    },
    {
     "name": "stdout",
     "output_type": "stream",
     "text": [
      "Epoch: 034, Loss: 1.08686\n",
      "all: h@1: 0.30262 h@5: 0.47712 h@10: 0.55034 ndcg@1: 0.30262 ndcg@5: 0.39794 ndcg@10: 0.42164\n",
      "new: h@1: 0.02093 h@5: 0.15097 h@10: 0.22571 ndcg@1: 0.02093 ndcg@5: 0.08868 ndcg@10: 0.11271\n",
      "rep: h@1: 0.49691 h@5: 0.70206 h@10: 0.77423 ndcg@1: 0.49691 ndcg@5: 0.61123 ndcg@10: 0.63470\n",
      "ratio:  0.5918242830994509\n"
     ]
    },
    {
     "name": "stderr",
     "output_type": "stream",
     "text": [
      "100%|████████████████████████████████████████████████████████████████████████████████| 114/114 [03:03<00:00,  1.61s/it]\n",
      "17it [00:11,  1.45it/s]\n"
     ]
    },
    {
     "name": "stdout",
     "output_type": "stream",
     "text": [
      "Epoch: 035, Loss: 1.08390\n",
      "all: h@1: 0.30262 h@5: 0.48383 h@10: 0.56254 ndcg@1: 0.30262 ndcg@5: 0.40085 ndcg@10: 0.42607\n",
      "new: h@1: 0.02242 h@5: 0.15097 h@10: 0.23916 ndcg@1: 0.02242 ndcg@5: 0.08930 ndcg@10: 0.11725\n",
      "rep: h@1: 0.49588 h@5: 0.71340 h@10: 0.78557 ndcg@1: 0.49588 ndcg@5: 0.61573 ndcg@10: 0.63906\n",
      "ratio:  0.5918242830994509\n"
     ]
    },
    {
     "name": "stderr",
     "output_type": "stream",
     "text": [
      "100%|████████████████████████████████████████████████████████████████████████████████| 114/114 [03:03<00:00,  1.61s/it]\n",
      "17it [00:11,  1.46it/s]\n"
     ]
    },
    {
     "name": "stdout",
     "output_type": "stream",
     "text": [
      "Epoch: 036, Loss: 1.07635\n",
      "all: h@1: 0.31056 h@5: 0.48688 h@10: 0.56437 ndcg@1: 0.31056 ndcg@5: 0.40496 ndcg@10: 0.42985\n",
      "new: h@1: 0.01794 h@5: 0.15695 h@10: 0.23916 ndcg@1: 0.01794 ndcg@5: 0.08986 ndcg@10: 0.11635\n",
      "rep: h@1: 0.51237 h@5: 0.71443 h@10: 0.78866 ndcg@1: 0.51237 ndcg@5: 0.62227 ndcg@10: 0.64606\n",
      "ratio:  0.5918242830994509\n"
     ]
    },
    {
     "name": "stderr",
     "output_type": "stream",
     "text": [
      "100%|████████████████████████████████████████████████████████████████████████████████| 114/114 [03:03<00:00,  1.61s/it]\n",
      "17it [00:11,  1.45it/s]\n"
     ]
    },
    {
     "name": "stdout",
     "output_type": "stream",
     "text": [
      "Epoch: 037, Loss: 1.07284\n",
      "all: h@1: 0.30750 h@5: 0.48627 h@10: 0.56803 ndcg@1: 0.30750 ndcg@5: 0.40295 ndcg@10: 0.42944\n",
      "new: h@1: 0.02242 h@5: 0.15247 h@10: 0.25112 ndcg@1: 0.02242 ndcg@5: 0.08934 ndcg@10: 0.12108\n",
      "rep: h@1: 0.50412 h@5: 0.71649 h@10: 0.78660 ndcg@1: 0.50412 ndcg@5: 0.61924 ndcg@10: 0.64211\n",
      "ratio:  0.5918242830994509\n"
     ]
    },
    {
     "name": "stderr",
     "output_type": "stream",
     "text": [
      "100%|████████████████████████████████████████████████████████████████████████████████| 114/114 [03:03<00:00,  1.61s/it]\n",
      "17it [00:11,  1.44it/s]\n"
     ]
    },
    {
     "name": "stdout",
     "output_type": "stream",
     "text": [
      "Epoch: 038, Loss: 1.06748\n",
      "all: h@1: 0.30628 h@5: 0.49725 h@10: 0.58023 ndcg@1: 0.30628 ndcg@5: 0.40842 ndcg@10: 0.43505\n",
      "new: h@1: 0.02242 h@5: 0.15396 h@10: 0.26457 ndcg@1: 0.02242 ndcg@5: 0.09161 ndcg@10: 0.12697\n",
      "rep: h@1: 0.50206 h@5: 0.73402 h@10: 0.79794 ndcg@1: 0.50206 ndcg@5: 0.62691 ndcg@10: 0.64753\n",
      "ratio:  0.5918242830994509\n"
     ]
    },
    {
     "name": "stderr",
     "output_type": "stream",
     "text": [
      "100%|████████████████████████████████████████████████████████████████████████████████| 114/114 [03:03<00:00,  1.61s/it]\n",
      "17it [00:11,  1.44it/s]\n"
     ]
    },
    {
     "name": "stdout",
     "output_type": "stream",
     "text": [
      "Epoch: 039, Loss: 1.06291\n",
      "all: h@1: 0.31422 h@5: 0.50336 h@10: 0.58633 ndcg@1: 0.31422 ndcg@5: 0.41324 ndcg@10: 0.43992\n",
      "new: h@1: 0.02691 h@5: 0.16442 h@10: 0.27653 ndcg@1: 0.02691 ndcg@5: 0.09591 ndcg@10: 0.13186\n",
      "rep: h@1: 0.51237 h@5: 0.73711 h@10: 0.80000 ndcg@1: 0.51237 ndcg@5: 0.63210 ndcg@10: 0.65239\n",
      "ratio:  0.5918242830994509\n"
     ]
    },
    {
     "name": "stderr",
     "output_type": "stream",
     "text": [
      "100%|████████████████████████████████████████████████████████████████████████████████| 114/114 [03:03<00:00,  1.61s/it]\n",
      "17it [00:11,  1.45it/s]\n"
     ]
    },
    {
     "name": "stdout",
     "output_type": "stream",
     "text": [
      "Epoch: 040, Loss: 1.05868\n",
      "all: h@1: 0.30872 h@5: 0.50458 h@10: 0.57962 ndcg@1: 0.30872 ndcg@5: 0.41310 ndcg@10: 0.43760\n",
      "new: h@1: 0.02242 h@5: 0.15695 h@10: 0.26158 ndcg@1: 0.02242 ndcg@5: 0.09282 ndcg@10: 0.12701\n",
      "rep: h@1: 0.50619 h@5: 0.74433 h@10: 0.79897 ndcg@1: 0.50619 ndcg@5: 0.63399 ndcg@10: 0.65180\n",
      "ratio:  0.5918242830994509\n"
     ]
    },
    {
     "name": "stderr",
     "output_type": "stream",
     "text": [
      "100%|████████████████████████████████████████████████████████████████████████████████| 114/114 [03:03<00:00,  1.61s/it]\n",
      "17it [00:11,  1.45it/s]\n"
     ]
    },
    {
     "name": "stdout",
     "output_type": "stream",
     "text": [
      "Epoch: 041, Loss: 1.05003\n",
      "all: h@1: 0.30811 h@5: 0.50275 h@10: 0.58572 ndcg@1: 0.30811 ndcg@5: 0.41191 ndcg@10: 0.43888\n",
      "new: h@1: 0.02093 h@5: 0.16891 h@10: 0.27055 ndcg@1: 0.02093 ndcg@5: 0.09590 ndcg@10: 0.12887\n",
      "rep: h@1: 0.50619 h@5: 0.73299 h@10: 0.80309 ndcg@1: 0.50619 ndcg@5: 0.62986 ndcg@10: 0.65269\n",
      "ratio:  0.5918242830994509\n"
     ]
    },
    {
     "name": "stderr",
     "output_type": "stream",
     "text": [
      "100%|████████████████████████████████████████████████████████████████████████████████| 114/114 [03:03<00:00,  1.61s/it]\n",
      "17it [00:11,  1.45it/s]\n"
     ]
    },
    {
     "name": "stdout",
     "output_type": "stream",
     "text": [
      "Epoch: 042, Loss: 1.04788\n",
      "all: h@1: 0.30872 h@5: 0.50458 h@10: 0.58755 ndcg@1: 0.30872 ndcg@5: 0.41365 ndcg@10: 0.44043\n",
      "new: h@1: 0.02392 h@5: 0.17638 h@10: 0.27354 ndcg@1: 0.02392 ndcg@5: 0.10097 ndcg@10: 0.13191\n",
      "rep: h@1: 0.50515 h@5: 0.73093 h@10: 0.80412 ndcg@1: 0.50515 ndcg@5: 0.62930 ndcg@10: 0.65321\n",
      "ratio:  0.5918242830994509\n"
     ]
    },
    {
     "name": "stderr",
     "output_type": "stream",
     "text": [
      "100%|████████████████████████████████████████████████████████████████████████████████| 114/114 [03:03<00:00,  1.61s/it]\n",
      "17it [00:11,  1.46it/s]\n"
     ]
    },
    {
     "name": "stdout",
     "output_type": "stream",
     "text": [
      "Epoch: 043, Loss: 1.04233\n",
      "all: h@1: 0.31422 h@5: 0.50397 h@10: 0.58572 ndcg@1: 0.31422 ndcg@5: 0.41578 ndcg@10: 0.44241\n",
      "new: h@1: 0.02990 h@5: 0.17638 h@10: 0.27055 ndcg@1: 0.02990 ndcg@5: 0.10388 ndcg@10: 0.13413\n",
      "rep: h@1: 0.51031 h@5: 0.72990 h@10: 0.80309 ndcg@1: 0.51031 ndcg@5: 0.63090 ndcg@10: 0.65503\n",
      "ratio:  0.5918242830994509\n"
     ]
    },
    {
     "name": "stderr",
     "output_type": "stream",
     "text": [
      "100%|████████████████████████████████████████████████████████████████████████████████| 114/114 [03:02<00:00,  1.60s/it]\n",
      "17it [00:11,  1.47it/s]\n"
     ]
    },
    {
     "name": "stdout",
     "output_type": "stream",
     "text": [
      "Epoch: 044, Loss: 1.03514\n",
      "all: h@1: 0.30811 h@5: 0.50580 h@10: 0.59060 ndcg@1: 0.30811 ndcg@5: 0.41449 ndcg@10: 0.44207\n",
      "new: h@1: 0.02840 h@5: 0.17339 h@10: 0.27504 ndcg@1: 0.02840 ndcg@5: 0.10155 ndcg@10: 0.13441\n",
      "rep: h@1: 0.50103 h@5: 0.73505 h@10: 0.80825 ndcg@1: 0.50103 ndcg@5: 0.63033 ndcg@10: 0.65425\n",
      "ratio:  0.5918242830994509\n"
     ]
    },
    {
     "name": "stderr",
     "output_type": "stream",
     "text": [
      "100%|████████████████████████████████████████████████████████████████████████████████| 114/114 [03:01<00:00,  1.59s/it]\n",
      "17it [00:11,  1.48it/s]\n"
     ]
    },
    {
     "name": "stdout",
     "output_type": "stream",
     "text": [
      "Epoch: 045, Loss: 1.03108\n",
      "all: h@1: 0.31361 h@5: 0.51129 h@10: 0.59426 ndcg@1: 0.31361 ndcg@5: 0.41953 ndcg@10: 0.44646\n",
      "new: h@1: 0.02691 h@5: 0.17788 h@10: 0.28550 ndcg@1: 0.02691 ndcg@5: 0.10338 ndcg@10: 0.13786\n",
      "rep: h@1: 0.51134 h@5: 0.74124 h@10: 0.80722 ndcg@1: 0.51134 ndcg@5: 0.63757 ndcg@10: 0.65931\n",
      "ratio:  0.5918242830994509\n"
     ]
    },
    {
     "name": "stderr",
     "output_type": "stream",
     "text": [
      "100%|████████████████████████████████████████████████████████████████████████████████| 114/114 [03:01<00:00,  1.59s/it]\n",
      "17it [00:11,  1.48it/s]\n"
     ]
    },
    {
     "name": "stdout",
     "output_type": "stream",
     "text": [
      "Epoch: 046, Loss: 1.02428\n",
      "all: h@1: 0.31056 h@5: 0.50763 h@10: 0.59976 ndcg@1: 0.31056 ndcg@5: 0.41563 ndcg@10: 0.44553\n",
      "new: h@1: 0.02990 h@5: 0.18236 h@10: 0.29148 ndcg@1: 0.02990 ndcg@5: 0.10524 ndcg@10: 0.14025\n",
      "rep: h@1: 0.50412 h@5: 0.73196 h@10: 0.81237 ndcg@1: 0.50412 ndcg@5: 0.62971 ndcg@10: 0.65609\n",
      "ratio:  0.5918242830994509\n"
     ]
    },
    {
     "name": "stderr",
     "output_type": "stream",
     "text": [
      "100%|████████████████████████████████████████████████████████████████████████████████| 114/114 [03:01<00:00,  1.59s/it]\n",
      "17it [00:11,  1.48it/s]\n"
     ]
    },
    {
     "name": "stdout",
     "output_type": "stream",
     "text": [
      "Epoch: 047, Loss: 1.02102\n",
      "all: h@1: 0.31361 h@5: 0.50580 h@10: 0.59793 ndcg@1: 0.31361 ndcg@5: 0.41630 ndcg@10: 0.44624\n",
      "new: h@1: 0.02840 h@5: 0.17937 h@10: 0.29447 ndcg@1: 0.02840 ndcg@5: 0.10394 ndcg@10: 0.14127\n",
      "rep: h@1: 0.51031 h@5: 0.73093 h@10: 0.80722 ndcg@1: 0.51031 ndcg@5: 0.63173 ndcg@10: 0.65657\n",
      "ratio:  0.5918242830994509\n"
     ]
    },
    {
     "name": "stderr",
     "output_type": "stream",
     "text": [
      "100%|████████████████████████████████████████████████████████████████████████████████| 114/114 [03:01<00:00,  1.59s/it]\n",
      "17it [00:11,  1.47it/s]\n"
     ]
    },
    {
     "name": "stdout",
     "output_type": "stream",
     "text": [
      "Epoch: 048, Loss: 1.01518\n",
      "all: h@1: 0.31910 h@5: 0.51251 h@10: 0.60952 ndcg@1: 0.31910 ndcg@5: 0.42248 ndcg@10: 0.45383\n",
      "new: h@1: 0.02990 h@5: 0.19133 h@10: 0.30493 ndcg@1: 0.02990 ndcg@5: 0.11005 ndcg@10: 0.14646\n",
      "rep: h@1: 0.51856 h@5: 0.73402 h@10: 0.81959 ndcg@1: 0.51856 ndcg@5: 0.63795 ndcg@10: 0.66582\n",
      "ratio:  0.5918242830994509\n"
     ]
    },
    {
     "name": "stderr",
     "output_type": "stream",
     "text": [
      "100%|████████████████████████████████████████████████████████████████████████████████| 114/114 [03:01<00:00,  1.60s/it]\n",
      "17it [00:11,  1.47it/s]\n"
     ]
    },
    {
     "name": "stdout",
     "output_type": "stream",
     "text": [
      "Epoch: 049, Loss: 1.00927\n",
      "all: h@1: 0.31483 h@5: 0.51922 h@10: 0.60586 ndcg@1: 0.31483 ndcg@5: 0.42268 ndcg@10: 0.45058\n",
      "new: h@1: 0.03139 h@5: 0.19283 h@10: 0.30942 ndcg@1: 0.03139 ndcg@5: 0.10935 ndcg@10: 0.14652\n",
      "rep: h@1: 0.51031 h@5: 0.74433 h@10: 0.81031 ndcg@1: 0.51031 ndcg@5: 0.63878 ndcg@10: 0.66029\n",
      "ratio:  0.5918242830994509\n"
     ]
    },
    {
     "name": "stderr",
     "output_type": "stream",
     "text": [
      "100%|████████████████████████████████████████████████████████████████████████████████| 114/114 [03:01<00:00,  1.59s/it]\n",
      "17it [00:11,  1.47it/s]\n"
     ]
    },
    {
     "name": "stdout",
     "output_type": "stream",
     "text": [
      "Epoch: 050, Loss: 1.00368\n",
      "all: h@1: 0.31239 h@5: 0.51861 h@10: 0.60220 ndcg@1: 0.31239 ndcg@5: 0.42268 ndcg@10: 0.44967\n",
      "new: h@1: 0.03139 h@5: 0.18984 h@10: 0.29895 ndcg@1: 0.03139 ndcg@5: 0.10972 ndcg@10: 0.14488\n",
      "rep: h@1: 0.50619 h@5: 0.74536 h@10: 0.81134 ndcg@1: 0.50619 ndcg@5: 0.63853 ndcg@10: 0.65988\n",
      "ratio:  0.5918242830994509\n"
     ]
    },
    {
     "name": "stderr",
     "output_type": "stream",
     "text": [
      "100%|████████████████████████████████████████████████████████████████████████████████| 114/114 [03:01<00:00,  1.60s/it]\n",
      "17it [00:11,  1.47it/s]\n"
     ]
    },
    {
     "name": "stdout",
     "output_type": "stream",
     "text": [
      "Epoch: 051, Loss: 0.99815\n",
      "all: h@1: 0.31483 h@5: 0.51678 h@10: 0.61562 ndcg@1: 0.31483 ndcg@5: 0.42175 ndcg@10: 0.45363\n",
      "new: h@1: 0.03288 h@5: 0.18535 h@10: 0.31540 ndcg@1: 0.03288 ndcg@5: 0.10700 ndcg@10: 0.14892\n",
      "rep: h@1: 0.50928 h@5: 0.74536 h@10: 0.82268 ndcg@1: 0.50928 ndcg@5: 0.63884 ndcg@10: 0.66379\n",
      "ratio:  0.5918242830994509\n"
     ]
    },
    {
     "name": "stderr",
     "output_type": "stream",
     "text": [
      "100%|████████████████████████████████████████████████████████████████████████████████| 114/114 [03:01<00:00,  1.59s/it]\n",
      "17it [00:11,  1.48it/s]\n"
     ]
    },
    {
     "name": "stdout",
     "output_type": "stream",
     "text": [
      "Epoch: 052, Loss: 0.99602\n",
      "all: h@1: 0.31361 h@5: 0.51312 h@10: 0.61318 ndcg@1: 0.31361 ndcg@5: 0.41986 ndcg@10: 0.45217\n",
      "new: h@1: 0.02990 h@5: 0.19133 h@10: 0.30643 ndcg@1: 0.02990 ndcg@5: 0.10910 ndcg@10: 0.14605\n",
      "rep: h@1: 0.50928 h@5: 0.73505 h@10: 0.82474 ndcg@1: 0.50928 ndcg@5: 0.63419 ndcg@10: 0.66329\n",
      "ratio:  0.5918242830994509\n"
     ]
    },
    {
     "name": "stderr",
     "output_type": "stream",
     "text": [
      "100%|████████████████████████████████████████████████████████████████████████████████| 114/114 [03:02<00:00,  1.60s/it]\n",
      "17it [00:11,  1.48it/s]\n"
     ]
    },
    {
     "name": "stdout",
     "output_type": "stream",
     "text": [
      "Epoch: 053, Loss: 0.99001\n",
      "all: h@1: 0.31117 h@5: 0.52410 h@10: 0.61440 ndcg@1: 0.31117 ndcg@5: 0.42272 ndcg@10: 0.45183\n",
      "new: h@1: 0.02840 h@5: 0.19432 h@10: 0.31540 ndcg@1: 0.02840 ndcg@5: 0.10879 ndcg@10: 0.14778\n",
      "rep: h@1: 0.50619 h@5: 0.75155 h@10: 0.82062 ndcg@1: 0.50619 ndcg@5: 0.63923 ndcg@10: 0.66152\n",
      "ratio:  0.5918242830994509\n"
     ]
    },
    {
     "name": "stderr",
     "output_type": "stream",
     "text": [
      "100%|████████████████████████████████████████████████████████████████████████████████| 114/114 [03:01<00:00,  1.59s/it]\n",
      "17it [00:11,  1.45it/s]\n"
     ]
    },
    {
     "name": "stdout",
     "output_type": "stream",
     "text": [
      "Epoch: 054, Loss: 0.98338\n",
      "all: h@1: 0.31239 h@5: 0.52349 h@10: 0.62233 ndcg@1: 0.31239 ndcg@5: 0.42359 ndcg@10: 0.45555\n",
      "new: h@1: 0.02691 h@5: 0.19133 h@10: 0.32287 ndcg@1: 0.02691 ndcg@5: 0.10688 ndcg@10: 0.14931\n",
      "rep: h@1: 0.50928 h@5: 0.75258 h@10: 0.82887 ndcg@1: 0.50928 ndcg@5: 0.64201 ndcg@10: 0.66676\n",
      "ratio:  0.5918242830994509\n"
     ]
    },
    {
     "name": "stderr",
     "output_type": "stream",
     "text": [
      "100%|████████████████████████████████████████████████████████████████████████████████| 114/114 [03:02<00:00,  1.60s/it]\n",
      "17it [00:11,  1.46it/s]\n"
     ]
    },
    {
     "name": "stdout",
     "output_type": "stream",
     "text": [
      "Epoch: 055, Loss: 0.98310\n",
      "all: h@1: 0.31300 h@5: 0.52105 h@10: 0.61257 ndcg@1: 0.31300 ndcg@5: 0.42252 ndcg@10: 0.45250\n",
      "new: h@1: 0.03139 h@5: 0.19133 h@10: 0.31540 ndcg@1: 0.03139 ndcg@5: 0.10945 ndcg@10: 0.14990\n",
      "rep: h@1: 0.50722 h@5: 0.74845 h@10: 0.81753 ndcg@1: 0.50722 ndcg@5: 0.63845 ndcg@10: 0.66120\n",
      "ratio:  0.5918242830994509\n"
     ]
    },
    {
     "name": "stderr",
     "output_type": "stream",
     "text": [
      "100%|████████████████████████████████████████████████████████████████████████████████| 114/114 [03:01<00:00,  1.60s/it]\n",
      "17it [00:11,  1.48it/s]\n"
     ]
    },
    {
     "name": "stdout",
     "output_type": "stream",
     "text": [
      "Epoch: 056, Loss: 0.97598\n",
      "all: h@1: 0.30689 h@5: 0.53142 h@10: 0.62233 ndcg@1: 0.30689 ndcg@5: 0.42599 ndcg@10: 0.45532\n",
      "new: h@1: 0.02392 h@5: 0.20179 h@10: 0.32287 ndcg@1: 0.02392 ndcg@5: 0.11086 ndcg@10: 0.14975\n",
      "rep: h@1: 0.50206 h@5: 0.75876 h@10: 0.82887 ndcg@1: 0.50206 ndcg@5: 0.64334 ndcg@10: 0.66607\n",
      "ratio:  0.5918242830994509\n"
     ]
    },
    {
     "name": "stderr",
     "output_type": "stream",
     "text": [
      "100%|████████████████████████████████████████████████████████████████████████████████| 114/114 [03:02<00:00,  1.60s/it]\n",
      "17it [00:11,  1.48it/s]\n"
     ]
    },
    {
     "name": "stdout",
     "output_type": "stream",
     "text": [
      "Epoch: 057, Loss: 0.97010\n",
      "all: h@1: 0.31422 h@5: 0.53508 h@10: 0.62294 ndcg@1: 0.31422 ndcg@5: 0.43034 ndcg@10: 0.45887\n",
      "new: h@1: 0.03587 h@5: 0.20927 h@10: 0.32735 ndcg@1: 0.03587 ndcg@5: 0.12000 ndcg@10: 0.15834\n",
      "rep: h@1: 0.50619 h@5: 0.75979 h@10: 0.82680 ndcg@1: 0.50619 ndcg@5: 0.64439 ndcg@10: 0.66614\n",
      "ratio:  0.5918242830994509\n"
     ]
    },
    {
     "name": "stderr",
     "output_type": "stream",
     "text": [
      "100%|████████████████████████████████████████████████████████████████████████████████| 114/114 [03:02<00:00,  1.60s/it]\n",
      "17it [00:11,  1.48it/s]\n"
     ]
    },
    {
     "name": "stdout",
     "output_type": "stream",
     "text": [
      "Epoch: 058, Loss: 0.96883\n",
      "all: h@1: 0.31300 h@5: 0.53386 h@10: 0.62050 ndcg@1: 0.31300 ndcg@5: 0.42935 ndcg@10: 0.45759\n",
      "new: h@1: 0.02840 h@5: 0.20628 h@10: 0.32436 ndcg@1: 0.02840 ndcg@5: 0.11439 ndcg@10: 0.15276\n",
      "rep: h@1: 0.50928 h@5: 0.75979 h@10: 0.82474 ndcg@1: 0.50928 ndcg@5: 0.64658 ndcg@10: 0.66783\n",
      "ratio:  0.5918242830994509\n"
     ]
    },
    {
     "name": "stderr",
     "output_type": "stream",
     "text": [
      "100%|████████████████████████████████████████████████████████████████████████████████| 114/114 [03:02<00:00,  1.60s/it]\n",
      "17it [00:11,  1.47it/s]\n"
     ]
    },
    {
     "name": "stdout",
     "output_type": "stream",
     "text": [
      "Epoch: 059, Loss: 0.96259\n",
      "all: h@1: 0.31056 h@5: 0.53325 h@10: 0.62233 ndcg@1: 0.31056 ndcg@5: 0.42788 ndcg@10: 0.45672\n",
      "new: h@1: 0.02840 h@5: 0.20179 h@10: 0.32436 ndcg@1: 0.02840 ndcg@5: 0.11403 ndcg@10: 0.15361\n",
      "rep: h@1: 0.50515 h@5: 0.76186 h@10: 0.82784 ndcg@1: 0.50515 ndcg@5: 0.64433 ndcg@10: 0.66577\n",
      "ratio:  0.5918242830994509\n"
     ]
    },
    {
     "name": "stderr",
     "output_type": "stream",
     "text": [
      "100%|████████████████████████████████████████████████████████████████████████████████| 114/114 [03:02<00:00,  1.60s/it]\n",
      "17it [00:11,  1.47it/s]\n"
     ]
    },
    {
     "name": "stdout",
     "output_type": "stream",
     "text": [
      "Epoch: 060, Loss: 0.95686\n",
      "all: h@1: 0.31300 h@5: 0.52410 h@10: 0.63026 ndcg@1: 0.31300 ndcg@5: 0.42513 ndcg@10: 0.45942\n",
      "new: h@1: 0.02840 h@5: 0.19283 h@10: 0.34230 ndcg@1: 0.02840 ndcg@5: 0.10963 ndcg@10: 0.15772\n",
      "rep: h@1: 0.50928 h@5: 0.75258 h@10: 0.82887 ndcg@1: 0.50928 ndcg@5: 0.64273 ndcg@10: 0.66749\n",
      "ratio:  0.5918242830994509\n"
     ]
    },
    {
     "name": "stderr",
     "output_type": "stream",
     "text": [
      "100%|████████████████████████████████████████████████████████████████████████████████| 114/114 [03:02<00:00,  1.60s/it]\n",
      "17it [00:11,  1.48it/s]\n"
     ]
    },
    {
     "name": "stdout",
     "output_type": "stream",
     "text": [
      "Epoch: 061, Loss: 0.95286\n",
      "all: h@1: 0.31056 h@5: 0.52959 h@10: 0.61928 ndcg@1: 0.31056 ndcg@5: 0.42590 ndcg@10: 0.45521\n",
      "new: h@1: 0.02541 h@5: 0.19880 h@10: 0.32436 ndcg@1: 0.02541 ndcg@5: 0.11010 ndcg@10: 0.15136\n",
      "rep: h@1: 0.50722 h@5: 0.75773 h@10: 0.82268 ndcg@1: 0.50722 ndcg@5: 0.64370 ndcg@10: 0.66477\n",
      "ratio:  0.5918242830994509\n"
     ]
    },
    {
     "name": "stderr",
     "output_type": "stream",
     "text": [
      "100%|████████████████████████████████████████████████████████████████████████████████| 114/114 [03:03<00:00,  1.61s/it]\n",
      "17it [00:11,  1.48it/s]\n"
     ]
    },
    {
     "name": "stdout",
     "output_type": "stream",
     "text": [
      "Epoch: 062, Loss: 0.94818\n",
      "all: h@1: 0.30750 h@5: 0.52410 h@10: 0.62477 ndcg@1: 0.30750 ndcg@5: 0.42335 ndcg@10: 0.45593\n",
      "new: h@1: 0.02392 h@5: 0.19133 h@10: 0.33483 ndcg@1: 0.02392 ndcg@5: 0.10631 ndcg@10: 0.15262\n",
      "rep: h@1: 0.50309 h@5: 0.75361 h@10: 0.82474 ndcg@1: 0.50309 ndcg@5: 0.64201 ndcg@10: 0.66512\n",
      "ratio:  0.5918242830994509\n"
     ]
    },
    {
     "name": "stderr",
     "output_type": "stream",
     "text": [
      "100%|████████████████████████████████████████████████████████████████████████████████| 114/114 [03:02<00:00,  1.60s/it]\n",
      "17it [00:11,  1.49it/s]\n"
     ]
    },
    {
     "name": "stdout",
     "output_type": "stream",
     "text": [
      "Epoch: 063, Loss: 0.94480\n",
      "all: h@1: 0.31544 h@5: 0.52349 h@10: 0.62843 ndcg@1: 0.31544 ndcg@5: 0.42696 ndcg@10: 0.46104\n",
      "new: h@1: 0.03139 h@5: 0.19283 h@10: 0.34380 ndcg@1: 0.03139 ndcg@5: 0.11059 ndcg@10: 0.15949\n",
      "rep: h@1: 0.51134 h@5: 0.75155 h@10: 0.82474 ndcg@1: 0.51134 ndcg@5: 0.64515 ndcg@10: 0.66902\n",
      "ratio:  0.5918242830994509\n"
     ]
    },
    {
     "name": "stderr",
     "output_type": "stream",
     "text": [
      "24it [00:16,  1.43it/s]"
     ]
    },
    {
     "name": "stdout",
     "output_type": "stream",
     "text": [
      "Final score\n",
      "===========\n",
      "Epoch: 063, Loss: 0.94480\n",
      "all: h@1: 0.31954 h@5: 0.50528 h@10: 0.58801 ndcg@1: 0.31954 ndcg@5: 0.41947 ndcg@10: 0.44639\n",
      "new: h@1: 0.02081 h@5: 0.14688 h@10: 0.24480 ndcg@1: 0.02081 ndcg@5: 0.08553 ndcg@10: 0.11733\n",
      "rep: h@1: 0.47680 h@5: 0.69394 h@10: 0.76869 ndcg@1: 0.47680 ndcg@5: 0.59526 ndcg@10: 0.61961\n",
      "ratio:  0.6551287463064585\n"
     ]
    },
    {
     "name": "stderr",
     "output_type": "stream",
     "text": [
      "\n"
     ]
    }
   ],
   "source": [
    "print(\"training...\")\n",
    "for epoch in range(args.num_epochs):\n",
    "    loss_all = 0.0; loss_cnt = 0\n",
    "    model8.train()\n",
    "    for data in tqdm(train_loader):\n",
    "        data = data.to(args.device)\n",
    "        optimizer.zero_grad()\n",
    "    \n",
    "        loss = model8.train_step(data)\n",
    "            \n",
    "        loss_all += loss.item()\n",
    "        loss_cnt += (data[:,:,5]!=0).sum()\n",
    "        \n",
    "#         loss1 = loss.detach_().requires_grad_(True)\n",
    "#         loss1.backward()\n",
    "        loss.backward()\n",
    "        optimizer.step()\n",
    "            \n",
    "        if torch.isnan(loss):\n",
    "            print(\"loss is nan !\") \n",
    "    \n",
    "    scores = compute_recall(model8, val_loader, args, maxit=500)\n",
    "    print('Epoch: {:03d}, Loss: {:.5f}'.format(epoch, loss_all/loss_cnt))\n",
    "    print_scores(scores)\n",
    "    \n",
    "    hall = scores['all']['h01']\n",
    "    if hall>best_val:\n",
    "        best_val = hall\n",
    "        torch.save(model8.state_dict(), MPATH8)\n",
    "        best_cnt = best_max\n",
    "    else:\n",
    "        best_cnt -= 1\n",
    "        if best_cnt == 0:\n",
    "            break\n",
    "    \n",
    "model8 = MODEL8(args).to(args.device)\n",
    "model8.load_state_dict(torch.load(MPATH8))\n",
    "    \n",
    "scores = compute_recall(model8, test_loader, args)\n",
    "print(\"Final score\")\n",
    "print(\"=\"*11)\n",
    "print('Epoch: {:03d}, Loss: {:.5f}'.format(epoch, loss_all/loss_cnt))\n",
    "print_scores(scores)\n",
    "save_scores(scores,args)"
   ]
  },
  {
   "cell_type": "code",
   "execution_count": null,
   "id": "6b70c95e",
   "metadata": {},
   "outputs": [],
   "source": []
  },
  {
   "cell_type": "code",
   "execution_count": 16,
   "id": "1fc5708b",
   "metadata": {},
   "outputs": [],
   "source": [
    "# 定义模型\n",
    "class TimeAwareAttentionMemory(torch.nn.Module):\n",
    "    def __init__(self, embedding_dim, memory_dim, num_intervals, interval_dim, output_dim):\n",
    "        super(TimeAwareAttentionMemory, self).__init__()\n",
    "        self.num_intervals = num_intervals\n",
    "\n",
    "        # 定义嵌入层\n",
    "        self.item_embedding = nn.Embedding(num_items, embedding_dim)  # item嵌入\n",
    "        self.interval_embedding = nn.Embedding(num_intervals, interval_dim)  # 间隔嵌入\n",
    "        self.time_embedding = nn.Embedding(num_intervals, embedding_dim)  # 时间间隔嵌入\n",
    "\n",
    "        # 定义记忆网络\n",
    "        self.memory_network = nn.LSTM(embedding_dim, memory_dim, batch_first=True)  # LSTM记忆网络\n",
    "\n",
    "        # 定义注意力网络和输出网络\n",
    "        self.attention_network = nn.Sequential(\n",
    "            nn.Linear(memory_dim + interval_dim, 1),  # 注意力网络\n",
    "            nn.Softmax(dim=1)\n",
    "        )\n",
    "        self.output_network = nn.Linear(memory_dim, output_dim)  # 输出网络\n",
    "\n",
    "    def forward(self, input_seq, interval_seq):\n",
    "        # 嵌入输入序列\n",
    "        input_emb = self.item_embedding(input_seq)  # 物品嵌入\n",
    "\n",
    "        # 嵌入时间间隔序列\n",
    "        interval_emb = self.interval_embedding(interval_seq)  # 间隔嵌入\n",
    "        time_emb = self.time_embedding(interval_seq)  # 时间间隔嵌入\n",
    "\n",
    "        # 嵌入时间间隔\n",
    "        interval_len = input_seq.size(1) // self.num_intervals  # 每个间隔的长度\n",
    "        intervals = (torch.arange(self.num_intervals) * interval_len).unsqueeze(0) + torch.arange(\n",
    "            interval_len).unsqueeze(1)  # 间隔序列\n",
    "        interval_emb = interval_emb[:, intervals]  # 每个间隔的嵌入\n",
    "        time_emb = time_emb[:, intervals]  # 每个时间间隔的嵌入\n",
    "\n",
    "        # 组合输入序列\n",
    "        packed_input = nn.utils.rnn.pack_padded_sequence(input_emb, input_lens, batch_first=True, enforce_sorted=False)\n",
    "\n",
    "        # 通过记忆网络处理输入序列\n",
    "        memory, _ = self.memory_network(packed_input)  # LSTM的输出\n",
    "\n",
    "        # 填充记忆向量序列\n",
    "        memory, _ = nn.utils.rnn.pad_packed_sequence(memory, batch_first=True)  # LSTM的输出序列\n",
    "\n",
    "        # 计算注意力分数\n",
    "        time_emb = time_emb.unsqueeze(2).repeat(1, 1, memory.size(2))  # 将时间间隔的嵌入复制到与记忆向量匹配的维度\n",
    "        attn_input = torch.cat([memory, interval_emb, time_emb], dim=2)  # 注意力计算的输入\n",
    "        attn_scores = self.attention_network(attn_input)  # 计算注意力权重\n",
    "\n",
    "        # 应用注意力到记忆向量\n",
    "        attn_scores = attn_scores.unsqueeze(2)\n",
    "        memory_attn = (attn_scores * memory).sum(dim=1)  # 注意力记忆向量\n",
    "\n",
    "        # 通过输出网络处理记忆向量\n",
    "        output = self.output_network(memory_attn)  # 最终输出\n",
    "        return output"
   ]
  }
 ],
 "metadata": {
  "kernelspec": {
   "display_name": "base",
   "language": "python",
   "name": "base"
  },
  "language_info": {
   "codemirror_mode": {
    "name": "ipython",
    "version": 3
   },
   "file_extension": ".py",
   "mimetype": "text/x-python",
   "name": "python",
   "nbconvert_exporter": "python",
   "pygments_lexer": "ipython3",
   "version": "3.9.13"
  }
 },
 "nbformat": 4,
 "nbformat_minor": 5
}
