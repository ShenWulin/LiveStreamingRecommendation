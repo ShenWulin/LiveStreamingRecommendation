{
 "cells": [
  {
   "cell_type": "code",
   "execution_count": 1,
   "id": "b7beb3f8",
   "metadata": {},
   "outputs": [],
   "source": [
    "import pandas as pd\n",
    "import numpy as np\n",
    "import matplotlib.pyplot as plt"
   ]
  },
  {
   "cell_type": "code",
   "execution_count": 2,
   "id": "4a91326e",
   "metadata": {},
   "outputs": [],
   "source": [
    "import argparse\n",
    "from prettytable import PrettyTable"
   ]
  },
  {
   "cell_type": "code",
   "execution_count": 3,
   "id": "6800cf2e",
   "metadata": {},
   "outputs": [],
   "source": [
    "from sampling import *\n",
    "\n",
    "import torch.utils.data as data\n",
    "from torch.utils.data import DataLoader"
   ]
  },
  {
   "cell_type": "code",
   "execution_count": 4,
   "id": "355018da",
   "metadata": {},
   "outputs": [],
   "source": [
    "import torch\n",
    "import torch.optim as optim"
   ]
  },
  {
   "cell_type": "code",
   "execution_count": 5,
   "id": "58ec372b",
   "metadata": {},
   "outputs": [],
   "source": [
    "import os\n",
    "import torch\n",
    "import pickle\n",
    "from tqdm import tqdm"
   ]
  },
  {
   "cell_type": "code",
   "execution_count": 6,
   "id": "143f9ca5",
   "metadata": {},
   "outputs": [],
   "source": [
    "def print_args(parse_args):\n",
    "    x = PrettyTable()\n",
    "    x.field_names = [\"Arg.\", \"Value\"]\n",
    "    for arg in vars(parse_args):\n",
    "        x.add_row([arg, getattr(parse_args, arg)])\n",
    "    print(x)"
   ]
  },
  {
   "cell_type": "code",
   "execution_count": 7,
   "id": "3375dd37",
   "metadata": {},
   "outputs": [],
   "source": [
    "def arg_parse():\n",
    "        parser = argparse.ArgumentParser(description='LiveRec - Douyu')\n",
    "\n",
    "        parser.add_argument('--seed', dest='seed', type=int,\n",
    "            help='Random seed')\n",
    "\n",
    "        parser.add_argument('--batch_size', dest='batch_size', type=int,\n",
    "            help='Batch size - only active if torch is used')\n",
    "        parser.add_argument('--seq_len', dest='seq_len', type=int,\n",
    "            help='Max size of the sequence to consider')\n",
    "\n",
    "        parser.add_argument('--num_heads', dest='num_heads', type=int,\n",
    "            help='Numer of heads to use for multi-heads attention')\n",
    "        parser.add_argument('--num_heads_ctx', dest='num_heads_ctx', type=int,\n",
    "            help='Numer of heads to use for multi-heads attention CTX')\n",
    "\n",
    "\n",
    "        parser.add_argument('--dataset', dest='dataset', \n",
    "            help='Input dataset.')\n",
    " \n",
    "        parser.add_argument('--model', dest='model', type=str,\n",
    "            help='Type of the model')\n",
    "\n",
    "        parser.add_argument('--model_from', dest='mfrom', type=str,\n",
    "            help='Name of the model to load')\n",
    "        parser.add_argument('--model_to', dest='mto', type=str,\n",
    "            help='Name of the model to save')\n",
    "        parser.add_argument('--cache_dir', dest='cache_dir', type=str,\n",
    "            help='Path to save the cached preprocessd dataset')\n",
    " \n",
    "        parser.add_argument('--model_path', dest='model_path', type=str,\n",
    "            help='Path to save the model')\n",
    "        parser.add_argument('--early_stop', dest='early_stop', type=int,\n",
    "            help='Number of iteration without improvment before stop')\n",
    "        parser.add_argument('--ev_sample', dest='ev_sample', type=int,\n",
    "            help='Number of samples for the final evaluation')\n",
    "        parser.add_argument('--device', dest='device', type=str,\n",
    "            help='Pytorch device')\n",
    "\n",
    "        parser.add_argument('--lr', dest='lr', type=float,\n",
    "            help='Learning rate.')\n",
    "        parser.add_argument('--mask_prob', dest='mask_prob', type=float,\n",
    "            help='BERT mask prob.')\n",
    "        parser.add_argument('--l2', dest='l2', type=float,\n",
    "            help='Strength of L2 regularization')\n",
    "        parser.add_argument('--dim', dest='K', type=int,\n",
    "            help='Number of latent factors')\n",
    " \n",
    "        parser.add_argument('--num_iters', dest='num_iter', type=int,\n",
    "            help='Number of training iterations')\n",
    "        parser.add_argument('--num_epochs', dest='num_epochs', type=int,\n",
    "            help='Number of training epochs')\n",
    "        parser.add_argument('--num_att', dest='num_att', type=int,\n",
    "            help='Num attention module for seq encoding')\n",
    "        parser.add_argument('--num_att_ctx', dest='num_att_ctx', type=int,\n",
    "            help='Num attention for ctx module')\n",
    " \n",
    "        parser.add_argument('--topk_att', dest='topk_att', type=int,\n",
    "            help='Items to send to attentive output')\n",
    "\n",
    "        parser.add_argument('--fr_ctx', dest='fr_ctx', nargs='?',\n",
    "            const=True, default=True,\n",
    "            help='')\n",
    "        parser.add_argument('--fr_rep', dest='fr_rep', nargs='?',\n",
    "            const=True, default=False,\n",
    "            help='')\n",
    "        parser.add_argument('--uniform', dest='uniform', nargs='?',\n",
    "            const=True, default=False,\n",
    "            help='')\n",
    "        parser.add_argument('--debug', dest='debug', nargs='?',\n",
    "            const=True, default=False,\n",
    "            help='')\n",
    "#         parser.add_argument('--caching', dest='caching', nargs='?',\n",
    "#             const=True, default=False,\n",
    "#             help='')\n",
    "        parser.add_argument('--caching', dest='caching', nargs='?',\n",
    "            const=True, default=True,\n",
    "            help='')\n",
    "\n",
    "        parser.set_defaults(\n",
    "                        seed=42,\n",
    "                        dataset=\"\",\n",
    "                        lr=0.0005,\n",
    "                        l2=0.1,  \n",
    "                        mask_prob=0.5,  \n",
    "                        batch_size=100, \n",
    "                        num_att=2,\n",
    "                        num_att_ctx=2,\n",
    "                        num_heads=4,\n",
    "                        num_heads_ctx=4,\n",
    "                        num_iter=200,\n",
    "                        seq_len=16,  \n",
    "                        topk_att=64,  \n",
    "                        early_stop=15,  \n",
    "                        K=64,  \n",
    "                        num_epochs=150,\n",
    "#                         model=\"LiveRec\",\n",
    "                        model=\"POP\",\n",
    "                        model_path=\"\",\n",
    "                        mto=\"liverec\",\n",
    "                        device=\"cuda\",\n",
    "                        cache_dir=\"\"\n",
    "                       )\n",
    "\n",
    "\n",
    "        args, unknown = parser.parse_known_args()\n",
    "        return args "
   ]
  },
  {
   "cell_type": "code",
   "execution_count": 8,
   "id": "526f32ab",
   "metadata": {},
   "outputs": [
    {
     "name": "stdout",
     "output_type": "stream",
     "text": [
      "+---------------+---------+\n",
      "|      Arg.     |  Value  |\n",
      "+---------------+---------+\n",
      "|      seed     |    42   |\n",
      "|   batch_size  |   100   |\n",
      "|    seq_len    |    16   |\n",
      "|   num_heads   |    4    |\n",
      "| num_heads_ctx |    4    |\n",
      "|    dataset    |         |\n",
      "|     model     |   POP   |\n",
      "|     mfrom     |   None  |\n",
      "|      mto      | liverec |\n",
      "|   cache_dir   |         |\n",
      "|   model_path  |         |\n",
      "|   early_stop  |    15   |\n",
      "|   ev_sample   |   None  |\n",
      "|     device    |   cuda  |\n",
      "|       lr      |  0.0005 |\n",
      "|   mask_prob   |   0.5   |\n",
      "|       l2      |   0.1   |\n",
      "|       K       |    64   |\n",
      "|    num_iter   |   200   |\n",
      "|   num_epochs  |   150   |\n",
      "|    num_att    |    2    |\n",
      "|  num_att_ctx  |    2    |\n",
      "|    topk_att   |    64   |\n",
      "|     fr_ctx    |   True  |\n",
      "|     fr_rep    |  False  |\n",
      "|    uniform    |  False  |\n",
      "|     debug     |  False  |\n",
      "|    caching    |   True  |\n",
      "+---------------+---------+\n"
     ]
    }
   ],
   "source": [
    "args = arg_parse()\n",
    "print_args(args)\n",
    "args.device = torch.device(args.device)"
   ]
  },
  {
   "cell_type": "code",
   "execution_count": null,
   "id": "4669f7dd",
   "metadata": {},
   "outputs": [],
   "source": []
  },
  {
   "cell_type": "code",
   "execution_count": 9,
   "id": "eb3f5da1",
   "metadata": {},
   "outputs": [
    {
     "name": "stdout",
     "output_type": "stream",
     "text": [
      "Num users:  11610\n",
      "Num streamers:  47612\n",
      "Num interactions:  5378125\n"
     ]
    }
   ],
   "source": [
    "INFILE = os.path.join(args.dataset,'douyu_10k_min_duration.csv')\n",
    "#user,streamer_id,start,stop\n",
    "cols = [\"user\",\"streamer\",\"start\",\"stop\",\"duration\"]\n",
    "data_fu = pd.read_csv(INFILE, header=None, names=cols)\n",
    "    \n",
    "# Add one for padding\n",
    "data_fu.user = pd.factorize(data_fu.user)[0]+1\n",
    "data_fu['streamer_raw'] = data_fu.streamer\n",
    "data_fu.streamer = pd.factorize(data_fu.streamer)[0]+1\n",
    "print(\"Num users: \", data_fu.user.nunique())\n",
    "print(\"Num streamers: \", data_fu.streamer.nunique())\n",
    "print(\"Num interactions: \", len(data_fu))"
   ]
  },
  {
   "cell_type": "code",
   "execution_count": 10,
   "id": "8b5368ba",
   "metadata": {},
   "outputs": [
    {
     "data": {
      "text/plain": [
       "(0, 87839, 1, 87840)"
      ]
     },
     "execution_count": 10,
     "metadata": {},
     "output_type": "execute_result"
    }
   ],
   "source": [
    "data_fu.start.min(),data_fu.start.max(),data_fu.stop.min(),data_fu.stop.max()"
   ]
  },
  {
   "cell_type": "code",
   "execution_count": 11,
   "id": "5cad0a55",
   "metadata": {},
   "outputs": [],
   "source": [
    "args.M = data_fu.user.max()+1 # users\n",
    "args.N = data_fu.streamer.max()+2 # items\n",
    "args.D = data_fu.duration.max()+1 # duration\n",
    "\n",
    "data_temp = data_fu.drop_duplicates(subset=['streamer','streamer_raw'])\n",
    "umap      = dict(zip(data_temp.streamer_raw.tolist(),data_temp.streamer.tolist()))"
   ]
  },
  {
   "cell_type": "code",
   "execution_count": 12,
   "id": "8fafe00b",
   "metadata": {},
   "outputs": [
    {
     "data": {
      "text/plain": [
       "(11611, 47614, 2883)"
      ]
     },
     "execution_count": 12,
     "metadata": {},
     "output_type": "execute_result"
    }
   ],
   "source": [
    "args.M ,args.N ,args.D"
   ]
  },
  {
   "cell_type": "code",
   "execution_count": 13,
   "id": "b6d96521",
   "metadata": {},
   "outputs": [
    {
     "name": "stdout",
     "output_type": "stream",
     "text": [
      "Num timesteps:  87840\n"
     ]
    }
   ],
   "source": [
    "# Splitting and caching\n",
    "max_step = max(data_fu.start.max(),data_fu.stop.max())\n",
    "print(\"Num timesteps: \", max_step)\n",
    "args.max_step = max_step\n",
    "args.pivot_1  = max_step-500\n",
    "args.pivot_2  = max_step-250"
   ]
  },
  {
   "cell_type": "code",
   "execution_count": 14,
   "id": "ca8bea7d",
   "metadata": {},
   "outputs": [
    {
     "name": "stdout",
     "output_type": "stream",
     "text": [
      "caching availability\n",
      "max_avail:  446\n"
     ]
    }
   ],
   "source": [
    "print(\"caching availability\")\n",
    "ts = {}\n",
    "max_avail = 0\n",
    "for s in range(max_step):\n",
    "    all_av = data_fu[(data_fu.start<=s) & (data_fu.stop>s)].streamer.unique().tolist()\n",
    "    ts[s] = all_av\n",
    "    max_avail = max(max_avail,len(ts[s]))\n",
    "args.max_avail = max_avail\n",
    "args.ts = ts\n",
    "print(\"max_avail: \", max_avail)"
   ]
  },
  {
   "cell_type": "code",
   "execution_count": 15,
   "id": "674384c0",
   "metadata": {},
   "outputs": [],
   "source": [
    "# Compute availability matrix of size (num_timesteps x max_available)\n",
    "max_av   = max([len(v) for k,v in args.ts.items()])\n",
    "max_step = max([k for k,v in args.ts.items()])+1\n",
    "av_tens = torch.zeros(max_step,max_av).type(torch.long)\n",
    "for k,v in args.ts.items():\n",
    "    av_tens[k,:len(v)] = torch.LongTensor(v)\n",
    "args.av_tens = av_tens.to(args.device)"
   ]
  },
  {
   "cell_type": "code",
   "execution_count": 16,
   "id": "f6ab1041",
   "metadata": {
    "scrolled": true
   },
   "outputs": [
    {
     "data": {
      "text/html": [
       "<div>\n",
       "<style scoped>\n",
       "    .dataframe tbody tr th:only-of-type {\n",
       "        vertical-align: middle;\n",
       "    }\n",
       "\n",
       "    .dataframe tbody tr th {\n",
       "        vertical-align: top;\n",
       "    }\n",
       "\n",
       "    .dataframe thead th {\n",
       "        text-align: right;\n",
       "    }\n",
       "</style>\n",
       "<table border=\"1\" class=\"dataframe\">\n",
       "  <thead>\n",
       "    <tr style=\"text-align: right;\">\n",
       "      <th></th>\n",
       "      <th>user</th>\n",
       "      <th>streamer</th>\n",
       "      <th>start</th>\n",
       "      <th>stop</th>\n",
       "      <th>duration</th>\n",
       "      <th>streamer_raw</th>\n",
       "    </tr>\n",
       "  </thead>\n",
       "  <tbody>\n",
       "    <tr>\n",
       "      <th>0</th>\n",
       "      <td>1</td>\n",
       "      <td>1</td>\n",
       "      <td>81824</td>\n",
       "      <td>81825</td>\n",
       "      <td>2</td>\n",
       "      <td>1211089da67</td>\n",
       "    </tr>\n",
       "    <tr>\n",
       "      <th>1</th>\n",
       "      <td>1</td>\n",
       "      <td>2</td>\n",
       "      <td>73720</td>\n",
       "      <td>73721</td>\n",
       "      <td>1</td>\n",
       "      <td>eb5bf69ab60</td>\n",
       "    </tr>\n",
       "    <tr>\n",
       "      <th>2</th>\n",
       "      <td>1</td>\n",
       "      <td>1</td>\n",
       "      <td>81825</td>\n",
       "      <td>81834</td>\n",
       "      <td>18</td>\n",
       "      <td>1211089da67</td>\n",
       "    </tr>\n",
       "    <tr>\n",
       "      <th>3</th>\n",
       "      <td>1</td>\n",
       "      <td>2</td>\n",
       "      <td>73673</td>\n",
       "      <td>73676</td>\n",
       "      <td>4</td>\n",
       "      <td>eb5bf69ab60</td>\n",
       "    </tr>\n",
       "    <tr>\n",
       "      <th>4</th>\n",
       "      <td>1</td>\n",
       "      <td>1</td>\n",
       "      <td>81745</td>\n",
       "      <td>81750</td>\n",
       "      <td>9</td>\n",
       "      <td>1211089da67</td>\n",
       "    </tr>\n",
       "    <tr>\n",
       "      <th>...</th>\n",
       "      <td>...</td>\n",
       "      <td>...</td>\n",
       "      <td>...</td>\n",
       "      <td>...</td>\n",
       "      <td>...</td>\n",
       "      <td>...</td>\n",
       "    </tr>\n",
       "    <tr>\n",
       "      <th>5378120</th>\n",
       "      <td>11610</td>\n",
       "      <td>8849</td>\n",
       "      <td>21366</td>\n",
       "      <td>21368</td>\n",
       "      <td>2</td>\n",
       "      <td>80ec36cddc2</td>\n",
       "    </tr>\n",
       "    <tr>\n",
       "      <th>5378121</th>\n",
       "      <td>11610</td>\n",
       "      <td>8849</td>\n",
       "      <td>21364</td>\n",
       "      <td>21367</td>\n",
       "      <td>4</td>\n",
       "      <td>80ec36cddc2</td>\n",
       "    </tr>\n",
       "    <tr>\n",
       "      <th>5378122</th>\n",
       "      <td>11610</td>\n",
       "      <td>8849</td>\n",
       "      <td>21319</td>\n",
       "      <td>21332</td>\n",
       "      <td>24</td>\n",
       "      <td>80ec36cddc2</td>\n",
       "    </tr>\n",
       "    <tr>\n",
       "      <th>5378123</th>\n",
       "      <td>11610</td>\n",
       "      <td>8849</td>\n",
       "      <td>21362</td>\n",
       "      <td>21365</td>\n",
       "      <td>4</td>\n",
       "      <td>80ec36cddc2</td>\n",
       "    </tr>\n",
       "    <tr>\n",
       "      <th>5378124</th>\n",
       "      <td>11610</td>\n",
       "      <td>8849</td>\n",
       "      <td>21303</td>\n",
       "      <td>21312</td>\n",
       "      <td>16</td>\n",
       "      <td>80ec36cddc2</td>\n",
       "    </tr>\n",
       "  </tbody>\n",
       "</table>\n",
       "<p>5378125 rows × 6 columns</p>\n",
       "</div>"
      ],
      "text/plain": [
       "          user  streamer  start   stop  duration streamer_raw\n",
       "0            1         1  81824  81825         2  1211089da67\n",
       "1            1         2  73720  73721         1  eb5bf69ab60\n",
       "2            1         1  81825  81834        18  1211089da67\n",
       "3            1         2  73673  73676         4  eb5bf69ab60\n",
       "4            1         1  81745  81750         9  1211089da67\n",
       "...        ...       ...    ...    ...       ...          ...\n",
       "5378120  11610      8849  21366  21368         2  80ec36cddc2\n",
       "5378121  11610      8849  21364  21367         4  80ec36cddc2\n",
       "5378122  11610      8849  21319  21332        24  80ec36cddc2\n",
       "5378123  11610      8849  21362  21365         4  80ec36cddc2\n",
       "5378124  11610      8849  21303  21312        16  80ec36cddc2\n",
       "\n",
       "[5378125 rows x 6 columns]"
      ]
     },
     "execution_count": 16,
     "metadata": {},
     "output_type": "execute_result"
    }
   ],
   "source": [
    "data_fu"
   ]
  },
  {
   "cell_type": "code",
   "execution_count": 17,
   "id": "4ab1a220",
   "metadata": {},
   "outputs": [],
   "source": [
    "def custom_collate(batch,args):\n",
    "    # returns a [batch x seq x feats] tensor\n",
    "    # feats: [padded_positions,positions,inputs_ts,items,users,targets,targets_ts]\n",
    "\n",
    "    bs = len(batch)\n",
    "    feat_len = len(batch[0])\n",
    "    batch_seq = torch.zeros(bs,args.seq_len, feat_len, dtype=torch.long)\n",
    "    for ib,b in enumerate(batch):\n",
    "        for ifeat,feat in enumerate(b):\n",
    "            batch_seq[ib,b[0],ifeat] = feat\n",
    "    return batch_seq"
   ]
  },
  {
   "cell_type": "code",
   "execution_count": 18,
   "id": "440fc1a9",
   "metadata": {},
   "outputs": [],
   "source": [
    "class SequenceDataset(data.Dataset):\n",
    "    def __init__(self, data):\n",
    "        self.data = data\n",
    "\n",
    "    def __len__(self):\n",
    "        return len(self.data)\n",
    "\n",
    "    def __getitem__(self, idx):\n",
    "        return self.data[idx]\n",
    "\n",
    "def collate_fn_padd(batch):\n",
    "    '''\n",
    "    Padds batch of variable length\n",
    "\n",
    "    note: it converts things ToTensor manually here since the ToTensor transform\n",
    "    assume it takes in images rather than arbitrary tensors.\n",
    "    '''\n",
    "    ## get sequence lengths\n",
    "    lengths = torch.tensor([ t.shape[0] for t in batch ]).to(device)\n",
    "    ## padd\n",
    "    batch = [ torch.Tensor(t).to(device) for t in batch ]\n",
    "    batch = torch.nn.utils.rnn.pad_sequence(batch)\n",
    "    ## compute mask\n",
    "    mask = (batch != 0).to(device)\n",
    "    return batch, lengths, mask\n",
    "\n",
    "def get_sequences(_data, _p1, _p2, args, max_u=int(10e9)):\n",
    "    data_list = []\n",
    "\n",
    "    _data = _data[_data.stop<_p2].copy()\n",
    "    \n",
    "    grouped = _data.groupby('user')\n",
    "    for user_id, group in tqdm(grouped):\n",
    "        group = group.sort_values('start')\n",
    "        group = group.tail(args.seq_len+1)\n",
    "        if len(group)<2: continue\n",
    "\n",
    "        group = group.reset_index(drop=True) \n",
    "        \n",
    "        # Get last interaction\n",
    "        last_el = group.tail(1)\n",
    "        yt = last_el.start.values[0]\n",
    "        group.drop(last_el.index,inplace=True)\n",
    "\n",
    "        # avoid including train in test/validation\n",
    "        if yt < _p1 or yt >= _p2: continue\n",
    "\n",
    "        padlen = args.seq_len - len(group)\n",
    "\n",
    "        # sequence input features\n",
    "        positions  = torch.LongTensor(group.index.values)\n",
    "        inputs_ts  = torch.LongTensor(group.start.values)\n",
    "        items      = torch.LongTensor(group['streamer'].values)\n",
    "        duration   = torch.LongTensor(group['duration'].values)\n",
    "        users      = torch.LongTensor(group.user.values)\n",
    "        bpad       = torch.LongTensor(group.index.values + padlen)\n",
    "        diff_du    = torch.LongTensor(np.diff(np.array(inputs_ts[1:].tolist() + [last_el.start.values[0]])))\n",
    "\n",
    "        # sequence output features\n",
    "        targets    = torch.LongTensor(items[1:].tolist() + [last_el.streamer.values[0]])\n",
    "        targets_ts = torch.LongTensor(inputs_ts[1:].tolist() + [last_el.start.values[0]])\n",
    "\n",
    "        data_list.append([bpad,positions,inputs_ts,items,users,targets,targets_ts,duration])\n",
    "\n",
    "        # stop if user limit is reached\n",
    "        if len(data_list)>max_u: break\n",
    "\n",
    "    return SequenceDataset(data_list)"
   ]
  },
  {
   "cell_type": "code",
   "execution_count": 19,
   "id": "26a169f0",
   "metadata": {},
   "outputs": [],
   "source": [
    "cache_tr = os.path.join(args.cache_dir,\"douyu_10k_min_dur_tr.p\")\n",
    "cache_te = os.path.join(args.cache_dir,\"douyu_10k_min_dur_te.p\")\n",
    "cache_va = os.path.join(args.cache_dir,\"douyu_10k_min_dur_val.p\")\n",
    "\n",
    "mu = int(10e9)"
   ]
  },
  {
   "cell_type": "code",
   "execution_count": 20,
   "id": "711bd034",
   "metadata": {
    "scrolled": true
   },
   "outputs": [
    {
     "name": "stderr",
     "output_type": "stream",
     "text": [
      "100%|██████████████████████████████████████████████████████████████████████████| 11591/11591 [00:06<00:00, 1714.52it/s]\n",
      "100%|██████████████████████████████████████████████████████████████████████████| 11600/11600 [00:04<00:00, 2396.31it/s]\n",
      "100%|██████████████████████████████████████████████████████████████████████████| 11610/11610 [00:04<00:00, 2339.60it/s]\n"
     ]
    }
   ],
   "source": [
    "datalist_tr = get_sequences(data_fu,0,args.pivot_1,args,mu)\n",
    "datalist_va = get_sequences(data_fu,args.pivot_1,args.pivot_2,args,mu)\n",
    "datalist_te = get_sequences(data_fu,args.pivot_2,max_step,args,mu)\n",
    "    \n",
    "pickle.dump(datalist_te, open(cache_te, \"wb\"))\n",
    "pickle.dump(datalist_tr, open(cache_tr, \"wb\"))\n",
    "pickle.dump(datalist_va, open(cache_va, \"wb\"))"
   ]
  },
  {
   "cell_type": "code",
   "execution_count": 21,
   "id": "d2ddf6e4",
   "metadata": {},
   "outputs": [],
   "source": [
    "train_loader = DataLoader(datalist_tr,batch_size=args.batch_size,\n",
    "                              collate_fn=lambda x: custom_collate(x,args))\n",
    "val_loader   = DataLoader(datalist_va,batch_size=args.batch_size,\n",
    "                              collate_fn=lambda x: custom_collate(x,args))\n",
    "test_loader  = DataLoader(datalist_te,batch_size=args.batch_size,\n",
    "                              collate_fn=lambda x: custom_collate(x,args))"
   ]
  },
  {
   "cell_type": "code",
   "execution_count": null,
   "id": "e4a27991",
   "metadata": {},
   "outputs": [],
   "source": []
  },
  {
   "cell_type": "code",
   "execution_count": 22,
   "id": "aacddedb",
   "metadata": {},
   "outputs": [],
   "source": [
    "from eval import *\n",
    "from data import *\n",
    "from models import *"
   ]
  },
  {
   "cell_type": "code",
   "execution_count": 23,
   "id": "39612a80",
   "metadata": {},
   "outputs": [],
   "source": [
    "args.model='LiveRec'\n",
    "MPATH5,MODEL5 = get_model_type(args)\n",
    "MPATH5,MODEL5\n",
    "model5 = MODEL5(args).to(args.device)\n",
    "optimizer = optim.Adam(model5.parameters(),lr=args.lr,weight_decay=args.l2)\n",
    "\n",
    "best_val = 0.0\n",
    "best_max = args.early_stop\n",
    "best_cnt = best_max"
   ]
  },
  {
   "cell_type": "code",
   "execution_count": 24,
   "id": "10b3899b",
   "metadata": {
    "scrolled": true
   },
   "outputs": [
    {
     "name": "stdout",
     "output_type": "stream",
     "text": [
      "training...\n"
     ]
    },
    {
     "name": "stderr",
     "output_type": "stream",
     "text": [
      "100%|████████████████████████████████████████████████████████████████████████████████| 114/114 [00:25<00:00,  4.39it/s]\n",
      "17it [00:01,  8.61it/s]\n"
     ]
    },
    {
     "name": "stdout",
     "output_type": "stream",
     "text": [
      "Epoch: 000, Loss: 2.00960\n",
      "all: h@1: 0.18670 h@5: 0.29713 h@10: 0.34594 ndcg@1: 0.18670 ndcg@5: 0.24457 ndcg@10: 0.26031\n",
      "new: h@1: 0.00448 h@5: 0.04335 h@10: 0.07773 ndcg@1: 0.00448 ndcg@5: 0.02267 ndcg@10: 0.03379\n",
      "rep: h@1: 0.31237 h@5: 0.47216 h@10: 0.53093 ndcg@1: 0.31237 ndcg@5: 0.39762 ndcg@10: 0.41654\n",
      "ratio:  0.5918242830994509\n"
     ]
    },
    {
     "name": "stderr",
     "output_type": "stream",
     "text": [
      "100%|████████████████████████████████████████████████████████████████████████████████| 114/114 [00:24<00:00,  4.60it/s]\n",
      "17it [00:02,  8.45it/s]\n"
     ]
    },
    {
     "name": "stdout",
     "output_type": "stream",
     "text": [
      "Epoch: 001, Loss: 1.55879\n",
      "all: h@1: 0.16718 h@5: 0.28432 h@10: 0.34228 ndcg@1: 0.16718 ndcg@5: 0.22812 ndcg@10: 0.24685\n",
      "new: h@1: 0.00747 h@5: 0.05082 h@10: 0.08520 ndcg@1: 0.00747 ndcg@5: 0.02823 ndcg@10: 0.03916\n",
      "rep: h@1: 0.27732 h@5: 0.44536 h@10: 0.51959 ndcg@1: 0.27732 ndcg@5: 0.36598 ndcg@10: 0.39008\n",
      "ratio:  0.5918242830994509\n"
     ]
    },
    {
     "name": "stderr",
     "output_type": "stream",
     "text": [
      "100%|████████████████████████████████████████████████████████████████████████████████| 114/114 [00:24<00:00,  4.61it/s]\n",
      "17it [00:01,  8.69it/s]\n"
     ]
    },
    {
     "name": "stdout",
     "output_type": "stream",
     "text": [
      "Epoch: 002, Loss: 1.32295\n",
      "all: h@1: 0.14521 h@5: 0.29774 h@10: 0.37279 ndcg@1: 0.14521 ndcg@5: 0.22473 ndcg@10: 0.24915\n",
      "new: h@1: 0.00897 h@5: 0.07025 h@10: 0.12108 ndcg@1: 0.00897 ndcg@5: 0.04042 ndcg@10: 0.05684\n",
      "rep: h@1: 0.23918 h@5: 0.45464 h@10: 0.54639 ndcg@1: 0.23918 ndcg@5: 0.35185 ndcg@10: 0.38177\n",
      "ratio:  0.5918242830994509\n"
     ]
    },
    {
     "name": "stderr",
     "output_type": "stream",
     "text": [
      "100%|████████████████████████████████████████████████████████████████████████████████| 114/114 [00:26<00:00,  4.34it/s]\n",
      "17it [00:02,  6.90it/s]\n"
     ]
    },
    {
     "name": "stdout",
     "output_type": "stream",
     "text": [
      "Epoch: 003, Loss: 1.27622\n",
      "all: h@1: 0.15192 h@5: 0.32276 h@10: 0.37767 ndcg@1: 0.15192 ndcg@5: 0.23894 ndcg@10: 0.25691\n",
      "new: h@1: 0.01196 h@5: 0.08670 h@10: 0.12556 ndcg@1: 0.01196 ndcg@5: 0.04912 ndcg@10: 0.06190\n",
      "rep: h@1: 0.24845 h@5: 0.48557 h@10: 0.55155 ndcg@1: 0.24845 ndcg@5: 0.36985 ndcg@10: 0.39141\n",
      "ratio:  0.5918242830994509\n"
     ]
    },
    {
     "name": "stderr",
     "output_type": "stream",
     "text": [
      "100%|████████████████████████████████████████████████████████████████████████████████| 114/114 [00:26<00:00,  4.34it/s]\n",
      "17it [00:02,  7.74it/s]\n"
     ]
    },
    {
     "name": "stdout",
     "output_type": "stream",
     "text": [
      "Epoch: 004, Loss: 1.25548\n",
      "all: h@1: 0.15375 h@5: 0.32642 h@10: 0.37950 ndcg@1: 0.15375 ndcg@5: 0.24336 ndcg@10: 0.26051\n",
      "new: h@1: 0.01196 h@5: 0.08520 h@10: 0.12855 ndcg@1: 0.01196 ndcg@5: 0.04976 ndcg@10: 0.06380\n",
      "rep: h@1: 0.25155 h@5: 0.49278 h@10: 0.55258 ndcg@1: 0.25155 ndcg@5: 0.37688 ndcg@10: 0.39619\n",
      "ratio:  0.5918242830994509\n"
     ]
    },
    {
     "name": "stderr",
     "output_type": "stream",
     "text": [
      "100%|████████████████████████████████████████████████████████████████████████████████| 114/114 [00:26<00:00,  4.36it/s]\n",
      "17it [00:02,  7.67it/s]\n"
     ]
    },
    {
     "name": "stdout",
     "output_type": "stream",
     "text": [
      "Epoch: 005, Loss: 1.24267\n",
      "all: h@1: 0.16412 h@5: 0.33679 h@10: 0.38682 ndcg@1: 0.16412 ndcg@5: 0.25217 ndcg@10: 0.26845\n",
      "new: h@1: 0.01644 h@5: 0.09567 h@10: 0.12855 ndcg@1: 0.01644 ndcg@5: 0.05536 ndcg@10: 0.06604\n",
      "rep: h@1: 0.26598 h@5: 0.50309 h@10: 0.56495 ndcg@1: 0.26598 ndcg@5: 0.38791 ndcg@10: 0.40804\n",
      "ratio:  0.5918242830994509\n"
     ]
    },
    {
     "name": "stderr",
     "output_type": "stream",
     "text": [
      "100%|████████████████████████████████████████████████████████████████████████████████| 114/114 [00:26<00:00,  4.30it/s]\n",
      "17it [00:02,  7.63it/s]\n"
     ]
    },
    {
     "name": "stdout",
     "output_type": "stream",
     "text": [
      "Epoch: 006, Loss: 1.23220\n",
      "all: h@1: 0.16962 h@5: 0.34350 h@10: 0.39536 ndcg@1: 0.16962 ndcg@5: 0.25930 ndcg@10: 0.27591\n",
      "new: h@1: 0.01644 h@5: 0.09716 h@10: 0.13752 ndcg@1: 0.01644 ndcg@5: 0.05561 ndcg@10: 0.06845\n",
      "rep: h@1: 0.27526 h@5: 0.51340 h@10: 0.57320 ndcg@1: 0.27526 ndcg@5: 0.39977 ndcg@10: 0.41900\n",
      "ratio:  0.5918242830994509\n"
     ]
    },
    {
     "name": "stderr",
     "output_type": "stream",
     "text": [
      "100%|████████████████████████████████████████████████████████████████████████████████| 114/114 [00:26<00:00,  4.33it/s]\n",
      "17it [00:02,  7.73it/s]\n"
     ]
    },
    {
     "name": "stdout",
     "output_type": "stream",
     "text": [
      "Epoch: 007, Loss: 1.22510\n",
      "all: h@1: 0.18609 h@5: 0.34655 h@10: 0.40207 ndcg@1: 0.18609 ndcg@5: 0.27084 ndcg@10: 0.28892\n",
      "new: h@1: 0.01495 h@5: 0.09268 h@10: 0.14200 ndcg@1: 0.01495 ndcg@5: 0.05301 ndcg@10: 0.06877\n",
      "rep: h@1: 0.30412 h@5: 0.52165 h@10: 0.58144 ndcg@1: 0.30412 ndcg@5: 0.42107 ndcg@10: 0.44076\n",
      "ratio:  0.5918242830994509\n"
     ]
    },
    {
     "name": "stderr",
     "output_type": "stream",
     "text": [
      "100%|████████████████████████████████████████████████████████████████████████████████| 114/114 [00:26<00:00,  4.35it/s]\n",
      "17it [00:02,  7.86it/s]\n"
     ]
    },
    {
     "name": "stdout",
     "output_type": "stream",
     "text": [
      "Epoch: 008, Loss: 1.21776\n",
      "all: h@1: 0.20073 h@5: 0.35509 h@10: 0.40390 ndcg@1: 0.20073 ndcg@5: 0.28159 ndcg@10: 0.29749\n",
      "new: h@1: 0.01794 h@5: 0.09716 h@10: 0.14051 ndcg@1: 0.01794 ndcg@5: 0.05571 ndcg@10: 0.06948\n",
      "rep: h@1: 0.32680 h@5: 0.53299 h@10: 0.58557 ndcg@1: 0.32680 ndcg@5: 0.43738 ndcg@10: 0.45475\n",
      "ratio:  0.5918242830994509\n"
     ]
    },
    {
     "name": "stderr",
     "output_type": "stream",
     "text": [
      "100%|████████████████████████████████████████████████████████████████████████████████| 114/114 [00:26<00:00,  4.32it/s]\n",
      "17it [00:02,  7.91it/s]\n"
     ]
    },
    {
     "name": "stdout",
     "output_type": "stream",
     "text": [
      "Epoch: 009, Loss: 1.20962\n",
      "all: h@1: 0.20073 h@5: 0.35815 h@10: 0.40879 ndcg@1: 0.20073 ndcg@5: 0.28357 ndcg@10: 0.29991\n",
      "new: h@1: 0.01644 h@5: 0.09716 h@10: 0.14499 ndcg@1: 0.01644 ndcg@5: 0.05566 ndcg@10: 0.07087\n",
      "rep: h@1: 0.32784 h@5: 0.53814 h@10: 0.59072 ndcg@1: 0.32784 ndcg@5: 0.44075 ndcg@10: 0.45787\n",
      "ratio:  0.5918242830994509\n"
     ]
    },
    {
     "name": "stderr",
     "output_type": "stream",
     "text": [
      "100%|████████████████████████████████████████████████████████████████████████████████| 114/114 [00:26<00:00,  4.33it/s]\n",
      "17it [00:02,  7.79it/s]\n"
     ]
    },
    {
     "name": "stdout",
     "output_type": "stream",
     "text": [
      "Epoch: 010, Loss: 1.20402\n",
      "all: h@1: 0.21293 h@5: 0.36730 h@10: 0.41855 ndcg@1: 0.21293 ndcg@5: 0.29407 ndcg@10: 0.31048\n",
      "new: h@1: 0.01943 h@5: 0.10912 h@10: 0.15546 ndcg@1: 0.01943 ndcg@5: 0.06241 ndcg@10: 0.07673\n",
      "rep: h@1: 0.34639 h@5: 0.54536 h@10: 0.60000 ndcg@1: 0.34639 ndcg@5: 0.45385 ndcg@10: 0.47169\n",
      "ratio:  0.5918242830994509\n"
     ]
    },
    {
     "name": "stderr",
     "output_type": "stream",
     "text": [
      "100%|████████████████████████████████████████████████████████████████████████████████| 114/114 [00:26<00:00,  4.34it/s]\n",
      "17it [00:02,  7.73it/s]\n"
     ]
    },
    {
     "name": "stdout",
     "output_type": "stream",
     "text": [
      "Epoch: 011, Loss: 1.19814\n",
      "all: h@1: 0.22514 h@5: 0.37523 h@10: 0.42465 ndcg@1: 0.22514 ndcg@5: 0.30334 ndcg@10: 0.31917\n",
      "new: h@1: 0.01495 h@5: 0.10463 h@10: 0.15546 ndcg@1: 0.01495 ndcg@5: 0.05819 ndcg@10: 0.07414\n",
      "rep: h@1: 0.37010 h@5: 0.56186 h@10: 0.61031 ndcg@1: 0.37010 ndcg@5: 0.47242 ndcg@10: 0.48817\n",
      "ratio:  0.5918242830994509\n"
     ]
    },
    {
     "name": "stderr",
     "output_type": "stream",
     "text": [
      "100%|████████████████████████████████████████████████████████████████████████████████| 114/114 [00:26<00:00,  4.32it/s]\n",
      "17it [00:02,  7.81it/s]\n"
     ]
    },
    {
     "name": "stdout",
     "output_type": "stream",
     "text": [
      "Epoch: 012, Loss: 1.19279\n",
      "all: h@1: 0.23246 h@5: 0.37401 h@10: 0.42953 ndcg@1: 0.23246 ndcg@5: 0.30682 ndcg@10: 0.32484\n",
      "new: h@1: 0.01794 h@5: 0.09865 h@10: 0.15695 ndcg@1: 0.01794 ndcg@5: 0.05752 ndcg@10: 0.07605\n",
      "rep: h@1: 0.38041 h@5: 0.56392 h@10: 0.61753 ndcg@1: 0.38041 ndcg@5: 0.47877 ndcg@10: 0.49644\n",
      "ratio:  0.5918242830994509\n"
     ]
    },
    {
     "name": "stderr",
     "output_type": "stream",
     "text": [
      "100%|████████████████████████████████████████████████████████████████████████████████| 114/114 [00:26<00:00,  4.26it/s]\n",
      "17it [00:02,  7.62it/s]\n"
     ]
    },
    {
     "name": "stdout",
     "output_type": "stream",
     "text": [
      "Epoch: 013, Loss: 1.18693\n",
      "all: h@1: 0.23978 h@5: 0.37889 h@10: 0.43258 ndcg@1: 0.23978 ndcg@5: 0.31238 ndcg@10: 0.32962\n",
      "new: h@1: 0.01345 h@5: 0.10164 h@10: 0.16143 ndcg@1: 0.01345 ndcg@5: 0.05557 ndcg@10: 0.07437\n",
      "rep: h@1: 0.39588 h@5: 0.57010 h@10: 0.61959 ndcg@1: 0.39588 ndcg@5: 0.48950 ndcg@10: 0.50566\n",
      "ratio:  0.5918242830994509\n"
     ]
    },
    {
     "name": "stderr",
     "output_type": "stream",
     "text": [
      "100%|████████████████████████████████████████████████████████████████████████████████| 114/114 [00:26<00:00,  4.32it/s]\n",
      "17it [00:02,  7.39it/s]\n"
     ]
    },
    {
     "name": "stdout",
     "output_type": "stream",
     "text": [
      "Epoch: 014, Loss: 1.18310\n",
      "all: h@1: 0.24954 h@5: 0.38682 h@10: 0.43746 ndcg@1: 0.24954 ndcg@5: 0.32173 ndcg@10: 0.33785\n",
      "new: h@1: 0.01495 h@5: 0.10314 h@10: 0.16143 ndcg@1: 0.01495 ndcg@5: 0.05778 ndcg@10: 0.07601\n",
      "rep: h@1: 0.41134 h@5: 0.58247 h@10: 0.62784 ndcg@1: 0.41134 ndcg@5: 0.50378 ndcg@10: 0.51844\n",
      "ratio:  0.5918242830994509\n"
     ]
    },
    {
     "name": "stderr",
     "output_type": "stream",
     "text": [
      "100%|████████████████████████████████████████████████████████████████████████████████| 114/114 [00:26<00:00,  4.25it/s]\n",
      "17it [00:02,  7.55it/s]\n"
     ]
    },
    {
     "name": "stdout",
     "output_type": "stream",
     "text": [
      "Epoch: 015, Loss: 1.17826\n",
      "all: h@1: 0.25503 h@5: 0.39109 h@10: 0.44112 ndcg@1: 0.25503 ndcg@5: 0.32670 ndcg@10: 0.34268\n",
      "new: h@1: 0.01644 h@5: 0.10613 h@10: 0.16143 ndcg@1: 0.01644 ndcg@5: 0.05961 ndcg@10: 0.07691\n",
      "rep: h@1: 0.41959 h@5: 0.58763 h@10: 0.63402 ndcg@1: 0.41959 ndcg@5: 0.51092 ndcg@10: 0.52598\n",
      "ratio:  0.5918242830994509\n"
     ]
    },
    {
     "name": "stderr",
     "output_type": "stream",
     "text": [
      "100%|████████████████████████████████████████████████████████████████████████████████| 114/114 [00:26<00:00,  4.32it/s]\n",
      "17it [00:02,  7.81it/s]\n"
     ]
    },
    {
     "name": "stdout",
     "output_type": "stream",
     "text": [
      "Epoch: 016, Loss: 1.17384\n",
      "all: h@1: 0.25930 h@5: 0.38987 h@10: 0.44539 ndcg@1: 0.25930 ndcg@5: 0.32797 ndcg@10: 0.34588\n",
      "new: h@1: 0.01943 h@5: 0.10314 h@10: 0.17339 ndcg@1: 0.01943 ndcg@5: 0.05978 ndcg@10: 0.08193\n",
      "rep: h@1: 0.42474 h@5: 0.58763 h@10: 0.63299 ndcg@1: 0.42474 ndcg@5: 0.51294 ndcg@10: 0.52792\n",
      "ratio:  0.5918242830994509\n"
     ]
    },
    {
     "name": "stderr",
     "output_type": "stream",
     "text": [
      "100%|████████████████████████████████████████████████████████████████████████████████| 114/114 [00:26<00:00,  4.33it/s]\n",
      "17it [00:02,  7.64it/s]\n"
     ]
    },
    {
     "name": "stdout",
     "output_type": "stream",
     "text": [
      "Epoch: 017, Loss: 1.17052\n",
      "all: h@1: 0.25991 h@5: 0.39902 h@10: 0.45455 ndcg@1: 0.25991 ndcg@5: 0.33335 ndcg@10: 0.35115\n",
      "new: h@1: 0.01794 h@5: 0.11510 h@10: 0.17638 ndcg@1: 0.01794 ndcg@5: 0.06513 ndcg@10: 0.08437\n",
      "rep: h@1: 0.42680 h@5: 0.59485 h@10: 0.64639 ndcg@1: 0.42680 ndcg@5: 0.51834 ndcg@10: 0.53515\n",
      "ratio:  0.5918242830994509\n"
     ]
    },
    {
     "name": "stderr",
     "output_type": "stream",
     "text": [
      "100%|████████████████████████████████████████████████████████████████████████████████| 114/114 [00:26<00:00,  4.32it/s]\n",
      "17it [00:02,  7.68it/s]\n"
     ]
    },
    {
     "name": "stdout",
     "output_type": "stream",
     "text": [
      "Epoch: 018, Loss: 1.16701\n",
      "all: h@1: 0.26907 h@5: 0.40268 h@10: 0.45638 ndcg@1: 0.26907 ndcg@5: 0.33891 ndcg@10: 0.35613\n",
      "new: h@1: 0.01943 h@5: 0.11211 h@10: 0.17489 ndcg@1: 0.01943 ndcg@5: 0.06502 ndcg@10: 0.08484\n",
      "rep: h@1: 0.44124 h@5: 0.60309 h@10: 0.65052 ndcg@1: 0.44124 ndcg@5: 0.52781 ndcg@10: 0.54323\n",
      "ratio:  0.5918242830994509\n"
     ]
    },
    {
     "name": "stderr",
     "output_type": "stream",
     "text": [
      "100%|████████████████████████████████████████████████████████████████████████████████| 114/114 [00:26<00:00,  4.33it/s]\n",
      "17it [00:02,  7.78it/s]\n"
     ]
    },
    {
     "name": "stdout",
     "output_type": "stream",
     "text": [
      "Epoch: 019, Loss: 1.16056\n",
      "all: h@1: 0.26358 h@5: 0.40818 h@10: 0.46187 ndcg@1: 0.26358 ndcg@5: 0.34001 ndcg@10: 0.35742\n",
      "new: h@1: 0.01495 h@5: 0.12108 h@10: 0.17190 ndcg@1: 0.01495 ndcg@5: 0.06815 ndcg@10: 0.08458\n",
      "rep: h@1: 0.43505 h@5: 0.60619 h@10: 0.66186 ndcg@1: 0.43505 ndcg@5: 0.52750 ndcg@10: 0.54560\n",
      "ratio:  0.5918242830994509\n"
     ]
    },
    {
     "name": "stderr",
     "output_type": "stream",
     "text": [
      "100%|████████████████████████████████████████████████████████████████████████████████| 114/114 [00:26<00:00,  4.33it/s]\n",
      "17it [00:02,  7.60it/s]\n"
     ]
    },
    {
     "name": "stdout",
     "output_type": "stream",
     "text": [
      "Epoch: 020, Loss: 1.15913\n",
      "all: h@1: 0.26968 h@5: 0.40940 h@10: 0.46553 ndcg@1: 0.26968 ndcg@5: 0.34257 ndcg@10: 0.36080\n",
      "new: h@1: 0.01495 h@5: 0.11510 h@10: 0.17937 ndcg@1: 0.01495 ndcg@5: 0.06456 ndcg@10: 0.08530\n",
      "rep: h@1: 0.44536 h@5: 0.61237 h@10: 0.66289 ndcg@1: 0.44536 ndcg@5: 0.53431 ndcg@10: 0.55080\n",
      "ratio:  0.5918242830994509\n"
     ]
    },
    {
     "name": "stderr",
     "output_type": "stream",
     "text": [
      "100%|████████████████████████████████████████████████████████████████████████████████| 114/114 [00:26<00:00,  4.32it/s]\n",
      "17it [00:02,  7.59it/s]\n"
     ]
    },
    {
     "name": "stdout",
     "output_type": "stream",
     "text": [
      "Epoch: 021, Loss: 1.15294\n",
      "all: h@1: 0.27395 h@5: 0.41855 h@10: 0.47163 ndcg@1: 0.27395 ndcg@5: 0.34965 ndcg@10: 0.36684\n",
      "new: h@1: 0.01943 h@5: 0.11659 h@10: 0.18386 ndcg@1: 0.01943 ndcg@5: 0.06694 ndcg@10: 0.08882\n",
      "rep: h@1: 0.44948 h@5: 0.62680 h@10: 0.67010 ndcg@1: 0.44948 ndcg@5: 0.54463 ndcg@10: 0.55858\n",
      "ratio:  0.5918242830994509\n"
     ]
    },
    {
     "name": "stderr",
     "output_type": "stream",
     "text": [
      "100%|████████████████████████████████████████████████████████████████████████████████| 114/114 [00:26<00:00,  4.35it/s]\n",
      "17it [00:02,  7.62it/s]\n"
     ]
    },
    {
     "name": "stdout",
     "output_type": "stream",
     "text": [
      "Epoch: 022, Loss: 1.15186\n",
      "all: h@1: 0.28005 h@5: 0.41550 h@10: 0.47041 ndcg@1: 0.28005 ndcg@5: 0.35173 ndcg@10: 0.36962\n",
      "new: h@1: 0.02242 h@5: 0.11659 h@10: 0.18087 ndcg@1: 0.02242 ndcg@5: 0.06947 ndcg@10: 0.09033\n",
      "rep: h@1: 0.45773 h@5: 0.62165 h@10: 0.67010 ndcg@1: 0.45773 ndcg@5: 0.54640 ndcg@10: 0.56224\n",
      "ratio:  0.5918242830994509\n"
     ]
    },
    {
     "name": "stderr",
     "output_type": "stream",
     "text": [
      "100%|████████████████████████████████████████████████████████████████████████████████| 114/114 [00:26<00:00,  4.32it/s]\n",
      "17it [00:02,  7.29it/s]\n"
     ]
    },
    {
     "name": "stdout",
     "output_type": "stream",
     "text": [
      "Epoch: 023, Loss: 1.14598\n",
      "all: h@1: 0.28554 h@5: 0.42221 h@10: 0.47529 ndcg@1: 0.28554 ndcg@5: 0.35807 ndcg@10: 0.37535\n",
      "new: h@1: 0.02093 h@5: 0.11659 h@10: 0.18087 ndcg@1: 0.02093 ndcg@5: 0.06790 ndcg@10: 0.08897\n",
      "rep: h@1: 0.46804 h@5: 0.63299 h@10: 0.67835 ndcg@1: 0.46804 ndcg@5: 0.55820 ndcg@10: 0.57287\n",
      "ratio:  0.5918242830994509\n"
     ]
    },
    {
     "name": "stderr",
     "output_type": "stream",
     "text": [
      "100%|████████████████████████████████████████████████████████████████████████████████| 114/114 [00:26<00:00,  4.33it/s]\n",
      "17it [00:02,  7.61it/s]\n"
     ]
    },
    {
     "name": "stdout",
     "output_type": "stream",
     "text": [
      "Epoch: 024, Loss: 1.14231\n",
      "all: h@1: 0.28371 h@5: 0.43258 h@10: 0.47834 ndcg@1: 0.28371 ndcg@5: 0.36324 ndcg@10: 0.37798\n",
      "new: h@1: 0.02691 h@5: 0.12855 h@10: 0.18984 ndcg@1: 0.02691 ndcg@5: 0.07622 ndcg@10: 0.09598\n",
      "rep: h@1: 0.46082 h@5: 0.64227 h@10: 0.67732 ndcg@1: 0.46082 ndcg@5: 0.56119 ndcg@10: 0.57247\n",
      "ratio:  0.5918242830994509\n"
     ]
    },
    {
     "name": "stderr",
     "output_type": "stream",
     "text": [
      "100%|████████████████████████████████████████████████████████████████████████████████| 114/114 [00:27<00:00,  4.22it/s]\n",
      "17it [00:02,  7.65it/s]\n"
     ]
    },
    {
     "name": "stdout",
     "output_type": "stream",
     "text": [
      "Epoch: 025, Loss: 1.13868\n",
      "all: h@1: 0.28981 h@5: 0.43746 h@10: 0.48200 ndcg@1: 0.28981 ndcg@5: 0.36738 ndcg@10: 0.38185\n",
      "new: h@1: 0.02093 h@5: 0.13154 h@10: 0.19133 ndcg@1: 0.02093 ndcg@5: 0.07564 ndcg@10: 0.09491\n",
      "rep: h@1: 0.47526 h@5: 0.64845 h@10: 0.68247 ndcg@1: 0.47526 ndcg@5: 0.56859 ndcg@10: 0.57975\n",
      "ratio:  0.5918242830994509\n"
     ]
    },
    {
     "name": "stderr",
     "output_type": "stream",
     "text": [
      "100%|████████████████████████████████████████████████████████████████████████████████| 114/114 [00:26<00:00,  4.30it/s]\n",
      "17it [00:02,  7.63it/s]\n"
     ]
    },
    {
     "name": "stdout",
     "output_type": "stream",
     "text": [
      "Epoch: 026, Loss: 1.13456\n",
      "all: h@1: 0.28493 h@5: 0.43380 h@10: 0.48505 ndcg@1: 0.28493 ndcg@5: 0.36516 ndcg@10: 0.38179\n",
      "new: h@1: 0.02392 h@5: 0.13004 h@10: 0.19432 ndcg@1: 0.02392 ndcg@5: 0.07667 ndcg@10: 0.09760\n",
      "rep: h@1: 0.46495 h@5: 0.64330 h@10: 0.68557 ndcg@1: 0.46495 ndcg@5: 0.56412 ndcg@10: 0.57779\n",
      "ratio:  0.5918242830994509\n"
     ]
    },
    {
     "name": "stderr",
     "output_type": "stream",
     "text": [
      "100%|████████████████████████████████████████████████████████████████████████████████| 114/114 [00:26<00:00,  4.29it/s]\n",
      "17it [00:02,  7.44it/s]\n"
     ]
    },
    {
     "name": "stdout",
     "output_type": "stream",
     "text": [
      "Epoch: 027, Loss: 1.13407\n",
      "all: h@1: 0.29225 h@5: 0.44417 h@10: 0.49237 ndcg@1: 0.29225 ndcg@5: 0.37372 ndcg@10: 0.38916\n",
      "new: h@1: 0.02242 h@5: 0.14200 h@10: 0.20478 ndcg@1: 0.02242 ndcg@5: 0.08252 ndcg@10: 0.10241\n",
      "rep: h@1: 0.47835 h@5: 0.65258 h@10: 0.69072 ndcg@1: 0.47835 ndcg@5: 0.57456 ndcg@10: 0.58693\n",
      "ratio:  0.5918242830994509\n"
     ]
    },
    {
     "name": "stderr",
     "output_type": "stream",
     "text": [
      "100%|████████████████████████████████████████████████████████████████████████████████| 114/114 [00:27<00:00,  4.21it/s]\n",
      "17it [00:02,  7.68it/s]\n"
     ]
    },
    {
     "name": "stdout",
     "output_type": "stream",
     "text": [
      "Epoch: 028, Loss: 1.12658\n",
      "all: h@1: 0.29347 h@5: 0.44661 h@10: 0.49054 ndcg@1: 0.29347 ndcg@5: 0.37582 ndcg@10: 0.38988\n",
      "new: h@1: 0.02093 h@5: 0.13901 h@10: 0.20329 ndcg@1: 0.02093 ndcg@5: 0.08126 ndcg@10: 0.10198\n",
      "rep: h@1: 0.48144 h@5: 0.65876 h@10: 0.68866 ndcg@1: 0.48144 ndcg@5: 0.57898 ndcg@10: 0.58844\n",
      "ratio:  0.5918242830994509\n"
     ]
    },
    {
     "name": "stderr",
     "output_type": "stream",
     "text": [
      "100%|████████████████████████████████████████████████████████████████████████████████| 114/114 [00:26<00:00,  4.30it/s]\n",
      "17it [00:02,  7.56it/s]\n"
     ]
    },
    {
     "name": "stdout",
     "output_type": "stream",
     "text": [
      "Epoch: 029, Loss: 1.12352\n",
      "all: h@1: 0.29530 h@5: 0.45027 h@10: 0.50092 ndcg@1: 0.29530 ndcg@5: 0.37823 ndcg@10: 0.39453\n",
      "new: h@1: 0.02242 h@5: 0.13901 h@10: 0.20777 ndcg@1: 0.02242 ndcg@5: 0.08212 ndcg@10: 0.10448\n",
      "rep: h@1: 0.48351 h@5: 0.66495 h@10: 0.70309 ndcg@1: 0.48351 ndcg@5: 0.58244 ndcg@10: 0.59457\n",
      "ratio:  0.5918242830994509\n"
     ]
    },
    {
     "name": "stderr",
     "output_type": "stream",
     "text": [
      "100%|████████████████████████████████████████████████████████████████████████████████| 114/114 [00:26<00:00,  4.29it/s]\n",
      "17it [00:02,  7.88it/s]\n"
     ]
    },
    {
     "name": "stdout",
     "output_type": "stream",
     "text": [
      "Epoch: 030, Loss: 1.12066\n",
      "all: h@1: 0.30018 h@5: 0.45699 h@10: 0.50397 ndcg@1: 0.30018 ndcg@5: 0.38362 ndcg@10: 0.39875\n",
      "new: h@1: 0.02392 h@5: 0.15247 h@10: 0.21375 ndcg@1: 0.02392 ndcg@5: 0.08793 ndcg@10: 0.10770\n",
      "rep: h@1: 0.49072 h@5: 0.66701 h@10: 0.70412 ndcg@1: 0.49072 ndcg@5: 0.58755 ndcg@10: 0.59949\n",
      "ratio:  0.5918242830994509\n"
     ]
    },
    {
     "name": "stderr",
     "output_type": "stream",
     "text": [
      "100%|████████████████████████████████████████████████████████████████████████████████| 114/114 [00:26<00:00,  4.30it/s]\n",
      "17it [00:02,  7.61it/s]\n"
     ]
    },
    {
     "name": "stdout",
     "output_type": "stream",
     "text": [
      "Epoch: 031, Loss: 1.11521\n",
      "all: h@1: 0.30018 h@5: 0.45943 h@10: 0.51922 ndcg@1: 0.30018 ndcg@5: 0.38512 ndcg@10: 0.40421\n",
      "new: h@1: 0.02242 h@5: 0.15546 h@10: 0.22870 ndcg@1: 0.02242 ndcg@5: 0.08911 ndcg@10: 0.11238\n",
      "rep: h@1: 0.49175 h@5: 0.66907 h@10: 0.71959 ndcg@1: 0.49175 ndcg@5: 0.58929 ndcg@10: 0.60549\n",
      "ratio:  0.5918242830994509\n"
     ]
    },
    {
     "name": "stderr",
     "output_type": "stream",
     "text": [
      "100%|████████████████████████████████████████████████████████████████████████████████| 114/114 [00:26<00:00,  4.33it/s]\n",
      "17it [00:02,  7.59it/s]\n"
     ]
    },
    {
     "name": "stdout",
     "output_type": "stream",
     "text": [
      "Epoch: 032, Loss: 1.11226\n",
      "all: h@1: 0.30323 h@5: 0.46431 h@10: 0.52471 ndcg@1: 0.30323 ndcg@5: 0.38885 ndcg@10: 0.40821\n",
      "new: h@1: 0.02392 h@5: 0.15994 h@10: 0.23019 ndcg@1: 0.02392 ndcg@5: 0.09159 ndcg@10: 0.11425\n",
      "rep: h@1: 0.49588 h@5: 0.67423 h@10: 0.72784 ndcg@1: 0.49588 ndcg@5: 0.59386 ndcg@10: 0.61096\n",
      "ratio:  0.5918242830994509\n"
     ]
    },
    {
     "name": "stderr",
     "output_type": "stream",
     "text": [
      "100%|████████████████████████████████████████████████████████████████████████████████| 114/114 [00:26<00:00,  4.33it/s]\n",
      "17it [00:02,  7.79it/s]\n"
     ]
    },
    {
     "name": "stdout",
     "output_type": "stream",
     "text": [
      "Epoch: 033, Loss: 1.10762\n",
      "all: h@1: 0.30018 h@5: 0.46126 h@10: 0.52288 ndcg@1: 0.30018 ndcg@5: 0.38656 ndcg@10: 0.40635\n",
      "new: h@1: 0.02392 h@5: 0.15546 h@10: 0.22870 ndcg@1: 0.02392 ndcg@5: 0.09083 ndcg@10: 0.11423\n",
      "rep: h@1: 0.49072 h@5: 0.67216 h@10: 0.72577 ndcg@1: 0.49072 ndcg@5: 0.59052 ndcg@10: 0.60782\n",
      "ratio:  0.5918242830994509\n"
     ]
    },
    {
     "name": "stderr",
     "output_type": "stream",
     "text": [
      "100%|████████████████████████████████████████████████████████████████████████████████| 114/114 [00:26<00:00,  4.30it/s]\n",
      "17it [00:02,  7.56it/s]\n"
     ]
    },
    {
     "name": "stdout",
     "output_type": "stream",
     "text": [
      "Epoch: 034, Loss: 1.10170\n",
      "all: h@1: 0.30384 h@5: 0.46736 h@10: 0.53020 ndcg@1: 0.30384 ndcg@5: 0.39101 ndcg@10: 0.41136\n",
      "new: h@1: 0.02990 h@5: 0.15247 h@10: 0.23617 ndcg@1: 0.02990 ndcg@5: 0.09240 ndcg@10: 0.11963\n",
      "rep: h@1: 0.49278 h@5: 0.68454 h@10: 0.73299 ndcg@1: 0.49278 ndcg@5: 0.59696 ndcg@10: 0.61257\n",
      "ratio:  0.5918242830994509\n"
     ]
    },
    {
     "name": "stderr",
     "output_type": "stream",
     "text": [
      "100%|████████████████████████████████████████████████████████████████████████████████| 114/114 [00:26<00:00,  4.33it/s]\n",
      "17it [00:02,  7.69it/s]\n"
     ]
    },
    {
     "name": "stdout",
     "output_type": "stream",
     "text": [
      "Epoch: 035, Loss: 1.09608\n",
      "all: h@1: 0.30018 h@5: 0.47956 h@10: 0.53020 ndcg@1: 0.30018 ndcg@5: 0.39570 ndcg@10: 0.41200\n",
      "new: h@1: 0.02242 h@5: 0.16891 h@10: 0.23169 ndcg@1: 0.02242 ndcg@5: 0.09602 ndcg@10: 0.11643\n",
      "rep: h@1: 0.49175 h@5: 0.69381 h@10: 0.73608 ndcg@1: 0.49175 ndcg@5: 0.60238 ndcg@10: 0.61585\n",
      "ratio:  0.5918242830994509\n"
     ]
    },
    {
     "name": "stderr",
     "output_type": "stream",
     "text": [
      "100%|████████████████████████████████████████████████████████████████████████████████| 114/114 [00:26<00:00,  4.30it/s]\n",
      "17it [00:02,  7.62it/s]\n"
     ]
    },
    {
     "name": "stdout",
     "output_type": "stream",
     "text": [
      "Epoch: 036, Loss: 1.09383\n",
      "all: h@1: 0.30384 h@5: 0.47590 h@10: 0.54301 ndcg@1: 0.30384 ndcg@5: 0.39717 ndcg@10: 0.41886\n",
      "new: h@1: 0.02840 h@5: 0.15994 h@10: 0.24664 ndcg@1: 0.02840 ndcg@5: 0.09520 ndcg@10: 0.12317\n",
      "rep: h@1: 0.49381 h@5: 0.69381 h@10: 0.74742 ndcg@1: 0.49381 ndcg@5: 0.60543 ndcg@10: 0.62279\n",
      "ratio:  0.5918242830994509\n"
     ]
    },
    {
     "name": "stderr",
     "output_type": "stream",
     "text": [
      "100%|████████████████████████████████████████████████████████████████████████████████| 114/114 [00:26<00:00,  4.28it/s]\n",
      "17it [00:02,  7.73it/s]\n"
     ]
    },
    {
     "name": "stdout",
     "output_type": "stream",
     "text": [
      "Epoch: 037, Loss: 1.08589\n",
      "all: h@1: 0.30262 h@5: 0.48017 h@10: 0.54606 ndcg@1: 0.30262 ndcg@5: 0.39916 ndcg@10: 0.42062\n",
      "new: h@1: 0.02093 h@5: 0.17040 h@10: 0.25411 ndcg@1: 0.02093 ndcg@5: 0.09816 ndcg@10: 0.12527\n",
      "rep: h@1: 0.49691 h@5: 0.69381 h@10: 0.74742 ndcg@1: 0.49691 ndcg@5: 0.60676 ndcg@10: 0.62432\n",
      "ratio:  0.5918242830994509\n"
     ]
    },
    {
     "name": "stderr",
     "output_type": "stream",
     "text": [
      "100%|████████████████████████████████████████████████████████████████████████████████| 114/114 [00:26<00:00,  4.29it/s]\n",
      "17it [00:02,  7.62it/s]\n"
     ]
    },
    {
     "name": "stdout",
     "output_type": "stream",
     "text": [
      "Epoch: 038, Loss: 1.08220\n",
      "all: h@1: 0.30506 h@5: 0.48261 h@10: 0.55034 ndcg@1: 0.30506 ndcg@5: 0.40104 ndcg@10: 0.42305\n",
      "new: h@1: 0.02691 h@5: 0.16891 h@10: 0.25710 ndcg@1: 0.02691 ndcg@5: 0.09911 ndcg@10: 0.12801\n",
      "rep: h@1: 0.49691 h@5: 0.69897 h@10: 0.75258 ndcg@1: 0.49691 ndcg@5: 0.60929 ndcg@10: 0.62654\n",
      "ratio:  0.5918242830994509\n"
     ]
    },
    {
     "name": "stderr",
     "output_type": "stream",
     "text": [
      "100%|████████████████████████████████████████████████████████████████████████████████| 114/114 [00:26<00:00,  4.31it/s]\n",
      "17it [00:02,  7.42it/s]\n"
     ]
    },
    {
     "name": "stdout",
     "output_type": "stream",
     "text": [
      "Epoch: 039, Loss: 1.07914\n",
      "all: h@1: 0.30262 h@5: 0.48200 h@10: 0.54912 ndcg@1: 0.30262 ndcg@5: 0.39949 ndcg@10: 0.42130\n",
      "new: h@1: 0.02691 h@5: 0.16741 h@10: 0.25859 ndcg@1: 0.02691 ndcg@5: 0.09914 ndcg@10: 0.12887\n",
      "rep: h@1: 0.49278 h@5: 0.69897 h@10: 0.74948 ndcg@1: 0.49278 ndcg@5: 0.60664 ndcg@10: 0.62299\n",
      "ratio:  0.5918242830994509\n"
     ]
    },
    {
     "name": "stderr",
     "output_type": "stream",
     "text": [
      "100%|████████████████████████████████████████████████████████████████████████████████| 114/114 [00:26<00:00,  4.28it/s]\n",
      "17it [00:02,  7.55it/s]\n"
     ]
    },
    {
     "name": "stdout",
     "output_type": "stream",
     "text": [
      "Epoch: 040, Loss: 1.07143\n",
      "all: h@1: 0.30384 h@5: 0.48932 h@10: 0.55278 ndcg@1: 0.30384 ndcg@5: 0.40306 ndcg@10: 0.42380\n",
      "new: h@1: 0.02242 h@5: 0.17638 h@10: 0.25561 ndcg@1: 0.02242 ndcg@5: 0.10084 ndcg@10: 0.12676\n",
      "rep: h@1: 0.49794 h@5: 0.70515 h@10: 0.75773 ndcg@1: 0.49794 ndcg@5: 0.61150 ndcg@10: 0.62867\n",
      "ratio:  0.5918242830994509\n"
     ]
    },
    {
     "name": "stderr",
     "output_type": "stream",
     "text": [
      "100%|████████████████████████████████████████████████████████████████████████████████| 114/114 [00:26<00:00,  4.28it/s]\n",
      "17it [00:02,  7.70it/s]\n"
     ]
    },
    {
     "name": "stdout",
     "output_type": "stream",
     "text": [
      "Epoch: 041, Loss: 1.06753\n",
      "all: h@1: 0.30750 h@5: 0.48627 h@10: 0.55400 ndcg@1: 0.30750 ndcg@5: 0.40419 ndcg@10: 0.42636\n",
      "new: h@1: 0.02840 h@5: 0.17339 h@10: 0.25710 ndcg@1: 0.02840 ndcg@5: 0.10243 ndcg@10: 0.12997\n",
      "rep: h@1: 0.50000 h@5: 0.70206 h@10: 0.75876 ndcg@1: 0.50000 ndcg@5: 0.61231 ndcg@10: 0.63078\n",
      "ratio:  0.5918242830994509\n"
     ]
    },
    {
     "name": "stderr",
     "output_type": "stream",
     "text": [
      "100%|████████████████████████████████████████████████████████████████████████████████| 114/114 [00:26<00:00,  4.30it/s]\n",
      "17it [00:02,  7.54it/s]\n"
     ]
    },
    {
     "name": "stdout",
     "output_type": "stream",
     "text": [
      "Epoch: 042, Loss: 1.06278\n",
      "all: h@1: 0.30384 h@5: 0.49359 h@10: 0.55705 ndcg@1: 0.30384 ndcg@5: 0.40614 ndcg@10: 0.42680\n",
      "new: h@1: 0.02242 h@5: 0.18236 h@10: 0.26009 ndcg@1: 0.02242 ndcg@5: 0.10482 ndcg@10: 0.13025\n",
      "rep: h@1: 0.49794 h@5: 0.70825 h@10: 0.76186 ndcg@1: 0.49794 ndcg@5: 0.61396 ndcg@10: 0.63134\n",
      "ratio:  0.5918242830994509\n"
     ]
    },
    {
     "name": "stderr",
     "output_type": "stream",
     "text": [
      "100%|████████████████████████████████████████████████████████████████████████████████| 114/114 [00:27<00:00,  4.21it/s]\n",
      "17it [00:02,  7.68it/s]\n"
     ]
    },
    {
     "name": "stdout",
     "output_type": "stream",
     "text": [
      "Epoch: 043, Loss: 1.05762\n",
      "all: h@1: 0.30689 h@5: 0.49359 h@10: 0.56681 ndcg@1: 0.30689 ndcg@5: 0.40797 ndcg@10: 0.43155\n",
      "new: h@1: 0.02541 h@5: 0.18087 h@10: 0.27653 ndcg@1: 0.02541 ndcg@5: 0.10573 ndcg@10: 0.13663\n",
      "rep: h@1: 0.50103 h@5: 0.70928 h@10: 0.76701 ndcg@1: 0.50103 ndcg@5: 0.61641 ndcg@10: 0.63495\n",
      "ratio:  0.5918242830994509\n"
     ]
    },
    {
     "name": "stderr",
     "output_type": "stream",
     "text": [
      "100%|████████████████████████████████████████████████████████████████████████████████| 114/114 [00:26<00:00,  4.29it/s]\n",
      "17it [00:02,  7.81it/s]\n"
     ]
    },
    {
     "name": "stdout",
     "output_type": "stream",
     "text": [
      "Epoch: 044, Loss: 1.05094\n",
      "all: h@1: 0.30323 h@5: 0.50275 h@10: 0.57352 ndcg@1: 0.30323 ndcg@5: 0.40958 ndcg@10: 0.43247\n",
      "new: h@1: 0.01943 h@5: 0.18984 h@10: 0.28550 ndcg@1: 0.01943 ndcg@5: 0.10594 ndcg@10: 0.13669\n",
      "rep: h@1: 0.49897 h@5: 0.71856 h@10: 0.77216 ndcg@1: 0.49897 ndcg@5: 0.61899 ndcg@10: 0.63646\n",
      "ratio:  0.5918242830994509\n"
     ]
    },
    {
     "name": "stderr",
     "output_type": "stream",
     "text": [
      "100%|████████████████████████████████████████████████████████████████████████████████| 114/114 [00:26<00:00,  4.29it/s]\n",
      "17it [00:02,  7.78it/s]\n"
     ]
    },
    {
     "name": "stdout",
     "output_type": "stream",
     "text": [
      "Epoch: 045, Loss: 1.04563\n",
      "all: h@1: 0.30445 h@5: 0.50031 h@10: 0.57108 ndcg@1: 0.30445 ndcg@5: 0.40915 ndcg@10: 0.43206\n",
      "new: h@1: 0.02541 h@5: 0.18087 h@10: 0.28700 ndcg@1: 0.02541 ndcg@5: 0.10610 ndcg@10: 0.14041\n",
      "rep: h@1: 0.49691 h@5: 0.72062 h@10: 0.76701 ndcg@1: 0.49691 ndcg@5: 0.61816 ndcg@10: 0.63322\n",
      "ratio:  0.5918242830994509\n"
     ]
    },
    {
     "name": "stderr",
     "output_type": "stream",
     "text": [
      "100%|████████████████████████████████████████████████████████████████████████████████| 114/114 [00:26<00:00,  4.32it/s]\n",
      "17it [00:02,  7.79it/s]\n"
     ]
    },
    {
     "name": "stdout",
     "output_type": "stream",
     "text": [
      "Epoch: 046, Loss: 1.04254\n",
      "all: h@1: 0.30689 h@5: 0.50641 h@10: 0.58450 ndcg@1: 0.30689 ndcg@5: 0.41404 ndcg@10: 0.43919\n",
      "new: h@1: 0.02392 h@5: 0.18984 h@10: 0.29746 ndcg@1: 0.02392 ndcg@5: 0.10863 ndcg@10: 0.14282\n",
      "rep: h@1: 0.50206 h@5: 0.72474 h@10: 0.78247 ndcg@1: 0.50206 ndcg@5: 0.62468 ndcg@10: 0.64360\n",
      "ratio:  0.5918242830994509\n"
     ]
    },
    {
     "name": "stderr",
     "output_type": "stream",
     "text": [
      "100%|████████████████████████████████████████████████████████████████████████████████| 114/114 [00:26<00:00,  4.24it/s]\n",
      "17it [00:02,  7.62it/s]\n"
     ]
    },
    {
     "name": "stdout",
     "output_type": "stream",
     "text": [
      "Epoch: 047, Loss: 1.03582\n",
      "all: h@1: 0.30750 h@5: 0.50458 h@10: 0.58328 ndcg@1: 0.30750 ndcg@5: 0.41336 ndcg@10: 0.43895\n",
      "new: h@1: 0.02691 h@5: 0.18685 h@10: 0.29895 ndcg@1: 0.02691 ndcg@5: 0.10891 ndcg@10: 0.14527\n",
      "rep: h@1: 0.50103 h@5: 0.72371 h@10: 0.77938 ndcg@1: 0.50103 ndcg@5: 0.62333 ndcg@10: 0.64149\n",
      "ratio:  0.5918242830994509\n"
     ]
    },
    {
     "name": "stderr",
     "output_type": "stream",
     "text": [
      "100%|████████████████████████████████████████████████████████████████████████████████| 114/114 [00:26<00:00,  4.30it/s]\n",
      "17it [00:02,  7.56it/s]\n"
     ]
    },
    {
     "name": "stdout",
     "output_type": "stream",
     "text": [
      "Epoch: 048, Loss: 1.03065\n",
      "all: h@1: 0.30567 h@5: 0.51434 h@10: 0.58999 ndcg@1: 0.30567 ndcg@5: 0.41790 ndcg@10: 0.44240\n",
      "new: h@1: 0.02242 h@5: 0.19880 h@10: 0.30344 ndcg@1: 0.02242 ndcg@5: 0.11258 ndcg@10: 0.14584\n",
      "rep: h@1: 0.50103 h@5: 0.73196 h@10: 0.78763 ndcg@1: 0.50103 ndcg@5: 0.62848 ndcg@10: 0.64693\n",
      "ratio:  0.5918242830994509\n"
     ]
    },
    {
     "name": "stderr",
     "output_type": "stream",
     "text": [
      "100%|████████████████████████████████████████████████████████████████████████████████| 114/114 [00:26<00:00,  4.29it/s]\n",
      "17it [00:02,  7.37it/s]\n"
     ]
    },
    {
     "name": "stdout",
     "output_type": "stream",
     "text": [
      "Epoch: 049, Loss: 1.02801\n",
      "all: h@1: 0.31117 h@5: 0.51556 h@10: 0.59243 ndcg@1: 0.31117 ndcg@5: 0.42114 ndcg@10: 0.44608\n",
      "new: h@1: 0.03139 h@5: 0.20628 h@10: 0.30643 ndcg@1: 0.03139 ndcg@5: 0.11928 ndcg@10: 0.15129\n",
      "rep: h@1: 0.50412 h@5: 0.72887 h@10: 0.78969 ndcg@1: 0.50412 ndcg@5: 0.62932 ndcg@10: 0.64939\n",
      "ratio:  0.5918242830994509\n"
     ]
    },
    {
     "name": "stderr",
     "output_type": "stream",
     "text": [
      "100%|████████████████████████████████████████████████████████████████████████████████| 114/114 [00:26<00:00,  4.31it/s]\n",
      "17it [00:02,  7.79it/s]\n"
     ]
    },
    {
     "name": "stdout",
     "output_type": "stream",
     "text": [
      "Epoch: 050, Loss: 1.02141\n",
      "all: h@1: 0.30872 h@5: 0.51983 h@10: 0.59121 ndcg@1: 0.30872 ndcg@5: 0.42279 ndcg@10: 0.44580\n",
      "new: h@1: 0.02990 h@5: 0.20478 h@10: 0.30045 ndcg@1: 0.02990 ndcg@5: 0.11808 ndcg@10: 0.14883\n",
      "rep: h@1: 0.50103 h@5: 0.73711 h@10: 0.79175 ndcg@1: 0.50103 ndcg@5: 0.63295 ndcg@10: 0.65061\n",
      "ratio:  0.5918242830994509\n"
     ]
    },
    {
     "name": "stderr",
     "output_type": "stream",
     "text": [
      "100%|████████████████████████████████████████████████████████████████████████████████| 114/114 [00:26<00:00,  4.30it/s]\n",
      "17it [00:02,  7.69it/s]\n"
     ]
    },
    {
     "name": "stdout",
     "output_type": "stream",
     "text": [
      "Epoch: 051, Loss: 1.01763\n",
      "all: h@1: 0.30445 h@5: 0.52105 h@10: 0.59854 ndcg@1: 0.30445 ndcg@5: 0.42079 ndcg@10: 0.44573\n",
      "new: h@1: 0.02541 h@5: 0.20179 h@10: 0.31689 ndcg@1: 0.02541 ndcg@5: 0.11330 ndcg@10: 0.15012\n",
      "rep: h@1: 0.49691 h@5: 0.74124 h@10: 0.79278 ndcg@1: 0.49691 ndcg@5: 0.63286 ndcg@10: 0.64961\n",
      "ratio:  0.5918242830994509\n"
     ]
    },
    {
     "name": "stderr",
     "output_type": "stream",
     "text": [
      "100%|████████████████████████████████████████████████████████████████████████████████| 114/114 [00:26<00:00,  4.30it/s]\n",
      "17it [00:02,  7.51it/s]\n"
     ]
    },
    {
     "name": "stdout",
     "output_type": "stream",
     "text": [
      "Epoch: 052, Loss: 1.01269\n",
      "all: h@1: 0.30689 h@5: 0.51617 h@10: 0.59976 ndcg@1: 0.30689 ndcg@5: 0.42020 ndcg@10: 0.44719\n",
      "new: h@1: 0.02691 h@5: 0.20179 h@10: 0.31241 ndcg@1: 0.02691 ndcg@5: 0.11566 ndcg@10: 0.15101\n",
      "rep: h@1: 0.50000 h@5: 0.73299 h@10: 0.79794 ndcg@1: 0.50000 ndcg@5: 0.63023 ndcg@10: 0.65146\n",
      "ratio:  0.5918242830994509\n"
     ]
    },
    {
     "name": "stderr",
     "output_type": "stream",
     "text": [
      "100%|████████████████████████████████████████████████████████████████████████████████| 114/114 [00:26<00:00,  4.31it/s]\n",
      "17it [00:02,  7.43it/s]\n"
     ]
    },
    {
     "name": "stdout",
     "output_type": "stream",
     "text": [
      "Epoch: 053, Loss: 1.00569\n",
      "all: h@1: 0.30811 h@5: 0.51373 h@10: 0.60159 ndcg@1: 0.30811 ndcg@5: 0.41948 ndcg@10: 0.44809\n",
      "new: h@1: 0.02242 h@5: 0.20179 h@10: 0.31390 ndcg@1: 0.02242 ndcg@5: 0.11303 ndcg@10: 0.14914\n",
      "rep: h@1: 0.50515 h@5: 0.72887 h@10: 0.80000 ndcg@1: 0.50515 ndcg@5: 0.63083 ndcg@10: 0.65427\n",
      "ratio:  0.5918242830994509\n"
     ]
    },
    {
     "name": "stderr",
     "output_type": "stream",
     "text": [
      "100%|████████████████████████████████████████████████████████████████████████████████| 114/114 [00:26<00:00,  4.31it/s]\n",
      "17it [00:02,  7.61it/s]\n"
     ]
    },
    {
     "name": "stdout",
     "output_type": "stream",
     "text": [
      "Epoch: 054, Loss: 1.00016\n",
      "all: h@1: 0.31239 h@5: 0.52105 h@10: 0.60220 ndcg@1: 0.31239 ndcg@5: 0.42280 ndcg@10: 0.44890\n",
      "new: h@1: 0.02691 h@5: 0.19731 h@10: 0.30942 ndcg@1: 0.02691 ndcg@5: 0.11168 ndcg@10: 0.14785\n",
      "rep: h@1: 0.50928 h@5: 0.74433 h@10: 0.80412 ndcg@1: 0.50928 ndcg@5: 0.63737 ndcg@10: 0.65653\n",
      "ratio:  0.5918242830994509\n"
     ]
    },
    {
     "name": "stderr",
     "output_type": "stream",
     "text": [
      "100%|████████████████████████████████████████████████████████████████████████████████| 114/114 [00:26<00:00,  4.27it/s]\n",
      "17it [00:02,  7.62it/s]\n"
     ]
    },
    {
     "name": "stdout",
     "output_type": "stream",
     "text": [
      "Epoch: 055, Loss: 0.99669\n",
      "all: h@1: 0.30750 h@5: 0.52654 h@10: 0.60037 ndcg@1: 0.30750 ndcg@5: 0.42499 ndcg@10: 0.44899\n",
      "new: h@1: 0.02541 h@5: 0.21226 h@10: 0.30493 ndcg@1: 0.02541 ndcg@5: 0.11956 ndcg@10: 0.14974\n",
      "rep: h@1: 0.50206 h@5: 0.74330 h@10: 0.80412 ndcg@1: 0.50206 ndcg@5: 0.63563 ndcg@10: 0.65538\n",
      "ratio:  0.5918242830994509\n"
     ]
    },
    {
     "name": "stderr",
     "output_type": "stream",
     "text": [
      "100%|████████████████████████████████████████████████████████████████████████████████| 114/114 [00:26<00:00,  4.30it/s]\n",
      "17it [00:02,  7.24it/s]\n"
     ]
    },
    {
     "name": "stdout",
     "output_type": "stream",
     "text": [
      "Epoch: 056, Loss: 0.99117\n",
      "all: h@1: 0.31117 h@5: 0.53264 h@10: 0.60281 ndcg@1: 0.31117 ndcg@5: 0.42864 ndcg@10: 0.45149\n",
      "new: h@1: 0.02840 h@5: 0.21973 h@10: 0.30643 ndcg@1: 0.02840 ndcg@5: 0.12359 ndcg@10: 0.15181\n",
      "rep: h@1: 0.50619 h@5: 0.74845 h@10: 0.80722 ndcg@1: 0.50619 ndcg@5: 0.63904 ndcg@10: 0.65817\n",
      "ratio:  0.5918242830994509\n"
     ]
    },
    {
     "name": "stderr",
     "output_type": "stream",
     "text": [
      "100%|████████████████████████████████████████████████████████████████████████████████| 114/114 [00:26<00:00,  4.29it/s]\n",
      "17it [00:02,  7.53it/s]\n"
     ]
    },
    {
     "name": "stdout",
     "output_type": "stream",
     "text": [
      "Epoch: 057, Loss: 0.98654\n",
      "all: h@1: 0.31666 h@5: 0.53020 h@10: 0.60769 ndcg@1: 0.31666 ndcg@5: 0.42996 ndcg@10: 0.45497\n",
      "new: h@1: 0.02541 h@5: 0.21674 h@10: 0.31988 ndcg@1: 0.02541 ndcg@5: 0.12159 ndcg@10: 0.15475\n",
      "rep: h@1: 0.51753 h@5: 0.74639 h@10: 0.80619 ndcg@1: 0.51753 ndcg@5: 0.64264 ndcg@10: 0.66204\n",
      "ratio:  0.5918242830994509\n"
     ]
    },
    {
     "name": "stderr",
     "output_type": "stream",
     "text": [
      "100%|████████████████████████████████████████████████████████████████████████████████| 114/114 [00:26<00:00,  4.31it/s]\n",
      "17it [00:02,  7.75it/s]\n"
     ]
    },
    {
     "name": "stdout",
     "output_type": "stream",
     "text": [
      "Epoch: 058, Loss: 0.97937\n",
      "all: h@1: 0.31300 h@5: 0.52410 h@10: 0.60769 ndcg@1: 0.31300 ndcg@5: 0.42590 ndcg@10: 0.45324\n",
      "new: h@1: 0.02840 h@5: 0.20329 h@10: 0.31689 ndcg@1: 0.02840 ndcg@5: 0.11653 ndcg@10: 0.15399\n",
      "rep: h@1: 0.50928 h@5: 0.74536 h@10: 0.80825 ndcg@1: 0.50928 ndcg@5: 0.63927 ndcg@10: 0.65963\n",
      "ratio:  0.5918242830994509\n"
     ]
    },
    {
     "name": "stderr",
     "output_type": "stream",
     "text": [
      "100%|████████████████████████████████████████████████████████████████████████████████| 114/114 [00:26<00:00,  4.32it/s]\n",
      "17it [00:02,  7.56it/s]\n"
     ]
    },
    {
     "name": "stdout",
     "output_type": "stream",
     "text": [
      "Epoch: 059, Loss: 0.97600\n",
      "all: h@1: 0.31971 h@5: 0.53020 h@10: 0.60525 ndcg@1: 0.31971 ndcg@5: 0.43199 ndcg@10: 0.45621\n",
      "new: h@1: 0.02691 h@5: 0.21525 h@10: 0.31241 ndcg@1: 0.02691 ndcg@5: 0.12228 ndcg@10: 0.15358\n",
      "rep: h@1: 0.52165 h@5: 0.74742 h@10: 0.80722 ndcg@1: 0.52165 ndcg@5: 0.64560 ndcg@10: 0.66493\n",
      "ratio:  0.5918242830994509\n"
     ]
    },
    {
     "name": "stderr",
     "output_type": "stream",
     "text": [
      "100%|████████████████████████████████████████████████████████████████████████████████| 114/114 [00:26<00:00,  4.31it/s]\n",
      "17it [00:02,  7.54it/s]\n"
     ]
    },
    {
     "name": "stdout",
     "output_type": "stream",
     "text": [
      "Epoch: 060, Loss: 0.97014\n",
      "all: h@1: 0.31788 h@5: 0.52776 h@10: 0.61074 ndcg@1: 0.31788 ndcg@5: 0.43080 ndcg@10: 0.45773\n",
      "new: h@1: 0.02541 h@5: 0.20777 h@10: 0.31689 ndcg@1: 0.02541 ndcg@5: 0.11799 ndcg@10: 0.15356\n",
      "rep: h@1: 0.51959 h@5: 0.74845 h@10: 0.81340 ndcg@1: 0.51959 ndcg@5: 0.64654 ndcg@10: 0.66750\n",
      "ratio:  0.5918242830994509\n"
     ]
    },
    {
     "name": "stderr",
     "output_type": "stream",
     "text": [
      "100%|████████████████████████████████████████████████████████████████████████████████| 114/114 [00:26<00:00,  4.27it/s]\n",
      "17it [00:02,  7.52it/s]\n"
     ]
    },
    {
     "name": "stdout",
     "output_type": "stream",
     "text": [
      "Epoch: 061, Loss: 0.96696\n",
      "all: h@1: 0.31849 h@5: 0.53203 h@10: 0.61013 ndcg@1: 0.31849 ndcg@5: 0.43219 ndcg@10: 0.45748\n",
      "new: h@1: 0.02691 h@5: 0.21226 h@10: 0.31988 ndcg@1: 0.02691 ndcg@5: 0.11974 ndcg@10: 0.15442\n",
      "rep: h@1: 0.51959 h@5: 0.75258 h@10: 0.81031 ndcg@1: 0.51959 ndcg@5: 0.64768 ndcg@10: 0.66649\n",
      "ratio:  0.5918242830994509\n"
     ]
    },
    {
     "name": "stderr",
     "output_type": "stream",
     "text": [
      "100%|████████████████████████████████████████████████████████████████████████████████| 114/114 [00:26<00:00,  4.30it/s]\n",
      "17it [00:02,  7.73it/s]\n"
     ]
    },
    {
     "name": "stdout",
     "output_type": "stream",
     "text": [
      "Epoch: 062, Loss: 0.96353\n",
      "all: h@1: 0.31361 h@5: 0.52715 h@10: 0.61501 ndcg@1: 0.31361 ndcg@5: 0.42713 ndcg@10: 0.45559\n",
      "new: h@1: 0.02541 h@5: 0.20777 h@10: 0.32885 ndcg@1: 0.02541 ndcg@5: 0.11793 ndcg@10: 0.15700\n",
      "rep: h@1: 0.51237 h@5: 0.74742 h@10: 0.81237 ndcg@1: 0.51237 ndcg@5: 0.64038 ndcg@10: 0.66152\n",
      "ratio:  0.5918242830994509\n"
     ]
    },
    {
     "name": "stderr",
     "output_type": "stream",
     "text": [
      "100%|████████████████████████████████████████████████████████████████████████████████| 114/114 [00:26<00:00,  4.28it/s]\n",
      "17it [00:02,  7.26it/s]\n"
     ]
    },
    {
     "name": "stdout",
     "output_type": "stream",
     "text": [
      "Epoch: 063, Loss: 0.95720\n",
      "all: h@1: 0.31788 h@5: 0.53447 h@10: 0.60891 ndcg@1: 0.31788 ndcg@5: 0.43309 ndcg@10: 0.45688\n",
      "new: h@1: 0.02392 h@5: 0.21824 h@10: 0.32138 ndcg@1: 0.02392 ndcg@5: 0.12101 ndcg@10: 0.15359\n",
      "rep: h@1: 0.52062 h@5: 0.75258 h@10: 0.80722 ndcg@1: 0.52062 ndcg@5: 0.64834 ndcg@10: 0.66606\n",
      "ratio:  0.5918242830994509\n"
     ]
    },
    {
     "name": "stderr",
     "output_type": "stream",
     "text": [
      "100%|████████████████████████████████████████████████████████████████████████████████| 114/114 [00:26<00:00,  4.32it/s]\n",
      "17it [00:02,  7.56it/s]\n"
     ]
    },
    {
     "name": "stdout",
     "output_type": "stream",
     "text": [
      "Epoch: 064, Loss: 0.95476\n",
      "all: h@1: 0.31971 h@5: 0.52959 h@10: 0.61623 ndcg@1: 0.31971 ndcg@5: 0.43152 ndcg@10: 0.45958\n",
      "new: h@1: 0.02840 h@5: 0.21375 h@10: 0.33782 ndcg@1: 0.02840 ndcg@5: 0.12084 ndcg@10: 0.16061\n",
      "rep: h@1: 0.52062 h@5: 0.74742 h@10: 0.80825 ndcg@1: 0.52062 ndcg@5: 0.64580 ndcg@10: 0.66579\n",
      "ratio:  0.5918242830994509\n"
     ]
    },
    {
     "name": "stderr",
     "output_type": "stream",
     "text": [
      "100%|████████████████████████████████████████████████████████████████████████████████| 114/114 [00:26<00:00,  4.29it/s]\n",
      "17it [00:02,  7.71it/s]\n"
     ]
    },
    {
     "name": "stdout",
     "output_type": "stream",
     "text": [
      "Epoch: 065, Loss: 0.94979\n",
      "all: h@1: 0.31422 h@5: 0.53325 h@10: 0.60830 ndcg@1: 0.31422 ndcg@5: 0.43085 ndcg@10: 0.45515\n",
      "new: h@1: 0.02093 h@5: 0.21674 h@10: 0.31540 ndcg@1: 0.02093 ndcg@5: 0.11933 ndcg@10: 0.15103\n",
      "rep: h@1: 0.51649 h@5: 0.75155 h@10: 0.81031 ndcg@1: 0.51649 ndcg@5: 0.64570 ndcg@10: 0.66490\n",
      "ratio:  0.5918242830994509\n"
     ]
    },
    {
     "name": "stderr",
     "output_type": "stream",
     "text": [
      "100%|████████████████████████████████████████████████████████████████████████████████| 114/114 [00:26<00:00,  4.28it/s]\n",
      "17it [00:02,  7.76it/s]\n"
     ]
    },
    {
     "name": "stdout",
     "output_type": "stream",
     "text": [
      "Epoch: 066, Loss: 0.94365\n",
      "all: h@1: 0.31483 h@5: 0.53386 h@10: 0.61257 ndcg@1: 0.31483 ndcg@5: 0.43167 ndcg@10: 0.45715\n",
      "new: h@1: 0.02392 h@5: 0.20927 h@10: 0.31988 ndcg@1: 0.02392 ndcg@5: 0.11889 ndcg@10: 0.15482\n",
      "rep: h@1: 0.51546 h@5: 0.75773 h@10: 0.81443 ndcg@1: 0.51546 ndcg@5: 0.64740 ndcg@10: 0.66566\n",
      "ratio:  0.5918242830994509\n"
     ]
    },
    {
     "name": "stderr",
     "output_type": "stream",
     "text": [
      "100%|████████████████████████████████████████████████████████████████████████████████| 114/114 [00:26<00:00,  4.26it/s]\n",
      "17it [00:02,  7.31it/s]\n"
     ]
    },
    {
     "name": "stdout",
     "output_type": "stream",
     "text": [
      "Epoch: 067, Loss: 0.94125\n",
      "all: h@1: 0.31483 h@5: 0.52654 h@10: 0.61379 ndcg@1: 0.31483 ndcg@5: 0.42780 ndcg@10: 0.45623\n",
      "new: h@1: 0.02392 h@5: 0.20329 h@10: 0.32138 ndcg@1: 0.02392 ndcg@5: 0.11387 ndcg@10: 0.15220\n",
      "rep: h@1: 0.51546 h@5: 0.74948 h@10: 0.81546 ndcg@1: 0.51546 ndcg@5: 0.64431 ndcg@10: 0.66593\n",
      "ratio:  0.5918242830994509\n"
     ]
    },
    {
     "name": "stderr",
     "output_type": "stream",
     "text": [
      "100%|████████████████████████████████████████████████████████████████████████████████| 114/114 [00:26<00:00,  4.28it/s]\n",
      "17it [00:02,  7.59it/s]\n"
     ]
    },
    {
     "name": "stdout",
     "output_type": "stream",
     "text": [
      "Epoch: 068, Loss: 0.93664\n",
      "all: h@1: 0.31910 h@5: 0.53264 h@10: 0.61440 ndcg@1: 0.31910 ndcg@5: 0.43260 ndcg@10: 0.45913\n",
      "new: h@1: 0.02242 h@5: 0.21076 h@10: 0.31689 ndcg@1: 0.02242 ndcg@5: 0.11685 ndcg@10: 0.15129\n",
      "rep: h@1: 0.52371 h@5: 0.75464 h@10: 0.81959 ndcg@1: 0.52371 ndcg@5: 0.65037 ndcg@10: 0.67145\n",
      "ratio:  0.5918242830994509\n"
     ]
    },
    {
     "name": "stderr",
     "output_type": "stream",
     "text": [
      "100%|████████████████████████████████████████████████████████████████████████████████| 114/114 [00:26<00:00,  4.29it/s]\n",
      "17it [00:02,  7.72it/s]\n"
     ]
    },
    {
     "name": "stdout",
     "output_type": "stream",
     "text": [
      "Epoch: 069, Loss: 0.93566\n",
      "all: h@1: 0.31788 h@5: 0.53569 h@10: 0.61806 ndcg@1: 0.31788 ndcg@5: 0.43442 ndcg@10: 0.46118\n",
      "new: h@1: 0.02541 h@5: 0.21525 h@10: 0.32735 ndcg@1: 0.02541 ndcg@5: 0.12279 ndcg@10: 0.15919\n",
      "rep: h@1: 0.51959 h@5: 0.75670 h@10: 0.81856 ndcg@1: 0.51959 ndcg@5: 0.64935 ndcg@10: 0.66946\n",
      "ratio:  0.5918242830994509\n"
     ]
    },
    {
     "name": "stderr",
     "output_type": "stream",
     "text": [
      "100%|████████████████████████████████████████████████████████████████████████████████| 114/114 [00:26<00:00,  4.31it/s]\n",
      "17it [00:02,  7.41it/s]\n"
     ]
    },
    {
     "name": "stdout",
     "output_type": "stream",
     "text": [
      "Epoch: 070, Loss: 0.93008\n",
      "all: h@1: 0.31666 h@5: 0.54179 h@10: 0.61379 ndcg@1: 0.31666 ndcg@5: 0.43470 ndcg@10: 0.45830\n",
      "new: h@1: 0.02840 h@5: 0.22422 h@10: 0.31390 ndcg@1: 0.02840 ndcg@5: 0.12403 ndcg@10: 0.15343\n",
      "rep: h@1: 0.51546 h@5: 0.76082 h@10: 0.82062 ndcg@1: 0.51546 ndcg@5: 0.64897 ndcg@10: 0.66856\n",
      "ratio:  0.5918242830994509\n"
     ]
    },
    {
     "name": "stderr",
     "output_type": "stream",
     "text": [
      "100%|████████████████████████████████████████████████████████████████████████████████| 114/114 [00:26<00:00,  4.33it/s]\n",
      "17it [00:02,  7.64it/s]\n"
     ]
    },
    {
     "name": "stdout",
     "output_type": "stream",
     "text": [
      "Epoch: 071, Loss: 0.92858\n",
      "all: h@1: 0.32215 h@5: 0.53874 h@10: 0.62538 ndcg@1: 0.32215 ndcg@5: 0.43582 ndcg@10: 0.46381\n",
      "new: h@1: 0.03139 h@5: 0.21076 h@10: 0.32885 ndcg@1: 0.03139 ndcg@5: 0.11969 ndcg@10: 0.15766\n",
      "rep: h@1: 0.52268 h@5: 0.76495 h@10: 0.82990 ndcg@1: 0.52268 ndcg@5: 0.65385 ndcg@10: 0.67496\n",
      "ratio:  0.5918242830994509\n"
     ]
    },
    {
     "name": "stderr",
     "output_type": "stream",
     "text": [
      "100%|████████████████████████████████████████████████████████████████████████████████| 114/114 [00:26<00:00,  4.30it/s]\n",
      "17it [00:02,  7.55it/s]\n"
     ]
    },
    {
     "name": "stdout",
     "output_type": "stream",
     "text": [
      "Epoch: 072, Loss: 0.92328\n",
      "all: h@1: 0.31788 h@5: 0.53325 h@10: 0.62233 ndcg@1: 0.31788 ndcg@5: 0.43179 ndcg@10: 0.46071\n",
      "new: h@1: 0.02541 h@5: 0.20179 h@10: 0.33483 ndcg@1: 0.02541 ndcg@5: 0.11371 ndcg@10: 0.15680\n",
      "rep: h@1: 0.51959 h@5: 0.76186 h@10: 0.82062 ndcg@1: 0.51959 ndcg@5: 0.65116 ndcg@10: 0.67032\n",
      "ratio:  0.5918242830994509\n"
     ]
    },
    {
     "name": "stderr",
     "output_type": "stream",
     "text": [
      "100%|████████████████████████████████████████████████████████████████████████████████| 114/114 [00:26<00:00,  4.33it/s]\n",
      "17it [00:02,  7.58it/s]\n"
     ]
    },
    {
     "name": "stdout",
     "output_type": "stream",
     "text": [
      "Epoch: 073, Loss: 0.92219\n",
      "all: h@1: 0.31605 h@5: 0.53630 h@10: 0.61989 ndcg@1: 0.31605 ndcg@5: 0.43289 ndcg@10: 0.45987\n",
      "new: h@1: 0.02541 h@5: 0.21076 h@10: 0.32885 ndcg@1: 0.02541 ndcg@5: 0.11782 ndcg@10: 0.15579\n",
      "rep: h@1: 0.51649 h@5: 0.76082 h@10: 0.82062 ndcg@1: 0.51649 ndcg@5: 0.65018 ndcg@10: 0.66959\n",
      "ratio:  0.5918242830994509\n"
     ]
    },
    {
     "name": "stderr",
     "output_type": "stream",
     "text": [
      "100%|████████████████████████████████████████████████████████████████████████████████| 114/114 [00:26<00:00,  4.32it/s]\n",
      "17it [00:02,  7.58it/s]\n"
     ]
    },
    {
     "name": "stdout",
     "output_type": "stream",
     "text": [
      "Epoch: 074, Loss: 0.91715\n",
      "all: h@1: 0.32215 h@5: 0.54179 h@10: 0.61928 ndcg@1: 0.32215 ndcg@5: 0.43833 ndcg@10: 0.46324\n",
      "new: h@1: 0.02990 h@5: 0.21226 h@10: 0.32735 ndcg@1: 0.02990 ndcg@5: 0.12065 ndcg@10: 0.15770\n",
      "rep: h@1: 0.52371 h@5: 0.76907 h@10: 0.82062 ndcg@1: 0.52371 ndcg@5: 0.65742 ndcg@10: 0.67397\n",
      "ratio:  0.5918242830994509\n"
     ]
    },
    {
     "name": "stderr",
     "output_type": "stream",
     "text": [
      "100%|████████████████████████████████████████████████████████████████████████████████| 114/114 [00:26<00:00,  4.32it/s]\n",
      "17it [00:02,  7.82it/s]\n"
     ]
    },
    {
     "name": "stdout",
     "output_type": "stream",
     "text": [
      "Epoch: 075, Loss: 0.91651\n",
      "all: h@1: 0.31971 h@5: 0.53508 h@10: 0.62050 ndcg@1: 0.31971 ndcg@5: 0.43438 ndcg@10: 0.46210\n",
      "new: h@1: 0.03288 h@5: 0.20927 h@10: 0.33184 ndcg@1: 0.03288 ndcg@5: 0.12154 ndcg@10: 0.16112\n",
      "rep: h@1: 0.51753 h@5: 0.75979 h@10: 0.81959 ndcg@1: 0.51753 ndcg@5: 0.65015 ndcg@10: 0.66968\n",
      "ratio:  0.5918242830994509\n"
     ]
    },
    {
     "name": "stderr",
     "output_type": "stream",
     "text": [
      "100%|████████████████████████████████████████████████████████████████████████████████| 114/114 [00:26<00:00,  4.30it/s]\n",
      "17it [00:02,  7.49it/s]\n"
     ]
    },
    {
     "name": "stdout",
     "output_type": "stream",
     "text": [
      "Epoch: 076, Loss: 0.91375\n",
      "all: h@1: 0.31910 h@5: 0.53569 h@10: 0.61684 ndcg@1: 0.31910 ndcg@5: 0.43437 ndcg@10: 0.46061\n",
      "new: h@1: 0.02691 h@5: 0.20628 h@10: 0.31839 ndcg@1: 0.02691 ndcg@5: 0.11716 ndcg@10: 0.15287\n",
      "rep: h@1: 0.52062 h@5: 0.76289 h@10: 0.82268 ndcg@1: 0.52062 ndcg@5: 0.65315 ndcg@10: 0.67286\n",
      "ratio:  0.5918242830994509\n"
     ]
    },
    {
     "name": "stderr",
     "output_type": "stream",
     "text": [
      "100%|████████████████████████████████████████████████████████████████████████████████| 114/114 [00:26<00:00,  4.31it/s]\n",
      "17it [00:02,  7.55it/s]\n"
     ]
    },
    {
     "name": "stdout",
     "output_type": "stream",
     "text": [
      "Epoch: 077, Loss: 0.91027\n",
      "all: h@1: 0.31971 h@5: 0.53508 h@10: 0.61745 ndcg@1: 0.31971 ndcg@5: 0.43444 ndcg@10: 0.46106\n",
      "new: h@1: 0.03288 h@5: 0.19581 h@10: 0.31689 ndcg@1: 0.03288 ndcg@5: 0.11476 ndcg@10: 0.15359\n",
      "rep: h@1: 0.51753 h@5: 0.76907 h@10: 0.82474 ndcg@1: 0.51753 ndcg@5: 0.65492 ndcg@10: 0.67312\n",
      "ratio:  0.5918242830994509\n"
     ]
    },
    {
     "name": "stderr",
     "output_type": "stream",
     "text": [
      "100%|████████████████████████████████████████████████████████████████████████████████| 114/114 [00:26<00:00,  4.31it/s]\n",
      "17it [00:02,  7.68it/s]\n"
     ]
    },
    {
     "name": "stdout",
     "output_type": "stream",
     "text": [
      "Epoch: 078, Loss: 0.90714\n",
      "all: h@1: 0.31605 h@5: 0.53142 h@10: 0.61928 ndcg@1: 0.31605 ndcg@5: 0.43195 ndcg@10: 0.46037\n",
      "new: h@1: 0.03139 h@5: 0.18984 h@10: 0.31689 ndcg@1: 0.03139 ndcg@5: 0.11294 ndcg@10: 0.15404\n",
      "rep: h@1: 0.51237 h@5: 0.76701 h@10: 0.82784 ndcg@1: 0.51237 ndcg@5: 0.65197 ndcg@10: 0.67165\n",
      "ratio:  0.5918242830994509\n"
     ]
    },
    {
     "name": "stderr",
     "output_type": "stream",
     "text": [
      "100%|████████████████████████████████████████████████████████████████████████████████| 114/114 [00:26<00:00,  4.30it/s]\n",
      "17it [00:02,  7.69it/s]\n"
     ]
    },
    {
     "name": "stdout",
     "output_type": "stream",
     "text": [
      "Epoch: 079, Loss: 0.90664\n",
      "all: h@1: 0.31666 h@5: 0.53203 h@10: 0.61623 ndcg@1: 0.31666 ndcg@5: 0.43128 ndcg@10: 0.45864\n",
      "new: h@1: 0.03288 h@5: 0.19880 h@10: 0.31241 ndcg@1: 0.03288 ndcg@5: 0.11487 ndcg@10: 0.15151\n",
      "rep: h@1: 0.51237 h@5: 0.76186 h@10: 0.82577 ndcg@1: 0.51237 ndcg@5: 0.64951 ndcg@10: 0.67046\n",
      "ratio:  0.5918242830994509\n"
     ]
    },
    {
     "name": "stderr",
     "output_type": "stream",
     "text": [
      "100%|████████████████████████████████████████████████████████████████████████████████| 114/114 [00:26<00:00,  4.30it/s]\n",
      "17it [00:02,  7.59it/s]\n"
     ]
    },
    {
     "name": "stdout",
     "output_type": "stream",
     "text": [
      "Epoch: 080, Loss: 0.90266\n",
      "all: h@1: 0.31544 h@5: 0.54057 h@10: 0.61562 ndcg@1: 0.31544 ndcg@5: 0.43461 ndcg@10: 0.45912\n",
      "new: h@1: 0.02990 h@5: 0.20478 h@10: 0.30643 ndcg@1: 0.02990 ndcg@5: 0.11607 ndcg@10: 0.14898\n",
      "rep: h@1: 0.51237 h@5: 0.77216 h@10: 0.82887 ndcg@1: 0.51237 ndcg@5: 0.65430 ndcg@10: 0.67302\n",
      "ratio:  0.5918242830994509\n"
     ]
    },
    {
     "name": "stderr",
     "output_type": "stream",
     "text": [
      "100%|████████████████████████████████████████████████████████████████████████████████| 114/114 [00:26<00:00,  4.31it/s]\n",
      "17it [00:02,  7.70it/s]\n"
     ]
    },
    {
     "name": "stdout",
     "output_type": "stream",
     "text": [
      "Epoch: 081, Loss: 0.90016\n",
      "all: h@1: 0.31300 h@5: 0.54301 h@10: 0.61623 ndcg@1: 0.31300 ndcg@5: 0.43628 ndcg@10: 0.45985\n",
      "new: h@1: 0.02691 h@5: 0.21076 h@10: 0.30792 ndcg@1: 0.02691 ndcg@5: 0.12004 ndcg@10: 0.15107\n",
      "rep: h@1: 0.51031 h@5: 0.77216 h@10: 0.82887 ndcg@1: 0.51031 ndcg@5: 0.65438 ndcg@10: 0.67281\n",
      "ratio:  0.5918242830994509\n"
     ]
    },
    {
     "name": "stderr",
     "output_type": "stream",
     "text": [
      "100%|████████████████████████████████████████████████████████████████████████████████| 114/114 [00:26<00:00,  4.31it/s]\n",
      "17it [00:02,  7.53it/s]\n"
     ]
    },
    {
     "name": "stdout",
     "output_type": "stream",
     "text": [
      "Epoch: 082, Loss: 0.89668\n",
      "all: h@1: 0.31910 h@5: 0.53996 h@10: 0.61745 ndcg@1: 0.31910 ndcg@5: 0.43702 ndcg@10: 0.46188\n",
      "new: h@1: 0.03587 h@5: 0.20478 h@10: 0.31988 ndcg@1: 0.03587 ndcg@5: 0.12144 ndcg@10: 0.15815\n",
      "rep: h@1: 0.51443 h@5: 0.77113 h@10: 0.82268 ndcg@1: 0.51443 ndcg@5: 0.65467 ndcg@10: 0.67135\n",
      "ratio:  0.5918242830994509\n"
     ]
    },
    {
     "name": "stderr",
     "output_type": "stream",
     "text": [
      "100%|████████████████████████████████████████████████████████████████████████████████| 114/114 [00:26<00:00,  4.32it/s]\n",
      "17it [00:02,  7.62it/s]\n"
     ]
    },
    {
     "name": "stdout",
     "output_type": "stream",
     "text": [
      "Epoch: 083, Loss: 0.89576\n",
      "all: h@1: 0.32032 h@5: 0.53752 h@10: 0.61867 ndcg@1: 0.32032 ndcg@5: 0.43623 ndcg@10: 0.46249\n",
      "new: h@1: 0.03139 h@5: 0.20628 h@10: 0.31241 ndcg@1: 0.03139 ndcg@5: 0.11879 ndcg@10: 0.15255\n",
      "rep: h@1: 0.51959 h@5: 0.76598 h@10: 0.82990 ndcg@1: 0.51959 ndcg@5: 0.65516 ndcg@10: 0.67626\n",
      "ratio:  0.5918242830994509\n"
     ]
    },
    {
     "name": "stderr",
     "output_type": "stream",
     "text": [
      "100%|████████████████████████████████████████████████████████████████████████████████| 114/114 [00:26<00:00,  4.31it/s]\n",
      "17it [00:02,  7.60it/s]\n"
     ]
    },
    {
     "name": "stdout",
     "output_type": "stream",
     "text": [
      "Epoch: 084, Loss: 0.89355\n",
      "all: h@1: 0.31178 h@5: 0.53569 h@10: 0.61562 ndcg@1: 0.31178 ndcg@5: 0.43168 ndcg@10: 0.45776\n",
      "new: h@1: 0.02541 h@5: 0.20478 h@10: 0.30942 ndcg@1: 0.02541 ndcg@5: 0.11676 ndcg@10: 0.15090\n",
      "rep: h@1: 0.50928 h@5: 0.76392 h@10: 0.82680 ndcg@1: 0.50928 ndcg@5: 0.64887 ndcg@10: 0.66940\n",
      "ratio:  0.5918242830994509\n"
     ]
    },
    {
     "name": "stderr",
     "output_type": "stream",
     "text": [
      "100%|████████████████████████████████████████████████████████████████████████████████| 114/114 [00:26<00:00,  4.30it/s]\n",
      "17it [00:02,  7.73it/s]\n"
     ]
    },
    {
     "name": "stdout",
     "output_type": "stream",
     "text": [
      "Epoch: 085, Loss: 0.89180\n",
      "all: h@1: 0.31605 h@5: 0.54301 h@10: 0.61806 ndcg@1: 0.31605 ndcg@5: 0.43600 ndcg@10: 0.46043\n",
      "new: h@1: 0.03139 h@5: 0.20628 h@10: 0.31540 ndcg@1: 0.03139 ndcg@5: 0.11816 ndcg@10: 0.15346\n",
      "rep: h@1: 0.51237 h@5: 0.77526 h@10: 0.82680 ndcg@1: 0.51237 ndcg@5: 0.65521 ndcg@10: 0.67215\n",
      "ratio:  0.5918242830994509\n"
     ]
    },
    {
     "name": "stderr",
     "output_type": "stream",
     "text": [
      "100%|████████████████████████████████████████████████████████████████████████████████| 114/114 [00:26<00:00,  4.29it/s]\n",
      "17it [00:02,  7.65it/s]\n"
     ]
    },
    {
     "name": "stdout",
     "output_type": "stream",
     "text": [
      "Epoch: 086, Loss: 0.88777\n",
      "all: h@1: 0.31910 h@5: 0.53935 h@10: 0.61806 ndcg@1: 0.31910 ndcg@5: 0.43684 ndcg@10: 0.46244\n",
      "new: h@1: 0.02990 h@5: 0.20628 h@10: 0.31689 ndcg@1: 0.02990 ndcg@5: 0.11901 ndcg@10: 0.15487\n",
      "rep: h@1: 0.51856 h@5: 0.76907 h@10: 0.82577 ndcg@1: 0.51856 ndcg@5: 0.65605 ndcg@10: 0.67457\n",
      "ratio:  0.5918242830994509\n"
     ]
    },
    {
     "name": "stderr",
     "output_type": "stream",
     "text": [
      "24it [00:03,  7.06it/s]"
     ]
    },
    {
     "name": "stdout",
     "output_type": "stream",
     "text": [
      "Final score\n",
      "===========\n",
      "Epoch: 086, Loss: 0.88777\n",
      "all: h@1: 0.31659 h@5: 0.51710 h@10: 0.59139 ndcg@1: 0.31659 ndcg@5: 0.42445 ndcg@10: 0.44876\n",
      "new: h@1: 0.00979 h@5: 0.15422 h@10: 0.24969 ndcg@1: 0.00979 ndcg@5: 0.08334 ndcg@10: 0.11440\n",
      "rep: h@1: 0.47809 h@5: 0.70812 h@10: 0.77126 ndcg@1: 0.47809 ndcg@5: 0.60402 ndcg@10: 0.62476\n",
      "ratio:  0.6551287463064585\n"
     ]
    },
    {
     "name": "stderr",
     "output_type": "stream",
     "text": [
      "\n"
     ]
    }
   ],
   "source": [
    "print(\"training...\")\n",
    "for epoch in range(args.num_epochs):\n",
    "    loss_all = 0.0; loss_cnt = 0\n",
    "    model5.train()\n",
    "    for data in tqdm(train_loader):\n",
    "        data = data.to(args.device)\n",
    "        optimizer.zero_grad()\n",
    "    \n",
    "        loss = model5.train_step(data)\n",
    "            \n",
    "        loss_all += loss.item()\n",
    "        loss_cnt += (data[:,:,5]!=0).sum()\n",
    "        \n",
    "#         loss1 = loss.detach_().requires_grad_(True)\n",
    "#         loss1.backward()\n",
    "        loss.backward()\n",
    "        optimizer.step()\n",
    "            \n",
    "        if torch.isnan(loss):\n",
    "            print(\"loss is nan !\") \n",
    "    \n",
    "    scores = compute_recall(model5, val_loader, args, maxit=500)\n",
    "    print('Epoch: {:03d}, Loss: {:.5f}'.format(epoch, loss_all/loss_cnt))\n",
    "    print_scores(scores)\n",
    "    \n",
    "    hall = scores['all']['h01']\n",
    "    if hall>best_val:\n",
    "        best_val = hall\n",
    "        torch.save(model5.state_dict(), MPATH5)\n",
    "        best_cnt = best_max\n",
    "    else:\n",
    "        best_cnt -= 1\n",
    "        if best_cnt == 0:\n",
    "            break\n",
    "    \n",
    "model5 = MODEL5(args).to(args.device)\n",
    "model5.load_state_dict(torch.load(MPATH5))\n",
    "    \n",
    "scores = compute_recall(model5, test_loader, args)\n",
    "print(\"Final score\")\n",
    "print(\"=\"*11)\n",
    "print('Epoch: {:03d}, Loss: {:.5f}'.format(epoch, loss_all/loss_cnt))\n",
    "print_scores(scores)\n",
    "save_scores(scores,args)"
   ]
  },
  {
   "cell_type": "code",
   "execution_count": null,
   "id": "fd385d5f",
   "metadata": {},
   "outputs": [],
   "source": []
  }
 ],
 "metadata": {
  "kernelspec": {
   "display_name": "base",
   "language": "python",
   "name": "base"
  },
  "language_info": {
   "codemirror_mode": {
    "name": "ipython",
    "version": 3
   },
   "file_extension": ".py",
   "mimetype": "text/x-python",
   "name": "python",
   "nbconvert_exporter": "python",
   "pygments_lexer": "ipython3",
   "version": "3.9.13"
  }
 },
 "nbformat": 4,
 "nbformat_minor": 5
}
