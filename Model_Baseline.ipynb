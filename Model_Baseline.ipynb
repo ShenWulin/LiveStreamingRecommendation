{
 "cells": [
  {
   "cell_type": "code",
   "execution_count": 1,
   "id": "b7beb3f8",
   "metadata": {},
   "outputs": [],
   "source": [
    "import pandas as pd\n",
    "import numpy as np\n",
    "import matplotlib.pyplot as plt"
   ]
  },
  {
   "cell_type": "code",
   "execution_count": 2,
   "id": "4a91326e",
   "metadata": {},
   "outputs": [],
   "source": [
    "import argparse\n",
    "from prettytable import PrettyTable"
   ]
  },
  {
   "cell_type": "code",
   "execution_count": 3,
   "id": "6800cf2e",
   "metadata": {},
   "outputs": [],
   "source": [
    "from sampling import *\n",
    "\n",
    "import torch.utils.data as data\n",
    "from torch.utils.data import DataLoader"
   ]
  },
  {
   "cell_type": "code",
   "execution_count": 4,
   "id": "355018da",
   "metadata": {},
   "outputs": [],
   "source": [
    "import torch\n",
    "import torch.optim as optim"
   ]
  },
  {
   "cell_type": "code",
   "execution_count": 5,
   "id": "58ec372b",
   "metadata": {},
   "outputs": [],
   "source": [
    "import os\n",
    "import torch\n",
    "import pickle\n",
    "from tqdm import tqdm"
   ]
  },
  {
   "cell_type": "code",
   "execution_count": 6,
   "id": "143f9ca5",
   "metadata": {},
   "outputs": [],
   "source": [
    "def print_args(parse_args):\n",
    "    x = PrettyTable()\n",
    "    x.field_names = [\"Arg.\", \"Value\"]\n",
    "    for arg in vars(parse_args):\n",
    "        x.add_row([arg, getattr(parse_args, arg)])\n",
    "    print(x)"
   ]
  },
  {
   "cell_type": "code",
   "execution_count": 7,
   "id": "3375dd37",
   "metadata": {},
   "outputs": [],
   "source": [
    "def arg_parse():\n",
    "        parser = argparse.ArgumentParser(description='LiveRec - Douyu')\n",
    "\n",
    "        parser.add_argument('--seed', dest='seed', type=int,\n",
    "            help='Random seed')\n",
    "\n",
    "        parser.add_argument('--batch_size', dest='batch_size', type=int,\n",
    "            help='Batch size - only active if torch is used')\n",
    "        parser.add_argument('--seq_len', dest='seq_len', type=int,\n",
    "            help='Max size of the sequence to consider')\n",
    "\n",
    "        parser.add_argument('--num_heads', dest='num_heads', type=int,\n",
    "            help='Numer of heads to use for multi-heads attention')\n",
    "        parser.add_argument('--num_heads_ctx', dest='num_heads_ctx', type=int,\n",
    "            help='Numer of heads to use for multi-heads attention CTX')\n",
    "\n",
    "\n",
    "        parser.add_argument('--dataset', dest='dataset', \n",
    "            help='Input dataset.')\n",
    " \n",
    "        parser.add_argument('--model', dest='model', type=str,\n",
    "            help='Type of the model')\n",
    "\n",
    "        parser.add_argument('--model_from', dest='mfrom', type=str,\n",
    "            help='Name of the model to load')\n",
    "        parser.add_argument('--model_to', dest='mto', type=str,\n",
    "            help='Name of the model to save')\n",
    "        parser.add_argument('--cache_dir', dest='cache_dir', type=str,\n",
    "            help='Path to save the cached preprocessd dataset')\n",
    " \n",
    "        parser.add_argument('--model_path', dest='model_path', type=str,\n",
    "            help='Path to save the model')\n",
    "        parser.add_argument('--early_stop', dest='early_stop', type=int,\n",
    "            help='Number of iteration without improvment before stop')\n",
    "        parser.add_argument('--ev_sample', dest='ev_sample', type=int,\n",
    "            help='Number of samples for the final evaluation')\n",
    "        parser.add_argument('--device', dest='device', type=str,\n",
    "            help='Pytorch device')\n",
    "\n",
    "        parser.add_argument('--lr', dest='lr', type=float,\n",
    "            help='Learning rate.')\n",
    "        parser.add_argument('--mask_prob', dest='mask_prob', type=float,\n",
    "            help='BERT mask prob.')\n",
    "        parser.add_argument('--l2', dest='l2', type=float,\n",
    "            help='Strength of L2 regularization')\n",
    "        parser.add_argument('--dim', dest='K', type=int,\n",
    "            help='Number of latent factors')\n",
    " \n",
    "        parser.add_argument('--num_iters', dest='num_iter', type=int,\n",
    "            help='Number of training iterations')\n",
    "        parser.add_argument('--num_epochs', dest='num_epochs', type=int,\n",
    "            help='Number of training epochs')\n",
    "        parser.add_argument('--num_att', dest='num_att', type=int,\n",
    "            help='Num attention module for seq encoding')\n",
    "        parser.add_argument('--num_att_ctx', dest='num_att_ctx', type=int,\n",
    "            help='Num attention for ctx module')\n",
    " \n",
    "        parser.add_argument('--topk_att', dest='topk_att', type=int,\n",
    "            help='Items to send to attentive output')\n",
    "\n",
    "        parser.add_argument('--fr_ctx', dest='fr_ctx', nargs='?',\n",
    "            const=True, default=True,\n",
    "            help='')\n",
    "        parser.add_argument('--fr_rep', dest='fr_rep', nargs='?',\n",
    "            const=True, default=False,\n",
    "            help='')\n",
    "        parser.add_argument('--uniform', dest='uniform', nargs='?',\n",
    "            const=True, default=False,\n",
    "            help='')\n",
    "        parser.add_argument('--debug', dest='debug', nargs='?',\n",
    "            const=True, default=False,\n",
    "            help='')\n",
    "#         parser.add_argument('--caching', dest='caching', nargs='?',\n",
    "#             const=True, default=False,\n",
    "#             help='')\n",
    "        parser.add_argument('--caching', dest='caching', nargs='?',\n",
    "            const=True, default=True,\n",
    "            help='')\n",
    "\n",
    "        parser.set_defaults(\n",
    "                        seed=42,\n",
    "                        dataset=\"\",\n",
    "                        lr=0.0005,\n",
    "                        l2=0.1,  \n",
    "                        mask_prob=0.5,  \n",
    "                        batch_size=100, \n",
    "                        num_att=2,\n",
    "                        num_att_ctx=2,\n",
    "                        num_heads=4,\n",
    "                        num_heads_ctx=4,\n",
    "                        num_iter=200,\n",
    "                        seq_len=16,  \n",
    "                        topk_att=64,  \n",
    "                        early_stop=15,  \n",
    "                        K=64,  \n",
    "                        num_epochs=150,\n",
    "#                         model=\"LiveRec\",\n",
    "                        model=\"POP\",\n",
    "                        model_path=\"\",\n",
    "                        mto=\"liverec\",\n",
    "                        device=\"cuda\",\n",
    "                        cache_dir=\"\"\n",
    "                       )\n",
    "\n",
    "\n",
    "        args, unknown = parser.parse_known_args()\n",
    "        return args "
   ]
  },
  {
   "cell_type": "code",
   "execution_count": 8,
   "id": "526f32ab",
   "metadata": {},
   "outputs": [
    {
     "name": "stdout",
     "output_type": "stream",
     "text": [
      "+---------------+---------+\n",
      "|      Arg.     |  Value  |\n",
      "+---------------+---------+\n",
      "|      seed     |    42   |\n",
      "|   batch_size  |   100   |\n",
      "|    seq_len    |    16   |\n",
      "|   num_heads   |    4    |\n",
      "| num_heads_ctx |    4    |\n",
      "|    dataset    |         |\n",
      "|     model     |   POP   |\n",
      "|     mfrom     |   None  |\n",
      "|      mto      | liverec |\n",
      "|   cache_dir   |         |\n",
      "|   model_path  |         |\n",
      "|   early_stop  |    15   |\n",
      "|   ev_sample   |   None  |\n",
      "|     device    |   cuda  |\n",
      "|       lr      |  0.0005 |\n",
      "|   mask_prob   |   0.5   |\n",
      "|       l2      |   0.1   |\n",
      "|       K       |    64   |\n",
      "|    num_iter   |   200   |\n",
      "|   num_epochs  |   150   |\n",
      "|    num_att    |    2    |\n",
      "|  num_att_ctx  |    2    |\n",
      "|    topk_att   |    64   |\n",
      "|     fr_ctx    |   True  |\n",
      "|     fr_rep    |  False  |\n",
      "|    uniform    |  False  |\n",
      "|     debug     |  False  |\n",
      "|    caching    |   True  |\n",
      "+---------------+---------+\n"
     ]
    }
   ],
   "source": [
    "args = arg_parse()\n",
    "print_args(args)\n",
    "args.device = torch.device(args.device)"
   ]
  },
  {
   "cell_type": "code",
   "execution_count": null,
   "id": "4669f7dd",
   "metadata": {},
   "outputs": [],
   "source": []
  },
  {
   "cell_type": "code",
   "execution_count": 9,
   "id": "eb3f5da1",
   "metadata": {},
   "outputs": [
    {
     "name": "stdout",
     "output_type": "stream",
     "text": [
      "Num users:  11610\n",
      "Num streamers:  47612\n",
      "Num interactions:  5378125\n"
     ]
    }
   ],
   "source": [
    "INFILE = os.path.join(args.dataset,'douyu_10k_min_duration.csv')\n",
    "#user,streamer_id,start,stop\n",
    "cols = [\"user\",\"streamer\",\"start\",\"stop\",\"duration\"]\n",
    "data_fu = pd.read_csv(INFILE, header=None, names=cols)\n",
    "    \n",
    "# Add one for padding\n",
    "data_fu.user = pd.factorize(data_fu.user)[0]+1\n",
    "data_fu['streamer_raw'] = data_fu.streamer\n",
    "data_fu.streamer = pd.factorize(data_fu.streamer)[0]+1\n",
    "print(\"Num users: \", data_fu.user.nunique())\n",
    "print(\"Num streamers: \", data_fu.streamer.nunique())\n",
    "print(\"Num interactions: \", len(data_fu))"
   ]
  },
  {
   "cell_type": "code",
   "execution_count": 10,
   "id": "8b5368ba",
   "metadata": {},
   "outputs": [
    {
     "data": {
      "text/plain": [
       "(0, 87839, 1, 87840)"
      ]
     },
     "execution_count": 10,
     "metadata": {},
     "output_type": "execute_result"
    }
   ],
   "source": [
    "data_fu.start.min(),data_fu.start.max(),data_fu.stop.min(),data_fu.stop.max()"
   ]
  },
  {
   "cell_type": "code",
   "execution_count": 11,
   "id": "5cad0a55",
   "metadata": {},
   "outputs": [],
   "source": [
    "args.M = data_fu.user.max()+1 # users\n",
    "args.N = data_fu.streamer.max()+2 # items\n",
    "args.D = data_fu.duration.max()+1 # duration\n",
    "\n",
    "data_temp = data_fu.drop_duplicates(subset=['streamer','streamer_raw'])\n",
    "umap      = dict(zip(data_temp.streamer_raw.tolist(),data_temp.streamer.tolist()))"
   ]
  },
  {
   "cell_type": "code",
   "execution_count": 12,
   "id": "8fafe00b",
   "metadata": {},
   "outputs": [
    {
     "data": {
      "text/plain": [
       "(11611, 47614, 2883)"
      ]
     },
     "execution_count": 12,
     "metadata": {},
     "output_type": "execute_result"
    }
   ],
   "source": [
    "args.M ,args.N ,args.D"
   ]
  },
  {
   "cell_type": "code",
   "execution_count": 13,
   "id": "b6d96521",
   "metadata": {},
   "outputs": [
    {
     "name": "stdout",
     "output_type": "stream",
     "text": [
      "Num timesteps:  87840\n"
     ]
    }
   ],
   "source": [
    "# Splitting and caching\n",
    "max_step = max(data_fu.start.max(),data_fu.stop.max())\n",
    "print(\"Num timesteps: \", max_step)\n",
    "args.max_step = max_step\n",
    "args.pivot_1  = max_step-500\n",
    "args.pivot_2  = max_step-250"
   ]
  },
  {
   "cell_type": "code",
   "execution_count": 14,
   "id": "ca8bea7d",
   "metadata": {},
   "outputs": [
    {
     "name": "stdout",
     "output_type": "stream",
     "text": [
      "caching availability\n",
      "max_avail:  446\n"
     ]
    }
   ],
   "source": [
    "print(\"caching availability\")\n",
    "ts = {}\n",
    "max_avail = 0\n",
    "for s in range(max_step):\n",
    "    all_av = data_fu[(data_fu.start<=s) & (data_fu.stop>s)].streamer.unique().tolist()\n",
    "    ts[s] = all_av\n",
    "    max_avail = max(max_avail,len(ts[s]))\n",
    "args.max_avail = max_avail\n",
    "args.ts = ts\n",
    "print(\"max_avail: \", max_avail)"
   ]
  },
  {
   "cell_type": "code",
   "execution_count": 15,
   "id": "674384c0",
   "metadata": {},
   "outputs": [],
   "source": [
    "# Compute availability matrix of size (num_timesteps x max_available)\n",
    "max_av   = max([len(v) for k,v in args.ts.items()])\n",
    "max_step = max([k for k,v in args.ts.items()])+1\n",
    "av_tens = torch.zeros(max_step,max_av).type(torch.long)\n",
    "for k,v in args.ts.items():\n",
    "    av_tens[k,:len(v)] = torch.LongTensor(v)\n",
    "args.av_tens = av_tens.to(args.device)"
   ]
  },
  {
   "cell_type": "code",
   "execution_count": 16,
   "id": "f6ab1041",
   "metadata": {
    "scrolled": true
   },
   "outputs": [
    {
     "data": {
      "text/html": [
       "<div>\n",
       "<style scoped>\n",
       "    .dataframe tbody tr th:only-of-type {\n",
       "        vertical-align: middle;\n",
       "    }\n",
       "\n",
       "    .dataframe tbody tr th {\n",
       "        vertical-align: top;\n",
       "    }\n",
       "\n",
       "    .dataframe thead th {\n",
       "        text-align: right;\n",
       "    }\n",
       "</style>\n",
       "<table border=\"1\" class=\"dataframe\">\n",
       "  <thead>\n",
       "    <tr style=\"text-align: right;\">\n",
       "      <th></th>\n",
       "      <th>user</th>\n",
       "      <th>streamer</th>\n",
       "      <th>start</th>\n",
       "      <th>stop</th>\n",
       "      <th>duration</th>\n",
       "      <th>streamer_raw</th>\n",
       "    </tr>\n",
       "  </thead>\n",
       "  <tbody>\n",
       "    <tr>\n",
       "      <th>0</th>\n",
       "      <td>1</td>\n",
       "      <td>1</td>\n",
       "      <td>81824</td>\n",
       "      <td>81825</td>\n",
       "      <td>2</td>\n",
       "      <td>1211089da67</td>\n",
       "    </tr>\n",
       "    <tr>\n",
       "      <th>1</th>\n",
       "      <td>1</td>\n",
       "      <td>2</td>\n",
       "      <td>73720</td>\n",
       "      <td>73721</td>\n",
       "      <td>1</td>\n",
       "      <td>eb5bf69ab60</td>\n",
       "    </tr>\n",
       "    <tr>\n",
       "      <th>2</th>\n",
       "      <td>1</td>\n",
       "      <td>1</td>\n",
       "      <td>81825</td>\n",
       "      <td>81834</td>\n",
       "      <td>18</td>\n",
       "      <td>1211089da67</td>\n",
       "    </tr>\n",
       "    <tr>\n",
       "      <th>3</th>\n",
       "      <td>1</td>\n",
       "      <td>2</td>\n",
       "      <td>73673</td>\n",
       "      <td>73676</td>\n",
       "      <td>4</td>\n",
       "      <td>eb5bf69ab60</td>\n",
       "    </tr>\n",
       "    <tr>\n",
       "      <th>4</th>\n",
       "      <td>1</td>\n",
       "      <td>1</td>\n",
       "      <td>81745</td>\n",
       "      <td>81750</td>\n",
       "      <td>9</td>\n",
       "      <td>1211089da67</td>\n",
       "    </tr>\n",
       "    <tr>\n",
       "      <th>...</th>\n",
       "      <td>...</td>\n",
       "      <td>...</td>\n",
       "      <td>...</td>\n",
       "      <td>...</td>\n",
       "      <td>...</td>\n",
       "      <td>...</td>\n",
       "    </tr>\n",
       "    <tr>\n",
       "      <th>5378120</th>\n",
       "      <td>11610</td>\n",
       "      <td>8849</td>\n",
       "      <td>21366</td>\n",
       "      <td>21368</td>\n",
       "      <td>2</td>\n",
       "      <td>80ec36cddc2</td>\n",
       "    </tr>\n",
       "    <tr>\n",
       "      <th>5378121</th>\n",
       "      <td>11610</td>\n",
       "      <td>8849</td>\n",
       "      <td>21364</td>\n",
       "      <td>21367</td>\n",
       "      <td>4</td>\n",
       "      <td>80ec36cddc2</td>\n",
       "    </tr>\n",
       "    <tr>\n",
       "      <th>5378122</th>\n",
       "      <td>11610</td>\n",
       "      <td>8849</td>\n",
       "      <td>21319</td>\n",
       "      <td>21332</td>\n",
       "      <td>24</td>\n",
       "      <td>80ec36cddc2</td>\n",
       "    </tr>\n",
       "    <tr>\n",
       "      <th>5378123</th>\n",
       "      <td>11610</td>\n",
       "      <td>8849</td>\n",
       "      <td>21362</td>\n",
       "      <td>21365</td>\n",
       "      <td>4</td>\n",
       "      <td>80ec36cddc2</td>\n",
       "    </tr>\n",
       "    <tr>\n",
       "      <th>5378124</th>\n",
       "      <td>11610</td>\n",
       "      <td>8849</td>\n",
       "      <td>21303</td>\n",
       "      <td>21312</td>\n",
       "      <td>16</td>\n",
       "      <td>80ec36cddc2</td>\n",
       "    </tr>\n",
       "  </tbody>\n",
       "</table>\n",
       "<p>5378125 rows × 6 columns</p>\n",
       "</div>"
      ],
      "text/plain": [
       "          user  streamer  start   stop  duration streamer_raw\n",
       "0            1         1  81824  81825         2  1211089da67\n",
       "1            1         2  73720  73721         1  eb5bf69ab60\n",
       "2            1         1  81825  81834        18  1211089da67\n",
       "3            1         2  73673  73676         4  eb5bf69ab60\n",
       "4            1         1  81745  81750         9  1211089da67\n",
       "...        ...       ...    ...    ...       ...          ...\n",
       "5378120  11610      8849  21366  21368         2  80ec36cddc2\n",
       "5378121  11610      8849  21364  21367         4  80ec36cddc2\n",
       "5378122  11610      8849  21319  21332        24  80ec36cddc2\n",
       "5378123  11610      8849  21362  21365         4  80ec36cddc2\n",
       "5378124  11610      8849  21303  21312        16  80ec36cddc2\n",
       "\n",
       "[5378125 rows x 6 columns]"
      ]
     },
     "execution_count": 16,
     "metadata": {},
     "output_type": "execute_result"
    }
   ],
   "source": [
    "data_fu"
   ]
  },
  {
   "cell_type": "code",
   "execution_count": 17,
   "id": "4ab1a220",
   "metadata": {},
   "outputs": [],
   "source": [
    "def custom_collate(batch,args):\n",
    "    # returns a [batch x seq x feats] tensor\n",
    "    # feats: [padded_positions,positions,inputs_ts,items,users,targets,targets_ts]\n",
    "\n",
    "    bs = len(batch)\n",
    "    feat_len = len(batch[0])\n",
    "    batch_seq = torch.zeros(bs,args.seq_len, feat_len, dtype=torch.long)\n",
    "    for ib,b in enumerate(batch):\n",
    "        for ifeat,feat in enumerate(b):\n",
    "            batch_seq[ib,b[0],ifeat] = feat\n",
    "    return batch_seq"
   ]
  },
  {
   "cell_type": "code",
   "execution_count": 18,
   "id": "440fc1a9",
   "metadata": {},
   "outputs": [],
   "source": [
    "class SequenceDataset(data.Dataset):\n",
    "    def __init__(self, data):\n",
    "        self.data = data\n",
    "\n",
    "    def __len__(self):\n",
    "        return len(self.data)\n",
    "\n",
    "    def __getitem__(self, idx):\n",
    "        return self.data[idx]\n",
    "\n",
    "def collate_fn_padd(batch):\n",
    "    '''\n",
    "    Padds batch of variable length\n",
    "\n",
    "    note: it converts things ToTensor manually here since the ToTensor transform\n",
    "    assume it takes in images rather than arbitrary tensors.\n",
    "    '''\n",
    "    ## get sequence lengths\n",
    "    lengths = torch.tensor([ t.shape[0] for t in batch ]).to(device)\n",
    "    ## padd\n",
    "    batch = [ torch.Tensor(t).to(device) for t in batch ]\n",
    "    batch = torch.nn.utils.rnn.pad_sequence(batch)\n",
    "    ## compute mask\n",
    "    mask = (batch != 0).to(device)\n",
    "    return batch, lengths, mask\n",
    "\n",
    "def get_sequences(_data, _p1, _p2, args, max_u=int(10e9)):\n",
    "    data_list = []\n",
    "\n",
    "    _data = _data[_data.stop<_p2].copy()\n",
    "    \n",
    "    grouped = _data.groupby('user')\n",
    "    for user_id, group in tqdm(grouped):\n",
    "        group = group.sort_values('start')\n",
    "        group = group.tail(args.seq_len+1)\n",
    "        if len(group)<2: continue\n",
    "\n",
    "        group = group.reset_index(drop=True) \n",
    "        \n",
    "        # Get last interaction\n",
    "        last_el = group.tail(1)\n",
    "        yt = last_el.start.values[0]\n",
    "        group.drop(last_el.index,inplace=True)\n",
    "\n",
    "        # avoid including train in test/validation\n",
    "        if yt < _p1 or yt >= _p2: continue\n",
    "\n",
    "        padlen = args.seq_len - len(group)\n",
    "\n",
    "        # sequence input features\n",
    "        positions  = torch.LongTensor(group.index.values)\n",
    "        inputs_ts  = torch.LongTensor(group.start.values)\n",
    "        items      = torch.LongTensor(group['streamer'].values)\n",
    "        duration   = torch.LongTensor(group['duration'].values)\n",
    "        users      = torch.LongTensor(group.user.values)\n",
    "        bpad       = torch.LongTensor(group.index.values + padlen)\n",
    "        diff_du    = torch.LongTensor(np.diff(np.array(inputs_ts[1:].tolist() + [last_el.start.values[0]])))\n",
    "\n",
    "        # sequence output features\n",
    "        targets    = torch.LongTensor(items[1:].tolist() + [last_el.streamer.values[0]])\n",
    "        targets_ts = torch.LongTensor(inputs_ts[1:].tolist() + [last_el.start.values[0]])\n",
    "\n",
    "        data_list.append([bpad,positions,inputs_ts,items,users,targets,targets_ts,duration])\n",
    "\n",
    "        # stop if user limit is reached\n",
    "        if len(data_list)>max_u: break\n",
    "\n",
    "    return SequenceDataset(data_list)"
   ]
  },
  {
   "cell_type": "code",
   "execution_count": 19,
   "id": "5ac607b8",
   "metadata": {
    "scrolled": true
   },
   "outputs": [
    {
     "data": {
      "text/html": [
       "<div>\n",
       "<style scoped>\n",
       "    .dataframe tbody tr th:only-of-type {\n",
       "        vertical-align: middle;\n",
       "    }\n",
       "\n",
       "    .dataframe tbody tr th {\n",
       "        vertical-align: top;\n",
       "    }\n",
       "\n",
       "    .dataframe thead th {\n",
       "        text-align: right;\n",
       "    }\n",
       "</style>\n",
       "<table border=\"1\" class=\"dataframe\">\n",
       "  <thead>\n",
       "    <tr style=\"text-align: right;\">\n",
       "      <th></th>\n",
       "      <th>user</th>\n",
       "      <th>streamer</th>\n",
       "      <th>start</th>\n",
       "      <th>stop</th>\n",
       "      <th>duration</th>\n",
       "      <th>streamer_raw</th>\n",
       "    </tr>\n",
       "  </thead>\n",
       "  <tbody>\n",
       "    <tr>\n",
       "      <th>6</th>\n",
       "      <td>1</td>\n",
       "      <td>4</td>\n",
       "      <td>39495</td>\n",
       "      <td>39496</td>\n",
       "      <td>1</td>\n",
       "      <td>0f7563e45a4</td>\n",
       "    </tr>\n",
       "    <tr>\n",
       "      <th>11</th>\n",
       "      <td>1</td>\n",
       "      <td>8</td>\n",
       "      <td>15434</td>\n",
       "      <td>15435</td>\n",
       "      <td>1</td>\n",
       "      <td>dd309e40138</td>\n",
       "    </tr>\n",
       "    <tr>\n",
       "      <th>12</th>\n",
       "      <td>1</td>\n",
       "      <td>9</td>\n",
       "      <td>16869</td>\n",
       "      <td>16871</td>\n",
       "      <td>2</td>\n",
       "      <td>4219c23771f</td>\n",
       "    </tr>\n",
       "    <tr>\n",
       "      <th>13</th>\n",
       "      <td>1</td>\n",
       "      <td>10</td>\n",
       "      <td>15441</td>\n",
       "      <td>15445</td>\n",
       "      <td>6</td>\n",
       "      <td>cf9ddf104ef</td>\n",
       "    </tr>\n",
       "    <tr>\n",
       "      <th>21</th>\n",
       "      <td>1</td>\n",
       "      <td>16</td>\n",
       "      <td>18527</td>\n",
       "      <td>18529</td>\n",
       "      <td>2</td>\n",
       "      <td>c7d5eaa65e3</td>\n",
       "    </tr>\n",
       "    <tr>\n",
       "      <th>...</th>\n",
       "      <td>...</td>\n",
       "      <td>...</td>\n",
       "      <td>...</td>\n",
       "      <td>...</td>\n",
       "      <td>...</td>\n",
       "      <td>...</td>\n",
       "    </tr>\n",
       "    <tr>\n",
       "      <th>458</th>\n",
       "      <td>1</td>\n",
       "      <td>18</td>\n",
       "      <td>15486</td>\n",
       "      <td>15492</td>\n",
       "      <td>10</td>\n",
       "      <td>cdd268ecabe</td>\n",
       "    </tr>\n",
       "    <tr>\n",
       "      <th>460</th>\n",
       "      <td>1</td>\n",
       "      <td>18</td>\n",
       "      <td>15444</td>\n",
       "      <td>15460</td>\n",
       "      <td>30</td>\n",
       "      <td>cdd268ecabe</td>\n",
       "    </tr>\n",
       "    <tr>\n",
       "      <th>469</th>\n",
       "      <td>1</td>\n",
       "      <td>18</td>\n",
       "      <td>17841</td>\n",
       "      <td>17846</td>\n",
       "      <td>8</td>\n",
       "      <td>cdd268ecabe</td>\n",
       "    </tr>\n",
       "    <tr>\n",
       "      <th>471</th>\n",
       "      <td>1</td>\n",
       "      <td>18</td>\n",
       "      <td>18543</td>\n",
       "      <td>18552</td>\n",
       "      <td>16</td>\n",
       "      <td>cdd268ecabe</td>\n",
       "    </tr>\n",
       "    <tr>\n",
       "      <th>472</th>\n",
       "      <td>1</td>\n",
       "      <td>156</td>\n",
       "      <td>38498</td>\n",
       "      <td>38499</td>\n",
       "      <td>1</td>\n",
       "      <td>6e96ddb93c9</td>\n",
       "    </tr>\n",
       "  </tbody>\n",
       "</table>\n",
       "<p>127 rows × 6 columns</p>\n",
       "</div>"
      ],
      "text/plain": [
       "     user  streamer  start   stop  duration streamer_raw\n",
       "6       1         4  39495  39496         1  0f7563e45a4\n",
       "11      1         8  15434  15435         1  dd309e40138\n",
       "12      1         9  16869  16871         2  4219c23771f\n",
       "13      1        10  15441  15445         6  cf9ddf104ef\n",
       "21      1        16  18527  18529         2  c7d5eaa65e3\n",
       "..    ...       ...    ...    ...       ...          ...\n",
       "458     1        18  15486  15492        10  cdd268ecabe\n",
       "460     1        18  15444  15460        30  cdd268ecabe\n",
       "469     1        18  17841  17846         8  cdd268ecabe\n",
       "471     1        18  18543  18552        16  cdd268ecabe\n",
       "472     1       156  38498  38499         1  6e96ddb93c9\n",
       "\n",
       "[127 rows x 6 columns]"
      ]
     },
     "execution_count": 19,
     "metadata": {},
     "output_type": "execute_result"
    }
   ],
   "source": [
    "_data = data_fu[data_fu.stop<50000].copy()\n",
    "grouped = _data.groupby('user')\n",
    "group = grouped.get_group(1)\n",
    "group"
   ]
  },
  {
   "cell_type": "code",
   "execution_count": 20,
   "id": "5cbb3726",
   "metadata": {},
   "outputs": [],
   "source": [
    "group = group.sort_values('start')\n",
    "group = group.tail(args.seq_len+1)\n",
    "group = group.reset_index(drop=True)"
   ]
  },
  {
   "cell_type": "code",
   "execution_count": 21,
   "id": "3e17fd9f",
   "metadata": {
    "scrolled": false
   },
   "outputs": [
    {
     "data": {
      "text/html": [
       "<div>\n",
       "<style scoped>\n",
       "    .dataframe tbody tr th:only-of-type {\n",
       "        vertical-align: middle;\n",
       "    }\n",
       "\n",
       "    .dataframe tbody tr th {\n",
       "        vertical-align: top;\n",
       "    }\n",
       "\n",
       "    .dataframe thead th {\n",
       "        text-align: right;\n",
       "    }\n",
       "</style>\n",
       "<table border=\"1\" class=\"dataframe\">\n",
       "  <thead>\n",
       "    <tr style=\"text-align: right;\">\n",
       "      <th></th>\n",
       "      <th>user</th>\n",
       "      <th>streamer</th>\n",
       "      <th>start</th>\n",
       "      <th>stop</th>\n",
       "      <th>duration</th>\n",
       "      <th>streamer_raw</th>\n",
       "    </tr>\n",
       "  </thead>\n",
       "  <tbody>\n",
       "    <tr>\n",
       "      <th>0</th>\n",
       "      <td>1</td>\n",
       "      <td>74</td>\n",
       "      <td>39485</td>\n",
       "      <td>39486</td>\n",
       "      <td>2</td>\n",
       "      <td>c0a19ec96d5</td>\n",
       "    </tr>\n",
       "    <tr>\n",
       "      <th>1</th>\n",
       "      <td>1</td>\n",
       "      <td>70</td>\n",
       "      <td>39486</td>\n",
       "      <td>39490</td>\n",
       "      <td>6</td>\n",
       "      <td>ae93a532e9b</td>\n",
       "    </tr>\n",
       "    <tr>\n",
       "      <th>2</th>\n",
       "      <td>1</td>\n",
       "      <td>84</td>\n",
       "      <td>39486</td>\n",
       "      <td>39487</td>\n",
       "      <td>1</td>\n",
       "      <td>994cd41f6bd</td>\n",
       "    </tr>\n",
       "    <tr>\n",
       "      <th>3</th>\n",
       "      <td>1</td>\n",
       "      <td>18</td>\n",
       "      <td>39492</td>\n",
       "      <td>39493</td>\n",
       "      <td>1</td>\n",
       "      <td>cdd268ecabe</td>\n",
       "    </tr>\n",
       "    <tr>\n",
       "      <th>4</th>\n",
       "      <td>1</td>\n",
       "      <td>18</td>\n",
       "      <td>39492</td>\n",
       "      <td>39496</td>\n",
       "      <td>6</td>\n",
       "      <td>cdd268ecabe</td>\n",
       "    </tr>\n",
       "    <tr>\n",
       "      <th>5</th>\n",
       "      <td>1</td>\n",
       "      <td>114</td>\n",
       "      <td>39492</td>\n",
       "      <td>39493</td>\n",
       "      <td>1</td>\n",
       "      <td>0ef17bcf67e</td>\n",
       "    </tr>\n",
       "    <tr>\n",
       "      <th>6</th>\n",
       "      <td>1</td>\n",
       "      <td>18</td>\n",
       "      <td>39495</td>\n",
       "      <td>39496</td>\n",
       "      <td>1</td>\n",
       "      <td>cdd268ecabe</td>\n",
       "    </tr>\n",
       "    <tr>\n",
       "      <th>7</th>\n",
       "      <td>1</td>\n",
       "      <td>4</td>\n",
       "      <td>39495</td>\n",
       "      <td>39496</td>\n",
       "      <td>1</td>\n",
       "      <td>0f7563e45a4</td>\n",
       "    </tr>\n",
       "    <tr>\n",
       "      <th>8</th>\n",
       "      <td>1</td>\n",
       "      <td>25</td>\n",
       "      <td>39513</td>\n",
       "      <td>39514</td>\n",
       "      <td>1</td>\n",
       "      <td>befb02c9c8f</td>\n",
       "    </tr>\n",
       "    <tr>\n",
       "      <th>9</th>\n",
       "      <td>1</td>\n",
       "      <td>110</td>\n",
       "      <td>39513</td>\n",
       "      <td>39514</td>\n",
       "      <td>1</td>\n",
       "      <td>830661aa583</td>\n",
       "    </tr>\n",
       "    <tr>\n",
       "      <th>10</th>\n",
       "      <td>1</td>\n",
       "      <td>24</td>\n",
       "      <td>39514</td>\n",
       "      <td>39516</td>\n",
       "      <td>2</td>\n",
       "      <td>8759faebc9e</td>\n",
       "    </tr>\n",
       "    <tr>\n",
       "      <th>11</th>\n",
       "      <td>1</td>\n",
       "      <td>90</td>\n",
       "      <td>39515</td>\n",
       "      <td>39516</td>\n",
       "      <td>1</td>\n",
       "      <td>fe7e0e1cdb2</td>\n",
       "    </tr>\n",
       "    <tr>\n",
       "      <th>12</th>\n",
       "      <td>1</td>\n",
       "      <td>78</td>\n",
       "      <td>42801</td>\n",
       "      <td>42814</td>\n",
       "      <td>24</td>\n",
       "      <td>4205bdc67b5</td>\n",
       "    </tr>\n",
       "    <tr>\n",
       "      <th>13</th>\n",
       "      <td>1</td>\n",
       "      <td>18</td>\n",
       "      <td>42813</td>\n",
       "      <td>42815</td>\n",
       "      <td>1</td>\n",
       "      <td>cdd268ecabe</td>\n",
       "    </tr>\n",
       "    <tr>\n",
       "      <th>14</th>\n",
       "      <td>1</td>\n",
       "      <td>118</td>\n",
       "      <td>42814</td>\n",
       "      <td>42817</td>\n",
       "      <td>3</td>\n",
       "      <td>e825237c40a</td>\n",
       "    </tr>\n",
       "    <tr>\n",
       "      <th>15</th>\n",
       "      <td>1</td>\n",
       "      <td>118</td>\n",
       "      <td>42814</td>\n",
       "      <td>42815</td>\n",
       "      <td>2</td>\n",
       "      <td>e825237c40a</td>\n",
       "    </tr>\n",
       "  </tbody>\n",
       "</table>\n",
       "</div>"
      ],
      "text/plain": [
       "    user  streamer  start   stop  duration streamer_raw\n",
       "0      1        74  39485  39486         2  c0a19ec96d5\n",
       "1      1        70  39486  39490         6  ae93a532e9b\n",
       "2      1        84  39486  39487         1  994cd41f6bd\n",
       "3      1        18  39492  39493         1  cdd268ecabe\n",
       "4      1        18  39492  39496         6  cdd268ecabe\n",
       "5      1       114  39492  39493         1  0ef17bcf67e\n",
       "6      1        18  39495  39496         1  cdd268ecabe\n",
       "7      1         4  39495  39496         1  0f7563e45a4\n",
       "8      1        25  39513  39514         1  befb02c9c8f\n",
       "9      1       110  39513  39514         1  830661aa583\n",
       "10     1        24  39514  39516         2  8759faebc9e\n",
       "11     1        90  39515  39516         1  fe7e0e1cdb2\n",
       "12     1        78  42801  42814        24  4205bdc67b5\n",
       "13     1        18  42813  42815         1  cdd268ecabe\n",
       "14     1       118  42814  42817         3  e825237c40a\n",
       "15     1       118  42814  42815         2  e825237c40a"
      ]
     },
     "execution_count": 21,
     "metadata": {},
     "output_type": "execute_result"
    }
   ],
   "source": [
    "last_el = group.tail(1)\n",
    "yt = last_el.start.values[0]\n",
    "group.drop(last_el.index,inplace=True)\n",
    "group"
   ]
  },
  {
   "cell_type": "code",
   "execution_count": 22,
   "id": "9cee9839",
   "metadata": {},
   "outputs": [
    {
     "data": {
      "text/plain": [
       "(tensor([ 0,  1,  2,  3,  4,  5,  6,  7,  8,  9, 10, 11, 12, 13, 14, 15]),\n",
       " tensor([ 0,  1,  2,  3,  4,  5,  6,  7,  8,  9, 10, 11, 12, 13, 14, 15]),\n",
       " tensor([39485, 39486, 39486, 39492, 39492, 39492, 39495, 39495, 39513, 39513,\n",
       "         39514, 39515, 42801, 42813, 42814, 42814]),\n",
       " tensor([ 74,  70,  84,  18,  18, 114,  18,   4,  25, 110,  24,  90,  78,  18,\n",
       "         118, 118]),\n",
       " tensor([1, 1, 1, 1, 1, 1, 1, 1, 1, 1, 1, 1, 1, 1, 1, 1]),\n",
       " tensor([ 70,  84,  18,  18, 114,  18,   4,  25, 110,  24,  90,  78,  18, 118,\n",
       "         118,  56]),\n",
       " tensor([39486, 39486, 39492, 39492, 39492, 39495, 39495, 39513, 39513, 39514,\n",
       "         39515, 42801, 42813, 42814, 42814, 42816]),\n",
       " tensor([ 2,  6,  1,  1,  6,  1,  1,  1,  1,  1,  2,  1, 24,  1,  3,  2]),\n",
       " tensor([   0,    6,    0,    0,    3,    0,   18,    0,    1,    1, 3286,   12,\n",
       "            1,    0,    2]))"
      ]
     },
     "execution_count": 22,
     "metadata": {},
     "output_type": "execute_result"
    }
   ],
   "source": [
    "padlen = args.seq_len - len(group)\n",
    "\n",
    "bpad       = torch.LongTensor(group.index.values + padlen)\n",
    "positions  = torch.LongTensor(group.index.values)\n",
    "inputs_ts  = torch.LongTensor(group.start.values)\n",
    "items      = torch.LongTensor(group['streamer'].values)\n",
    "duration   = torch.LongTensor(group['duration'].values)\n",
    "users      = torch.LongTensor(group.user.values)\n",
    "targets    = torch.LongTensor(items[1:].tolist() + [last_el.streamer.values[0]])\n",
    "targets_ts = torch.LongTensor(inputs_ts[1:].tolist() + [last_el.start.values[0]])\n",
    "diff_du    = torch.LongTensor(np.diff(np.array(inputs_ts[1:].tolist() + [last_el.start.values[0]])))\n",
    "\n",
    "bpad,positions,inputs_ts,items,users,targets,targets_ts,duration,diff_du"
   ]
  },
  {
   "cell_type": "code",
   "execution_count": null,
   "id": "8ba7c303",
   "metadata": {},
   "outputs": [],
   "source": []
  },
  {
   "cell_type": "code",
   "execution_count": 29,
   "id": "3517d2e6",
   "metadata": {
    "scrolled": false
   },
   "outputs": [
    {
     "data": {
      "text/plain": [
       "[[tensor([ 0,  1,  2,  3,  4,  5,  6,  7,  8,  9, 10, 11, 12, 13, 14, 15]),\n",
       "  tensor([ 0,  1,  2,  3,  4,  5,  6,  7,  8,  9, 10, 11, 12, 13, 14, 15]),\n",
       "  tensor([39485, 39486, 39486, 39492, 39492, 39492, 39495, 39495, 39513, 39513,\n",
       "          39514, 39515, 42801, 42813, 42814, 42814]),\n",
       "  tensor([ 74,  70,  84,  18,  18, 114,  18,   4,  25, 110,  24,  90,  78,  18,\n",
       "          118, 118]),\n",
       "  tensor([1, 1, 1, 1, 1, 1, 1, 1, 1, 1, 1, 1, 1, 1, 1, 1]),\n",
       "  tensor([ 70,  84,  18,  18, 114,  18,   4,  25, 110,  24,  90,  78,  18, 118,\n",
       "          118,  56]),\n",
       "  tensor([39486, 39486, 39492, 39492, 39492, 39495, 39495, 39513, 39513, 39514,\n",
       "          39515, 42801, 42813, 42814, 42814, 42816]),\n",
       "  tensor([ 2,  6,  1,  1,  6,  1,  1,  1,  1,  1,  2,  1, 24,  1,  3,  2])]]"
      ]
     },
     "execution_count": 29,
     "metadata": {},
     "output_type": "execute_result"
    }
   ],
   "source": [
    "data_list = []\n",
    "data_list.append([bpad,positions,inputs_ts,items,users,targets,targets_ts,duration])\n",
    "data_list"
   ]
  },
  {
   "cell_type": "code",
   "execution_count": 21,
   "id": "26a169f0",
   "metadata": {},
   "outputs": [],
   "source": [
    "cache_tr = os.path.join(args.cache_dir,\"douyu_10k_min_dur_tr.p\")\n",
    "cache_te = os.path.join(args.cache_dir,\"douyu_10k_min_dur_te.p\")\n",
    "cache_va = os.path.join(args.cache_dir,\"douyu_10k_min_dur_val.p\")\n",
    "\n",
    "mu = int(10e9)"
   ]
  },
  {
   "cell_type": "code",
   "execution_count": 22,
   "id": "711bd034",
   "metadata": {
    "scrolled": true
   },
   "outputs": [
    {
     "name": "stderr",
     "output_type": "stream",
     "text": [
      "100%|██████████████████████████████████████████████████████████████████████████| 11591/11591 [00:06<00:00, 1742.39it/s]\n",
      "100%|██████████████████████████████████████████████████████████████████████████| 11600/11600 [00:04<00:00, 2476.19it/s]\n",
      "100%|██████████████████████████████████████████████████████████████████████████| 11610/11610 [00:04<00:00, 2385.91it/s]\n"
     ]
    }
   ],
   "source": [
    "datalist_tr = get_sequences(data_fu,0,args.pivot_1,args,mu)\n",
    "datalist_va = get_sequences(data_fu,args.pivot_1,args.pivot_2,args,mu)\n",
    "datalist_te = get_sequences(data_fu,args.pivot_2,max_step,args,mu)\n",
    "    \n",
    "pickle.dump(datalist_te, open(cache_te, \"wb\"))\n",
    "pickle.dump(datalist_tr, open(cache_tr, \"wb\"))\n",
    "pickle.dump(datalist_va, open(cache_va, \"wb\"))"
   ]
  },
  {
   "cell_type": "code",
   "execution_count": 23,
   "id": "d2ddf6e4",
   "metadata": {},
   "outputs": [],
   "source": [
    "train_loader = DataLoader(datalist_tr,batch_size=args.batch_size,\n",
    "                              collate_fn=lambda x: custom_collate(x,args))\n",
    "val_loader   = DataLoader(datalist_va,batch_size=args.batch_size,\n",
    "                              collate_fn=lambda x: custom_collate(x,args))\n",
    "test_loader  = DataLoader(datalist_te,batch_size=args.batch_size,\n",
    "                              collate_fn=lambda x: custom_collate(x,args))"
   ]
  },
  {
   "cell_type": "code",
   "execution_count": null,
   "id": "e4a27991",
   "metadata": {},
   "outputs": [],
   "source": []
  },
  {
   "cell_type": "code",
   "execution_count": 24,
   "id": "aacddedb",
   "metadata": {},
   "outputs": [],
   "source": [
    "from eval import *\n",
    "from data import *\n",
    "from models import *"
   ]
  },
  {
   "cell_type": "code",
   "execution_count": 25,
   "id": "71244981",
   "metadata": {},
   "outputs": [
    {
     "data": {
      "text/plain": [
       "('liverec_64_0.1_64_2_16_ctx.pt', baselines.POP)"
      ]
     },
     "execution_count": 25,
     "metadata": {},
     "output_type": "execute_result"
    }
   ],
   "source": [
    "args.model = 'POP'\n",
    "MPATH1,MODEL1 = get_model_type(args)\n",
    "data_tr = data_fu[data_fu.stop<args.pivot_1]\n",
    "model1 = MODEL1(args,data_tr)\n",
    "\n",
    "MPATH1,MODEL1"
   ]
  },
  {
   "cell_type": "code",
   "execution_count": 26,
   "id": "d584bd03",
   "metadata": {},
   "outputs": [
    {
     "name": "stderr",
     "output_type": "stream",
     "text": [
      "24it [00:02,  8.77it/s]"
     ]
    },
    {
     "name": "stdout",
     "output_type": "stream",
     "text": [
      "Final score\n",
      "===========\n",
      "all: h@1: 0.01857 h@5: 0.18700 h@10: 0.28113 ndcg@1: 0.01857 ndcg@5: 0.10033 ndcg@10: 0.13027\n",
      "new: h@1: 0.02203 h@5: 0.13341 h@10: 0.19829 ndcg@1: 0.02203 ndcg@5: 0.07873 ndcg@10: 0.09917\n",
      "rep: h@1: 0.01675 h@5: 0.21521 h@10: 0.32474 ndcg@1: 0.01675 ndcg@5: 0.11170 ndcg@10: 0.14664\n",
      "ratio:  0.6551287463064585\n"
     ]
    },
    {
     "name": "stderr",
     "output_type": "stream",
     "text": [
      "\n"
     ]
    }
   ],
   "source": [
    "scores = compute_recall(model1, test_loader, args)\n",
    "print(\"Final score\")\n",
    "print(\"=\"*11)\n",
    "print_scores(scores)"
   ]
  },
  {
   "cell_type": "code",
   "execution_count": null,
   "id": "719cb685",
   "metadata": {},
   "outputs": [],
   "source": []
  },
  {
   "cell_type": "code",
   "execution_count": 27,
   "id": "8be1b190",
   "metadata": {},
   "outputs": [
    {
     "data": {
      "text/plain": [
       "('liverec_64_0.1_64_2_16_ctx.pt', baselines.REP)"
      ]
     },
     "execution_count": 27,
     "metadata": {},
     "output_type": "execute_result"
    }
   ],
   "source": [
    "args.model = 'REP'\n",
    "MPATH2,MODEL2 = get_model_type(args)\n",
    "data_tr = data_fu[data_fu.stop<args.pivot_1]\n",
    "model2 = MODEL2(args,data_tr)\n",
    "\n",
    "MPATH2,MODEL2"
   ]
  },
  {
   "cell_type": "code",
   "execution_count": 28,
   "id": "f44927e8",
   "metadata": {},
   "outputs": [
    {
     "name": "stderr",
     "output_type": "stream",
     "text": [
      "24it [00:02, 10.01it/s]"
     ]
    },
    {
     "name": "stdout",
     "output_type": "stream",
     "text": [
      "Final score\n",
      "===========\n",
      "all: h@1: 0.33727 h@5: 0.59688 h@10: 0.62263 ndcg@1: 0.33727 ndcg@5: 0.47827 ndcg@10: 0.48697\n",
      "new: h@1: 0.00245 h@5: 0.01958 h@10: 0.03672 ndcg@1: 0.00245 ndcg@5: 0.01090 ndcg@10: 0.01628\n",
      "rep: h@1: 0.51353 h@5: 0.90077 h@10: 0.93106 ndcg@1: 0.51353 ndcg@5: 0.72430 ndcg@10: 0.73476\n",
      "ratio:  0.6551287463064585\n"
     ]
    },
    {
     "name": "stderr",
     "output_type": "stream",
     "text": [
      "\n"
     ]
    }
   ],
   "source": [
    "scores = compute_recall(model2, test_loader, args)\n",
    "print(\"Final score\")\n",
    "print(\"=\"*11)\n",
    "print_scores(scores)"
   ]
  },
  {
   "cell_type": "code",
   "execution_count": null,
   "id": "bf1c4a08",
   "metadata": {},
   "outputs": [],
   "source": []
  },
  {
   "cell_type": "code",
   "execution_count": 29,
   "id": "63c6e39a",
   "metadata": {},
   "outputs": [],
   "source": [
    "args.model='MF'\n",
    "MPATH,MODEL3 = get_model_type(args)\n",
    "MPATH,MODEL3\n",
    "model3 = MODEL3(args).to(args.device)\n",
    "optimizer = optim.Adam(model3.parameters(),lr=args.lr,weight_decay=args.l2)\n",
    "\n",
    "best_val = 0.0\n",
    "best_max = args.early_stop\n",
    "best_cnt = best_max"
   ]
  },
  {
   "cell_type": "code",
   "execution_count": 30,
   "id": "20a70dfa",
   "metadata": {},
   "outputs": [
    {
     "name": "stdout",
     "output_type": "stream",
     "text": [
      "training...\n"
     ]
    },
    {
     "name": "stderr",
     "output_type": "stream",
     "text": [
      "100%|████████████████████████████████████████████████████████████████████████████████| 114/114 [00:28<00:00,  4.06it/s]\n",
      "17it [00:01,  9.02it/s]\n"
     ]
    },
    {
     "name": "stdout",
     "output_type": "stream",
     "text": [
      "Epoch: 000, Loss: 4.56707\n",
      "all: h@1: 0.00549 h@5: 0.03112 h@10: 0.05369 ndcg@1: 0.00549 ndcg@5: 0.01772 ndcg@10: 0.02509\n",
      "new: h@1: 0.00448 h@5: 0.02392 h@10: 0.04634 ndcg@1: 0.00448 ndcg@5: 0.01410 ndcg@10: 0.02131\n",
      "rep: h@1: 0.00619 h@5: 0.03608 h@10: 0.05876 ndcg@1: 0.00619 ndcg@5: 0.02022 ndcg@10: 0.02770\n",
      "ratio:  0.5918242830994509\n"
     ]
    },
    {
     "name": "stderr",
     "output_type": "stream",
     "text": [
      "100%|████████████████████████████████████████████████████████████████████████████████| 114/114 [00:28<00:00,  4.01it/s]\n",
      "17it [00:01, 11.39it/s]\n"
     ]
    },
    {
     "name": "stdout",
     "output_type": "stream",
     "text": [
      "Epoch: 001, Loss: 4.38042\n",
      "all: h@1: 0.00488 h@5: 0.03295 h@10: 0.05430 ndcg@1: 0.00488 ndcg@5: 0.01824 ndcg@10: 0.02519\n",
      "new: h@1: 0.00299 h@5: 0.02541 h@10: 0.04634 ndcg@1: 0.00299 ndcg@5: 0.01426 ndcg@10: 0.02096\n",
      "rep: h@1: 0.00619 h@5: 0.03814 h@10: 0.05979 ndcg@1: 0.00619 ndcg@5: 0.02099 ndcg@10: 0.02811\n",
      "ratio:  0.5918242830994509\n"
     ]
    },
    {
     "name": "stderr",
     "output_type": "stream",
     "text": [
      "100%|████████████████████████████████████████████████████████████████████████████████| 114/114 [00:27<00:00,  4.10it/s]\n",
      "17it [00:01, 10.65it/s]\n"
     ]
    },
    {
     "name": "stdout",
     "output_type": "stream",
     "text": [
      "Epoch: 002, Loss: 4.23983\n",
      "all: h@1: 0.00488 h@5: 0.03295 h@10: 0.05491 ndcg@1: 0.00488 ndcg@5: 0.01846 ndcg@10: 0.02560\n",
      "new: h@1: 0.00299 h@5: 0.02541 h@10: 0.04783 ndcg@1: 0.00299 ndcg@5: 0.01446 ndcg@10: 0.02157\n",
      "rep: h@1: 0.00619 h@5: 0.03814 h@10: 0.05979 ndcg@1: 0.00619 ndcg@5: 0.02121 ndcg@10: 0.02838\n",
      "ratio:  0.5918242830994509\n"
     ]
    },
    {
     "name": "stderr",
     "output_type": "stream",
     "text": [
      "100%|████████████████████████████████████████████████████████████████████████████████| 114/114 [00:26<00:00,  4.30it/s]\n",
      "17it [00:01,  9.74it/s]\n"
     ]
    },
    {
     "name": "stdout",
     "output_type": "stream",
     "text": [
      "Epoch: 003, Loss: 4.07583\n",
      "all: h@1: 0.00488 h@5: 0.03295 h@10: 0.05552 ndcg@1: 0.00488 ndcg@5: 0.01855 ndcg@10: 0.02589\n",
      "new: h@1: 0.00299 h@5: 0.02541 h@10: 0.04783 ndcg@1: 0.00299 ndcg@5: 0.01453 ndcg@10: 0.02162\n",
      "rep: h@1: 0.00619 h@5: 0.03814 h@10: 0.06082 ndcg@1: 0.00619 ndcg@5: 0.02133 ndcg@10: 0.02883\n",
      "ratio:  0.5918242830994509\n"
     ]
    },
    {
     "name": "stderr",
     "output_type": "stream",
     "text": [
      "100%|████████████████████████████████████████████████████████████████████████████████| 114/114 [00:29<00:00,  3.84it/s]\n",
      "17it [00:01, 11.44it/s]\n"
     ]
    },
    {
     "name": "stdout",
     "output_type": "stream",
     "text": [
      "Epoch: 004, Loss: 3.88974\n",
      "all: h@1: 0.00488 h@5: 0.03417 h@10: 0.05491 ndcg@1: 0.00488 ndcg@5: 0.01903 ndcg@10: 0.02578\n",
      "new: h@1: 0.00299 h@5: 0.02541 h@10: 0.04634 ndcg@1: 0.00299 ndcg@5: 0.01426 ndcg@10: 0.02091\n",
      "rep: h@1: 0.00619 h@5: 0.04021 h@10: 0.06082 ndcg@1: 0.00619 ndcg@5: 0.02233 ndcg@10: 0.02913\n",
      "ratio:  0.5918242830994509\n"
     ]
    },
    {
     "name": "stderr",
     "output_type": "stream",
     "text": [
      "100%|████████████████████████████████████████████████████████████████████████████████| 114/114 [00:30<00:00,  3.71it/s]\n",
      "17it [00:01,  8.65it/s]\n"
     ]
    },
    {
     "name": "stdout",
     "output_type": "stream",
     "text": [
      "Epoch: 005, Loss: 3.76533\n",
      "all: h@1: 0.00427 h@5: 0.03661 h@10: 0.05491 ndcg@1: 0.00427 ndcg@5: 0.01986 ndcg@10: 0.02576\n",
      "new: h@1: 0.00149 h@5: 0.02840 h@10: 0.04634 ndcg@1: 0.00149 ndcg@5: 0.01490 ndcg@10: 0.02051\n",
      "rep: h@1: 0.00619 h@5: 0.04227 h@10: 0.06082 ndcg@1: 0.00619 ndcg@5: 0.02329 ndcg@10: 0.02938\n",
      "ratio:  0.5918242830994509\n"
     ]
    },
    {
     "name": "stderr",
     "output_type": "stream",
     "text": [
      "100%|████████████████████████████████████████████████████████████████████████████████| 114/114 [00:30<00:00,  3.70it/s]\n",
      "17it [00:01,  9.55it/s]\n"
     ]
    },
    {
     "name": "stdout",
     "output_type": "stream",
     "text": [
      "Epoch: 006, Loss: 3.61884\n",
      "all: h@1: 0.00427 h@5: 0.03661 h@10: 0.05552 ndcg@1: 0.00427 ndcg@5: 0.01993 ndcg@10: 0.02604\n",
      "new: h@1: 0.00149 h@5: 0.02691 h@10: 0.04634 ndcg@1: 0.00149 ndcg@5: 0.01413 ndcg@10: 0.02031\n",
      "rep: h@1: 0.00619 h@5: 0.04330 h@10: 0.06186 ndcg@1: 0.00619 ndcg@5: 0.02394 ndcg@10: 0.02999\n",
      "ratio:  0.5918242830994509\n"
     ]
    },
    {
     "name": "stderr",
     "output_type": "stream",
     "text": [
      "100%|████████████████████████████████████████████████████████████████████████████████| 114/114 [00:27<00:00,  4.15it/s]\n",
      "17it [00:01, 12.63it/s]\n"
     ]
    },
    {
     "name": "stdout",
     "output_type": "stream",
     "text": [
      "Epoch: 007, Loss: 3.49354\n",
      "all: h@1: 0.00427 h@5: 0.03722 h@10: 0.05613 ndcg@1: 0.00427 ndcg@5: 0.02040 ndcg@10: 0.02651\n",
      "new: h@1: 0.00149 h@5: 0.02392 h@10: 0.04484 ndcg@1: 0.00149 ndcg@5: 0.01327 ndcg@10: 0.02013\n",
      "rep: h@1: 0.00619 h@5: 0.04639 h@10: 0.06392 ndcg@1: 0.00619 ndcg@5: 0.02532 ndcg@10: 0.03091\n",
      "ratio:  0.5918242830994509\n"
     ]
    },
    {
     "name": "stderr",
     "output_type": "stream",
     "text": [
      "100%|████████████████████████████████████████████████████████████████████████████████| 114/114 [00:27<00:00,  4.13it/s]\n",
      "17it [00:01, 14.08it/s]\n"
     ]
    },
    {
     "name": "stdout",
     "output_type": "stream",
     "text": [
      "Epoch: 008, Loss: 3.34596\n",
      "all: h@1: 0.00427 h@5: 0.03722 h@10: 0.05796 ndcg@1: 0.00427 ndcg@5: 0.02054 ndcg@10: 0.02712\n",
      "new: h@1: 0.00149 h@5: 0.02392 h@10: 0.04484 ndcg@1: 0.00149 ndcg@5: 0.01333 ndcg@10: 0.02004\n",
      "rep: h@1: 0.00619 h@5: 0.04639 h@10: 0.06701 ndcg@1: 0.00619 ndcg@5: 0.02550 ndcg@10: 0.03201\n",
      "ratio:  0.5918242830994509\n"
     ]
    },
    {
     "name": "stderr",
     "output_type": "stream",
     "text": [
      "100%|████████████████████████████████████████████████████████████████████████████████| 114/114 [00:26<00:00,  4.31it/s]\n",
      "17it [00:01,  9.71it/s]\n"
     ]
    },
    {
     "name": "stdout",
     "output_type": "stream",
     "text": [
      "Epoch: 009, Loss: 3.23602\n",
      "all: h@1: 0.00427 h@5: 0.03783 h@10: 0.05979 ndcg@1: 0.00427 ndcg@5: 0.02077 ndcg@10: 0.02773\n",
      "new: h@1: 0.00149 h@5: 0.02392 h@10: 0.04484 ndcg@1: 0.00149 ndcg@5: 0.01333 ndcg@10: 0.02009\n",
      "rep: h@1: 0.00619 h@5: 0.04742 h@10: 0.07010 ndcg@1: 0.00619 ndcg@5: 0.02590 ndcg@10: 0.03301\n",
      "ratio:  0.5918242830994509\n"
     ]
    },
    {
     "name": "stderr",
     "output_type": "stream",
     "text": [
      "100%|████████████████████████████████████████████████████████████████████████████████| 114/114 [00:28<00:00,  3.96it/s]\n",
      "17it [00:01,  9.67it/s]\n"
     ]
    },
    {
     "name": "stdout",
     "output_type": "stream",
     "text": [
      "Epoch: 010, Loss: 3.09997\n",
      "all: h@1: 0.00549 h@5: 0.03722 h@10: 0.05979 ndcg@1: 0.00549 ndcg@5: 0.02148 ndcg@10: 0.02875\n",
      "new: h@1: 0.00299 h@5: 0.02392 h@10: 0.04484 ndcg@1: 0.00299 ndcg@5: 0.01402 ndcg@10: 0.02076\n",
      "rep: h@1: 0.00722 h@5: 0.04639 h@10: 0.07010 ndcg@1: 0.00722 ndcg@5: 0.02663 ndcg@10: 0.03426\n",
      "ratio:  0.5918242830994509\n"
     ]
    },
    {
     "name": "stderr",
     "output_type": "stream",
     "text": [
      "100%|████████████████████████████████████████████████████████████████████████████████| 114/114 [00:30<00:00,  3.72it/s]\n",
      "17it [00:01,  9.34it/s]\n"
     ]
    },
    {
     "name": "stdout",
     "output_type": "stream",
     "text": [
      "Epoch: 011, Loss: 2.96626\n",
      "all: h@1: 0.00549 h@5: 0.03844 h@10: 0.06101 ndcg@1: 0.00549 ndcg@5: 0.02208 ndcg@10: 0.02926\n",
      "new: h@1: 0.00299 h@5: 0.02242 h@10: 0.04634 ndcg@1: 0.00299 ndcg@5: 0.01344 ndcg@10: 0.02109\n",
      "rep: h@1: 0.00722 h@5: 0.04948 h@10: 0.07113 ndcg@1: 0.00722 ndcg@5: 0.02803 ndcg@10: 0.03489\n",
      "ratio:  0.5918242830994509\n"
     ]
    },
    {
     "name": "stderr",
     "output_type": "stream",
     "text": [
      "100%|████████████████████████████████████████████████████████████████████████████████| 114/114 [00:28<00:00,  4.04it/s]\n",
      "17it [00:01,  9.70it/s]\n"
     ]
    },
    {
     "name": "stdout",
     "output_type": "stream",
     "text": [
      "Epoch: 012, Loss: 2.85774\n",
      "all: h@1: 0.00549 h@5: 0.03844 h@10: 0.06284 ndcg@1: 0.00549 ndcg@5: 0.02218 ndcg@10: 0.02987\n",
      "new: h@1: 0.00299 h@5: 0.02242 h@10: 0.04634 ndcg@1: 0.00299 ndcg@5: 0.01363 ndcg@10: 0.02126\n",
      "rep: h@1: 0.00722 h@5: 0.04948 h@10: 0.07423 ndcg@1: 0.00722 ndcg@5: 0.02808 ndcg@10: 0.03581\n",
      "ratio:  0.5918242830994509\n"
     ]
    },
    {
     "name": "stderr",
     "output_type": "stream",
     "text": [
      "100%|████████████████████████████████████████████████████████████████████████████████| 114/114 [00:28<00:00,  4.06it/s]\n",
      "17it [00:01, 10.34it/s]\n"
     ]
    },
    {
     "name": "stdout",
     "output_type": "stream",
     "text": [
      "Epoch: 013, Loss: 2.75193\n",
      "all: h@1: 0.00610 h@5: 0.03966 h@10: 0.06284 ndcg@1: 0.00610 ndcg@5: 0.02291 ndcg@10: 0.03023\n",
      "new: h@1: 0.00448 h@5: 0.02242 h@10: 0.04484 ndcg@1: 0.00448 ndcg@5: 0.01399 ndcg@10: 0.02118\n",
      "rep: h@1: 0.00722 h@5: 0.05155 h@10: 0.07526 ndcg@1: 0.00722 ndcg@5: 0.02906 ndcg@10: 0.03647\n",
      "ratio:  0.5918242830994509\n"
     ]
    },
    {
     "name": "stderr",
     "output_type": "stream",
     "text": [
      "100%|████████████████████████████████████████████████████████████████████████████████| 114/114 [00:28<00:00,  4.02it/s]\n",
      "17it [00:01,  9.36it/s]\n"
     ]
    },
    {
     "name": "stdout",
     "output_type": "stream",
     "text": [
      "Epoch: 014, Loss: 2.64075\n",
      "all: h@1: 0.00671 h@5: 0.04027 h@10: 0.06467 ndcg@1: 0.00671 ndcg@5: 0.02342 ndcg@10: 0.03110\n",
      "new: h@1: 0.00598 h@5: 0.02242 h@10: 0.04185 ndcg@1: 0.00598 ndcg@5: 0.01454 ndcg@10: 0.02086\n",
      "rep: h@1: 0.00722 h@5: 0.05258 h@10: 0.08041 ndcg@1: 0.00722 ndcg@5: 0.02955 ndcg@10: 0.03815\n",
      "ratio:  0.5918242830994509\n"
     ]
    },
    {
     "name": "stderr",
     "output_type": "stream",
     "text": [
      "100%|████████████████████████████████████████████████████████████████████████████████| 114/114 [00:25<00:00,  4.40it/s]\n",
      "17it [00:01,  9.89it/s]\n"
     ]
    },
    {
     "name": "stdout",
     "output_type": "stream",
     "text": [
      "Epoch: 015, Loss: 2.52195\n",
      "all: h@1: 0.00671 h@5: 0.03966 h@10: 0.06467 ndcg@1: 0.00671 ndcg@5: 0.02316 ndcg@10: 0.03112\n",
      "new: h@1: 0.00598 h@5: 0.02242 h@10: 0.04335 ndcg@1: 0.00598 ndcg@5: 0.01454 ndcg@10: 0.02133\n",
      "rep: h@1: 0.00722 h@5: 0.05155 h@10: 0.07938 ndcg@1: 0.00722 ndcg@5: 0.02910 ndcg@10: 0.03787\n",
      "ratio:  0.5918242830994509\n"
     ]
    },
    {
     "name": "stderr",
     "output_type": "stream",
     "text": [
      "100%|████████████████████████████████████████████████████████████████████████████████| 114/114 [00:28<00:00,  3.96it/s]\n",
      "17it [00:01,  8.54it/s]\n"
     ]
    },
    {
     "name": "stdout",
     "output_type": "stream",
     "text": [
      "Epoch: 016, Loss: 2.42387\n",
      "all: h@1: 0.00732 h@5: 0.04210 h@10: 0.06589 ndcg@1: 0.00732 ndcg@5: 0.02453 ndcg@10: 0.03206\n",
      "new: h@1: 0.00747 h@5: 0.02541 h@10: 0.04484 ndcg@1: 0.00747 ndcg@5: 0.01635 ndcg@10: 0.02252\n",
      "rep: h@1: 0.00722 h@5: 0.05361 h@10: 0.08041 ndcg@1: 0.00722 ndcg@5: 0.03017 ndcg@10: 0.03864\n",
      "ratio:  0.5918242830994509\n"
     ]
    },
    {
     "name": "stderr",
     "output_type": "stream",
     "text": [
      "100%|████████████████████████████████████████████████████████████████████████████████| 114/114 [00:30<00:00,  3.73it/s]\n",
      "17it [00:01,  9.78it/s]\n"
     ]
    },
    {
     "name": "stdout",
     "output_type": "stream",
     "text": [
      "Epoch: 017, Loss: 2.33898\n",
      "all: h@1: 0.00732 h@5: 0.04210 h@10: 0.06650 ndcg@1: 0.00732 ndcg@5: 0.02460 ndcg@10: 0.03240\n",
      "new: h@1: 0.00747 h@5: 0.02541 h@10: 0.04484 ndcg@1: 0.00747 ndcg@5: 0.01635 ndcg@10: 0.02257\n",
      "rep: h@1: 0.00722 h@5: 0.05361 h@10: 0.08144 ndcg@1: 0.00722 ndcg@5: 0.03029 ndcg@10: 0.03918\n",
      "ratio:  0.5918242830994509\n"
     ]
    },
    {
     "name": "stderr",
     "output_type": "stream",
     "text": [
      "100%|████████████████████████████████████████████████████████████████████████████████| 114/114 [00:28<00:00,  4.00it/s]\n",
      "17it [00:01,  8.52it/s]\n"
     ]
    },
    {
     "name": "stdout",
     "output_type": "stream",
     "text": [
      "Epoch: 018, Loss: 2.24036\n",
      "all: h@1: 0.00854 h@5: 0.04271 h@10: 0.06650 ndcg@1: 0.00854 ndcg@5: 0.02527 ndcg@10: 0.03290\n",
      "new: h@1: 0.00747 h@5: 0.02392 h@10: 0.04185 ndcg@1: 0.00747 ndcg@5: 0.01574 ndcg@10: 0.02158\n",
      "rep: h@1: 0.00928 h@5: 0.05567 h@10: 0.08351 ndcg@1: 0.00928 ndcg@5: 0.03184 ndcg@10: 0.04071\n",
      "ratio:  0.5918242830994509\n"
     ]
    },
    {
     "name": "stderr",
     "output_type": "stream",
     "text": [
      "100%|████████████████████████████████████████████████████████████████████████████████| 114/114 [00:29<00:00,  3.84it/s]\n",
      "17it [00:01, 13.18it/s]\n"
     ]
    },
    {
     "name": "stdout",
     "output_type": "stream",
     "text": [
      "Epoch: 019, Loss: 2.14610\n",
      "all: h@1: 0.00915 h@5: 0.04576 h@10: 0.06894 ndcg@1: 0.00915 ndcg@5: 0.02678 ndcg@10: 0.03410\n",
      "new: h@1: 0.00747 h@5: 0.02691 h@10: 0.04484 ndcg@1: 0.00747 ndcg@5: 0.01689 ndcg@10: 0.02262\n",
      "rep: h@1: 0.01031 h@5: 0.05876 h@10: 0.08557 ndcg@1: 0.01031 ndcg@5: 0.03360 ndcg@10: 0.04203\n",
      "ratio:  0.5918242830994509\n"
     ]
    },
    {
     "name": "stderr",
     "output_type": "stream",
     "text": [
      "100%|████████████████████████████████████████████████████████████████████████████████| 114/114 [00:27<00:00,  4.21it/s]\n",
      "17it [00:01, 10.86it/s]\n"
     ]
    },
    {
     "name": "stdout",
     "output_type": "stream",
     "text": [
      "Epoch: 020, Loss: 2.05566\n",
      "all: h@1: 0.00915 h@5: 0.04576 h@10: 0.07138 ndcg@1: 0.00915 ndcg@5: 0.02705 ndcg@10: 0.03516\n",
      "new: h@1: 0.00747 h@5: 0.02840 h@10: 0.04634 ndcg@1: 0.00747 ndcg@5: 0.01760 ndcg@10: 0.02324\n",
      "rep: h@1: 0.01031 h@5: 0.05773 h@10: 0.08866 ndcg@1: 0.01031 ndcg@5: 0.03356 ndcg@10: 0.04338\n",
      "ratio:  0.5918242830994509\n"
     ]
    },
    {
     "name": "stderr",
     "output_type": "stream",
     "text": [
      "100%|████████████████████████████████████████████████████████████████████████████████| 114/114 [00:29<00:00,  3.84it/s]\n",
      "17it [00:01,  9.48it/s]\n"
     ]
    },
    {
     "name": "stdout",
     "output_type": "stream",
     "text": [
      "Epoch: 021, Loss: 1.97610\n",
      "all: h@1: 0.01037 h@5: 0.04759 h@10: 0.07138 ndcg@1: 0.01037 ndcg@5: 0.02825 ndcg@10: 0.03578\n",
      "new: h@1: 0.00897 h@5: 0.02840 h@10: 0.04484 ndcg@1: 0.00897 ndcg@5: 0.01809 ndcg@10: 0.02334\n",
      "rep: h@1: 0.01134 h@5: 0.06082 h@10: 0.08969 ndcg@1: 0.01134 ndcg@5: 0.03526 ndcg@10: 0.04435\n",
      "ratio:  0.5918242830994509\n"
     ]
    },
    {
     "name": "stderr",
     "output_type": "stream",
     "text": [
      "100%|████████████████████████████████████████████████████████████████████████████████| 114/114 [00:29<00:00,  3.90it/s]\n",
      "17it [00:01, 10.99it/s]\n"
     ]
    },
    {
     "name": "stdout",
     "output_type": "stream",
     "text": [
      "Epoch: 022, Loss: 1.89445\n",
      "all: h@1: 0.01037 h@5: 0.04820 h@10: 0.07444 ndcg@1: 0.01037 ndcg@5: 0.02874 ndcg@10: 0.03702\n",
      "new: h@1: 0.00897 h@5: 0.02840 h@10: 0.04634 ndcg@1: 0.00897 ndcg@5: 0.01815 ndcg@10: 0.02387\n",
      "rep: h@1: 0.01134 h@5: 0.06186 h@10: 0.09381 ndcg@1: 0.01134 ndcg@5: 0.03604 ndcg@10: 0.04609\n",
      "ratio:  0.5918242830994509\n"
     ]
    },
    {
     "name": "stderr",
     "output_type": "stream",
     "text": [
      "100%|████████████████████████████████████████████████████████████████████████████████| 114/114 [00:28<00:00,  4.02it/s]\n",
      "17it [00:01, 10.23it/s]\n"
     ]
    },
    {
     "name": "stdout",
     "output_type": "stream",
     "text": [
      "Epoch: 023, Loss: 1.82576\n",
      "all: h@1: 0.01037 h@5: 0.04881 h@10: 0.07688 ndcg@1: 0.01037 ndcg@5: 0.02905 ndcg@10: 0.03787\n",
      "new: h@1: 0.00897 h@5: 0.02840 h@10: 0.04783 ndcg@1: 0.00897 ndcg@5: 0.01862 ndcg@10: 0.02481\n",
      "rep: h@1: 0.01134 h@5: 0.06289 h@10: 0.09691 ndcg@1: 0.01134 ndcg@5: 0.03624 ndcg@10: 0.04687\n",
      "ratio:  0.5918242830994509\n"
     ]
    },
    {
     "name": "stderr",
     "output_type": "stream",
     "text": [
      "100%|████████████████████████████████████████████████████████████████████████████████| 114/114 [00:28<00:00,  4.04it/s]\n",
      "17it [00:01,  9.85it/s]\n"
     ]
    },
    {
     "name": "stdout",
     "output_type": "stream",
     "text": [
      "Epoch: 024, Loss: 1.74537\n",
      "all: h@1: 0.01037 h@5: 0.05125 h@10: 0.07688 ndcg@1: 0.01037 ndcg@5: 0.03031 ndcg@10: 0.03838\n",
      "new: h@1: 0.00897 h@5: 0.02840 h@10: 0.04933 ndcg@1: 0.00897 ndcg@5: 0.01888 ndcg@10: 0.02555\n",
      "rep: h@1: 0.01134 h@5: 0.06701 h@10: 0.09588 ndcg@1: 0.01134 ndcg@5: 0.03819 ndcg@10: 0.04722\n",
      "ratio:  0.5918242830994509\n"
     ]
    },
    {
     "name": "stderr",
     "output_type": "stream",
     "text": [
      "100%|████████████████████████████████████████████████████████████████████████████████| 114/114 [00:27<00:00,  4.18it/s]\n",
      "17it [00:01,  8.98it/s]\n"
     ]
    },
    {
     "name": "stdout",
     "output_type": "stream",
     "text": [
      "Epoch: 025, Loss: 1.66532\n",
      "all: h@1: 0.01098 h@5: 0.05125 h@10: 0.07871 ndcg@1: 0.01098 ndcg@5: 0.03076 ndcg@10: 0.03949\n",
      "new: h@1: 0.01046 h@5: 0.02990 h@10: 0.04933 ndcg@1: 0.01046 ndcg@5: 0.02012 ndcg@10: 0.02630\n",
      "rep: h@1: 0.01134 h@5: 0.06598 h@10: 0.09897 ndcg@1: 0.01134 ndcg@5: 0.03810 ndcg@10: 0.04859\n",
      "ratio:  0.5918242830994509\n"
     ]
    },
    {
     "name": "stderr",
     "output_type": "stream",
     "text": [
      "100%|████████████████████████████████████████████████████████████████████████████████| 114/114 [00:31<00:00,  3.65it/s]\n",
      "17it [00:01,  8.96it/s]\n"
     ]
    },
    {
     "name": "stdout",
     "output_type": "stream",
     "text": [
      "Epoch: 026, Loss: 1.60204\n",
      "all: h@1: 0.01220 h@5: 0.05247 h@10: 0.07932 ndcg@1: 0.01220 ndcg@5: 0.03192 ndcg@10: 0.04046\n",
      "new: h@1: 0.01046 h@5: 0.02990 h@10: 0.04933 ndcg@1: 0.01046 ndcg@5: 0.02012 ndcg@10: 0.02637\n",
      "rep: h@1: 0.01340 h@5: 0.06804 h@10: 0.10000 ndcg@1: 0.01340 ndcg@5: 0.04006 ndcg@10: 0.05018\n",
      "ratio:  0.5918242830994509\n"
     ]
    },
    {
     "name": "stderr",
     "output_type": "stream",
     "text": [
      "100%|████████████████████████████████████████████████████████████████████████████████| 114/114 [00:31<00:00,  3.65it/s]\n",
      "17it [00:01,  8.86it/s]\n"
     ]
    },
    {
     "name": "stdout",
     "output_type": "stream",
     "text": [
      "Epoch: 027, Loss: 1.53052\n",
      "all: h@1: 0.01281 h@5: 0.05552 h@10: 0.08176 ndcg@1: 0.01281 ndcg@5: 0.03351 ndcg@10: 0.04181\n",
      "new: h@1: 0.01046 h@5: 0.03139 h@10: 0.05082 ndcg@1: 0.01046 ndcg@5: 0.02059 ndcg@10: 0.02685\n",
      "rep: h@1: 0.01443 h@5: 0.07216 h@10: 0.10309 ndcg@1: 0.01443 ndcg@5: 0.04242 ndcg@10: 0.05213\n",
      "ratio:  0.5918242830994509\n"
     ]
    },
    {
     "name": "stderr",
     "output_type": "stream",
     "text": [
      "100%|████████████████████████████████████████████████████████████████████████████████| 114/114 [00:29<00:00,  3.83it/s]\n",
      "17it [00:01,  9.77it/s]\n"
     ]
    },
    {
     "name": "stdout",
     "output_type": "stream",
     "text": [
      "Epoch: 028, Loss: 1.46580\n",
      "all: h@1: 0.01403 h@5: 0.05674 h@10: 0.08237 ndcg@1: 0.01403 ndcg@5: 0.03473 ndcg@10: 0.04292\n",
      "new: h@1: 0.01046 h@5: 0.03139 h@10: 0.05082 ndcg@1: 0.01046 ndcg@5: 0.02079 ndcg@10: 0.02717\n",
      "rep: h@1: 0.01649 h@5: 0.07423 h@10: 0.10412 ndcg@1: 0.01649 ndcg@5: 0.04435 ndcg@10: 0.05378\n",
      "ratio:  0.5918242830994509\n"
     ]
    },
    {
     "name": "stderr",
     "output_type": "stream",
     "text": [
      "100%|████████████████████████████████████████████████████████████████████████████████| 114/114 [00:31<00:00,  3.67it/s]\n",
      "17it [00:01,  8.63it/s]\n"
     ]
    },
    {
     "name": "stdout",
     "output_type": "stream",
     "text": [
      "Epoch: 029, Loss: 1.40683\n",
      "all: h@1: 0.01464 h@5: 0.05857 h@10: 0.08298 ndcg@1: 0.01464 ndcg@5: 0.03596 ndcg@10: 0.04382\n",
      "new: h@1: 0.01196 h@5: 0.03288 h@10: 0.05232 ndcg@1: 0.01196 ndcg@5: 0.02188 ndcg@10: 0.02819\n",
      "rep: h@1: 0.01649 h@5: 0.07629 h@10: 0.10412 ndcg@1: 0.01649 ndcg@5: 0.04567 ndcg@10: 0.05460\n",
      "ratio:  0.5918242830994509\n"
     ]
    },
    {
     "name": "stderr",
     "output_type": "stream",
     "text": [
      "100%|████████████████████████████████████████████████████████████████████████████████| 114/114 [00:28<00:00,  3.94it/s]\n",
      "17it [00:01,  8.80it/s]\n"
     ]
    },
    {
     "name": "stdout",
     "output_type": "stream",
     "text": [
      "Epoch: 030, Loss: 1.34606\n",
      "all: h@1: 0.01525 h@5: 0.05857 h@10: 0.08847 ndcg@1: 0.01525 ndcg@5: 0.03650 ndcg@10: 0.04605\n",
      "new: h@1: 0.01196 h@5: 0.03288 h@10: 0.05531 ndcg@1: 0.01196 ndcg@5: 0.02181 ndcg@10: 0.02904\n",
      "rep: h@1: 0.01753 h@5: 0.07629 h@10: 0.11134 ndcg@1: 0.01753 ndcg@5: 0.04662 ndcg@10: 0.05778\n",
      "ratio:  0.5918242830994509\n"
     ]
    },
    {
     "name": "stderr",
     "output_type": "stream",
     "text": [
      "100%|████████████████████████████████████████████████████████████████████████████████| 114/114 [00:31<00:00,  3.66it/s]\n",
      "17it [00:01,  8.99it/s]\n"
     ]
    },
    {
     "name": "stdout",
     "output_type": "stream",
     "text": [
      "Epoch: 031, Loss: 1.29517\n",
      "all: h@1: 0.01586 h@5: 0.05979 h@10: 0.09030 ndcg@1: 0.01586 ndcg@5: 0.03736 ndcg@10: 0.04718\n",
      "new: h@1: 0.01345 h@5: 0.03438 h@10: 0.05830 ndcg@1: 0.01345 ndcg@5: 0.02294 ndcg@10: 0.03050\n",
      "rep: h@1: 0.01753 h@5: 0.07732 h@10: 0.11237 ndcg@1: 0.01753 ndcg@5: 0.04731 ndcg@10: 0.05868\n",
      "ratio:  0.5918242830994509\n"
     ]
    },
    {
     "name": "stderr",
     "output_type": "stream",
     "text": [
      "100%|████████████████████████████████████████████████████████████████████████████████| 114/114 [00:31<00:00,  3.67it/s]\n",
      "17it [00:01,  9.06it/s]\n"
     ]
    },
    {
     "name": "stdout",
     "output_type": "stream",
     "text": [
      "Epoch: 032, Loss: 1.23989\n",
      "all: h@1: 0.01586 h@5: 0.06223 h@10: 0.09091 ndcg@1: 0.01586 ndcg@5: 0.03844 ndcg@10: 0.04775\n",
      "new: h@1: 0.01196 h@5: 0.03587 h@10: 0.05830 ndcg@1: 0.01196 ndcg@5: 0.02304 ndcg@10: 0.03020\n",
      "rep: h@1: 0.01856 h@5: 0.08041 h@10: 0.11340 ndcg@1: 0.01856 ndcg@5: 0.04906 ndcg@10: 0.05985\n",
      "ratio:  0.5918242830994509\n"
     ]
    },
    {
     "name": "stderr",
     "output_type": "stream",
     "text": [
      "100%|████████████████████████████████████████████████████████████████████████████████| 114/114 [00:31<00:00,  3.66it/s]\n",
      "17it [00:01,  9.02it/s]\n"
     ]
    },
    {
     "name": "stdout",
     "output_type": "stream",
     "text": [
      "Epoch: 033, Loss: 1.18421\n",
      "all: h@1: 0.01647 h@5: 0.06345 h@10: 0.09274 ndcg@1: 0.01647 ndcg@5: 0.03967 ndcg@10: 0.04922\n",
      "new: h@1: 0.01196 h@5: 0.03438 h@10: 0.06129 ndcg@1: 0.01196 ndcg@5: 0.02252 ndcg@10: 0.03126\n",
      "rep: h@1: 0.01959 h@5: 0.08351 h@10: 0.11443 ndcg@1: 0.01959 ndcg@5: 0.05150 ndcg@10: 0.06160\n",
      "ratio:  0.5918242830994509\n"
     ]
    },
    {
     "name": "stderr",
     "output_type": "stream",
     "text": [
      "100%|████████████████████████████████████████████████████████████████████████████████| 114/114 [00:31<00:00,  3.65it/s]\n",
      "17it [00:01,  8.97it/s]\n"
     ]
    },
    {
     "name": "stdout",
     "output_type": "stream",
     "text": [
      "Epoch: 034, Loss: 1.13829\n",
      "all: h@1: 0.01647 h@5: 0.06650 h@10: 0.09640 ndcg@1: 0.01647 ndcg@5: 0.04104 ndcg@10: 0.05070\n",
      "new: h@1: 0.01196 h@5: 0.03886 h@10: 0.06278 ndcg@1: 0.01196 ndcg@5: 0.02449 ndcg@10: 0.03212\n",
      "rep: h@1: 0.01959 h@5: 0.08557 h@10: 0.11959 ndcg@1: 0.01959 ndcg@5: 0.05246 ndcg@10: 0.06351\n",
      "ratio:  0.5918242830994509\n"
     ]
    },
    {
     "name": "stderr",
     "output_type": "stream",
     "text": [
      "100%|████████████████████████████████████████████████████████████████████████████████| 114/114 [00:30<00:00,  3.72it/s]\n",
      "17it [00:01,  8.86it/s]\n"
     ]
    },
    {
     "name": "stdout",
     "output_type": "stream",
     "text": [
      "Epoch: 035, Loss: 1.09217\n",
      "all: h@1: 0.01769 h@5: 0.06772 h@10: 0.10006 ndcg@1: 0.01769 ndcg@5: 0.04253 ndcg@10: 0.05294\n",
      "new: h@1: 0.01196 h@5: 0.03886 h@10: 0.06278 ndcg@1: 0.01196 ndcg@5: 0.02470 ndcg@10: 0.03235\n",
      "rep: h@1: 0.02165 h@5: 0.08763 h@10: 0.12577 ndcg@1: 0.02165 ndcg@5: 0.05483 ndcg@10: 0.06714\n",
      "ratio:  0.5918242830994509\n"
     ]
    },
    {
     "name": "stderr",
     "output_type": "stream",
     "text": [
      "100%|████████████████████████████████████████████████████████████████████████████████| 114/114 [00:30<00:00,  3.72it/s]\n",
      "17it [00:01,  9.81it/s]\n"
     ]
    },
    {
     "name": "stdout",
     "output_type": "stream",
     "text": [
      "Epoch: 036, Loss: 1.04315\n",
      "all: h@1: 0.02013 h@5: 0.07016 h@10: 0.10250 ndcg@1: 0.02013 ndcg@5: 0.04476 ndcg@10: 0.05509\n",
      "new: h@1: 0.01196 h@5: 0.03886 h@10: 0.06577 ndcg@1: 0.01196 ndcg@5: 0.02486 ndcg@10: 0.03337\n",
      "rep: h@1: 0.02577 h@5: 0.09175 h@10: 0.12784 ndcg@1: 0.02577 ndcg@5: 0.05848 ndcg@10: 0.07008\n",
      "ratio:  0.5918242830994509\n"
     ]
    },
    {
     "name": "stderr",
     "output_type": "stream",
     "text": [
      "100%|████████████████████████████████████████████████████████████████████████████████| 114/114 [00:30<00:00,  3.73it/s]\n",
      "17it [00:01,  8.99it/s]\n"
     ]
    },
    {
     "name": "stdout",
     "output_type": "stream",
     "text": [
      "Epoch: 037, Loss: 1.00004\n",
      "all: h@1: 0.02013 h@5: 0.07138 h@10: 0.10677 ndcg@1: 0.02013 ndcg@5: 0.04562 ndcg@10: 0.05697\n",
      "new: h@1: 0.01196 h@5: 0.03886 h@10: 0.06726 ndcg@1: 0.01196 ndcg@5: 0.02523 ndcg@10: 0.03426\n",
      "rep: h@1: 0.02577 h@5: 0.09381 h@10: 0.13402 ndcg@1: 0.02577 ndcg@5: 0.05967 ndcg@10: 0.07264\n",
      "ratio:  0.5918242830994509\n"
     ]
    },
    {
     "name": "stderr",
     "output_type": "stream",
     "text": [
      "100%|████████████████████████████████████████████████████████████████████████████████| 114/114 [00:30<00:00,  3.71it/s]\n",
      "17it [00:01,  8.94it/s]\n"
     ]
    },
    {
     "name": "stdout",
     "output_type": "stream",
     "text": [
      "Epoch: 038, Loss: 0.96031\n",
      "all: h@1: 0.02013 h@5: 0.07383 h@10: 0.10738 ndcg@1: 0.02013 ndcg@5: 0.04699 ndcg@10: 0.05775\n",
      "new: h@1: 0.01196 h@5: 0.03886 h@10: 0.06726 ndcg@1: 0.01196 ndcg@5: 0.02573 ndcg@10: 0.03480\n",
      "rep: h@1: 0.02577 h@5: 0.09794 h@10: 0.13505 ndcg@1: 0.02577 ndcg@5: 0.06166 ndcg@10: 0.07357\n",
      "ratio:  0.5918242830994509\n"
     ]
    },
    {
     "name": "stderr",
     "output_type": "stream",
     "text": [
      "100%|████████████████████████████████████████████████████████████████████████████████| 114/114 [00:30<00:00,  3.70it/s]\n",
      "17it [00:01,  9.10it/s]\n"
     ]
    },
    {
     "name": "stdout",
     "output_type": "stream",
     "text": [
      "Epoch: 039, Loss: 0.92659\n",
      "all: h@1: 0.02135 h@5: 0.07383 h@10: 0.11104 ndcg@1: 0.02135 ndcg@5: 0.04780 ndcg@10: 0.05977\n",
      "new: h@1: 0.01196 h@5: 0.03737 h@10: 0.07025 ndcg@1: 0.01196 ndcg@5: 0.02525 ndcg@10: 0.03579\n",
      "rep: h@1: 0.02784 h@5: 0.09897 h@10: 0.13918 ndcg@1: 0.02784 ndcg@5: 0.06335 ndcg@10: 0.07631\n",
      "ratio:  0.5918242830994509\n"
     ]
    },
    {
     "name": "stderr",
     "output_type": "stream",
     "text": [
      "100%|████████████████████████████████████████████████████████████████████████████████| 114/114 [00:26<00:00,  4.34it/s]\n",
      "17it [00:01, 11.85it/s]\n"
     ]
    },
    {
     "name": "stdout",
     "output_type": "stream",
     "text": [
      "Epoch: 040, Loss: 0.88457\n",
      "all: h@1: 0.02135 h@5: 0.07627 h@10: 0.11592 ndcg@1: 0.02135 ndcg@5: 0.04904 ndcg@10: 0.06169\n",
      "new: h@1: 0.01196 h@5: 0.03886 h@10: 0.07773 ndcg@1: 0.01196 ndcg@5: 0.02590 ndcg@10: 0.03818\n",
      "rep: h@1: 0.02784 h@5: 0.10206 h@10: 0.14227 ndcg@1: 0.02784 ndcg@5: 0.06501 ndcg@10: 0.07790\n",
      "ratio:  0.5918242830994509\n"
     ]
    },
    {
     "name": "stderr",
     "output_type": "stream",
     "text": [
      "100%|████████████████████████████████████████████████████████████████████████████████| 114/114 [00:26<00:00,  4.33it/s]\n",
      "17it [00:01,  9.18it/s]\n"
     ]
    },
    {
     "name": "stdout",
     "output_type": "stream",
     "text": [
      "Epoch: 041, Loss: 0.85398\n",
      "all: h@1: 0.02196 h@5: 0.07810 h@10: 0.12142 ndcg@1: 0.02196 ndcg@5: 0.05020 ndcg@10: 0.06395\n",
      "new: h@1: 0.01046 h@5: 0.03886 h@10: 0.07922 ndcg@1: 0.01046 ndcg@5: 0.02565 ndcg@10: 0.03841\n",
      "rep: h@1: 0.02990 h@5: 0.10515 h@10: 0.15052 ndcg@1: 0.02990 ndcg@5: 0.06714 ndcg@10: 0.08156\n",
      "ratio:  0.5918242830994509\n"
     ]
    },
    {
     "name": "stderr",
     "output_type": "stream",
     "text": [
      "100%|████████████████████████████████████████████████████████████████████████████████| 114/114 [00:25<00:00,  4.56it/s]\n",
      "17it [00:01, 10.42it/s]\n"
     ]
    },
    {
     "name": "stdout",
     "output_type": "stream",
     "text": [
      "Epoch: 042, Loss: 0.82222\n",
      "all: h@1: 0.02502 h@5: 0.07993 h@10: 0.12752 ndcg@1: 0.02502 ndcg@5: 0.05230 ndcg@10: 0.06735\n",
      "new: h@1: 0.01345 h@5: 0.03886 h@10: 0.08072 ndcg@1: 0.01345 ndcg@5: 0.02668 ndcg@10: 0.03987\n",
      "rep: h@1: 0.03299 h@5: 0.10825 h@10: 0.15979 ndcg@1: 0.03299 ndcg@5: 0.06997 ndcg@10: 0.08630\n",
      "ratio:  0.5918242830994509\n"
     ]
    },
    {
     "name": "stderr",
     "output_type": "stream",
     "text": [
      "100%|████████████████████████████████████████████████████████████████████████████████| 114/114 [00:25<00:00,  4.40it/s]\n",
      "17it [00:01, 11.19it/s]\n"
     ]
    },
    {
     "name": "stdout",
     "output_type": "stream",
     "text": [
      "Epoch: 043, Loss: 0.78455\n",
      "all: h@1: 0.02624 h@5: 0.08359 h@10: 0.13118 ndcg@1: 0.02624 ndcg@5: 0.05454 ndcg@10: 0.06965\n",
      "new: h@1: 0.01345 h@5: 0.03886 h@10: 0.08221 ndcg@1: 0.01345 ndcg@5: 0.02668 ndcg@10: 0.04042\n",
      "rep: h@1: 0.03505 h@5: 0.11443 h@10: 0.16495 ndcg@1: 0.03505 ndcg@5: 0.07376 ndcg@10: 0.08980\n",
      "ratio:  0.5918242830994509\n"
     ]
    },
    {
     "name": "stderr",
     "output_type": "stream",
     "text": [
      "100%|████████████████████████████████████████████████████████████████████████████████| 114/114 [00:29<00:00,  3.85it/s]\n",
      "17it [00:01,  8.93it/s]\n"
     ]
    },
    {
     "name": "stdout",
     "output_type": "stream",
     "text": [
      "Epoch: 044, Loss: 0.75826\n",
      "all: h@1: 0.02746 h@5: 0.08481 h@10: 0.13240 ndcg@1: 0.02746 ndcg@5: 0.05593 ndcg@10: 0.07115\n",
      "new: h@1: 0.01495 h@5: 0.04036 h@10: 0.08520 ndcg@1: 0.01495 ndcg@5: 0.02783 ndcg@10: 0.04203\n",
      "rep: h@1: 0.03608 h@5: 0.11546 h@10: 0.16495 ndcg@1: 0.03608 ndcg@5: 0.07531 ndcg@10: 0.09124\n",
      "ratio:  0.5918242830994509\n"
     ]
    },
    {
     "name": "stderr",
     "output_type": "stream",
     "text": [
      "100%|████████████████████████████████████████████████████████████████████████████████| 114/114 [00:30<00:00,  3.71it/s]\n",
      "17it [00:01,  9.07it/s]\n"
     ]
    },
    {
     "name": "stdout",
     "output_type": "stream",
     "text": [
      "Epoch: 045, Loss: 0.72664\n",
      "all: h@1: 0.02807 h@5: 0.09030 h@10: 0.13667 ndcg@1: 0.02807 ndcg@5: 0.05852 ndcg@10: 0.07331\n",
      "new: h@1: 0.01644 h@5: 0.04335 h@10: 0.08221 ndcg@1: 0.01644 ndcg@5: 0.02963 ndcg@10: 0.04202\n",
      "rep: h@1: 0.03608 h@5: 0.12268 h@10: 0.17423 ndcg@1: 0.03608 ndcg@5: 0.07845 ndcg@10: 0.09489\n",
      "ratio:  0.5918242830994509\n"
     ]
    },
    {
     "name": "stderr",
     "output_type": "stream",
     "text": [
      "100%|████████████████████████████████████████████████████████████████████████████████| 114/114 [00:30<00:00,  3.70it/s]\n",
      "17it [00:01,  8.82it/s]\n"
     ]
    },
    {
     "name": "stdout",
     "output_type": "stream",
     "text": [
      "Epoch: 046, Loss: 0.70240\n",
      "all: h@1: 0.02990 h@5: 0.09335 h@10: 0.14033 ndcg@1: 0.02990 ndcg@5: 0.06093 ndcg@10: 0.07595\n",
      "new: h@1: 0.01794 h@5: 0.04634 h@10: 0.08371 ndcg@1: 0.01794 ndcg@5: 0.03163 ndcg@10: 0.04353\n",
      "rep: h@1: 0.03814 h@5: 0.12577 h@10: 0.17938 ndcg@1: 0.03814 ndcg@5: 0.08114 ndcg@10: 0.09832\n",
      "ratio:  0.5918242830994509\n"
     ]
    },
    {
     "name": "stderr",
     "output_type": "stream",
     "text": [
      "100%|████████████████████████████████████████████████████████████████████████████████| 114/114 [00:30<00:00,  3.70it/s]\n",
      "17it [00:01,  8.95it/s]\n"
     ]
    },
    {
     "name": "stdout",
     "output_type": "stream",
     "text": [
      "Epoch: 047, Loss: 0.67571\n",
      "all: h@1: 0.03051 h@5: 0.09457 h@10: 0.14704 ndcg@1: 0.03051 ndcg@5: 0.06192 ndcg@10: 0.07871\n",
      "new: h@1: 0.01644 h@5: 0.04783 h@10: 0.08520 ndcg@1: 0.01644 ndcg@5: 0.03186 ndcg@10: 0.04380\n",
      "rep: h@1: 0.04021 h@5: 0.12680 h@10: 0.18969 ndcg@1: 0.04021 ndcg@5: 0.08265 ndcg@10: 0.10278\n",
      "ratio:  0.5918242830994509\n"
     ]
    },
    {
     "name": "stderr",
     "output_type": "stream",
     "text": [
      "100%|████████████████████████████████████████████████████████████████████████████████| 114/114 [00:30<00:00,  3.70it/s]\n",
      "17it [00:01,  8.98it/s]\n"
     ]
    },
    {
     "name": "stdout",
     "output_type": "stream",
     "text": [
      "Epoch: 048, Loss: 0.65138\n",
      "all: h@1: 0.03051 h@5: 0.09762 h@10: 0.14887 ndcg@1: 0.03051 ndcg@5: 0.06379 ndcg@10: 0.08023\n",
      "new: h@1: 0.01644 h@5: 0.04933 h@10: 0.08520 ndcg@1: 0.01644 ndcg@5: 0.03299 ndcg@10: 0.04456\n",
      "rep: h@1: 0.04021 h@5: 0.13093 h@10: 0.19278 ndcg@1: 0.04021 ndcg@5: 0.08503 ndcg@10: 0.10484\n",
      "ratio:  0.5918242830994509\n"
     ]
    },
    {
     "name": "stderr",
     "output_type": "stream",
     "text": [
      "100%|████████████████████████████████████████████████████████████████████████████████| 114/114 [00:30<00:00,  3.70it/s]\n",
      "17it [00:01,  8.94it/s]\n"
     ]
    },
    {
     "name": "stdout",
     "output_type": "stream",
     "text": [
      "Epoch: 049, Loss: 0.63289\n",
      "all: h@1: 0.03051 h@5: 0.10006 h@10: 0.15253 ndcg@1: 0.03051 ndcg@5: 0.06506 ndcg@10: 0.08187\n",
      "new: h@1: 0.01794 h@5: 0.05232 h@10: 0.08819 ndcg@1: 0.01794 ndcg@5: 0.03456 ndcg@10: 0.04594\n",
      "rep: h@1: 0.03918 h@5: 0.13299 h@10: 0.19691 ndcg@1: 0.03918 ndcg@5: 0.08609 ndcg@10: 0.10665\n",
      "ratio:  0.5918242830994509\n"
     ]
    },
    {
     "name": "stderr",
     "output_type": "stream",
     "text": [
      "100%|████████████████████████████████████████████████████████████████████████████████| 114/114 [00:30<00:00,  3.70it/s]\n",
      "17it [00:01,  8.92it/s]\n"
     ]
    },
    {
     "name": "stdout",
     "output_type": "stream",
     "text": [
      "Epoch: 050, Loss: 0.61163\n",
      "all: h@1: 0.03234 h@5: 0.10372 h@10: 0.16046 ndcg@1: 0.03234 ndcg@5: 0.06742 ndcg@10: 0.08536\n",
      "new: h@1: 0.01794 h@5: 0.05680 h@10: 0.09268 ndcg@1: 0.01794 ndcg@5: 0.03649 ndcg@10: 0.04764\n",
      "rep: h@1: 0.04227 h@5: 0.13608 h@10: 0.20722 ndcg@1: 0.04227 ndcg@5: 0.08875 ndcg@10: 0.11138\n",
      "ratio:  0.5918242830994509\n"
     ]
    },
    {
     "name": "stderr",
     "output_type": "stream",
     "text": [
      "100%|████████████████████████████████████████████████████████████████████████████████| 114/114 [00:30<00:00,  3.71it/s]\n",
      "17it [00:01,  8.93it/s]\n"
     ]
    },
    {
     "name": "stdout",
     "output_type": "stream",
     "text": [
      "Epoch: 051, Loss: 0.59270\n",
      "all: h@1: 0.03295 h@5: 0.10555 h@10: 0.16351 ndcg@1: 0.03295 ndcg@5: 0.06883 ndcg@10: 0.08730\n",
      "new: h@1: 0.01794 h@5: 0.05680 h@10: 0.09716 ndcg@1: 0.01794 ndcg@5: 0.03647 ndcg@10: 0.04909\n",
      "rep: h@1: 0.04330 h@5: 0.13918 h@10: 0.20928 ndcg@1: 0.04330 ndcg@5: 0.09115 ndcg@10: 0.11365\n",
      "ratio:  0.5918242830994509\n"
     ]
    },
    {
     "name": "stderr",
     "output_type": "stream",
     "text": [
      "100%|████████████████████████████████████████████████████████████████████████████████| 114/114 [00:30<00:00,  3.69it/s]\n",
      "17it [00:01,  8.91it/s]\n"
     ]
    },
    {
     "name": "stdout",
     "output_type": "stream",
     "text": [
      "Epoch: 052, Loss: 0.57342\n",
      "all: h@1: 0.03417 h@5: 0.10860 h@10: 0.17084 ndcg@1: 0.03417 ndcg@5: 0.07110 ndcg@10: 0.09088\n",
      "new: h@1: 0.01794 h@5: 0.05979 h@10: 0.09865 ndcg@1: 0.01794 ndcg@5: 0.03846 ndcg@10: 0.05062\n",
      "rep: h@1: 0.04536 h@5: 0.14227 h@10: 0.22062 ndcg@1: 0.04536 ndcg@5: 0.09361 ndcg@10: 0.11864\n",
      "ratio:  0.5918242830994509\n"
     ]
    },
    {
     "name": "stderr",
     "output_type": "stream",
     "text": [
      "100%|████████████████████████████████████████████████████████████████████████████████| 114/114 [00:28<00:00,  3.96it/s]\n",
      "17it [00:01, 10.67it/s]\n"
     ]
    },
    {
     "name": "stdout",
     "output_type": "stream",
     "text": [
      "Epoch: 053, Loss: 0.55782\n",
      "all: h@1: 0.03478 h@5: 0.11348 h@10: 0.17328 ndcg@1: 0.03478 ndcg@5: 0.07418 ndcg@10: 0.09323\n",
      "new: h@1: 0.01943 h@5: 0.06129 h@10: 0.09716 ndcg@1: 0.01943 ndcg@5: 0.04078 ndcg@10: 0.05211\n",
      "rep: h@1: 0.04536 h@5: 0.14948 h@10: 0.22577 ndcg@1: 0.04536 ndcg@5: 0.09721 ndcg@10: 0.12159\n",
      "ratio:  0.5918242830994509\n"
     ]
    },
    {
     "name": "stderr",
     "output_type": "stream",
     "text": [
      "100%|████████████████████████████████████████████████████████████████████████████████| 114/114 [00:26<00:00,  4.22it/s]\n",
      "17it [00:01,  8.61it/s]\n"
     ]
    },
    {
     "name": "stdout",
     "output_type": "stream",
     "text": [
      "Epoch: 054, Loss: 0.53861\n",
      "all: h@1: 0.03600 h@5: 0.11775 h@10: 0.17755 ndcg@1: 0.03600 ndcg@5: 0.07700 ndcg@10: 0.09597\n",
      "new: h@1: 0.02093 h@5: 0.06428 h@10: 0.10015 ndcg@1: 0.02093 ndcg@5: 0.04276 ndcg@10: 0.05406\n",
      "rep: h@1: 0.04639 h@5: 0.15464 h@10: 0.23093 ndcg@1: 0.04639 ndcg@5: 0.10062 ndcg@10: 0.12488\n",
      "ratio:  0.5918242830994509\n"
     ]
    },
    {
     "name": "stderr",
     "output_type": "stream",
     "text": [
      "100%|████████████████████████████████████████████████████████████████████████████████| 114/114 [00:25<00:00,  4.51it/s]\n",
      "17it [00:01,  9.73it/s]\n"
     ]
    },
    {
     "name": "stdout",
     "output_type": "stream",
     "text": [
      "Epoch: 055, Loss: 0.52759\n",
      "all: h@1: 0.03600 h@5: 0.11897 h@10: 0.18121 ndcg@1: 0.03600 ndcg@5: 0.07786 ndcg@10: 0.09764\n",
      "new: h@1: 0.02242 h@5: 0.06428 h@10: 0.10762 ndcg@1: 0.02242 ndcg@5: 0.04355 ndcg@10: 0.05721\n",
      "rep: h@1: 0.04536 h@5: 0.15670 h@10: 0.23196 ndcg@1: 0.04536 ndcg@5: 0.10153 ndcg@10: 0.12552\n",
      "ratio:  0.5918242830994509\n"
     ]
    },
    {
     "name": "stderr",
     "output_type": "stream",
     "text": [
      "100%|████████████████████████████████████████████████████████████████████████████████| 114/114 [00:25<00:00,  4.43it/s]\n",
      "17it [00:01,  8.94it/s]\n"
     ]
    },
    {
     "name": "stdout",
     "output_type": "stream",
     "text": [
      "Epoch: 056, Loss: 0.51509\n",
      "all: h@1: 0.03600 h@5: 0.12081 h@10: 0.18670 ndcg@1: 0.03600 ndcg@5: 0.07901 ndcg@10: 0.10013\n",
      "new: h@1: 0.01943 h@5: 0.06726 h@10: 0.11061 ndcg@1: 0.01943 ndcg@5: 0.04413 ndcg@10: 0.05791\n",
      "rep: h@1: 0.04742 h@5: 0.15773 h@10: 0.23918 ndcg@1: 0.04742 ndcg@5: 0.10306 ndcg@10: 0.12924\n",
      "ratio:  0.5918242830994509\n"
     ]
    },
    {
     "name": "stderr",
     "output_type": "stream",
     "text": [
      "100%|████████████████████████████████████████████████████████████████████████████████| 114/114 [00:31<00:00,  3.65it/s]\n",
      "17it [00:01,  8.95it/s]\n"
     ]
    },
    {
     "name": "stdout",
     "output_type": "stream",
     "text": [
      "Epoch: 057, Loss: 0.49914\n",
      "all: h@1: 0.03966 h@5: 0.12508 h@10: 0.19036 ndcg@1: 0.03966 ndcg@5: 0.08250 ndcg@10: 0.10348\n",
      "new: h@1: 0.01943 h@5: 0.07025 h@10: 0.11211 ndcg@1: 0.01943 ndcg@5: 0.04538 ndcg@10: 0.05888\n",
      "rep: h@1: 0.05361 h@5: 0.16289 h@10: 0.24433 ndcg@1: 0.05361 ndcg@5: 0.10810 ndcg@10: 0.13424\n",
      "ratio:  0.5918242830994509\n"
     ]
    },
    {
     "name": "stderr",
     "output_type": "stream",
     "text": [
      "100%|████████████████████████████████████████████████████████████████████████████████| 114/114 [00:27<00:00,  4.17it/s]\n",
      "17it [00:01,  9.06it/s]\n"
     ]
    },
    {
     "name": "stdout",
     "output_type": "stream",
     "text": [
      "Epoch: 058, Loss: 0.49098\n",
      "all: h@1: 0.03966 h@5: 0.12691 h@10: 0.19768 ndcg@1: 0.03966 ndcg@5: 0.08348 ndcg@10: 0.10626\n",
      "new: h@1: 0.01943 h@5: 0.07175 h@10: 0.11360 ndcg@1: 0.01943 ndcg@5: 0.04573 ndcg@10: 0.05923\n",
      "rep: h@1: 0.05361 h@5: 0.16495 h@10: 0.25567 ndcg@1: 0.05361 ndcg@5: 0.10951 ndcg@10: 0.13869\n",
      "ratio:  0.5918242830994509\n"
     ]
    },
    {
     "name": "stderr",
     "output_type": "stream",
     "text": [
      "100%|████████████████████████████████████████████████████████████████████████████████| 114/114 [00:27<00:00,  4.22it/s]\n",
      "17it [00:01,  9.31it/s]\n"
     ]
    },
    {
     "name": "stdout",
     "output_type": "stream",
     "text": [
      "Epoch: 059, Loss: 0.47686\n",
      "all: h@1: 0.04088 h@5: 0.12874 h@10: 0.20378 ndcg@1: 0.04088 ndcg@5: 0.08539 ndcg@10: 0.10952\n",
      "new: h@1: 0.02093 h@5: 0.07175 h@10: 0.11360 ndcg@1: 0.02093 ndcg@5: 0.04644 ndcg@10: 0.06004\n",
      "rep: h@1: 0.05464 h@5: 0.16804 h@10: 0.26598 ndcg@1: 0.05464 ndcg@5: 0.11226 ndcg@10: 0.14364\n",
      "ratio:  0.5918242830994509\n"
     ]
    },
    {
     "name": "stderr",
     "output_type": "stream",
     "text": [
      "100%|████████████████████████████████████████████████████████████████████████████████| 114/114 [00:28<00:00,  4.02it/s]\n",
      "17it [00:01,  8.81it/s]\n"
     ]
    },
    {
     "name": "stdout",
     "output_type": "stream",
     "text": [
      "Epoch: 060, Loss: 0.46890\n",
      "all: h@1: 0.04088 h@5: 0.13362 h@10: 0.21171 ndcg@1: 0.04088 ndcg@5: 0.08728 ndcg@10: 0.11219\n",
      "new: h@1: 0.02093 h@5: 0.07324 h@10: 0.11659 ndcg@1: 0.02093 ndcg@5: 0.04695 ndcg@10: 0.06096\n",
      "rep: h@1: 0.05464 h@5: 0.17526 h@10: 0.27732 ndcg@1: 0.05464 ndcg@5: 0.11510 ndcg@10: 0.14752\n",
      "ratio:  0.5918242830994509\n"
     ]
    },
    {
     "name": "stderr",
     "output_type": "stream",
     "text": [
      "100%|████████████████████████████████████████████████████████████████████████████████| 114/114 [00:31<00:00,  3.64it/s]\n",
      "17it [00:01,  9.24it/s]\n"
     ]
    },
    {
     "name": "stdout",
     "output_type": "stream",
     "text": [
      "Epoch: 061, Loss: 0.46130\n",
      "all: h@1: 0.04088 h@5: 0.13362 h@10: 0.21782 ndcg@1: 0.04088 ndcg@5: 0.08791 ndcg@10: 0.11491\n",
      "new: h@1: 0.02093 h@5: 0.07324 h@10: 0.11958 ndcg@1: 0.02093 ndcg@5: 0.04726 ndcg@10: 0.06209\n",
      "rep: h@1: 0.05464 h@5: 0.17526 h@10: 0.28557 ndcg@1: 0.05464 ndcg@5: 0.11595 ndcg@10: 0.15134\n",
      "ratio:  0.5918242830994509\n"
     ]
    },
    {
     "name": "stderr",
     "output_type": "stream",
     "text": [
      "100%|████████████████████████████████████████████████████████████████████████████████| 114/114 [00:31<00:00,  3.66it/s]\n",
      "17it [00:01,  8.69it/s]\n"
     ]
    },
    {
     "name": "stdout",
     "output_type": "stream",
     "text": [
      "Epoch: 062, Loss: 0.45238\n",
      "all: h@1: 0.04393 h@5: 0.13545 h@10: 0.22453 ndcg@1: 0.04393 ndcg@5: 0.08968 ndcg@10: 0.11840\n",
      "new: h@1: 0.02392 h@5: 0.06876 h@10: 0.12257 ndcg@1: 0.02392 ndcg@5: 0.04653 ndcg@10: 0.06398\n",
      "rep: h@1: 0.05773 h@5: 0.18144 h@10: 0.29485 ndcg@1: 0.05773 ndcg@5: 0.11945 ndcg@10: 0.15593\n",
      "ratio:  0.5918242830994509\n"
     ]
    },
    {
     "name": "stderr",
     "output_type": "stream",
     "text": [
      "100%|████████████████████████████████████████████████████████████████████████████████| 114/114 [00:31<00:00,  3.63it/s]\n",
      "17it [00:01,  8.81it/s]\n"
     ]
    },
    {
     "name": "stdout",
     "output_type": "stream",
     "text": [
      "Epoch: 063, Loss: 0.44414\n",
      "all: h@1: 0.04698 h@5: 0.14033 h@10: 0.22941 ndcg@1: 0.04698 ndcg@5: 0.09345 ndcg@10: 0.12204\n",
      "new: h@1: 0.02541 h@5: 0.07175 h@10: 0.12706 ndcg@1: 0.02541 ndcg@5: 0.04820 ndcg@10: 0.06586\n",
      "rep: h@1: 0.06186 h@5: 0.18763 h@10: 0.30000 ndcg@1: 0.06186 ndcg@5: 0.12467 ndcg@10: 0.16078\n",
      "ratio:  0.5918242830994509\n"
     ]
    },
    {
     "name": "stderr",
     "output_type": "stream",
     "text": [
      "100%|████████████████████████████████████████████████████████████████████████████████| 114/114 [00:28<00:00,  3.96it/s]\n",
      "17it [00:01,  8.74it/s]\n"
     ]
    },
    {
     "name": "stdout",
     "output_type": "stream",
     "text": [
      "Epoch: 064, Loss: 0.43762\n",
      "all: h@1: 0.04759 h@5: 0.14582 h@10: 0.23307 ndcg@1: 0.04759 ndcg@5: 0.09641 ndcg@10: 0.12446\n",
      "new: h@1: 0.02392 h@5: 0.07324 h@10: 0.12855 ndcg@1: 0.02392 ndcg@5: 0.04852 ndcg@10: 0.06611\n",
      "rep: h@1: 0.06392 h@5: 0.19588 h@10: 0.30515 ndcg@1: 0.06392 ndcg@5: 0.12944 ndcg@10: 0.16470\n",
      "ratio:  0.5918242830994509\n"
     ]
    },
    {
     "name": "stderr",
     "output_type": "stream",
     "text": [
      "100%|████████████████████████████████████████████████████████████████████████████████| 114/114 [00:28<00:00,  3.96it/s]\n",
      "17it [00:01,  8.69it/s]\n"
     ]
    },
    {
     "name": "stdout",
     "output_type": "stream",
     "text": [
      "Epoch: 065, Loss: 0.43272\n",
      "all: h@1: 0.05003 h@5: 0.15131 h@10: 0.23734 ndcg@1: 0.05003 ndcg@5: 0.09986 ndcg@10: 0.12759\n",
      "new: h@1: 0.02392 h@5: 0.07773 h@10: 0.13154 ndcg@1: 0.02392 ndcg@5: 0.05064 ndcg@10: 0.06772\n",
      "rep: h@1: 0.06804 h@5: 0.20206 h@10: 0.31031 ndcg@1: 0.06804 ndcg@5: 0.13381 ndcg@10: 0.16888\n",
      "ratio:  0.5918242830994509\n"
     ]
    },
    {
     "name": "stderr",
     "output_type": "stream",
     "text": [
      "100%|████████████████████████████████████████████████████████████████████████████████| 114/114 [00:28<00:00,  4.02it/s]\n",
      "17it [00:01, 11.69it/s]\n"
     ]
    },
    {
     "name": "stdout",
     "output_type": "stream",
     "text": [
      "Epoch: 066, Loss: 0.42685\n",
      "all: h@1: 0.05064 h@5: 0.15802 h@10: 0.24527 ndcg@1: 0.05064 ndcg@5: 0.10289 ndcg@10: 0.13087\n",
      "new: h@1: 0.02392 h@5: 0.08371 h@10: 0.13154 ndcg@1: 0.02392 ndcg@5: 0.05326 ndcg@10: 0.06837\n",
      "rep: h@1: 0.06907 h@5: 0.20928 h@10: 0.32371 ndcg@1: 0.06907 ndcg@5: 0.13712 ndcg@10: 0.17397\n",
      "ratio:  0.5918242830994509\n"
     ]
    },
    {
     "name": "stderr",
     "output_type": "stream",
     "text": [
      "100%|████████████████████████████████████████████████████████████████████████████████| 114/114 [00:25<00:00,  4.47it/s]\n",
      "17it [00:01,  9.40it/s]\n"
     ]
    },
    {
     "name": "stdout",
     "output_type": "stream",
     "text": [
      "Epoch: 067, Loss: 0.42146\n",
      "all: h@1: 0.05003 h@5: 0.15558 h@10: 0.25076 ndcg@1: 0.05003 ndcg@5: 0.10213 ndcg@10: 0.13289\n",
      "new: h@1: 0.02242 h@5: 0.08072 h@10: 0.13752 ndcg@1: 0.02242 ndcg@5: 0.05145 ndcg@10: 0.06947\n",
      "rep: h@1: 0.06907 h@5: 0.20722 h@10: 0.32887 ndcg@1: 0.06907 ndcg@5: 0.13709 ndcg@10: 0.17663\n",
      "ratio:  0.5918242830994509\n"
     ]
    },
    {
     "name": "stderr",
     "output_type": "stream",
     "text": [
      "100%|████████████████████████████████████████████████████████████████████████████████| 114/114 [00:26<00:00,  4.36it/s]\n",
      "17it [00:01,  8.86it/s]\n"
     ]
    },
    {
     "name": "stdout",
     "output_type": "stream",
     "text": [
      "Epoch: 068, Loss: 0.41805\n",
      "all: h@1: 0.05064 h@5: 0.16046 h@10: 0.25625 ndcg@1: 0.05064 ndcg@5: 0.10469 ndcg@10: 0.13564\n",
      "new: h@1: 0.02093 h@5: 0.08371 h@10: 0.14200 ndcg@1: 0.02093 ndcg@5: 0.05264 ndcg@10: 0.07109\n",
      "rep: h@1: 0.07113 h@5: 0.21340 h@10: 0.33505 ndcg@1: 0.07113 ndcg@5: 0.14059 ndcg@10: 0.18015\n",
      "ratio:  0.5918242830994509\n"
     ]
    },
    {
     "name": "stderr",
     "output_type": "stream",
     "text": [
      "100%|████████████████████████████████████████████████████████████████████████████████| 114/114 [00:27<00:00,  4.17it/s]\n",
      "17it [00:01,  8.55it/s]\n"
     ]
    },
    {
     "name": "stdout",
     "output_type": "stream",
     "text": [
      "Epoch: 069, Loss: 0.41389\n",
      "all: h@1: 0.05064 h@5: 0.16412 h@10: 0.26052 ndcg@1: 0.05064 ndcg@5: 0.10672 ndcg@10: 0.13780\n",
      "new: h@1: 0.02093 h@5: 0.08371 h@10: 0.14350 ndcg@1: 0.02093 ndcg@5: 0.05281 ndcg@10: 0.07182\n",
      "rep: h@1: 0.07113 h@5: 0.21959 h@10: 0.34124 ndcg@1: 0.07113 ndcg@5: 0.14390 ndcg@10: 0.18330\n",
      "ratio:  0.5918242830994509\n"
     ]
    },
    {
     "name": "stderr",
     "output_type": "stream",
     "text": [
      "100%|████████████████████████████████████████████████████████████████████████████████| 114/114 [00:29<00:00,  3.89it/s]\n",
      "17it [00:01,  8.70it/s]\n"
     ]
    },
    {
     "name": "stdout",
     "output_type": "stream",
     "text": [
      "Epoch: 070, Loss: 0.41113\n",
      "all: h@1: 0.05186 h@5: 0.17023 h@10: 0.26663 ndcg@1: 0.05186 ndcg@5: 0.11034 ndcg@10: 0.14128\n",
      "new: h@1: 0.02242 h@5: 0.08670 h@10: 0.14649 ndcg@1: 0.02242 ndcg@5: 0.05508 ndcg@10: 0.07393\n",
      "rep: h@1: 0.07216 h@5: 0.22784 h@10: 0.34948 ndcg@1: 0.07216 ndcg@5: 0.14845 ndcg@10: 0.18774\n",
      "ratio:  0.5918242830994509\n"
     ]
    },
    {
     "name": "stderr",
     "output_type": "stream",
     "text": [
      "100%|████████████████████████████████████████████████████████████████████████████████| 114/114 [00:29<00:00,  3.89it/s]\n",
      "17it [00:01, 11.61it/s]\n"
     ]
    },
    {
     "name": "stdout",
     "output_type": "stream",
     "text": [
      "Epoch: 071, Loss: 0.40684\n",
      "all: h@1: 0.05247 h@5: 0.17206 h@10: 0.26846 ndcg@1: 0.05247 ndcg@5: 0.11173 ndcg@10: 0.14271\n",
      "new: h@1: 0.02392 h@5: 0.08819 h@10: 0.14798 ndcg@1: 0.02392 ndcg@5: 0.05659 ndcg@10: 0.07543\n",
      "rep: h@1: 0.07216 h@5: 0.22990 h@10: 0.35155 ndcg@1: 0.07216 ndcg@5: 0.14977 ndcg@10: 0.18912\n",
      "ratio:  0.5918242830994509\n"
     ]
    },
    {
     "name": "stderr",
     "output_type": "stream",
     "text": [
      "100%|████████████████████████████████████████████████████████████████████████████████| 114/114 [00:24<00:00,  4.58it/s]\n",
      "17it [00:01, 10.30it/s]\n"
     ]
    },
    {
     "name": "stdout",
     "output_type": "stream",
     "text": [
      "Epoch: 072, Loss: 0.40332\n",
      "all: h@1: 0.05430 h@5: 0.17328 h@10: 0.27090 ndcg@1: 0.05430 ndcg@5: 0.11361 ndcg@10: 0.14506\n",
      "new: h@1: 0.02541 h@5: 0.08969 h@10: 0.14649 ndcg@1: 0.02541 ndcg@5: 0.05821 ndcg@10: 0.07636\n",
      "rep: h@1: 0.07423 h@5: 0.23093 h@10: 0.35670 ndcg@1: 0.07423 ndcg@5: 0.15183 ndcg@10: 0.19244\n",
      "ratio:  0.5918242830994509\n"
     ]
    },
    {
     "name": "stderr",
     "output_type": "stream",
     "text": [
      "100%|████████████████████████████████████████████████████████████████████████████████| 114/114 [00:29<00:00,  3.93it/s]\n",
      "17it [00:01,  8.84it/s]\n"
     ]
    },
    {
     "name": "stdout",
     "output_type": "stream",
     "text": [
      "Epoch: 073, Loss: 0.40370\n",
      "all: h@1: 0.05552 h@5: 0.17694 h@10: 0.27517 ndcg@1: 0.05552 ndcg@5: 0.11604 ndcg@10: 0.14758\n",
      "new: h@1: 0.02541 h@5: 0.08969 h@10: 0.14798 ndcg@1: 0.02541 ndcg@5: 0.05861 ndcg@10: 0.07717\n",
      "rep: h@1: 0.07629 h@5: 0.23711 h@10: 0.36289 ndcg@1: 0.07629 ndcg@5: 0.15565 ndcg@10: 0.19614\n",
      "ratio:  0.5918242830994509\n"
     ]
    },
    {
     "name": "stderr",
     "output_type": "stream",
     "text": [
      "100%|████████████████████████████████████████████████████████████████████████████████| 114/114 [00:30<00:00,  3.68it/s]\n",
      "17it [00:01,  8.91it/s]\n"
     ]
    },
    {
     "name": "stdout",
     "output_type": "stream",
     "text": [
      "Epoch: 074, Loss: 0.40177\n",
      "all: h@1: 0.05796 h@5: 0.17816 h@10: 0.27883 ndcg@1: 0.05796 ndcg@5: 0.11839 ndcg@10: 0.15068\n",
      "new: h@1: 0.02541 h@5: 0.09118 h@10: 0.15097 ndcg@1: 0.02541 ndcg@5: 0.05936 ndcg@10: 0.07827\n",
      "rep: h@1: 0.08041 h@5: 0.23814 h@10: 0.36701 ndcg@1: 0.08041 ndcg@5: 0.15911 ndcg@10: 0.20063\n",
      "ratio:  0.5918242830994509\n"
     ]
    },
    {
     "name": "stderr",
     "output_type": "stream",
     "text": [
      "100%|████████████████████████████████████████████████████████████████████████████████| 114/114 [00:28<00:00,  4.00it/s]\n",
      "17it [00:01,  9.82it/s]\n"
     ]
    },
    {
     "name": "stdout",
     "output_type": "stream",
     "text": [
      "Epoch: 075, Loss: 0.40116\n",
      "all: h@1: 0.05796 h@5: 0.18243 h@10: 0.28066 ndcg@1: 0.05796 ndcg@5: 0.12032 ndcg@10: 0.15191\n",
      "new: h@1: 0.02541 h@5: 0.09417 h@10: 0.15546 ndcg@1: 0.02541 ndcg@5: 0.06030 ndcg@10: 0.07969\n",
      "rep: h@1: 0.08041 h@5: 0.24330 h@10: 0.36701 ndcg@1: 0.08041 ndcg@5: 0.16172 ndcg@10: 0.20172\n",
      "ratio:  0.5918242830994509\n"
     ]
    },
    {
     "name": "stderr",
     "output_type": "stream",
     "text": [
      "100%|████████████████████████████████████████████████████████████████████████████████| 114/114 [00:30<00:00,  3.78it/s]\n",
      "17it [00:01, 13.31it/s]\n"
     ]
    },
    {
     "name": "stdout",
     "output_type": "stream",
     "text": [
      "Epoch: 076, Loss: 0.39665\n",
      "all: h@1: 0.05918 h@5: 0.18731 h@10: 0.27883 ndcg@1: 0.05918 ndcg@5: 0.12273 ndcg@10: 0.15222\n",
      "new: h@1: 0.02541 h@5: 0.09865 h@10: 0.15247 ndcg@1: 0.02541 ndcg@5: 0.06200 ndcg@10: 0.07907\n",
      "rep: h@1: 0.08247 h@5: 0.24845 h@10: 0.36598 ndcg@1: 0.08247 ndcg@5: 0.16461 ndcg@10: 0.20267\n",
      "ratio:  0.5918242830994509\n"
     ]
    },
    {
     "name": "stderr",
     "output_type": "stream",
     "text": [
      "100%|████████████████████████████████████████████████████████████████████████████████| 114/114 [00:29<00:00,  3.90it/s]\n",
      "17it [00:01,  8.84it/s]\n"
     ]
    },
    {
     "name": "stdout",
     "output_type": "stream",
     "text": [
      "Epoch: 077, Loss: 0.39803\n",
      "all: h@1: 0.06101 h@5: 0.18853 h@10: 0.28127 ndcg@1: 0.06101 ndcg@5: 0.12471 ndcg@10: 0.15461\n",
      "new: h@1: 0.02541 h@5: 0.09865 h@10: 0.15546 ndcg@1: 0.02541 ndcg@5: 0.06255 ndcg@10: 0.08056\n",
      "rep: h@1: 0.08557 h@5: 0.25052 h@10: 0.36804 ndcg@1: 0.08557 ndcg@5: 0.16759 ndcg@10: 0.20569\n",
      "ratio:  0.5918242830994509\n"
     ]
    },
    {
     "name": "stderr",
     "output_type": "stream",
     "text": [
      "100%|████████████████████████████████████████████████████████████████████████████████| 114/114 [00:30<00:00,  3.68it/s]\n",
      "17it [00:01,  8.95it/s]\n"
     ]
    },
    {
     "name": "stdout",
     "output_type": "stream",
     "text": [
      "Epoch: 078, Loss: 0.39701\n",
      "all: h@1: 0.06223 h@5: 0.18975 h@10: 0.28615 ndcg@1: 0.06223 ndcg@5: 0.12605 ndcg@10: 0.15709\n",
      "new: h@1: 0.02541 h@5: 0.09716 h@10: 0.15845 ndcg@1: 0.02541 ndcg@5: 0.06220 ndcg@10: 0.08179\n",
      "rep: h@1: 0.08763 h@5: 0.25361 h@10: 0.37423 ndcg@1: 0.08763 ndcg@5: 0.17009 ndcg@10: 0.20903\n",
      "ratio:  0.5918242830994509\n"
     ]
    },
    {
     "name": "stderr",
     "output_type": "stream",
     "text": [
      "100%|████████████████████████████████████████████████████████████████████████████████| 114/114 [00:30<00:00,  3.69it/s]\n",
      "17it [00:01,  8.89it/s]\n"
     ]
    },
    {
     "name": "stdout",
     "output_type": "stream",
     "text": [
      "Epoch: 079, Loss: 0.39729\n",
      "all: h@1: 0.06284 h@5: 0.19097 h@10: 0.28615 ndcg@1: 0.06284 ndcg@5: 0.12691 ndcg@10: 0.15770\n",
      "new: h@1: 0.02541 h@5: 0.09865 h@10: 0.15994 ndcg@1: 0.02541 ndcg@5: 0.06297 ndcg@10: 0.08250\n",
      "rep: h@1: 0.08866 h@5: 0.25464 h@10: 0.37320 ndcg@1: 0.08866 ndcg@5: 0.17102 ndcg@10: 0.20957\n",
      "ratio:  0.5918242830994509\n"
     ]
    },
    {
     "name": "stderr",
     "output_type": "stream",
     "text": [
      "100%|████████████████████████████████████████████████████████████████████████████████| 114/114 [00:30<00:00,  3.69it/s]\n",
      "17it [00:01,  8.80it/s]\n"
     ]
    },
    {
     "name": "stdout",
     "output_type": "stream",
     "text": [
      "Epoch: 080, Loss: 0.39609\n",
      "all: h@1: 0.06467 h@5: 0.19158 h@10: 0.29225 ndcg@1: 0.06467 ndcg@5: 0.12842 ndcg@10: 0.16073\n",
      "new: h@1: 0.02990 h@5: 0.09567 h@10: 0.16442 ndcg@1: 0.02990 ndcg@5: 0.06348 ndcg@10: 0.08545\n",
      "rep: h@1: 0.08866 h@5: 0.25773 h@10: 0.38041 ndcg@1: 0.08866 ndcg@5: 0.17320 ndcg@10: 0.21266\n",
      "ratio:  0.5918242830994509\n"
     ]
    },
    {
     "name": "stderr",
     "output_type": "stream",
     "text": [
      "100%|████████████████████████████████████████████████████████████████████████████████| 114/114 [00:28<00:00,  4.01it/s]\n",
      "17it [00:01,  9.08it/s]\n"
     ]
    },
    {
     "name": "stdout",
     "output_type": "stream",
     "text": [
      "Epoch: 081, Loss: 0.39597\n",
      "all: h@1: 0.06589 h@5: 0.19402 h@10: 0.29103 ndcg@1: 0.06589 ndcg@5: 0.13059 ndcg@10: 0.16172\n",
      "new: h@1: 0.02990 h@5: 0.09716 h@10: 0.16293 ndcg@1: 0.02990 ndcg@5: 0.06409 ndcg@10: 0.08500\n",
      "rep: h@1: 0.09072 h@5: 0.26082 h@10: 0.37938 ndcg@1: 0.09072 ndcg@5: 0.17646 ndcg@10: 0.21463\n",
      "ratio:  0.5918242830994509\n"
     ]
    },
    {
     "name": "stderr",
     "output_type": "stream",
     "text": [
      "100%|████████████████████████████████████████████████████████████████████████████████| 114/114 [00:31<00:00,  3.64it/s]\n",
      "17it [00:01,  8.68it/s]\n"
     ]
    },
    {
     "name": "stdout",
     "output_type": "stream",
     "text": [
      "Epoch: 082, Loss: 0.39661\n",
      "all: h@1: 0.06772 h@5: 0.19707 h@10: 0.29347 ndcg@1: 0.06772 ndcg@5: 0.13270 ndcg@10: 0.16361\n",
      "new: h@1: 0.02990 h@5: 0.10015 h@10: 0.16592 ndcg@1: 0.02990 ndcg@5: 0.06524 ndcg@10: 0.08609\n",
      "rep: h@1: 0.09381 h@5: 0.26392 h@10: 0.38144 ndcg@1: 0.09381 ndcg@5: 0.17922 ndcg@10: 0.21708\n",
      "ratio:  0.5918242830994509\n"
     ]
    },
    {
     "name": "stderr",
     "output_type": "stream",
     "text": [
      "100%|████████████████████████████████████████████████████████████████████████████████| 114/114 [00:30<00:00,  3.69it/s]\n",
      "17it [00:01,  8.88it/s]\n"
     ]
    },
    {
     "name": "stdout",
     "output_type": "stream",
     "text": [
      "Epoch: 083, Loss: 0.39685\n",
      "all: h@1: 0.06772 h@5: 0.19768 h@10: 0.30018 ndcg@1: 0.06772 ndcg@5: 0.13337 ndcg@10: 0.16614\n",
      "new: h@1: 0.02990 h@5: 0.10015 h@10: 0.17489 ndcg@1: 0.02990 ndcg@5: 0.06524 ndcg@10: 0.08892\n",
      "rep: h@1: 0.09381 h@5: 0.26495 h@10: 0.38660 ndcg@1: 0.09381 ndcg@5: 0.18036 ndcg@10: 0.21940\n",
      "ratio:  0.5918242830994509\n"
     ]
    },
    {
     "name": "stderr",
     "output_type": "stream",
     "text": [
      "100%|████████████████████████████████████████████████████████████████████████████████| 114/114 [00:30<00:00,  3.69it/s]\n",
      "17it [00:01,  8.89it/s]\n"
     ]
    },
    {
     "name": "stdout",
     "output_type": "stream",
     "text": [
      "Epoch: 084, Loss: 0.39852\n",
      "all: h@1: 0.06833 h@5: 0.20134 h@10: 0.30201 ndcg@1: 0.06833 ndcg@5: 0.13500 ndcg@10: 0.16707\n",
      "new: h@1: 0.02840 h@5: 0.10463 h@10: 0.17638 ndcg@1: 0.02840 ndcg@5: 0.06626 ndcg@10: 0.08896\n",
      "rep: h@1: 0.09588 h@5: 0.26804 h@10: 0.38866 ndcg@1: 0.09588 ndcg@5: 0.18241 ndcg@10: 0.22094\n",
      "ratio:  0.5918242830994509\n"
     ]
    },
    {
     "name": "stderr",
     "output_type": "stream",
     "text": [
      "100%|████████████████████████████████████████████████████████████████████████████████| 114/114 [00:30<00:00,  3.69it/s]\n",
      "17it [00:01,  8.78it/s]\n"
     ]
    },
    {
     "name": "stdout",
     "output_type": "stream",
     "text": [
      "Epoch: 085, Loss: 0.39788\n",
      "all: h@1: 0.06955 h@5: 0.20256 h@10: 0.30323 ndcg@1: 0.06955 ndcg@5: 0.13634 ndcg@10: 0.16849\n",
      "new: h@1: 0.02840 h@5: 0.10463 h@10: 0.17937 ndcg@1: 0.02840 ndcg@5: 0.06598 ndcg@10: 0.08985\n",
      "rep: h@1: 0.09794 h@5: 0.27010 h@10: 0.38866 ndcg@1: 0.09794 ndcg@5: 0.18486 ndcg@10: 0.22272\n",
      "ratio:  0.5918242830994509\n"
     ]
    },
    {
     "name": "stderr",
     "output_type": "stream",
     "text": [
      "100%|████████████████████████████████████████████████████████████████████████████████| 114/114 [00:25<00:00,  4.54it/s]\n",
      "17it [00:01,  9.71it/s]\n"
     ]
    },
    {
     "name": "stdout",
     "output_type": "stream",
     "text": [
      "Epoch: 086, Loss: 0.39642\n",
      "all: h@1: 0.07016 h@5: 0.20317 h@10: 0.30872 ndcg@1: 0.07016 ndcg@5: 0.13726 ndcg@10: 0.17098\n",
      "new: h@1: 0.02990 h@5: 0.10314 h@10: 0.18236 ndcg@1: 0.02990 ndcg@5: 0.06615 ndcg@10: 0.09158\n",
      "rep: h@1: 0.09794 h@5: 0.27216 h@10: 0.39588 ndcg@1: 0.09794 ndcg@5: 0.18631 ndcg@10: 0.22574\n",
      "ratio:  0.5918242830994509\n"
     ]
    },
    {
     "name": "stderr",
     "output_type": "stream",
     "text": [
      "100%|████████████████████████████████████████████████████████████████████████████████| 114/114 [00:28<00:00,  4.07it/s]\n",
      "17it [00:01,  8.94it/s]\n"
     ]
    },
    {
     "name": "stdout",
     "output_type": "stream",
     "text": [
      "Epoch: 087, Loss: 0.39809\n",
      "all: h@1: 0.07016 h@5: 0.20683 h@10: 0.30750 ndcg@1: 0.07016 ndcg@5: 0.13863 ndcg@10: 0.17085\n",
      "new: h@1: 0.02840 h@5: 0.10613 h@10: 0.18087 ndcg@1: 0.02840 ndcg@5: 0.06673 ndcg@10: 0.09079\n",
      "rep: h@1: 0.09897 h@5: 0.27629 h@10: 0.39485 ndcg@1: 0.09897 ndcg@5: 0.18821 ndcg@10: 0.22608\n",
      "ratio:  0.5918242830994509\n"
     ]
    },
    {
     "name": "stderr",
     "output_type": "stream",
     "text": [
      "100%|████████████████████████████████████████████████████████████████████████████████| 114/114 [00:28<00:00,  4.03it/s]\n",
      "17it [00:01,  9.43it/s]\n"
     ]
    },
    {
     "name": "stdout",
     "output_type": "stream",
     "text": [
      "Epoch: 088, Loss: 0.39943\n",
      "all: h@1: 0.06894 h@5: 0.20744 h@10: 0.30628 ndcg@1: 0.06894 ndcg@5: 0.13871 ndcg@10: 0.17043\n",
      "new: h@1: 0.02840 h@5: 0.10762 h@10: 0.18087 ndcg@1: 0.02840 ndcg@5: 0.06735 ndcg@10: 0.09107\n",
      "rep: h@1: 0.09691 h@5: 0.27629 h@10: 0.39278 ndcg@1: 0.09691 ndcg@5: 0.18793 ndcg@10: 0.22517\n",
      "ratio:  0.5918242830994509\n"
     ]
    },
    {
     "name": "stderr",
     "output_type": "stream",
     "text": [
      "100%|████████████████████████████████████████████████████████████████████████████████| 114/114 [00:29<00:00,  3.84it/s]\n",
      "17it [00:01,  8.78it/s]\n"
     ]
    },
    {
     "name": "stdout",
     "output_type": "stream",
     "text": [
      "Epoch: 089, Loss: 0.40028\n",
      "all: h@1: 0.07077 h@5: 0.21049 h@10: 0.30811 ndcg@1: 0.07077 ndcg@5: 0.14058 ndcg@10: 0.17187\n",
      "new: h@1: 0.02840 h@5: 0.11211 h@10: 0.18535 ndcg@1: 0.02840 ndcg@5: 0.06921 ndcg@10: 0.09274\n",
      "rep: h@1: 0.10000 h@5: 0.27835 h@10: 0.39278 ndcg@1: 0.10000 ndcg@5: 0.18981 ndcg@10: 0.22644\n",
      "ratio:  0.5918242830994509\n"
     ]
    },
    {
     "name": "stderr",
     "output_type": "stream",
     "text": [
      "100%|████████████████████████████████████████████████████████████████████████████████| 114/114 [00:30<00:00,  3.68it/s]\n",
      "17it [00:01,  8.80it/s]\n"
     ]
    },
    {
     "name": "stdout",
     "output_type": "stream",
     "text": [
      "Epoch: 090, Loss: 0.40212\n",
      "all: h@1: 0.07200 h@5: 0.21232 h@10: 0.30872 ndcg@1: 0.07200 ndcg@5: 0.14223 ndcg@10: 0.17309\n",
      "new: h@1: 0.02840 h@5: 0.11510 h@10: 0.18535 ndcg@1: 0.02840 ndcg@5: 0.07063 ndcg@10: 0.09325\n",
      "rep: h@1: 0.10206 h@5: 0.27938 h@10: 0.39381 ndcg@1: 0.10206 ndcg@5: 0.19161 ndcg@10: 0.22816\n",
      "ratio:  0.5918242830994509\n"
     ]
    },
    {
     "name": "stderr",
     "output_type": "stream",
     "text": [
      "100%|████████████████████████████████████████████████████████████████████████████████| 114/114 [00:25<00:00,  4.40it/s]\n",
      "17it [00:01, 10.28it/s]\n"
     ]
    },
    {
     "name": "stdout",
     "output_type": "stream",
     "text": [
      "Epoch: 091, Loss: 0.40213\n",
      "all: h@1: 0.07077 h@5: 0.21049 h@10: 0.31361 ndcg@1: 0.07077 ndcg@5: 0.14117 ndcg@10: 0.17407\n",
      "new: h@1: 0.02541 h@5: 0.11510 h@10: 0.19133 ndcg@1: 0.02541 ndcg@5: 0.06950 ndcg@10: 0.09386\n",
      "rep: h@1: 0.10206 h@5: 0.27629 h@10: 0.39794 ndcg@1: 0.10206 ndcg@5: 0.19060 ndcg@10: 0.22939\n",
      "ratio:  0.5918242830994509\n"
     ]
    },
    {
     "name": "stderr",
     "output_type": "stream",
     "text": [
      "100%|████████████████████████████████████████████████████████████████████████████████| 114/114 [00:29<00:00,  3.82it/s]\n",
      "17it [00:01,  8.93it/s]\n"
     ]
    },
    {
     "name": "stdout",
     "output_type": "stream",
     "text": [
      "Epoch: 092, Loss: 0.40498\n",
      "all: h@1: 0.07444 h@5: 0.20988 h@10: 0.31666 ndcg@1: 0.07444 ndcg@5: 0.14245 ndcg@10: 0.17648\n",
      "new: h@1: 0.02691 h@5: 0.11659 h@10: 0.19880 ndcg@1: 0.02691 ndcg@5: 0.07126 ndcg@10: 0.09737\n",
      "rep: h@1: 0.10722 h@5: 0.27423 h@10: 0.39794 ndcg@1: 0.10722 ndcg@5: 0.19154 ndcg@10: 0.23104\n",
      "ratio:  0.5918242830994509\n"
     ]
    },
    {
     "name": "stderr",
     "output_type": "stream",
     "text": [
      "100%|████████████████████████████████████████████████████████████████████████████████| 114/114 [00:30<00:00,  3.69it/s]\n",
      "17it [00:01,  8.98it/s]\n"
     ]
    },
    {
     "name": "stdout",
     "output_type": "stream",
     "text": [
      "Epoch: 093, Loss: 0.40479\n",
      "all: h@1: 0.07688 h@5: 0.20988 h@10: 0.31544 ndcg@1: 0.07688 ndcg@5: 0.14357 ndcg@10: 0.17738\n",
      "new: h@1: 0.02990 h@5: 0.11659 h@10: 0.19581 ndcg@1: 0.02990 ndcg@5: 0.07249 ndcg@10: 0.09790\n",
      "rep: h@1: 0.10928 h@5: 0.27423 h@10: 0.39794 ndcg@1: 0.10928 ndcg@5: 0.19260 ndcg@10: 0.23220\n",
      "ratio:  0.5918242830994509\n"
     ]
    },
    {
     "name": "stderr",
     "output_type": "stream",
     "text": [
      "100%|████████████████████████████████████████████████████████████████████████████████| 114/114 [00:30<00:00,  3.69it/s]\n",
      "17it [00:01,  8.89it/s]\n"
     ]
    },
    {
     "name": "stdout",
     "output_type": "stream",
     "text": [
      "Epoch: 094, Loss: 0.40534\n",
      "all: h@1: 0.07688 h@5: 0.21110 h@10: 0.31422 ndcg@1: 0.07688 ndcg@5: 0.14374 ndcg@10: 0.17674\n",
      "new: h@1: 0.02840 h@5: 0.11809 h@10: 0.19432 ndcg@1: 0.02840 ndcg@5: 0.07223 ndcg@10: 0.09671\n",
      "rep: h@1: 0.11031 h@5: 0.27526 h@10: 0.39691 ndcg@1: 0.11031 ndcg@5: 0.19306 ndcg@10: 0.23194\n",
      "ratio:  0.5918242830994509\n"
     ]
    },
    {
     "name": "stderr",
     "output_type": "stream",
     "text": [
      "100%|████████████████████████████████████████████████████████████████████████████████| 114/114 [00:30<00:00,  3.68it/s]\n",
      "17it [00:01,  8.68it/s]\n"
     ]
    },
    {
     "name": "stdout",
     "output_type": "stream",
     "text": [
      "Epoch: 095, Loss: 0.40680\n",
      "all: h@1: 0.07688 h@5: 0.20805 h@10: 0.31483 ndcg@1: 0.07688 ndcg@5: 0.14263 ndcg@10: 0.17690\n",
      "new: h@1: 0.03139 h@5: 0.11659 h@10: 0.19581 ndcg@1: 0.03139 ndcg@5: 0.07274 ndcg@10: 0.09810\n",
      "rep: h@1: 0.10825 h@5: 0.27113 h@10: 0.39691 ndcg@1: 0.10825 ndcg@5: 0.19083 ndcg@10: 0.23124\n",
      "ratio:  0.5918242830994509\n"
     ]
    },
    {
     "name": "stderr",
     "output_type": "stream",
     "text": [
      "100%|████████████████████████████████████████████████████████████████████████████████| 114/114 [00:30<00:00,  3.69it/s]\n",
      "17it [00:01,  8.97it/s]\n"
     ]
    },
    {
     "name": "stdout",
     "output_type": "stream",
     "text": [
      "Epoch: 096, Loss: 0.40814\n",
      "all: h@1: 0.07871 h@5: 0.20805 h@10: 0.31483 ndcg@1: 0.07871 ndcg@5: 0.14318 ndcg@10: 0.17746\n",
      "new: h@1: 0.03288 h@5: 0.11510 h@10: 0.19731 ndcg@1: 0.03288 ndcg@5: 0.07269 ndcg@10: 0.09909\n",
      "rep: h@1: 0.11031 h@5: 0.27216 h@10: 0.39588 ndcg@1: 0.11031 ndcg@5: 0.19180 ndcg@10: 0.23151\n",
      "ratio:  0.5918242830994509\n"
     ]
    },
    {
     "name": "stderr",
     "output_type": "stream",
     "text": [
      "100%|████████████████████████████████████████████████████████████████████████████████| 114/114 [00:30<00:00,  3.69it/s]\n",
      "17it [00:01,  9.00it/s]\n"
     ]
    },
    {
     "name": "stdout",
     "output_type": "stream",
     "text": [
      "Epoch: 097, Loss: 0.40884\n",
      "all: h@1: 0.07932 h@5: 0.21049 h@10: 0.31666 ndcg@1: 0.07932 ndcg@5: 0.14449 ndcg@10: 0.17840\n",
      "new: h@1: 0.03438 h@5: 0.11958 h@10: 0.19731 ndcg@1: 0.03438 ndcg@5: 0.07545 ndcg@10: 0.10022\n",
      "rep: h@1: 0.11031 h@5: 0.27320 h@10: 0.39897 ndcg@1: 0.11031 ndcg@5: 0.19211 ndcg@10: 0.23232\n",
      "ratio:  0.5918242830994509\n"
     ]
    },
    {
     "name": "stderr",
     "output_type": "stream",
     "text": [
      "100%|████████████████████████████████████████████████████████████████████████████████| 114/114 [00:30<00:00,  3.70it/s]\n",
      "17it [00:01,  9.04it/s]\n"
     ]
    },
    {
     "name": "stdout",
     "output_type": "stream",
     "text": [
      "Epoch: 098, Loss: 0.41020\n",
      "all: h@1: 0.07993 h@5: 0.20988 h@10: 0.31605 ndcg@1: 0.07993 ndcg@5: 0.14445 ndcg@10: 0.17839\n",
      "new: h@1: 0.03438 h@5: 0.11958 h@10: 0.19880 ndcg@1: 0.03438 ndcg@5: 0.07568 ndcg@10: 0.10102\n",
      "rep: h@1: 0.11134 h@5: 0.27216 h@10: 0.39691 ndcg@1: 0.11134 ndcg@5: 0.19189 ndcg@10: 0.23176\n",
      "ratio:  0.5918242830994509\n"
     ]
    },
    {
     "name": "stderr",
     "output_type": "stream",
     "text": [
      "100%|████████████████████████████████████████████████████████████████████████████████| 114/114 [00:30<00:00,  3.69it/s]\n",
      "17it [00:01,  8.95it/s]\n"
     ]
    },
    {
     "name": "stdout",
     "output_type": "stream",
     "text": [
      "Epoch: 099, Loss: 0.41124\n",
      "all: h@1: 0.07993 h@5: 0.20988 h@10: 0.31666 ndcg@1: 0.07993 ndcg@5: 0.14461 ndcg@10: 0.17877\n",
      "new: h@1: 0.03587 h@5: 0.12108 h@10: 0.20030 ndcg@1: 0.03587 ndcg@5: 0.07658 ndcg@10: 0.10189\n",
      "rep: h@1: 0.11031 h@5: 0.27113 h@10: 0.39691 ndcg@1: 0.11031 ndcg@5: 0.19154 ndcg@10: 0.23179\n",
      "ratio:  0.5918242830994509\n"
     ]
    },
    {
     "name": "stderr",
     "output_type": "stream",
     "text": [
      "100%|████████████████████████████████████████████████████████████████████████████████| 114/114 [00:30<00:00,  3.69it/s]\n",
      "17it [00:01,  8.94it/s]\n"
     ]
    },
    {
     "name": "stdout",
     "output_type": "stream",
     "text": [
      "Epoch: 100, Loss: 0.41194\n",
      "all: h@1: 0.08115 h@5: 0.20988 h@10: 0.31788 ndcg@1: 0.08115 ndcg@5: 0.14529 ndcg@10: 0.17986\n",
      "new: h@1: 0.03438 h@5: 0.12108 h@10: 0.20329 ndcg@1: 0.03438 ndcg@5: 0.07629 ndcg@10: 0.10250\n",
      "rep: h@1: 0.11340 h@5: 0.27113 h@10: 0.39691 ndcg@1: 0.11340 ndcg@5: 0.19288 ndcg@10: 0.23322\n",
      "ratio:  0.5918242830994509\n"
     ]
    },
    {
     "name": "stderr",
     "output_type": "stream",
     "text": [
      "100%|████████████████████████████████████████████████████████████████████████████████| 114/114 [00:28<00:00,  3.99it/s]\n",
      "17it [00:01,  8.65it/s]\n"
     ]
    },
    {
     "name": "stdout",
     "output_type": "stream",
     "text": [
      "Epoch: 101, Loss: 0.41350\n",
      "all: h@1: 0.07993 h@5: 0.20805 h@10: 0.31605 ndcg@1: 0.07993 ndcg@5: 0.14431 ndcg@10: 0.17896\n",
      "new: h@1: 0.03288 h@5: 0.12257 h@10: 0.20030 ndcg@1: 0.03288 ndcg@5: 0.07654 ndcg@10: 0.10135\n",
      "rep: h@1: 0.11237 h@5: 0.26701 h@10: 0.39588 ndcg@1: 0.11237 ndcg@5: 0.19105 ndcg@10: 0.23249\n",
      "ratio:  0.5918242830994509\n"
     ]
    },
    {
     "name": "stderr",
     "output_type": "stream",
     "text": [
      "100%|████████████████████████████████████████████████████████████████████████████████| 114/114 [00:30<00:00,  3.69it/s]\n",
      "17it [00:01,  8.91it/s]\n"
     ]
    },
    {
     "name": "stdout",
     "output_type": "stream",
     "text": [
      "Epoch: 102, Loss: 0.41533\n",
      "all: h@1: 0.07993 h@5: 0.20866 h@10: 0.31605 ndcg@1: 0.07993 ndcg@5: 0.14445 ndcg@10: 0.17883\n",
      "new: h@1: 0.03139 h@5: 0.12407 h@10: 0.19880 ndcg@1: 0.03139 ndcg@5: 0.07656 ndcg@10: 0.10039\n",
      "rep: h@1: 0.11340 h@5: 0.26701 h@10: 0.39691 ndcg@1: 0.11340 ndcg@5: 0.19127 ndcg@10: 0.23293\n",
      "ratio:  0.5918242830994509\n"
     ]
    },
    {
     "name": "stderr",
     "output_type": "stream",
     "text": [
      "100%|████████████████████████████████████████████████████████████████████████████████| 114/114 [00:30<00:00,  3.68it/s]\n",
      "17it [00:01,  8.86it/s]\n"
     ]
    },
    {
     "name": "stdout",
     "output_type": "stream",
     "text": [
      "Epoch: 103, Loss: 0.41616\n",
      "all: h@1: 0.08176 h@5: 0.20866 h@10: 0.31849 ndcg@1: 0.08176 ndcg@5: 0.14524 ndcg@10: 0.18032\n",
      "new: h@1: 0.03288 h@5: 0.12407 h@10: 0.20030 ndcg@1: 0.03288 ndcg@5: 0.07692 ndcg@10: 0.10114\n",
      "rep: h@1: 0.11546 h@5: 0.26701 h@10: 0.40000 ndcg@1: 0.11546 ndcg@5: 0.19237 ndcg@10: 0.23493\n",
      "ratio:  0.5918242830994509\n"
     ]
    },
    {
     "name": "stderr",
     "output_type": "stream",
     "text": [
      "100%|████████████████████████████████████████████████████████████████████████████████| 114/114 [00:30<00:00,  3.69it/s]\n",
      "17it [00:01,  8.73it/s]\n"
     ]
    },
    {
     "name": "stdout",
     "output_type": "stream",
     "text": [
      "Epoch: 104, Loss: 0.41701\n",
      "all: h@1: 0.08054 h@5: 0.20988 h@10: 0.31971 ndcg@1: 0.08054 ndcg@5: 0.14533 ndcg@10: 0.18029\n",
      "new: h@1: 0.03288 h@5: 0.12556 h@10: 0.19880 ndcg@1: 0.03288 ndcg@5: 0.07809 ndcg@10: 0.10132\n",
      "rep: h@1: 0.11340 h@5: 0.26804 h@10: 0.40309 ndcg@1: 0.11340 ndcg@5: 0.19170 ndcg@10: 0.23475\n",
      "ratio:  0.5918242830994509\n"
     ]
    },
    {
     "name": "stderr",
     "output_type": "stream",
     "text": [
      "100%|████████████████████████████████████████████████████████████████████████████████| 114/114 [00:28<00:00,  3.99it/s]\n",
      "17it [00:01, 10.65it/s]\n"
     ]
    },
    {
     "name": "stdout",
     "output_type": "stream",
     "text": [
      "Epoch: 105, Loss: 0.41745\n",
      "all: h@1: 0.07993 h@5: 0.21110 h@10: 0.31910 ndcg@1: 0.07993 ndcg@5: 0.14594 ndcg@10: 0.18034\n",
      "new: h@1: 0.02990 h@5: 0.12556 h@10: 0.20030 ndcg@1: 0.02990 ndcg@5: 0.07709 ndcg@10: 0.10091\n",
      "rep: h@1: 0.11443 h@5: 0.27010 h@10: 0.40103 ndcg@1: 0.11443 ndcg@5: 0.19342 ndcg@10: 0.23512\n",
      "ratio:  0.5918242830994509\n"
     ]
    },
    {
     "name": "stderr",
     "output_type": "stream",
     "text": [
      "100%|████████████████████████████████████████████████████████████████████████████████| 114/114 [00:27<00:00,  4.07it/s]\n",
      "17it [00:01, 10.02it/s]\n"
     ]
    },
    {
     "name": "stdout",
     "output_type": "stream",
     "text": [
      "Epoch: 106, Loss: 0.42018\n",
      "all: h@1: 0.08115 h@5: 0.21232 h@10: 0.31971 ndcg@1: 0.08115 ndcg@5: 0.14731 ndcg@10: 0.18151\n",
      "new: h@1: 0.03288 h@5: 0.12855 h@10: 0.20030 ndcg@1: 0.03288 ndcg@5: 0.07965 ndcg@10: 0.10257\n",
      "rep: h@1: 0.11443 h@5: 0.27010 h@10: 0.40206 ndcg@1: 0.11443 ndcg@5: 0.19397 ndcg@10: 0.23596\n",
      "ratio:  0.5918242830994509\n"
     ]
    },
    {
     "name": "stderr",
     "output_type": "stream",
     "text": [
      "100%|████████████████████████████████████████████████████████████████████████████████| 114/114 [00:30<00:00,  3.70it/s]\n",
      "17it [00:01,  9.00it/s]\n"
     ]
    },
    {
     "name": "stdout",
     "output_type": "stream",
     "text": [
      "Epoch: 107, Loss: 0.41985\n",
      "all: h@1: 0.08054 h@5: 0.21110 h@10: 0.32032 ndcg@1: 0.08054 ndcg@5: 0.14646 ndcg@10: 0.18131\n",
      "new: h@1: 0.03288 h@5: 0.12706 h@10: 0.20030 ndcg@1: 0.03288 ndcg@5: 0.07897 ndcg@10: 0.10250\n",
      "rep: h@1: 0.11340 h@5: 0.26907 h@10: 0.40309 ndcg@1: 0.11340 ndcg@5: 0.19301 ndcg@10: 0.23566\n",
      "ratio:  0.5918242830994509\n"
     ]
    },
    {
     "name": "stderr",
     "output_type": "stream",
     "text": [
      "100%|████████████████████████████████████████████████████████████████████████████████| 114/114 [00:30<00:00,  3.70it/s]\n",
      "17it [00:01,  8.76it/s]\n"
     ]
    },
    {
     "name": "stdout",
     "output_type": "stream",
     "text": [
      "Epoch: 108, Loss: 0.42161\n",
      "all: h@1: 0.07932 h@5: 0.21110 h@10: 0.31971 ndcg@1: 0.07932 ndcg@5: 0.14590 ndcg@10: 0.18054\n",
      "new: h@1: 0.02990 h@5: 0.12855 h@10: 0.19731 ndcg@1: 0.02990 ndcg@5: 0.07871 ndcg@10: 0.10075\n",
      "rep: h@1: 0.11340 h@5: 0.26804 h@10: 0.40412 ndcg@1: 0.11340 ndcg@5: 0.19224 ndcg@10: 0.23556\n",
      "ratio:  0.5918242830994509\n"
     ]
    },
    {
     "name": "stderr",
     "output_type": "stream",
     "text": [
      "100%|████████████████████████████████████████████████████████████████████████████████| 114/114 [00:30<00:00,  3.69it/s]\n",
      "17it [00:01,  8.85it/s]\n"
     ]
    },
    {
     "name": "stdout",
     "output_type": "stream",
     "text": [
      "Epoch: 109, Loss: 0.42139\n",
      "all: h@1: 0.07993 h@5: 0.21049 h@10: 0.31849 ndcg@1: 0.07993 ndcg@5: 0.14616 ndcg@10: 0.18067\n",
      "new: h@1: 0.03288 h@5: 0.12855 h@10: 0.19880 ndcg@1: 0.03288 ndcg@5: 0.07977 ndcg@10: 0.10227\n",
      "rep: h@1: 0.11237 h@5: 0.26701 h@10: 0.40103 ndcg@1: 0.11237 ndcg@5: 0.19195 ndcg@10: 0.23474\n",
      "ratio:  0.5918242830994509\n"
     ]
    },
    {
     "name": "stderr",
     "output_type": "stream",
     "text": [
      "100%|████████████████████████████████████████████████████████████████████████████████| 114/114 [00:30<00:00,  3.70it/s]\n",
      "17it [00:01,  8.77it/s]\n"
     ]
    },
    {
     "name": "stdout",
     "output_type": "stream",
     "text": [
      "Epoch: 110, Loss: 0.42267\n",
      "all: h@1: 0.07932 h@5: 0.21232 h@10: 0.31483 ndcg@1: 0.07932 ndcg@5: 0.14642 ndcg@10: 0.17937\n",
      "new: h@1: 0.03288 h@5: 0.13154 h@10: 0.19581 ndcg@1: 0.03288 ndcg@5: 0.08077 ndcg@10: 0.10145\n",
      "rep: h@1: 0.11134 h@5: 0.26804 h@10: 0.39691 ndcg@1: 0.11134 ndcg@5: 0.19170 ndcg@10: 0.23312\n",
      "ratio:  0.5918242830994509\n"
     ]
    },
    {
     "name": "stderr",
     "output_type": "stream",
     "text": [
      "100%|████████████████████████████████████████████████████████████████████████████████| 114/114 [00:30<00:00,  3.70it/s]\n",
      "17it [00:01,  8.76it/s]\n"
     ]
    },
    {
     "name": "stdout",
     "output_type": "stream",
     "text": [
      "Epoch: 111, Loss: 0.42381\n",
      "all: h@1: 0.07688 h@5: 0.21293 h@10: 0.31666 ndcg@1: 0.07688 ndcg@5: 0.14551 ndcg@10: 0.17888\n",
      "new: h@1: 0.02990 h@5: 0.13154 h@10: 0.20179 ndcg@1: 0.02990 ndcg@5: 0.07963 ndcg@10: 0.10216\n",
      "rep: h@1: 0.10928 h@5: 0.26907 h@10: 0.39588 ndcg@1: 0.10928 ndcg@5: 0.19095 ndcg@10: 0.23179\n",
      "ratio:  0.5918242830994509\n"
     ]
    },
    {
     "name": "stderr",
     "output_type": "stream",
     "text": [
      "100%|████████████████████████████████████████████████████████████████████████████████| 114/114 [00:30<00:00,  3.70it/s]\n",
      "17it [00:01,  8.74it/s]\n"
     ]
    },
    {
     "name": "stdout",
     "output_type": "stream",
     "text": [
      "Epoch: 112, Loss: 0.42423\n",
      "all: h@1: 0.07810 h@5: 0.21354 h@10: 0.31544 ndcg@1: 0.07810 ndcg@5: 0.14634 ndcg@10: 0.17912\n",
      "new: h@1: 0.02840 h@5: 0.13154 h@10: 0.20179 ndcg@1: 0.02840 ndcg@5: 0.07925 ndcg@10: 0.10189\n",
      "rep: h@1: 0.11237 h@5: 0.27010 h@10: 0.39381 ndcg@1: 0.11237 ndcg@5: 0.19260 ndcg@10: 0.23239\n",
      "ratio:  0.5918242830994509\n"
     ]
    },
    {
     "name": "stderr",
     "output_type": "stream",
     "text": [
      "100%|████████████████████████████████████████████████████████████████████████████████| 114/114 [00:30<00:00,  3.70it/s]\n",
      "17it [00:01,  8.75it/s]\n"
     ]
    },
    {
     "name": "stdout",
     "output_type": "stream",
     "text": [
      "Epoch: 113, Loss: 0.42520\n",
      "all: h@1: 0.07627 h@5: 0.21049 h@10: 0.31605 ndcg@1: 0.07627 ndcg@5: 0.14441 ndcg@10: 0.17853\n",
      "new: h@1: 0.02990 h@5: 0.13004 h@10: 0.20030 ndcg@1: 0.02990 ndcg@5: 0.07886 ndcg@10: 0.10165\n",
      "rep: h@1: 0.10825 h@5: 0.26598 h@10: 0.39588 ndcg@1: 0.10825 ndcg@5: 0.18962 ndcg@10: 0.23155\n",
      "ratio:  0.5918242830994509\n"
     ]
    },
    {
     "name": "stderr",
     "output_type": "stream",
     "text": [
      "100%|████████████████████████████████████████████████████████████████████████████████| 114/114 [00:30<00:00,  3.70it/s]\n",
      "17it [00:01,  8.84it/s]\n"
     ]
    },
    {
     "name": "stdout",
     "output_type": "stream",
     "text": [
      "Epoch: 114, Loss: 0.42688\n",
      "all: h@1: 0.07993 h@5: 0.21110 h@10: 0.31666 ndcg@1: 0.07993 ndcg@5: 0.14615 ndcg@10: 0.18030\n",
      "new: h@1: 0.03139 h@5: 0.13154 h@10: 0.20179 ndcg@1: 0.03139 ndcg@5: 0.08019 ndcg@10: 0.10293\n",
      "rep: h@1: 0.11340 h@5: 0.26598 h@10: 0.39588 ndcg@1: 0.11340 ndcg@5: 0.19164 ndcg@10: 0.23365\n",
      "ratio:  0.5918242830994509\n"
     ]
    },
    {
     "name": "stderr",
     "output_type": "stream",
     "text": [
      "100%|████████████████████████████████████████████████████████████████████████████████| 114/114 [00:30<00:00,  3.70it/s]\n",
      "17it [00:01,  8.85it/s]\n"
     ]
    },
    {
     "name": "stdout",
     "output_type": "stream",
     "text": [
      "Epoch: 115, Loss: 0.42786\n",
      "all: h@1: 0.07932 h@5: 0.21354 h@10: 0.31788 ndcg@1: 0.07932 ndcg@5: 0.14717 ndcg@10: 0.18077\n",
      "new: h@1: 0.03139 h@5: 0.13303 h@10: 0.20478 ndcg@1: 0.03139 ndcg@5: 0.08147 ndcg@10: 0.10457\n",
      "rep: h@1: 0.11237 h@5: 0.26907 h@10: 0.39588 ndcg@1: 0.11237 ndcg@5: 0.19248 ndcg@10: 0.23332\n",
      "ratio:  0.5918242830994509\n"
     ]
    },
    {
     "name": "stderr",
     "output_type": "stream",
     "text": [
      "100%|████████████████████████████████████████████████████████████████████████████████| 114/114 [00:30<00:00,  3.70it/s]\n",
      "17it [00:01,  8.85it/s]\n"
     ]
    },
    {
     "name": "stdout",
     "output_type": "stream",
     "text": [
      "Epoch: 116, Loss: 0.42694\n",
      "all: h@1: 0.07871 h@5: 0.21538 h@10: 0.31727 ndcg@1: 0.07871 ndcg@5: 0.14762 ndcg@10: 0.18038\n",
      "new: h@1: 0.03139 h@5: 0.13453 h@10: 0.20329 ndcg@1: 0.03139 ndcg@5: 0.08162 ndcg@10: 0.10373\n",
      "rep: h@1: 0.11134 h@5: 0.27113 h@10: 0.39588 ndcg@1: 0.11134 ndcg@5: 0.19315 ndcg@10: 0.23324\n",
      "ratio:  0.5918242830994509\n"
     ]
    },
    {
     "name": "stderr",
     "output_type": "stream",
     "text": [
      "100%|████████████████████████████████████████████████████████████████████████████████| 114/114 [00:30<00:00,  3.69it/s]\n",
      "17it [00:01,  8.89it/s]\n"
     ]
    },
    {
     "name": "stdout",
     "output_type": "stream",
     "text": [
      "Epoch: 117, Loss: 0.42802\n",
      "all: h@1: 0.07993 h@5: 0.21538 h@10: 0.31788 ndcg@1: 0.07993 ndcg@5: 0.14794 ndcg@10: 0.18093\n",
      "new: h@1: 0.03139 h@5: 0.13453 h@10: 0.20478 ndcg@1: 0.03139 ndcg@5: 0.08156 ndcg@10: 0.10421\n",
      "rep: h@1: 0.11340 h@5: 0.27113 h@10: 0.39588 ndcg@1: 0.11340 ndcg@5: 0.19372 ndcg@10: 0.23384\n",
      "ratio:  0.5918242830994509\n"
     ]
    },
    {
     "name": "stderr",
     "output_type": "stream",
     "text": [
      "100%|████████████████████████████████████████████████████████████████████████████████| 114/114 [00:30<00:00,  3.70it/s]\n",
      "17it [00:01,  8.87it/s]\n"
     ]
    },
    {
     "name": "stdout",
     "output_type": "stream",
     "text": [
      "Epoch: 118, Loss: 0.42797\n",
      "all: h@1: 0.08054 h@5: 0.21599 h@10: 0.31971 ndcg@1: 0.08054 ndcg@5: 0.14819 ndcg@10: 0.18151\n",
      "new: h@1: 0.02990 h@5: 0.13453 h@10: 0.20777 ndcg@1: 0.02990 ndcg@5: 0.08140 ndcg@10: 0.10487\n",
      "rep: h@1: 0.11546 h@5: 0.27216 h@10: 0.39691 ndcg@1: 0.11546 ndcg@5: 0.19426 ndcg@10: 0.23436\n",
      "ratio:  0.5918242830994509\n"
     ]
    },
    {
     "name": "stderr",
     "output_type": "stream",
     "text": [
      "24it [00:02,  8.84it/s]"
     ]
    },
    {
     "name": "stdout",
     "output_type": "stream",
     "text": [
      "Final score\n",
      "===========\n",
      "Epoch: 118, Loss: 0.42797\n",
      "all: h@1: 0.08485 h@5: 0.21824 h@10: 0.31406 ndcg@1: 0.08485 ndcg@5: 0.15253 ndcg@10: 0.18340\n",
      "new: h@1: 0.03060 h@5: 0.12607 h@10: 0.19584 ndcg@1: 0.03060 ndcg@5: 0.08027 ndcg@10: 0.10280\n",
      "rep: h@1: 0.11340 h@5: 0.26675 h@10: 0.37629 ndcg@1: 0.11340 ndcg@5: 0.19057 ndcg@10: 0.22583\n",
      "ratio:  0.6551287463064585\n"
     ]
    },
    {
     "name": "stderr",
     "output_type": "stream",
     "text": [
      "\n"
     ]
    }
   ],
   "source": [
    "print(\"training...\")\n",
    "for epoch in range(args.num_epochs):\n",
    "    loss_all = 0.0; loss_cnt = 0\n",
    "    model3.train()\n",
    "    for data in tqdm(train_loader):\n",
    "        data = data.to(args.device)\n",
    "        optimizer.zero_grad()\n",
    "    \n",
    "        loss = model3.train_step(data)\n",
    "            \n",
    "        loss_all += loss.item()\n",
    "        loss_cnt += (data[:,:,5]!=0).sum()\n",
    "            \n",
    "        loss.backward()\n",
    "        optimizer.step()\n",
    "            \n",
    "        if torch.isnan(loss):\n",
    "            print(\"loss is nan !\") \n",
    "    \n",
    "    scores = compute_recall(model3, val_loader, args, maxit=500)\n",
    "    print('Epoch: {:03d}, Loss: {:.5f}'.format(epoch, loss_all/loss_cnt))\n",
    "    print_scores(scores)\n",
    "    \n",
    "    hall = scores['all']['h01']\n",
    "    if hall>best_val:\n",
    "        best_val = hall\n",
    "        torch.save(model3.state_dict(), MPATH)\n",
    "        best_cnt = best_max\n",
    "    else:\n",
    "        best_cnt -= 1\n",
    "        if best_cnt == 0:\n",
    "            break\n",
    "    \n",
    "model3 = MODEL3(args).to(args.device)\n",
    "model3.load_state_dict(torch.load(MPATH))\n",
    "    \n",
    "scores = compute_recall(model3, test_loader, args)\n",
    "print(\"Final score\")\n",
    "print(\"=\"*11)\n",
    "print('Epoch: {:03d}, Loss: {:.5f}'.format(epoch, loss_all/loss_cnt))\n",
    "print_scores(scores)\n",
    "save_scores(scores,args)"
   ]
  },
  {
   "cell_type": "code",
   "execution_count": null,
   "id": "31a32b52",
   "metadata": {},
   "outputs": [],
   "source": []
  },
  {
   "cell_type": "code",
   "execution_count": 31,
   "id": "523645d8",
   "metadata": {},
   "outputs": [],
   "source": [
    "args.model='FPMC'\n",
    "MPATH,MODEL4 = get_model_type(args)\n",
    "model4 = MODEL4(args).to(args.device)\n",
    "optimizer = optim.Adam(model4.parameters(),lr=args.lr,weight_decay=args.l2)\n",
    "best_val = 0.0\n",
    "best_max = args.early_stop\n",
    "best_cnt = best_max"
   ]
  },
  {
   "cell_type": "code",
   "execution_count": 32,
   "id": "101435e8",
   "metadata": {
    "scrolled": false
   },
   "outputs": [
    {
     "name": "stdout",
     "output_type": "stream",
     "text": [
      "training...\n"
     ]
    },
    {
     "name": "stderr",
     "output_type": "stream",
     "text": [
      "100%|████████████████████████████████████████████████████████████████████████████████| 114/114 [00:25<00:00,  4.49it/s]\n",
      "17it [00:05,  2.92it/s]\n"
     ]
    },
    {
     "name": "stdout",
     "output_type": "stream",
     "text": [
      "Epoch: 000, Loss: 6.06308\n",
      "all: h@1: 0.00671 h@5: 0.02929 h@10: 0.06040 ndcg@1: 0.00671 ndcg@5: 0.01850 ndcg@10: 0.02834\n",
      "new: h@1: 0.00598 h@5: 0.02392 h@10: 0.05082 ndcg@1: 0.00598 ndcg@5: 0.01545 ndcg@10: 0.02399\n",
      "rep: h@1: 0.00722 h@5: 0.03299 h@10: 0.06701 ndcg@1: 0.00722 ndcg@5: 0.02060 ndcg@10: 0.03133\n",
      "ratio:  0.5918242830994509\n"
     ]
    },
    {
     "name": "stderr",
     "output_type": "stream",
     "text": [
      "100%|████████████████████████████████████████████████████████████████████████████████| 114/114 [00:28<00:00,  4.00it/s]\n",
      "17it [00:05,  3.32it/s]\n"
     ]
    },
    {
     "name": "stdout",
     "output_type": "stream",
     "text": [
      "Epoch: 001, Loss: 5.61099\n",
      "all: h@1: 0.00732 h@5: 0.03295 h@10: 0.06833 ndcg@1: 0.00732 ndcg@5: 0.02049 ndcg@10: 0.03159\n",
      "new: h@1: 0.00598 h@5: 0.02392 h@10: 0.05232 ndcg@1: 0.00598 ndcg@5: 0.01545 ndcg@10: 0.02446\n",
      "rep: h@1: 0.00825 h@5: 0.03918 h@10: 0.07938 ndcg@1: 0.00825 ndcg@5: 0.02397 ndcg@10: 0.03651\n",
      "ratio:  0.5918242830994509\n"
     ]
    },
    {
     "name": "stderr",
     "output_type": "stream",
     "text": [
      "100%|████████████████████████████████████████████████████████████████████████████████| 114/114 [00:27<00:00,  4.10it/s]\n",
      "17it [00:05,  3.23it/s]\n"
     ]
    },
    {
     "name": "stdout",
     "output_type": "stream",
     "text": [
      "Epoch: 002, Loss: 5.25910\n",
      "all: h@1: 0.00732 h@5: 0.03417 h@10: 0.07383 ndcg@1: 0.00732 ndcg@5: 0.02130 ndcg@10: 0.03390\n",
      "new: h@1: 0.00598 h@5: 0.02392 h@10: 0.05232 ndcg@1: 0.00598 ndcg@5: 0.01505 ndcg@10: 0.02414\n",
      "rep: h@1: 0.00825 h@5: 0.04124 h@10: 0.08866 ndcg@1: 0.00825 ndcg@5: 0.02560 ndcg@10: 0.04064\n",
      "ratio:  0.5918242830994509\n"
     ]
    },
    {
     "name": "stderr",
     "output_type": "stream",
     "text": [
      "100%|████████████████████████████████████████████████████████████████████████████████| 114/114 [00:28<00:00,  3.97it/s]\n",
      "17it [00:05,  3.12it/s]\n"
     ]
    },
    {
     "name": "stdout",
     "output_type": "stream",
     "text": [
      "Epoch: 003, Loss: 4.93195\n",
      "all: h@1: 0.01037 h@5: 0.03905 h@10: 0.07932 ndcg@1: 0.01037 ndcg@5: 0.02504 ndcg@10: 0.03793\n",
      "new: h@1: 0.00598 h@5: 0.02541 h@10: 0.05232 ndcg@1: 0.00598 ndcg@5: 0.01557 ndcg@10: 0.02415\n",
      "rep: h@1: 0.01340 h@5: 0.04845 h@10: 0.09794 ndcg@1: 0.01340 ndcg@5: 0.03158 ndcg@10: 0.04743\n",
      "ratio:  0.5918242830994509\n"
     ]
    },
    {
     "name": "stderr",
     "output_type": "stream",
     "text": [
      "100%|████████████████████████████████████████████████████████████████████████████████| 114/114 [00:27<00:00,  4.18it/s]\n",
      "17it [00:05,  3.06it/s]\n"
     ]
    },
    {
     "name": "stdout",
     "output_type": "stream",
     "text": [
      "Epoch: 004, Loss: 4.63214\n",
      "all: h@1: 0.01220 h@5: 0.04454 h@10: 0.08542 ndcg@1: 0.01220 ndcg@5: 0.02840 ndcg@10: 0.04147\n",
      "new: h@1: 0.00598 h@5: 0.02392 h@10: 0.05082 ndcg@1: 0.00598 ndcg@5: 0.01499 ndcg@10: 0.02369\n",
      "rep: h@1: 0.01649 h@5: 0.05876 h@10: 0.10928 ndcg@1: 0.01649 ndcg@5: 0.03766 ndcg@10: 0.05374\n",
      "ratio:  0.5918242830994509\n"
     ]
    },
    {
     "name": "stderr",
     "output_type": "stream",
     "text": [
      "100%|████████████████████████████████████████████████████████████████████████████████| 114/114 [00:27<00:00,  4.19it/s]\n",
      "17it [00:05,  2.94it/s]\n"
     ]
    },
    {
     "name": "stdout",
     "output_type": "stream",
     "text": [
      "Epoch: 005, Loss: 4.36971\n",
      "all: h@1: 0.01220 h@5: 0.04698 h@10: 0.09335 ndcg@1: 0.01220 ndcg@5: 0.03001 ndcg@10: 0.04486\n",
      "new: h@1: 0.00598 h@5: 0.02541 h@10: 0.04933 ndcg@1: 0.00598 ndcg@5: 0.01550 ndcg@10: 0.02326\n",
      "rep: h@1: 0.01649 h@5: 0.06186 h@10: 0.12371 ndcg@1: 0.01649 ndcg@5: 0.04001 ndcg@10: 0.05976\n",
      "ratio:  0.5918242830994509\n"
     ]
    },
    {
     "name": "stderr",
     "output_type": "stream",
     "text": [
      "100%|████████████████████████████████████████████████████████████████████████████████| 114/114 [00:25<00:00,  4.46it/s]\n",
      "17it [00:05,  3.11it/s]\n"
     ]
    },
    {
     "name": "stdout",
     "output_type": "stream",
     "text": [
      "Epoch: 006, Loss: 4.16900\n",
      "all: h@1: 0.01220 h@5: 0.05186 h@10: 0.10189 ndcg@1: 0.01220 ndcg@5: 0.03286 ndcg@10: 0.04899\n",
      "new: h@1: 0.00448 h@5: 0.02691 h@10: 0.05082 ndcg@1: 0.00448 ndcg@5: 0.01575 ndcg@10: 0.02341\n",
      "rep: h@1: 0.01753 h@5: 0.06907 h@10: 0.13711 ndcg@1: 0.01753 ndcg@5: 0.04467 ndcg@10: 0.06663\n",
      "ratio:  0.5918242830994509\n"
     ]
    },
    {
     "name": "stderr",
     "output_type": "stream",
     "text": [
      "100%|████████████████████████████████████████████████████████████████████████████████| 114/114 [00:28<00:00,  3.95it/s]\n",
      "17it [00:05,  3.11it/s]\n"
     ]
    },
    {
     "name": "stdout",
     "output_type": "stream",
     "text": [
      "Epoch: 007, Loss: 3.95886\n",
      "all: h@1: 0.01708 h@5: 0.05857 h@10: 0.10921 ndcg@1: 0.01708 ndcg@5: 0.03775 ndcg@10: 0.05416\n",
      "new: h@1: 0.00448 h@5: 0.02691 h@10: 0.05232 ndcg@1: 0.00448 ndcg@5: 0.01575 ndcg@10: 0.02383\n",
      "rep: h@1: 0.02577 h@5: 0.08041 h@10: 0.14845 ndcg@1: 0.02577 ndcg@5: 0.05292 ndcg@10: 0.07509\n",
      "ratio:  0.5918242830994509\n"
     ]
    },
    {
     "name": "stderr",
     "output_type": "stream",
     "text": [
      "100%|████████████████████████████████████████████████████████████████████████████████| 114/114 [00:28<00:00,  4.05it/s]\n",
      "17it [00:05,  3.23it/s]\n"
     ]
    },
    {
     "name": "stdout",
     "output_type": "stream",
     "text": [
      "Epoch: 008, Loss: 3.75285\n",
      "all: h@1: 0.02135 h@5: 0.06589 h@10: 0.11409 ndcg@1: 0.02135 ndcg@5: 0.04294 ndcg@10: 0.05860\n",
      "new: h@1: 0.00448 h@5: 0.02541 h@10: 0.04933 ndcg@1: 0.00448 ndcg@5: 0.01507 ndcg@10: 0.02276\n",
      "rep: h@1: 0.03299 h@5: 0.09381 h@10: 0.15876 ndcg@1: 0.03299 ndcg@5: 0.06215 ndcg@10: 0.08331\n",
      "ratio:  0.5918242830994509\n"
     ]
    },
    {
     "name": "stderr",
     "output_type": "stream",
     "text": [
      "100%|████████████████████████████████████████████████████████████████████████████████| 114/114 [00:27<00:00,  4.13it/s]\n",
      "17it [00:06,  2.80it/s]\n"
     ]
    },
    {
     "name": "stdout",
     "output_type": "stream",
     "text": [
      "Epoch: 009, Loss: 3.57757\n",
      "all: h@1: 0.02318 h@5: 0.07383 h@10: 0.12203 ndcg@1: 0.02318 ndcg@5: 0.04799 ndcg@10: 0.06356\n",
      "new: h@1: 0.00448 h@5: 0.02541 h@10: 0.05232 ndcg@1: 0.00448 ndcg@5: 0.01494 ndcg@10: 0.02353\n",
      "rep: h@1: 0.03608 h@5: 0.10722 h@10: 0.17010 ndcg@1: 0.03608 ndcg@5: 0.07079 ndcg@10: 0.09117\n",
      "ratio:  0.5918242830994509\n"
     ]
    },
    {
     "name": "stderr",
     "output_type": "stream",
     "text": [
      "100%|████████████████████████████████████████████████████████████████████████████████| 114/114 [00:30<00:00,  3.73it/s]\n",
      "17it [00:06,  2.76it/s]\n"
     ]
    },
    {
     "name": "stdout",
     "output_type": "stream",
     "text": [
      "Epoch: 010, Loss: 3.40217\n",
      "all: h@1: 0.02624 h@5: 0.08054 h@10: 0.12996 ndcg@1: 0.02624 ndcg@5: 0.05264 ndcg@10: 0.06838\n",
      "new: h@1: 0.00448 h@5: 0.02392 h@10: 0.05232 ndcg@1: 0.00448 ndcg@5: 0.01436 ndcg@10: 0.02347\n",
      "rep: h@1: 0.04124 h@5: 0.11959 h@10: 0.18351 ndcg@1: 0.04124 ndcg@5: 0.07904 ndcg@10: 0.09936\n",
      "ratio:  0.5918242830994509\n"
     ]
    },
    {
     "name": "stderr",
     "output_type": "stream",
     "text": [
      "100%|████████████████████████████████████████████████████████████████████████████████| 114/114 [00:25<00:00,  4.53it/s]\n",
      "17it [00:05,  2.86it/s]\n"
     ]
    },
    {
     "name": "stdout",
     "output_type": "stream",
     "text": [
      "Epoch: 011, Loss: 3.23544\n",
      "all: h@1: 0.02746 h@5: 0.08542 h@10: 0.13789 ndcg@1: 0.02746 ndcg@5: 0.05648 ndcg@10: 0.07314\n",
      "new: h@1: 0.00448 h@5: 0.02541 h@10: 0.05232 ndcg@1: 0.00448 ndcg@5: 0.01511 ndcg@10: 0.02371\n",
      "rep: h@1: 0.04330 h@5: 0.12680 h@10: 0.19691 ndcg@1: 0.04330 ndcg@5: 0.08502 ndcg@10: 0.10723\n",
      "ratio:  0.5918242830994509\n"
     ]
    },
    {
     "name": "stderr",
     "output_type": "stream",
     "text": [
      "100%|████████████████████████████████████████████████████████████████████████████████| 114/114 [00:23<00:00,  4.83it/s]\n",
      "17it [00:05,  3.11it/s]\n"
     ]
    },
    {
     "name": "stdout",
     "output_type": "stream",
     "text": [
      "Epoch: 012, Loss: 3.09543\n",
      "all: h@1: 0.03112 h@5: 0.08908 h@10: 0.14582 ndcg@1: 0.03112 ndcg@5: 0.06074 ndcg@10: 0.07893\n",
      "new: h@1: 0.00448 h@5: 0.02541 h@10: 0.05232 ndcg@1: 0.00448 ndcg@5: 0.01528 ndcg@10: 0.02394\n",
      "rep: h@1: 0.04948 h@5: 0.13299 h@10: 0.21031 ndcg@1: 0.04948 ndcg@5: 0.09210 ndcg@10: 0.11685\n",
      "ratio:  0.5918242830994509\n"
     ]
    },
    {
     "name": "stderr",
     "output_type": "stream",
     "text": [
      "100%|████████████████████████████████████████████████████████████████████████████████| 114/114 [00:30<00:00,  3.78it/s]\n",
      "17it [00:05,  2.83it/s]\n"
     ]
    },
    {
     "name": "stdout",
     "output_type": "stream",
     "text": [
      "Epoch: 013, Loss: 2.92068\n",
      "all: h@1: 0.03478 h@5: 0.09518 h@10: 0.15253 ndcg@1: 0.03478 ndcg@5: 0.06583 ndcg@10: 0.08430\n",
      "new: h@1: 0.00299 h@5: 0.02541 h@10: 0.05531 ndcg@1: 0.00299 ndcg@5: 0.01449 ndcg@10: 0.02404\n",
      "rep: h@1: 0.05670 h@5: 0.14330 h@10: 0.21959 ndcg@1: 0.05670 ndcg@5: 0.10124 ndcg@10: 0.12585\n",
      "ratio:  0.5918242830994509\n"
     ]
    },
    {
     "name": "stderr",
     "output_type": "stream",
     "text": [
      "100%|████████████████████████████████████████████████████████████████████████████████| 114/114 [00:30<00:00,  3.74it/s]\n",
      "17it [00:05,  2.96it/s]\n"
     ]
    },
    {
     "name": "stdout",
     "output_type": "stream",
     "text": [
      "Epoch: 014, Loss: 2.81090\n",
      "all: h@1: 0.03844 h@5: 0.10006 h@10: 0.15863 ndcg@1: 0.03844 ndcg@5: 0.07008 ndcg@10: 0.08895\n",
      "new: h@1: 0.00299 h@5: 0.02691 h@10: 0.05232 ndcg@1: 0.00299 ndcg@5: 0.01517 ndcg@10: 0.02323\n",
      "rep: h@1: 0.06289 h@5: 0.15052 h@10: 0.23196 ndcg@1: 0.06289 ndcg@5: 0.10795 ndcg@10: 0.13428\n",
      "ratio:  0.5918242830994509\n"
     ]
    },
    {
     "name": "stderr",
     "output_type": "stream",
     "text": [
      "100%|████████████████████████████████████████████████████████████████████████████████| 114/114 [00:30<00:00,  3.73it/s]\n",
      "17it [00:05,  3.38it/s]\n"
     ]
    },
    {
     "name": "stdout",
     "output_type": "stream",
     "text": [
      "Epoch: 015, Loss: 2.65825\n",
      "all: h@1: 0.04332 h@5: 0.10555 h@10: 0.16229 ndcg@1: 0.04332 ndcg@5: 0.07444 ndcg@10: 0.09274\n",
      "new: h@1: 0.00299 h@5: 0.02691 h@10: 0.05531 ndcg@1: 0.00299 ndcg@5: 0.01508 ndcg@10: 0.02399\n",
      "rep: h@1: 0.07113 h@5: 0.15979 h@10: 0.23608 ndcg@1: 0.07113 ndcg@5: 0.11537 ndcg@10: 0.14016\n",
      "ratio:  0.5918242830994509\n"
     ]
    },
    {
     "name": "stderr",
     "output_type": "stream",
     "text": [
      "100%|████████████████████████████████████████████████████████████████████████████████| 114/114 [00:30<00:00,  3.74it/s]\n",
      "17it [00:05,  3.28it/s]\n"
     ]
    },
    {
     "name": "stdout",
     "output_type": "stream",
     "text": [
      "Epoch: 016, Loss: 2.54783\n",
      "all: h@1: 0.04881 h@5: 0.11165 h@10: 0.17023 ndcg@1: 0.04881 ndcg@5: 0.08008 ndcg@10: 0.09891\n",
      "new: h@1: 0.00448 h@5: 0.02691 h@10: 0.05531 ndcg@1: 0.00448 ndcg@5: 0.01563 ndcg@10: 0.02468\n",
      "rep: h@1: 0.07938 h@5: 0.17010 h@10: 0.24948 ndcg@1: 0.07938 ndcg@5: 0.12454 ndcg@10: 0.15011\n",
      "ratio:  0.5918242830994509\n"
     ]
    },
    {
     "name": "stderr",
     "output_type": "stream",
     "text": [
      "100%|████████████████████████████████████████████████████████████████████████████████| 114/114 [00:30<00:00,  3.73it/s]\n",
      "17it [00:05,  3.17it/s]\n"
     ]
    },
    {
     "name": "stdout",
     "output_type": "stream",
     "text": [
      "Epoch: 017, Loss: 2.44082\n",
      "all: h@1: 0.05125 h@5: 0.11775 h@10: 0.17755 ndcg@1: 0.05125 ndcg@5: 0.08489 ndcg@10: 0.10421\n",
      "new: h@1: 0.00448 h@5: 0.02990 h@10: 0.05830 ndcg@1: 0.00448 ndcg@5: 0.01699 ndcg@10: 0.02593\n",
      "rep: h@1: 0.08351 h@5: 0.17835 h@10: 0.25979 ndcg@1: 0.08351 ndcg@5: 0.13173 ndcg@10: 0.15820\n",
      "ratio:  0.5918242830994509\n"
     ]
    },
    {
     "name": "stderr",
     "output_type": "stream",
     "text": [
      "100%|████████████████████████████████████████████████████████████████████████████████| 114/114 [00:30<00:00,  3.79it/s]\n",
      "17it [00:06,  2.81it/s]\n"
     ]
    },
    {
     "name": "stdout",
     "output_type": "stream",
     "text": [
      "Epoch: 018, Loss: 2.31981\n",
      "all: h@1: 0.05430 h@5: 0.12447 h@10: 0.18304 ndcg@1: 0.05430 ndcg@5: 0.08951 ndcg@10: 0.10849\n",
      "new: h@1: 0.00448 h@5: 0.03139 h@10: 0.05979 ndcg@1: 0.00448 ndcg@5: 0.01746 ndcg@10: 0.02642\n",
      "rep: h@1: 0.08866 h@5: 0.18866 h@10: 0.26804 ndcg@1: 0.08866 ndcg@5: 0.13921 ndcg@10: 0.16509\n",
      "ratio:  0.5918242830994509\n"
     ]
    },
    {
     "name": "stderr",
     "output_type": "stream",
     "text": [
      "100%|████████████████████████████████████████████████████████████████████████████████| 114/114 [00:30<00:00,  3.75it/s]\n",
      "17it [00:04,  3.45it/s]\n"
     ]
    },
    {
     "name": "stdout",
     "output_type": "stream",
     "text": [
      "Epoch: 019, Loss: 2.20466\n",
      "all: h@1: 0.05613 h@5: 0.12935 h@10: 0.19036 ndcg@1: 0.05613 ndcg@5: 0.09297 ndcg@10: 0.11272\n",
      "new: h@1: 0.00448 h@5: 0.03288 h@10: 0.06129 ndcg@1: 0.00448 ndcg@5: 0.01775 ndcg@10: 0.02670\n",
      "rep: h@1: 0.09175 h@5: 0.19588 h@10: 0.27938 ndcg@1: 0.09175 ndcg@5: 0.14484 ndcg@10: 0.17205\n",
      "ratio:  0.5918242830994509\n"
     ]
    },
    {
     "name": "stderr",
     "output_type": "stream",
     "text": [
      "100%|████████████████████████████████████████████████████████████████████████████████| 114/114 [00:30<00:00,  3.78it/s]\n",
      "17it [00:06,  2.82it/s]\n"
     ]
    },
    {
     "name": "stdout",
     "output_type": "stream",
     "text": [
      "Epoch: 020, Loss: 2.10949\n",
      "all: h@1: 0.05735 h@5: 0.13484 h@10: 0.19829 ndcg@1: 0.05735 ndcg@5: 0.09656 ndcg@10: 0.11706\n",
      "new: h@1: 0.00448 h@5: 0.03139 h@10: 0.06278 ndcg@1: 0.00448 ndcg@5: 0.01750 ndcg@10: 0.02745\n",
      "rep: h@1: 0.09381 h@5: 0.20619 h@10: 0.29175 ndcg@1: 0.09381 ndcg@5: 0.15108 ndcg@10: 0.17886\n",
      "ratio:  0.5918242830994509\n"
     ]
    },
    {
     "name": "stderr",
     "output_type": "stream",
     "text": [
      "100%|████████████████████████████████████████████████████████████████████████████████| 114/114 [00:30<00:00,  3.76it/s]\n",
      "17it [00:05,  2.93it/s]\n"
     ]
    },
    {
     "name": "stdout",
     "output_type": "stream",
     "text": [
      "Epoch: 021, Loss: 2.00431\n",
      "all: h@1: 0.05857 h@5: 0.14155 h@10: 0.20500 ndcg@1: 0.05857 ndcg@5: 0.10058 ndcg@10: 0.12112\n",
      "new: h@1: 0.00448 h@5: 0.03139 h@10: 0.06726 ndcg@1: 0.00448 ndcg@5: 0.01740 ndcg@10: 0.02887\n",
      "rep: h@1: 0.09588 h@5: 0.21753 h@10: 0.30000 ndcg@1: 0.09588 ndcg@5: 0.15795 ndcg@10: 0.18474\n",
      "ratio:  0.5918242830994509\n"
     ]
    },
    {
     "name": "stderr",
     "output_type": "stream",
     "text": [
      "100%|████████████████████████████████████████████████████████████████████████████████| 114/114 [00:30<00:00,  3.78it/s]\n",
      "17it [00:05,  2.97it/s]\n"
     ]
    },
    {
     "name": "stdout",
     "output_type": "stream",
     "text": [
      "Epoch: 022, Loss: 1.91610\n",
      "all: h@1: 0.06284 h@5: 0.14155 h@10: 0.20988 ndcg@1: 0.06284 ndcg@5: 0.10282 ndcg@10: 0.12517\n",
      "new: h@1: 0.00448 h@5: 0.02990 h@10: 0.06726 ndcg@1: 0.00448 ndcg@5: 0.01713 ndcg@10: 0.02929\n",
      "rep: h@1: 0.10309 h@5: 0.21856 h@10: 0.30825 ndcg@1: 0.10309 ndcg@5: 0.16191 ndcg@10: 0.19130\n",
      "ratio:  0.5918242830994509\n"
     ]
    },
    {
     "name": "stderr",
     "output_type": "stream",
     "text": [
      "100%|████████████████████████████████████████████████████████████████████████████████| 114/114 [00:28<00:00,  3.96it/s]\n",
      "17it [00:06,  2.78it/s]\n"
     ]
    },
    {
     "name": "stdout",
     "output_type": "stream",
     "text": [
      "Epoch: 023, Loss: 1.82811\n",
      "all: h@1: 0.06406 h@5: 0.14582 h@10: 0.21354 ndcg@1: 0.06406 ndcg@5: 0.10607 ndcg@10: 0.12831\n",
      "new: h@1: 0.00448 h@5: 0.02990 h@10: 0.06876 ndcg@1: 0.00448 ndcg@5: 0.01713 ndcg@10: 0.02981\n",
      "rep: h@1: 0.10515 h@5: 0.22577 h@10: 0.31340 ndcg@1: 0.10515 ndcg@5: 0.16742 ndcg@10: 0.19623\n",
      "ratio:  0.5918242830994509\n"
     ]
    },
    {
     "name": "stderr",
     "output_type": "stream",
     "text": [
      "100%|████████████████████████████████████████████████████████████████████████████████| 114/114 [00:30<00:00,  3.72it/s]\n",
      "17it [00:06,  2.81it/s]\n"
     ]
    },
    {
     "name": "stdout",
     "output_type": "stream",
     "text": [
      "Epoch: 024, Loss: 1.74497\n",
      "all: h@1: 0.06650 h@5: 0.15375 h@10: 0.21965 ndcg@1: 0.06650 ndcg@5: 0.11105 ndcg@10: 0.13257\n",
      "new: h@1: 0.00448 h@5: 0.03139 h@10: 0.07175 ndcg@1: 0.00448 ndcg@5: 0.01760 ndcg@10: 0.03071\n",
      "rep: h@1: 0.10928 h@5: 0.23814 h@10: 0.32165 ndcg@1: 0.10928 ndcg@5: 0.17550 ndcg@10: 0.20282\n",
      "ratio:  0.5918242830994509\n"
     ]
    },
    {
     "name": "stderr",
     "output_type": "stream",
     "text": [
      "100%|████████████████████████████████████████████████████████████████████████████████| 114/114 [00:28<00:00,  4.00it/s]\n",
      "17it [00:05,  2.95it/s]\n"
     ]
    },
    {
     "name": "stdout",
     "output_type": "stream",
     "text": [
      "Epoch: 025, Loss: 1.66172\n",
      "all: h@1: 0.06894 h@5: 0.16046 h@10: 0.22392 ndcg@1: 0.06894 ndcg@5: 0.11577 ndcg@10: 0.13652\n",
      "new: h@1: 0.00448 h@5: 0.03737 h@10: 0.07175 ndcg@1: 0.00448 ndcg@5: 0.02011 ndcg@10: 0.03135\n",
      "rep: h@1: 0.11340 h@5: 0.24536 h@10: 0.32887 ndcg@1: 0.11340 ndcg@5: 0.18174 ndcg@10: 0.20905\n",
      "ratio:  0.5918242830994509\n"
     ]
    },
    {
     "name": "stderr",
     "output_type": "stream",
     "text": [
      "100%|████████████████████████████████████████████████████████████████████████████████| 114/114 [00:30<00:00,  3.74it/s]\n",
      "17it [00:05,  3.01it/s]\n"
     ]
    },
    {
     "name": "stdout",
     "output_type": "stream",
     "text": [
      "Epoch: 026, Loss: 1.58424\n",
      "all: h@1: 0.07138 h@5: 0.16901 h@10: 0.22514 ndcg@1: 0.07138 ndcg@5: 0.12151 ndcg@10: 0.13988\n",
      "new: h@1: 0.00448 h@5: 0.04185 h@10: 0.07025 ndcg@1: 0.00448 ndcg@5: 0.02215 ndcg@10: 0.03139\n",
      "rep: h@1: 0.11753 h@5: 0.25670 h@10: 0.33196 ndcg@1: 0.11753 ndcg@5: 0.19004 ndcg@10: 0.21470\n",
      "ratio:  0.5918242830994509\n"
     ]
    },
    {
     "name": "stderr",
     "output_type": "stream",
     "text": [
      "100%|████████████████████████████████████████████████████████████████████████████████| 114/114 [00:29<00:00,  3.86it/s]\n",
      "17it [00:05,  3.03it/s]\n"
     ]
    },
    {
     "name": "stdout",
     "output_type": "stream",
     "text": [
      "Epoch: 027, Loss: 1.50990\n",
      "all: h@1: 0.07749 h@5: 0.17755 h@10: 0.23002 ndcg@1: 0.07749 ndcg@5: 0.12826 ndcg@10: 0.14526\n",
      "new: h@1: 0.00448 h@5: 0.04634 h@10: 0.07025 ndcg@1: 0.00448 ndcg@5: 0.02405 ndcg@10: 0.03169\n",
      "rep: h@1: 0.12784 h@5: 0.26804 h@10: 0.34021 ndcg@1: 0.12784 ndcg@5: 0.20013 ndcg@10: 0.22359\n",
      "ratio:  0.5918242830994509\n"
     ]
    },
    {
     "name": "stderr",
     "output_type": "stream",
     "text": [
      "100%|████████████████████████████████████████████████████████████████████████████████| 114/114 [00:30<00:00,  3.75it/s]\n",
      "17it [00:06,  2.78it/s]\n"
     ]
    },
    {
     "name": "stdout",
     "output_type": "stream",
     "text": [
      "Epoch: 028, Loss: 1.43812\n",
      "all: h@1: 0.07993 h@5: 0.18060 h@10: 0.23673 ndcg@1: 0.07993 ndcg@5: 0.13122 ndcg@10: 0.14941\n",
      "new: h@1: 0.00448 h@5: 0.04634 h@10: 0.07324 ndcg@1: 0.00448 ndcg@5: 0.02435 ndcg@10: 0.03303\n",
      "rep: h@1: 0.13196 h@5: 0.27320 h@10: 0.34948 ndcg@1: 0.13196 ndcg@5: 0.20493 ndcg@10: 0.22968\n",
      "ratio:  0.5918242830994509\n"
     ]
    },
    {
     "name": "stderr",
     "output_type": "stream",
     "text": [
      "100%|████████████████████████████████████████████████████████████████████████████████| 114/114 [00:30<00:00,  3.76it/s]\n",
      "17it [00:05,  2.86it/s]\n"
     ]
    },
    {
     "name": "stdout",
     "output_type": "stream",
     "text": [
      "Epoch: 029, Loss: 1.36979\n",
      "all: h@1: 0.08359 h@5: 0.18548 h@10: 0.24283 ndcg@1: 0.08359 ndcg@5: 0.13557 ndcg@10: 0.15395\n",
      "new: h@1: 0.00448 h@5: 0.04933 h@10: 0.07324 ndcg@1: 0.00448 ndcg@5: 0.02564 ndcg@10: 0.03330\n",
      "rep: h@1: 0.13814 h@5: 0.27938 h@10: 0.35979 ndcg@1: 0.13814 ndcg@5: 0.21138 ndcg@10: 0.23717\n",
      "ratio:  0.5918242830994509\n"
     ]
    },
    {
     "name": "stderr",
     "output_type": "stream",
     "text": [
      "100%|████████████████████████████████████████████████████████████████████████████████| 114/114 [00:29<00:00,  3.84it/s]\n",
      "17it [00:05,  3.03it/s]\n"
     ]
    },
    {
     "name": "stdout",
     "output_type": "stream",
     "text": [
      "Epoch: 030, Loss: 1.31611\n",
      "all: h@1: 0.08359 h@5: 0.18731 h@10: 0.24893 ndcg@1: 0.08359 ndcg@5: 0.13725 ndcg@10: 0.15703\n",
      "new: h@1: 0.00448 h@5: 0.04933 h@10: 0.07474 ndcg@1: 0.00448 ndcg@5: 0.02573 ndcg@10: 0.03387\n",
      "rep: h@1: 0.13814 h@5: 0.28247 h@10: 0.36907 ndcg@1: 0.13814 ndcg@5: 0.21416 ndcg@10: 0.24197\n",
      "ratio:  0.5918242830994509\n"
     ]
    },
    {
     "name": "stderr",
     "output_type": "stream",
     "text": [
      "100%|████████████████████████████████████████████████████████████████████████████████| 114/114 [00:29<00:00,  3.83it/s]\n",
      "17it [00:05,  3.17it/s]\n"
     ]
    },
    {
     "name": "stdout",
     "output_type": "stream",
     "text": [
      "Epoch: 031, Loss: 1.25098\n",
      "all: h@1: 0.08847 h@5: 0.19219 h@10: 0.25320 ndcg@1: 0.08847 ndcg@5: 0.14169 ndcg@10: 0.16140\n",
      "new: h@1: 0.00598 h@5: 0.04933 h@10: 0.07773 ndcg@1: 0.00598 ndcg@5: 0.02638 ndcg@10: 0.03554\n",
      "rep: h@1: 0.14536 h@5: 0.29072 h@10: 0.37423 ndcg@1: 0.14536 ndcg@5: 0.22122 ndcg@10: 0.24821\n",
      "ratio:  0.5918242830994509\n"
     ]
    },
    {
     "name": "stderr",
     "output_type": "stream",
     "text": [
      "100%|████████████████████████████████████████████████████████████████████████████████| 114/114 [00:28<00:00,  3.99it/s]\n",
      "17it [00:05,  2.87it/s]\n"
     ]
    },
    {
     "name": "stdout",
     "output_type": "stream",
     "text": [
      "Epoch: 032, Loss: 1.18966\n",
      "all: h@1: 0.08969 h@5: 0.19524 h@10: 0.25320 ndcg@1: 0.08969 ndcg@5: 0.14413 ndcg@10: 0.16292\n",
      "new: h@1: 0.00598 h@5: 0.04783 h@10: 0.07773 ndcg@1: 0.00598 ndcg@5: 0.02650 ndcg@10: 0.03630\n",
      "rep: h@1: 0.14742 h@5: 0.29691 h@10: 0.37423 ndcg@1: 0.14742 ndcg@5: 0.22525 ndcg@10: 0.25025\n",
      "ratio:  0.5918242830994509\n"
     ]
    },
    {
     "name": "stderr",
     "output_type": "stream",
     "text": [
      "100%|████████████████████████████████████████████████████████████████████████████████| 114/114 [00:26<00:00,  4.35it/s]\n",
      "17it [00:04,  3.45it/s]\n"
     ]
    },
    {
     "name": "stdout",
     "output_type": "stream",
     "text": [
      "Epoch: 033, Loss: 1.13754\n",
      "all: h@1: 0.09274 h@5: 0.19646 h@10: 0.26052 ndcg@1: 0.09274 ndcg@5: 0.14631 ndcg@10: 0.16716\n",
      "new: h@1: 0.00747 h@5: 0.04634 h@10: 0.08072 ndcg@1: 0.00747 ndcg@5: 0.02668 ndcg@10: 0.03796\n",
      "rep: h@1: 0.15155 h@5: 0.30000 h@10: 0.38454 ndcg@1: 0.15155 ndcg@5: 0.22883 ndcg@10: 0.25627\n",
      "ratio:  0.5918242830994509\n"
     ]
    },
    {
     "name": "stderr",
     "output_type": "stream",
     "text": [
      "100%|████████████████████████████████████████████████████████████████████████████████| 114/114 [00:26<00:00,  4.25it/s]\n",
      "17it [00:05,  3.14it/s]\n"
     ]
    },
    {
     "name": "stdout",
     "output_type": "stream",
     "text": [
      "Epoch: 034, Loss: 1.08175\n",
      "all: h@1: 0.09457 h@5: 0.20012 h@10: 0.26480 ndcg@1: 0.09457 ndcg@5: 0.14914 ndcg@10: 0.17021\n",
      "new: h@1: 0.00747 h@5: 0.04484 h@10: 0.08072 ndcg@1: 0.00747 ndcg@5: 0.02666 ndcg@10: 0.03858\n",
      "rep: h@1: 0.15464 h@5: 0.30722 h@10: 0.39175 ndcg@1: 0.15464 ndcg@5: 0.23362 ndcg@10: 0.26100\n",
      "ratio:  0.5918242830994509\n"
     ]
    },
    {
     "name": "stderr",
     "output_type": "stream",
     "text": [
      "100%|████████████████████████████████████████████████████████████████████████████████| 114/114 [00:30<00:00,  3.76it/s]\n",
      "17it [00:05,  2.90it/s]\n"
     ]
    },
    {
     "name": "stdout",
     "output_type": "stream",
     "text": [
      "Epoch: 035, Loss: 1.03299\n",
      "all: h@1: 0.09762 h@5: 0.20439 h@10: 0.27334 ndcg@1: 0.09762 ndcg@5: 0.15302 ndcg@10: 0.17532\n",
      "new: h@1: 0.00747 h@5: 0.04933 h@10: 0.08221 ndcg@1: 0.00747 ndcg@5: 0.02846 ndcg@10: 0.03926\n",
      "rep: h@1: 0.15979 h@5: 0.31134 h@10: 0.40515 ndcg@1: 0.15979 ndcg@5: 0.23893 ndcg@10: 0.26916\n",
      "ratio:  0.5918242830994509\n"
     ]
    },
    {
     "name": "stderr",
     "output_type": "stream",
     "text": [
      "100%|████████████████████████████████████████████████████████████████████████████████| 114/114 [00:30<00:00,  3.77it/s]\n",
      "17it [00:05,  2.89it/s]\n"
     ]
    },
    {
     "name": "stdout",
     "output_type": "stream",
     "text": [
      "Epoch: 036, Loss: 0.99000\n",
      "all: h@1: 0.10250 h@5: 0.20866 h@10: 0.28188 ndcg@1: 0.10250 ndcg@5: 0.15697 ndcg@10: 0.18043\n",
      "new: h@1: 0.00897 h@5: 0.05381 h@10: 0.08670 ndcg@1: 0.00897 ndcg@5: 0.03049 ndcg@10: 0.04099\n",
      "rep: h@1: 0.16701 h@5: 0.31546 h@10: 0.41649 ndcg@1: 0.16701 ndcg@5: 0.24420 ndcg@10: 0.27660\n",
      "ratio:  0.5918242830994509\n"
     ]
    },
    {
     "name": "stderr",
     "output_type": "stream",
     "text": [
      "100%|████████████████████████████████████████████████████████████████████████████████| 114/114 [00:30<00:00,  3.76it/s]\n",
      "17it [00:05,  2.90it/s]\n"
     ]
    },
    {
     "name": "stdout",
     "output_type": "stream",
     "text": [
      "Epoch: 037, Loss: 0.93954\n",
      "all: h@1: 0.10311 h@5: 0.21538 h@10: 0.28554 ndcg@1: 0.10311 ndcg@5: 0.16048 ndcg@10: 0.18290\n",
      "new: h@1: 0.00897 h@5: 0.05680 h@10: 0.08670 ndcg@1: 0.00897 ndcg@5: 0.03190 ndcg@10: 0.04133\n",
      "rep: h@1: 0.16804 h@5: 0.32474 h@10: 0.42268 ndcg@1: 0.16804 ndcg@5: 0.24916 ndcg@10: 0.28053\n",
      "ratio:  0.5918242830994509\n"
     ]
    },
    {
     "name": "stderr",
     "output_type": "stream",
     "text": [
      "100%|████████████████████████████████████████████████████████████████████████████████| 114/114 [00:30<00:00,  3.76it/s]\n",
      "17it [00:05,  2.90it/s]\n"
     ]
    },
    {
     "name": "stdout",
     "output_type": "stream",
     "text": [
      "Epoch: 038, Loss: 0.89313\n",
      "all: h@1: 0.10616 h@5: 0.21843 h@10: 0.28859 ndcg@1: 0.10616 ndcg@5: 0.16334 ndcg@10: 0.18579\n",
      "new: h@1: 0.00897 h@5: 0.05830 h@10: 0.08670 ndcg@1: 0.00897 ndcg@5: 0.03261 ndcg@10: 0.04152\n",
      "rep: h@1: 0.17320 h@5: 0.32887 h@10: 0.42784 ndcg@1: 0.17320 ndcg@5: 0.25350 ndcg@10: 0.28529\n",
      "ratio:  0.5918242830994509\n"
     ]
    },
    {
     "name": "stderr",
     "output_type": "stream",
     "text": [
      "100%|████████████████████████████████████████████████████████████████████████████████| 114/114 [00:30<00:00,  3.77it/s]\n",
      "17it [00:05,  2.94it/s]\n"
     ]
    },
    {
     "name": "stdout",
     "output_type": "stream",
     "text": [
      "Epoch: 039, Loss: 0.86181\n",
      "all: h@1: 0.10555 h@5: 0.22148 h@10: 0.29408 ndcg@1: 0.10555 ndcg@5: 0.16483 ndcg@10: 0.18807\n",
      "new: h@1: 0.00897 h@5: 0.05830 h@10: 0.09118 ndcg@1: 0.00897 ndcg@5: 0.03299 ndcg@10: 0.04327\n",
      "rep: h@1: 0.17216 h@5: 0.33402 h@10: 0.43402 ndcg@1: 0.17216 ndcg@5: 0.25575 ndcg@10: 0.28794\n",
      "ratio:  0.5918242830994509\n"
     ]
    },
    {
     "name": "stderr",
     "output_type": "stream",
     "text": [
      "100%|████████████████████████████████████████████████████████████████████████████████| 114/114 [00:30<00:00,  3.76it/s]\n",
      "17it [00:05,  2.87it/s]\n"
     ]
    },
    {
     "name": "stdout",
     "output_type": "stream",
     "text": [
      "Epoch: 040, Loss: 0.82044\n",
      "all: h@1: 0.10738 h@5: 0.22453 h@10: 0.29957 ndcg@1: 0.10738 ndcg@5: 0.16780 ndcg@10: 0.19175\n",
      "new: h@1: 0.00897 h@5: 0.05979 h@10: 0.10015 ndcg@1: 0.00897 ndcg@5: 0.03367 ndcg@10: 0.04609\n",
      "rep: h@1: 0.17526 h@5: 0.33814 h@10: 0.43711 ndcg@1: 0.17526 ndcg@5: 0.26030 ndcg@10: 0.29221\n",
      "ratio:  0.5918242830994509\n"
     ]
    },
    {
     "name": "stderr",
     "output_type": "stream",
     "text": [
      "100%|████████████████████████████████████████████████████████████████████████████████| 114/114 [00:28<00:00,  4.04it/s]\n",
      "17it [00:05,  2.89it/s]\n"
     ]
    },
    {
     "name": "stdout",
     "output_type": "stream",
     "text": [
      "Epoch: 041, Loss: 0.78724\n",
      "all: h@1: 0.10799 h@5: 0.22453 h@10: 0.30323 ndcg@1: 0.10799 ndcg@5: 0.16866 ndcg@10: 0.19387\n",
      "new: h@1: 0.00747 h@5: 0.05680 h@10: 0.10164 ndcg@1: 0.00747 ndcg@5: 0.03269 ndcg@10: 0.04664\n",
      "rep: h@1: 0.17732 h@5: 0.34021 h@10: 0.44227 ndcg@1: 0.17732 ndcg@5: 0.26244 ndcg@10: 0.29541\n",
      "ratio:  0.5918242830994509\n"
     ]
    },
    {
     "name": "stderr",
     "output_type": "stream",
     "text": [
      "100%|████████████████████████████████████████████████████████████████████████████████| 114/114 [00:28<00:00,  4.03it/s]\n",
      "17it [00:05,  3.32it/s]\n"
     ]
    },
    {
     "name": "stdout",
     "output_type": "stream",
     "text": [
      "Epoch: 042, Loss: 0.75289\n",
      "all: h@1: 0.10860 h@5: 0.22758 h@10: 0.30689 ndcg@1: 0.10860 ndcg@5: 0.17063 ndcg@10: 0.19600\n",
      "new: h@1: 0.00747 h@5: 0.05531 h@10: 0.10015 ndcg@1: 0.00747 ndcg@5: 0.03205 ndcg@10: 0.04618\n",
      "rep: h@1: 0.17835 h@5: 0.34639 h@10: 0.44948 ndcg@1: 0.17835 ndcg@5: 0.26621 ndcg@10: 0.29932\n",
      "ratio:  0.5918242830994509\n"
     ]
    },
    {
     "name": "stderr",
     "output_type": "stream",
     "text": [
      "100%|████████████████████████████████████████████████████████████████████████████████| 114/114 [00:30<00:00,  3.75it/s]\n",
      "17it [00:05,  2.98it/s]\n"
     ]
    },
    {
     "name": "stdout",
     "output_type": "stream",
     "text": [
      "Epoch: 043, Loss: 0.72023\n",
      "all: h@1: 0.10921 h@5: 0.23307 h@10: 0.30750 ndcg@1: 0.10921 ndcg@5: 0.17364 ndcg@10: 0.19738\n",
      "new: h@1: 0.00897 h@5: 0.05680 h@10: 0.10164 ndcg@1: 0.00897 ndcg@5: 0.03324 ndcg@10: 0.04729\n",
      "rep: h@1: 0.17835 h@5: 0.35464 h@10: 0.44948 ndcg@1: 0.17835 ndcg@5: 0.27047 ndcg@10: 0.30089\n",
      "ratio:  0.5918242830994509\n"
     ]
    },
    {
     "name": "stderr",
     "output_type": "stream",
     "text": [
      "100%|████████████████████████████████████████████████████████████████████████████████| 114/114 [00:28<00:00,  4.05it/s]\n",
      "17it [00:05,  3.09it/s]\n"
     ]
    },
    {
     "name": "stdout",
     "output_type": "stream",
     "text": [
      "Epoch: 044, Loss: 0.68571\n",
      "all: h@1: 0.11104 h@5: 0.23490 h@10: 0.30933 ndcg@1: 0.11104 ndcg@5: 0.17593 ndcg@10: 0.19973\n",
      "new: h@1: 0.00897 h@5: 0.05830 h@10: 0.10314 ndcg@1: 0.00897 ndcg@5: 0.03403 ndcg@10: 0.04804\n",
      "rep: h@1: 0.18144 h@5: 0.35670 h@10: 0.45155 ndcg@1: 0.18144 ndcg@5: 0.27379 ndcg@10: 0.30435\n",
      "ratio:  0.5918242830994509\n"
     ]
    },
    {
     "name": "stderr",
     "output_type": "stream",
     "text": [
      "100%|████████████████████████████████████████████████████████████████████████████████| 114/114 [00:29<00:00,  3.92it/s]\n",
      "17it [00:05,  2.86it/s]\n"
     ]
    },
    {
     "name": "stdout",
     "output_type": "stream",
     "text": [
      "Epoch: 045, Loss: 0.66130\n",
      "all: h@1: 0.11165 h@5: 0.23795 h@10: 0.30933 ndcg@1: 0.11165 ndcg@5: 0.17790 ndcg@10: 0.20076\n",
      "new: h@1: 0.00897 h@5: 0.05680 h@10: 0.10314 ndcg@1: 0.00897 ndcg@5: 0.03371 ndcg@10: 0.04834\n",
      "rep: h@1: 0.18247 h@5: 0.36289 h@10: 0.45155 ndcg@1: 0.18247 ndcg@5: 0.27735 ndcg@10: 0.30588\n",
      "ratio:  0.5918242830994509\n"
     ]
    },
    {
     "name": "stderr",
     "output_type": "stream",
     "text": [
      "100%|████████████████████████████████████████████████████████████████████████████████| 114/114 [00:29<00:00,  3.91it/s]\n",
      "17it [00:05,  2.96it/s]\n"
     ]
    },
    {
     "name": "stdout",
     "output_type": "stream",
     "text": [
      "Epoch: 046, Loss: 0.63773\n",
      "all: h@1: 0.11470 h@5: 0.24100 h@10: 0.31239 ndcg@1: 0.11470 ndcg@5: 0.18107 ndcg@10: 0.20394\n",
      "new: h@1: 0.00897 h@5: 0.05680 h@10: 0.10613 ndcg@1: 0.00897 ndcg@5: 0.03392 ndcg@10: 0.04955\n",
      "rep: h@1: 0.18763 h@5: 0.36804 h@10: 0.45464 ndcg@1: 0.18763 ndcg@5: 0.28256 ndcg@10: 0.31042\n",
      "ratio:  0.5918242830994509\n"
     ]
    },
    {
     "name": "stderr",
     "output_type": "stream",
     "text": [
      "100%|████████████████████████████████████████████████████████████████████████████████| 114/114 [00:30<00:00,  3.69it/s]\n",
      "17it [00:06,  2.82it/s]\n"
     ]
    },
    {
     "name": "stdout",
     "output_type": "stream",
     "text": [
      "Epoch: 047, Loss: 0.60409\n",
      "all: h@1: 0.11775 h@5: 0.24405 h@10: 0.31483 ndcg@1: 0.11775 ndcg@5: 0.18383 ndcg@10: 0.20652\n",
      "new: h@1: 0.00897 h@5: 0.05830 h@10: 0.10613 ndcg@1: 0.00897 ndcg@5: 0.03460 ndcg@10: 0.04975\n",
      "rep: h@1: 0.19278 h@5: 0.37216 h@10: 0.45876 ndcg@1: 0.19278 ndcg@5: 0.28675 ndcg@10: 0.31465\n",
      "ratio:  0.5918242830994509\n"
     ]
    },
    {
     "name": "stderr",
     "output_type": "stream",
     "text": [
      "100%|████████████████████████████████████████████████████████████████████████████████| 114/114 [00:30<00:00,  3.69it/s]\n",
      "17it [00:06,  2.79it/s]\n"
     ]
    },
    {
     "name": "stdout",
     "output_type": "stream",
     "text": [
      "Epoch: 048, Loss: 0.58147\n",
      "all: h@1: 0.11897 h@5: 0.24649 h@10: 0.31910 ndcg@1: 0.11897 ndcg@5: 0.18512 ndcg@10: 0.20834\n",
      "new: h@1: 0.00897 h@5: 0.05680 h@10: 0.10613 ndcg@1: 0.00897 ndcg@5: 0.03389 ndcg@10: 0.04966\n",
      "rep: h@1: 0.19485 h@5: 0.37732 h@10: 0.46598 ndcg@1: 0.19485 ndcg@5: 0.28941 ndcg@10: 0.31779\n",
      "ratio:  0.5918242830994509\n"
     ]
    },
    {
     "name": "stderr",
     "output_type": "stream",
     "text": [
      "100%|████████████████████████████████████████████████████████████████████████████████| 114/114 [00:30<00:00,  3.69it/s]\n",
      "17it [00:05,  2.93it/s]\n"
     ]
    },
    {
     "name": "stdout",
     "output_type": "stream",
     "text": [
      "Epoch: 049, Loss: 0.56154\n",
      "all: h@1: 0.11775 h@5: 0.25076 h@10: 0.32215 ndcg@1: 0.11775 ndcg@5: 0.18712 ndcg@10: 0.21002\n",
      "new: h@1: 0.00897 h@5: 0.05830 h@10: 0.10912 ndcg@1: 0.00897 ndcg@5: 0.03487 ndcg@10: 0.05105\n",
      "rep: h@1: 0.19278 h@5: 0.38351 h@10: 0.46907 ndcg@1: 0.19278 ndcg@5: 0.29212 ndcg@10: 0.31966\n",
      "ratio:  0.5918242830994509\n"
     ]
    },
    {
     "name": "stderr",
     "output_type": "stream",
     "text": [
      "100%|████████████████████████████████████████████████████████████████████████████████| 114/114 [00:30<00:00,  3.69it/s]\n",
      "17it [00:06,  2.72it/s]\n"
     ]
    },
    {
     "name": "stdout",
     "output_type": "stream",
     "text": [
      "Epoch: 050, Loss: 0.54346\n",
      "all: h@1: 0.11897 h@5: 0.25259 h@10: 0.32398 ndcg@1: 0.11897 ndcg@5: 0.18899 ndcg@10: 0.21188\n",
      "new: h@1: 0.00897 h@5: 0.06278 h@10: 0.11061 ndcg@1: 0.00897 ndcg@5: 0.03705 ndcg@10: 0.05208\n",
      "rep: h@1: 0.19485 h@5: 0.38351 h@10: 0.47113 ndcg@1: 0.19485 ndcg@5: 0.29377 ndcg@10: 0.32210\n",
      "ratio:  0.5918242830994509\n"
     ]
    },
    {
     "name": "stderr",
     "output_type": "stream",
     "text": [
      "100%|████████████████████████████████████████████████████████████████████████████████| 114/114 [00:26<00:00,  4.31it/s]\n",
      "17it [00:05,  2.87it/s]\n"
     ]
    },
    {
     "name": "stdout",
     "output_type": "stream",
     "text": [
      "Epoch: 051, Loss: 0.51938\n",
      "all: h@1: 0.11897 h@5: 0.25503 h@10: 0.32520 ndcg@1: 0.11897 ndcg@5: 0.19047 ndcg@10: 0.21305\n",
      "new: h@1: 0.00897 h@5: 0.06428 h@10: 0.11061 ndcg@1: 0.00897 ndcg@5: 0.03789 ndcg@10: 0.05254\n",
      "rep: h@1: 0.19485 h@5: 0.38660 h@10: 0.47320 ndcg@1: 0.19485 ndcg@5: 0.29570 ndcg@10: 0.32376\n",
      "ratio:  0.5918242830994509\n"
     ]
    },
    {
     "name": "stderr",
     "output_type": "stream",
     "text": [
      "100%|████████████████████████████████████████████████████████████████████████████████| 114/114 [00:27<00:00,  4.21it/s]\n",
      "17it [00:05,  2.91it/s]\n"
     ]
    },
    {
     "name": "stdout",
     "output_type": "stream",
     "text": [
      "Epoch: 052, Loss: 0.50109\n",
      "all: h@1: 0.12081 h@5: 0.25625 h@10: 0.32703 ndcg@1: 0.12081 ndcg@5: 0.19223 ndcg@10: 0.21518\n",
      "new: h@1: 0.01046 h@5: 0.06278 h@10: 0.11211 ndcg@1: 0.01046 ndcg@5: 0.03816 ndcg@10: 0.05386\n",
      "rep: h@1: 0.19691 h@5: 0.38969 h@10: 0.47526 ndcg@1: 0.19691 ndcg@5: 0.29849 ndcg@10: 0.32644\n",
      "ratio:  0.5918242830994509\n"
     ]
    },
    {
     "name": "stderr",
     "output_type": "stream",
     "text": [
      "100%|████████████████████████████████████████████████████████████████████████████████| 114/114 [00:29<00:00,  3.82it/s]\n",
      "17it [00:06,  2.77it/s]\n"
     ]
    },
    {
     "name": "stdout",
     "output_type": "stream",
     "text": [
      "Epoch: 053, Loss: 0.48864\n",
      "all: h@1: 0.12081 h@5: 0.26236 h@10: 0.33130 ndcg@1: 0.12081 ndcg@5: 0.19479 ndcg@10: 0.21694\n",
      "new: h@1: 0.01046 h@5: 0.07025 h@10: 0.11510 ndcg@1: 0.01046 ndcg@5: 0.04136 ndcg@10: 0.05536\n",
      "rep: h@1: 0.19691 h@5: 0.39485 h@10: 0.48041 ndcg@1: 0.19691 ndcg@5: 0.30060 ndcg@10: 0.32839\n",
      "ratio:  0.5918242830994509\n"
     ]
    },
    {
     "name": "stderr",
     "output_type": "stream",
     "text": [
      "100%|████████████████████████████████████████████████████████████████████████████████| 114/114 [00:30<00:00,  3.69it/s]\n",
      "17it [00:05,  2.96it/s]\n"
     ]
    },
    {
     "name": "stdout",
     "output_type": "stream",
     "text": [
      "Epoch: 054, Loss: 0.47172\n",
      "all: h@1: 0.12325 h@5: 0.26174 h@10: 0.33679 ndcg@1: 0.12325 ndcg@5: 0.19585 ndcg@10: 0.21999\n",
      "new: h@1: 0.01196 h@5: 0.06876 h@10: 0.12108 ndcg@1: 0.01196 ndcg@5: 0.04103 ndcg@10: 0.05744\n",
      "rep: h@1: 0.20000 h@5: 0.39485 h@10: 0.48557 ndcg@1: 0.20000 ndcg@5: 0.30263 ndcg@10: 0.33210\n",
      "ratio:  0.5918242830994509\n"
     ]
    },
    {
     "name": "stderr",
     "output_type": "stream",
     "text": [
      "100%|████████████████████████████████████████████████████████████████████████████████| 114/114 [00:29<00:00,  3.84it/s]\n",
      "17it [00:06,  2.80it/s]\n"
     ]
    },
    {
     "name": "stdout",
     "output_type": "stream",
     "text": [
      "Epoch: 055, Loss: 0.45216\n",
      "all: h@1: 0.12325 h@5: 0.26419 h@10: 0.34106 ndcg@1: 0.12325 ndcg@5: 0.19697 ndcg@10: 0.22166\n",
      "new: h@1: 0.01196 h@5: 0.07175 h@10: 0.12556 ndcg@1: 0.01196 ndcg@5: 0.04215 ndcg@10: 0.05894\n",
      "rep: h@1: 0.20000 h@5: 0.39691 h@10: 0.48969 ndcg@1: 0.20000 ndcg@5: 0.30375 ndcg@10: 0.33389\n",
      "ratio:  0.5918242830994509\n"
     ]
    },
    {
     "name": "stderr",
     "output_type": "stream",
     "text": [
      "100%|████████████████████████████████████████████████████████████████████████████████| 114/114 [00:30<00:00,  3.70it/s]\n",
      "17it [00:05,  2.98it/s]\n"
     ]
    },
    {
     "name": "stdout",
     "output_type": "stream",
     "text": [
      "Epoch: 056, Loss: 0.43909\n",
      "all: h@1: 0.12447 h@5: 0.26480 h@10: 0.34350 ndcg@1: 0.12447 ndcg@5: 0.19841 ndcg@10: 0.22389\n",
      "new: h@1: 0.01644 h@5: 0.07025 h@10: 0.12855 ndcg@1: 0.01644 ndcg@5: 0.04346 ndcg@10: 0.06200\n",
      "rep: h@1: 0.19897 h@5: 0.39897 h@10: 0.49175 ndcg@1: 0.19897 ndcg@5: 0.30528 ndcg@10: 0.33555\n",
      "ratio:  0.5918242830994509\n"
     ]
    },
    {
     "name": "stderr",
     "output_type": "stream",
     "text": [
      "100%|████████████████████████████████████████████████████████████████████████████████| 114/114 [00:31<00:00,  3.67it/s]\n",
      "17it [00:06,  2.76it/s]\n"
     ]
    },
    {
     "name": "stdout",
     "output_type": "stream",
     "text": [
      "Epoch: 057, Loss: 0.42632\n",
      "all: h@1: 0.12630 h@5: 0.26785 h@10: 0.34655 ndcg@1: 0.12630 ndcg@5: 0.20088 ndcg@10: 0.22636\n",
      "new: h@1: 0.01943 h@5: 0.07025 h@10: 0.12706 ndcg@1: 0.01943 ndcg@5: 0.04458 ndcg@10: 0.06281\n",
      "rep: h@1: 0.20000 h@5: 0.40412 h@10: 0.49794 ndcg@1: 0.20000 ndcg@5: 0.30869 ndcg@10: 0.33917\n",
      "ratio:  0.5918242830994509\n"
     ]
    },
    {
     "name": "stderr",
     "output_type": "stream",
     "text": [
      "100%|████████████████████████████████████████████████████████████████████████████████| 114/114 [00:28<00:00,  4.01it/s]\n",
      "17it [00:06,  2.72it/s]\n"
     ]
    },
    {
     "name": "stdout",
     "output_type": "stream",
     "text": [
      "Epoch: 058, Loss: 0.41816\n",
      "all: h@1: 0.12447 h@5: 0.27029 h@10: 0.34899 ndcg@1: 0.12447 ndcg@5: 0.20159 ndcg@10: 0.22717\n",
      "new: h@1: 0.01943 h@5: 0.07175 h@10: 0.12706 ndcg@1: 0.01943 ndcg@5: 0.04515 ndcg@10: 0.06303\n",
      "rep: h@1: 0.19691 h@5: 0.40722 h@10: 0.50206 ndcg@1: 0.19691 ndcg@5: 0.30949 ndcg@10: 0.34038\n",
      "ratio:  0.5918242830994509\n"
     ]
    },
    {
     "name": "stderr",
     "output_type": "stream",
     "text": [
      "100%|████████████████████████████████████████████████████████████████████████████████| 114/114 [00:29<00:00,  3.90it/s]\n",
      "17it [00:05,  2.85it/s]\n"
     ]
    },
    {
     "name": "stdout",
     "output_type": "stream",
     "text": [
      "Epoch: 059, Loss: 0.40617\n",
      "all: h@1: 0.12508 h@5: 0.27456 h@10: 0.34960 ndcg@1: 0.12508 ndcg@5: 0.20393 ndcg@10: 0.22828\n",
      "new: h@1: 0.02093 h@5: 0.07324 h@10: 0.12855 ndcg@1: 0.02093 ndcg@5: 0.04627 ndcg@10: 0.06420\n",
      "rep: h@1: 0.19691 h@5: 0.41340 h@10: 0.50206 ndcg@1: 0.19691 ndcg@5: 0.31266 ndcg@10: 0.34145\n",
      "ratio:  0.5918242830994509\n"
     ]
    },
    {
     "name": "stderr",
     "output_type": "stream",
     "text": [
      "100%|████████████████████████████████████████████████████████████████████████████████| 114/114 [00:30<00:00,  3.74it/s]\n",
      "17it [00:05,  3.31it/s]\n"
     ]
    },
    {
     "name": "stdout",
     "output_type": "stream",
     "text": [
      "Epoch: 060, Loss: 0.39665\n",
      "all: h@1: 0.12569 h@5: 0.27944 h@10: 0.35692 ndcg@1: 0.12569 ndcg@5: 0.20675 ndcg@10: 0.23172\n",
      "new: h@1: 0.02093 h@5: 0.07474 h@10: 0.13154 ndcg@1: 0.02093 ndcg@5: 0.04742 ndcg@10: 0.06593\n",
      "rep: h@1: 0.19794 h@5: 0.42062 h@10: 0.51237 ndcg@1: 0.19794 ndcg@5: 0.31664 ndcg@10: 0.34607\n",
      "ratio:  0.5918242830994509\n"
     ]
    },
    {
     "name": "stderr",
     "output_type": "stream",
     "text": [
      "100%|████████████████████████████████████████████████████████████████████████████████| 114/114 [00:28<00:00,  4.01it/s]\n",
      "17it [00:05,  3.28it/s]\n"
     ]
    },
    {
     "name": "stdout",
     "output_type": "stream",
     "text": [
      "Epoch: 061, Loss: 0.38584\n",
      "all: h@1: 0.12996 h@5: 0.28371 h@10: 0.35815 ndcg@1: 0.12996 ndcg@5: 0.21080 ndcg@10: 0.23480\n",
      "new: h@1: 0.02093 h@5: 0.07922 h@10: 0.13154 ndcg@1: 0.02093 ndcg@5: 0.04956 ndcg@10: 0.06656\n",
      "rep: h@1: 0.20515 h@5: 0.42474 h@10: 0.51443 ndcg@1: 0.20515 ndcg@5: 0.32200 ndcg@10: 0.35084\n",
      "ratio:  0.5918242830994509\n"
     ]
    },
    {
     "name": "stderr",
     "output_type": "stream",
     "text": [
      "100%|████████████████████████████████████████████████████████████████████████████████| 114/114 [00:25<00:00,  4.41it/s]\n",
      "17it [00:06,  2.69it/s]\n"
     ]
    },
    {
     "name": "stdout",
     "output_type": "stream",
     "text": [
      "Epoch: 062, Loss: 0.37253\n",
      "all: h@1: 0.13179 h@5: 0.28615 h@10: 0.36242 ndcg@1: 0.13179 ndcg@5: 0.21326 ndcg@10: 0.23777\n",
      "new: h@1: 0.02093 h@5: 0.08072 h@10: 0.13752 ndcg@1: 0.02093 ndcg@5: 0.05039 ndcg@10: 0.06865\n",
      "rep: h@1: 0.20825 h@5: 0.42784 h@10: 0.51753 ndcg@1: 0.20825 ndcg@5: 0.32559 ndcg@10: 0.35440\n",
      "ratio:  0.5918242830994509\n"
     ]
    },
    {
     "name": "stderr",
     "output_type": "stream",
     "text": [
      "100%|████████████████████████████████████████████████████████████████████████████████| 114/114 [00:22<00:00,  5.14it/s]\n",
      "17it [00:05,  3.14it/s]\n"
     ]
    },
    {
     "name": "stdout",
     "output_type": "stream",
     "text": [
      "Epoch: 063, Loss: 0.36719\n",
      "all: h@1: 0.13179 h@5: 0.28920 h@10: 0.36181 ndcg@1: 0.13179 ndcg@5: 0.21459 ndcg@10: 0.23795\n",
      "new: h@1: 0.01943 h@5: 0.08371 h@10: 0.13453 ndcg@1: 0.01943 ndcg@5: 0.05115 ndcg@10: 0.06745\n",
      "rep: h@1: 0.20928 h@5: 0.43093 h@10: 0.51856 ndcg@1: 0.20928 ndcg@5: 0.32731 ndcg@10: 0.35554\n",
      "ratio:  0.5918242830994509\n"
     ]
    },
    {
     "name": "stderr",
     "output_type": "stream",
     "text": [
      "100%|████████████████████████████████████████████████████████████████████████████████| 114/114 [00:24<00:00,  4.57it/s]\n",
      "17it [00:05,  3.40it/s]\n"
     ]
    },
    {
     "name": "stdout",
     "output_type": "stream",
     "text": [
      "Epoch: 064, Loss: 0.36087\n",
      "all: h@1: 0.13240 h@5: 0.29225 h@10: 0.36730 ndcg@1: 0.13240 ndcg@5: 0.21684 ndcg@10: 0.24082\n",
      "new: h@1: 0.02093 h@5: 0.08520 h@10: 0.14051 ndcg@1: 0.02093 ndcg@5: 0.05257 ndcg@10: 0.07017\n",
      "rep: h@1: 0.20928 h@5: 0.43505 h@10: 0.52371 ndcg@1: 0.20928 ndcg@5: 0.33014 ndcg@10: 0.35852\n",
      "ratio:  0.5918242830994509\n"
     ]
    },
    {
     "name": "stderr",
     "output_type": "stream",
     "text": [
      "100%|████████████████████████████████████████████████████████████████████████████████| 114/114 [00:29<00:00,  3.89it/s]\n",
      "17it [00:05,  3.07it/s]\n"
     ]
    },
    {
     "name": "stdout",
     "output_type": "stream",
     "text": [
      "Epoch: 065, Loss: 0.35221\n",
      "all: h@1: 0.13179 h@5: 0.29164 h@10: 0.37157 ndcg@1: 0.13179 ndcg@5: 0.21690 ndcg@10: 0.24243\n",
      "new: h@1: 0.02093 h@5: 0.08520 h@10: 0.13901 ndcg@1: 0.02093 ndcg@5: 0.05260 ndcg@10: 0.06977\n",
      "rep: h@1: 0.20825 h@5: 0.43402 h@10: 0.53196 ndcg@1: 0.20825 ndcg@5: 0.33021 ndcg@10: 0.36151\n",
      "ratio:  0.5918242830994509\n"
     ]
    },
    {
     "name": "stderr",
     "output_type": "stream",
     "text": [
      "100%|████████████████████████████████████████████████████████████████████████████████| 114/114 [00:25<00:00,  4.45it/s]\n",
      "17it [00:05,  2.98it/s]\n"
     ]
    },
    {
     "name": "stdout",
     "output_type": "stream",
     "text": [
      "Epoch: 066, Loss: 0.34570\n",
      "all: h@1: 0.13484 h@5: 0.29286 h@10: 0.37401 ndcg@1: 0.13484 ndcg@5: 0.21895 ndcg@10: 0.24492\n",
      "new: h@1: 0.02093 h@5: 0.08221 h@10: 0.14051 ndcg@1: 0.02093 ndcg@5: 0.05167 ndcg@10: 0.07039\n",
      "rep: h@1: 0.21340 h@5: 0.43814 h@10: 0.53505 ndcg@1: 0.21340 ndcg@5: 0.33432 ndcg@10: 0.36528\n",
      "ratio:  0.5918242830994509\n"
     ]
    },
    {
     "name": "stderr",
     "output_type": "stream",
     "text": [
      "100%|████████████████████████████████████████████████████████████████████████████████| 114/114 [00:26<00:00,  4.31it/s]\n",
      "17it [00:04,  3.42it/s]\n"
     ]
    },
    {
     "name": "stdout",
     "output_type": "stream",
     "text": [
      "Epoch: 067, Loss: 0.34246\n",
      "all: h@1: 0.13667 h@5: 0.29530 h@10: 0.37767 ndcg@1: 0.13667 ndcg@5: 0.22084 ndcg@10: 0.24715\n",
      "new: h@1: 0.02093 h@5: 0.08670 h@10: 0.14350 ndcg@1: 0.02093 ndcg@5: 0.05331 ndcg@10: 0.07142\n",
      "rep: h@1: 0.21649 h@5: 0.43918 h@10: 0.53918 ndcg@1: 0.21649 ndcg@5: 0.33637 ndcg@10: 0.36836\n",
      "ratio:  0.5918242830994509\n"
     ]
    },
    {
     "name": "stderr",
     "output_type": "stream",
     "text": [
      "100%|████████████████████████████████████████████████████████████████████████████████| 114/114 [00:28<00:00,  4.02it/s]\n",
      "17it [00:06,  2.76it/s]\n"
     ]
    },
    {
     "name": "stdout",
     "output_type": "stream",
     "text": [
      "Epoch: 068, Loss: 0.33798\n",
      "all: h@1: 0.13789 h@5: 0.29713 h@10: 0.37889 ndcg@1: 0.13789 ndcg@5: 0.22264 ndcg@10: 0.24878\n",
      "new: h@1: 0.02093 h@5: 0.08819 h@10: 0.14499 ndcg@1: 0.02093 ndcg@5: 0.05376 ndcg@10: 0.07182\n",
      "rep: h@1: 0.21856 h@5: 0.44124 h@10: 0.54021 ndcg@1: 0.21856 ndcg@5: 0.33912 ndcg@10: 0.37084\n",
      "ratio:  0.5918242830994509\n"
     ]
    },
    {
     "name": "stderr",
     "output_type": "stream",
     "text": [
      "100%|████████████████████████████████████████████████████████████████████████████████| 114/114 [00:27<00:00,  4.15it/s]\n",
      "17it [00:05,  3.09it/s]\n"
     ]
    },
    {
     "name": "stdout",
     "output_type": "stream",
     "text": [
      "Epoch: 069, Loss: 0.33306\n",
      "all: h@1: 0.13911 h@5: 0.30079 h@10: 0.37950 ndcg@1: 0.13911 ndcg@5: 0.22452 ndcg@10: 0.24956\n",
      "new: h@1: 0.02093 h@5: 0.08819 h@10: 0.14649 ndcg@1: 0.02093 ndcg@5: 0.05372 ndcg@10: 0.07219\n",
      "rep: h@1: 0.22062 h@5: 0.44742 h@10: 0.54021 ndcg@1: 0.22062 ndcg@5: 0.34231 ndcg@10: 0.37189\n",
      "ratio:  0.5918242830994509\n"
     ]
    },
    {
     "name": "stderr",
     "output_type": "stream",
     "text": [
      "100%|████████████████████████████████████████████████████████████████████████████████| 114/114 [00:27<00:00,  4.15it/s]\n",
      "17it [00:06,  2.79it/s]\n"
     ]
    },
    {
     "name": "stdout",
     "output_type": "stream",
     "text": [
      "Epoch: 070, Loss: 0.33097\n",
      "all: h@1: 0.14094 h@5: 0.29957 h@10: 0.38072 ndcg@1: 0.14094 ndcg@5: 0.22553 ndcg@10: 0.25167\n",
      "new: h@1: 0.01943 h@5: 0.08819 h@10: 0.14798 ndcg@1: 0.01943 ndcg@5: 0.05374 ndcg@10: 0.07284\n",
      "rep: h@1: 0.22474 h@5: 0.44536 h@10: 0.54124 ndcg@1: 0.22474 ndcg@5: 0.34400 ndcg@10: 0.37501\n",
      "ratio:  0.5918242830994509\n"
     ]
    },
    {
     "name": "stderr",
     "output_type": "stream",
     "text": [
      "100%|████████████████████████████████████████████████████████████████████████████████| 114/114 [00:30<00:00,  3.74it/s]\n",
      "17it [00:05,  2.87it/s]\n"
     ]
    },
    {
     "name": "stdout",
     "output_type": "stream",
     "text": [
      "Epoch: 071, Loss: 0.32797\n",
      "all: h@1: 0.14338 h@5: 0.30262 h@10: 0.38560 ndcg@1: 0.14338 ndcg@5: 0.22859 ndcg@10: 0.25527\n",
      "new: h@1: 0.01943 h@5: 0.09118 h@10: 0.14948 ndcg@1: 0.01943 ndcg@5: 0.05549 ndcg@10: 0.07412\n",
      "rep: h@1: 0.22887 h@5: 0.44845 h@10: 0.54845 ndcg@1: 0.22887 ndcg@5: 0.34798 ndcg@10: 0.38021\n",
      "ratio:  0.5918242830994509\n"
     ]
    },
    {
     "name": "stderr",
     "output_type": "stream",
     "text": [
      "100%|████████████████████████████████████████████████████████████████████████████████| 114/114 [00:24<00:00,  4.59it/s]\n",
      "17it [00:05,  2.98it/s]\n"
     ]
    },
    {
     "name": "stdout",
     "output_type": "stream",
     "text": [
      "Epoch: 072, Loss: 0.32639\n",
      "all: h@1: 0.14399 h@5: 0.30811 h@10: 0.39048 ndcg@1: 0.14399 ndcg@5: 0.23120 ndcg@10: 0.25768\n",
      "new: h@1: 0.01943 h@5: 0.09567 h@10: 0.15247 ndcg@1: 0.01943 ndcg@5: 0.05752 ndcg@10: 0.07562\n",
      "rep: h@1: 0.22990 h@5: 0.45464 h@10: 0.55464 ndcg@1: 0.22990 ndcg@5: 0.35099 ndcg@10: 0.38324\n",
      "ratio:  0.5918242830994509\n"
     ]
    },
    {
     "name": "stderr",
     "output_type": "stream",
     "text": [
      "100%|████████████████████████████████████████████████████████████████████████████████| 114/114 [00:28<00:00,  4.01it/s]\n",
      "17it [00:06,  2.73it/s]\n"
     ]
    },
    {
     "name": "stdout",
     "output_type": "stream",
     "text": [
      "Epoch: 073, Loss: 0.32074\n",
      "all: h@1: 0.14521 h@5: 0.30872 h@10: 0.39658 ndcg@1: 0.14521 ndcg@5: 0.23226 ndcg@10: 0.26049\n",
      "new: h@1: 0.02093 h@5: 0.09417 h@10: 0.15695 ndcg@1: 0.02093 ndcg@5: 0.05743 ndcg@10: 0.07752\n",
      "rep: h@1: 0.23093 h@5: 0.45670 h@10: 0.56186 ndcg@1: 0.23093 ndcg@5: 0.35284 ndcg@10: 0.38668\n",
      "ratio:  0.5918242830994509\n"
     ]
    },
    {
     "name": "stderr",
     "output_type": "stream",
     "text": [
      "100%|████████████████████████████████████████████████████████████████████████████████| 114/114 [00:27<00:00,  4.14it/s]\n",
      "17it [00:05,  2.91it/s]\n"
     ]
    },
    {
     "name": "stdout",
     "output_type": "stream",
     "text": [
      "Epoch: 074, Loss: 0.32190\n",
      "all: h@1: 0.14704 h@5: 0.31056 h@10: 0.39963 ndcg@1: 0.14704 ndcg@5: 0.23405 ndcg@10: 0.26272\n",
      "new: h@1: 0.02093 h@5: 0.09865 h@10: 0.15845 ndcg@1: 0.02093 ndcg@5: 0.05978 ndcg@10: 0.07892\n",
      "rep: h@1: 0.23402 h@5: 0.45670 h@10: 0.56598 ndcg@1: 0.23402 ndcg@5: 0.35424 ndcg@10: 0.38948\n",
      "ratio:  0.5918242830994509\n"
     ]
    },
    {
     "name": "stderr",
     "output_type": "stream",
     "text": [
      "100%|████████████████████████████████████████████████████████████████████████████████| 114/114 [00:24<00:00,  4.65it/s]\n",
      "17it [00:05,  3.16it/s]\n"
     ]
    },
    {
     "name": "stdout",
     "output_type": "stream",
     "text": [
      "Epoch: 075, Loss: 0.31930\n",
      "all: h@1: 0.14643 h@5: 0.31300 h@10: 0.39963 ndcg@1: 0.14643 ndcg@5: 0.23473 ndcg@10: 0.26266\n",
      "new: h@1: 0.02093 h@5: 0.10015 h@10: 0.16143 ndcg@1: 0.02093 ndcg@5: 0.05997 ndcg@10: 0.07928\n",
      "rep: h@1: 0.23299 h@5: 0.45979 h@10: 0.56392 ndcg@1: 0.23299 ndcg@5: 0.35526 ndcg@10: 0.38914\n",
      "ratio:  0.5918242830994509\n"
     ]
    },
    {
     "name": "stderr",
     "output_type": "stream",
     "text": [
      "100%|████████████████████████████████████████████████████████████████████████████████| 114/114 [00:28<00:00,  4.02it/s]\n",
      "17it [00:05,  2.90it/s]\n"
     ]
    },
    {
     "name": "stdout",
     "output_type": "stream",
     "text": [
      "Epoch: 076, Loss: 0.31832\n",
      "all: h@1: 0.14765 h@5: 0.31544 h@10: 0.40268 ndcg@1: 0.14765 ndcg@5: 0.23634 ndcg@10: 0.26442\n",
      "new: h@1: 0.02093 h@5: 0.10463 h@10: 0.15994 ndcg@1: 0.02093 ndcg@5: 0.06203 ndcg@10: 0.07960\n",
      "rep: h@1: 0.23505 h@5: 0.46082 h@10: 0.57010 ndcg@1: 0.23505 ndcg@5: 0.35656 ndcg@10: 0.39189\n",
      "ratio:  0.5918242830994509\n"
     ]
    },
    {
     "name": "stderr",
     "output_type": "stream",
     "text": [
      "100%|████████████████████████████████████████████████████████████████████████████████| 114/114 [00:25<00:00,  4.48it/s]\n",
      "17it [00:05,  3.15it/s]\n"
     ]
    },
    {
     "name": "stdout",
     "output_type": "stream",
     "text": [
      "Epoch: 077, Loss: 0.31742\n",
      "all: h@1: 0.14826 h@5: 0.31849 h@10: 0.40818 ndcg@1: 0.14826 ndcg@5: 0.23852 ndcg@10: 0.26721\n",
      "new: h@1: 0.02242 h@5: 0.10613 h@10: 0.16741 ndcg@1: 0.02242 ndcg@5: 0.06345 ndcg@10: 0.08272\n",
      "rep: h@1: 0.23505 h@5: 0.46495 h@10: 0.57423 ndcg@1: 0.23505 ndcg@5: 0.35927 ndcg@10: 0.39444\n",
      "ratio:  0.5918242830994509\n"
     ]
    },
    {
     "name": "stderr",
     "output_type": "stream",
     "text": [
      "100%|████████████████████████████████████████████████████████████████████████████████| 114/114 [00:27<00:00,  4.10it/s]\n",
      "17it [00:05,  2.99it/s]\n"
     ]
    },
    {
     "name": "stdout",
     "output_type": "stream",
     "text": [
      "Epoch: 078, Loss: 0.31608\n",
      "all: h@1: 0.15131 h@5: 0.31971 h@10: 0.41123 ndcg@1: 0.15131 ndcg@5: 0.24089 ndcg@10: 0.27021\n",
      "new: h@1: 0.02541 h@5: 0.10463 h@10: 0.17190 ndcg@1: 0.02541 ndcg@5: 0.06471 ndcg@10: 0.08599\n",
      "rep: h@1: 0.23814 h@5: 0.46804 h@10: 0.57629 ndcg@1: 0.23814 ndcg@5: 0.36239 ndcg@10: 0.39727\n",
      "ratio:  0.5918242830994509\n"
     ]
    },
    {
     "name": "stderr",
     "output_type": "stream",
     "text": [
      "100%|████████████████████████████████████████████████████████████████████████████████| 114/114 [00:29<00:00,  3.81it/s]\n",
      "17it [00:05,  2.90it/s]\n"
     ]
    },
    {
     "name": "stdout",
     "output_type": "stream",
     "text": [
      "Epoch: 079, Loss: 0.31572\n",
      "all: h@1: 0.15253 h@5: 0.32459 h@10: 0.41062 ndcg@1: 0.15253 ndcg@5: 0.24372 ndcg@10: 0.27135\n",
      "new: h@1: 0.02541 h@5: 0.10762 h@10: 0.17190 ndcg@1: 0.02541 ndcg@5: 0.06608 ndcg@10: 0.08634\n",
      "rep: h@1: 0.24021 h@5: 0.47423 h@10: 0.57526 ndcg@1: 0.24021 ndcg@5: 0.36624 ndcg@10: 0.39896\n",
      "ratio:  0.5918242830994509\n"
     ]
    },
    {
     "name": "stderr",
     "output_type": "stream",
     "text": [
      "100%|████████████████████████████████████████████████████████████████████████████████| 114/114 [00:30<00:00,  3.72it/s]\n",
      "17it [00:06,  2.80it/s]\n"
     ]
    },
    {
     "name": "stdout",
     "output_type": "stream",
     "text": [
      "Epoch: 080, Loss: 0.31567\n",
      "all: h@1: 0.15192 h@5: 0.32886 h@10: 0.41123 ndcg@1: 0.15192 ndcg@5: 0.24537 ndcg@10: 0.27178\n",
      "new: h@1: 0.02691 h@5: 0.11211 h@10: 0.17339 ndcg@1: 0.02691 ndcg@5: 0.06862 ndcg@10: 0.08797\n",
      "rep: h@1: 0.23814 h@5: 0.47835 h@10: 0.57526 ndcg@1: 0.23814 ndcg@5: 0.36727 ndcg@10: 0.39855\n",
      "ratio:  0.5918242830994509\n"
     ]
    },
    {
     "name": "stderr",
     "output_type": "stream",
     "text": [
      "100%|████████████████████████████████████████████████████████████████████████████████| 114/114 [00:29<00:00,  3.88it/s]\n",
      "17it [00:05,  3.04it/s]\n"
     ]
    },
    {
     "name": "stdout",
     "output_type": "stream",
     "text": [
      "Epoch: 081, Loss: 0.31440\n",
      "all: h@1: 0.15192 h@5: 0.33191 h@10: 0.40818 ndcg@1: 0.15192 ndcg@5: 0.24671 ndcg@10: 0.27123\n",
      "new: h@1: 0.02541 h@5: 0.11211 h@10: 0.17040 ndcg@1: 0.02541 ndcg@5: 0.06807 ndcg@10: 0.08663\n",
      "rep: h@1: 0.23918 h@5: 0.48351 h@10: 0.57216 ndcg@1: 0.23918 ndcg@5: 0.36992 ndcg@10: 0.39855\n",
      "ratio:  0.5918242830994509\n"
     ]
    },
    {
     "name": "stderr",
     "output_type": "stream",
     "text": [
      "100%|████████████████████████████████████████████████████████████████████████████████| 114/114 [00:26<00:00,  4.29it/s]\n",
      "17it [00:05,  2.91it/s]\n"
     ]
    },
    {
     "name": "stdout",
     "output_type": "stream",
     "text": [
      "Epoch: 082, Loss: 0.31568\n",
      "all: h@1: 0.14948 h@5: 0.33801 h@10: 0.40879 ndcg@1: 0.14948 ndcg@5: 0.24895 ndcg@10: 0.27157\n",
      "new: h@1: 0.02541 h@5: 0.11809 h@10: 0.17040 ndcg@1: 0.02541 ndcg@5: 0.07035 ndcg@10: 0.08694\n",
      "rep: h@1: 0.23505 h@5: 0.48969 h@10: 0.57320 ndcg@1: 0.23505 ndcg@5: 0.37213 ndcg@10: 0.39890\n",
      "ratio:  0.5918242830994509\n"
     ]
    },
    {
     "name": "stderr",
     "output_type": "stream",
     "text": [
      "100%|████████████████████████████████████████████████████████████████████████████████| 114/114 [00:29<00:00,  3.86it/s]\n",
      "17it [00:05,  2.85it/s]\n"
     ]
    },
    {
     "name": "stdout",
     "output_type": "stream",
     "text": [
      "Epoch: 083, Loss: 0.31713\n",
      "all: h@1: 0.15192 h@5: 0.33923 h@10: 0.41306 ndcg@1: 0.15192 ndcg@5: 0.25042 ndcg@10: 0.27401\n",
      "new: h@1: 0.02541 h@5: 0.11659 h@10: 0.17489 ndcg@1: 0.02541 ndcg@5: 0.06934 ndcg@10: 0.08789\n",
      "rep: h@1: 0.23918 h@5: 0.49278 h@10: 0.57732 ndcg@1: 0.23918 ndcg@5: 0.37531 ndcg@10: 0.40237\n",
      "ratio:  0.5918242830994509\n"
     ]
    },
    {
     "name": "stderr",
     "output_type": "stream",
     "text": [
      "100%|████████████████████████████████████████████████████████████████████████████████| 114/114 [00:29<00:00,  3.85it/s]\n",
      "17it [00:06,  2.77it/s]\n"
     ]
    },
    {
     "name": "stdout",
     "output_type": "stream",
     "text": [
      "Epoch: 084, Loss: 0.31756\n",
      "all: h@1: 0.15863 h@5: 0.33862 h@10: 0.41550 ndcg@1: 0.15863 ndcg@5: 0.25315 ndcg@10: 0.27775\n",
      "new: h@1: 0.02840 h@5: 0.11510 h@10: 0.17937 ndcg@1: 0.02840 ndcg@5: 0.07015 ndcg@10: 0.09064\n",
      "rep: h@1: 0.24845 h@5: 0.49278 h@10: 0.57835 ndcg@1: 0.24845 ndcg@5: 0.37937 ndcg@10: 0.40680\n",
      "ratio:  0.5918242830994509\n"
     ]
    },
    {
     "name": "stderr",
     "output_type": "stream",
     "text": [
      "100%|████████████████████████████████████████████████████████████████████████████████| 114/114 [00:28<00:00,  4.05it/s]\n",
      "17it [00:05,  2.91it/s]\n"
     ]
    },
    {
     "name": "stdout",
     "output_type": "stream",
     "text": [
      "Epoch: 085, Loss: 0.31840\n",
      "all: h@1: 0.15741 h@5: 0.33801 h@10: 0.41855 ndcg@1: 0.15741 ndcg@5: 0.25284 ndcg@10: 0.27868\n",
      "new: h@1: 0.02840 h@5: 0.11360 h@10: 0.18834 ndcg@1: 0.02840 ndcg@5: 0.06956 ndcg@10: 0.09335\n",
      "rep: h@1: 0.24639 h@5: 0.49278 h@10: 0.57732 ndcg@1: 0.24639 ndcg@5: 0.37925 ndcg@10: 0.40650\n",
      "ratio:  0.5918242830994509\n"
     ]
    },
    {
     "name": "stderr",
     "output_type": "stream",
     "text": [
      "100%|████████████████████████████████████████████████████████████████████████████████| 114/114 [00:29<00:00,  3.84it/s]\n",
      "17it [00:04,  3.54it/s]\n"
     ]
    },
    {
     "name": "stdout",
     "output_type": "stream",
     "text": [
      "Epoch: 086, Loss: 0.32020\n",
      "all: h@1: 0.15985 h@5: 0.33984 h@10: 0.41855 ndcg@1: 0.15985 ndcg@5: 0.25466 ndcg@10: 0.27994\n",
      "new: h@1: 0.02840 h@5: 0.11510 h@10: 0.18685 ndcg@1: 0.02840 ndcg@5: 0.06979 ndcg@10: 0.09270\n",
      "rep: h@1: 0.25052 h@5: 0.49485 h@10: 0.57835 ndcg@1: 0.25052 ndcg@5: 0.38217 ndcg@10: 0.40908\n",
      "ratio:  0.5918242830994509\n"
     ]
    },
    {
     "name": "stderr",
     "output_type": "stream",
     "text": [
      "100%|████████████████████████████████████████████████████████████████████████████████| 114/114 [00:29<00:00,  3.86it/s]\n",
      "17it [00:05,  3.32it/s]\n"
     ]
    },
    {
     "name": "stdout",
     "output_type": "stream",
     "text": [
      "Epoch: 087, Loss: 0.32152\n",
      "all: h@1: 0.16229 h@5: 0.34167 h@10: 0.41794 ndcg@1: 0.16229 ndcg@5: 0.25661 ndcg@10: 0.28108\n",
      "new: h@1: 0.02990 h@5: 0.11809 h@10: 0.18834 ndcg@1: 0.02990 ndcg@5: 0.07223 ndcg@10: 0.09449\n",
      "rep: h@1: 0.25361 h@5: 0.49588 h@10: 0.57629 ndcg@1: 0.25361 ndcg@5: 0.38377 ndcg@10: 0.40977\n",
      "ratio:  0.5918242830994509\n"
     ]
    },
    {
     "name": "stderr",
     "output_type": "stream",
     "text": [
      "100%|████████████████████████████████████████████████████████████████████████████████| 114/114 [00:28<00:00,  4.03it/s]\n",
      "17it [00:05,  2.95it/s]\n"
     ]
    },
    {
     "name": "stdout",
     "output_type": "stream",
     "text": [
      "Epoch: 088, Loss: 0.32173\n",
      "all: h@1: 0.16718 h@5: 0.34228 h@10: 0.42099 ndcg@1: 0.16718 ndcg@5: 0.25902 ndcg@10: 0.28429\n",
      "new: h@1: 0.03139 h@5: 0.11809 h@10: 0.19283 ndcg@1: 0.03139 ndcg@5: 0.07308 ndcg@10: 0.09682\n",
      "rep: h@1: 0.26082 h@5: 0.49691 h@10: 0.57835 ndcg@1: 0.26082 ndcg@5: 0.38725 ndcg@10: 0.41359\n",
      "ratio:  0.5918242830994509\n"
     ]
    },
    {
     "name": "stderr",
     "output_type": "stream",
     "text": [
      "100%|████████████████████████████████████████████████████████████████████████████████| 114/114 [00:29<00:00,  3.91it/s]\n",
      "17it [00:05,  3.25it/s]\n"
     ]
    },
    {
     "name": "stdout",
     "output_type": "stream",
     "text": [
      "Epoch: 089, Loss: 0.32409\n",
      "all: h@1: 0.16718 h@5: 0.33984 h@10: 0.42282 ndcg@1: 0.16718 ndcg@5: 0.25825 ndcg@10: 0.28508\n",
      "new: h@1: 0.02990 h@5: 0.11659 h@10: 0.19731 ndcg@1: 0.02990 ndcg@5: 0.07227 ndcg@10: 0.09800\n",
      "rep: h@1: 0.26186 h@5: 0.49381 h@10: 0.57835 ndcg@1: 0.26186 ndcg@5: 0.38652 ndcg@10: 0.41412\n",
      "ratio:  0.5918242830994509\n"
     ]
    },
    {
     "name": "stderr",
     "output_type": "stream",
     "text": [
      "100%|████████████████████████████████████████████████████████████████████████████████| 114/114 [00:25<00:00,  4.46it/s]\n",
      "17it [00:05,  3.26it/s]\n"
     ]
    },
    {
     "name": "stdout",
     "output_type": "stream",
     "text": [
      "Epoch: 090, Loss: 0.32418\n",
      "all: h@1: 0.17023 h@5: 0.34350 h@10: 0.42282 ndcg@1: 0.17023 ndcg@5: 0.26147 ndcg@10: 0.28716\n",
      "new: h@1: 0.02990 h@5: 0.12407 h@10: 0.19880 ndcg@1: 0.02990 ndcg@5: 0.07531 ndcg@10: 0.09916\n",
      "rep: h@1: 0.26701 h@5: 0.49485 h@10: 0.57732 ndcg@1: 0.26701 ndcg@5: 0.38987 ndcg@10: 0.41682\n",
      "ratio:  0.5918242830994509\n"
     ]
    },
    {
     "name": "stderr",
     "output_type": "stream",
     "text": [
      "100%|████████████████████████████████████████████████████████████████████████████████| 114/114 [00:27<00:00,  4.20it/s]\n",
      "17it [00:05,  2.89it/s]\n"
     ]
    },
    {
     "name": "stdout",
     "output_type": "stream",
     "text": [
      "Epoch: 091, Loss: 0.32845\n",
      "all: h@1: 0.17511 h@5: 0.34716 h@10: 0.42282 ndcg@1: 0.17511 ndcg@5: 0.26442 ndcg@10: 0.28887\n",
      "new: h@1: 0.02840 h@5: 0.12706 h@10: 0.19880 ndcg@1: 0.02840 ndcg@5: 0.07582 ndcg@10: 0.09879\n",
      "rep: h@1: 0.27629 h@5: 0.49897 h@10: 0.57732 ndcg@1: 0.27629 ndcg@5: 0.39449 ndcg@10: 0.41997\n",
      "ratio:  0.5918242830994509\n"
     ]
    },
    {
     "name": "stderr",
     "output_type": "stream",
     "text": [
      "100%|████████████████████████████████████████████████████████████████████████████████| 114/114 [00:30<00:00,  3.70it/s]\n",
      "17it [00:05,  3.38it/s]\n"
     ]
    },
    {
     "name": "stdout",
     "output_type": "stream",
     "text": [
      "Epoch: 092, Loss: 0.32823\n",
      "all: h@1: 0.17572 h@5: 0.34899 h@10: 0.42465 ndcg@1: 0.17572 ndcg@5: 0.26556 ndcg@10: 0.29000\n",
      "new: h@1: 0.02691 h@5: 0.13004 h@10: 0.20329 ndcg@1: 0.02691 ndcg@5: 0.07616 ndcg@10: 0.09963\n",
      "rep: h@1: 0.27835 h@5: 0.50000 h@10: 0.57732 ndcg@1: 0.27835 ndcg@5: 0.39619 ndcg@10: 0.42131\n",
      "ratio:  0.5918242830994509\n"
     ]
    },
    {
     "name": "stderr",
     "output_type": "stream",
     "text": [
      "100%|████████████████████████████████████████████████████████████████████████████████| 114/114 [00:26<00:00,  4.34it/s]\n",
      "17it [00:05,  2.95it/s]\n"
     ]
    },
    {
     "name": "stdout",
     "output_type": "stream",
     "text": [
      "Epoch: 093, Loss: 0.32913\n",
      "all: h@1: 0.17694 h@5: 0.35143 h@10: 0.42526 ndcg@1: 0.17694 ndcg@5: 0.26715 ndcg@10: 0.29099\n",
      "new: h@1: 0.02840 h@5: 0.13453 h@10: 0.20329 ndcg@1: 0.02840 ndcg@5: 0.07879 ndcg@10: 0.10072\n",
      "rep: h@1: 0.27938 h@5: 0.50103 h@10: 0.57835 ndcg@1: 0.27938 ndcg@5: 0.39706 ndcg@10: 0.42222\n",
      "ratio:  0.5918242830994509\n"
     ]
    },
    {
     "name": "stderr",
     "output_type": "stream",
     "text": [
      "100%|████████████████████████████████████████████████████████████████████████████████| 114/114 [00:28<00:00,  4.01it/s]\n",
      "17it [00:05,  2.94it/s]\n"
     ]
    },
    {
     "name": "stdout",
     "output_type": "stream",
     "text": [
      "Epoch: 094, Loss: 0.33195\n",
      "all: h@1: 0.17755 h@5: 0.35021 h@10: 0.42770 ndcg@1: 0.17755 ndcg@5: 0.26722 ndcg@10: 0.29220\n",
      "new: h@1: 0.02840 h@5: 0.13303 h@10: 0.20478 ndcg@1: 0.02840 ndcg@5: 0.07869 ndcg@10: 0.10170\n",
      "rep: h@1: 0.28041 h@5: 0.50000 h@10: 0.58144 ndcg@1: 0.28041 ndcg@5: 0.39725 ndcg@10: 0.42359\n",
      "ratio:  0.5918242830994509\n"
     ]
    },
    {
     "name": "stderr",
     "output_type": "stream",
     "text": [
      "100%|████████████████████████████████████████████████████████████████████████████████| 114/114 [00:30<00:00,  3.72it/s]\n",
      "17it [00:05,  2.89it/s]\n"
     ]
    },
    {
     "name": "stdout",
     "output_type": "stream",
     "text": [
      "Epoch: 095, Loss: 0.33288\n",
      "all: h@1: 0.17694 h@5: 0.35204 h@10: 0.43136 ndcg@1: 0.17694 ndcg@5: 0.26765 ndcg@10: 0.29312\n",
      "new: h@1: 0.02840 h@5: 0.13453 h@10: 0.21076 ndcg@1: 0.02840 ndcg@5: 0.07917 ndcg@10: 0.10349\n",
      "rep: h@1: 0.27938 h@5: 0.50206 h@10: 0.58351 ndcg@1: 0.27938 ndcg@5: 0.39764 ndcg@10: 0.42390\n",
      "ratio:  0.5918242830994509\n"
     ]
    },
    {
     "name": "stderr",
     "output_type": "stream",
     "text": [
      "100%|████████████████████████████████████████████████████████████████████████████████| 114/114 [00:30<00:00,  3.72it/s]\n",
      "17it [00:05,  2.94it/s]\n"
     ]
    },
    {
     "name": "stdout",
     "output_type": "stream",
     "text": [
      "Epoch: 096, Loss: 0.33473\n",
      "all: h@1: 0.18060 h@5: 0.35265 h@10: 0.43441 ndcg@1: 0.18060 ndcg@5: 0.26916 ndcg@10: 0.29530\n",
      "new: h@1: 0.02990 h@5: 0.13303 h@10: 0.21226 ndcg@1: 0.02990 ndcg@5: 0.07888 ndcg@10: 0.10421\n",
      "rep: h@1: 0.28454 h@5: 0.50412 h@10: 0.58763 ndcg@1: 0.28454 ndcg@5: 0.40040 ndcg@10: 0.42710\n",
      "ratio:  0.5918242830994509\n"
     ]
    },
    {
     "name": "stderr",
     "output_type": "stream",
     "text": [
      "100%|████████████████████████████████████████████████████████████████████████████████| 114/114 [00:30<00:00,  3.72it/s]\n",
      "17it [00:06,  2.76it/s]\n"
     ]
    },
    {
     "name": "stdout",
     "output_type": "stream",
     "text": [
      "Epoch: 097, Loss: 0.33543\n",
      "all: h@1: 0.17938 h@5: 0.34899 h@10: 0.43258 ndcg@1: 0.17938 ndcg@5: 0.26747 ndcg@10: 0.29452\n",
      "new: h@1: 0.02990 h@5: 0.13004 h@10: 0.21226 ndcg@1: 0.02990 ndcg@5: 0.07823 ndcg@10: 0.10472\n",
      "rep: h@1: 0.28247 h@5: 0.50000 h@10: 0.58454 ndcg@1: 0.28247 ndcg@5: 0.39799 ndcg@10: 0.42542\n",
      "ratio:  0.5918242830994509\n"
     ]
    },
    {
     "name": "stderr",
     "output_type": "stream",
     "text": [
      "100%|████████████████████████████████████████████████████████████████████████████████| 114/114 [00:29<00:00,  3.89it/s]\n",
      "17it [00:06,  2.81it/s]\n"
     ]
    },
    {
     "name": "stdout",
     "output_type": "stream",
     "text": [
      "Epoch: 098, Loss: 0.33674\n",
      "all: h@1: 0.18060 h@5: 0.35143 h@10: 0.43746 ndcg@1: 0.18060 ndcg@5: 0.26943 ndcg@10: 0.29699\n",
      "new: h@1: 0.02990 h@5: 0.13154 h@10: 0.22123 ndcg@1: 0.02990 ndcg@5: 0.07932 ndcg@10: 0.10786\n",
      "rep: h@1: 0.28454 h@5: 0.50309 h@10: 0.58660 ndcg@1: 0.28454 ndcg@5: 0.40054 ndcg@10: 0.42743\n",
      "ratio:  0.5918242830994509\n"
     ]
    },
    {
     "name": "stderr",
     "output_type": "stream",
     "text": [
      "100%|████████████████████████████████████████████████████████████████████████████████| 114/114 [00:30<00:00,  3.71it/s]\n",
      "17it [00:05,  2.87it/s]\n"
     ]
    },
    {
     "name": "stdout",
     "output_type": "stream",
     "text": [
      "Epoch: 099, Loss: 0.33929\n",
      "all: h@1: 0.17938 h@5: 0.35082 h@10: 0.44051 ndcg@1: 0.17938 ndcg@5: 0.26845 ndcg@10: 0.29720\n",
      "new: h@1: 0.02990 h@5: 0.13154 h@10: 0.22571 ndcg@1: 0.02990 ndcg@5: 0.07932 ndcg@10: 0.10941\n",
      "rep: h@1: 0.28247 h@5: 0.50206 h@10: 0.58866 ndcg@1: 0.28247 ndcg@5: 0.39890 ndcg@10: 0.42672\n",
      "ratio:  0.5918242830994509\n"
     ]
    },
    {
     "name": "stderr",
     "output_type": "stream",
     "text": [
      "100%|████████████████████████████████████████████████████████████████████████████████| 114/114 [00:28<00:00,  4.06it/s]\n",
      "17it [00:04,  3.51it/s]\n"
     ]
    },
    {
     "name": "stdout",
     "output_type": "stream",
     "text": [
      "Epoch: 100, Loss: 0.33974\n",
      "all: h@1: 0.18304 h@5: 0.34960 h@10: 0.44295 ndcg@1: 0.18304 ndcg@5: 0.26968 ndcg@10: 0.29965\n",
      "new: h@1: 0.02990 h@5: 0.13154 h@10: 0.23318 ndcg@1: 0.02990 ndcg@5: 0.07962 ndcg@10: 0.11191\n",
      "rep: h@1: 0.28866 h@5: 0.50000 h@10: 0.58763 ndcg@1: 0.28866 ndcg@5: 0.40077 ndcg@10: 0.42914\n",
      "ratio:  0.5918242830994509\n"
     ]
    },
    {
     "name": "stderr",
     "output_type": "stream",
     "text": [
      "100%|████████████████████████████████████████████████████████████████████████████████| 114/114 [00:28<00:00,  4.03it/s]\n",
      "17it [00:05,  2.89it/s]\n"
     ]
    },
    {
     "name": "stdout",
     "output_type": "stream",
     "text": [
      "Epoch: 101, Loss: 0.34180\n",
      "all: h@1: 0.18548 h@5: 0.35265 h@10: 0.44417 ndcg@1: 0.18548 ndcg@5: 0.27149 ndcg@10: 0.30080\n",
      "new: h@1: 0.03139 h@5: 0.13752 h@10: 0.23468 ndcg@1: 0.03139 ndcg@5: 0.08248 ndcg@10: 0.11346\n",
      "rep: h@1: 0.29175 h@5: 0.50103 h@10: 0.58866 ndcg@1: 0.29175 ndcg@5: 0.40184 ndcg@10: 0.43001\n",
      "ratio:  0.5918242830994509\n"
     ]
    },
    {
     "name": "stderr",
     "output_type": "stream",
     "text": [
      "100%|████████████████████████████████████████████████████████████████████████████████| 114/114 [00:28<00:00,  3.95it/s]\n",
      "17it [00:05,  3.31it/s]\n"
     ]
    },
    {
     "name": "stdout",
     "output_type": "stream",
     "text": [
      "Epoch: 102, Loss: 0.34396\n",
      "all: h@1: 0.18609 h@5: 0.35265 h@10: 0.44417 ndcg@1: 0.18609 ndcg@5: 0.27167 ndcg@10: 0.30098\n",
      "new: h@1: 0.02990 h@5: 0.13901 h@10: 0.23318 ndcg@1: 0.02990 ndcg@5: 0.08225 ndcg@10: 0.11219\n",
      "rep: h@1: 0.29381 h@5: 0.50000 h@10: 0.58969 ndcg@1: 0.29381 ndcg@5: 0.40232 ndcg@10: 0.43118\n",
      "ratio:  0.5918242830994509\n"
     ]
    },
    {
     "name": "stderr",
     "output_type": "stream",
     "text": [
      "100%|████████████████████████████████████████████████████████████████████████████████| 114/114 [00:29<00:00,  3.87it/s]\n",
      "17it [00:05,  2.95it/s]\n"
     ]
    },
    {
     "name": "stdout",
     "output_type": "stream",
     "text": [
      "Epoch: 103, Loss: 0.34485\n",
      "all: h@1: 0.18365 h@5: 0.35265 h@10: 0.44356 ndcg@1: 0.18365 ndcg@5: 0.27080 ndcg@10: 0.30002\n",
      "new: h@1: 0.02990 h@5: 0.13752 h@10: 0.23169 ndcg@1: 0.02990 ndcg@5: 0.08177 ndcg@10: 0.11206\n",
      "rep: h@1: 0.28969 h@5: 0.50103 h@10: 0.58969 ndcg@1: 0.28969 ndcg@5: 0.40117 ndcg@10: 0.42965\n",
      "ratio:  0.5918242830994509\n"
     ]
    },
    {
     "name": "stderr",
     "output_type": "stream",
     "text": [
      "100%|████████████████████████████████████████████████████████████████████████████████| 114/114 [00:29<00:00,  3.82it/s]\n",
      "17it [00:05,  3.28it/s]\n"
     ]
    },
    {
     "name": "stdout",
     "output_type": "stream",
     "text": [
      "Epoch: 104, Loss: 0.34553\n",
      "all: h@1: 0.18304 h@5: 0.35509 h@10: 0.44112 ndcg@1: 0.18304 ndcg@5: 0.27143 ndcg@10: 0.29902\n",
      "new: h@1: 0.02840 h@5: 0.14051 h@10: 0.23318 ndcg@1: 0.02840 ndcg@5: 0.08258 ndcg@10: 0.11221\n",
      "rep: h@1: 0.28969 h@5: 0.50309 h@10: 0.58454 ndcg@1: 0.28969 ndcg@5: 0.40167 ndcg@10: 0.42786\n",
      "ratio:  0.5918242830994509\n"
     ]
    },
    {
     "name": "stderr",
     "output_type": "stream",
     "text": [
      "100%|████████████████████████████████████████████████████████████████████████████████| 114/114 [00:26<00:00,  4.30it/s]\n",
      "17it [00:05,  3.32it/s]\n"
     ]
    },
    {
     "name": "stdout",
     "output_type": "stream",
     "text": [
      "Epoch: 105, Loss: 0.34647\n",
      "all: h@1: 0.18365 h@5: 0.35326 h@10: 0.44539 ndcg@1: 0.18365 ndcg@5: 0.27095 ndcg@10: 0.30056\n",
      "new: h@1: 0.02840 h@5: 0.14350 h@10: 0.23767 ndcg@1: 0.02840 ndcg@5: 0.08385 ndcg@10: 0.11389\n",
      "rep: h@1: 0.29072 h@5: 0.49794 h@10: 0.58866 ndcg@1: 0.29072 ndcg@5: 0.40000 ndcg@10: 0.42931\n",
      "ratio:  0.5918242830994509\n"
     ]
    },
    {
     "name": "stderr",
     "output_type": "stream",
     "text": [
      "100%|████████████████████████████████████████████████████████████████████████████████| 114/114 [00:29<00:00,  3.90it/s]\n",
      "17it [00:05,  3.14it/s]\n"
     ]
    },
    {
     "name": "stdout",
     "output_type": "stream",
     "text": [
      "Epoch: 106, Loss: 0.34815\n",
      "all: h@1: 0.18365 h@5: 0.35326 h@10: 0.44722 ndcg@1: 0.18365 ndcg@5: 0.27120 ndcg@10: 0.30134\n",
      "new: h@1: 0.02840 h@5: 0.13901 h@10: 0.23916 ndcg@1: 0.02840 ndcg@5: 0.08275 ndcg@10: 0.11494\n",
      "rep: h@1: 0.29072 h@5: 0.50103 h@10: 0.59072 ndcg@1: 0.29072 ndcg@5: 0.40117 ndcg@10: 0.42990\n",
      "ratio:  0.5918242830994509\n"
     ]
    },
    {
     "name": "stderr",
     "output_type": "stream",
     "text": [
      "100%|████████████████████████████████████████████████████████████████████████████████| 114/114 [00:26<00:00,  4.38it/s]\n",
      "17it [00:04,  3.46it/s]\n"
     ]
    },
    {
     "name": "stdout",
     "output_type": "stream",
     "text": [
      "Epoch: 107, Loss: 0.34862\n",
      "all: h@1: 0.18426 h@5: 0.35265 h@10: 0.44722 ndcg@1: 0.18426 ndcg@5: 0.27168 ndcg@10: 0.30213\n",
      "new: h@1: 0.02691 h@5: 0.14200 h@10: 0.24365 ndcg@1: 0.02691 ndcg@5: 0.08366 ndcg@10: 0.11632\n",
      "rep: h@1: 0.29278 h@5: 0.49794 h@10: 0.58763 ndcg@1: 0.29278 ndcg@5: 0.40136 ndcg@10: 0.43028\n",
      "ratio:  0.5918242830994509\n"
     ]
    },
    {
     "name": "stderr",
     "output_type": "stream",
     "text": [
      "100%|████████████████████████████████████████████████████████████████████████████████| 114/114 [00:27<00:00,  4.12it/s]\n",
      "17it [00:05,  2.90it/s]\n"
     ]
    },
    {
     "name": "stdout",
     "output_type": "stream",
     "text": [
      "Epoch: 108, Loss: 0.35059\n",
      "all: h@1: 0.18487 h@5: 0.35448 h@10: 0.44661 ndcg@1: 0.18487 ndcg@5: 0.27288 ndcg@10: 0.30260\n",
      "new: h@1: 0.02840 h@5: 0.14350 h@10: 0.24215 ndcg@1: 0.02840 ndcg@5: 0.08480 ndcg@10: 0.11666\n",
      "rep: h@1: 0.29278 h@5: 0.50000 h@10: 0.58763 ndcg@1: 0.29278 ndcg@5: 0.40261 ndcg@10: 0.43084\n",
      "ratio:  0.5918242830994509\n"
     ]
    },
    {
     "name": "stderr",
     "output_type": "stream",
     "text": [
      "100%|████████████████████████████████████████████████████████████████████████████████| 114/114 [00:24<00:00,  4.66it/s]\n",
      "17it [00:04,  3.45it/s]\n"
     ]
    },
    {
     "name": "stdout",
     "output_type": "stream",
     "text": [
      "Epoch: 109, Loss: 0.35017\n",
      "all: h@1: 0.18243 h@5: 0.35448 h@10: 0.44722 ndcg@1: 0.18243 ndcg@5: 0.27201 ndcg@10: 0.30189\n",
      "new: h@1: 0.02840 h@5: 0.14200 h@10: 0.24365 ndcg@1: 0.02840 ndcg@5: 0.08432 ndcg@10: 0.11721\n",
      "rep: h@1: 0.28866 h@5: 0.50103 h@10: 0.58763 ndcg@1: 0.28866 ndcg@5: 0.40146 ndcg@10: 0.42926\n",
      "ratio:  0.5918242830994509\n"
     ]
    },
    {
     "name": "stderr",
     "output_type": "stream",
     "text": [
      "100%|████████████████████████████████████████████████████████████████████████████████| 114/114 [00:25<00:00,  4.47it/s]\n",
      "17it [00:06,  2.83it/s]\n"
     ]
    },
    {
     "name": "stdout",
     "output_type": "stream",
     "text": [
      "Epoch: 110, Loss: 0.35179\n",
      "all: h@1: 0.18182 h@5: 0.35448 h@10: 0.44722 ndcg@1: 0.18182 ndcg@5: 0.27175 ndcg@10: 0.30156\n",
      "new: h@1: 0.02691 h@5: 0.14350 h@10: 0.24514 ndcg@1: 0.02691 ndcg@5: 0.08432 ndcg@10: 0.11704\n",
      "rep: h@1: 0.28866 h@5: 0.50000 h@10: 0.58660 ndcg@1: 0.28866 ndcg@5: 0.40101 ndcg@10: 0.42883\n",
      "ratio:  0.5918242830994509\n"
     ]
    },
    {
     "name": "stderr",
     "output_type": "stream",
     "text": [
      "100%|████████████████████████████████████████████████████████████████████████████████| 114/114 [00:25<00:00,  4.49it/s]\n",
      "17it [00:05,  3.35it/s]\n"
     ]
    },
    {
     "name": "stdout",
     "output_type": "stream",
     "text": [
      "Epoch: 111, Loss: 0.35213\n",
      "all: h@1: 0.18182 h@5: 0.35692 h@10: 0.44905 ndcg@1: 0.18182 ndcg@5: 0.27281 ndcg@10: 0.30237\n",
      "new: h@1: 0.02541 h@5: 0.14649 h@10: 0.25112 ndcg@1: 0.02541 ndcg@5: 0.08512 ndcg@10: 0.11866\n",
      "rep: h@1: 0.28969 h@5: 0.50206 h@10: 0.58557 ndcg@1: 0.28969 ndcg@5: 0.40225 ndcg@10: 0.42908\n",
      "ratio:  0.5918242830994509\n"
     ]
    },
    {
     "name": "stderr",
     "output_type": "stream",
     "text": [
      "100%|████████████████████████████████████████████████████████████████████████████████| 114/114 [00:24<00:00,  4.65it/s]\n",
      "17it [00:05,  3.09it/s]\n"
     ]
    },
    {
     "name": "stdout",
     "output_type": "stream",
     "text": [
      "Epoch: 112, Loss: 0.35340\n",
      "all: h@1: 0.17938 h@5: 0.35631 h@10: 0.44783 ndcg@1: 0.17938 ndcg@5: 0.27146 ndcg@10: 0.30087\n",
      "new: h@1: 0.02541 h@5: 0.14798 h@10: 0.25112 ndcg@1: 0.02541 ndcg@5: 0.08603 ndcg@10: 0.11901\n",
      "rep: h@1: 0.28557 h@5: 0.50000 h@10: 0.58351 ndcg@1: 0.28557 ndcg@5: 0.39936 ndcg@10: 0.42630\n",
      "ratio:  0.5918242830994509\n"
     ]
    },
    {
     "name": "stderr",
     "output_type": "stream",
     "text": [
      "100%|████████████████████████████████████████████████████████████████████████████████| 114/114 [00:25<00:00,  4.54it/s]\n",
      "17it [00:05,  2.85it/s]\n"
     ]
    },
    {
     "name": "stdout",
     "output_type": "stream",
     "text": [
      "Epoch: 113, Loss: 0.35509\n",
      "all: h@1: 0.17938 h@5: 0.35509 h@10: 0.44783 ndcg@1: 0.17938 ndcg@5: 0.27136 ndcg@10: 0.30119\n",
      "new: h@1: 0.02691 h@5: 0.14798 h@10: 0.25411 ndcg@1: 0.02691 ndcg@5: 0.08758 ndcg@10: 0.12146\n",
      "rep: h@1: 0.28454 h@5: 0.49794 h@10: 0.58144 ndcg@1: 0.28454 ndcg@5: 0.39811 ndcg@10: 0.42514\n",
      "ratio:  0.5918242830994509\n"
     ]
    },
    {
     "name": "stderr",
     "output_type": "stream",
     "text": [
      "100%|████████████████████████████████████████████████████████████████████████████████| 114/114 [00:24<00:00,  4.64it/s]\n",
      "17it [00:06,  2.79it/s]\n"
     ]
    },
    {
     "name": "stdout",
     "output_type": "stream",
     "text": [
      "Epoch: 114, Loss: 0.35464\n",
      "all: h@1: 0.17938 h@5: 0.35387 h@10: 0.44905 ndcg@1: 0.17938 ndcg@5: 0.27077 ndcg@10: 0.30147\n",
      "new: h@1: 0.02990 h@5: 0.14798 h@10: 0.25262 ndcg@1: 0.02990 ndcg@5: 0.08869 ndcg@10: 0.12230\n",
      "rep: h@1: 0.28247 h@5: 0.49588 h@10: 0.58454 ndcg@1: 0.28247 ndcg@5: 0.39634 ndcg@10: 0.42505\n",
      "ratio:  0.5918242830994509\n"
     ]
    },
    {
     "name": "stderr",
     "output_type": "stream",
     "text": [
      "100%|████████████████████████████████████████████████████████████████████████████████| 114/114 [00:25<00:00,  4.50it/s]\n",
      "17it [00:05,  3.07it/s]\n"
     ]
    },
    {
     "name": "stdout",
     "output_type": "stream",
     "text": [
      "Epoch: 115, Loss: 0.35509\n",
      "all: h@1: 0.18060 h@5: 0.35387 h@10: 0.44783 ndcg@1: 0.18060 ndcg@5: 0.27103 ndcg@10: 0.30128\n",
      "new: h@1: 0.02840 h@5: 0.14948 h@10: 0.25112 ndcg@1: 0.02840 ndcg@5: 0.08860 ndcg@10: 0.12131\n",
      "rep: h@1: 0.28557 h@5: 0.49485 h@10: 0.58351 ndcg@1: 0.28557 ndcg@5: 0.39685 ndcg@10: 0.42540\n",
      "ratio:  0.5918242830994509\n"
     ]
    },
    {
     "name": "stderr",
     "output_type": "stream",
     "text": [
      "100%|████████████████████████████████████████████████████████████████████████████████| 114/114 [00:24<00:00,  4.57it/s]\n",
      "17it [00:05,  2.98it/s]\n"
     ]
    },
    {
     "name": "stdout",
     "output_type": "stream",
     "text": [
      "Epoch: 116, Loss: 0.35662\n",
      "all: h@1: 0.18182 h@5: 0.35265 h@10: 0.44539 ndcg@1: 0.18182 ndcg@5: 0.27098 ndcg@10: 0.30088\n",
      "new: h@1: 0.02691 h@5: 0.15097 h@10: 0.24813 ndcg@1: 0.02691 ndcg@5: 0.08912 ndcg@10: 0.12028\n",
      "rep: h@1: 0.28866 h@5: 0.49175 h@10: 0.58144 ndcg@1: 0.28866 ndcg@5: 0.39641 ndcg@10: 0.42543\n",
      "ratio:  0.5918242830994509\n"
     ]
    },
    {
     "name": "stderr",
     "output_type": "stream",
     "text": [
      "100%|████████████████████████████████████████████████████████████████████████████████| 114/114 [00:26<00:00,  4.29it/s]\n",
      "17it [00:05,  2.99it/s]\n"
     ]
    },
    {
     "name": "stdout",
     "output_type": "stream",
     "text": [
      "Epoch: 117, Loss: 0.35684\n",
      "all: h@1: 0.17816 h@5: 0.35326 h@10: 0.44600 ndcg@1: 0.17816 ndcg@5: 0.26977 ndcg@10: 0.29967\n",
      "new: h@1: 0.02990 h@5: 0.15247 h@10: 0.24963 ndcg@1: 0.02990 ndcg@5: 0.09067 ndcg@10: 0.12178\n",
      "rep: h@1: 0.28041 h@5: 0.49175 h@10: 0.58144 ndcg@1: 0.28041 ndcg@5: 0.39329 ndcg@10: 0.42236\n",
      "ratio:  0.5918242830994509\n"
     ]
    },
    {
     "name": "stderr",
     "output_type": "stream",
     "text": [
      "24it [00:09,  2.58it/s]"
     ]
    },
    {
     "name": "stdout",
     "output_type": "stream",
     "text": [
      "Final score\n",
      "===========\n",
      "Epoch: 117, Loss: 0.35684\n",
      "all: h@1: 0.18024 h@5: 0.33727 h@10: 0.41959 ndcg@1: 0.18024 ndcg@5: 0.26280 ndcg@10: 0.28948\n",
      "new: h@1: 0.02203 h@5: 0.13341 h@10: 0.22521 ndcg@1: 0.02203 ndcg@5: 0.08079 ndcg@10: 0.11037\n",
      "rep: h@1: 0.26353 h@5: 0.44459 h@10: 0.52191 ndcg@1: 0.26353 ndcg@5: 0.35861 ndcg@10: 0.38377\n",
      "ratio:  0.6551287463064585\n"
     ]
    },
    {
     "name": "stderr",
     "output_type": "stream",
     "text": [
      "\n"
     ]
    }
   ],
   "source": [
    "print(\"training...\")\n",
    "for epoch in range(args.num_epochs):\n",
    "    loss_all = 0.0; loss_cnt = 0\n",
    "    model4.train()\n",
    "    for data in tqdm(train_loader):\n",
    "        data = data.to(args.device)\n",
    "        optimizer.zero_grad()\n",
    "    \n",
    "        loss = model4.train_step(data)\n",
    "            \n",
    "        loss_all += loss.item()\n",
    "        loss_cnt += (data[:,:,5]!=0).sum()\n",
    "            \n",
    "        loss.backward()\n",
    "        optimizer.step()\n",
    "            \n",
    "        if torch.isnan(loss):\n",
    "            print(\"loss is nan !\") \n",
    "    \n",
    "    scores = compute_recall(model4, val_loader, args, maxit=500)\n",
    "    print('Epoch: {:03d}, Loss: {:.5f}'.format(epoch, loss_all/loss_cnt))\n",
    "    print_scores(scores)\n",
    "    \n",
    "    hall = scores['all']['h01']\n",
    "    if hall>best_val:\n",
    "        best_val = hall\n",
    "        torch.save(model4.state_dict(), MPATH)\n",
    "        best_cnt = best_max\n",
    "    else:\n",
    "        best_cnt -= 1\n",
    "        if best_cnt == 0:\n",
    "            break\n",
    "    \n",
    "model4 = MODEL4(args).to(args.device)\n",
    "model4.load_state_dict(torch.load(MPATH))\n",
    "    \n",
    "scores = compute_recall(model4, test_loader, args)\n",
    "print(\"Final score\")\n",
    "print(\"=\"*11)\n",
    "print('Epoch: {:03d}, Loss: {:.5f}'.format(epoch, loss_all/loss_cnt))\n",
    "print_scores(scores)\n",
    "save_scores(scores,args)"
   ]
  },
  {
   "cell_type": "code",
   "execution_count": null,
   "id": "80509ddc",
   "metadata": {},
   "outputs": [],
   "source": []
  },
  {
   "cell_type": "code",
   "execution_count": null,
   "id": "05ff10f9",
   "metadata": {},
   "outputs": [],
   "source": [
    "class GRUModel(nn.Module):\n",
    "    def __init__(self, args,data_tr):\n",
    "        super(GRUModel, self).__init__()\n",
    "        self.gru = nn.GRU(input_size, hidden_size, batch_first=True)\n",
    "        self.fc = nn.Linear(hidden_size, output_size)\n",
    "        \n",
    "        self.item_bias = torch.nn.Embedding(args.N+1, 1, padding_idx=0)\n",
    "        self.item_embedding = torch.nn.Embedding(args.N+1, args.K, padding_idx=0)\n",
    "        self.user_embedding = torch.nn.Embedding(args.M+1, args.K, padding_idx=0)\n",
    "        self.dur_emb = nn.Embedding(args.D+1, args.K, padding_idx=0)\n",
    "        \n",
    "    def forward(self, x):\n",
    "        # x shape: (batch_size, seq_length, input_size)\n",
    "        # hidden shape: (num_layers * num_directions, batch_size, hidden_size)\n",
    "        out, hidden = self.gru(x)\n",
    "        # out shape: (batch_size, seq_length, hidden_size * num_directions)\n",
    "        # hidden shape: (num_layers * num_directions, batch_size, hidden_size)\n",
    "        out = out[:, -1, :] # get the last output of the sequence\n",
    "        # out shape: (batch_size, hidden_size)\n",
    "        out = self.fc(out) # apply a linear layer\n",
    "        # out shape: (batch_size, output_size)\n",
    "        return out\n",
    "        \n",
    "\n",
    "    \n",
    "    \n",
    "    def forward(self,users,items):\n",
    "        ui = self.user_embedding(users)\n",
    "        ii = self.item_embedding(items)\n",
    "        di = self.item_embedding(items)\n",
    "        ib = self.item_bias(items).squeeze()\n",
    "        return (ui * ii).sum(-1) + ib\n",
    "\n",
    "    def train_step(self, data, use_ctx=False): # for training\n",
    "        bs     = data.shape[0]\n",
    "        inputs = data[:,:,3] \n",
    "        pos    = data[:,:,5] \n",
    "        users  = data[:,:,4] \n",
    "        neg    = sample_negs(data,self.args).to(self.args.device)\n",
    "        \n",
    "        inputs = data[:,:,3] # inputs \n",
    "        pos   = data[:,:,5] # targets\n",
    "        xtsy  = data[:,:,6] # targets ts\n",
    "        dur   = data[:,:,7] # duration\n",
    "\n",
    "        pos_logits = self(users,pos)\n",
    "        neg_logits = self(users,neg) \n",
    "\n",
    "        loss = - (pos_logits - neg_logits).sigmoid().log()\n",
    "        loss = loss[inputs!=0].sum()\n",
    "\n",
    "        return loss\n",
    "\n",
    "    def compute_rank(self,data,store,k=10):\n",
    "        inputs = data[:,:,3] \n",
    "        pos    = data[:,:,5] \n",
    "        users  = data[:,:,4] \n",
    "        xtsy   = data[:,:,6] # targets ts\n",
    "\n",
    "        mask = torch.ones_like(pos[:,-1]).type(torch.bool) # (1,1,1,1,1,1,1)\n",
    "        for b in range(pos.shape[0]):\n",
    "            avt = pos[b,:-1]\n",
    "            avt = avt[avt!=0] # avt: targets\n",
    "            mask[b] = pos[b,-1] in avt\n",
    "            store['ratio'] += [float(pos[b,-1] in avt)]\n",
    "            \n",
    "        for b in range(inputs.shape[0]):\n",
    "            step = xtsy[b,-1].item()\n",
    "            av = torch.LongTensor(self.args.ts[step]).to(self.args.device)\n",
    "            av_embs = self.item_embedding(av)\n",
    " \n",
    "            if self.mf_avg:\n",
    "                inp = inputs[b,:]\n",
    "                mean_vec = self.item_embedding(inp[inp!=0])\n",
    "                scores  = (mean_vec.mean(0).unsqueeze(0) * av_embs).sum(-1) \n",
    "                scores += self.item_bias(av).squeeze()\n",
    "            else:\n",
    "                u_vec = self.user_embedding(users[b,-1])\n",
    "                scores  = (u_vec.unsqueeze(0) * av_embs).sum(-1) \n",
    "                scores += self.item_bias(av).squeeze()\n",
    "\n",
    "            iseq = pos[b,-1] == av\n",
    "            idx = torch.where(iseq)\n",
    "            idx = idx[0] \n",
    "            rank = torch.where(torch.argsort(scores, descending=True)==idx)[0].item()\n",
    "\n",
    "            if mask[b]: # rep\n",
    "                store['rrep'] += [rank]\n",
    "            else:\n",
    "                store['rnew'] += [rank]\n",
    "            store['rall'] += [rank]\n",
    "        return store"
   ]
  }
 ],
 "metadata": {
  "kernelspec": {
   "display_name": "base",
   "language": "python",
   "name": "base"
  },
  "language_info": {
   "codemirror_mode": {
    "name": "ipython",
    "version": 3
   },
   "file_extension": ".py",
   "mimetype": "text/x-python",
   "name": "python",
   "nbconvert_exporter": "python",
   "pygments_lexer": "ipython3",
   "version": "3.9.13"
  }
 },
 "nbformat": 4,
 "nbformat_minor": 5
}
